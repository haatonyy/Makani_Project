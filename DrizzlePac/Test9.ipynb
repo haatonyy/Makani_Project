{
 "cells": [
  {
   "cell_type": "code",
   "execution_count": 1,
   "id": "920275be",
   "metadata": {},
   "outputs": [
    {
     "name": "stdout",
     "output_type": "stream",
     "text": [
      "\n",
      "\n",
      "The following task in the stsci.skypac package can be run with TEAL:\n",
      "                                    skymatch                                    \n",
      "The following tasks in the drizzlepac package can be run with TEAL:\n",
      "    astrodrizzle       config_testbed      imagefindpars           mapreg       \n",
      "       photeq            pixreplace           pixtopix            pixtosky      \n",
      "  refimagefindpars       resetbits          runastrodriz          skytopix      \n",
      "     tweakback            tweakreg           updatenpol\n"
     ]
    }
   ],
   "source": [
    "from astroquery.mast import Observations\n",
    "from ccdproc import ImageFileCollection\n",
    "from astropy.table import Table\n",
    "from astropy.io import fits\n",
    "from astropy.io import ascii\n",
    "from astropy.visualization import ZScaleInterval\n",
    "from IPython.display import Image\n",
    "import glob\n",
    "import matplotlib.pyplot as plt\n",
    "import numpy as np\n",
    "import os\n",
    "import shutil\n",
    "from drizzlepac import tweakreg\n",
    "from drizzlepac import astrodrizzle"
   ]
  },
  {
   "cell_type": "code",
   "execution_count": 55,
   "id": "ce5e2621",
   "metadata": {},
   "outputs": [
    {
     "name": "stdout",
     "output_type": "stream",
     "text": [
      "Downloading URL https://mast.stsci.edu/api/v0.1/Download/file?uri=mast:HST/product/hst_16231_09_acs_sbc_f150lp_jec409i9_flt.fits to ./science/mastDownload/HST/hst_16231_09_acs_sbc_f150lp_jec409i9/hst_16231_09_acs_sbc_f150lp_jec409i9_flt.fits ... [Done]\n",
      "Downloading URL https://mast.stsci.edu/api/v0.1/Download/file?uri=mast:HST/product/hst_16231_09_acs_sbc_f150lp_jec409ia_flt.fits to ./science/mastDownload/HST/hst_16231_09_acs_sbc_f150lp_jec409ia/hst_16231_09_acs_sbc_f150lp_jec409ia_flt.fits ... [Done]\n",
      "Downloading URL https://mast.stsci.edu/api/v0.1/Download/file?uri=mast:HST/product/jec409i7q_flt.fits to ./science/mastDownload/HST/jec409i7q/jec409i7q_flt.fits ... [Done]\n",
      "Downloading URL https://mast.stsci.edu/api/v0.1/Download/file?uri=mast:HST/product/jec409i8q_flt.fits to ./science/mastDownload/HST/jec409i8q/jec409i8q_flt.fits ... [Done]\n",
      "Downloading URL https://mast.stsci.edu/api/v0.1/Download/file?uri=mast:HST/product/jec409i9q_flt.fits to ./science/mastDownload/HST/jec409i9q/jec409i9q_flt.fits ... [Done]\n",
      "Downloading URL https://mast.stsci.edu/api/v0.1/Download/file?uri=mast:HST/product/jec409iaq_flt.fits to ./science/mastDownload/HST/jec409iaq/jec409iaq_flt.fits ... [Done]\n"
     ]
    }
   ],
   "source": [
    "science_list = Observations.query_criteria(proposal_id='16231', filters='F150LP',obs_id='jec409*')\n",
    "Observations.download_products(science_list['obsid'], mrp_only=False, download_dir='./science',\\\n",
    "                               productSubGroupDescription=['FLT'])\n",
    "\n",
    "science_files = glob.glob(os.path.join(os.curdir, 'science', 'mastDownload', 'HST', '*', '*fits'))\n",
    "for im in science_files:\n",
    "    root = im.split('/')[-1]\n",
    "    os.rename(im, './' + root)\n",
    "shutil.rmtree('science/')"
   ]
  },
  {
   "cell_type": "code",
   "execution_count": 3,
   "id": "517e07ec",
   "metadata": {},
   "outputs": [
    {
     "name": "stdout",
     "output_type": "stream",
     "text": [
      "Downloading URL https://mast.stsci.edu/api/v0.1/Download/file?uri=mast:HST/product/hst_16231_03_acs_sbc_f150lp_jec403ib_flt.fits to ./science/mastDownload/HST/hst_16231_03_acs_sbc_f150lp_jec403ib/hst_16231_03_acs_sbc_f150lp_jec403ib_flt.fits ... [Done]\n",
      "Downloading URL https://mast.stsci.edu/api/v0.1/Download/file?uri=mast:HST/product/hst_16231_03_acs_sbc_f150lp_jec403ic_flt.fits to ./science/mastDownload/HST/hst_16231_03_acs_sbc_f150lp_jec403ic/hst_16231_03_acs_sbc_f150lp_jec403ic_flt.fits ... [Done]\n",
      "Downloading URL https://mast.stsci.edu/api/v0.1/Download/file?uri=mast:HST/product/hst_16231_03_acs_sbc_f150lp_jec403id_flt.fits to ./science/mastDownload/HST/hst_16231_03_acs_sbc_f150lp_jec403id/hst_16231_03_acs_sbc_f150lp_jec403id_flt.fits ... [Done]\n",
      "Downloading URL https://mast.stsci.edu/api/v0.1/Download/file?uri=mast:HST/product/hst_16231_03_acs_sbc_f150lp_jec403ie_flt.fits to ./science/mastDownload/HST/hst_16231_03_acs_sbc_f150lp_jec403ie/hst_16231_03_acs_sbc_f150lp_jec403ie_flt.fits ... [Done]\n",
      "Downloading URL https://mast.stsci.edu/api/v0.1/Download/file?uri=mast:HST/product/jec403ibq_flt.fits to ./science/mastDownload/HST/jec403ibq/jec403ibq_flt.fits ... [Done]\n",
      "Downloading URL https://mast.stsci.edu/api/v0.1/Download/file?uri=mast:HST/product/jec403icq_flt.fits to ./science/mastDownload/HST/jec403icq/jec403icq_flt.fits ... [Done]\n",
      "Downloading URL https://mast.stsci.edu/api/v0.1/Download/file?uri=mast:HST/product/jec403idq_flt.fits to ./science/mastDownload/HST/jec403idq/jec403idq_flt.fits ... [Done]\n",
      "Downloading URL https://mast.stsci.edu/api/v0.1/Download/file?uri=mast:HST/product/jec403ieq_flt.fits to ./science/mastDownload/HST/jec403ieq/jec403ieq_flt.fits ... [Done]\n"
     ]
    }
   ],
   "source": [
    "science_list = Observations.query_criteria(proposal_id='16231', filters='F150LP',obs_id='jec403*')\n",
    "Observations.download_products(science_list['obsid'], mrp_only=False, download_dir='./science',\\\n",
    "                               productSubGroupDescription=['FLT'])\n",
    "\n",
    "science_files = glob.glob(os.path.join(os.curdir, 'science', 'mastDownload', 'HST', '*', '*fits'))\n",
    "for im in science_files:\n",
    "    root = im.split('/')[-1]\n",
    "    os.rename(im, './' + root)\n",
    "shutil.rmtree('science/')"
   ]
  },
  {
   "cell_type": "code",
   "execution_count": 4,
   "id": "3b72db19",
   "metadata": {},
   "outputs": [],
   "source": [
    "no = 'hst_16231_01_acs_sbc_f150lp_jec401no_flt.fits'\n",
    "nr = 'hst_16231_01_acs_sbc_f150lp_jec401nr_flt.fits'\n",
    "nv = 'hst_16231_01_acs_sbc_f150lp_jec401nv_flt.fits'\n",
    "nx = 'hst_16231_01_acs_sbc_f150lp_jec401nx_flt.fits'\n",
    "lst_1 = [no, nr, nv, nx]"
   ]
  },
  {
   "cell_type": "code",
   "execution_count": 5,
   "id": "c6f10a96",
   "metadata": {},
   "outputs": [],
   "source": [
    "ib = 'hst_16231_03_acs_sbc_f150lp_jec403ib_flt.fits'\n",
    "ic = 'hst_16231_03_acs_sbc_f150lp_jec403ic_flt.fits'\n",
    "id3 = 'hst_16231_03_acs_sbc_f150lp_jec403id_flt.fits'\n",
    "ie = 'hst_16231_03_acs_sbc_f150lp_jec403ie_flt.fits'\n",
    "lst_3 = [ib, ic, id3, ie]"
   ]
  },
  {
   "cell_type": "code",
   "execution_count": null,
   "id": "a3c38445",
   "metadata": {},
   "outputs": [],
   "source": [
    "no_f = fits.open(no)\n",
    "data = no_f[1].data"
   ]
  },
  {
   "cell_type": "code",
   "execution_count": null,
   "id": "807491e9",
   "metadata": {},
   "outputs": [],
   "source": [
    "plt.imshow(data)"
   ]
  },
  {
   "cell_type": "code",
   "execution_count": null,
   "id": "e9fd5b37",
   "metadata": {},
   "outputs": [],
   "source": [
    "plt.imshow(data[410:430, 480:500])"
   ]
  },
  {
   "cell_type": "code",
   "execution_count": null,
   "id": "813f9635",
   "metadata": {},
   "outputs": [],
   "source": [
    "plt.imshow(data[390:450, 470:520])"
   ]
  },
  {
   "cell_type": "code",
   "execution_count": null,
   "id": "0378f1fe",
   "metadata": {},
   "outputs": [],
   "source": [
    "data_small = no_f[1].data[410:430, 480:500]"
   ]
  },
  {
   "cell_type": "code",
   "execution_count": null,
   "id": "e7deeddc",
   "metadata": {},
   "outputs": [],
   "source": [
    "max_i = 0\n",
    "max_j = 0\n",
    "maxval = 0\n",
    "for i in range(len(data_small)):\n",
    "    for j in range(len(data_small[i])):\n",
    "        if data_small[i][j] > maxval:\n",
    "            maxval = data_small[i][j]\n",
    "            max_i = i\n",
    "            max_j = j\n",
    "            \n",
    "print(max_i, max_j, maxval)"
   ]
  },
  {
   "cell_type": "code",
   "execution_count": null,
   "id": "4f84f873",
   "metadata": {},
   "outputs": [],
   "source": [
    "data[417][489]"
   ]
  },
  {
   "cell_type": "code",
   "execution_count": null,
   "id": "4492ab02",
   "metadata": {},
   "outputs": [],
   "source": [
    "data[510][]"
   ]
  },
  {
   "cell_type": "code",
   "execution_count": null,
   "id": "b0d83001",
   "metadata": {},
   "outputs": [],
   "source": [
    "CRVAL1 = no_f[1].header['CRVAL1']\n",
    "CRVAL2 = no_f[1].header['CRVAL2']\n",
    "CRPIX1 = no_f[1].header['CRPIX1']\n",
    "CRPIX2 = no_f[1].header['CRPIX2']\n",
    "CD1_1 = no_f[1].header['CD1_1']\n",
    "CD1_2 = no_f[1].header['CD1_2']\n",
    "CD2_1 = no_f[1].header['CD2_1']\n",
    "CD2_2 = no_f[1].header['CD2_2']"
   ]
  },
  {
   "cell_type": "code",
   "execution_count": null,
   "id": "71896287",
   "metadata": {},
   "outputs": [],
   "source": [
    "A = np.array([[CD1_1, CD1_2], [CD2_1, CD2_2]])\n",
    "A_inv = np.linalg.inv(A)\n",
    "B = np.array([[CRVAL1],[CRVAL2]])\n",
    "r0 = np.array([[CRPIX1],[CRPIX2]])"
   ]
  },
  {
   "cell_type": "code",
   "execution_count": null,
   "id": "05104adc",
   "metadata": {},
   "outputs": [],
   "source": [
    "B"
   ]
  },
  {
   "cell_type": "code",
   "execution_count": null,
   "id": "0618a86c",
   "metadata": {},
   "outputs": [],
   "source": [
    "x, y = 512, 512\n",
    "r = np.array([[x],[y]])"
   ]
  },
  {
   "cell_type": "code",
   "execution_count": null,
   "id": "f9b55fcc",
   "metadata": {},
   "outputs": [],
   "source": [
    "def coo_pixtosky(r):\n",
    "    return np.matmul(A, r-r0) + B"
   ]
  },
  {
   "cell_type": "code",
   "execution_count": null,
   "id": "4dbbd912",
   "metadata": {},
   "outputs": [],
   "source": [
    "coo_pixtosky(np,ar)"
   ]
  },
  {
   "cell_type": "code",
   "execution_count": null,
   "id": "b8b8b89c",
   "metadata": {},
   "outputs": [],
   "source": [
    "def coo_skytopix(r_sky):\n",
    "    return np.matmul(A_inv, r_sky - B) + r0"
   ]
  },
  {
   "cell_type": "code",
   "execution_count": null,
   "id": "cb9f5244",
   "metadata": {},
   "outputs": [],
   "source": [
    "RA_TARG = no_f[0].header['RA_TARG'] \n",
    "DEC_TARG = no_f[0].header['DEC_TARG']\n",
    "r_sky_TARG = np.array([[RA_TARG], [DEC_TARG]])"
   ]
  },
  {
   "cell_type": "code",
   "execution_count": null,
   "id": "c456138b",
   "metadata": {},
   "outputs": [],
   "source": [
    "X_TARG, Y_TARG = int(coo_skytopix(r_sky_TARG)[0]), int(coo_skytopix(r_sky_TARG)[1])"
   ]
  },
  {
   "cell_type": "code",
   "execution_count": null,
   "id": "4036ef08",
   "metadata": {},
   "outputs": [],
   "source": [
    "s = 50\n",
    "max_i = 0\n",
    "max_j = 0\n",
    "maxval = 0\n",
    "for i in range(Y_TARG-s, Y_TARG+s+1):\n",
    "    for j in range(X_TARG-s, X_TARG+s+1):\n",
    "        if data[i][j] >maxval:\n",
    "            maxval = data[i][j]\n",
    "            max_i = i\n",
    "            max_j = j \n",
    "print(maxval, max_i, max_j)"
   ]
  },
  {
   "cell_type": "code",
   "execution_count": null,
   "id": "2db04907",
   "metadata": {},
   "outputs": [],
   "source": [
    "data[417][489]"
   ]
  },
  {
   "cell_type": "code",
   "execution_count": 6,
   "id": "991eab0f",
   "metadata": {},
   "outputs": [],
   "source": [
    "def find_center(inputfilename):\n",
    "    file = fits.open(inputfilename)\n",
    "    #WCS info from header\n",
    "    CRVAL1 = file[1].header['CRVAL1']\n",
    "    CRVAL2 = file[1].header['CRVAL2']\n",
    "    CRPIX1 = file[1].header['CRPIX1']\n",
    "    CRPIX2 = file[1].header['CRPIX2']\n",
    "    CD1_1 = file[1].header['CD1_1']\n",
    "    CD1_2 = file[1].header['CD1_2']\n",
    "    CD2_1 = file[1].header['CD2_1']\n",
    "    CD2_2 = file[1].header['CD2_2']\n",
    "    \n",
    "    A = np.array([[CD1_1, CD1_2], [CD2_1, CD2_2]])\n",
    "    A_inv = np.linalg.inv(A)\n",
    "    B = np.array([[CRVAL1],[CRVAL2]])\n",
    "    r0 = np.array([[CRPIX1],[CRPIX2]])\n",
    "    \n",
    "    def coo_pixtosky(r):\n",
    "        return np.matmul(A, r-r0) + B\n",
    "    \n",
    "    def coo_skytopix(r_sky):\n",
    "        return np.matmul(A_inv, r_sky - B) + r0\n",
    "    \n",
    "    #Target location info\n",
    "    RA_TARG = file[0].header['RA_TARG'] \n",
    "    DEC_TARG = file[0].header['DEC_TARG']\n",
    "    r_sky_TARG = np.array([[RA_TARG], [DEC_TARG]])\n",
    "    X_TARG, Y_TARG = int(coo_skytopix(r_sky_TARG)[0]), int(coo_skytopix(r_sky_TARG)[1])\n",
    "    \n",
    "    data = file[1].data\n",
    "    \n",
    "    s = 100\n",
    "    max_i = 0\n",
    "    max_j = 0\n",
    "    maxval = 0\n",
    "    for i in range(Y_TARG-s, Y_TARG+s+1):\n",
    "        for j in range(X_TARG-s, X_TARG+s+1):\n",
    "            if data[i][j] > maxval:\n",
    "                maxval = data[i][j]\n",
    "                max_i = i\n",
    "                max_j = j \n",
    "    r = 50\n",
    "    total_flux = 0\n",
    "    i_integral = 0\n",
    "    j_integral = 0\n",
    "    for i in range(max_i-r, max_i+r+1):\n",
    "        for j in range(max_j-r, max_j+r+1):\n",
    "            total_flux += data[i][j]\n",
    "            i_integral += i*data[i][j]\n",
    "            j_integral += j*data[i][j]\n",
    "    \n",
    "    i_center = i_integral/total_flux\n",
    "    j_center = j_integral/total_flux\n",
    "    \n",
    "    X_center = j_center +1\n",
    "    Y_center = i_center +1\n",
    "    r_center = np.array([[X_center], [Y_center]])\n",
    "    \n",
    "    #print('X_center =', X_center)\n",
    "    #print('Y_center =', Y_center)\n",
    "    sky_coo_center = coo_pixtosky(r_center)\n",
    "    #RA_center, DEC_center = sky_coo_center[0][0], sky_coo_center[1][0]\n",
    "    return r_center, sky_coo_center\n"
   ]
  },
  {
   "cell_type": "code",
   "execution_count": 7,
   "id": "63b82b49",
   "metadata": {},
   "outputs": [
    {
     "name": "stdout",
     "output_type": "stream",
     "text": [
      "1noq\n",
      "(array([[487.54574343],\n",
      "       [419.6677651 ]]), array([[3.19600544e+02],\n",
      "       [2.91488262e-01]]))\n",
      "1nrq\n",
      "(array([[512.79115843],\n",
      "       [427.91858324]]), array([[3.19600547e+02],\n",
      "       [2.91493212e-01]]))\n",
      "1nvq\n",
      "(array([[500.78426636],\n",
      "       [444.29299893]]), array([[3.19600555e+02],\n",
      "       [2.91503937e-01]]))\n",
      "1nxq\n",
      "(array([[477.04900291],\n",
      "       [436.56076792]]), array([[3.19600548e+02],\n",
      "       [2.91513909e-01]]))\n",
      "3ibq\n",
      "(array([[536.01293793],\n",
      "       [508.67812468]]), array([[3.19600559e+02],\n",
      "       [2.91539057e-01]]))\n",
      "3icq\n",
      "(array([[561.42728718],\n",
      "       [515.43368142]]), array([[3.19600552e+02],\n",
      "       [2.91537808e-01]]))\n",
      "3idq\n",
      "(array([[549.57123242],\n",
      "       [529.92772526]]), array([[3.19600545e+02],\n",
      "       [2.91540508e-01]]))\n",
      "3ieq\n",
      "(array([[524.75250787],\n",
      "       [522.15504653]]), array([[3.19600542e+02],\n",
      "       [2.91541044e-01]]))\n"
     ]
    }
   ],
   "source": [
    "for file in lst_1+lst_3:\n",
    "    \n",
    "    print(fits.open(file)[0].header['ROOTNAME'][-4:])\n",
    "    print(find_center(file))"
   ]
  },
  {
   "cell_type": "code",
   "execution_count": 23,
   "id": "a04301be",
   "metadata": {},
   "outputs": [],
   "source": [
    "def avg_center(lst):\n",
    "    a = np.array([[0.0],[0.0]])\n",
    "    for item in lst:\n",
    "        a += find_center(item)[1]\n",
    "    return a/len(lst)"
   ]
  },
  {
   "cell_type": "code",
   "execution_count": 24,
   "id": "ad8a10e5",
   "metadata": {},
   "outputs": [
    {
     "data": {
      "text/plain": [
       "array([[3.19600549e+02],\n",
       "       [2.91519717e-01]])"
      ]
     },
     "execution_count": 24,
     "metadata": {},
     "output_type": "execute_result"
    }
   ],
   "source": [
    "avg_center0 = avg_center(lst_1 + lst_3)\n",
    "avg_center0"
   ]
  },
  {
   "cell_type": "code",
   "execution_count": 27,
   "id": "574b9130",
   "metadata": {},
   "outputs": [
    {
     "data": {
      "text/plain": [
       "array([[3.19600549e+02],\n",
       "       [2.91499830e-01]])"
      ]
     },
     "execution_count": 27,
     "metadata": {},
     "output_type": "execute_result"
    }
   ],
   "source": [
    "avg_center1 = avg_center(lst_1)\n",
    "avg_center1"
   ]
  },
  {
   "cell_type": "code",
   "execution_count": 42,
   "id": "fc0f6ad2",
   "metadata": {},
   "outputs": [],
   "source": [
    "def new_CRVALs(inputfilename, ref_center):\n",
    "    file = fits.open(inputfilename)\n",
    "    #WCS info from header\n",
    "    CRVAL1 = file[1].header['CRVAL1']\n",
    "    CRVAL2 = file[1].header['CRVAL2']\n",
    "    CRPIX1 = file[1].header['CRPIX1']\n",
    "    CRPIX2 = file[1].header['CRPIX2']\n",
    "    CD1_1 = file[1].header['CD1_1']\n",
    "    CD1_2 = file[1].header['CD1_2']\n",
    "    CD2_1 = file[1].header['CD2_1']\n",
    "    CD2_2 = file[1].header['CD2_2']\n",
    "    \n",
    "    A = np.array([[CD1_1, CD1_2], [CD2_1, CD2_2]])\n",
    "    r0 = np.array([[CRPIX1],[CRPIX2]])\n",
    "    \n",
    "    coo_center = find_center(inputfilename)\n",
    "    r_center = coo_center[0]\n",
    "    sky_coo_center = coo_center[1]\n",
    "    \n",
    "    new_CRVALs = ref_center - np.matmul(A, r_center - r0)\n",
    "    return new_CRVALs"
   ]
  },
  {
   "cell_type": "code",
   "execution_count": 43,
   "id": "f87301cc",
   "metadata": {},
   "outputs": [
    {
     "name": "stdout",
     "output_type": "stream",
     "text": [
      "1noq\n",
      "[319.60108926]\n",
      "1nrq\n",
      "[319.60114088]\n",
      "1nvq\n",
      "[319.60097426]\n",
      "1nxq\n",
      "[319.60092554]\n",
      "3ibq\n",
      "[319.60069479]\n",
      "3icq\n",
      "[319.60078249]\n",
      "3idq\n",
      "[319.60062715]\n",
      "3ieq\n",
      "[319.60054913]\n"
     ]
    }
   ],
   "source": [
    "for file in lst_1+lst_3:\n",
    "    \n",
    "    print(fits.open(file)[0].header['ROOTNAME'][-4:])\n",
    "    print(new_CRVALs(file, avg_center0)[0])"
   ]
  },
  {
   "cell_type": "code",
   "execution_count": 44,
   "id": "c82857df",
   "metadata": {},
   "outputs": [],
   "source": [
    "for item in lst_1+lst_3:\n",
    "    file = fits.open(item, mode = 'update')\n",
    "    new_crvals = new_CRVALs(item, avg_center0)\n",
    "    for i in [1,2,3]:\n",
    "        file[i].header['CRVAL1'] = new_crvals[0][0]\n",
    "        file[i].header['CRVAL2'] = new_crvals[1][0]\n",
    "    file.flush()"
   ]
  },
  {
   "cell_type": "code",
   "execution_count": 19,
   "id": "e68c7925",
   "metadata": {},
   "outputs": [
    {
     "data": {
      "text/plain": [
       "319.60113936155"
      ]
     },
     "execution_count": 19,
     "metadata": {},
     "output_type": "execute_result"
    }
   ],
   "source": [
    "file = fits.open(nr)\n",
    "file[1].header['CRVAL1']"
   ]
  },
  {
   "cell_type": "code",
   "execution_count": null,
   "id": "0dc143e1",
   "metadata": {},
   "outputs": [],
   "source": [
    "file = fits.open(nr)"
   ]
  },
  {
   "cell_type": "code",
   "execution_count": 46,
   "id": "13321245",
   "metadata": {},
   "outputs": [
    {
     "name": "stderr",
     "output_type": "stream",
     "text": [
      "INFO:drizzlepac.util:Setting up logfile :  total_visit1+3_drz.log\n"
     ]
    },
    {
     "name": "stdout",
     "output_type": "stream",
     "text": [
      "Setting up logfile :  total_visit1+3_drz.log\n"
     ]
    },
    {
     "name": "stderr",
     "output_type": "stream",
     "text": [
      "INFO:drizzlepac.astrodrizzle:AstroDrizzle log file: total_visit1+3_drz.log\n"
     ]
    },
    {
     "name": "stdout",
     "output_type": "stream",
     "text": [
      "AstroDrizzle log file: total_visit1+3_drz.log\n"
     ]
    },
    {
     "name": "stderr",
     "output_type": "stream",
     "text": [
      "INFO:drizzlepac.astrodrizzle:AstroDrizzle Version 3.4.2 started at: 20:45:05.470 (12/06/2022)\n"
     ]
    },
    {
     "name": "stdout",
     "output_type": "stream",
     "text": [
      "AstroDrizzle Version 3.4.2 started at: 20:45:05.470 (12/06/2022)\n"
     ]
    },
    {
     "name": "stderr",
     "output_type": "stream",
     "text": [
      "INFO:drizzlepac.astrodrizzle:\n"
     ]
    },
    {
     "name": "stdout",
     "output_type": "stream",
     "text": [
      "\n"
     ]
    },
    {
     "name": "stderr",
     "output_type": "stream",
     "text": [
      "INFO:drizzlepac.astrodrizzle:Version Information\n",
      "INFO:drizzlepac.astrodrizzle:--------------------\n",
      "INFO:drizzlepac.astrodrizzle:Python Version [Clang 12.0.0 ]\n",
      "INFO:drizzlepac.astrodrizzle:3.9.12 (main, Jun  1 2022, 06:36:29) \n",
      "INFO:drizzlepac.astrodrizzle:numpy Version -> 1.22.4 \n",
      "INFO:drizzlepac.astrodrizzle:astropy Version -> 5.1 \n",
      "INFO:drizzlepac.astrodrizzle:stwcs Version -> 1.7.2 \n",
      "INFO:drizzlepac.util:==== Processing Step  Initialization  started at  20:45:05.476 (12/06/2022)\n"
     ]
    },
    {
     "name": "stdout",
     "output_type": "stream",
     "text": [
      "==== Processing Step  Initialization  started at  20:45:05.476 (12/06/2022)\n"
     ]
    },
    {
     "name": "stderr",
     "output_type": "stream",
     "text": [
      "INFO:drizzlepac.util:\n"
     ]
    },
    {
     "name": "stdout",
     "output_type": "stream",
     "text": [
      "\n"
     ]
    },
    {
     "name": "stderr",
     "output_type": "stream",
     "text": [
      "INFO:drizzlepac.processInput:Executing serially\n",
      "INFO:drizzlepac.processInput:Setting up output name: total_visit1+3_test4_drz.fits\n",
      "INFO:drizzlepac.processInput:##############################################################################\n"
     ]
    },
    {
     "name": "stdout",
     "output_type": "stream",
     "text": [
      "##############################################################################\n"
     ]
    },
    {
     "name": "stderr",
     "output_type": "stream",
     "text": [
      "INFO:drizzlepac.processInput:#                                                                            #\n"
     ]
    },
    {
     "name": "stdout",
     "output_type": "stream",
     "text": [
      "#                                                                            #\n"
     ]
    },
    {
     "name": "stderr",
     "output_type": "stream",
     "text": [
      "INFO:drizzlepac.processInput:# “minmed” is highly recommended for three images,                           #\n"
     ]
    },
    {
     "name": "stdout",
     "output_type": "stream",
     "text": [
      "# “minmed” is highly recommended for three images,                           #\n"
     ]
    },
    {
     "name": "stderr",
     "output_type": "stream",
     "text": [
      "INFO:drizzlepac.processInput:#  and is good for four to six images,                                       #\n"
     ]
    },
    {
     "name": "stdout",
     "output_type": "stream",
     "text": [
      "#  and is good for four to six images,                                       #\n"
     ]
    },
    {
     "name": "stderr",
     "output_type": "stream",
     "text": [
      "INFO:drizzlepac.processInput:#  but should be avoided for ten or more images.                             #\n"
     ]
    },
    {
     "name": "stdout",
     "output_type": "stream",
     "text": [
      "#  but should be avoided for ten or more images.                             #\n"
     ]
    },
    {
     "name": "stderr",
     "output_type": "stream",
     "text": [
      "INFO:drizzlepac.processInput:#                                                                            #\n"
     ]
    },
    {
     "name": "stdout",
     "output_type": "stream",
     "text": [
      "#                                                                            #\n"
     ]
    },
    {
     "name": "stderr",
     "output_type": "stream",
     "text": [
      "INFO:drizzlepac.processInput:##############################################################################\n"
     ]
    },
    {
     "name": "stdout",
     "output_type": "stream",
     "text": [
      "##############################################################################\n"
     ]
    },
    {
     "name": "stderr",
     "output_type": "stream",
     "text": [
      "INFO:drizzlepac.processInput:-Creating imageObject List as input for processing steps.\n",
      "INFO:drizzlepac.imageObject:Reading in MDRIZSKY of 0.0\n",
      "INFO:drizzlepac.acsData:WARNING: No cte correction will be made for this SBC data.\n"
     ]
    },
    {
     "name": "stdout",
     "output_type": "stream",
     "text": [
      "WARNING: No cte correction will be made for this SBC data.\n"
     ]
    },
    {
     "name": "stderr",
     "output_type": "stream",
     "text": [
      "INFO:drizzlepac.imageObject:Reading in MDRIZSKY of 0.0\n",
      "INFO:drizzlepac.acsData:WARNING: No cte correction will be made for this SBC data.\n"
     ]
    },
    {
     "name": "stdout",
     "output_type": "stream",
     "text": [
      "WARNING: No cte correction will be made for this SBC data.\n"
     ]
    },
    {
     "name": "stderr",
     "output_type": "stream",
     "text": [
      "INFO:drizzlepac.imageObject:Reading in MDRIZSKY of 0.0\n",
      "INFO:drizzlepac.acsData:WARNING: No cte correction will be made for this SBC data.\n"
     ]
    },
    {
     "name": "stdout",
     "output_type": "stream",
     "text": [
      "WARNING: No cte correction will be made for this SBC data.\n"
     ]
    },
    {
     "name": "stderr",
     "output_type": "stream",
     "text": [
      "INFO:drizzlepac.imageObject:Reading in MDRIZSKY of 0.0\n",
      "INFO:drizzlepac.acsData:WARNING: No cte correction will be made for this SBC data.\n"
     ]
    },
    {
     "name": "stdout",
     "output_type": "stream",
     "text": [
      "WARNING: No cte correction will be made for this SBC data.\n"
     ]
    },
    {
     "name": "stderr",
     "output_type": "stream",
     "text": [
      "INFO:drizzlepac.imageObject:Reading in MDRIZSKY of 0.0\n",
      "INFO:drizzlepac.acsData:WARNING: No cte correction will be made for this SBC data.\n"
     ]
    },
    {
     "name": "stdout",
     "output_type": "stream",
     "text": [
      "WARNING: No cte correction will be made for this SBC data.\n"
     ]
    },
    {
     "name": "stderr",
     "output_type": "stream",
     "text": [
      "INFO:drizzlepac.imageObject:Reading in MDRIZSKY of 0.0\n",
      "INFO:drizzlepac.acsData:WARNING: No cte correction will be made for this SBC data.\n"
     ]
    },
    {
     "name": "stdout",
     "output_type": "stream",
     "text": [
      "WARNING: No cte correction will be made for this SBC data.\n"
     ]
    },
    {
     "name": "stderr",
     "output_type": "stream",
     "text": [
      "INFO:drizzlepac.imageObject:Reading in MDRIZSKY of 0.0\n",
      "INFO:drizzlepac.acsData:WARNING: No cte correction will be made for this SBC data.\n"
     ]
    },
    {
     "name": "stdout",
     "output_type": "stream",
     "text": [
      "WARNING: No cte correction will be made for this SBC data.\n"
     ]
    },
    {
     "name": "stderr",
     "output_type": "stream",
     "text": [
      "INFO:drizzlepac.imageObject:Reading in MDRIZSKY of 0.0\n",
      "INFO:drizzlepac.acsData:WARNING: No cte correction will be made for this SBC data.\n"
     ]
    },
    {
     "name": "stdout",
     "output_type": "stream",
     "text": [
      "WARNING: No cte correction will be made for this SBC data.\n"
     ]
    },
    {
     "name": "stderr",
     "output_type": "stream",
     "text": [
      "INFO:drizzlepac.resetbits:Reset bit values of 4096 to a value of 0 in hst_16231_01_acs_sbc_f150lp_jec401no_flt.fits[DQ,1]\n",
      "INFO:drizzlepac.resetbits:Reset bit values of 4096 to a value of 0 in hst_16231_01_acs_sbc_f150lp_jec401nr_flt.fits[DQ,1]\n",
      "INFO:drizzlepac.resetbits:Reset bit values of 4096 to a value of 0 in hst_16231_01_acs_sbc_f150lp_jec401nv_flt.fits[DQ,1]\n",
      "INFO:drizzlepac.resetbits:Reset bit values of 4096 to a value of 0 in hst_16231_01_acs_sbc_f150lp_jec401nx_flt.fits[DQ,1]\n",
      "INFO:drizzlepac.resetbits:Reset bit values of 4096 to a value of 0 in hst_16231_03_acs_sbc_f150lp_jec403ib_flt.fits[DQ,1]\n",
      "INFO:drizzlepac.resetbits:Reset bit values of 4096 to a value of 0 in hst_16231_03_acs_sbc_f150lp_jec403ic_flt.fits[DQ,1]\n",
      "INFO:drizzlepac.resetbits:Reset bit values of 4096 to a value of 0 in hst_16231_03_acs_sbc_f150lp_jec403id_flt.fits[DQ,1]\n",
      "INFO:drizzlepac.resetbits:Reset bit values of 4096 to a value of 0 in hst_16231_03_acs_sbc_f150lp_jec403ie_flt.fits[DQ,1]\n",
      "INFO:drizzlepac.processInput:-Creating output WCS.\n",
      "INFO:astropy.wcs.wcs:WCS Keywords\n"
     ]
    },
    {
     "name": "stdout",
     "output_type": "stream",
     "text": [
      "WCS Keywords\n"
     ]
    },
    {
     "name": "stderr",
     "output_type": "stream",
     "text": [
      "INFO:astropy.wcs.wcs:\n"
     ]
    },
    {
     "name": "stdout",
     "output_type": "stream",
     "text": [
      "\n"
     ]
    },
    {
     "name": "stderr",
     "output_type": "stream",
     "text": [
      "INFO:astropy.wcs.wcs:Number of WCS axes: 2\n"
     ]
    },
    {
     "name": "stdout",
     "output_type": "stream",
     "text": [
      "Number of WCS axes: 2\n"
     ]
    },
    {
     "name": "stderr",
     "output_type": "stream",
     "text": [
      "INFO:astropy.wcs.wcs:CTYPE : 'RA---TAN'  'DEC--TAN'  \n"
     ]
    },
    {
     "name": "stdout",
     "output_type": "stream",
     "text": [
      "CTYPE : 'RA---TAN'  'DEC--TAN'  \n"
     ]
    },
    {
     "name": "stderr",
     "output_type": "stream",
     "text": [
      "INFO:astropy.wcs.wcs:CRVAL : 319.6011851974068  0.2915748180833086  \n"
     ]
    },
    {
     "name": "stdout",
     "output_type": "stream",
     "text": [
      "CRVAL : 319.6011851974068  0.2915748180833086  \n"
     ]
    },
    {
     "name": "stderr",
     "output_type": "stream",
     "text": [
      "INFO:astropy.wcs.wcs:CRPIX : 974.0  980.5  \n"
     ]
    },
    {
     "name": "stdout",
     "output_type": "stream",
     "text": [
      "CRPIX : 974.0  980.5  \n"
     ]
    },
    {
     "name": "stderr",
     "output_type": "stream",
     "text": [
      "INFO:astropy.wcs.wcs:CD1_1 CD1_2  : -6.944444444444445e-06  0.0  \n"
     ]
    },
    {
     "name": "stdout",
     "output_type": "stream",
     "text": [
      "CD1_1 CD1_2  : -6.944444444444445e-06  0.0  \n"
     ]
    },
    {
     "name": "stderr",
     "output_type": "stream",
     "text": [
      "INFO:astropy.wcs.wcs:CD2_1 CD2_2  : 0.0  6.944444444444445e-06  \n"
     ]
    },
    {
     "name": "stdout",
     "output_type": "stream",
     "text": [
      "CD2_1 CD2_2  : 0.0  6.944444444444445e-06  \n"
     ]
    },
    {
     "name": "stderr",
     "output_type": "stream",
     "text": [
      "INFO:astropy.wcs.wcs:NAXIS : 1947  1960\n"
     ]
    },
    {
     "name": "stdout",
     "output_type": "stream",
     "text": [
      "NAXIS : 1947  1960\n"
     ]
    },
    {
     "name": "stderr",
     "output_type": "stream",
     "text": [
      "INFO:drizzlepac.processInput:********************************************************************************\n"
     ]
    },
    {
     "name": "stdout",
     "output_type": "stream",
     "text": [
      "********************************************************************************\n"
     ]
    },
    {
     "name": "stderr",
     "output_type": "stream",
     "text": [
      "INFO:drizzlepac.processInput:*\n"
     ]
    },
    {
     "name": "stdout",
     "output_type": "stream",
     "text": [
      "*\n"
     ]
    },
    {
     "name": "stderr",
     "output_type": "stream",
     "text": [
      "INFO:drizzlepac.processInput:*  Estimated memory usage:  up to 51 Mb.\n"
     ]
    },
    {
     "name": "stdout",
     "output_type": "stream",
     "text": [
      "*  Estimated memory usage:  up to 51 Mb.\n"
     ]
    },
    {
     "name": "stderr",
     "output_type": "stream",
     "text": [
      "INFO:drizzlepac.processInput:*  Output image size:       1947 X 1960 pixels. \n"
     ]
    },
    {
     "name": "stdout",
     "output_type": "stream",
     "text": [
      "*  Output image size:       1947 X 1960 pixels. \n"
     ]
    },
    {
     "name": "stderr",
     "output_type": "stream",
     "text": [
      "INFO:drizzlepac.processInput:*  Output image file:       ~ 43 Mb. \n"
     ]
    },
    {
     "name": "stdout",
     "output_type": "stream",
     "text": [
      "*  Output image file:       ~ 43 Mb. \n"
     ]
    },
    {
     "name": "stderr",
     "output_type": "stream",
     "text": [
      "INFO:drizzlepac.processInput:*  Cores available:         1\n"
     ]
    },
    {
     "name": "stdout",
     "output_type": "stream",
     "text": [
      "*  Cores available:         1\n"
     ]
    },
    {
     "name": "stderr",
     "output_type": "stream",
     "text": [
      "INFO:drizzlepac.processInput:*\n"
     ]
    },
    {
     "name": "stdout",
     "output_type": "stream",
     "text": [
      "*\n"
     ]
    },
    {
     "name": "stderr",
     "output_type": "stream",
     "text": [
      "INFO:drizzlepac.processInput:********************************************************************************\n"
     ]
    },
    {
     "name": "stdout",
     "output_type": "stream",
     "text": [
      "********************************************************************************\n"
     ]
    },
    {
     "name": "stderr",
     "output_type": "stream",
     "text": [
      "INFO:drizzlepac.util:==== Processing Step Initialization finished at 20:45:06.516 (12/06/2022)\n"
     ]
    },
    {
     "name": "stdout",
     "output_type": "stream",
     "text": [
      "==== Processing Step Initialization finished at 20:45:06.516 (12/06/2022)\n"
     ]
    },
    {
     "name": "stderr",
     "output_type": "stream",
     "text": [
      "INFO:drizzlepac.astrodrizzle:USER INPUT PARAMETERS common to all Processing Steps:\n",
      "INFO:drizzlepac.astrodrizzle:\tbuild :\tTrue\n",
      "INFO:drizzlepac.astrodrizzle:\tcoeffs :\tTrue\n",
      "INFO:drizzlepac.astrodrizzle:\tcontext :\tTrue\n",
      "INFO:drizzlepac.astrodrizzle:\tcrbit :\t4096\n",
      "INFO:drizzlepac.astrodrizzle:\tgroup :\t\n",
      "INFO:drizzlepac.astrodrizzle:\tin_memory :\tFalse\n",
      "INFO:drizzlepac.astrodrizzle:\tinput :\t['hst_16231_01_acs_sbc_f150lp_jec401no_flt.fits', 'hst_16231_01_acs_sbc_f150lp_jec401nr_flt.fits', 'hst_16231_01_acs_sbc_f150lp_jec401nv_flt.fits', 'hst_16231_01_acs_sbc_f150lp_jec401nx_flt.fits', 'hst_16231_03_acs_sbc_f150lp_jec403ib_flt.fits', 'hst_16231_03_acs_sbc_f150lp_jec403ic_flt.fits', 'hst_16231_03_acs_sbc_f150lp_jec403id_flt.fits', 'hst_16231_03_acs_sbc_f150lp_jec403ie_flt.fits']\n",
      "INFO:drizzlepac.astrodrizzle:\tmdriztab :\tFalse\n",
      "INFO:drizzlepac.astrodrizzle:\tnum_cores :\t1\n",
      "INFO:drizzlepac.astrodrizzle:\toutput :\ttotal_visit1+3_test4\n",
      "INFO:drizzlepac.astrodrizzle:\tproc_unit :\tnative\n",
      "INFO:drizzlepac.astrodrizzle:\tresetbits :\t4096\n",
      "INFO:drizzlepac.astrodrizzle:\trules_file :\t\n",
      "INFO:drizzlepac.astrodrizzle:\trunfile :\ttotal_visit1+3_drz.log\n",
      "INFO:drizzlepac.astrodrizzle:\tstepsize :\t10\n",
      "INFO:drizzlepac.astrodrizzle:\tupdatewcs :\tFalse\n",
      "INFO:drizzlepac.astrodrizzle:\twcskey :\t\n",
      "INFO:drizzlepac.util:==== Processing Step  Static Mask  started at  20:45:06.524 (12/06/2022)\n"
     ]
    },
    {
     "name": "stdout",
     "output_type": "stream",
     "text": [
      "==== Processing Step  Static Mask  started at  20:45:06.524 (12/06/2022)\n"
     ]
    },
    {
     "name": "stderr",
     "output_type": "stream",
     "text": [
      "INFO:drizzlepac.util:\n"
     ]
    },
    {
     "name": "stdout",
     "output_type": "stream",
     "text": [
      "\n"
     ]
    },
    {
     "name": "stderr",
     "output_type": "stream",
     "text": [
      "INFO:drizzlepac.staticMask:Static Mask step not performed.\n",
      "INFO:drizzlepac.util:==== Processing Step Static Mask finished at 20:45:06.52 (12/06/2022)\n"
     ]
    },
    {
     "name": "stdout",
     "output_type": "stream",
     "text": [
      "==== Processing Step Static Mask finished at 20:45:06.52 (12/06/2022)\n"
     ]
    },
    {
     "name": "stderr",
     "output_type": "stream",
     "text": [
      "INFO:drizzlepac.util:==== Processing Step  Subtract Sky  started at  20:45:06.528 (12/06/2022)\n"
     ]
    },
    {
     "name": "stdout",
     "output_type": "stream",
     "text": [
      "==== Processing Step  Subtract Sky  started at  20:45:06.528 (12/06/2022)\n"
     ]
    },
    {
     "name": "stderr",
     "output_type": "stream",
     "text": [
      "INFO:drizzlepac.util:\n"
     ]
    },
    {
     "name": "stdout",
     "output_type": "stream",
     "text": [
      "\n"
     ]
    },
    {
     "name": "stderr",
     "output_type": "stream",
     "text": [
      "INFO:drizzlepac.sky:Sky Subtraction step not performed.\n",
      "INFO:drizzlepac.util:==== Processing Step Subtract Sky finished at 20:45:06.71 (12/06/2022)\n"
     ]
    },
    {
     "name": "stdout",
     "output_type": "stream",
     "text": [
      "==== Processing Step Subtract Sky finished at 20:45:06.71 (12/06/2022)\n"
     ]
    },
    {
     "name": "stderr",
     "output_type": "stream",
     "text": [
      "INFO:drizzlepac.util:==== Processing Step  Separate Drizzle  started at  20:45:06.71 (12/06/2022)\n"
     ]
    },
    {
     "name": "stdout",
     "output_type": "stream",
     "text": [
      "==== Processing Step  Separate Drizzle  started at  20:45:06.71 (12/06/2022)\n"
     ]
    },
    {
     "name": "stderr",
     "output_type": "stream",
     "text": [
      "INFO:drizzlepac.util:\n"
     ]
    },
    {
     "name": "stdout",
     "output_type": "stream",
     "text": [
      "\n"
     ]
    },
    {
     "name": "stderr",
     "output_type": "stream",
     "text": [
      "INFO:drizzlepac.adrizzle:Single drizzle step not performed.\n",
      "INFO:drizzlepac.util:==== Processing Step Separate Drizzle finished at 20:45:06.71 (12/06/2022)\n"
     ]
    },
    {
     "name": "stdout",
     "output_type": "stream",
     "text": [
      "==== Processing Step Separate Drizzle finished at 20:45:06.71 (12/06/2022)\n"
     ]
    },
    {
     "name": "stderr",
     "output_type": "stream",
     "text": [
      "INFO:drizzlepac.util:==== Processing Step  Create Median  started at  20:45:06.715 (12/06/2022)\n"
     ]
    },
    {
     "name": "stdout",
     "output_type": "stream",
     "text": [
      "==== Processing Step  Create Median  started at  20:45:06.715 (12/06/2022)\n"
     ]
    },
    {
     "name": "stderr",
     "output_type": "stream",
     "text": [
      "INFO:drizzlepac.util:\n"
     ]
    },
    {
     "name": "stdout",
     "output_type": "stream",
     "text": [
      "\n"
     ]
    },
    {
     "name": "stderr",
     "output_type": "stream",
     "text": [
      "INFO:drizzlepac.createMedian:Median combination step not performed.\n",
      "INFO:drizzlepac.util:==== Processing Step  Blot  started at  20:45:06.718 (12/06/2022)\n"
     ]
    },
    {
     "name": "stdout",
     "output_type": "stream",
     "text": [
      "==== Processing Step  Blot  started at  20:45:06.718 (12/06/2022)\n"
     ]
    },
    {
     "name": "stderr",
     "output_type": "stream",
     "text": [
      "INFO:drizzlepac.util:\n"
     ]
    },
    {
     "name": "stdout",
     "output_type": "stream",
     "text": [
      "\n"
     ]
    },
    {
     "name": "stderr",
     "output_type": "stream",
     "text": [
      "INFO:drizzlepac.ablot:Blot step not performed.\n",
      "INFO:drizzlepac.util:==== Processing Step Blot finished at 20:45:06.720 (12/06/2022)\n"
     ]
    },
    {
     "name": "stdout",
     "output_type": "stream",
     "text": [
      "==== Processing Step Blot finished at 20:45:06.720 (12/06/2022)\n"
     ]
    },
    {
     "name": "stderr",
     "output_type": "stream",
     "text": [
      "INFO:drizzlepac.util:==== Processing Step  Driz_CR  started at  20:45:06.721 (12/06/2022)\n"
     ]
    },
    {
     "name": "stdout",
     "output_type": "stream",
     "text": [
      "==== Processing Step  Driz_CR  started at  20:45:06.721 (12/06/2022)\n"
     ]
    },
    {
     "name": "stderr",
     "output_type": "stream",
     "text": [
      "INFO:drizzlepac.util:\n"
     ]
    },
    {
     "name": "stdout",
     "output_type": "stream",
     "text": [
      "\n"
     ]
    },
    {
     "name": "stderr",
     "output_type": "stream",
     "text": [
      "INFO:drizzlepac.drizCR:Cosmic-ray identification (driz_cr) step not performed.\n",
      "INFO:drizzlepac.util:==== Processing Step  Final Drizzle  started at  20:45:06.723 (12/06/2022)\n"
     ]
    },
    {
     "name": "stdout",
     "output_type": "stream",
     "text": [
      "==== Processing Step  Final Drizzle  started at  20:45:06.723 (12/06/2022)\n"
     ]
    },
    {
     "name": "stderr",
     "output_type": "stream",
     "text": [
      "INFO:drizzlepac.util:\n"
     ]
    },
    {
     "name": "stdout",
     "output_type": "stream",
     "text": [
      "\n"
     ]
    },
    {
     "name": "stderr",
     "output_type": "stream",
     "text": [
      "INFO:drizzlepac.adrizzle:Interpreted paramDict with single=False as:\n",
      "{'build': True, 'stepsize': 10, 'coeffs': True, 'wcskey': '', 'wht_type': 'EXP', 'kernel': 'square', 'wt_scl': 'exptime', 'pixfrac': 1.0, 'fillval': None, 'maskval': None, 'bits': 0, 'units': 'cps'}\n",
      "INFO:drizzlepac.adrizzle:USER INPUT PARAMETERS for Final Drizzle Step:\n",
      "INFO:drizzlepac.adrizzle:\tbits :\t0\n",
      "INFO:drizzlepac.adrizzle:\tbuild :\tTrue\n",
      "INFO:drizzlepac.adrizzle:\tclean :\tTrue\n",
      "INFO:drizzlepac.adrizzle:\tcoeffs :\tTrue\n",
      "INFO:drizzlepac.adrizzle:\tcrbit :\t4096\n",
      "INFO:drizzlepac.adrizzle:\tfillval :\tNone\n",
      "INFO:drizzlepac.adrizzle:\tkernel :\tsquare\n",
      "INFO:drizzlepac.adrizzle:\tlogfile :\ttotal_visit1+3_drz.log\n",
      "INFO:drizzlepac.adrizzle:\tmaskval :\tNone\n",
      "INFO:drizzlepac.adrizzle:\tpixfrac :\t1.0\n",
      "INFO:drizzlepac.adrizzle:\tproc_unit :\tnative\n",
      "INFO:drizzlepac.adrizzle:\trules_file :\tNone\n",
      "INFO:drizzlepac.adrizzle:\tstepsize :\t10\n",
      "INFO:drizzlepac.adrizzle:\tunits :\tcps\n",
      "INFO:drizzlepac.adrizzle:\twcskey :\t\n",
      "INFO:drizzlepac.adrizzle:\twht_type :\tEXP\n",
      "INFO:drizzlepac.adrizzle:\twt_scl :\texptime\n",
      "INFO:drizzlepac.adrizzle:  **Using sub-sampling value of 10 for kernel square\n",
      "INFO:drizzlepac.adrizzle:Removing previous output product...\n",
      "INFO:drizzlepac.adrizzle:Running Drizzle to create output frame with WCS of: \n",
      "INFO:astropy.wcs.wcs:WCS Keywords\n"
     ]
    },
    {
     "name": "stdout",
     "output_type": "stream",
     "text": [
      "WCS Keywords\n"
     ]
    },
    {
     "name": "stderr",
     "output_type": "stream",
     "text": [
      "INFO:astropy.wcs.wcs:\n"
     ]
    },
    {
     "name": "stdout",
     "output_type": "stream",
     "text": [
      "\n"
     ]
    },
    {
     "name": "stderr",
     "output_type": "stream",
     "text": [
      "INFO:astropy.wcs.wcs:Number of WCS axes: 2\n"
     ]
    },
    {
     "name": "stdout",
     "output_type": "stream",
     "text": [
      "Number of WCS axes: 2\n"
     ]
    },
    {
     "name": "stderr",
     "output_type": "stream",
     "text": [
      "INFO:astropy.wcs.wcs:CTYPE : 'RA---TAN'  'DEC--TAN'  \n"
     ]
    },
    {
     "name": "stdout",
     "output_type": "stream",
     "text": [
      "CTYPE : 'RA---TAN'  'DEC--TAN'  \n"
     ]
    },
    {
     "name": "stderr",
     "output_type": "stream",
     "text": [
      "INFO:astropy.wcs.wcs:CRVAL : 319.6011851974068  0.2915748180833086  \n"
     ]
    },
    {
     "name": "stdout",
     "output_type": "stream",
     "text": [
      "CRVAL : 319.6011851974068  0.2915748180833086  \n"
     ]
    },
    {
     "name": "stderr",
     "output_type": "stream",
     "text": [
      "INFO:astropy.wcs.wcs:CRPIX : 974.0  980.5  \n"
     ]
    },
    {
     "name": "stdout",
     "output_type": "stream",
     "text": [
      "CRPIX : 974.0  980.5  \n"
     ]
    },
    {
     "name": "stderr",
     "output_type": "stream",
     "text": [
      "INFO:astropy.wcs.wcs:CD1_1 CD1_2  : -6.944444444444445e-06  0.0  \n"
     ]
    },
    {
     "name": "stdout",
     "output_type": "stream",
     "text": [
      "CD1_1 CD1_2  : -6.944444444444445e-06  0.0  \n"
     ]
    },
    {
     "name": "stderr",
     "output_type": "stream",
     "text": [
      "INFO:astropy.wcs.wcs:CD2_1 CD2_2  : 0.0  6.944444444444445e-06  \n"
     ]
    },
    {
     "name": "stdout",
     "output_type": "stream",
     "text": [
      "CD2_1 CD2_2  : 0.0  6.944444444444445e-06  \n"
     ]
    },
    {
     "name": "stderr",
     "output_type": "stream",
     "text": [
      "INFO:astropy.wcs.wcs:NAXIS : 1947  1960\n"
     ]
    },
    {
     "name": "stdout",
     "output_type": "stream",
     "text": [
      "NAXIS : 1947  1960\n"
     ]
    },
    {
     "name": "stderr",
     "output_type": "stream",
     "text": [
      "INFO:drizzlepac.adrizzle:-Drizzle input: hst_16231_01_acs_sbc_f150lp_jec401no_flt.fits[sci,1]\n",
      "WARNING:drizzlepac.adrizzle:No CR mask file found! Input DQ array not updated.\n",
      "INFO:drizzlepac.imageObject:Applying EXPTIME weighting to DQ mask for chip 1\n",
      "INFO:drizzlepac.adrizzle:Using WCSLIB-based coordinate transformation...\n",
      "INFO:drizzlepac.adrizzle:stepsize = 10\n",
      "INFO:drizzlepac.cdriz:-Drizzling using kernel = square\n",
      "\n",
      "WARNING:drizzlepac.adrizzle:! 1682 points were outside the output image.\n",
      "INFO:drizzlepac.adrizzle:-Drizzle input: hst_16231_01_acs_sbc_f150lp_jec401nr_flt.fits[sci,1]\n",
      "WARNING:drizzlepac.adrizzle:No CR mask file found! Input DQ array not updated.\n",
      "INFO:drizzlepac.imageObject:Applying EXPTIME weighting to DQ mask for chip 1\n",
      "INFO:drizzlepac.adrizzle:Using WCSLIB-based coordinate transformation...\n",
      "INFO:drizzlepac.adrizzle:stepsize = 10\n",
      "INFO:drizzlepac.cdriz:-Drizzling using kernel = square\n",
      "\n",
      "WARNING:drizzlepac.adrizzle:! 159 points were outside the output image.\n",
      "INFO:drizzlepac.adrizzle:-Drizzle input: hst_16231_01_acs_sbc_f150lp_jec401nv_flt.fits[sci,1]\n",
      "WARNING:drizzlepac.adrizzle:No CR mask file found! Input DQ array not updated.\n",
      "INFO:drizzlepac.imageObject:Applying EXPTIME weighting to DQ mask for chip 1\n",
      "INFO:drizzlepac.adrizzle:Using WCSLIB-based coordinate transformation...\n",
      "INFO:drizzlepac.adrizzle:stepsize = 10\n",
      "INFO:drizzlepac.cdriz:-Drizzling using kernel = square\n",
      "\n",
      "WARNING:drizzlepac.adrizzle:! 240 points were outside the output image.\n",
      "INFO:drizzlepac.adrizzle:-Drizzle input: hst_16231_01_acs_sbc_f150lp_jec401nx_flt.fits[sci,1]\n",
      "WARNING:drizzlepac.adrizzle:No CR mask file found! Input DQ array not updated.\n",
      "INFO:drizzlepac.imageObject:Applying EXPTIME weighting to DQ mask for chip 1\n",
      "INFO:drizzlepac.adrizzle:Using WCSLIB-based coordinate transformation...\n",
      "INFO:drizzlepac.adrizzle:stepsize = 10\n",
      "INFO:drizzlepac.cdriz:-Drizzling using kernel = square\n",
      "\n",
      "WARNING:drizzlepac.adrizzle:! 1774 points were outside the output image.\n",
      "INFO:drizzlepac.adrizzle:-Drizzle input: hst_16231_03_acs_sbc_f150lp_jec403ib_flt.fits[sci,1]\n",
      "WARNING:drizzlepac.adrizzle:No CR mask file found! Input DQ array not updated.\n",
      "INFO:drizzlepac.imageObject:Applying EXPTIME weighting to DQ mask for chip 1\n",
      "INFO:drizzlepac.adrizzle:Using WCSLIB-based coordinate transformation...\n",
      "INFO:drizzlepac.adrizzle:stepsize = 10\n",
      "INFO:drizzlepac.cdriz:-Drizzling using kernel = square\n",
      "\n",
      "WARNING:drizzlepac.adrizzle:! 75 points were outside the output image.\n",
      "INFO:drizzlepac.adrizzle:-Drizzle input: hst_16231_03_acs_sbc_f150lp_jec403ic_flt.fits[sci,1]\n",
      "WARNING:drizzlepac.adrizzle:No CR mask file found! Input DQ array not updated.\n",
      "INFO:drizzlepac.imageObject:Applying EXPTIME weighting to DQ mask for chip 1\n",
      "INFO:drizzlepac.adrizzle:Using WCSLIB-based coordinate transformation...\n",
      "INFO:drizzlepac.adrizzle:stepsize = 10\n",
      "INFO:drizzlepac.cdriz:-Drizzling using kernel = square\n",
      "\n",
      "WARNING:drizzlepac.adrizzle:! 1205 points were outside the output image.\n",
      "INFO:drizzlepac.adrizzle:-Drizzle input: hst_16231_03_acs_sbc_f150lp_jec403id_flt.fits[sci,1]\n",
      "WARNING:drizzlepac.adrizzle:No CR mask file found! Input DQ array not updated.\n",
      "INFO:drizzlepac.imageObject:Applying EXPTIME weighting to DQ mask for chip 1\n",
      "INFO:drizzlepac.adrizzle:Using WCSLIB-based coordinate transformation...\n",
      "INFO:drizzlepac.adrizzle:stepsize = 10\n",
      "INFO:drizzlepac.cdriz:-Drizzling using kernel = square\n",
      "\n",
      "WARNING:drizzlepac.adrizzle:! 1083 points were outside the output image.\n",
      "INFO:drizzlepac.adrizzle:-Drizzle input: hst_16231_03_acs_sbc_f150lp_jec403ie_flt.fits[sci,1]\n",
      "WARNING:drizzlepac.adrizzle:No CR mask file found! Input DQ array not updated.\n",
      "INFO:drizzlepac.imageObject:Applying EXPTIME weighting to DQ mask for chip 1\n",
      "INFO:drizzlepac.adrizzle:Using WCSLIB-based coordinate transformation...\n",
      "INFO:drizzlepac.adrizzle:stepsize = 10\n",
      "INFO:drizzlepac.cdriz:-Drizzling using kernel = square\n",
      "\n",
      "WARNING:drizzlepac.adrizzle:! 48 points were outside the output image.\n",
      "INFO:drizzlepac.outputimage:-Generating multi-extension output file:  total_visit1+3_test4_drz.fits\n"
     ]
    },
    {
     "name": "stdout",
     "output_type": "stream",
     "text": [
      "-Generating multi-extension output file:  total_visit1+3_test4_drz.fits\n"
     ]
    },
    {
     "name": "stderr",
     "output_type": "stream",
     "text": [
      "INFO:stwcs.wcsutil.altwcs:Deleted all instances of WCS with key A in extensions [1]\n"
     ]
    },
    {
     "name": "stdout",
     "output_type": "stream",
     "text": [
      "Deleted all instances of WCS with key A in extensions [1]\n"
     ]
    },
    {
     "name": "stderr",
     "output_type": "stream",
     "text": [
      "INFO:stwcs.wcsutil.altwcs:Deleted all instances of WCS with key B in extensions [1]\n"
     ]
    },
    {
     "name": "stdout",
     "output_type": "stream",
     "text": [
      "Deleted all instances of WCS with key B in extensions [1]\n"
     ]
    },
    {
     "name": "stderr",
     "output_type": "stream",
     "text": [
      "INFO:drizzlepac.outputimage:Writing out to disk: total_visit1+3_test4_drz.fits\n"
     ]
    },
    {
     "name": "stdout",
     "output_type": "stream",
     "text": [
      "Writing out to disk: total_visit1+3_test4_drz.fits\n"
     ]
    },
    {
     "name": "stderr",
     "output_type": "stream",
     "text": [
      "WARNING:py.warnings:/Users/ha/.local/lib/python3.9/site-packages/astropy/io/fits/card.py:1008: VerifyWarning: Card is too long, comment will be truncated.\n",
      "  warnings.warn('Card is too long, comment will be truncated.',\n",
      "\n",
      "INFO:drizzlepac.util:==== Processing Step Final Drizzle finished at 20:45:09.894 (12/06/2022)\n"
     ]
    },
    {
     "name": "stdout",
     "output_type": "stream",
     "text": [
      "==== Processing Step Final Drizzle finished at 20:45:09.894 (12/06/2022)\n"
     ]
    },
    {
     "name": "stderr",
     "output_type": "stream",
     "text": [
      "INFO:drizzlepac.astrodrizzle:\n"
     ]
    },
    {
     "name": "stdout",
     "output_type": "stream",
     "text": [
      "\n"
     ]
    },
    {
     "name": "stderr",
     "output_type": "stream",
     "text": [
      "INFO:drizzlepac.astrodrizzle:AstroDrizzle Version 3.4.2 is finished processing at 20:45:09.896 (12/06/2022).\n"
     ]
    },
    {
     "name": "stdout",
     "output_type": "stream",
     "text": [
      "AstroDrizzle Version 3.4.2 is finished processing at 20:45:09.896 (12/06/2022).\n"
     ]
    },
    {
     "name": "stderr",
     "output_type": "stream",
     "text": [
      "INFO:drizzlepac.astrodrizzle:\n"
     ]
    },
    {
     "name": "stdout",
     "output_type": "stream",
     "text": [
      "\n"
     ]
    },
    {
     "name": "stderr",
     "output_type": "stream",
     "text": [
      "INFO:drizzlepac.astrodrizzle:\n"
     ]
    },
    {
     "name": "stdout",
     "output_type": "stream",
     "text": [
      "\n"
     ]
    },
    {
     "name": "stderr",
     "output_type": "stream",
     "text": [
      "INFO:drizzlepac.util:\n"
     ]
    },
    {
     "name": "stdout",
     "output_type": "stream",
     "text": [
      "\n"
     ]
    },
    {
     "name": "stderr",
     "output_type": "stream",
     "text": [
      "INFO:drizzlepac.util:   --------------------          --------------------\n"
     ]
    },
    {
     "name": "stdout",
     "output_type": "stream",
     "text": [
      "   --------------------          --------------------\n"
     ]
    },
    {
     "name": "stderr",
     "output_type": "stream",
     "text": [
      "INFO:drizzlepac.util:                   Step          Elapsed time\n"
     ]
    },
    {
     "name": "stdout",
     "output_type": "stream",
     "text": [
      "                   Step          Elapsed time\n"
     ]
    },
    {
     "name": "stderr",
     "output_type": "stream",
     "text": [
      "INFO:drizzlepac.util:   --------------------          --------------------\n"
     ]
    },
    {
     "name": "stdout",
     "output_type": "stream",
     "text": [
      "   --------------------          --------------------\n"
     ]
    },
    {
     "name": "stderr",
     "output_type": "stream",
     "text": [
      "INFO:drizzlepac.util:\n"
     ]
    },
    {
     "name": "stdout",
     "output_type": "stream",
     "text": [
      "\n"
     ]
    },
    {
     "name": "stderr",
     "output_type": "stream",
     "text": [
      "INFO:drizzlepac.util:         Initialization          1.0408 sec.\n"
     ]
    },
    {
     "name": "stdout",
     "output_type": "stream",
     "text": [
      "         Initialization          1.0408 sec.\n"
     ]
    },
    {
     "name": "stderr",
     "output_type": "stream",
     "text": [
      "INFO:drizzlepac.util:            Static Mask          0.0022 sec.\n"
     ]
    },
    {
     "name": "stdout",
     "output_type": "stream",
     "text": [
      "            Static Mask          0.0022 sec.\n"
     ]
    },
    {
     "name": "stderr",
     "output_type": "stream",
     "text": [
      "INFO:drizzlepac.util:           Subtract Sky          0.1828 sec.\n"
     ]
    },
    {
     "name": "stdout",
     "output_type": "stream",
     "text": [
      "           Subtract Sky          0.1828 sec.\n"
     ]
    },
    {
     "name": "stderr",
     "output_type": "stream",
     "text": [
      "INFO:drizzlepac.util:       Separate Drizzle          0.0022 sec.\n"
     ]
    },
    {
     "name": "stdout",
     "output_type": "stream",
     "text": [
      "       Separate Drizzle          0.0022 sec.\n"
     ]
    },
    {
     "name": "stderr",
     "output_type": "stream",
     "text": [
      "INFO:drizzlepac.util:          Create Median          0.0000 sec.\n"
     ]
    },
    {
     "name": "stdout",
     "output_type": "stream",
     "text": [
      "          Create Median          0.0000 sec.\n"
     ]
    },
    {
     "name": "stderr",
     "output_type": "stream",
     "text": [
      "INFO:drizzlepac.util:                   Blot          0.0024 sec.\n"
     ]
    },
    {
     "name": "stdout",
     "output_type": "stream",
     "text": [
      "                   Blot          0.0024 sec.\n"
     ]
    },
    {
     "name": "stderr",
     "output_type": "stream",
     "text": [
      "INFO:drizzlepac.util:                Driz_CR          0.0000 sec.\n"
     ]
    },
    {
     "name": "stdout",
     "output_type": "stream",
     "text": [
      "                Driz_CR          0.0000 sec.\n"
     ]
    },
    {
     "name": "stderr",
     "output_type": "stream",
     "text": [
      "INFO:drizzlepac.util:          Final Drizzle          3.1708 sec.\n"
     ]
    },
    {
     "name": "stdout",
     "output_type": "stream",
     "text": [
      "          Final Drizzle          3.1708 sec.\n"
     ]
    },
    {
     "name": "stderr",
     "output_type": "stream",
     "text": [
      "INFO:drizzlepac.util:   ====================          ====================\n"
     ]
    },
    {
     "name": "stdout",
     "output_type": "stream",
     "text": [
      "   ====================          ====================\n"
     ]
    },
    {
     "name": "stderr",
     "output_type": "stream",
     "text": [
      "INFO:drizzlepac.util:                  Total          4.4012 sec.\n"
     ]
    },
    {
     "name": "stdout",
     "output_type": "stream",
     "text": [
      "                  Total          4.4012 sec.\n"
     ]
    },
    {
     "name": "stderr",
     "output_type": "stream",
     "text": [
      "INFO:drizzlepac.util:\n"
     ]
    },
    {
     "name": "stdout",
     "output_type": "stream",
     "text": [
      "\n"
     ]
    },
    {
     "name": "stderr",
     "output_type": "stream",
     "text": [
      "INFO:drizzlepac.imageObject:Removing intermediate files for hst_16231_01_acs_sbc_f150lp_jec401no_flt.fits\n",
      "INFO:drizzlepac.imageObject:Removing intermediate files for hst_16231_01_acs_sbc_f150lp_jec401nr_flt.fits\n",
      "INFO:drizzlepac.imageObject:Removing intermediate files for hst_16231_01_acs_sbc_f150lp_jec401nv_flt.fits\n",
      "INFO:drizzlepac.imageObject:Removing intermediate files for hst_16231_01_acs_sbc_f150lp_jec401nx_flt.fits\n",
      "INFO:drizzlepac.imageObject:Removing intermediate files for hst_16231_03_acs_sbc_f150lp_jec403ib_flt.fits\n",
      "INFO:drizzlepac.imageObject:Removing intermediate files for hst_16231_03_acs_sbc_f150lp_jec403ic_flt.fits\n",
      "INFO:drizzlepac.imageObject:Removing intermediate files for hst_16231_03_acs_sbc_f150lp_jec403id_flt.fits\n",
      "INFO:drizzlepac.imageObject:Removing intermediate files for hst_16231_03_acs_sbc_f150lp_jec403ie_flt.fits\n",
      "INFO:drizzlepac.util:Trailer file written to:  total_visit1+3_drz.log\n"
     ]
    },
    {
     "name": "stdout",
     "output_type": "stream",
     "text": [
      "Trailer file written to:  total_visit1+3_drz.log\n"
     ]
    }
   ],
   "source": [
    "astrodrizzle.AstroDrizzle(lst_1 + lst_3, \n",
    "                              output = 'total_visit1+3_test4', \n",
    "                              clean = True,\n",
    "                              build = True,\n",
    "                              context = True,\n",
    "                              runfile = 'total_visit1+3_drz.log',\n",
    "                              num_cores = 1,\n",
    "                              in_memory = False,\n",
    "                              resetbits = 4096,\n",
    "                              median = False,\n",
    "                              static = False,\n",
    "                              skysub = False,\n",
    "                              driz_separate = False,\n",
    "                              blot = False,\n",
    "                              driz_cr = False,\n",
    "                              final_bits = 0,\n",
    "                              final_outnx=1947,\n",
    "                              final_outny=1960, \n",
    "                              final_rot = 0.0,\n",
    "                              final_scale = 0.025,\n",
    "                              final_wcs = True)"
   ]
  },
  {
   "cell_type": "code",
   "execution_count": 45,
   "id": "ab3af646",
   "metadata": {},
   "outputs": [
    {
     "data": {
      "text/html": [
       "<div><i>Table masked=True length=8</i>\n",
       "<table id=\"table140475719372464\" class=\"table-striped table-bordered table-condensed\">\n",
       "<thead><tr><th>file</th><th>CRVAL1</th><th>CRVAL2</th><th>CD1_1</th><th>CD1_2</th><th>CD2_1</th><th>CD2_2</th></tr></thead>\n",
       "<thead><tr><th>str45</th><th>float64</th><th>float64</th><th>float64</th><th>float64</th><th>float64</th><th>float64</th></tr></thead>\n",
       "<tr><td>hst_16231_01_acs_sbc_f150lp_jec401no_flt.fits</td><td>319.601089</td><td>0.292144</td><td>-0.00000433217</td><td>0.00000699882</td><td>0.00000830078</td><td>0.00000456484</td></tr>\n",
       "<tr><td>hst_16231_01_acs_sbc_f150lp_jec401nr_flt.fits</td><td>319.601141</td><td>0.291897</td><td>-0.00000433212</td><td>0.00000699873</td><td>0.00000830067</td><td>0.00000456478</td></tr>\n",
       "<tr><td>hst_16231_01_acs_sbc_f150lp_jec401nv_flt.fits</td><td>319.600974</td><td>0.291922</td><td>-0.00000433204</td><td>0.00000699861</td><td>0.00000830054</td><td>0.00000456470</td></tr>\n",
       "<tr><td>hst_16231_01_acs_sbc_f150lp_jec401nx_flt.fits</td><td>319.600926</td><td>0.292154</td><td>-0.00000433199</td><td>0.00000699853</td><td>0.00000830044</td><td>0.00000456465</td></tr>\n",
       "<tr><td>hst_16231_03_acs_sbc_f150lp_jec403ib_flt.fits</td><td>319.600695</td><td>0.291350</td><td>-0.00000517460</td><td>0.00000648425</td><td>0.00000780337</td><td>0.00000527014</td></tr>\n",
       "<tr><td>hst_16231_03_acs_sbc_f150lp_jec403ic_flt.fits</td><td>319.600782</td><td>0.291116</td><td>-0.00000517453</td><td>0.00000648416</td><td>0.00000780327</td><td>0.00000527007</td></tr>\n",
       "<tr><td>hst_16231_03_acs_sbc_f150lp_jec403id_flt.fits</td><td>319.600627</td><td>0.291132</td><td>-0.00000517444</td><td>0.00000648405</td><td>0.00000780313</td><td>0.00000526998</td></tr>\n",
       "<tr><td>hst_16231_03_acs_sbc_f150lp_jec403ie_flt.fits</td><td>319.600549</td><td>0.291367</td><td>-0.00000517438</td><td>0.00000648397</td><td>0.00000780304</td><td>0.00000526992</td></tr>\n",
       "</table></div>"
      ],
      "text/plain": [
       "<Table masked=True length=8>\n",
       "                     file                       CRVAL1   ...     CD2_2    \n",
       "                    str45                      float64   ...    float64   \n",
       "--------------------------------------------- ---------- ... -------------\n",
       "hst_16231_01_acs_sbc_f150lp_jec401no_flt.fits 319.601089 ... 0.00000456484\n",
       "hst_16231_01_acs_sbc_f150lp_jec401nr_flt.fits 319.601141 ... 0.00000456478\n",
       "hst_16231_01_acs_sbc_f150lp_jec401nv_flt.fits 319.600974 ... 0.00000456470\n",
       "hst_16231_01_acs_sbc_f150lp_jec401nx_flt.fits 319.600926 ... 0.00000456465\n",
       "hst_16231_03_acs_sbc_f150lp_jec403ib_flt.fits 319.600695 ... 0.00000527014\n",
       "hst_16231_03_acs_sbc_f150lp_jec403ic_flt.fits 319.600782 ... 0.00000527007\n",
       "hst_16231_03_acs_sbc_f150lp_jec403id_flt.fits 319.600627 ... 0.00000526998\n",
       "hst_16231_03_acs_sbc_f150lp_jec403ie_flt.fits 319.600549 ... 0.00000526992"
      ]
     },
     "execution_count": 45,
     "metadata": {},
     "output_type": "execute_result"
    }
   ],
   "source": [
    "collect = ImageFileCollection('./', filenames = lst_1 + lst_3, ext=2, glob_include = '*flt.fits',\n",
    "                                 keywords=[\"CRVAL1\", \"CRVAL2\", \"CD1_1\", \"CD1_2\",\n",
    "                                           \"CD2_1\", \"CD2_2\"])\n",
    "table = collect.summary\n",
    "table['CRVAL1'].format = '.6f'\n",
    "table['CRVAL2'].format = '.6f'\n",
    "table['CD1_1'].format = '.11f'\n",
    "table['CD1_2'].format = '.11f'\n",
    "table['CD2_1'].format = '.11f'\n",
    "table['CD2_2'].format = '.11f'\n",
    "table"
   ]
  },
  {
   "cell_type": "code",
   "execution_count": 32,
   "id": "b371d542",
   "metadata": {},
   "outputs": [
    {
     "data": {
      "text/html": [
       "<div><i>Table masked=True length=8</i>\n",
       "<table id=\"table140474556202864\" class=\"table-striped table-bordered table-condensed\">\n",
       "<thead><tr><th>file</th><th>CRVAL1</th><th>CRVAL2</th><th>CD1_1</th><th>CD1_2</th><th>CD2_1</th><th>CD2_2</th></tr></thead>\n",
       "<thead><tr><th>str45</th><th>float64</th><th>float64</th><th>float64</th><th>float64</th><th>float64</th><th>float64</th></tr></thead>\n",
       "<tr><td>hst_16231_01_acs_sbc_f150lp_jec401no_flt.fits</td><td>319.601084</td><td>0.292113</td><td>-0.00000433217</td><td>0.00000699882</td><td>0.00000830078</td><td>0.00000456484</td></tr>\n",
       "<tr><td>hst_16231_01_acs_sbc_f150lp_jec401nr_flt.fits</td><td>319.601139</td><td>0.291870</td><td>-0.00000433212</td><td>0.00000699873</td><td>0.00000830067</td><td>0.00000456478</td></tr>\n",
       "<tr><td>hst_16231_01_acs_sbc_f150lp_jec401nv_flt.fits</td><td>319.600980</td><td>0.291906</td><td>-0.00000433204</td><td>0.00000699861</td><td>0.00000830054</td><td>0.00000456470</td></tr>\n",
       "<tr><td>hst_16231_01_acs_sbc_f150lp_jec401nx_flt.fits</td><td>319.600925</td><td>0.292148</td><td>-0.00000433199</td><td>0.00000699853</td><td>0.00000830044</td><td>0.00000456465</td></tr>\n",
       "<tr><td>hst_16231_03_acs_sbc_f150lp_jec403ib_flt.fits</td><td>319.600705</td><td>0.291369</td><td>-0.00000517460</td><td>0.00000648425</td><td>0.00000780337</td><td>0.00000527014</td></tr>\n",
       "<tr><td>hst_16231_03_acs_sbc_f150lp_jec403ic_flt.fits</td><td>319.600785</td><td>0.291134</td><td>-0.00000517453</td><td>0.00000648416</td><td>0.00000780327</td><td>0.00000527007</td></tr>\n",
       "<tr><td>hst_16231_03_acs_sbc_f150lp_jec403id_flt.fits</td><td>319.600623</td><td>0.291153</td><td>-0.00000517444</td><td>0.00000648405</td><td>0.00000780313</td><td>0.00000526998</td></tr>\n",
       "<tr><td>hst_16231_03_acs_sbc_f150lp_jec403ie_flt.fits</td><td>319.600543</td><td>0.291388</td><td>-0.00000517438</td><td>0.00000648397</td><td>0.00000780304</td><td>0.00000526992</td></tr>\n",
       "</table></div>"
      ],
      "text/plain": [
       "<Table masked=True length=8>\n",
       "                     file                       CRVAL1   ...     CD2_2    \n",
       "                    str45                      float64   ...    float64   \n",
       "--------------------------------------------- ---------- ... -------------\n",
       "hst_16231_01_acs_sbc_f150lp_jec401no_flt.fits 319.601084 ... 0.00000456484\n",
       "hst_16231_01_acs_sbc_f150lp_jec401nr_flt.fits 319.601139 ... 0.00000456478\n",
       "hst_16231_01_acs_sbc_f150lp_jec401nv_flt.fits 319.600980 ... 0.00000456470\n",
       "hst_16231_01_acs_sbc_f150lp_jec401nx_flt.fits 319.600925 ... 0.00000456465\n",
       "hst_16231_03_acs_sbc_f150lp_jec403ib_flt.fits 319.600705 ... 0.00000527014\n",
       "hst_16231_03_acs_sbc_f150lp_jec403ic_flt.fits 319.600785 ... 0.00000527007\n",
       "hst_16231_03_acs_sbc_f150lp_jec403id_flt.fits 319.600623 ... 0.00000526998\n",
       "hst_16231_03_acs_sbc_f150lp_jec403ie_flt.fits 319.600543 ... 0.00000526992"
      ]
     },
     "execution_count": 32,
     "metadata": {},
     "output_type": "execute_result"
    }
   ],
   "source": [
    "collect = ImageFileCollection('./OrIg_files/', filenames = lst_1 + lst_3, ext=2, glob_include = '*flt.fits',\n",
    "                                 keywords=[\"CRVAL1\", \"CRVAL2\", \"CD1_1\", \"CD1_2\",\n",
    "                                           \"CD2_1\", \"CD2_2\"])\n",
    "table = collect.summary\n",
    "table['CRVAL1'].format = '.6f'\n",
    "table['CRVAL2'].format = '.6f'\n",
    "table['CD1_1'].format = '.11f'\n",
    "table['CD1_2'].format = '.11f'\n",
    "table['CD2_1'].format = '.11f'\n",
    "table['CD2_2'].format = '.11f'\n",
    "table"
   ]
  },
  {
   "cell_type": "code",
   "execution_count": null,
   "id": "a0365495",
   "metadata": {},
   "outputs": [],
   "source": []
  }
 ],
 "metadata": {
  "kernelspec": {
   "display_name": "Python 3 (ipykernel)",
   "language": "python",
   "name": "python3"
  },
  "language_info": {
   "codemirror_mode": {
    "name": "ipython",
    "version": 3
   },
   "file_extension": ".py",
   "mimetype": "text/x-python",
   "name": "python",
   "nbconvert_exporter": "python",
   "pygments_lexer": "ipython3",
   "version": "3.9.12"
  }
 },
 "nbformat": 4,
 "nbformat_minor": 5
}
