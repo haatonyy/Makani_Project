{
 "cells": [
  {
   "cell_type": "code",
   "execution_count": 2,
   "id": "21ae4f82",
   "metadata": {},
   "outputs": [
    {
     "name": "stdout",
     "output_type": "stream",
     "text": [
      "\n",
      "\n",
      "The following task in the stsci.skypac package can be run with TEAL:\n",
      "                                    skymatch                                    \n",
      "The following tasks in the drizzlepac package can be run with TEAL:\n",
      "    astrodrizzle       config_testbed      imagefindpars           mapreg       \n",
      "       photeq            pixreplace           pixtopix            pixtosky      \n",
      "  refimagefindpars       resetbits          runastrodriz          skytopix      \n",
      "     tweakback            tweakreg           updatenpol\n"
     ]
    }
   ],
   "source": [
    "from astroquery.mast import Observations\n",
    "from ccdproc import ImageFileCollection\n",
    "from astropy.table import Table\n",
    "from astropy.io import fits\n",
    "from astropy.io import ascii\n",
    "from astropy.visualization import ZScaleInterval\n",
    "from IPython.display import Image\n",
    "import glob\n",
    "import matplotlib.pyplot as plt\n",
    "import numpy as np\n",
    "import os\n",
    "import shutil\n",
    "from drizzlepac import tweakreg\n",
    "from drizzlepac import astrodrizzle"
   ]
  },
  {
   "cell_type": "markdown",
   "id": "caa17906",
   "metadata": {},
   "source": [
    "A way to import files from each visit <br>"
   ]
  },
  {
   "cell_type": "code",
   "execution_count": 189,
   "id": "d24f98bb",
   "metadata": {},
   "outputs": [
    {
     "name": "stdout",
     "output_type": "stream",
     "text": [
      "Downloading URL https://mast.stsci.edu/api/v0.1/Download/file?uri=mast:HST/product/hst_16231_09_acs_sbc_f150lp_jec409i9_flt.fits to ./science/mastDownload/HST/hst_16231_09_acs_sbc_f150lp_jec409i9/hst_16231_09_acs_sbc_f150lp_jec409i9_flt.fits ... [Done]\n",
      "Downloading URL https://mast.stsci.edu/api/v0.1/Download/file?uri=mast:HST/product/hst_16231_09_acs_sbc_f150lp_jec409ia_flt.fits to ./science/mastDownload/HST/hst_16231_09_acs_sbc_f150lp_jec409ia/hst_16231_09_acs_sbc_f150lp_jec409ia_flt.fits ... [Done]\n",
      "Downloading URL https://mast.stsci.edu/api/v0.1/Download/file?uri=mast:HST/product/jec409i7q_flt.fits to ./science/mastDownload/HST/jec409i7q/jec409i7q_flt.fits ... [Done]\n",
      "Downloading URL https://mast.stsci.edu/api/v0.1/Download/file?uri=mast:HST/product/jec409i8q_flt.fits to ./science/mastDownload/HST/jec409i8q/jec409i8q_flt.fits ... [Done]\n",
      "Downloading URL https://mast.stsci.edu/api/v0.1/Download/file?uri=mast:HST/product/jec409i9q_flt.fits to ./science/mastDownload/HST/jec409i9q/jec409i9q_flt.fits ... [Done]\n",
      "Downloading URL https://mast.stsci.edu/api/v0.1/Download/file?uri=mast:HST/product/jec409iaq_flt.fits to ./science/mastDownload/HST/jec409iaq/jec409iaq_flt.fits ... [Done]\n",
      "Downloading URL https://mast.stsci.edu/api/v0.1/Download/file?uri=mast:HST/product/hst_16231_06_acs_sbc_f150lp_jec406m6_flt.fits to ./science/mastDownload/HST/hst_16231_06_acs_sbc_f150lp_jec406m6/hst_16231_06_acs_sbc_f150lp_jec406m6_flt.fits ... [Done]\n",
      "Downloading URL https://mast.stsci.edu/api/v0.1/Download/file?uri=mast:HST/product/hst_16231_06_acs_sbc_f150lp_jec406m8_flt.fits to ./science/mastDownload/HST/hst_16231_06_acs_sbc_f150lp_jec406m8/hst_16231_06_acs_sbc_f150lp_jec406m8_flt.fits ... [Done]\n",
      "Downloading URL https://mast.stsci.edu/api/v0.1/Download/file?uri=mast:HST/product/jec406m4q_flt.fits to ./science/mastDownload/HST/jec406m4q/jec406m4q_flt.fits ... [Done]\n",
      "Downloading URL https://mast.stsci.edu/api/v0.1/Download/file?uri=mast:HST/product/jec406m6q_flt.fits to ./science/mastDownload/HST/jec406m6q/jec406m6q_flt.fits ... [Done]\n",
      "Downloading URL https://mast.stsci.edu/api/v0.1/Download/file?uri=mast:HST/product/jec406m7q_flt.fits to ./science/mastDownload/HST/jec406m7q/jec406m7q_flt.fits ... [Done]\n",
      "Downloading URL https://mast.stsci.edu/api/v0.1/Download/file?uri=mast:HST/product/jec406m8q_flt.fits to ./science/mastDownload/HST/jec406m8q/jec406m8q_flt.fits ... [Done]\n",
      "Downloading URL https://mast.stsci.edu/api/v0.1/Download/file?uri=mast:HST/product/hst_16231_01_acs_sbc_f150lp_jec401no_flt.fits to ./science/mastDownload/HST/hst_16231_01_acs_sbc_f150lp_jec401no/hst_16231_01_acs_sbc_f150lp_jec401no_flt.fits ... [Done]\n",
      "Downloading URL https://mast.stsci.edu/api/v0.1/Download/file?uri=mast:HST/product/hst_16231_01_acs_sbc_f150lp_jec401nr_flt.fits to ./science/mastDownload/HST/hst_16231_01_acs_sbc_f150lp_jec401nr/hst_16231_01_acs_sbc_f150lp_jec401nr_flt.fits ... [Done]\n",
      "Downloading URL https://mast.stsci.edu/api/v0.1/Download/file?uri=mast:HST/product/hst_16231_01_acs_sbc_f150lp_jec401nv_flt.fits to ./science/mastDownload/HST/hst_16231_01_acs_sbc_f150lp_jec401nv/hst_16231_01_acs_sbc_f150lp_jec401nv_flt.fits ... [Done]\n",
      "Downloading URL https://mast.stsci.edu/api/v0.1/Download/file?uri=mast:HST/product/hst_16231_01_acs_sbc_f150lp_jec401nx_flt.fits to ./science/mastDownload/HST/hst_16231_01_acs_sbc_f150lp_jec401nx/hst_16231_01_acs_sbc_f150lp_jec401nx_flt.fits ... [Done]\n",
      "Downloading URL https://mast.stsci.edu/api/v0.1/Download/file?uri=mast:HST/product/jec401noq_flt.fits to ./science/mastDownload/HST/jec401noq/jec401noq_flt.fits ... [Done]\n",
      "Downloading URL https://mast.stsci.edu/api/v0.1/Download/file?uri=mast:HST/product/jec401nrq_flt.fits to ./science/mastDownload/HST/jec401nrq/jec401nrq_flt.fits ... [Done]\n",
      "Downloading URL https://mast.stsci.edu/api/v0.1/Download/file?uri=mast:HST/product/jec401nvq_flt.fits to ./science/mastDownload/HST/jec401nvq/jec401nvq_flt.fits ... [Done]\n",
      "Downloading URL https://mast.stsci.edu/api/v0.1/Download/file?uri=mast:HST/product/jec401nxq_flt.fits to ./science/mastDownload/HST/jec401nxq/jec401nxq_flt.fits ... [Done]\n",
      "Downloading URL https://mast.stsci.edu/api/v0.1/Download/file?uri=mast:HST/product/hst_16231_03_acs_sbc_f150lp_jec403ib_flt.fits to ./science/mastDownload/HST/hst_16231_03_acs_sbc_f150lp_jec403ib/hst_16231_03_acs_sbc_f150lp_jec403ib_flt.fits ... [Done]\n",
      "Downloading URL https://mast.stsci.edu/api/v0.1/Download/file?uri=mast:HST/product/hst_16231_03_acs_sbc_f150lp_jec403ic_flt.fits to ./science/mastDownload/HST/hst_16231_03_acs_sbc_f150lp_jec403ic/hst_16231_03_acs_sbc_f150lp_jec403ic_flt.fits ... [Done]\n",
      "Downloading URL https://mast.stsci.edu/api/v0.1/Download/file?uri=mast:HST/product/hst_16231_03_acs_sbc_f150lp_jec403id_flt.fits to ./science/mastDownload/HST/hst_16231_03_acs_sbc_f150lp_jec403id/hst_16231_03_acs_sbc_f150lp_jec403id_flt.fits ... [Done]\n",
      "Downloading URL https://mast.stsci.edu/api/v0.1/Download/file?uri=mast:HST/product/hst_16231_03_acs_sbc_f150lp_jec403ie_flt.fits to ./science/mastDownload/HST/hst_16231_03_acs_sbc_f150lp_jec403ie/hst_16231_03_acs_sbc_f150lp_jec403ie_flt.fits ... [Done]\n",
      "Downloading URL https://mast.stsci.edu/api/v0.1/Download/file?uri=mast:HST/product/jec403ibq_flt.fits to ./science/mastDownload/HST/jec403ibq/jec403ibq_flt.fits ... [Done]\n",
      "Downloading URL https://mast.stsci.edu/api/v0.1/Download/file?uri=mast:HST/product/jec403icq_flt.fits to ./science/mastDownload/HST/jec403icq/jec403icq_flt.fits ... [Done]\n",
      "Downloading URL https://mast.stsci.edu/api/v0.1/Download/file?uri=mast:HST/product/jec403idq_flt.fits to ./science/mastDownload/HST/jec403idq/jec403idq_flt.fits ... [Done]\n",
      "Downloading URL https://mast.stsci.edu/api/v0.1/Download/file?uri=mast:HST/product/jec403ieq_flt.fits to ./science/mastDownload/HST/jec403ieq/jec403ieq_flt.fits ... [Done]\n"
     ]
    },
    {
     "name": "stderr",
     "output_type": "stream",
     "text": [
      "INFO:astroquery:Found cached file ./science/mastDownload/HST/hst_16231_03_acs_sbc_f150lp_jec403ib/hst_16231_03_acs_sbc_f150lp_jec403ib_flt.fits with expected size 10693440.\n",
      "INFO:astroquery:Found cached file ./science/mastDownload/HST/hst_16231_03_acs_sbc_f150lp_jec403ic/hst_16231_03_acs_sbc_f150lp_jec403ic_flt.fits with expected size 10693440.\n"
     ]
    },
    {
     "name": "stdout",
     "output_type": "stream",
     "text": [
      "INFO: Found cached file ./science/mastDownload/HST/hst_16231_03_acs_sbc_f150lp_jec403ib/hst_16231_03_acs_sbc_f150lp_jec403ib_flt.fits with expected size 10693440. [astroquery.query]\n",
      "INFO: Found cached file ./science/mastDownload/HST/hst_16231_03_acs_sbc_f150lp_jec403ic/hst_16231_03_acs_sbc_f150lp_jec403ic_flt.fits with expected size 10693440. [astroquery.query]\n"
     ]
    },
    {
     "name": "stderr",
     "output_type": "stream",
     "text": [
      "INFO:astroquery:Found cached file ./science/mastDownload/HST/hst_16231_03_acs_sbc_f150lp_jec403id/hst_16231_03_acs_sbc_f150lp_jec403id_flt.fits with expected size 10693440.\n",
      "INFO:astroquery:Found cached file ./science/mastDownload/HST/hst_16231_03_acs_sbc_f150lp_jec403ie/hst_16231_03_acs_sbc_f150lp_jec403ie_flt.fits with expected size 10693440.\n"
     ]
    },
    {
     "name": "stdout",
     "output_type": "stream",
     "text": [
      "INFO: Found cached file ./science/mastDownload/HST/hst_16231_03_acs_sbc_f150lp_jec403id/hst_16231_03_acs_sbc_f150lp_jec403id_flt.fits with expected size 10693440. [astroquery.query]\n",
      "INFO: Found cached file ./science/mastDownload/HST/hst_16231_03_acs_sbc_f150lp_jec403ie/hst_16231_03_acs_sbc_f150lp_jec403ie_flt.fits with expected size 10693440. [astroquery.query]\n"
     ]
    },
    {
     "name": "stderr",
     "output_type": "stream",
     "text": [
      "INFO:astroquery:Found cached file ./science/mastDownload/HST/jec403ibq/jec403ibq_flt.fits with expected size 10693440.\n",
      "INFO:astroquery:Found cached file ./science/mastDownload/HST/jec403icq/jec403icq_flt.fits with expected size 10693440.\n"
     ]
    },
    {
     "name": "stdout",
     "output_type": "stream",
     "text": [
      "INFO: Found cached file ./science/mastDownload/HST/jec403ibq/jec403ibq_flt.fits with expected size 10693440. [astroquery.query]\n",
      "INFO: Found cached file ./science/mastDownload/HST/jec403icq/jec403icq_flt.fits with expected size 10693440. [astroquery.query]\n"
     ]
    },
    {
     "name": "stderr",
     "output_type": "stream",
     "text": [
      "INFO:astroquery:Found cached file ./science/mastDownload/HST/jec403idq/jec403idq_flt.fits with expected size 10693440.\n",
      "INFO:astroquery:Found cached file ./science/mastDownload/HST/jec403ieq/jec403ieq_flt.fits with expected size 10693440.\n"
     ]
    },
    {
     "name": "stdout",
     "output_type": "stream",
     "text": [
      "INFO: Found cached file ./science/mastDownload/HST/jec403idq/jec403idq_flt.fits with expected size 10693440. [astroquery.query]\n",
      "INFO: Found cached file ./science/mastDownload/HST/jec403ieq/jec403ieq_flt.fits with expected size 10693440. [astroquery.query]\n",
      "Downloading URL https://mast.stsci.edu/api/v0.1/Download/file?uri=mast:HST/product/hst_16231_06_acs_sbc_f150lp_jec406m4_flt.fits to ./science/mastDownload/HST/hst_16231_06_acs_sbc_f150lp_jec406m4/hst_16231_06_acs_sbc_f150lp_jec406m4_flt.fits ... [Done]\n"
     ]
    },
    {
     "name": "stderr",
     "output_type": "stream",
     "text": [
      "INFO:astroquery:Found cached file ./science/mastDownload/HST/hst_16231_06_acs_sbc_f150lp_jec406m6/hst_16231_06_acs_sbc_f150lp_jec406m6_flt.fits with expected size 10693440.\n"
     ]
    },
    {
     "name": "stdout",
     "output_type": "stream",
     "text": [
      "INFO: Found cached file ./science/mastDownload/HST/hst_16231_06_acs_sbc_f150lp_jec406m6/hst_16231_06_acs_sbc_f150lp_jec406m6_flt.fits with expected size 10693440. [astroquery.query]\n",
      "Downloading URL https://mast.stsci.edu/api/v0.1/Download/file?uri=mast:HST/product/hst_16231_06_acs_sbc_f150lp_jec406m7_flt.fits to ./science/mastDownload/HST/hst_16231_06_acs_sbc_f150lp_jec406m7/hst_16231_06_acs_sbc_f150lp_jec406m7_flt.fits ... [Done]\n"
     ]
    },
    {
     "name": "stderr",
     "output_type": "stream",
     "text": [
      "INFO:astroquery:Found cached file ./science/mastDownload/HST/hst_16231_06_acs_sbc_f150lp_jec406m8/hst_16231_06_acs_sbc_f150lp_jec406m8_flt.fits with expected size 10693440.\n"
     ]
    },
    {
     "name": "stdout",
     "output_type": "stream",
     "text": [
      "INFO: Found cached file ./science/mastDownload/HST/hst_16231_06_acs_sbc_f150lp_jec406m8/hst_16231_06_acs_sbc_f150lp_jec406m8_flt.fits with expected size 10693440. [astroquery.query]\n"
     ]
    },
    {
     "name": "stderr",
     "output_type": "stream",
     "text": [
      "INFO:astroquery:Found cached file ./science/mastDownload/HST/jec406m6q/jec406m6q_flt.fits with expected size 10693440.\n"
     ]
    },
    {
     "name": "stdout",
     "output_type": "stream",
     "text": [
      "INFO: Found cached file ./science/mastDownload/HST/jec406m6q/jec406m6q_flt.fits with expected size 10693440. [astroquery.query]\n"
     ]
    },
    {
     "name": "stderr",
     "output_type": "stream",
     "text": [
      "INFO:astroquery:Found cached file ./science/mastDownload/HST/jec406m8q/jec406m8q_flt.fits with expected size 10693440.\n"
     ]
    },
    {
     "name": "stdout",
     "output_type": "stream",
     "text": [
      "INFO: Found cached file ./science/mastDownload/HST/jec406m8q/jec406m8q_flt.fits with expected size 10693440. [astroquery.query]\n"
     ]
    },
    {
     "name": "stderr",
     "output_type": "stream",
     "text": [
      "INFO:astroquery:Found cached file ./science/mastDownload/HST/hst_16231_01_acs_sbc_f150lp_jec401no/hst_16231_01_acs_sbc_f150lp_jec401no_flt.fits with expected size 10693440.\n"
     ]
    },
    {
     "name": "stdout",
     "output_type": "stream",
     "text": [
      "INFO: Found cached file ./science/mastDownload/HST/hst_16231_01_acs_sbc_f150lp_jec401no/hst_16231_01_acs_sbc_f150lp_jec401no_flt.fits with expected size 10693440. [astroquery.query]\n"
     ]
    },
    {
     "name": "stderr",
     "output_type": "stream",
     "text": [
      "INFO:astroquery:Found cached file ./science/mastDownload/HST/hst_16231_01_acs_sbc_f150lp_jec401nr/hst_16231_01_acs_sbc_f150lp_jec401nr_flt.fits with expected size 10693440.\n"
     ]
    },
    {
     "name": "stdout",
     "output_type": "stream",
     "text": [
      "INFO: Found cached file ./science/mastDownload/HST/hst_16231_01_acs_sbc_f150lp_jec401nr/hst_16231_01_acs_sbc_f150lp_jec401nr_flt.fits with expected size 10693440. [astroquery.query]\n"
     ]
    },
    {
     "name": "stderr",
     "output_type": "stream",
     "text": [
      "INFO:astroquery:Found cached file ./science/mastDownload/HST/hst_16231_01_acs_sbc_f150lp_jec401nv/hst_16231_01_acs_sbc_f150lp_jec401nv_flt.fits with expected size 10693440.\n"
     ]
    },
    {
     "name": "stdout",
     "output_type": "stream",
     "text": [
      "INFO: Found cached file ./science/mastDownload/HST/hst_16231_01_acs_sbc_f150lp_jec401nv/hst_16231_01_acs_sbc_f150lp_jec401nv_flt.fits with expected size 10693440. [astroquery.query]\n"
     ]
    },
    {
     "name": "stderr",
     "output_type": "stream",
     "text": [
      "INFO:astroquery:Found cached file ./science/mastDownload/HST/hst_16231_01_acs_sbc_f150lp_jec401nx/hst_16231_01_acs_sbc_f150lp_jec401nx_flt.fits with expected size 10693440.\n"
     ]
    },
    {
     "name": "stdout",
     "output_type": "stream",
     "text": [
      "INFO: Found cached file ./science/mastDownload/HST/hst_16231_01_acs_sbc_f150lp_jec401nx/hst_16231_01_acs_sbc_f150lp_jec401nx_flt.fits with expected size 10693440. [astroquery.query]\n"
     ]
    },
    {
     "name": "stderr",
     "output_type": "stream",
     "text": [
      "INFO:astroquery:Found cached file ./science/mastDownload/HST/jec401noq/jec401noq_flt.fits with expected size 10693440.\n"
     ]
    },
    {
     "name": "stdout",
     "output_type": "stream",
     "text": [
      "INFO: Found cached file ./science/mastDownload/HST/jec401noq/jec401noq_flt.fits with expected size 10693440. [astroquery.query]\n"
     ]
    },
    {
     "name": "stderr",
     "output_type": "stream",
     "text": [
      "INFO:astroquery:Found cached file ./science/mastDownload/HST/jec401nrq/jec401nrq_flt.fits with expected size 10693440.\n"
     ]
    },
    {
     "name": "stdout",
     "output_type": "stream",
     "text": [
      "INFO: Found cached file ./science/mastDownload/HST/jec401nrq/jec401nrq_flt.fits with expected size 10693440. [astroquery.query]\n"
     ]
    },
    {
     "name": "stderr",
     "output_type": "stream",
     "text": [
      "INFO:astroquery:Found cached file ./science/mastDownload/HST/jec401nvq/jec401nvq_flt.fits with expected size 10693440.\n"
     ]
    },
    {
     "name": "stdout",
     "output_type": "stream",
     "text": [
      "INFO: Found cached file ./science/mastDownload/HST/jec401nvq/jec401nvq_flt.fits with expected size 10693440. [astroquery.query]\n"
     ]
    },
    {
     "name": "stderr",
     "output_type": "stream",
     "text": [
      "INFO:astroquery:Found cached file ./science/mastDownload/HST/jec401nxq/jec401nxq_flt.fits with expected size 10693440.\n"
     ]
    },
    {
     "name": "stdout",
     "output_type": "stream",
     "text": [
      "INFO: Found cached file ./science/mastDownload/HST/jec401nxq/jec401nxq_flt.fits with expected size 10693440. [astroquery.query]\n",
      "Downloading URL https://mast.stsci.edu/api/v0.1/Download/file?uri=mast:HST/product/hst_16231_09_acs_sbc_f150lp_jec409i7_flt.fits to ./science/mastDownload/HST/hst_16231_09_acs_sbc_f150lp_jec409i7/hst_16231_09_acs_sbc_f150lp_jec409i7_flt.fits ... [Done]\n",
      "Downloading URL https://mast.stsci.edu/api/v0.1/Download/file?uri=mast:HST/product/hst_16231_09_acs_sbc_f150lp_jec409i8_flt.fits to ./science/mastDownload/HST/hst_16231_09_acs_sbc_f150lp_jec409i8/hst_16231_09_acs_sbc_f150lp_jec409i8_flt.fits ... [Done]\n"
     ]
    },
    {
     "name": "stderr",
     "output_type": "stream",
     "text": [
      "INFO:astroquery:Found cached file ./science/mastDownload/HST/hst_16231_09_acs_sbc_f150lp_jec409i9/hst_16231_09_acs_sbc_f150lp_jec409i9_flt.fits with expected size 10693440.\n",
      "INFO:astroquery:Found cached file ./science/mastDownload/HST/hst_16231_09_acs_sbc_f150lp_jec409ia/hst_16231_09_acs_sbc_f150lp_jec409ia_flt.fits with expected size 10693440.\n"
     ]
    },
    {
     "name": "stdout",
     "output_type": "stream",
     "text": [
      "INFO: Found cached file ./science/mastDownload/HST/hst_16231_09_acs_sbc_f150lp_jec409i9/hst_16231_09_acs_sbc_f150lp_jec409i9_flt.fits with expected size 10693440. [astroquery.query]\n",
      "INFO: Found cached file ./science/mastDownload/HST/hst_16231_09_acs_sbc_f150lp_jec409ia/hst_16231_09_acs_sbc_f150lp_jec409ia_flt.fits with expected size 10693440. [astroquery.query]\n"
     ]
    },
    {
     "name": "stderr",
     "output_type": "stream",
     "text": [
      "INFO:astroquery:Found cached file ./science/mastDownload/HST/jec409i9q/jec409i9q_flt.fits with expected size 10693440.\n",
      "INFO:astroquery:Found cached file ./science/mastDownload/HST/jec409iaq/jec409iaq_flt.fits with expected size 10693440.\n"
     ]
    },
    {
     "name": "stdout",
     "output_type": "stream",
     "text": [
      "INFO: Found cached file ./science/mastDownload/HST/jec409i9q/jec409i9q_flt.fits with expected size 10693440. [astroquery.query]\n",
      "INFO: Found cached file ./science/mastDownload/HST/jec409iaq/jec409iaq_flt.fits with expected size 10693440. [astroquery.query]\n"
     ]
    }
   ],
   "source": [
    "science_list = Observations.query_criteria(proposal_id='16231', filters='F150LP')#\\\n",
    "                                           #obs_id='jec401010')\n",
    "Observations.download_products(science_list['obsid'], mrp_only=False, download_dir='./science',\\\n",
    "                               productSubGroupDescription=['FLT'])\n",
    "\n",
    "science_files = glob.glob(os.path.join(os.curdir, 'science', 'mastDownload', 'HST', '*', '*fits'))\n",
    "for im in science_files:\n",
    "    root = im.split('/')[-1]\n",
    "    os.rename(im, './' + root)\n",
    "shutil.rmtree('science/')"
   ]
  },
  {
   "cell_type": "code",
   "execution_count": 4,
   "id": "a3ef2ff6",
   "metadata": {},
   "outputs": [
    {
     "data": {
      "text/html": [
       "<div><i>Table masked=True length=8</i>\n",
       "<table id=\"table140480496556304\" class=\"table-striped table-bordered table-condensed\">\n",
       "<thead><tr><th>file</th><th>asn_id</th><th>detector</th><th>filter</th><th>nsamp</th><th>exptime</th><th>postarg1</th><th>postarg2</th></tr></thead>\n",
       "<thead><tr><th>str45</th><th>str9</th><th>str3</th><th>float64</th><th>float64</th><th>float64</th><th>float64</th><th>float64</th></tr></thead>\n",
       "<tr><td>hst_16231_01_acs_sbc_f150lp_jec401no_flt.fits</td><td>JEC401010</td><td>SBC</td><td>--</td><td>--</td><td>624.0</td><td>-0.21</td><td>-0.36</td></tr>\n",
       "<tr><td>hst_16231_01_acs_sbc_f150lp_jec401nr_flt.fits</td><td>JEC401010</td><td>SBC</td><td>--</td><td>--</td><td>624.0</td><td>0.63</td><td>-0.05</td></tr>\n",
       "<tr><td>hst_16231_01_acs_sbc_f150lp_jec401nv_flt.fits</td><td>JEC401010</td><td>SBC</td><td>--</td><td>--</td><td>624.0</td><td>0.21</td><td>0.36</td></tr>\n",
       "<tr><td>hst_16231_01_acs_sbc_f150lp_jec401nx_flt.fits</td><td>JEC401010</td><td>SBC</td><td>--</td><td>--</td><td>624.0</td><td>-0.63</td><td>0.05</td></tr>\n",
       "<tr><td>jec401noq_flt.fits</td><td>JEC401010</td><td>SBC</td><td>--</td><td>--</td><td>624.0</td><td>-0.21</td><td>-0.36</td></tr>\n",
       "<tr><td>jec401nrq_flt.fits</td><td>JEC401010</td><td>SBC</td><td>--</td><td>--</td><td>624.0</td><td>0.63</td><td>-0.05</td></tr>\n",
       "<tr><td>jec401nvq_flt.fits</td><td>JEC401010</td><td>SBC</td><td>--</td><td>--</td><td>624.0</td><td>0.21</td><td>0.36</td></tr>\n",
       "<tr><td>jec401nxq_flt.fits</td><td>JEC401010</td><td>SBC</td><td>--</td><td>--</td><td>624.0</td><td>-0.63</td><td>0.05</td></tr>\n",
       "</table></div>"
      ],
      "text/plain": [
       "<Table masked=True length=8>\n",
       "                     file                       asn_id  ... postarg1 postarg2\n",
       "                    str45                        str9   ... float64  float64 \n",
       "--------------------------------------------- --------- ... -------- --------\n",
       "hst_16231_01_acs_sbc_f150lp_jec401no_flt.fits JEC401010 ...    -0.21    -0.36\n",
       "hst_16231_01_acs_sbc_f150lp_jec401nr_flt.fits JEC401010 ...     0.63    -0.05\n",
       "hst_16231_01_acs_sbc_f150lp_jec401nv_flt.fits JEC401010 ...     0.21     0.36\n",
       "hst_16231_01_acs_sbc_f150lp_jec401nx_flt.fits JEC401010 ...    -0.63     0.05\n",
       "                           jec401noq_flt.fits JEC401010 ...    -0.21    -0.36\n",
       "                           jec401nrq_flt.fits JEC401010 ...     0.63    -0.05\n",
       "                           jec401nvq_flt.fits JEC401010 ...     0.21     0.36\n",
       "                           jec401nxq_flt.fits JEC401010 ...    -0.63     0.05"
      ]
     },
     "execution_count": 4,
     "metadata": {},
     "output_type": "execute_result"
    }
   ],
   "source": [
    "collect = ImageFileCollection('./', glob_include=\"*flt.fits\", ext=0,\n",
    "                                 keywords=[\"asn_id\", \"detector\", \"filter\", \"nsamp\",\n",
    "                                           \"exptime\", \"postarg1\", \"postarg2\"])\n",
    "\n",
    "table = collect.summary\n",
    "table['exptime'].format = '7.1f'\n",
    "table['postarg1'].format = '7.2f'\n",
    "table['postarg2'].format = '7.2f'\n",
    "table"
   ]
  },
  {
   "cell_type": "code",
   "execution_count": 18,
   "id": "dfe16de0",
   "metadata": {},
   "outputs": [
    {
     "data": {
      "text/html": [
       "<div><i>Table masked=True length=1</i>\n",
       "<table id=\"table140652850866192\" class=\"table-striped table-bordered table-condensed\">\n",
       "<thead><tr><th>dataproduct_type</th><th>calib_level</th><th>obs_collection</th><th>obs_id</th><th>target_name</th><th>s_ra</th><th>s_dec</th><th>t_min</th><th>t_max</th><th>t_exptime</th><th>wavelength_region</th><th>filters</th><th>em_min</th><th>em_max</th><th>target_classification</th><th>obs_title</th><th>t_obs_release</th><th>instrument_name</th><th>proposal_pi</th><th>proposal_id</th><th>proposal_type</th><th>project</th><th>sequence_number</th><th>provenance_name</th><th>s_region</th><th>jpegURL</th><th>dataURL</th><th>dataRights</th><th>mtFlag</th><th>srcDen</th><th>intentType</th><th>obsid</th><th>objID</th></tr></thead>\n",
       "<thead><tr><th>str5</th><th>int64</th><th>str3</th><th>str9</th><th>str24</th><th>float64</th><th>float64</th><th>float64</th><th>float64</th><th>float64</th><th>str2</th><th>str6</th><th>float64</th><th>float64</th><th>str32</th><th>str117</th><th>float64</th><th>str7</th><th>str12</th><th>str5</th><th>str2</th><th>str3</th><th>int64</th><th>str6</th><th>str469</th><th>str34</th><th>str35</th><th>str6</th><th>bool</th><th>float64</th><th>str7</th><th>str8</th><th>str9</th></tr></thead>\n",
       "<tr><td>image</td><td>3</td><td>HST</td><td>jec401010</td><td>SDSS-J211824.06+001729.4</td><td>319.600301831</td><td>0.2916033187818</td><td>59361.28522789352</td><td>59361.31620011574</td><td>2496.0</td><td>UV</td><td>F150LP</td><td>147.0</td><td>200.0</td><td>GALAXY;INTERACTING GALAXY;STARBU</td><td>Witnessing the circumgalactic medium in formation: Imaging OVI in the warm-hot CGM of a record-breaking galactic wind</td><td>59545.6085995</td><td>ACS/SBC</td><td>Rupke, David</td><td>16231</td><td>GO</td><td>HST</td><td>--</td><td>CALACS</td><td>POLYGON -40.404804619999993 0.29382642 -40.400379069999985 0.28534736 -40.400274148443515 0.28541562806207654 -40.400219919999984 0.28531173 -40.39307212 0.28996249 -40.393180581210551 0.29017029393850308 -40.393127610000022 0.29020476 -40.397553159999973 0.29868382 -40.397658077686792 0.2986155545773857 -40.397712309999974 0.29871946 -40.404860110000016 0.29406869 -40.404751648678179 0.29386088619566242 -40.404804619999993 0.29382642 -40.404804619999993 0.29382642</td><td>mast:HST/product/jec401010_drz.jpg</td><td>mast:HST/product/jec401010_drz.fits</td><td>PUBLIC</td><td>False</td><td>nan</td><td>science</td><td>60942439</td><td>153119885</td></tr>\n",
       "</table></div>"
      ],
      "text/plain": [
       "<Table masked=True length=1>\n",
       "dataproduct_type calib_level obs_collection ... intentType  obsid     objID  \n",
       "      str5          int64         str3      ...    str7      str8      str9  \n",
       "---------------- ----------- -------------- ... ---------- -------- ---------\n",
       "           image           3            HST ...    science 60942439 153119885"
      ]
     },
     "execution_count": 18,
     "metadata": {},
     "output_type": "execute_result"
    }
   ],
   "source": [
    "science_list"
   ]
  },
  {
   "cell_type": "code",
   "execution_count": 105,
   "id": "43ba2629",
   "metadata": {},
   "outputs": [
    {
     "name": "stderr",
     "output_type": "stream",
     "text": [
      "INFO:drizzlepac.util:Setting up logfile :  tweakreg.log\n"
     ]
    },
    {
     "name": "stdout",
     "output_type": "stream",
     "text": [
      "Setting up logfile :  tweakreg.log\n"
     ]
    },
    {
     "name": "stderr",
     "output_type": "stream",
     "text": [
      "INFO:drizzlepac.tweakreg:TweakReg Version 3.4.2 started at: 16:51:58.299 (09/06/2022) \n"
     ]
    },
    {
     "name": "stdout",
     "output_type": "stream",
     "text": [
      "TweakReg Version 3.4.2 started at: 16:51:58.299 (09/06/2022) \n"
     ]
    },
    {
     "name": "stderr",
     "output_type": "stream",
     "text": [
      "INFO:drizzlepac.tweakreg:\n"
     ]
    },
    {
     "name": "stdout",
     "output_type": "stream",
     "text": [
      "\n"
     ]
    },
    {
     "name": "stderr",
     "output_type": "stream",
     "text": [
      "INFO:drizzlepac.util:Version Information\n"
     ]
    },
    {
     "name": "stdout",
     "output_type": "stream",
     "text": [
      "Version Information\n"
     ]
    },
    {
     "name": "stderr",
     "output_type": "stream",
     "text": [
      "INFO:drizzlepac.util:--------------------\n"
     ]
    },
    {
     "name": "stdout",
     "output_type": "stream",
     "text": [
      "--------------------\n"
     ]
    },
    {
     "name": "stderr",
     "output_type": "stream",
     "text": [
      "INFO:drizzlepac.util:Python Version [Clang 12.0.0 ]\n"
     ]
    },
    {
     "name": "stdout",
     "output_type": "stream",
     "text": [
      "Python Version [Clang 12.0.0 ]\n"
     ]
    },
    {
     "name": "stderr",
     "output_type": "stream",
     "text": [
      "INFO:drizzlepac.util:3.9.12 (main, Jun  1 2022, 06:36:29) \n"
     ]
    },
    {
     "name": "stdout",
     "output_type": "stream",
     "text": [
      "3.9.12 (main, Jun  1 2022, 06:36:29) \n"
     ]
    },
    {
     "name": "stderr",
     "output_type": "stream",
     "text": [
      "INFO:drizzlepac.util:numpy Version -> 1.22.4 \n"
     ]
    },
    {
     "name": "stdout",
     "output_type": "stream",
     "text": [
      "numpy Version -> 1.22.4 \n"
     ]
    },
    {
     "name": "stderr",
     "output_type": "stream",
     "text": [
      "INFO:drizzlepac.util:astropy Version -> 5.1 \n"
     ]
    },
    {
     "name": "stdout",
     "output_type": "stream",
     "text": [
      "astropy Version -> 5.1 \n"
     ]
    },
    {
     "name": "stderr",
     "output_type": "stream",
     "text": [
      "INFO:drizzlepac.util:stwcs Version -> 1.7.2 \n"
     ]
    },
    {
     "name": "stdout",
     "output_type": "stream",
     "text": [
      "stwcs Version -> 1.7.2 \n"
     ]
    },
    {
     "name": "stderr",
     "output_type": "stream",
     "text": [
      "INFO:drizzlepac.tweakreg:\n",
      "INFO:drizzlepac.tweakreg:USER INPUT PARAMETERS common to all Processing Steps:\n",
      "INFO:drizzlepac.tweakreg:\tclean :\tFalse\n",
      "INFO:drizzlepac.tweakreg:\tenforce_user_order :\tTrue\n",
      "INFO:drizzlepac.tweakreg:\texclusions :\t\n",
      "INFO:drizzlepac.tweakreg:\texpand_refcat :\tFalse\n",
      "INFO:drizzlepac.tweakreg:\tinput :\tjec401noq_flt.fits\n",
      "INFO:drizzlepac.tweakreg:\tinteractive :\tFalse\n",
      "INFO:drizzlepac.tweakreg:\trefimage :\t\n",
      "INFO:drizzlepac.tweakreg:\trunfile :\ttweakreg.log\n",
      "INFO:drizzlepac.tweakreg:\tupdatewcs :\tFalse\n",
      "INFO:drizzlepac.tweakreg:\tverbose :\tFalse\n",
      "INFO:drizzlepac.tweakreg:\twritecat :\tTrue\n",
      "INFO:drizzlepac.tweakreg:\n"
     ]
    },
    {
     "name": "stdout",
     "output_type": "stream",
     "text": [
      "\n"
     ]
    },
    {
     "name": "stderr",
     "output_type": "stream",
     "text": [
      "INFO:drizzlepac.tweakreg:Finding shifts for: \n"
     ]
    },
    {
     "name": "stdout",
     "output_type": "stream",
     "text": [
      "Finding shifts for: \n"
     ]
    },
    {
     "name": "stderr",
     "output_type": "stream",
     "text": [
      "INFO:drizzlepac.tweakreg:    jec401noq_flt.fits\n"
     ]
    },
    {
     "name": "stdout",
     "output_type": "stream",
     "text": [
      "    jec401noq_flt.fits\n"
     ]
    },
    {
     "name": "stderr",
     "output_type": "stream",
     "text": [
      "INFO:drizzlepac.tweakreg:\n"
     ]
    },
    {
     "name": "stdout",
     "output_type": "stream",
     "text": [
      "\n"
     ]
    },
    {
     "name": "stderr",
     "output_type": "stream",
     "text": [
      "INFO:drizzlepac.tweakreg:USER INPUT PARAMETERS for finding sources for each input image:\n",
      "INFO:drizzlepac.tweakreg:\tclean :\tFalse\n",
      "INFO:drizzlepac.tweakreg:\tcomputesig :\tTrue\n",
      "INFO:drizzlepac.tweakreg:\tconv_width :\t3.5\n",
      "INFO:drizzlepac.tweakreg:\tdqbits :\t\n",
      "INFO:drizzlepac.tweakreg:\tenforce_user_order :\tTrue\n",
      "INFO:drizzlepac.tweakreg:\texpand_refcat :\tFalse\n",
      "INFO:drizzlepac.tweakreg:\tfluxmax :\tNone\n",
      "INFO:drizzlepac.tweakreg:\tfluxmin :\tNone\n",
      "INFO:drizzlepac.tweakreg:\tinput :\tjec401noq_flt.fits\n",
      "INFO:drizzlepac.tweakreg:\tinteractive :\tFalse\n",
      "INFO:drizzlepac.tweakreg:\tnsigma :\t1.5\n",
      "INFO:drizzlepac.tweakreg:\tpeakmax :\tNone\n",
      "INFO:drizzlepac.tweakreg:\tpeakmin :\t2\n",
      "INFO:drizzlepac.tweakreg:\tratio :\t1.0\n",
      "INFO:drizzlepac.tweakreg:\trefimage :\t\n",
      "INFO:drizzlepac.tweakreg:\troundhi :\t1.0\n",
      "INFO:drizzlepac.tweakreg:\troundlo :\t-1.0\n",
      "INFO:drizzlepac.tweakreg:\trunfile :\ttweakreg.log\n",
      "INFO:drizzlepac.tweakreg:\tsharphi :\t1.0\n",
      "INFO:drizzlepac.tweakreg:\tsharplo :\t0.2\n",
      "INFO:drizzlepac.tweakreg:\tskysigma :\t0.0\n",
      "INFO:drizzlepac.tweakreg:\ttheta :\t0.0\n",
      "INFO:drizzlepac.tweakreg:\tthreshold :\t400\n",
      "INFO:drizzlepac.tweakreg:\tupdatehdr :\tFalse\n",
      "INFO:drizzlepac.tweakreg:\tupdatewcs :\tFalse\n",
      "INFO:drizzlepac.tweakreg:\tuse_sharp_round :\tFalse\n",
      "INFO:drizzlepac.tweakreg:\tverbose :\tFalse\n",
      "INFO:drizzlepac.tweakreg:\twritecat :\tTrue\n",
      "INFO:drizzlepac.tweakreg:\txyunits :\tpixels\n",
      "INFO:drizzlepac.tweakreg:\n",
      "INFO:drizzlepac.imgclasses:===  Source finding for image 'jec401noq_flt.fits':\n"
     ]
    },
    {
     "name": "stdout",
     "output_type": "stream",
     "text": [
      "===  Source finding for image 'jec401noq_flt.fits':\n"
     ]
    },
    {
     "name": "stderr",
     "output_type": "stream",
     "text": [
      "INFO:drizzlepac.catalogs:  #  Source finding for 'jec401noq_flt.fits', EXT=('SCI', 1) started at: 16:51:58.439 (09/06/2022)\n"
     ]
    },
    {
     "name": "stdout",
     "output_type": "stream",
     "text": [
      "  #  Source finding for 'jec401noq_flt.fits', EXT=('SCI', 1) started at: 16:51:58.439 (09/06/2022)\n"
     ]
    },
    {
     "name": "stderr",
     "output_type": "stream",
     "text": [
      "INFO:stsci.imagestats:! WARNING: Clipped data falls within 1 histogram bin\n"
     ]
    },
    {
     "name": "stdout",
     "output_type": "stream",
     "text": [
      "! WARNING: Clipped data falls within 1 histogram bin\n"
     ]
    },
    {
     "name": "stderr",
     "output_type": "stream",
     "text": [
      "INFO:drizzlepac.catalogs:   Finding sources using sky sigma = 0.000000\n",
      "INFO:drizzlepac.catalogs:###Source finding finished at: 16:51:58.614 (09/06/2022)\n",
      "INFO:drizzlepac.catalogs:     Found 31 objects.\n"
     ]
    },
    {
     "name": "stdout",
     "output_type": "stream",
     "text": [
      "     Found 31 objects.\n"
     ]
    },
    {
     "name": "stderr",
     "output_type": "stream",
     "text": [
      "INFO:drizzlepac.imgclasses:===  FINAL number of objects in image 'jec401noq_flt.fits': 31\n"
     ]
    },
    {
     "name": "stdout",
     "output_type": "stream",
     "text": [
      "===  FINAL number of objects in image 'jec401noq_flt.fits': 31\n"
     ]
    },
    {
     "name": "stderr",
     "output_type": "stream",
     "text": [
      "INFO:drizzlepac.imgclasses:\n"
     ]
    },
    {
     "name": "stdout",
     "output_type": "stream",
     "text": [
      "\n"
     ]
    },
    {
     "name": "stderr",
     "output_type": "stream",
     "text": [
      "INFO:drizzlepac.tweakreg:\n"
     ]
    },
    {
     "name": "stdout",
     "output_type": "stream",
     "text": [
      "\n"
     ]
    },
    {
     "name": "stderr",
     "output_type": "stream",
     "text": [
      "INFO:drizzlepac.tweakreg:WARNING: Fewer than two images available for alignment. Quitting...\n"
     ]
    },
    {
     "name": "stdout",
     "output_type": "stream",
     "text": [
      "WARNING: Fewer than two images available for alignment. Quitting...\n"
     ]
    },
    {
     "name": "stderr",
     "output_type": "stream",
     "text": [
      "INFO:drizzlepac.tweakreg:\n"
     ]
    },
    {
     "name": "stdout",
     "output_type": "stream",
     "text": [
      "\n"
     ]
    },
    {
     "name": "stderr",
     "output_type": "stream",
     "text": [
      "WARNING:drizzlepac.tweakreg:Fewer than two images available for alignment. Quitting...\n",
      "INFO:drizzlepac.util:Trailer file written to:  tweakreg.log\n"
     ]
    },
    {
     "name": "stdout",
     "output_type": "stream",
     "text": [
      "Trailer file written to:  tweakreg.log\n"
     ]
    }
   ],
   "source": [
    "tweakreg.TweakReg('jec401noq_flt.fits', \n",
    "    threshold=400,\n",
    "    peakmin =2,\n",
    "    searchrad = 50,\n",
    "    fitgeometry='general',\n",
    "    configobj = None, \n",
    "    interactive=False,\n",
    "    shiftfile=True, \n",
    "    outshifts='shift_general.txt',              \n",
    "    updatehdr=False)"
   ]
  },
  {
   "cell_type": "code",
   "execution_count": 197,
   "id": "82225cbd",
   "metadata": {},
   "outputs": [],
   "source": [
    "file = fits.open('jec401noq_flt.fits')\n",
    "file_1 = fits.open('jec401nrq_flt.fits')\n",
    "file_3 = fits.open('jec403ibq_flt.fits')\n",
    "data = file[1].data"
   ]
  },
  {
   "cell_type": "code",
   "execution_count": 85,
   "id": "1786f8a6",
   "metadata": {},
   "outputs": [
    {
     "name": "stdout",
     "output_type": "stream",
     "text": [
      "11.807156 81 842\n"
     ]
    }
   ],
   "source": [
    "maxval = 0\n",
    "imax = 0\n",
    "jmax = 0\n",
    "for i in range(len(data)):\n",
    "    for j in range(len(data[i])):\n",
    "        if data[i][j] >= maxval and data[i][j]< 12 :\n",
    "            maxval = data[i][j]\n",
    "            imax = i \n",
    "            jmax = j\n",
    "print(maxval, imax, jmax)"
   ]
  },
  {
   "cell_type": "code",
   "execution_count": 115,
   "id": "a9bf55a7",
   "metadata": {},
   "outputs": [
    {
     "data": {
      "text/plain": [
       "5.0057006"
      ]
     },
     "execution_count": 115,
     "metadata": {},
     "output_type": "execute_result"
    }
   ],
   "source": [
    "data[419, 490 ]"
   ]
  },
  {
   "cell_type": "code",
   "execution_count": null,
   "id": "7897308d",
   "metadata": {},
   "outputs": [],
   "source": [
    "281, 55, 83.02697\n",
    "281, 56, 74.186\n",
    "282, 56, 23.7704\n",
    "282, 55, 14.9879\n",
    "\n",
    "699, 420, 21.265812\n"
   ]
  },
  {
   "cell_type": "code",
   "execution_count": 125,
   "id": "c2f673c3",
   "metadata": {},
   "outputs": [
    {
     "data": {
      "text/plain": [
       "<matplotlib.image.AxesImage at 0x7fc42da3b5e0>"
      ]
     },
     "execution_count": 125,
     "metadata": {},
     "output_type": "execute_result"
    },
    {
     "data": {
      "image/png": "[encoded data removed]",
      "text/plain": [
       "<Figure size 432x288 with 1 Axes>"
      ]
     },
     "metadata": {
      "needs_background": "light"
     },
     "output_type": "display_data"
    }
   ],
   "source": [
    "plt.imshow(data[412:425, 482:494])"
   ]
  },
  {
   "cell_type": "code",
   "execution_count": 195,
   "id": "77665e6f",
   "metadata": {},
   "outputs": [
    {
     "data": {
      "text/plain": [
       "XTENSION= 'IMAGE   '           / IMAGE extension                                \n",
       "BITPIX  =                  -32 / number of bits per data pixel                  \n",
       "NAXIS   =                    2 / number of data axes                            \n",
       "NAXIS1  =                 1024 / length of data axis 1                          \n",
       "NAXIS2  =                 1024 / length of data axis 2                          \n",
       "PCOUNT  =                    0 / required keyword; must = 0                     \n",
       "GCOUNT  =                    1 / required keyword; must = 1                     \n",
       "ORIGIN  = 'HSTIO/CFITSIO March 2010' / FITS file originator                     \n",
       "DATE    = '2022-04-13' / date this file was written (yyyy-mm-dd)                \n",
       "INHERIT =                    T / inherit the primary header                     \n",
       "EXTNAME = 'SCI     '           / extension name                                 \n",
       "EXTVER  =                    1 / extension version number                       \n",
       "ROOTNAME= 'jec401noq                         ' / rootname of the observation set\n",
       "EXPNAME = 'jec401noq                ' / exposure identifier                     \n",
       "BUNIT   = 'ELECTRONS'          / brightness units                               \n",
       "                                                                                \n",
       "              / World Coordinate System and Related Parameters                  \n",
       "                                                                                \n",
       "WCSAXES =                    2 / Number of coordinate axes                      \n",
       "CRPIX1  =               512.0  / Pixel coordinate of reference point            \n",
       "CRPIX2  =                512.0 / Pixel coordinate of reference point            \n",
       "CRVAL1  =      319.60108387516 / [deg] Coordinate value at reference point      \n",
       "CRVAL2  =     0.29211273315455 / [deg] Coordinate value at reference point      \n",
       "CTYPE1  = 'RA---TAN-SIP'       / TAN (gnomonic) projection + SIP distortions    \n",
       "CTYPE2  = 'DEC--TAN-SIP'       / TAN (gnomonic) projection + SIP distortions    \n",
       "CD1_1   = -4.3321713358048E-06 / partial of first axis coordinate w.r.t. x      \n",
       "CD1_2   =  6.9988159110091E-06 / partial of first axis coordinate w.r.t. y      \n",
       "CD2_1   = 8.30078281974540E-06 / partial of second axis coordinate w.r.t. x     \n",
       "CD2_2   =  4.5648394920114E-06 / partial of second axis coordinate w.r.t. y     \n",
       "LTV1    =                  0.0 / offset in X to subsection start                \n",
       "LTV2    =                  0.0 / offset in Y to subsection start                \n",
       "RAW_LTV1=                  0.0 / original offset in X to subsection start       \n",
       "RAW_LTV2=                  0.0 / original offset in Y to subsection start       \n",
       "LTM1_1  =                  1.0 / reciprocal of sampling rate in X               \n",
       "LTM2_2  =                  1.0 / reciprocal of sampling rate in Y               \n",
       "ORIENTAT=    56.88639321834458                                                  \n",
       "RA_APER =   3.196003018310E+02 / RA of aperture reference position              \n",
       "DEC_APER=   2.916033187818E-01 / Declination of aperture reference position     \n",
       "PA_APER =              56.9494 / Position Angle of reference aperture center (de\n",
       "VAFACTOR=   1.000112074839E+00 / velocity aberration plate scale factor         \n",
       "                                                                                \n",
       "              / READOUT DEFINITION PARAMETERS                                   \n",
       "                                                                                \n",
       "CENTERA1=                  513 / subarray axis1 center pt in unbinned dect. pix \n",
       "CENTERA2=                  513 / subarray axis2 center pt in unbinned dect. pix \n",
       "SIZAXIS1=                 1024 / subarray axis1 size in unbinned detector pixels\n",
       "SIZAXIS2=                 1024 / subarray axis2 size in unbinned detector pixels\n",
       "BINAXIS1=                    1 / axis1 data bin size in unbinned detector pixels\n",
       "BINAXIS2=                    1 / axis2 data bin size in unbinned detector pixels\n",
       "                                                                                \n",
       "              / PHOTOMETRY KEYWORDS                                             \n",
       "                                                                                \n",
       "PHOTMODE= 'ACS SBC F150LP MJD#59361.2852' / obser                               \n",
       "PHOTFLAM=        3.5315768E-17 / inverse sensitivity, ergs/cm2/Ang/electron     \n",
       "PHOTZPT =       -2.1100000E+01 / ST magnitude zero point                        \n",
       "PHOTPLAM=        1.6056531E+03 / Pivot wavelength (Angstroms)                   \n",
       "PHOTBW  =        1.0916668E+02 / RMS bandwidth of filter plus detector          \n",
       "                                                                                \n",
       "              / DATA PACKET INFORMATION                                         \n",
       "                                                                                \n",
       "FILLCNT =                    0 / number of segments containing fill             \n",
       "ERRCNT  =                    0 / number of segments containing errors           \n",
       "PODPSFF =                    F / podps fill present (T/F)                       \n",
       "STDCFFF =                    F / science telemetry fill data present (T=1/F=0)  \n",
       "STDCFFP = '0x5569'             / science telemetry fill pattern (hex)           \n",
       "                                                                                \n",
       "              / ENGINEERING PARAMETERS                                          \n",
       "                                                                                \n",
       "GLOBRATE=        49.1803278689 / global count rate                              \n",
       "GLOBLIM = 'NOT-EXCEEDED'       / was global linearity level exceeded?           \n",
       "MDECODT1=              18.4251 / MAMA jMDECODT pwb temp from eng snap 1 (deg. C)\n",
       "MDECODT2=              19.6461 / MAMA JMDECODT pwb temp from eng snap 2 (deg. C)\n",
       "                                                                                \n",
       "              / IMAGE STATISTICS AND DATA QUALITY FLAGS                         \n",
       "                                                                                \n",
       "NGOODPIX=              1027065 / number of good pixels                          \n",
       "SDQFLAGS=                31743 / serious data quality flags                     \n",
       "GOODMIN =        0.0000000E+00 / minimum value of good pixels                   \n",
       "GOODMAX =        1.4736766E+01 / maximum value of good pixels                   \n",
       "GOODMEAN=        1.1522267E-02 / mean value of good pixels                      \n",
       "SOFTERRS=                    0 / number of soft error pixels (DQF=1)            \n",
       "SNRMIN  =        0.0000000E+00 / minimum signal to noise of good pixels         \n",
       "SNRMAX  =        3.9974158E+00 / maximum signal to noise of good pixels         \n",
       "SNRMEAN =        1.1135885E-02 / mean value of signal to noise of good pixels   \n",
       "MEANDARK=             0.000000 / average of the dark values subtracted          \n",
       "RADESYS = 'ICRS    '           / Equatorial coordinate system                   \n",
       "S_REGION= 'POLYGON ICRS 319.5997245968344 0.28555400236979545 &'                \n",
       "CONTINUE  '319.60687238925135 0.29020476305387116 319.6024468361284 &'          \n",
       "CONTINUE  '0.29868381837646 319.5952990401411 0.2940330548995228 '              \n",
       "OCX10   = 5.96685677010100E-05 / original linear term from IDCTAB               \n",
       "OCX11   =  0.03355217352509499 / original linear term from IDCTAB               \n",
       "OCY10   =  0.03007783554494381 / original linear term from IDCTAB               \n",
       "OCY11   =  0.00319520547054708 / original linear term from IDCTAB               \n",
       "IDCSCALE=  0.02500000037252903 / pixel scale from the IDCTAB reference file     \n",
       "IDCTHETA=                  0.0 / orientation of detector's Y-axis w.r.t. V3 axis\n",
       "IDCXREF =                512.0 / reference pixel location in X                  \n",
       "IDCYREF =                512.0 / reference pixel location in Y                  \n",
       "IDCV2REF=    205.2599945068359 / reference pixel's V2 position                  \n",
       "IDCV3REF=    469.8269958496094 / reference pixel's V3 position                  \n",
       "WCSNAMEO= 'OPUS    '           / Coordinate system title                        \n",
       "WCSAXESO=                    2 / Number of coordinate axes                      \n",
       "CRPIX1O =                512.0 / Pixel coordinate of reference point            \n",
       "CRPIX2O =                400.0 / Pixel coordinate of reference point            \n",
       "CUNIT1O = 'deg'                / Units of coordinate increment and value        \n",
       "CUNIT2O = 'deg'                / Units of coordinate increment and value        \n",
       "CTYPE1O = 'RA---TAN'           / Right ascension, gnomonic projection           \n",
       "CTYPE2O = 'DEC--TAN'           / Declination, gnomonic projection               \n",
       "CRVAL1O =        319.600301831 / [deg] Coordinate value at reference point      \n",
       "CRVAL2O =      0.2916033187818 / [deg] Coordinate value at reference point      \n",
       "MJDREF  =                  0.0 / [d] MJD of fiducial time                       \n",
       "RADESYSO= 'ICRS'               / Equatorial coordinate system                   \n",
       "CD1_1O  =           -4.326E-06 / partial of first axis coordinate w.r.t. x      \n",
       "CD1_2O  =            6.987E-06 / partial of first axis coordinate w.r.t. y      \n",
       "CD2_1O  =          8.28842E-06 / partial of second axis coordinate w.r.t. x     \n",
       "CD2_2O  =           4.5462E-06 / partial of second axis coordinate w.r.t. y     \n",
       "IDCTAB  = 'jref$v6m2008mj_idc.fits'                                             \n",
       "A_ORDER =                    4 / SIP polynomial order, axis 0, detector to sky  \n",
       "B_ORDER =                    4 / SIP polynomial order, axis 1, detector to sky  \n",
       "A_0_2   = 3.71821579887969E-06 / SIP distortion coefficient                     \n",
       "B_0_2   = 1.00981392294935E-05 / SIP distortion coefficient                     \n",
       "A_1_1   = 1.17765432685549E-05 / SIP distortion coefficient                     \n",
       "B_1_1   = 2.42209952539204E-07 / SIP distortion coefficient                     \n",
       "A_2_0   =  -1.483933123209E-05 / SIP distortion coefficient                     \n",
       "B_2_0   = 4.22468848828112E-07 / SIP distortion coefficient                     \n",
       "A_0_3   = -4.0306486845335E-09 / SIP distortion coefficient                     \n",
       "B_0_3   =  1.6221563200793E-09 / SIP distortion coefficient                     \n",
       "A_1_2   = -2.6066792469435E-09 / SIP distortion coefficient                     \n",
       "B_1_2   = 5.06905748871357E-10 / SIP distortion coefficient                     \n",
       "A_2_1   = 1.34147484133598E-10 / SIP distortion coefficient                     \n",
       "B_2_1   = -7.4477974380425E-09 / SIP distortion coefficient                     \n",
       "A_3_0   =  4.3177243951969E-09 / SIP distortion coefficient                     \n",
       "B_3_0   = -3.1755220958671E-10 / SIP distortion coefficient                     \n",
       "A_0_4   = -2.7480196565056E-11 / SIP distortion coefficient                     \n",
       "B_0_4   = 2.49020089875116E-12 / SIP distortion coefficient                     \n",
       "A_1_3   = -1.1042562713082E-12 / SIP distortion coefficient                     \n",
       "B_1_3   = 6.52484192257676E-12 / SIP distortion coefficient                     \n",
       "A_2_2   = 3.32642166064284E-12 / SIP distortion coefficient                     \n",
       "B_2_2   = -3.0271615259304E-13 / SIP distortion coefficient                     \n",
       "A_3_1   = -8.7909628335581E-13 / SIP distortion coefficient                     \n",
       "B_3_1   = 4.43255209342228E-12 / SIP distortion coefficient                     \n",
       "A_4_0   = 1.46872345905909E-11 / SIP distortion coefficient                     \n",
       "B_4_0   = 7.43178117451922E-13 / SIP distortion coefficient                     \n",
       "WCSNAME = 'IDC_v6m2008mj-GSC240' / Coordinate system title                      \n",
       "CPERR1  = 0.007132729981094599 / Maximum error of NPOL correction for axis 1    \n",
       "CPDIS1  = 'Lookup  '           / Prior distortion function type                 \n",
       "DP1     = 'EXTVER: 1' / Version number of WCSDVARR extension                    \n",
       "DP1     = 'NAXES: 2' / Number of independent variables in CPDIS function        \n",
       "DP1     = 'AXIS.1: 1' / Axis number of the 1st variable in a CPDIS function     \n",
       "DP1     = 'AXIS.2: 2' / Axis number of the 2nd variable in a CPDIS function     \n",
       "CPERR2  = 0.009602183476090431 / Maximum error of NPOL correction for axis 2    \n",
       "CPDIS2  = 'Lookup  '           / Prior distortion function type                 \n",
       "DP2     = 'EXTVER: 2' / Version number of WCSDVARR extension                    \n",
       "DP2     = 'NAXES: 2' / Number of independent variables in CPDIS function        \n",
       "DP2     = 'AXIS.1: 1' / Axis number of the 1st variable in a CPDIS function     \n",
       "DP2     = 'AXIS.2: 2' / Axis number of the 2nd variable in a CPDIS function     \n",
       "NPOLEXT = 'jref$xc215013j_npl.fits'                                             \n",
       "MDRIZSKY=                  0.0 / Sky value computed by AstroDrizzle             \n",
       "CUNIT1  = 'deg'                / Units of coordinate increment and value        \n",
       "CUNIT2  = 'deg'                / Units of coordinate increment and value        \n",
       "WCSNAMEA= 'IDC_v6m2008mj'      / Coordinate system title                        \n",
       "WCSAXESA=                    2 / Number of coordinate axes                      \n",
       "CRPIX1A =                512.0 / Pixel coordinate of reference point            \n",
       "CRPIX2A =                512.0 / Pixel coordinate of reference point            \n",
       "CUNIT1A = 'deg'                / Units of coordinate increment and value        \n",
       "CUNIT2A = 'deg'                / Units of coordinate increment and value        \n",
       "CTYPE1A = 'RA---TAN-SIP'       / TAN (gnomonic) projection + SIP distortions    \n",
       "CTYPE2A = 'DEC--TAN-SIP'       / TAN (gnomonic) projection + SIP distortions    \n",
       "CRVAL1A =      319.60108438517 / [deg] Coordinate value at reference point      \n",
       "CRVAL2A =     0.29211249315454 / [deg] Coordinate value at reference point      \n",
       "RADESYSA= 'ICRS'               / Equatorial coordinate system                   \n",
       "CD1_1A  = -4.3321713372253E-06 / partial of first axis coordinate w.r.t. x      \n",
       "CD1_2A  =  6.9988159105465E-06 / partial of first axis coordinate w.r.t. y      \n",
       "CD2_1A  =  8.3007828284963E-06 / partial of second axis coordinate w.r.t. x     \n",
       "CD2_2A  =  4.5648394983595E-06 / partial of second axis coordinate w.r.t. y     \n",
       "WCSTYPE = 'undistorted a priori solution based on GSC240'                       \n",
       "HDRNAME = 'jec401noq_flt_6d59e9_hlet.fits'                                      \n",
       "WCSNAMEB= 'IDC_v6m2008mj-GSC240' / Coordinate system title                      \n",
       "WCSAXESB=                    2 / Number of coordinate axes                      \n",
       "CRPIX1B =                512.0 / Pixel coordinate of reference point            \n",
       "CRPIX2B =                512.0 / Pixel coordinate of reference point            \n",
       "CUNIT1B = 'deg'                / Units of coordinate increment and value        \n",
       "CUNIT2B = 'deg'                / Units of coordinate increment and value        \n",
       "CTYPE1B = 'RA---TAN-SIP'       / TAN (gnomonic) projection + SIP distortions    \n",
       "CTYPE2B = 'DEC--TAN-SIP'       / TAN (gnomonic) projection + SIP distortions    \n",
       "CRVAL1B =      319.60108387516 / [deg] Coordinate value at reference point      \n",
       "CRVAL2B =     0.29211273315455 / [deg] Coordinate value at reference point      \n",
       "RADESYSB= 'ICRS'               / Equatorial coordinate system                   \n",
       "CD1_1B  = -4.3321713358048E-06 / partial of first axis coordinate w.r.t. x      \n",
       "CD1_2B  =  6.9988159110091E-06 / partial of first axis coordinate w.r.t. y      \n",
       "CD2_1B  = 8.30078281974540E-06 / partial of second axis coordinate w.r.t. x     \n",
       "CD2_2B  =  4.5648394920114E-06 / partial of second axis coordinate w.r.t. y     \n",
       "WCSTYPEB= 'undistorted a priori solution based on GSC240'                       \n",
       "HDRNAMEB= 'jec401noq_flt_6d59e9_hlet.fits'                                      \n",
       "WCSTYPEA= 'undistorted not aligned'                                             \n",
       "WCSTYPEO= 'pipeline default not aligned'                                        "
      ]
     },
     "execution_count": 195,
     "metadata": {},
     "output_type": "execute_result"
    }
   ],
   "source": [
    "file[1].header\n"
   ]
  },
  {
   "cell_type": "code",
   "execution_count": 198,
   "id": "eadebb40",
   "metadata": {},
   "outputs": [
    {
     "data": {
      "text/plain": [
       "XTENSION= 'IMAGE   '           / IMAGE extension                                \n",
       "BITPIX  =                  -32 / number of bits per data pixel                  \n",
       "NAXIS   =                    2 / number of data axes                            \n",
       "NAXIS1  =                 1024 / length of data axis 1                          \n",
       "NAXIS2  =                 1024 / length of data axis 2                          \n",
       "PCOUNT  =                    0 / required keyword; must = 0                     \n",
       "GCOUNT  =                    1 / required keyword; must = 1                     \n",
       "ORIGIN  = 'HSTIO/CFITSIO March 2010' / FITS file originator                     \n",
       "DATE    = '2022-04-13' / date this file was written (yyyy-mm-dd)                \n",
       "INHERIT =                    T / inherit the primary header                     \n",
       "EXTNAME = 'SCI     '           / extension name                                 \n",
       "EXTVER  =                    1 / extension version number                       \n",
       "ROOTNAME= 'jec401nrq                         ' / rootname of the observation set\n",
       "EXPNAME = 'jec401nrq                ' / exposure identifier                     \n",
       "BUNIT   = 'ELECTRONS'          / brightness units                               \n",
       "                                                                                \n",
       "              / World Coordinate System and Related Parameters                  \n",
       "                                                                                \n",
       "WCSAXES =                    2 / Number of coordinate axes                      \n",
       "CRPIX1  =               512.0  / Pixel coordinate of reference point            \n",
       "CRPIX2  =                512.0 / Pixel coordinate of reference point            \n",
       "CRVAL1  =      319.60113936155 / [deg] Coordinate value at reference point      \n",
       "CRVAL2  =     0.29187045763134 / [deg] Coordinate value at reference point      \n",
       "CTYPE1  = 'RA---TAN-SIP'       / TAN (gnomonic) projection + SIP distortions    \n",
       "CTYPE2  = 'DEC--TAN-SIP'       / TAN (gnomonic) projection + SIP distortions    \n",
       "CD1_1   = -4.3321151746296E-06 / partial of first axis coordinate w.r.t. x      \n",
       "CD1_2   =  6.9987250233819E-06 / partial of first axis coordinate w.r.t. y      \n",
       "CD2_1   = 8.30067499086699E-06 / partial of second axis coordinate w.r.t. x     \n",
       "CD2_2   =  4.5647803208634E-06 / partial of second axis coordinate w.r.t. y     \n",
       "LTV1    =                  0.0 / offset in X to subsection start                \n",
       "LTV2    =                  0.0 / offset in Y to subsection start                \n",
       "RAW_LTV1=                  0.0 / original offset in X to subsection start       \n",
       "RAW_LTV2=                  0.0 / original offset in Y to subsection start       \n",
       "LTM1_1  =                  1.0 / reciprocal of sampling rate in X               \n",
       "LTM2_2  =                  1.0 / reciprocal of sampling rate in Y               \n",
       "ORIENTAT=    56.88639259511973                                                  \n",
       "RA_APER =   3.196003573174E+02 / RA of aperture reference position              \n",
       "DEC_APER=   2.913610432586E-01 / Declination of aperture reference position     \n",
       "PA_APER =              56.9494 / Position Angle of reference aperture center (de\n",
       "VAFACTOR=   1.000099089799E+00 / velocity aberration plate scale factor         \n",
       "                                                                                \n",
       "              / READOUT DEFINITION PARAMETERS                                   \n",
       "                                                                                \n",
       "CENTERA1=                  513 / subarray axis1 center pt in unbinned dect. pix \n",
       "CENTERA2=                  513 / subarray axis2 center pt in unbinned dect. pix \n",
       "SIZAXIS1=                 1024 / subarray axis1 size in unbinned detector pixels\n",
       "SIZAXIS2=                 1024 / subarray axis2 size in unbinned detector pixels\n",
       "BINAXIS1=                    1 / axis1 data bin size in unbinned detector pixels\n",
       "BINAXIS2=                    1 / axis2 data bin size in unbinned detector pixels\n",
       "                                                                                \n",
       "              / PHOTOMETRY KEYWORDS                                             \n",
       "                                                                                \n",
       "PHOTMODE= 'ACS SBC F150LP MJD#59361.2931' / obser                               \n",
       "PHOTFLAM=        3.5315768E-17 / inverse sensitivity, ergs/cm2/Ang/electron     \n",
       "PHOTZPT =       -2.1100000E+01 / ST magnitude zero point                        \n",
       "PHOTPLAM=        1.6056531E+03 / Pivot wavelength (Angstroms)                   \n",
       "PHOTBW  =        1.0916668E+02 / RMS bandwidth of filter plus detector          \n",
       "                                                                                \n",
       "              / DATA PACKET INFORMATION                                         \n",
       "                                                                                \n",
       "FILLCNT =                    0 / number of segments containing fill             \n",
       "ERRCNT  =                    0 / number of segments containing errors           \n",
       "PODPSFF =                    F / podps fill present (T/F)                       \n",
       "STDCFFF =                    F / science telemetry fill data present (T=1/F=0)  \n",
       "STDCFFP = '0x5569'             / science telemetry fill pattern (hex)           \n",
       "                                                                                \n",
       "              / ENGINEERING PARAMETERS                                          \n",
       "                                                                                \n",
       "GLOBRATE=         16.393442623 / global count rate                              \n",
       "GLOBLIM = 'NOT-EXCEEDED'       / was global linearity level exceeded?           \n",
       "MDECODT1=              19.6461 / MAMA jMDECODT pwb temp from eng snap 1 (deg. C)\n",
       "MDECODT2=              20.6229 / MAMA JMDECODT pwb temp from eng snap 2 (deg. C)\n",
       "                                                                                \n",
       "              / IMAGE STATISTICS AND DATA QUALITY FLAGS                         \n",
       "                                                                                \n",
       "NGOODPIX=              1027065 / number of good pixels                          \n",
       "SDQFLAGS=                31743 / serious data quality flags                     \n",
       "GOODMIN =        0.0000000E+00 / minimum value of good pixels                   \n",
       "GOODMAX =        1.6148897E+01 / maximum value of good pixels                   \n",
       "GOODMEAN=        1.2029584E-02 / mean value of good pixels                      \n",
       "SOFTERRS=                    0 / number of soft error pixels (DQF=1)            \n",
       "SNRMIN  =        0.0000000E+00 / minimum signal to noise of good pixels         \n",
       "SNRMAX  =        4.1206808E+00 / maximum signal to noise of good pixels         \n",
       "SNRMEAN =        1.1630149E-02 / mean value of signal to noise of good pixels   \n",
       "MEANDARK=             0.000000 / average of the dark values subtracted          \n",
       "RADESYS = 'ICRS    '           / Equatorial coordinate system                   \n",
       "S_REGION= 'POLYGON ICRS 319.59978008324646 0.285311726846597 &'                 \n",
       "CONTINUE  '319.6069278755106 0.28996248753225345 319.6025023224811 &'           \n",
       "CONTINUE  '0.29844154285341906 319.59535452664954 0.2937907793772356 '          \n",
       "OCX10   = 5.96685677010100E-05 / original linear term from IDCTAB               \n",
       "OCX11   =  0.03355217352509499 / original linear term from IDCTAB               \n",
       "OCY10   =  0.03007783554494381 / original linear term from IDCTAB               \n",
       "OCY11   =  0.00319520547054708 / original linear term from IDCTAB               \n",
       "IDCSCALE=  0.02500000037252903 / pixel scale from the IDCTAB reference file     \n",
       "IDCTHETA=                  0.0 / orientation of detector's Y-axis w.r.t. V3 axis\n",
       "IDCXREF =                512.0 / reference pixel location in X                  \n",
       "IDCYREF =                512.0 / reference pixel location in Y                  \n",
       "IDCV2REF=    205.2599945068359 / reference pixel's V2 position                  \n",
       "IDCV3REF=    469.8269958496094 / reference pixel's V3 position                  \n",
       "WCSNAMEO= 'OPUS    '           / Coordinate system title                        \n",
       "WCSAXESO=                    2 / Number of coordinate axes                      \n",
       "CRPIX1O =                512.0 / Pixel coordinate of reference point            \n",
       "CRPIX2O =                400.0 / Pixel coordinate of reference point            \n",
       "CUNIT1O = 'deg'                / Units of coordinate increment and value        \n",
       "CUNIT2O = 'deg'                / Units of coordinate increment and value        \n",
       "CTYPE1O = 'RA---TAN'           / Right ascension, gnomonic projection           \n",
       "CTYPE2O = 'DEC--TAN'           / Declination, gnomonic projection               \n",
       "CRVAL1O =       319.6003573174 / [deg] Coordinate value at reference point      \n",
       "CRVAL2O =      0.2913610432586 / [deg] Coordinate value at reference point      \n",
       "MJDREF  =                  0.0 / [d] MJD of fiducial time                       \n",
       "RADESYSO= 'ICRS'               / Equatorial coordinate system                   \n",
       "CD1_1O  =           -4.326E-06 / partial of first axis coordinate w.r.t. x      \n",
       "CD1_2O  =            6.987E-06 / partial of first axis coordinate w.r.t. y      \n",
       "CD2_1O  =          8.28842E-06 / partial of second axis coordinate w.r.t. x     \n",
       "CD2_2O  =           4.5462E-06 / partial of second axis coordinate w.r.t. y     \n",
       "IDCTAB  = 'jref$v6m2008mj_idc.fits'                                             \n",
       "A_ORDER =                    4 / SIP polynomial order, axis 0, detector to sky  \n",
       "B_ORDER =                    4 / SIP polynomial order, axis 1, detector to sky  \n",
       "A_0_2   = 3.71821579887969E-06 / SIP distortion coefficient                     \n",
       "B_0_2   = 1.00981392294935E-05 / SIP distortion coefficient                     \n",
       "A_1_1   = 1.17765432685549E-05 / SIP distortion coefficient                     \n",
       "B_1_1   = 2.42209952539204E-07 / SIP distortion coefficient                     \n",
       "A_2_0   =  -1.483933123209E-05 / SIP distortion coefficient                     \n",
       "B_2_0   = 4.22468848828112E-07 / SIP distortion coefficient                     \n",
       "A_0_3   = -4.0306486845335E-09 / SIP distortion coefficient                     \n",
       "B_0_3   =  1.6221563200793E-09 / SIP distortion coefficient                     \n",
       "A_1_2   = -2.6066792469435E-09 / SIP distortion coefficient                     \n",
       "B_1_2   = 5.06905748871357E-10 / SIP distortion coefficient                     \n",
       "A_2_1   = 1.34147484133598E-10 / SIP distortion coefficient                     \n",
       "B_2_1   = -7.4477974380425E-09 / SIP distortion coefficient                     \n",
       "A_3_0   =  4.3177243951969E-09 / SIP distortion coefficient                     \n",
       "B_3_0   = -3.1755220958671E-10 / SIP distortion coefficient                     \n",
       "A_0_4   = -2.7480196565056E-11 / SIP distortion coefficient                     \n",
       "B_0_4   = 2.49020089875116E-12 / SIP distortion coefficient                     \n",
       "A_1_3   = -1.1042562713082E-12 / SIP distortion coefficient                     \n",
       "B_1_3   = 6.52484192257676E-12 / SIP distortion coefficient                     \n",
       "A_2_2   = 3.32642166064284E-12 / SIP distortion coefficient                     \n",
       "B_2_2   = -3.0271615259304E-13 / SIP distortion coefficient                     \n",
       "A_3_1   = -8.7909628335581E-13 / SIP distortion coefficient                     \n",
       "B_3_1   = 4.43255209342228E-12 / SIP distortion coefficient                     \n",
       "A_4_0   = 1.46872345905909E-11 / SIP distortion coefficient                     \n",
       "B_4_0   = 7.43178117451922E-13 / SIP distortion coefficient                     \n",
       "WCSNAME = 'IDC_v6m2008mj-GSC240' / Coordinate system title                      \n",
       "CPERR1  = 0.007132729981094599 / Maximum error of NPOL correction for axis 1    \n",
       "CPDIS1  = 'Lookup  '           / Prior distortion function type                 \n",
       "DP1     = 'EXTVER: 1' / Version number of WCSDVARR extension                    \n",
       "DP1     = 'NAXES: 2' / Number of independent variables in CPDIS function        \n",
       "DP1     = 'AXIS.1: 1' / Axis number of the 1st variable in a CPDIS function     \n",
       "DP1     = 'AXIS.2: 2' / Axis number of the 2nd variable in a CPDIS function     \n",
       "CPERR2  = 0.009602183476090431 / Maximum error of NPOL correction for axis 2    \n",
       "CPDIS2  = 'Lookup  '           / Prior distortion function type                 \n",
       "DP2     = 'EXTVER: 2' / Version number of WCSDVARR extension                    \n",
       "DP2     = 'NAXES: 2' / Number of independent variables in CPDIS function        \n",
       "DP2     = 'AXIS.1: 1' / Axis number of the 1st variable in a CPDIS function     \n",
       "DP2     = 'AXIS.2: 2' / Axis number of the 2nd variable in a CPDIS function     \n",
       "NPOLEXT = 'jref$xc215013j_npl.fits'                                             \n",
       "MDRIZSKY=                  0.0 / Sky value computed by AstroDrizzle             \n",
       "CUNIT1  = 'deg'                / Units of coordinate increment and value        \n",
       "CUNIT2  = 'deg'                / Units of coordinate increment and value        \n",
       "WCSNAMEA= 'IDC_v6m2008mj'      / Coordinate system title                        \n",
       "WCSAXESA=                    2 / Number of coordinate axes                      \n",
       "CRPIX1A =                512.0 / Pixel coordinate of reference point            \n",
       "CRPIX2A =                512.0 / Pixel coordinate of reference point            \n",
       "CUNIT1A = 'deg'                / Units of coordinate increment and value        \n",
       "CUNIT2A = 'deg'                / Units of coordinate increment and value        \n",
       "CTYPE1A = 'RA---TAN-SIP'       / TAN (gnomonic) projection + SIP distortions    \n",
       "CTYPE2A = 'DEC--TAN-SIP'       / TAN (gnomonic) projection + SIP distortions    \n",
       "CRVAL1A =      319.60113987155 / [deg] Coordinate value at reference point      \n",
       "CRVAL2A =     0.29187021763136 / [deg] Coordinate value at reference point      \n",
       "RADESYSA= 'ICRS'               / Equatorial coordinate system                   \n",
       "CD1_1A  = -4.3321151834662E-06 / partial of first axis coordinate w.r.t. x      \n",
       "CD1_2A  =  6.9987250211005E-06 / partial of first axis coordinate w.r.t. y      \n",
       "CD2_1A  =   8.300674997729E-06 / partial of second axis coordinate w.r.t. x     \n",
       "CD2_2A  =   4.564780315652E-06 / partial of second axis coordinate w.r.t. y     \n",
       "WCSTYPE = 'undistorted a priori solution based on GSC240'                       \n",
       "HDRNAME = 'jec401nrq_flt_6d59e9_hlet.fits'                                      \n",
       "WCSNAMEB= 'IDC_v6m2008mj-GSC240' / Coordinate system title                      \n",
       "WCSAXESB=                    2 / Number of coordinate axes                      \n",
       "CRPIX1B =                512.0 / Pixel coordinate of reference point            \n",
       "CRPIX2B =                512.0 / Pixel coordinate of reference point            \n",
       "CUNIT1B = 'deg'                / Units of coordinate increment and value        \n",
       "CUNIT2B = 'deg'                / Units of coordinate increment and value        \n",
       "CTYPE1B = 'RA---TAN-SIP'       / TAN (gnomonic) projection + SIP distortions    \n",
       "CTYPE2B = 'DEC--TAN-SIP'       / TAN (gnomonic) projection + SIP distortions    \n",
       "CRVAL1B =      319.60113936155 / [deg] Coordinate value at reference point      \n",
       "CRVAL2B =     0.29187045763134 / [deg] Coordinate value at reference point      \n",
       "RADESYSB= 'ICRS'               / Equatorial coordinate system                   \n",
       "CD1_1B  = -4.3321151746296E-06 / partial of first axis coordinate w.r.t. x      \n",
       "CD1_2B  =  6.9987250233819E-06 / partial of first axis coordinate w.r.t. y      \n",
       "CD2_1B  = 8.30067499086699E-06 / partial of second axis coordinate w.r.t. x     \n",
       "CD2_2B  =  4.5647803208634E-06 / partial of second axis coordinate w.r.t. y     \n",
       "WCSTYPEB= 'undistorted a priori solution based on GSC240'                       \n",
       "HDRNAMEB= 'jec401nrq_flt_6d59e9_hlet.fits'                                      \n",
       "WCSTYPEA= 'undistorted not aligned'                                             \n",
       "WCSTYPEO= 'pipeline default not aligned'                                        "
      ]
     },
     "execution_count": 198,
     "metadata": {},
     "output_type": "execute_result"
    }
   ],
   "source": [
    "file_1[1].header"
   ]
  },
  {
   "cell_type": "code",
   "execution_count": 196,
   "id": "278a9107",
   "metadata": {},
   "outputs": [
    {
     "data": {
      "text/plain": [
       "XTENSION= 'IMAGE   '           / IMAGE extension                                \n",
       "BITPIX  =                  -32 / number of bits per data pixel                  \n",
       "NAXIS   =                    2 / number of data axes                            \n",
       "NAXIS1  =                 1024 / length of data axis 1                          \n",
       "NAXIS2  =                 1024 / length of data axis 2                          \n",
       "PCOUNT  =                    0 / required keyword; must = 0                     \n",
       "GCOUNT  =                    1 / required keyword; must = 1                     \n",
       "ORIGIN  = 'HSTIO/CFITSIO March 2010' / FITS file originator                     \n",
       "DATE    = '2022-04-13' / date this file was written (yyyy-mm-dd)                \n",
       "INHERIT =                    T / inherit the primary header                     \n",
       "EXTNAME = 'SCI     '           / extension name                                 \n",
       "EXTVER  =                    1 / extension version number                       \n",
       "ROOTNAME= 'jec403ibq                         ' / rootname of the observation set\n",
       "EXPNAME = 'jec403ibq                ' / exposure identifier                     \n",
       "BUNIT   = 'ELECTRONS'          / brightness units                               \n",
       "                                                                                \n",
       "              / World Coordinate System and Related Parameters                  \n",
       "                                                                                \n",
       "WCSAXES =                    2 / Number of coordinate axes                      \n",
       "CRPIX1  =               512.0  / Pixel coordinate of reference point            \n",
       "CRPIX2  =                512.0 / Pixel coordinate of reference point            \n",
       "CRVAL1  =      319.60070459856 / [deg] Coordinate value at reference point      \n",
       "CRVAL2  =     0.29136918174625 / [deg] Coordinate value at reference point      \n",
       "CTYPE1  = 'RA---TAN-SIP'       / TAN (gnomonic) projection + SIP distortions    \n",
       "CTYPE2  = 'DEC--TAN-SIP'       / TAN (gnomonic) projection + SIP distortions    \n",
       "CD1_1   = -5.1745970268303E-06 / partial of first axis coordinate w.r.t. x      \n",
       "CD1_2   =  6.4842485036551E-06 / partial of first axis coordinate w.r.t. y      \n",
       "CD2_1   = 7.80337350725270E-06 / partial of second axis coordinate w.r.t. x     \n",
       "CD2_2   =  5.2701444619314E-06 / partial of second axis coordinate w.r.t. y     \n",
       "LTV1    =                  0.0 / offset in X to subsection start                \n",
       "LTV2    =                  0.0 / offset in Y to subsection start                \n",
       "RAW_LTV1=                  0.0 / original offset in X to subsection start       \n",
       "RAW_LTV2=                  0.0 / original offset in Y to subsection start       \n",
       "LTM1_1  =                  1.0 / reciprocal of sampling rate in X               \n",
       "LTM2_2  =                  1.0 / reciprocal of sampling rate in Y               \n",
       "ORIENTAT=     50.8971336870121                                                  \n",
       "RA_APER =   3.195999809352E+02 / RA of aperture reference position              \n",
       "DEC_APER=   2.907861247296E-01 / Declination of aperture reference position     \n",
       "PA_APER =              50.9601 / Position Angle of reference aperture center (de\n",
       "VAFACTOR=   1.000102883113E+00 / velocity aberration plate scale factor         \n",
       "                                                                                \n",
       "              / READOUT DEFINITION PARAMETERS                                   \n",
       "                                                                                \n",
       "CENTERA1=                  513 / subarray axis1 center pt in unbinned dect. pix \n",
       "CENTERA2=                  513 / subarray axis2 center pt in unbinned dect. pix \n",
       "SIZAXIS1=                 1024 / subarray axis1 size in unbinned detector pixels\n",
       "SIZAXIS2=                 1024 / subarray axis2 size in unbinned detector pixels\n",
       "BINAXIS1=                    1 / axis1 data bin size in unbinned detector pixels\n",
       "BINAXIS2=                    1 / axis2 data bin size in unbinned detector pixels\n",
       "                                                                                \n",
       "              / PHOTOMETRY KEYWORDS                                             \n",
       "                                                                                \n",
       "PHOTMODE= 'ACS SBC F150LP MJD#59377.9640' / obser                               \n",
       "PHOTFLAM=        3.5315242E-17 / inverse sensitivity, ergs/cm2/Ang/electron     \n",
       "PHOTZPT =       -2.1100000E+01 / ST magnitude zero point                        \n",
       "PHOTPLAM=        1.6056531E+03 / Pivot wavelength (Angstroms)                   \n",
       "PHOTBW  =        1.0916668E+02 / RMS bandwidth of filter plus detector          \n",
       "                                                                                \n",
       "              / DATA PACKET INFORMATION                                         \n",
       "                                                                                \n",
       "FILLCNT =                    0 / number of segments containing fill             \n",
       "ERRCNT  =                    0 / number of segments containing errors           \n",
       "PODPSFF =                    F / podps fill present (T/F)                       \n",
       "STDCFFF =                    F / science telemetry fill data present (T=1/F=0)  \n",
       "STDCFFP = '0x5569'             / science telemetry fill pattern (hex)           \n",
       "                                                                                \n",
       "              / ENGINEERING PARAMETERS                                          \n",
       "                                                                                \n",
       "GLOBRATE=        49.1803278689 / global count rate                              \n",
       "GLOBLIM = 'NOT-EXCEEDED'       / was global linearity level exceeded?           \n",
       "MDECODT1=              17.4483 / MAMA jMDECODT pwb temp from eng snap 1 (deg. C)\n",
       "MDECODT2=              18.6693 / MAMA JMDECODT pwb temp from eng snap 2 (deg. C)\n",
       "                                                                                \n",
       "              / IMAGE STATISTICS AND DATA QUALITY FLAGS                         \n",
       "                                                                                \n",
       "NGOODPIX=              1027065 / number of good pixels                          \n",
       "SDQFLAGS=                31743 / serious data quality flags                     \n",
       "GOODMIN =        0.0000000E+00 / minimum value of good pixels                   \n",
       "GOODMAX =        1.6641729E+01 / maximum value of good pixels                   \n",
       "GOODMEAN=        9.0903677E-03 / mean value of good pixels                      \n",
       "SOFTERRS=                    0 / number of soft error pixels (DQF=1)            \n",
       "SNRMIN  =        0.0000000E+00 / minimum signal to noise of good pixels         \n",
       "SNRMAX  =        4.1197329E+00 / maximum signal to noise of good pixels         \n",
       "SNRMEAN =        8.7285368E-03 / mean value of signal to noise of good pixels   \n",
       "MEANDARK=             0.000000 / average of the dark values subtracted          \n",
       "RADESYS = 'ICRS    '           / Equatorial coordinate system                   \n",
       "S_REGION= 'POLYGON ICRS 319.60003805982495 0.28470960248225446 &'               \n",
       "CONTINUE  '319.6066615582099 0.29008078014781624 319.6013754254164 &'           \n",
       "CONTINUE  '0.2980517831624026 319.59475192485434 0.2926806024100732 '           \n",
       "OCX10   = 5.96685677010100E-05 / original linear term from IDCTAB               \n",
       "OCX11   =  0.03355217352509499 / original linear term from IDCTAB               \n",
       "OCY10   =  0.03007783554494381 / original linear term from IDCTAB               \n",
       "OCY11   =  0.00319520547054708 / original linear term from IDCTAB               \n",
       "IDCSCALE=  0.02500000037252903 / pixel scale from the IDCTAB reference file     \n",
       "IDCTHETA=                  0.0 / orientation of detector's Y-axis w.r.t. V3 axis\n",
       "IDCXREF =                512.0 / reference pixel location in X                  \n",
       "IDCYREF =                512.0 / reference pixel location in Y                  \n",
       "IDCV2REF=    205.2599945068359 / reference pixel's V2 position                  \n",
       "IDCV3REF=    469.8269958496094 / reference pixel's V3 position                  \n",
       "WCSNAMEO= 'OPUS    '           / Coordinate system title                        \n",
       "WCSAXESO=                    2 / Number of coordinate axes                      \n",
       "CRPIX1O =                512.0 / Pixel coordinate of reference point            \n",
       "CRPIX2O =                400.0 / Pixel coordinate of reference point            \n",
       "CUNIT1O = 'deg'                / Units of coordinate increment and value        \n",
       "CUNIT2O = 'deg'                / Units of coordinate increment and value        \n",
       "CTYPE1O = 'RA---TAN'           / Right ascension, gnomonic projection           \n",
       "CTYPE2O = 'DEC--TAN'           / Declination, gnomonic projection               \n",
       "CRVAL1O =       319.5999809352 / [deg] Coordinate value at reference point      \n",
       "CRVAL2O =      0.2907861247296 / [deg] Coordinate value at reference point      \n",
       "MJDREF  =                  0.0 / [d] MJD of fiducial time                       \n",
       "RADESYSO= 'ICRS'               / Equatorial coordinate system                   \n",
       "CD1_1O  =         -5.16722E-06 / partial of first axis coordinate w.r.t. x      \n",
       "CD1_2O  =           6.4745E-06 / partial of first axis coordinate w.r.t. y      \n",
       "CD2_1O  =          7.79179E-06 / partial of second axis coordinate w.r.t. x     \n",
       "CD2_2O  =          5.25042E-06 / partial of second axis coordinate w.r.t. y     \n",
       "IDCTAB  = 'jref$v6m2008mj_idc.fits'                                             \n",
       "A_ORDER =                    4 / SIP polynomial order, axis 0, detector to sky  \n",
       "B_ORDER =                    4 / SIP polynomial order, axis 1, detector to sky  \n",
       "A_0_2   = 3.71821579887969E-06 / SIP distortion coefficient                     \n",
       "B_0_2   = 1.00981392294935E-05 / SIP distortion coefficient                     \n",
       "A_1_1   = 1.17765432685549E-05 / SIP distortion coefficient                     \n",
       "B_1_1   = 2.42209952539204E-07 / SIP distortion coefficient                     \n",
       "A_2_0   =  -1.483933123209E-05 / SIP distortion coefficient                     \n",
       "B_2_0   = 4.22468848828112E-07 / SIP distortion coefficient                     \n",
       "A_0_3   = -4.0306486845335E-09 / SIP distortion coefficient                     \n",
       "B_0_3   =  1.6221563200793E-09 / SIP distortion coefficient                     \n",
       "A_1_2   = -2.6066792469435E-09 / SIP distortion coefficient                     \n",
       "B_1_2   = 5.06905748871357E-10 / SIP distortion coefficient                     \n",
       "A_2_1   = 1.34147484133598E-10 / SIP distortion coefficient                     \n",
       "B_2_1   = -7.4477974380425E-09 / SIP distortion coefficient                     \n",
       "A_3_0   =  4.3177243951969E-09 / SIP distortion coefficient                     \n",
       "B_3_0   = -3.1755220958671E-10 / SIP distortion coefficient                     \n",
       "A_0_4   = -2.7480196565056E-11 / SIP distortion coefficient                     \n",
       "B_0_4   = 2.49020089875116E-12 / SIP distortion coefficient                     \n",
       "A_1_3   = -1.1042562713082E-12 / SIP distortion coefficient                     \n",
       "B_1_3   = 6.52484192257676E-12 / SIP distortion coefficient                     \n",
       "A_2_2   = 3.32642166064284E-12 / SIP distortion coefficient                     \n",
       "B_2_2   = -3.0271615259304E-13 / SIP distortion coefficient                     \n",
       "A_3_1   = -8.7909628335581E-13 / SIP distortion coefficient                     \n",
       "B_3_1   = 4.43255209342228E-12 / SIP distortion coefficient                     \n",
       "A_4_0   = 1.46872345905909E-11 / SIP distortion coefficient                     \n",
       "B_4_0   = 7.43178117451922E-13 / SIP distortion coefficient                     \n",
       "WCSNAME = 'IDC_v6m2008mj-GSC240' / Coordinate system title                      \n",
       "CPERR1  = 0.007132729981094599 / Maximum error of NPOL correction for axis 1    \n",
       "CPDIS1  = 'Lookup  '           / Prior distortion function type                 \n",
       "DP1     = 'EXTVER: 1' / Version number of WCSDVARR extension                    \n",
       "DP1     = 'NAXES: 2' / Number of independent variables in CPDIS function        \n",
       "DP1     = 'AXIS.1: 1' / Axis number of the 1st variable in a CPDIS function     \n",
       "DP1     = 'AXIS.2: 2' / Axis number of the 2nd variable in a CPDIS function     \n",
       "CPERR2  = 0.009602183476090431 / Maximum error of NPOL correction for axis 2    \n",
       "CPDIS2  = 'Lookup  '           / Prior distortion function type                 \n",
       "DP2     = 'EXTVER: 2' / Version number of WCSDVARR extension                    \n",
       "DP2     = 'NAXES: 2' / Number of independent variables in CPDIS function        \n",
       "DP2     = 'AXIS.1: 1' / Axis number of the 1st variable in a CPDIS function     \n",
       "DP2     = 'AXIS.2: 2' / Axis number of the 2nd variable in a CPDIS function     \n",
       "NPOLEXT = 'jref$xc215013j_npl.fits'                                             \n",
       "MDRIZSKY=                  0.0 / Sky value computed by AstroDrizzle             \n",
       "CUNIT1  = 'deg'                / Units of coordinate increment and value        \n",
       "CUNIT2  = 'deg'                / Units of coordinate increment and value        \n",
       "WCSNAMEA= 'IDC_v6m2008mj'      / Coordinate system title                        \n",
       "WCSAXESA=                    2 / Number of coordinate axes                      \n",
       "CRPIX1A =                512.0 / Pixel coordinate of reference point            \n",
       "CRPIX2A =                512.0 / Pixel coordinate of reference point            \n",
       "CUNIT1A = 'deg'                / Units of coordinate increment and value        \n",
       "CUNIT2A = 'deg'                / Units of coordinate increment and value        \n",
       "CTYPE1A = 'RA---TAN-SIP'       / TAN (gnomonic) projection + SIP distortions    \n",
       "CTYPE2A = 'DEC--TAN-SIP'       / TAN (gnomonic) projection + SIP distortions    \n",
       "CRVAL1A =      319.60070608858 / [deg] Coordinate value at reference point      \n",
       "CRVAL2A =     0.29137417174626 / [deg] Coordinate value at reference point      \n",
       "RADESYSA= 'ICRS'               / Equatorial coordinate system                   \n",
       "CD1_1A  =  -5.174597033748E-06 / partial of first axis coordinate w.r.t. x      \n",
       "CD1_2A  =  6.4842485001797E-06 / partial of first axis coordinate w.r.t. y      \n",
       "CD2_1A  = 7.80337351648480E-06 / partial of second axis coordinate w.r.t. x     \n",
       "CD2_2A  =  5.2701444507193E-06 / partial of second axis coordinate w.r.t. y     \n",
       "WCSTYPE = 'undistorted a priori solution based on GSC240'                       \n",
       "HDRNAME = 'jec403ibq_flt_6d59e9_hlet.fits'                                      \n",
       "WCSNAMEB= 'IDC_v6m2008mj-GSC240' / Coordinate system title                      \n",
       "WCSAXESB=                    2 / Number of coordinate axes                      \n",
       "CRPIX1B =                512.0 / Pixel coordinate of reference point            \n",
       "CRPIX2B =                512.0 / Pixel coordinate of reference point            \n",
       "CUNIT1B = 'deg'                / Units of coordinate increment and value        \n",
       "CUNIT2B = 'deg'                / Units of coordinate increment and value        \n",
       "CTYPE1B = 'RA---TAN-SIP'       / TAN (gnomonic) projection + SIP distortions    \n",
       "CTYPE2B = 'DEC--TAN-SIP'       / TAN (gnomonic) projection + SIP distortions    \n",
       "CRVAL1B =      319.60070459856 / [deg] Coordinate value at reference point      \n",
       "CRVAL2B =     0.29136918174625 / [deg] Coordinate value at reference point      \n",
       "RADESYSB= 'ICRS'               / Equatorial coordinate system                   \n",
       "CD1_1B  = -5.1745970268303E-06 / partial of first axis coordinate w.r.t. x      \n",
       "CD1_2B  =  6.4842485036551E-06 / partial of first axis coordinate w.r.t. y      \n",
       "CD2_1B  = 7.80337350725270E-06 / partial of second axis coordinate w.r.t. x     \n",
       "CD2_2B  =  5.2701444619314E-06 / partial of second axis coordinate w.r.t. y     \n",
       "WCSTYPEB= 'undistorted a priori solution based on GSC240'                       \n",
       "HDRNAMEB= 'jec403ibq_flt_6d59e9_hlet.fits'                                      \n",
       "WCSTYPEA= 'undistorted not aligned'                                             \n",
       "WCSTYPEO= 'pipeline default not aligned'                                        "
      ]
     },
     "execution_count": 196,
     "metadata": {},
     "output_type": "execute_result"
    }
   ],
   "source": [
    "file_3[1].header"
   ]
  },
  {
   "cell_type": "code",
   "execution_count": 194,
   "id": "96be25a2",
   "metadata": {},
   "outputs": [
    {
     "data": {
      "text/plain": [
       "''"
      ]
     },
     "execution_count": 194,
     "metadata": {},
     "output_type": "execute_result"
    }
   ],
   "source": [
    "file_3[0].header['QUALITY']"
   ]
  },
  {
   "cell_type": "code",
   "execution_count": 53,
   "id": "6bbf690f",
   "metadata": {},
   "outputs": [
    {
     "data": {
      "text/plain": [
       "281.8022245811848"
      ]
     },
     "execution_count": 53,
     "metadata": {},
     "output_type": "execute_result"
    }
   ],
   "source": [
    "(282 * (83.02697 + 74.186) + 281*(23.7704 + 14.9879))/(83.02697 + 74.186+ 23.7704 + 14.9879)"
   ]
  },
  {
   "cell_type": "code",
   "execution_count": 137,
   "id": "a060b427",
   "metadata": {},
   "outputs": [],
   "source": [
    "CD1_1 = file[1].header['CD1_1']\n",
    "CD1_2 = file[1].header['CD1_2']\n",
    "CD2_1 = file[1].header['CD2_1']\n",
    "CD2_2 = file[1].header['CD2_2']"
   ]
  },
  {
   "cell_type": "code",
   "execution_count": 177,
   "id": "ff5d8f57",
   "metadata": {},
   "outputs": [],
   "source": [
    "A = np.array([[CD1_1, CD1_2], [CD2_1, CD2_2]])"
   ]
  },
  {
   "cell_type": "code",
   "execution_count": 178,
   "id": "35f00f94",
   "metadata": {},
   "outputs": [],
   "source": [
    "import numpy as np"
   ]
  },
  {
   "cell_type": "code",
   "execution_count": 179,
   "id": "d35d08b2",
   "metadata": {},
   "outputs": [],
   "source": [
    "x, y = 491, 1006\n",
    "a, b = file[1].header['CRVAL1'], file[1].header['CRVAL2']"
   ]
  },
  {
   "cell_type": "code",
   "execution_count": 180,
   "id": "df30ac2e",
   "metadata": {},
   "outputs": [],
   "source": [
    "B =np.array( [[x - 512], [y - 512]])\n",
    "C = np.array([[a], [b]])"
   ]
  },
  {
   "cell_type": "code",
   "execution_count": 181,
   "id": "6f7d2c3a",
   "metadata": {},
   "outputs": [
    {
     "data": {
      "text/plain": [
       "array([[3.19604632e+02],\n",
       "       [2.94193447e-01]])"
      ]
     },
     "execution_count": 181,
     "metadata": {},
     "output_type": "execute_result"
    }
   ],
   "source": [
    "np.matmul(A,B) + C"
   ]
  },
  {
   "cell_type": "code",
   "execution_count": 182,
   "id": "f3138a67",
   "metadata": {},
   "outputs": [
    {
     "data": {
      "text/plain": [
       "array([[-58620.29343345,  89876.6852828 ],\n",
       "       [106596.15206018,  55632.43907114]])"
      ]
     },
     "execution_count": 182,
     "metadata": {},
     "output_type": "execute_result"
    }
   ],
   "source": [
    "np.linalg.inv(A)"
   ]
  },
  {
   "cell_type": "code",
   "execution_count": 183,
   "id": "c2f500ff",
   "metadata": {},
   "outputs": [],
   "source": [
    "Target = np.array([[file[0].header['RA_TARG']],[file[0].header['DEC_TARG']]])"
   ]
  },
  {
   "cell_type": "code",
   "execution_count": 188,
   "id": "0f007bf7",
   "metadata": {},
   "outputs": [
    {
     "data": {
      "text/plain": [
       "array([[505.81158167],\n",
       "       [389.02427676]])"
      ]
     },
     "execution_count": 188,
     "metadata": {},
     "output_type": "execute_result"
    }
   ],
   "source": [
    "np.matmul(np.linalg.inv(A),Target - C) +np.array([[512], [512]])"
   ]
  },
  {
   "cell_type": "code",
   "execution_count": null,
   "id": "2d94b2f8",
   "metadata": {},
   "outputs": [],
   "source": []
  }
 ],
 "metadata": {
  "kernelspec": {
   "display_name": "Python 3 (ipykernel)",
   "language": "python",
   "name": "python3"
  },
  "language_info": {
   "codemirror_mode": {
    "name": "ipython",
    "version": 3
   },
   "file_extension": ".py",
   "mimetype": "text/x-python",
   "name": "python",
   "nbconvert_exporter": "python",
   "pygments_lexer": "ipython3",
   "version": "3.9.12"
  }
 },
 "nbformat": 4,
 "nbformat_minor": 5
}
