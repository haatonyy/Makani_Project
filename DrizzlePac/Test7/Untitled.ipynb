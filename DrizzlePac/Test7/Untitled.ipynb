{
 "cells": [
  {
   "cell_type": "code",
   "execution_count": 1,
   "id": "caa2a32f",
   "metadata": {},
   "outputs": [
    {
     "name": "stdout",
     "output_type": "stream",
     "text": [
      "\n",
      "\n",
      "The following task in the stsci.skypac package can be run with TEAL:\n",
      "                                    skymatch                                    \n",
      "The following tasks in the drizzlepac package can be run with TEAL:\n",
      "    astrodrizzle       config_testbed      imagefindpars           mapreg       \n",
      "       photeq            pixreplace           pixtopix            pixtosky      \n",
      "  refimagefindpars       resetbits          runastrodriz          skytopix      \n",
      "     tweakback            tweakreg           updatenpol\n"
     ]
    }
   ],
   "source": [
    "from astroquery.mast import Observations\n",
    "#from ccdproc import ImageFileCollection\n",
    "from astropy.table import Table\n",
    "from astropy.io import fits\n",
    "from astropy.io import ascii\n",
    "from astropy.visualization import ZScaleInterval\n",
    "from IPython.display import Image\n",
    "import glob\n",
    "import matplotlib.pyplot as plt\n",
    "import numpy as np\n",
    "import os\n",
    "import shutil\n",
    "from drizzlepac import tweakreg\n",
    "from drizzlepac import astrodrizzle"
   ]
  },
  {
   "cell_type": "code",
   "execution_count": 5,
   "id": "9fa9e1da",
   "metadata": {},
   "outputs": [
    {
     "name": "stdout",
     "output_type": "stream",
     "text": [
      "Downloading URL https://mast.stsci.edu/api/v0.1/Download/file?uri=mast:HST/product/hst_16231_01_acs_sbc_f150lp_jec401_drz.fits to ./science/mastDownload/HST/hst_16231_01_acs_sbc_f150lp_jec401/hst_16231_01_acs_sbc_f150lp_jec401_drz.fits ... [Done]\n",
      "Downloading URL https://mast.stsci.edu/api/v0.1/Download/file?uri=mast:HST/product/hst_16231_01_acs_sbc_f150lp_jec401no_drz.fits to ./science/mastDownload/HST/hst_16231_01_acs_sbc_f150lp_jec401no/hst_16231_01_acs_sbc_f150lp_jec401no_drz.fits ... [Done]\n",
      "Downloading URL https://mast.stsci.edu/api/v0.1/Download/file?uri=mast:HST/product/hst_16231_01_acs_sbc_f150lp_jec401no_flt.fits to ./science/mastDownload/HST/hst_16231_01_acs_sbc_f150lp_jec401no/hst_16231_01_acs_sbc_f150lp_jec401no_flt.fits ... [Done]\n",
      "Downloading URL https://mast.stsci.edu/api/v0.1/Download/file?uri=mast:HST/product/hst_16231_01_acs_sbc_f150lp_jec401nr_drz.fits to ./science/mastDownload/HST/hst_16231_01_acs_sbc_f150lp_jec401nr/hst_16231_01_acs_sbc_f150lp_jec401nr_drz.fits ... [Done]\n",
      "Downloading URL https://mast.stsci.edu/api/v0.1/Download/file?uri=mast:HST/product/hst_16231_01_acs_sbc_f150lp_jec401nr_flt.fits to ./science/mastDownload/HST/hst_16231_01_acs_sbc_f150lp_jec401nr/hst_16231_01_acs_sbc_f150lp_jec401nr_flt.fits ... [Done]\n",
      "Downloading URL https://mast.stsci.edu/api/v0.1/Download/file?uri=mast:HST/product/hst_16231_01_acs_sbc_f150lp_jec401nv_drz.fits to ./science/mastDownload/HST/hst_16231_01_acs_sbc_f150lp_jec401nv/hst_16231_01_acs_sbc_f150lp_jec401nv_drz.fits ... [Done]\n",
      "Downloading URL https://mast.stsci.edu/api/v0.1/Download/file?uri=mast:HST/product/hst_16231_01_acs_sbc_f150lp_jec401nv_flt.fits to ./science/mastDownload/HST/hst_16231_01_acs_sbc_f150lp_jec401nv/hst_16231_01_acs_sbc_f150lp_jec401nv_flt.fits ... [Done]\n",
      "Downloading URL https://mast.stsci.edu/api/v0.1/Download/file?uri=mast:HST/product/hst_16231_01_acs_sbc_f150lp_jec401nx_drz.fits to ./science/mastDownload/HST/hst_16231_01_acs_sbc_f150lp_jec401nx/hst_16231_01_acs_sbc_f150lp_jec401nx_drz.fits ... [Done]\n",
      "Downloading URL https://mast.stsci.edu/api/v0.1/Download/file?uri=mast:HST/product/hst_16231_01_acs_sbc_f150lp_jec401nx_flt.fits to ./science/mastDownload/HST/hst_16231_01_acs_sbc_f150lp_jec401nx/hst_16231_01_acs_sbc_f150lp_jec401nx_flt.fits ... [Done]\n",
      "Downloading URL https://mast.stsci.edu/api/v0.1/Download/file?uri=mast:HST/product/hst_16231_01_acs_sbc_total_jec401_drz.fits to ./science/mastDownload/HST/hst_16231_01_acs_sbc_total_jec401/hst_16231_01_acs_sbc_total_jec401_drz.fits ... [Done]\n",
      "Downloading URL https://mast.stsci.edu/api/v0.1/Download/file?uri=mast:HST/product/jec401010_drz.fits to ./science/mastDownload/HST/jec401010/jec401010_drz.fits ... [Done]\n",
      "Downloading URL https://mast.stsci.edu/api/v0.1/Download/file?uri=mast:HST/product/jec401noq_flt.fits to ./science/mastDownload/HST/jec401noq/jec401noq_flt.fits ... [Done]\n",
      "Downloading URL https://mast.stsci.edu/api/v0.1/Download/file?uri=mast:HST/product/jec401nrq_flt.fits to ./science/mastDownload/HST/jec401nrq/jec401nrq_flt.fits ... [Done]\n",
      "Downloading URL https://mast.stsci.edu/api/v0.1/Download/file?uri=mast:HST/product/jec401nvq_flt.fits to ./science/mastDownload/HST/jec401nvq/jec401nvq_flt.fits ... [Done]\n",
      "Downloading URL https://mast.stsci.edu/api/v0.1/Download/file?uri=mast:HST/product/jec401nxq_flt.fits to ./science/mastDownload/HST/jec401nxq/jec401nxq_flt.fits ... [Done]\n"
     ]
    }
   ],
   "source": [
    "science_list = Observations.query_criteria(proposal_id='16231', filters='F150LP',obs_id='jec401*')\n",
    "Observations.download_products(science_list['obsid'], mrp_only=False, download_dir='./science',\\\n",
    "                               productSubGroupDescription=['FLT', 'DRZ'])\n",
    "\n",
    "science_files = glob.glob(os.path.join(os.curdir, 'science', 'mastDownload', 'HST', '*', '*fits'))\n",
    "for im in science_files:\n",
    "    root = im.split('/')[-1]\n",
    "    os.rename(im, './' + root)\n",
    "shutil.rmtree('science/')"
   ]
  },
  {
   "cell_type": "code",
   "execution_count": 2,
   "id": "88df0bcb",
   "metadata": {},
   "outputs": [],
   "source": [
    "no_flt = 'hst_16231_01_acs_sbc_f150lp_jec401no_flt.fits'\n",
    "nr_flt = 'hst_16231_01_acs_sbc_f150lp_jec401nr_flt.fits'\n",
    "nv_flt = 'hst_16231_01_acs_sbc_f150lp_jec401nv_flt.fits'\n",
    "nx_flt = 'hst_16231_01_acs_sbc_f150lp_jec401nx_flt.fits'\n",
    "lst = [no_flt, nr_flt, nv_flt, nx_flt]\n",
    "no_drz = 'hst_16231_01_acs_sbc_f150lp_jec401no_drz.fits'\n",
    "nr_drz = 'hst_16231_01_acs_sbc_f150lp_jec401nr_drz.fits'\n",
    "nv_drz = 'hst_16231_01_acs_sbc_f150lp_jec401nv_drz.fits'\n",
    "nx_drz = 'hst_16231_01_acs_sbc_f150lp_jec401nx_drz.fits'\n",
    "n_drz = 'hst_16231_01_acs_sbc_f150lp_jec401_drz.fits'"
   ]
  },
  {
   "cell_type": "code",
   "execution_count": 3,
   "id": "a02837aa",
   "metadata": {},
   "outputs": [],
   "source": [
    "no = 'jec401noq_flt.fits'"
   ]
  },
  {
   "cell_type": "code",
   "execution_count": 4,
   "id": "edb0c414",
   "metadata": {},
   "outputs": [],
   "source": [
    "file1_drz = fits.open(no_drz)\n",
    "file1_flt = fits.open(no_flt)\n",
    "file = fits.open(no)"
   ]
  },
  {
   "cell_type": "code",
   "execution_count": 12,
   "id": "f372de84",
   "metadata": {},
   "outputs": [
    {
     "ename": "KeyError",
     "evalue": "\"Keyword 'D2IMFILE' not found.\"",
     "output_type": "error",
     "traceback": [
      "\u001b[0;31m---------------------------------------------------------------------------\u001b[0m",
      "\u001b[0;31mKeyError\u001b[0m                                  Traceback (most recent call last)",
      "Input \u001b[0;32mIn [12]\u001b[0m, in \u001b[0;36m<cell line: 1>\u001b[0;34m()\u001b[0m\n\u001b[0;32m----> 1\u001b[0m \u001b[43mfile1_flt\u001b[49m\u001b[43m[\u001b[49m\u001b[38;5;241;43m1\u001b[39;49m\u001b[43m]\u001b[49m\u001b[38;5;241;43m.\u001b[39;49m\u001b[43mheader\u001b[49m\u001b[43m[\u001b[49m\u001b[38;5;124;43m'\u001b[39;49m\u001b[38;5;124;43mD2IMFILE\u001b[39;49m\u001b[38;5;124;43m'\u001b[39;49m\u001b[43m]\u001b[49m\n",
      "File \u001b[0;32m~/.local/lib/python3.9/site-packages/astropy/io/fits/header.py:156\u001b[0m, in \u001b[0;36mHeader.__getitem__\u001b[0;34m(self, key)\u001b[0m\n\u001b[1;32m    153\u001b[0m \u001b[38;5;28;01melse\u001b[39;00m:\n\u001b[1;32m    154\u001b[0m     keyword \u001b[38;5;241m=\u001b[39m key\n\u001b[0;32m--> 156\u001b[0m card \u001b[38;5;241m=\u001b[39m \u001b[38;5;28mself\u001b[39m\u001b[38;5;241m.\u001b[39m_cards[\u001b[38;5;28;43mself\u001b[39;49m\u001b[38;5;241;43m.\u001b[39;49m\u001b[43m_cardindex\u001b[49m\u001b[43m(\u001b[49m\u001b[43mkey\u001b[49m\u001b[43m)\u001b[49m]\n\u001b[1;32m    158\u001b[0m \u001b[38;5;28;01mif\u001b[39;00m card\u001b[38;5;241m.\u001b[39mfield_specifier \u001b[38;5;129;01mis\u001b[39;00m \u001b[38;5;129;01mnot\u001b[39;00m \u001b[38;5;28;01mNone\u001b[39;00m \u001b[38;5;129;01mand\u001b[39;00m keyword \u001b[38;5;241m==\u001b[39m card\u001b[38;5;241m.\u001b[39mrawkeyword:\n\u001b[1;32m    159\u001b[0m     \u001b[38;5;66;03m# This is RVKC; if only the top-level keyword was specified return\u001b[39;00m\n\u001b[1;32m    160\u001b[0m     \u001b[38;5;66;03m# the raw value, not the parsed out float value\u001b[39;00m\n\u001b[1;32m    161\u001b[0m     \u001b[38;5;28;01mreturn\u001b[39;00m card\u001b[38;5;241m.\u001b[39mrawvalue\n",
      "File \u001b[0;32m~/.local/lib/python3.9/site-packages/astropy/io/fits/header.py:1753\u001b[0m, in \u001b[0;36mHeader._cardindex\u001b[0;34m(self, key)\u001b[0m\n\u001b[1;32m   1750\u001b[0m         indices \u001b[38;5;241m=\u001b[39m \u001b[38;5;28mself\u001b[39m\u001b[38;5;241m.\u001b[39m_rvkc_indices\u001b[38;5;241m.\u001b[39mget(keyword, \u001b[38;5;28;01mNone\u001b[39;00m)\n\u001b[1;32m   1752\u001b[0m \u001b[38;5;28;01mif\u001b[39;00m \u001b[38;5;129;01mnot\u001b[39;00m indices:\n\u001b[0;32m-> 1753\u001b[0m     \u001b[38;5;28;01mraise\u001b[39;00m \u001b[38;5;167;01mKeyError\u001b[39;00m(\u001b[38;5;124mf\u001b[39m\u001b[38;5;124m\"\u001b[39m\u001b[38;5;124mKeyword \u001b[39m\u001b[38;5;132;01m{\u001b[39;00mkeyword\u001b[38;5;132;01m!r}\u001b[39;00m\u001b[38;5;124m not found.\u001b[39m\u001b[38;5;124m\"\u001b[39m)\n\u001b[1;32m   1755\u001b[0m \u001b[38;5;28;01mtry\u001b[39;00m:\n\u001b[1;32m   1756\u001b[0m     \u001b[38;5;28;01mreturn\u001b[39;00m indices[n]\n",
      "\u001b[0;31mKeyError\u001b[0m: \"Keyword 'D2IMFILE' not found.\""
     ]
    }
   ],
   "source": [
    "file1_flt[1].header['echo $PATH']"
   ]
  },
  {
   "cell_type": "code",
   "execution_count": 6,
   "id": "699eb613",
   "metadata": {},
   "outputs": [
    {
     "data": {
      "text/plain": [
       "319.6010731552018"
      ]
     },
     "execution_count": 6,
     "metadata": {},
     "output_type": "execute_result"
    }
   ],
   "source": [
    "file1_drz[1].header['CRVAL1']"
   ]
  },
  {
   "cell_type": "code",
   "execution_count": 7,
   "id": "e0d119e4",
   "metadata": {},
   "outputs": [
    {
     "data": {
      "text/plain": [
       "319.60108387516"
      ]
     },
     "execution_count": 7,
     "metadata": {},
     "output_type": "execute_result"
    }
   ],
   "source": [
    "file[1].header['CRVAL1']"
   ]
  },
  {
   "cell_type": "code",
   "execution_count": 9,
   "id": "def1589e",
   "metadata": {},
   "outputs": [
    {
     "name": "stdout",
     "output_type": "stream",
     "text": [
      "0.025\n",
      "0.02500000037252903\n",
      "0.025\n",
      "0.02500000037252903\n",
      "0.025\n",
      "0.02500000037252903\n",
      "0.025\n",
      "0.02500000037252903\n"
     ]
    }
   ],
   "source": [
    "for filename in [no_drz, nr_drz, nv_drz, nx_drz ]:\n",
    "    f = fits.open(filename)\n",
    "    print(f[0].header['D001SCAL'])\n",
    "    print(f[0].header['D001ISCL'])"
   ]
  },
  {
   "cell_type": "code",
   "execution_count": 10,
   "id": "5410f9e3",
   "metadata": {},
   "outputs": [],
   "source": [
    "g = fits.open('/Users/ha/Makani_Project/DrizzlePac/Drizzled_files/no_test4_drz.fits')"
   ]
  },
  {
   "cell_type": "code",
   "execution_count": 11,
   "id": "11d6abb0",
   "metadata": {},
   "outputs": [
    {
     "data": {
      "text/plain": [
       "0.025"
      ]
     },
     "execution_count": 11,
     "metadata": {},
     "output_type": "execute_result"
    }
   ],
   "source": [
    "g[0].header['D001SCAL']"
   ]
  },
  {
   "cell_type": "code",
   "execution_count": 12,
   "id": "16e936e6",
   "metadata": {},
   "outputs": [
    {
     "ename": "NameError",
     "evalue": "name 'nr' is not defined",
     "output_type": "error",
     "traceback": [
      "\u001b[0;31m---------------------------------------------------------------------------\u001b[0m",
      "\u001b[0;31mNameError\u001b[0m                                 Traceback (most recent call last)",
      "\u001b[0;32m/var/folders/f4/jc_7bzjs2f962hf7y2h6vcfh0000gt/T/ipykernel_53957/2388335072.py\u001b[0m in \u001b[0;36m<module>\u001b[0;34m\u001b[0m\n\u001b[1;32m      1\u001b[0m \u001b[0mfile2_drz\u001b[0m \u001b[0;34m=\u001b[0m \u001b[0mfits\u001b[0m\u001b[0;34m.\u001b[0m\u001b[0mopen\u001b[0m\u001b[0;34m(\u001b[0m\u001b[0mnr_drz\u001b[0m\u001b[0;34m)\u001b[0m\u001b[0;34m\u001b[0m\u001b[0;34m\u001b[0m\u001b[0m\n\u001b[1;32m      2\u001b[0m \u001b[0mfile2_flt\u001b[0m \u001b[0;34m=\u001b[0m \u001b[0mfits\u001b[0m\u001b[0;34m.\u001b[0m\u001b[0mopen\u001b[0m\u001b[0;34m(\u001b[0m\u001b[0mnr_flt\u001b[0m\u001b[0;34m)\u001b[0m\u001b[0;34m\u001b[0m\u001b[0;34m\u001b[0m\u001b[0m\n\u001b[0;32m----> 3\u001b[0;31m \u001b[0mfile2\u001b[0m \u001b[0;34m=\u001b[0m \u001b[0mfits\u001b[0m\u001b[0;34m.\u001b[0m\u001b[0mopen\u001b[0m\u001b[0;34m(\u001b[0m\u001b[0mnr\u001b[0m\u001b[0;34m)\u001b[0m\u001b[0;34m\u001b[0m\u001b[0;34m\u001b[0m\u001b[0m\n\u001b[0m",
      "\u001b[0;31mNameError\u001b[0m: name 'nr' is not defined"
     ]
    }
   ],
   "source": [
    "file2_drz = fits.open(nr_drz)\n",
    "file2_flt = fits.open(nr_flt)\n",
    "file2 = fits.open(nr)"
   ]
  },
  {
   "cell_type": "code",
   "execution_count": 13,
   "id": "b505fcc9",
   "metadata": {},
   "outputs": [
    {
     "data": {
      "text/plain": [
       "319.60113936155"
      ]
     },
     "execution_count": 13,
     "metadata": {},
     "output_type": "execute_result"
    }
   ],
   "source": [
    "file2_flt[1].header['CRVAL']"
   ]
  },
  {
   "cell_type": "code",
   "execution_count": 14,
   "id": "d708fe9d",
   "metadata": {},
   "outputs": [
    {
     "data": {
      "text/plain": [
       "319.6010731552018"
      ]
     },
     "execution_count": 14,
     "metadata": {},
     "output_type": "execute_result"
    }
   ],
   "source": [
    "file2_drz[1].header['CRVAL1']"
   ]
  },
  {
   "cell_type": "code",
   "execution_count": 20,
   "id": "95c69677",
   "metadata": {},
   "outputs": [
    {
     "data": {
      "text/plain": [
       "array([[-0.00376384, -0.00428451, -0.00460228, ..., -0.00468642,\n",
       "        -0.00475186, -0.00478465],\n",
       "       [-0.00260775, -0.00310135, -0.00337022, ..., -0.00460536,\n",
       "        -0.00471427, -0.00476968],\n",
       "       [-0.00151922, -0.00195614, -0.00216791, ..., -0.00446694,\n",
       "        -0.00464655, -0.00473937],\n",
       "       ...,\n",
       "       [ 0.00322258,  0.00322426,  0.00323404, ...,  0.00559098,\n",
       "         0.00559207,  0.00559248],\n",
       "       [ 0.00321844,  0.00322198,  0.00324378, ...,  0.00558388,\n",
       "         0.00558697,  0.00558777],\n",
       "       [ 0.00321458,  0.00322296,  0.00324342, ...,  0.00556167,\n",
       "         0.00557848,  0.00558192]], dtype=float32)"
      ]
     },
     "execution_count": 20,
     "metadata": {},
     "output_type": "execute_result"
    }
   ],
   "source": [
    "file1_flt[4].data"
   ]
  },
  {
   "cell_type": "code",
   "execution_count": null,
   "id": "169cc334",
   "metadata": {},
   "outputs": [],
   "source": []
  }
 ],
 "metadata": {
  "kernelspec": {
   "display_name": "Python 3 (ipykernel)",
   "language": "python",
   "name": "python3"
  },
  "language_info": {
   "codemirror_mode": {
    "name": "ipython",
    "version": 3
   },
   "file_extension": ".py",
   "mimetype": "text/x-python",
   "name": "python",
   "nbconvert_exporter": "python",
   "pygments_lexer": "ipython3",
   "version": "3.9.12"
  }
 },
 "nbformat": 4,
 "nbformat_minor": 5
}
