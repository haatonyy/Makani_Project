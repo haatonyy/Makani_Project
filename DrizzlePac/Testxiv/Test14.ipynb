{
 "cells": [
  {
   "cell_type": "code",
   "execution_count": 1,
   "id": "74abc788",
   "metadata": {},
   "outputs": [],
   "source": [
    "from astropy.io import fits\n",
    "from matplotlib import pyplot as plt\n",
    "import numpy as np\n",
    "import glob"
   ]
  },
  {
   "cell_type": "code",
   "execution_count": 16,
   "id": "91993a97",
   "metadata": {},
   "outputs": [],
   "source": [
    "lst_file = glob.glob('darks/HST/*/*raw.fits')"
   ]
  },
  {
   "cell_type": "code",
   "execution_count": 17,
   "id": "0e048089",
   "metadata": {},
   "outputs": [],
   "source": [
    "file = fits.open(lst_file[0])"
   ]
  },
  {
   "cell_type": "code",
   "execution_count": 23,
   "id": "781b39aa",
   "metadata": {},
   "outputs": [
    {
     "data": {
      "text/plain": [
       "2021"
      ]
     },
     "execution_count": 23,
     "metadata": {},
     "output_type": "execute_result"
    }
   ],
   "source": [
    "year = int(file[0].header['DATE'][:4])"
   ]
  },
  {
   "cell_type": "code",
   "execution_count": 49,
   "id": "34f529ee",
   "metadata": {},
   "outputs": [],
   "source": [
    "w_data = np.zeros((1024,1024))\n",
    "total_time = 0\n",
    "uptemp = 25.0\n",
    "lowtemp = 0.0\n",
    "for item in lst_file:\n",
    "    file = fits.open(item)\n",
    "    \n",
    "    exptime = file[0].header['EXPTIME']\n",
    "    temp = (file[1].header['MDECODT1'] + file[1].header['MDECODT2']) /2 \n",
    "    year = int(file[0].header['DATE'][:4])\n",
    "    data = file[1].data\n",
    "    \n",
    "    if temp <= uptemp and year > 2010 and year != 2019 and year != 2020:\n",
    "        w_data += data\n",
    "        total_time += exptime\n",
    "    \n",
    "w_data_cps = w_data / total_time\n",
    "    \n",
    "avg_dark_Primary = fits.PrimaryHDU(w_data_cps)\n",
    "avg_dark_hdul = fits.HDUList([avg_dark_Primary])\n",
    "avg_dark_hdul.writeto('avg_dark_uptemp25.fits', overwrite = True)"
   ]
  },
  {
   "cell_type": "code",
   "execution_count": 50,
   "id": "64ace1fb",
   "metadata": {},
   "outputs": [],
   "source": [
    "w_data = np.zeros((1024,1024))\n",
    "total_time = 0\n",
    "uptemp = 22.0\n",
    "lowtemp = 0.0\n",
    "for item in lst_file:\n",
    "    file = fits.open(item)\n",
    "    \n",
    "    exptime = file[0].header['EXPTIME']\n",
    "    temp = (file[1].header['MDECODT1'] + file[1].header['MDECODT2']) /2 \n",
    "    year = int(file[0].header['DATE'][:4])\n",
    "    data = file[1].data\n",
    "    \n",
    "    if temp < uptemp and year > 2010:\n",
    "        w_data += data\n",
    "        total_time += exptime\n",
    "    \n",
    "w_data_cps = w_data / total_time\n",
    "    \n",
    "avg_dark_Primary = fits.PrimaryHDU(w_data_cps)\n",
    "avg_dark_hdul = fits.HDUList([avg_dark_Primary])\n",
    "avg_dark_hdul.writeto('avg_dark_uptemp22.fits', overwrite = True)"
   ]
  },
  {
   "cell_type": "code",
   "execution_count": 51,
   "id": "ca238379",
   "metadata": {},
   "outputs": [],
   "source": [
    "w_data = np.zeros((1024,1024))\n",
    "total_time = 0\n",
    "uptemp = 23.0\n",
    "lowtemp = 0.0\n",
    "for item in lst_file:\n",
    "    file = fits.open(item)\n",
    "    \n",
    "    exptime = file[0].header['EXPTIME']\n",
    "    temp = (file[1].header['MDECODT1'] + file[1].header['MDECODT2']) /2 \n",
    "    year = int(file[0].header['DATE'][:4])\n",
    "    data = file[1].data\n",
    "    \n",
    "    if temp < uptemp and year > 2010:\n",
    "        w_data += data\n",
    "        total_time += exptime\n",
    "    \n",
    "w_data_cps = w_data / total_time\n",
    "    \n",
    "avg_dark_Primary = fits.PrimaryHDU(w_data_cps)\n",
    "avg_dark_hdul = fits.HDUList([avg_dark_Primary])\n",
    "avg_dark_hdul.writeto('avg_dark_uptemp23.fits', overwrite = True)"
   ]
  },
  {
   "cell_type": "code",
   "execution_count": 52,
   "id": "7f51758a",
   "metadata": {},
   "outputs": [],
   "source": [
    "w_data = np.zeros((1024,1024))\n",
    "total_time = 0\n",
    "uptemp = 24.0\n",
    "lowtemp = 0.0\n",
    "for item in lst_file:\n",
    "    file = fits.open(item)\n",
    "    \n",
    "    exptime = file[0].header['EXPTIME']\n",
    "    temp = (file[1].header['MDECODT1'] + file[1].header['MDECODT2']) /2 \n",
    "    year = int(file[0].header['DATE'][:4])\n",
    "    data = file[1].data\n",
    "    \n",
    "    if temp < uptemp and year > 2010:\n",
    "        w_data += data\n",
    "        total_time += exptime\n",
    "    \n",
    "w_data_cps = w_data / total_time\n",
    "    \n",
    "avg_dark_Primary = fits.PrimaryHDU(w_data_cps)\n",
    "avg_dark_hdul = fits.HDUList([avg_dark_Primary])\n",
    "avg_dark_hdul.writeto('avg_dark_uptemp24.fits', overwrite = True)"
   ]
  },
  {
   "cell_type": "code",
   "execution_count": 53,
   "id": "951d1f53",
   "metadata": {},
   "outputs": [],
   "source": [
    "w_data = np.zeros((1024,1024))\n",
    "total_time = 0\n",
    "uptemp = 100.0\n",
    "lowtemp = 0.0\n",
    "for item in lst_file:\n",
    "    file = fits.open(item)\n",
    "    \n",
    "    exptime = file[0].header['EXPTIME']\n",
    "    temp = (file[1].header['MDECODT1'] + file[1].header['MDECODT2']) /2 \n",
    "    year = int(file[0].header['DATE'][:4])\n",
    "    data = file[1].data\n",
    "    \n",
    "    if temp < uptemp and year > 2010:\n",
    "        w_data += data\n",
    "        total_time += exptime\n",
    "    \n",
    "w_data_cps = w_data / total_time\n",
    "    \n",
    "avg_dark_Primary = fits.PrimaryHDU(w_data_cps)\n",
    "avg_dark_hdul = fits.HDUList([avg_dark_Primary])\n",
    "avg_dark_hdul.writeto('avg_dark_uptemp_all.fits', overwrite = True)"
   ]
  },
  {
   "cell_type": "code",
   "execution_count": 43,
   "id": "d66aecf5",
   "metadata": {},
   "outputs": [],
   "source": [
    "dark_file_23 = fits.open('avg_dark_uptemp23.fits')\n",
    "dark_lv_23 = sum(sum(dark_file_23[0].data))/(1024 ** 2)"
   ]
  },
  {
   "cell_type": "code",
   "execution_count": 44,
   "id": "2ee63dbb",
   "metadata": {},
   "outputs": [],
   "source": [
    "dark_file_24 = fits.open('avg_dark_uptemp24.fits')\n",
    "dark_lv_24 = sum(sum(dark_file_24[0].data))/(1024 ** 2)"
   ]
  },
  {
   "cell_type": "code",
   "execution_count": 45,
   "id": "83812a1c",
   "metadata": {},
   "outputs": [],
   "source": [
    "dark_file_25 = fits.open('avg_dark_uptemp25.fits')\n",
    "dark_lv_25 = sum(sum(dark_file_25[0].data))/(1024 ** 2)"
   ]
  },
  {
   "cell_type": "code",
   "execution_count": 46,
   "id": "97d41463",
   "metadata": {},
   "outputs": [],
   "source": [
    "dark_file_22 = fits.open('avg_dark_uptemp22.fits')\n",
    "dark_lv_22 = sum(sum(dark_file_22[0].data))/(1024 ** 2)"
   ]
  },
  {
   "cell_type": "code",
   "execution_count": 47,
   "id": "7665870f",
   "metadata": {},
   "outputs": [
    {
     "data": {
      "text/plain": [
       "[<matplotlib.lines.Line2D at 0x7fe240030130>]"
      ]
     },
     "execution_count": 47,
     "metadata": {},
     "output_type": "execute_result"
    },
    {
     "data": {
      "image/png": "[encoded data removed]",
      "text/plain": [
       "<Figure size 432x288 with 1 Axes>"
      ]
     },
     "metadata": {
      "needs_background": "light"
     },
     "output_type": "display_data"
    }
   ],
   "source": [
    "dark_lv = [dark_lv_22,dark_lv_23, dark_lv_24, dark_lv_25 ]\n",
    "plt.plot([22,23,24,25], dark_lv)"
   ]
  },
  {
   "cell_type": "code",
   "execution_count": null,
   "id": "d3ddaf8c",
   "metadata": {},
   "outputs": [],
   "source": []
  }
 ],
 "metadata": {
  "kernelspec": {
   "display_name": "Python 3 (ipykernel)",
   "language": "python",
   "name": "python3"
  },
  "language_info": {
   "codemirror_mode": {
    "name": "ipython",
    "version": 3
   },
   "file_extension": ".py",
   "mimetype": "text/x-python",
   "name": "python",
   "nbconvert_exporter": "python",
   "pygments_lexer": "ipython3",
   "version": "3.9.12"
  }
 },
 "nbformat": 4,
 "nbformat_minor": 5
}
