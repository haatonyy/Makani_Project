{
 "cells": [
  {
   "cell_type": "code",
   "execution_count": 1,
   "id": "21ae4f82",
   "metadata": {},
   "outputs": [
    {
     "name": "stdout",
     "output_type": "stream",
     "text": [
      "\n",
      "\n",
      "The following task in the stsci.skypac package can be run with TEAL:\n",
      "                                    skymatch                                    \n",
      "The following tasks in the drizzlepac package can be run with TEAL:\n",
      "    astrodrizzle       config_testbed      imagefindpars           mapreg       \n",
      "       photeq            pixreplace           pixtopix            pixtosky      \n",
      "  refimagefindpars       resetbits          runastrodriz          skytopix      \n",
      "     tweakback            tweakreg           updatenpol\n"
     ]
    }
   ],
   "source": [
    "from astroquery.mast import Observations\n",
    "from ccdproc import ImageFileCollection\n",
    "from astropy.table import Table\n",
    "from astropy.io import fits\n",
    "from astropy.io import ascii\n",
    "from astropy.visualization import ZScaleInterval\n",
    "from IPython.display import Image\n",
    "import glob\n",
    "import matplotlib.pyplot as plt\n",
    "import numpy as np\n",
    "import os\n",
    "import shutil\n",
    "from drizzlepac import tweakreg\n",
    "from drizzlepac import astrodrizzle"
   ]
  },
  {
   "cell_type": "markdown",
   "id": "caa17906",
   "metadata": {},
   "source": [
    "A way to import files from each visit <br>"
   ]
  },
  {
   "cell_type": "code",
   "execution_count": 16,
   "id": "d24f98bb",
   "metadata": {},
   "outputs": [
    {
     "name": "stdout",
     "output_type": "stream",
     "text": [
      "Downloading URL https://mast.stsci.edu/api/v0.1/Download/file?uri=mast:HST/product/hst_16231_01_acs_sbc_f150lp_jec401no_flt.fits to ./science/mastDownload/HST/hst_16231_01_acs_sbc_f150lp_jec401no/hst_16231_01_acs_sbc_f150lp_jec401no_flt.fits ... [Done]\n",
      "Downloading URL https://mast.stsci.edu/api/v0.1/Download/file?uri=mast:HST/product/hst_16231_01_acs_sbc_f150lp_jec401nr_flt.fits to ./science/mastDownload/HST/hst_16231_01_acs_sbc_f150lp_jec401nr/hst_16231_01_acs_sbc_f150lp_jec401nr_flt.fits ... [Done]\n",
      "Downloading URL https://mast.stsci.edu/api/v0.1/Download/file?uri=mast:HST/product/hst_16231_01_acs_sbc_f150lp_jec401nv_flt.fits to ./science/mastDownload/HST/hst_16231_01_acs_sbc_f150lp_jec401nv/hst_16231_01_acs_sbc_f150lp_jec401nv_flt.fits ... [Done]\n",
      "Downloading URL https://mast.stsci.edu/api/v0.1/Download/file?uri=mast:HST/product/hst_16231_01_acs_sbc_f150lp_jec401nx_flt.fits to ./science/mastDownload/HST/hst_16231_01_acs_sbc_f150lp_jec401nx/hst_16231_01_acs_sbc_f150lp_jec401nx_flt.fits ... [Done]\n",
      "Downloading URL https://mast.stsci.edu/api/v0.1/Download/file?uri=mast:HST/product/jec401noq_flt.fits to ./science/mastDownload/HST/jec401noq/jec401noq_flt.fits ... [Done]\n",
      "Downloading URL https://mast.stsci.edu/api/v0.1/Download/file?uri=mast:HST/product/jec401nrq_flt.fits to ./science/mastDownload/HST/jec401nrq/jec401nrq_flt.fits ... [Done]\n",
      "Downloading URL https://mast.stsci.edu/api/v0.1/Download/file?uri=mast:HST/product/jec401nvq_flt.fits to ./science/mastDownload/HST/jec401nvq/jec401nvq_flt.fits ... [Done]\n",
      "Downloading URL https://mast.stsci.edu/api/v0.1/Download/file?uri=mast:HST/product/jec401nxq_flt.fits to ./science/mastDownload/HST/jec401nxq/jec401nxq_flt.fits ... [Done]\n"
     ]
    }
   ],
   "source": [
    "science_list = Observations.query_criteria(proposal_id='16231', filters='F150LP',obs_id='jec401010')\n",
    "Observations.download_products(science_list['obsid'], mrp_only=False, download_dir='./science',\\\n",
    "                               productSubGroupDescription=['FLT'])\n",
    "\n",
    "science_files = glob.glob(os.path.join(os.curdir, 'science', 'mastDownload', 'HST', '*', '*fits'))\n",
    "for im in science_files:\n",
    "    root = im.split('/')[-1]\n",
    "    os.rename(im, './' + root)\n",
    "shutil.rmtree('science/')"
   ]
  },
  {
   "cell_type": "code",
   "execution_count": 5,
   "id": "e4a07975",
   "metadata": {},
   "outputs": [],
   "source": [
    "Observations.query_criteria?"
   ]
  },
  {
   "cell_type": "code",
   "execution_count": 17,
   "id": "a3ef2ff6",
   "metadata": {},
   "outputs": [
    {
     "data": {
      "text/html": [
       "<div><i>Table masked=True length=8</i>\n",
       "<table id=\"table140652851956496\" class=\"table-striped table-bordered table-condensed\">\n",
       "<thead><tr><th>file</th><th>asn_id</th><th>detector</th><th>filter</th><th>nsamp</th><th>exptime</th><th>postarg1</th><th>postarg2</th></tr></thead>\n",
       "<thead><tr><th>str45</th><th>str9</th><th>str3</th><th>float64</th><th>float64</th><th>float64</th><th>float64</th><th>float64</th></tr></thead>\n",
       "<tr><td>hst_16231_01_acs_sbc_f150lp_jec401no_flt.fits</td><td>JEC401010</td><td>SBC</td><td>--</td><td>--</td><td>624.0</td><td>-0.21</td><td>-0.36</td></tr>\n",
       "<tr><td>hst_16231_01_acs_sbc_f150lp_jec401nr_flt.fits</td><td>JEC401010</td><td>SBC</td><td>--</td><td>--</td><td>624.0</td><td>0.63</td><td>-0.05</td></tr>\n",
       "<tr><td>hst_16231_01_acs_sbc_f150lp_jec401nv_flt.fits</td><td>JEC401010</td><td>SBC</td><td>--</td><td>--</td><td>624.0</td><td>0.21</td><td>0.36</td></tr>\n",
       "<tr><td>hst_16231_01_acs_sbc_f150lp_jec401nx_flt.fits</td><td>JEC401010</td><td>SBC</td><td>--</td><td>--</td><td>624.0</td><td>-0.63</td><td>0.05</td></tr>\n",
       "<tr><td>jec401noq_flt.fits</td><td>JEC401010</td><td>SBC</td><td>--</td><td>--</td><td>624.0</td><td>-0.21</td><td>-0.36</td></tr>\n",
       "<tr><td>jec401nrq_flt.fits</td><td>JEC401010</td><td>SBC</td><td>--</td><td>--</td><td>624.0</td><td>0.63</td><td>-0.05</td></tr>\n",
       "<tr><td>jec401nvq_flt.fits</td><td>JEC401010</td><td>SBC</td><td>--</td><td>--</td><td>624.0</td><td>0.21</td><td>0.36</td></tr>\n",
       "<tr><td>jec401nxq_flt.fits</td><td>JEC401010</td><td>SBC</td><td>--</td><td>--</td><td>624.0</td><td>-0.63</td><td>0.05</td></tr>\n",
       "</table></div>"
      ],
      "text/plain": [
       "<Table masked=True length=8>\n",
       "                     file                       asn_id  ... postarg1 postarg2\n",
       "                    str45                        str9   ... float64  float64 \n",
       "--------------------------------------------- --------- ... -------- --------\n",
       "hst_16231_01_acs_sbc_f150lp_jec401no_flt.fits JEC401010 ...    -0.21    -0.36\n",
       "hst_16231_01_acs_sbc_f150lp_jec401nr_flt.fits JEC401010 ...     0.63    -0.05\n",
       "hst_16231_01_acs_sbc_f150lp_jec401nv_flt.fits JEC401010 ...     0.21     0.36\n",
       "hst_16231_01_acs_sbc_f150lp_jec401nx_flt.fits JEC401010 ...    -0.63     0.05\n",
       "                           jec401noq_flt.fits JEC401010 ...    -0.21    -0.36\n",
       "                           jec401nrq_flt.fits JEC401010 ...     0.63    -0.05\n",
       "                           jec401nvq_flt.fits JEC401010 ...     0.21     0.36\n",
       "                           jec401nxq_flt.fits JEC401010 ...    -0.63     0.05"
      ]
     },
     "execution_count": 17,
     "metadata": {},
     "output_type": "execute_result"
    }
   ],
   "source": [
    "collect = ImageFileCollection('./', glob_include=\"*flt.fits\", ext=0,\n",
    "                                 keywords=[\"asn_id\", \"detector\", \"filter\", \"nsamp\",\n",
    "                                           \"exptime\", \"postarg1\", \"postarg2\"])\n",
    "\n",
    "table = collect.summary\n",
    "table['exptime'].format = '7.1f'\n",
    "table['postarg1'].format = '7.2f'\n",
    "table['postarg2'].format = '7.2f'\n",
    "table"
   ]
  },
  {
   "cell_type": "code",
   "execution_count": 18,
   "id": "dfe16de0",
   "metadata": {},
   "outputs": [
    {
     "data": {
      "text/html": [
       "<div><i>Table masked=True length=1</i>\n",
       "<table id=\"table140652850866192\" class=\"table-striped table-bordered table-condensed\">\n",
       "<thead><tr><th>dataproduct_type</th><th>calib_level</th><th>obs_collection</th><th>obs_id</th><th>target_name</th><th>s_ra</th><th>s_dec</th><th>t_min</th><th>t_max</th><th>t_exptime</th><th>wavelength_region</th><th>filters</th><th>em_min</th><th>em_max</th><th>target_classification</th><th>obs_title</th><th>t_obs_release</th><th>instrument_name</th><th>proposal_pi</th><th>proposal_id</th><th>proposal_type</th><th>project</th><th>sequence_number</th><th>provenance_name</th><th>s_region</th><th>jpegURL</th><th>dataURL</th><th>dataRights</th><th>mtFlag</th><th>srcDen</th><th>intentType</th><th>obsid</th><th>objID</th></tr></thead>\n",
       "<thead><tr><th>str5</th><th>int64</th><th>str3</th><th>str9</th><th>str24</th><th>float64</th><th>float64</th><th>float64</th><th>float64</th><th>float64</th><th>str2</th><th>str6</th><th>float64</th><th>float64</th><th>str32</th><th>str117</th><th>float64</th><th>str7</th><th>str12</th><th>str5</th><th>str2</th><th>str3</th><th>int64</th><th>str6</th><th>str469</th><th>str34</th><th>str35</th><th>str6</th><th>bool</th><th>float64</th><th>str7</th><th>str8</th><th>str9</th></tr></thead>\n",
       "<tr><td>image</td><td>3</td><td>HST</td><td>jec401010</td><td>SDSS-J211824.06+001729.4</td><td>319.600301831</td><td>0.2916033187818</td><td>59361.28522789352</td><td>59361.31620011574</td><td>2496.0</td><td>UV</td><td>F150LP</td><td>147.0</td><td>200.0</td><td>GALAXY;INTERACTING GALAXY;STARBU</td><td>Witnessing the circumgalactic medium in formation: Imaging OVI in the warm-hot CGM of a record-breaking galactic wind</td><td>59545.6085995</td><td>ACS/SBC</td><td>Rupke, David</td><td>16231</td><td>GO</td><td>HST</td><td>--</td><td>CALACS</td><td>POLYGON -40.404804619999993 0.29382642 -40.400379069999985 0.28534736 -40.400274148443515 0.28541562806207654 -40.400219919999984 0.28531173 -40.39307212 0.28996249 -40.393180581210551 0.29017029393850308 -40.393127610000022 0.29020476 -40.397553159999973 0.29868382 -40.397658077686792 0.2986155545773857 -40.397712309999974 0.29871946 -40.404860110000016 0.29406869 -40.404751648678179 0.29386088619566242 -40.404804619999993 0.29382642 -40.404804619999993 0.29382642</td><td>mast:HST/product/jec401010_drz.jpg</td><td>mast:HST/product/jec401010_drz.fits</td><td>PUBLIC</td><td>False</td><td>nan</td><td>science</td><td>60942439</td><td>153119885</td></tr>\n",
       "</table></div>"
      ],
      "text/plain": [
       "<Table masked=True length=1>\n",
       "dataproduct_type calib_level obs_collection ... intentType  obsid     objID  \n",
       "      str5          int64         str3      ...    str7      str8      str9  \n",
       "---------------- ----------- -------------- ... ---------- -------- ---------\n",
       "           image           3            HST ...    science 60942439 153119885"
      ]
     },
     "execution_count": 18,
     "metadata": {},
     "output_type": "execute_result"
    }
   ],
   "source": [
    "science_list"
   ]
  },
  {
   "cell_type": "code",
   "execution_count": 19,
   "id": "43ba2629",
   "metadata": {},
   "outputs": [
    {
     "name": "stderr",
     "output_type": "stream",
     "text": [
      "INFO:drizzlepac.util:Setting up logfile :  tweakreg.log\n"
     ]
    },
    {
     "name": "stdout",
     "output_type": "stream",
     "text": [
      "Setting up logfile :  tweakreg.log\n"
     ]
    },
    {
     "name": "stderr",
     "output_type": "stream",
     "text": [
      "INFO:drizzlepac.tweakreg:TweakReg Version 1.4.7(18-April-2018) started at: 12:01:14.528 (01/06/2022) \n"
     ]
    },
    {
     "name": "stdout",
     "output_type": "stream",
     "text": [
      "TweakReg Version 1.4.7(18-April-2018) started at: 12:01:14.528 (01/06/2022) \n"
     ]
    },
    {
     "name": "stderr",
     "output_type": "stream",
     "text": [
      "INFO:drizzlepac.tweakreg:\n"
     ]
    },
    {
     "name": "stdout",
     "output_type": "stream",
     "text": [
      "\n"
     ]
    },
    {
     "name": "stderr",
     "output_type": "stream",
     "text": [
      "INFO:drizzlepac.util:Version Information\n"
     ]
    },
    {
     "name": "stdout",
     "output_type": "stream",
     "text": [
      "Version Information\n"
     ]
    },
    {
     "name": "stderr",
     "output_type": "stream",
     "text": [
      "INFO:drizzlepac.util:--------------------\n"
     ]
    },
    {
     "name": "stdout",
     "output_type": "stream",
     "text": [
      "--------------------\n"
     ]
    },
    {
     "name": "stderr",
     "output_type": "stream",
     "text": [
      "INFO:drizzlepac.util:Python Version [Clang 12.0.0 ]\n"
     ]
    },
    {
     "name": "stdout",
     "output_type": "stream",
     "text": [
      "Python Version [Clang 12.0.0 ]\n"
     ]
    },
    {
     "name": "stderr",
     "output_type": "stream",
     "text": [
      "INFO:drizzlepac.util:3.7.13 (default, Mar 28 2022, 07:24:34) \n"
     ]
    },
    {
     "name": "stdout",
     "output_type": "stream",
     "text": [
      "3.7.13 (default, Mar 28 2022, 07:24:34) \n"
     ]
    },
    {
     "name": "stderr",
     "output_type": "stream",
     "text": [
      "INFO:drizzlepac.util:numpy Version -> 1.21.5 \n"
     ]
    },
    {
     "name": "stdout",
     "output_type": "stream",
     "text": [
      "numpy Version -> 1.21.5 \n"
     ]
    },
    {
     "name": "stderr",
     "output_type": "stream",
     "text": [
      "INFO:drizzlepac.util:astropy Version -> 4.3.1 \n"
     ]
    },
    {
     "name": "stdout",
     "output_type": "stream",
     "text": [
      "astropy Version -> 4.3.1 \n"
     ]
    },
    {
     "name": "stderr",
     "output_type": "stream",
     "text": [
      "INFO:drizzlepac.util:stwcs Version -> 1.6.1 \n"
     ]
    },
    {
     "name": "stdout",
     "output_type": "stream",
     "text": [
      "stwcs Version -> 1.6.1 \n"
     ]
    },
    {
     "name": "stderr",
     "output_type": "stream",
     "text": [
      "INFO:drizzlepac.tweakreg:\n",
      "INFO:drizzlepac.tweakreg:USER INPUT PARAMETERS common to all Processing Steps:\n",
      "INFO:drizzlepac.tweakreg:\tclean :\tFalse\n",
      "INFO:drizzlepac.tweakreg:\tenforce_user_order :\tTrue\n",
      "INFO:drizzlepac.tweakreg:\texclusions :\t\n",
      "INFO:drizzlepac.tweakreg:\texpand_refcat :\tFalse\n",
      "INFO:drizzlepac.tweakreg:\tinput :\tjec401noq_flt.fits\n",
      "INFO:drizzlepac.tweakreg:\tinteractive :\tTrue\n",
      "INFO:drizzlepac.tweakreg:\trefimage :\t\n",
      "INFO:drizzlepac.tweakreg:\trunfile :\ttweakreg.log\n",
      "INFO:drizzlepac.tweakreg:\tupdatewcs :\tFalse\n",
      "INFO:drizzlepac.tweakreg:\tverbose :\tFalse\n",
      "INFO:drizzlepac.tweakreg:\twritecat :\tTrue\n",
      "INFO:drizzlepac.tweakreg:\n"
     ]
    },
    {
     "name": "stdout",
     "output_type": "stream",
     "text": [
      "\n"
     ]
    },
    {
     "name": "stderr",
     "output_type": "stream",
     "text": [
      "INFO:drizzlepac.tweakreg:Finding shifts for: \n"
     ]
    },
    {
     "name": "stdout",
     "output_type": "stream",
     "text": [
      "Finding shifts for: \n"
     ]
    },
    {
     "name": "stderr",
     "output_type": "stream",
     "text": [
      "INFO:drizzlepac.tweakreg:    jec401noq_flt.fits\n"
     ]
    },
    {
     "name": "stdout",
     "output_type": "stream",
     "text": [
      "    jec401noq_flt.fits\n"
     ]
    },
    {
     "name": "stderr",
     "output_type": "stream",
     "text": [
      "INFO:drizzlepac.tweakreg:\n"
     ]
    },
    {
     "name": "stdout",
     "output_type": "stream",
     "text": [
      "\n"
     ]
    },
    {
     "name": "stderr",
     "output_type": "stream",
     "text": [
      "INFO:drizzlepac.tweakreg:USER INPUT PARAMETERS for finding sources for each input image:\n",
      "INFO:drizzlepac.tweakreg:\tclean :\tFalse\n",
      "INFO:drizzlepac.tweakreg:\tcomputesig :\tTrue\n",
      "INFO:drizzlepac.tweakreg:\tconv_width :\t3.5\n",
      "INFO:drizzlepac.tweakreg:\tdqbits :\t\n",
      "INFO:drizzlepac.tweakreg:\tenforce_user_order :\tTrue\n",
      "INFO:drizzlepac.tweakreg:\texpand_refcat :\tFalse\n",
      "INFO:drizzlepac.tweakreg:\tfluxmax :\tNone\n",
      "INFO:drizzlepac.tweakreg:\tfluxmin :\tNone\n",
      "INFO:drizzlepac.tweakreg:\tinput :\tjec401noq_flt.fits\n",
      "INFO:drizzlepac.tweakreg:\tinteractive :\tTrue\n",
      "INFO:drizzlepac.tweakreg:\tnsigma :\t1.5\n",
      "INFO:drizzlepac.tweakreg:\tpeakmax :\tNone\n",
      "INFO:drizzlepac.tweakreg:\tpeakmin :\tNone\n",
      "INFO:drizzlepac.tweakreg:\tratio :\t1.0\n",
      "INFO:drizzlepac.tweakreg:\trefimage :\t\n",
      "INFO:drizzlepac.tweakreg:\troundhi :\t1.0\n",
      "INFO:drizzlepac.tweakreg:\troundlo :\t-1.0\n",
      "INFO:drizzlepac.tweakreg:\trunfile :\ttweakreg.log\n",
      "INFO:drizzlepac.tweakreg:\tsharphi :\t1.0\n",
      "INFO:drizzlepac.tweakreg:\tsharplo :\t0.2\n",
      "INFO:drizzlepac.tweakreg:\tskysigma :\t0.0\n",
      "INFO:drizzlepac.tweakreg:\ttheta :\t0.0\n",
      "INFO:drizzlepac.tweakreg:\tthreshold :\t4.0\n",
      "INFO:drizzlepac.tweakreg:\tupdatehdr :\tFalse\n",
      "INFO:drizzlepac.tweakreg:\tupdatewcs :\tFalse\n",
      "INFO:drizzlepac.tweakreg:\tuse_sharp_round :\tFalse\n",
      "INFO:drizzlepac.tweakreg:\tverbose :\tFalse\n",
      "INFO:drizzlepac.tweakreg:\twritecat :\tTrue\n",
      "INFO:drizzlepac.tweakreg:\txyunits :\tpixels\n",
      "INFO:drizzlepac.tweakreg:\n",
      "INFO:drizzlepac.imgclasses:===  Source finding for image 'jec401noq_flt.fits':\n"
     ]
    },
    {
     "name": "stdout",
     "output_type": "stream",
     "text": [
      "===  Source finding for image 'jec401noq_flt.fits':\n"
     ]
    },
    {
     "name": "stderr",
     "output_type": "stream",
     "text": [
      "INFO:drizzlepac.catalogs:  #  Source finding for 'jec401noq_flt.fits', EXT=('SCI', 1) started at: 12:01:14.665 (01/06/2022)\n"
     ]
    },
    {
     "name": "stdout",
     "output_type": "stream",
     "text": [
      "  #  Source finding for 'jec401noq_flt.fits', EXT=('SCI', 1) started at: 12:01:14.665 (01/06/2022)\n"
     ]
    },
    {
     "name": "stderr",
     "output_type": "stream",
     "text": [
      "INFO:stsci.imagestats:! WARNING: Clipped data falls within 1 histogram bin\n"
     ]
    },
    {
     "name": "stdout",
     "output_type": "stream",
     "text": [
      "! WARNING: Clipped data falls within 1 histogram bin\n"
     ]
    },
    {
     "name": "stderr",
     "output_type": "stream",
     "text": [
      "INFO:drizzlepac.catalogs:   Finding sources using sky sigma = 0.000000\n",
      "INFO:drizzlepac.catalogs:###Source finding finished at: 12:01:14.938 (01/06/2022)\n",
      "INFO:drizzlepac.catalogs:     Found 6878 objects.\n"
     ]
    },
    {
     "name": "stdout",
     "output_type": "stream",
     "text": [
      "     Found 6878 objects.\n"
     ]
    },
    {
     "name": "stderr",
     "output_type": "stream",
     "text": [
      "INFO:drizzlepac.imgclasses:===  FINAL number of objects in image 'jec401noq_flt.fits': 6878\n"
     ]
    },
    {
     "name": "stdout",
     "output_type": "stream",
     "text": [
      "===  FINAL number of objects in image 'jec401noq_flt.fits': 6878\n"
     ]
    },
    {
     "name": "stderr",
     "output_type": "stream",
     "text": [
      "INFO:drizzlepac.imgclasses:\n"
     ]
    },
    {
     "name": "stdout",
     "output_type": "stream",
     "text": [
      "\n"
     ]
    },
    {
     "name": "stderr",
     "output_type": "stream",
     "text": [
      "INFO:drizzlepac.tweakreg:\n"
     ]
    },
    {
     "name": "stdout",
     "output_type": "stream",
     "text": [
      "\n"
     ]
    },
    {
     "name": "stderr",
     "output_type": "stream",
     "text": [
      "INFO:drizzlepac.tweakreg:WARNING: Fewer than two images available for alignment. Quitting...\n"
     ]
    },
    {
     "name": "stdout",
     "output_type": "stream",
     "text": [
      "WARNING: Fewer than two images available for alignment. Quitting...\n"
     ]
    },
    {
     "name": "stderr",
     "output_type": "stream",
     "text": [
      "INFO:drizzlepac.tweakreg:\n"
     ]
    },
    {
     "name": "stdout",
     "output_type": "stream",
     "text": [
      "\n"
     ]
    },
    {
     "name": "stderr",
     "output_type": "stream",
     "text": [
      "WARNING:drizzlepac.tweakreg:Fewer than two images available for alignment. Quitting...\n",
      "INFO:drizzlepac.util:Trailer file written to:  tweakreg.log\n"
     ]
    },
    {
     "name": "stdout",
     "output_type": "stream",
     "text": [
      "Trailer file written to:  tweakreg.log\n"
     ]
    }
   ],
   "source": [
    "tweakreg.TweakReg('jec401noq_flt.fits')"
   ]
  },
  {
   "cell_type": "code",
   "execution_count": 20,
   "id": "aec5a7a7",
   "metadata": {},
   "outputs": [],
   "source": [
    "from astropy.io import fits"
   ]
  },
  {
   "cell_type": "code",
   "execution_count": 21,
   "id": "82225cbd",
   "metadata": {},
   "outputs": [],
   "source": [
    "file = fits.open('jec401noq_flt.fits')"
   ]
  },
  {
   "cell_type": "code",
   "execution_count": 39,
   "id": "1786f8a6",
   "metadata": {},
   "outputs": [
    {
     "data": {
      "text/plain": [
       "SIMPLE  =                    T / file does conform to FITS standard             \n",
       "BITPIX  =                   16 / number of bits per data pixel                  \n",
       "NAXIS   =                    0 / number of data axes                            \n",
       "EXTEND  =                    T / FITS dataset may contain extensions            \n",
       "COMMENT   FITS (Flexible Image Transport System) format is defined in 'Astronomy\n",
       "COMMENT   and Astrophysics', volume 376, page 359; bibcode: 2001A&A...376..359H \n",
       "ORIGIN  = 'HSTIO/CFITSIO March 2010' / FITS file originator                     \n",
       "DATE    = '2022-04-13' / date this file was written (yyyy-mm-dd)                \n",
       "NEXTEND =                    8 / Number of standard extensions                  \n",
       "FILENAME= 'jec401noq_flt.fits' / name of file                                   \n",
       "FILETYPE= 'SCI      '          / type of data found in data file                \n",
       "                                                                                \n",
       "TELESCOP= 'HST'                / telescope used to acquire data                 \n",
       "INSTRUME= 'ACS   '             / identifier for instrument used to acquire data \n",
       "EQUINOX =               2000.0 / equinox of celestial coord. system             \n",
       "                                                                                \n",
       "              / DATA DESCRIPTION KEYWORDS                                       \n",
       "                                                                                \n",
       "ROOTNAME= 'jec401noq                         ' / rootname of the observation set\n",
       "IMAGETYP= 'EXT               ' / type of exposure identifier                    \n",
       "PRIMESI = 'ACS   '             / instrument designated as prime                 \n",
       "                                                                                \n",
       "              / TARGET INFORMATION                                              \n",
       "                                                                                \n",
       "TARGNAME= 'SDSS-J211824.06+001729.4       ' / proposer's target name            \n",
       "RA_TARG =   3.196002500000E+02 / right ascension of the target (deg) (J2000)    \n",
       "DEC_TARG=   2.915000000000E-01 / declination of the target (deg) (J2000)        \n",
       "                                                                                \n",
       "              / PROPOSAL INFORMATION                                            \n",
       "                                                                                \n",
       "PROPOSID=                16231 / PEP proposal identifier                        \n",
       "LINENUM = '01.001         '    / proposal logsheet line number                  \n",
       "PR_INV_L= 'Rupke                         ' / last name of principal investigator\n",
       "PR_INV_F= 'David               ' / first name of principal investigator         \n",
       "PR_INV_M= '                    ' / middle name / initial of principal investigat\n",
       "                                                                                \n",
       "              / EXPOSURE INFORMATION                                            \n",
       "                                                                                \n",
       "SUNANGLE=           103.452515 / angle between sun and V1 axis                  \n",
       "MOONANGL=            65.637787 / angle between moon and V1 axis                 \n",
       "SUN_ALT =           -29.774399 / altitude of the sun above Earth's limb         \n",
       "FGSLOCK = 'FINE              ' / commanded FGS lock (FINE,COARSE,GYROS,UNKNOWN) \n",
       "GYROMODE= 'T'                  / number of gyros scheduled, T=3+OBAD            \n",
       "REFFRAME= 'ICRS    '           / guide star catalog version                     \n",
       "MTFLAG  = ' '                  / moving target flag; T if it is a moving target \n",
       "                                                                                \n",
       "DATE-OBS= '2021-05-27'         / UT date of start of observation (yyyy-mm-dd)   \n",
       "TIME-OBS= '06:50:43'           / UT time of start of observation (hh:mm:ss)     \n",
       "EXPSTART=   5.936128522789E+04 / exposure start time (Modified Julian Date)     \n",
       "EXPEND  =   5.936129245789E+04 / exposure end time (Modified Julian Date)       \n",
       "EXPTIME =           624.000000 / exposure duration (seconds)--calculated        \n",
       "EXPFLAG = 'NORMAL       '      / Exposure interruption indicator                \n",
       "QUALCOM1= '                                                                    '\n",
       "QUALCOM2= '                                                                    '\n",
       "QUALCOM3= '                                                                    '\n",
       "QUALITY = '                                                                    '\n",
       "                                                                                \n",
       "                                                                                \n",
       "              / POINTING INFORMATION                                            \n",
       "                                                                                \n",
       "PA_V3   =            56.999378 / position angle of V3-axis of HST (deg)         \n",
       "                                                                                \n",
       "              / TARGET OFFSETS (POSTARGS)                                       \n",
       "                                                                                \n",
       "POSTARG1=            -0.210000 / POSTARG in axis 1 direction                    \n",
       "POSTARG2=            -0.359250 / POSTARG in axis 2 direction                    \n",
       "                                                                                \n",
       "              / DIAGNOSTIC KEYWORDS                                             \n",
       "                                                                                \n",
       "PROCTIME=   5.968265254630E+04 / pipeline processing time (MJD)                 \n",
       "OPUS_VER= 'HSTDP 2022_1                ' / data processing software system versi\n",
       "AWSYSVER= 'v0.4.35 '           / cloud infrastructure package version           \n",
       "AWSDPVER= 'v0.2.18 '           / cloud docker image version                     \n",
       "CSYS_VER= 'caldp_20220406'     / calibration software system version id         \n",
       "CAL_VER = '10.3.5 (08-Feb-2022)' / CALACS code version                          \n",
       "                                                                                \n",
       "              / SCIENCE INSTRUMENT CONFIGURATION                                \n",
       "                                                                                \n",
       "OBSTYPE = 'IMAGING       '     / observation type - imaging or spectroscopic    \n",
       "OBSMODE = 'ACCUM     '         / operating mode                                 \n",
       "CTEIMAGE= 'NONE'               / type of Charge Transfer Image, if applicable   \n",
       "SCLAMP  = 'NONE          '     / lamp status, NONE or name of lamp which is on  \n",
       "NRPTEXP =                    1 / number of repeat exposures in set: default 1   \n",
       "SUBARRAY=                    F / data from a subarray (T) or full frame (F)     \n",
       "DETECTOR= 'SBC'                / detector in use: WFC, HRC, or SBC              \n",
       "FILTER1 = 'F150LP            ' / element selected from filter wheel 1           \n",
       "FILTER2 = 'N/A               ' / element selected from filter wheel 2           \n",
       "FW1OFFST=                    0 / computed filter wheel offset                   \n",
       "FW1ERROR=                    F / filter wheel position error flag               \n",
       "FW2OFFST=                    0 / computed filter wheel offset                   \n",
       "FW2ERROR=                    F / filter wheel position error flag               \n",
       "FWSOFFST=                    0 / computed filter wheel offset                   \n",
       "FWSERROR=                    F / filter wheel position error flag               \n",
       "LRFWAVE =             0.000000 / proposed linear ramp filter wavelength         \n",
       "APERTURE= 'SBC             '   / aperture name                                  \n",
       "PROPAPER= 'SBC             '   / proposed aperture name                         \n",
       "DIRIMAGE= 'NONE     '          / direct image for grism or prism exposure       \n",
       "                                                                                \n",
       "              / MAMA OFFSETS                                                    \n",
       "                                                                                \n",
       "MOFFSET1=                    0 / axis 1 MAMA offset (low-res pixels)            \n",
       "MOFFSET2=                    0 / axis 2 MAMA offset (low-res pixels)            \n",
       "                                                                                \n",
       "              / LOCAL RATE CHECK IMAGE                                          \n",
       "                                                                                \n",
       "LRC_XSTS=                    F / Local Rate check image exists (T/F)            \n",
       "LRC_FAIL=                    F / Local Rate Check Failed (T/F)                  \n",
       "                                                                                \n",
       "              / CALIBRATION SWITCHES: PERFORM, OMIT, COMPLETE                   \n",
       "                                                                                \n",
       "STATFLAG=                    F / Calculate statistics?                          \n",
       "WRTERR  =                    T / write out error array extension                \n",
       "DQICORR = 'COMPLETE'           / data quality initialization                    \n",
       "GLINCORR= 'COMPLETE'           / correct for global detector non-linearities    \n",
       "LFLGCORR= 'COMPLETE'           / flag pixels for local and global nonlinearities\n",
       "PCTECORR= 'OMIT    '           / cte correction                                 \n",
       "DARKCORR= 'OMIT    '           / Subtract dark image                            \n",
       "FLATCORR= 'COMPLETE'           / flat field data                                \n",
       "PHOTCORR= 'COMPLETE'           / populate photometric header keywords           \n",
       "RPTCORR = 'OMIT    '           / add individual repeat observations             \n",
       "DRIZCORR= 'PERFORM '           / drizzle processing                             \n",
       "                                                                                \n",
       "              / CALIBRATION REFERENCE FILES                                     \n",
       "                                                                                \n",
       "BPIXTAB = 'jref$u451251ej_bpx.fits' / bad pixel table                           \n",
       "MLINTAB = 'jref$k9c13374j_lin.fits' / MAMA linearity correction table           \n",
       "PCTETAB = 'N/A                    ' / CTE Correction Table                      \n",
       "DRKCFILE= 'N/A                    ' / De-trailed Dark Reference File            \n",
       "DARKFILE= 'N/A                    ' / dark image file name                      \n",
       "PFLTFILE= 'jref$36h2201jj_pfl.fits' / pixel to pixel flat field file name       \n",
       "DFLTFILE= 'N/A                    ' / delta flat field file name                \n",
       "LFLTFILE= 'N/A                    ' / low order flat                            \n",
       "PHOTTAB = 'N/A                    ' / Photometric throughput table              \n",
       "GRAPHTAB= 'N/A                    ' / the HST graph table                       \n",
       "COMPTAB = 'N/A                    ' / the HST components table                  \n",
       "IDCTAB  = 'jref$v6m2008mj_idc.fits' / image distortion correction table         \n",
       "DGEOFILE= 'jref$s5f20000j_dxy.fits' / Distortion correction image               \n",
       "MDRIZTAB= 'jref$ub215379j_mdz.fits' / MultiDrizzle parameter table              \n",
       "CFLTFILE= 'N/A                    ' / Coronagraphic spot image                  \n",
       "SPOTTAB = 'N/A                    ' / Coronagraphic spot offset table           \n",
       "IMPHTTAB= 'jref$64614292j_imp.fits' / Image Photometry Table                    \n",
       "D2IMFILE= 'N/A                    ' / Column Correction Reference File          \n",
       "NPOLFILE= 'jref$xc215013j_npl.fits' / Non-polynomial Offsets Reference File     \n",
       "                                                                                \n",
       "              / OTFR KEYWORDS                                                   \n",
       "                                                                                \n",
       "T_SGSTAR= '                  ' / OMS calculated guide star control              \n",
       "                                                                                \n",
       "              / PATTERN KEYWORDS                                                \n",
       "                                                                                \n",
       "PATTERN1= 'ACS-SBC-DITHER-BOX      ' / primary pattern type                     \n",
       "P1_SHAPE= 'PARALLELOGRAM     ' / primary pattern shape                          \n",
       "P1_PURPS= 'DITHER    '         / primary pattern purpose                        \n",
       "P1_NPTS =                    4 / number of points in primary pattern            \n",
       "P1_PSPAC=             0.894773 / point spacing for primary pattern (arc-sec)    \n",
       "P1_LSPAC=             0.587116 / line spacing for primary pattern (arc-sec)     \n",
       "P1_ANGLE=            64.478514 / angle between sides of parallelogram patt (deg)\n",
       "P1_FRAME= 'POS-TARG '          / coordinate frame of primary pattern            \n",
       "P1_ORINT=            20.151333 / orientation of pattern to coordinate frame (deg\n",
       "P1_CENTR= 'YES'                / center pattern relative to pointing (yes/no)   \n",
       "PATTSTEP=                    1 / position number of this point in the pattern   \n",
       "                                                                                \n",
       "              / ASSOCIATION KEYWORDS                                            \n",
       "                                                                                \n",
       "ASN_ID  = 'JEC401010 '         / unique identifier assigned to association      \n",
       "ASN_TAB = 'jec401010_asn.fits     ' / name of the association table             \n",
       "ASN_MTYP= 'EXP-DTH     '       / Role of the Member in the Association          \n",
       "CRDS_CTX= 'hst_1004.pmap'                                                       \n",
       "CRDS_VER= '11.9.0, b11.4.0, 64d96076d89b32a5687a6b77bb910ab93b3a99b3'           \n",
       "ATODTAB = 'N/A     '                                                            \n",
       "BIASFILE= 'N/A     '                                                            \n",
       "CCDTAB  = 'N/A     '                                                            \n",
       "CRREJTAB= 'N/A     '                                                            \n",
       "FLSHFILE= 'N/A     '                                                            \n",
       "OSCNTAB = 'N/A     '                                                            \n",
       "SATUFILE= 'N/A     '                                                            \n",
       "SHADFILE= 'N/A     '                                                            \n",
       "SNKCFILE= 'N/A     '                                                            \n",
       "DISTNAME= 'jec401noq_v6m2008mj-xc215013j-NOMODEL'                               \n",
       "SIPNAME = 'jec401noq_v6m2008mj'                                                 \n",
       "UPWCSVER= '1.7.2   '           / Version of STWCS used to updated the WCS       \n",
       "PYWCSVER= '5.0.2   '           / Version of PYWCS used to updated the WCS       \n",
       "HISTORY DQICORR complete ...                                                    \n",
       "HISTORY   DQ array initialized ...                                              \n",
       "HISTORY   reference table jref$u451251ej_bpx.fits                               \n",
       "HISTORY GLINCORR complete ...                                                   \n",
       "HISTORY LFLGCORR complete ...                                                   \n",
       "HISTORY   reference table jref$k9c13374j_lin.fits                               \n",
       "HISTORY     GROUND                                                              \n",
       "HISTORY     prepared by G. Meurer following STIS parameters of T. Danks         \n",
       "HISTORY Uncertainty array initialized.                                          \n",
       "HISTORY FLATCORR complete ...                                                   \n",
       "HISTORY   reference image jref$36h2201jj_pfl.fits                               \n",
       "HISTORY     INFLIGHT 27/05/2002 02/04/2019                                      \n",
       "HISTORY     Inflight SBC LP-Flat                                                \n",
       "HISTORY PHOTCORR complete ...                                                   \n",
       "HISTORY   reference table jref$64614292j_imp.fits                               "
      ]
     },
     "execution_count": 39,
     "metadata": {},
     "output_type": "execute_result"
    }
   ],
   "source": [
    "file[0].header"
   ]
  },
  {
   "cell_type": "code",
   "execution_count": null,
   "id": "a9bf55a7",
   "metadata": {},
   "outputs": [],
   "source": []
  }
 ],
 "metadata": {
  "kernelspec": {
   "display_name": "Python 3 (ipykernel)",
   "language": "python",
   "name": "python3"
  },
  "language_info": {
   "codemirror_mode": {
    "name": "ipython",
    "version": 3
   },
   "file_extension": ".py",
   "mimetype": "text/x-python",
   "name": "python",
   "nbconvert_exporter": "python",
   "pygments_lexer": "ipython3",
   "version": "3.7.13"
  }
 },
 "nbformat": 4,
 "nbformat_minor": 5
}
