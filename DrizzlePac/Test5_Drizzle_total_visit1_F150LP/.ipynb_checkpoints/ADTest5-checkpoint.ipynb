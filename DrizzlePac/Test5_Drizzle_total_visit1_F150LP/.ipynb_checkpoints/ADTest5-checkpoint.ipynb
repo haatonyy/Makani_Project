{
 "cells": [
  {
   "cell_type": "code",
   "execution_count": 1,
   "id": "9c2e5932",
   "metadata": {},
   "outputs": [
    {
     "name": "stdout",
     "output_type": "stream",
     "text": [
      "\n",
      "\n",
      "The following task in the stsci.skypac package can be run with TEAL:\n",
      "                                    skymatch                                    \n",
      "The following tasks in the drizzlepac package can be run with TEAL:\n",
      "    astrodrizzle       config_testbed      imagefindpars           mapreg       \n",
      "       photeq            pixreplace           pixtopix            pixtosky      \n",
      "  refimagefindpars       resetbits          runastrodriz          skytopix      \n",
      "     tweakback            tweakreg           updatenpol\n"
     ]
    }
   ],
   "source": [
    "from astroquery.mast import Observations\n",
    "#from ccdproc import ImageFileCollection\n",
    "from astropy.table import Table\n",
    "from astropy.io import fits\n",
    "from astropy.io import ascii\n",
    "from astropy.visualization import ZScaleInterval\n",
    "from IPython.display import Image\n",
    "import glob\n",
    "import matplotlib.pyplot as plt\n",
    "import numpy as np\n",
    "import os\n",
    "import shutil\n",
    "from drizzlepac import tweakreg\n",
    "from drizzlepac import astrodrizzle"
   ]
  },
  {
   "cell_type": "code",
   "execution_count": 8,
   "id": "3349f7f3",
   "metadata": {},
   "outputs": [
    {
     "name": "stdout",
     "output_type": "stream",
     "text": [
      "Downloading URL https://mast.stsci.edu/api/v0.1/Download/file?uri=mast:HST/product/hst_16231_01_acs_sbc_f150lp_jec401_drz.fits to ./science/mastDownload/HST/hst_16231_01_acs_sbc_f150lp_jec401/hst_16231_01_acs_sbc_f150lp_jec401_drz.fits ... [Done]\n",
      "Downloading URL https://mast.stsci.edu/api/v0.1/Download/file?uri=mast:HST/product/hst_16231_01_acs_sbc_f150lp_jec401no_drz.fits to ./science/mastDownload/HST/hst_16231_01_acs_sbc_f150lp_jec401no/hst_16231_01_acs_sbc_f150lp_jec401no_drz.fits ... [Done]\n",
      "Downloading URL https://mast.stsci.edu/api/v0.1/Download/file?uri=mast:HST/product/hst_16231_01_acs_sbc_f150lp_jec401no_flt.fits to ./science/mastDownload/HST/hst_16231_01_acs_sbc_f150lp_jec401no/hst_16231_01_acs_sbc_f150lp_jec401no_flt.fits ... [Done]\n",
      "Downloading URL https://mast.stsci.edu/api/v0.1/Download/file?uri=mast:HST/product/hst_16231_01_acs_sbc_f150lp_jec401nr_drz.fits to ./science/mastDownload/HST/hst_16231_01_acs_sbc_f150lp_jec401nr/hst_16231_01_acs_sbc_f150lp_jec401nr_drz.fits ... [Done]\n",
      "Downloading URL https://mast.stsci.edu/api/v0.1/Download/file?uri=mast:HST/product/hst_16231_01_acs_sbc_f150lp_jec401nr_flt.fits to ./science/mastDownload/HST/hst_16231_01_acs_sbc_f150lp_jec401nr/hst_16231_01_acs_sbc_f150lp_jec401nr_flt.fits ... [Done]\n",
      "Downloading URL https://mast.stsci.edu/api/v0.1/Download/file?uri=mast:HST/product/hst_16231_01_acs_sbc_f150lp_jec401nv_drz.fits to ./science/mastDownload/HST/hst_16231_01_acs_sbc_f150lp_jec401nv/hst_16231_01_acs_sbc_f150lp_jec401nv_drz.fits ... [Done]\n",
      "Downloading URL https://mast.stsci.edu/api/v0.1/Download/file?uri=mast:HST/product/hst_16231_01_acs_sbc_f150lp_jec401nv_flt.fits to ./science/mastDownload/HST/hst_16231_01_acs_sbc_f150lp_jec401nv/hst_16231_01_acs_sbc_f150lp_jec401nv_flt.fits ... [Done]\n",
      "Downloading URL https://mast.stsci.edu/api/v0.1/Download/file?uri=mast:HST/product/hst_16231_01_acs_sbc_f150lp_jec401nx_drz.fits to ./science/mastDownload/HST/hst_16231_01_acs_sbc_f150lp_jec401nx/hst_16231_01_acs_sbc_f150lp_jec401nx_drz.fits ... [Done]\n",
      "Downloading URL https://mast.stsci.edu/api/v0.1/Download/file?uri=mast:HST/product/hst_16231_01_acs_sbc_f150lp_jec401nx_flt.fits to ./science/mastDownload/HST/hst_16231_01_acs_sbc_f150lp_jec401nx/hst_16231_01_acs_sbc_f150lp_jec401nx_flt.fits ... [Done]\n",
      "Downloading URL https://mast.stsci.edu/api/v0.1/Download/file?uri=mast:HST/product/hst_16231_01_acs_sbc_total_jec401_drz.fits to ./science/mastDownload/HST/hst_16231_01_acs_sbc_total_jec401/hst_16231_01_acs_sbc_total_jec401_drz.fits ... [Done]\n",
      "Downloading URL https://mast.stsci.edu/api/v0.1/Download/file?uri=mast:HST/product/jec401010_drz.fits to ./science/mastDownload/HST/jec401010/jec401010_drz.fits ... [Done]\n",
      "Downloading URL https://mast.stsci.edu/api/v0.1/Download/file?uri=mast:HST/product/jec401noq_flt.fits to ./science/mastDownload/HST/jec401noq/jec401noq_flt.fits ... [Done]\n",
      "Downloading URL https://mast.stsci.edu/api/v0.1/Download/file?uri=mast:HST/product/jec401nrq_flt.fits to ./science/mastDownload/HST/jec401nrq/jec401nrq_flt.fits ... [Done]\n",
      "Downloading URL https://mast.stsci.edu/api/v0.1/Download/file?uri=mast:HST/product/jec401nvq_flt.fits to ./science/mastDownload/HST/jec401nvq/jec401nvq_flt.fits ... [Done]\n",
      "Downloading URL https://mast.stsci.edu/api/v0.1/Download/file?uri=mast:HST/product/jec401nxq_flt.fits to ./science/mastDownload/HST/jec401nxq/jec401nxq_flt.fits ... [Done]\n"
     ]
    }
   ],
   "source": [
    "science_list = Observations.query_criteria(proposal_id='16231', filters='F150LP',obs_id='jec401*')\n",
    "Observations.download_products(science_list['obsid'], mrp_only=False, download_dir='./science',\\\n",
    "                               productSubGroupDescription=['FLT', 'DRZ'])\n",
    "\n",
    "science_files = glob.glob(os.path.join(os.curdir, 'science', 'mastDownload', 'HST', '*', '*fits'))\n",
    "for im in science_files:\n",
    "    root = im.split('/')[-1]\n",
    "    os.rename(im, './' + root)\n",
    "shutil.rmtree('science/')"
   ]
  },
  {
   "cell_type": "code",
   "execution_count": 5,
   "id": "8efaf7d7",
   "metadata": {},
   "outputs": [
    {
     "name": "stdout",
     "output_type": "stream",
     "text": [
      "Downloading URL https://mast.stsci.edu/api/v0.1/Download/file?uri=mast:HST/product/hst_16231_01_acs_sbc_f150lp_jec401_trl.txt to ./mastDownload/HST/hst_16231_01_acs_sbc_f150lp_jec401/hst_16231_01_acs_sbc_f150lp_jec401_trl.txt ... [Done]\n",
      "Downloading URL https://mast.stsci.edu/api/v0.1/Download/file?uri=mast:HST/product/hst_16231_01_acs_sbc_f150lp_jec401_drz.jpg to ./mastDownload/HST/hst_16231_01_acs_sbc_f150lp_jec401/hst_16231_01_acs_sbc_f150lp_jec401_drz.jpg ... [Done]\n",
      "Downloading URL https://mast.stsci.edu/api/v0.1/Download/file?uri=mast:HST/product/hst_16231_01_acs_sbc_f150lp_jec401_drz.fits to ./mastDownload/HST/hst_16231_01_acs_sbc_f150lp_jec401/hst_16231_01_acs_sbc_f150lp_jec401_drz.fits ... [Done]\n",
      "Downloading URL https://mast.stsci.edu/api/v0.1/Download/file?uri=mast:HST/product/hst_16231_01_acs_sbc_f150lp_jec401_point-cat.ecsv to ./mastDownload/HST/hst_16231_01_acs_sbc_f150lp_jec401/hst_16231_01_acs_sbc_f150lp_jec401_point-cat.ecsv ... [Done]\n",
      "Downloading URL https://mast.stsci.edu/api/v0.1/Download/file?uri=mast:HST/product/hst_16231_01_acs_sbc_f150lp_jec401_segment-cat.ecsv to ./mastDownload/HST/hst_16231_01_acs_sbc_f150lp_jec401/hst_16231_01_acs_sbc_f150lp_jec401_segment-cat.ecsv ... [Done]\n",
      "Downloading URL https://mast.stsci.edu/api/v0.1/Download/file?uri=mast:HST/product/hst_16231_01_acs_sbc_f150lp_jec401no_trl.txt to ./mastDownload/HST/hst_16231_01_acs_sbc_f150lp_jec401no/hst_16231_01_acs_sbc_f150lp_jec401no_trl.txt ... [Done]\n",
      "Downloading URL https://mast.stsci.edu/api/v0.1/Download/file?uri=mast:HST/product/hst_16231_01_acs_sbc_f150lp_jec401no_drz.jpg to ./mastDownload/HST/hst_16231_01_acs_sbc_f150lp_jec401no/hst_16231_01_acs_sbc_f150lp_jec401no_drz.jpg ... [Done]\n",
      "Downloading URL https://mast.stsci.edu/api/v0.1/Download/file?uri=mast:HST/product/hst_16231_01_acs_sbc_f150lp_jec401no_drz.fits to ./mastDownload/HST/hst_16231_01_acs_sbc_f150lp_jec401no/hst_16231_01_acs_sbc_f150lp_jec401no_drz.fits ... [Done]\n",
      "Downloading URL https://mast.stsci.edu/api/v0.1/Download/file?uri=mast:HST/product/hst_16231_01_acs_sbc_f150lp_jec401no_flt.fits to ./mastDownload/HST/hst_16231_01_acs_sbc_f150lp_jec401no/hst_16231_01_acs_sbc_f150lp_jec401no_flt.fits ... [Done]\n",
      "Downloading URL https://mast.stsci.edu/api/v0.1/Download/file?uri=mast:HST/product/hst_16231_01_acs_sbc_f150lp_jec401nr_trl.txt to ./mastDownload/HST/hst_16231_01_acs_sbc_f150lp_jec401nr/hst_16231_01_acs_sbc_f150lp_jec401nr_trl.txt ... [Done]\n",
      "Downloading URL https://mast.stsci.edu/api/v0.1/Download/file?uri=mast:HST/product/hst_16231_01_acs_sbc_f150lp_jec401nr_drz.jpg to ./mastDownload/HST/hst_16231_01_acs_sbc_f150lp_jec401nr/hst_16231_01_acs_sbc_f150lp_jec401nr_drz.jpg ... [Done]\n",
      "Downloading URL https://mast.stsci.edu/api/v0.1/Download/file?uri=mast:HST/product/hst_16231_01_acs_sbc_f150lp_jec401nr_drz.fits to ./mastDownload/HST/hst_16231_01_acs_sbc_f150lp_jec401nr/hst_16231_01_acs_sbc_f150lp_jec401nr_drz.fits ... [Done]\n",
      "Downloading URL https://mast.stsci.edu/api/v0.1/Download/file?uri=mast:HST/product/hst_16231_01_acs_sbc_f150lp_jec401nr_flt.fits to ./mastDownload/HST/hst_16231_01_acs_sbc_f150lp_jec401nr/hst_16231_01_acs_sbc_f150lp_jec401nr_flt.fits ... [Done]\n",
      "Downloading URL https://mast.stsci.edu/api/v0.1/Download/file?uri=mast:HST/product/hst_16231_01_acs_sbc_f150lp_jec401nv_trl.txt to ./mastDownload/HST/hst_16231_01_acs_sbc_f150lp_jec401nv/hst_16231_01_acs_sbc_f150lp_jec401nv_trl.txt ... [Done]\n",
      "Downloading URL https://mast.stsci.edu/api/v0.1/Download/file?uri=mast:HST/product/hst_16231_01_acs_sbc_f150lp_jec401nv_drz.jpg to ./mastDownload/HST/hst_16231_01_acs_sbc_f150lp_jec401nv/hst_16231_01_acs_sbc_f150lp_jec401nv_drz.jpg ... [Done]\n",
      "Downloading URL https://mast.stsci.edu/api/v0.1/Download/file?uri=mast:HST/product/hst_16231_01_acs_sbc_f150lp_jec401nv_drz.fits to ./mastDownload/HST/hst_16231_01_acs_sbc_f150lp_jec401nv/hst_16231_01_acs_sbc_f150lp_jec401nv_drz.fits ... [Done]\n",
      "Downloading URL https://mast.stsci.edu/api/v0.1/Download/file?uri=mast:HST/product/hst_16231_01_acs_sbc_f150lp_jec401nv_flt.fits to ./mastDownload/HST/hst_16231_01_acs_sbc_f150lp_jec401nv/hst_16231_01_acs_sbc_f150lp_jec401nv_flt.fits ... [Done]\n",
      "Downloading URL https://mast.stsci.edu/api/v0.1/Download/file?uri=mast:HST/product/hst_16231_01_acs_sbc_f150lp_jec401nx_trl.txt to ./mastDownload/HST/hst_16231_01_acs_sbc_f150lp_jec401nx/hst_16231_01_acs_sbc_f150lp_jec401nx_trl.txt ... [Done]\n",
      "Downloading URL https://mast.stsci.edu/api/v0.1/Download/file?uri=mast:HST/product/hst_16231_01_acs_sbc_f150lp_jec401nx_drz.jpg to ./mastDownload/HST/hst_16231_01_acs_sbc_f150lp_jec401nx/hst_16231_01_acs_sbc_f150lp_jec401nx_drz.jpg ... [Done]\n",
      "Downloading URL https://mast.stsci.edu/api/v0.1/Download/file?uri=mast:HST/product/hst_16231_01_acs_sbc_f150lp_jec401nx_drz.fits to ./mastDownload/HST/hst_16231_01_acs_sbc_f150lp_jec401nx/hst_16231_01_acs_sbc_f150lp_jec401nx_drz.fits ... [Done]\n",
      "Downloading URL https://mast.stsci.edu/api/v0.1/Download/file?uri=mast:HST/product/hst_16231_01_acs_sbc_f150lp_jec401nx_flt.fits to ./mastDownload/HST/hst_16231_01_acs_sbc_f150lp_jec401nx/hst_16231_01_acs_sbc_f150lp_jec401nx_flt.fits ... [Done]\n",
      "Downloading URL https://mast.stsci.edu/api/v0.1/Download/file?uri=mast:HST/product/hst_16231_01_acs_sbc_total_jec401_trl.txt to ./mastDownload/HST/hst_16231_01_acs_sbc_total_jec401/hst_16231_01_acs_sbc_total_jec401_trl.txt ... [Done]\n",
      "Downloading URL https://mast.stsci.edu/api/v0.1/Download/file?uri=mast:HST/product/hst_16231_01_acs_sbc_total_jec401_drz.jpg to ./mastDownload/HST/hst_16231_01_acs_sbc_total_jec401/hst_16231_01_acs_sbc_total_jec401_drz.jpg ... [Done]\n",
      "Downloading URL https://mast.stsci.edu/api/v0.1/Download/file?uri=mast:HST/product/hst_16231_01_acs_sbc_total_jec401_drz.fits to ./mastDownload/HST/hst_16231_01_acs_sbc_total_jec401/hst_16231_01_acs_sbc_total_jec401_drz.fits ... [Done]\n",
      "Downloading URL https://mast.stsci.edu/api/v0.1/Download/file?uri=mast:HST/product/hst_16231_01_acs_sbc_total_jec401_point-cat.ecsv to ./mastDownload/HST/hst_16231_01_acs_sbc_total_jec401/hst_16231_01_acs_sbc_total_jec401_point-cat.ecsv ... [Done]\n",
      "Downloading URL https://mast.stsci.edu/api/v0.1/Download/file?uri=mast:HST/product/hst_16231_01_acs_sbc_total_jec401_segment-cat.ecsv to ./mastDownload/HST/hst_16231_01_acs_sbc_total_jec401/hst_16231_01_acs_sbc_total_jec401_segment-cat.ecsv ... [Done]\n",
      "Downloading URL https://mast.stsci.edu/api/v0.1/Download/file?uri=mast:HST/product/jec401010_jif.fits to ./mastDownload/HST/jec401010/jec401010_jif.fits ... [Done]\n",
      "Downloading URL https://mast.stsci.edu/api/v0.1/Download/file?uri=mast:HST/product/jec401010_jit.fits to ./mastDownload/HST/jec401010/jec401010_jit.fits ... [Done]\n",
      "Downloading URL https://mast.stsci.edu/api/v0.1/Download/file?uri=mast:HST/product/jec401010_spt.fits to ./mastDownload/HST/jec401010/jec401010_spt.fits ... [Done]\n",
      "Downloading URL https://mast.stsci.edu/api/v0.1/Download/file?uri=mast:HST/product/jec401010_trl.fits to ./mastDownload/HST/jec401010/jec401010_trl.fits ... [Done]\n",
      "Downloading URL https://mast.stsci.edu/api/v0.1/Download/file?uri=mast:HST/product/jec401010_asn.fits to ./mastDownload/HST/jec401010/jec401010_asn.fits ... [Done]\n",
      "Downloading URL https://mast.stsci.edu/api/v0.1/Download/file?uri=mast:HST/product/jec401010_log.txt to ./mastDownload/HST/jec401010/jec401010_log.txt ... [Done]\n",
      "Downloading URL https://mast.stsci.edu/api/v0.1/Download/file?uri=mast:HST/product/jec401010_drz.jpg to ./mastDownload/HST/jec401010/jec401010_drz.jpg ... [Done]\n",
      "Downloading URL https://mast.stsci.edu/api/v0.1/Download/file?uri=mast:HST/product/jec401010_drz.fits to ./mastDownload/HST/jec401010/jec401010_drz.fits ... [Done]\n",
      "Downloading URL https://mast.stsci.edu/api/v0.1/Download/file?uri=mast:HST/product/jec401noq_flt_hlet.fits to ./mastDownload/HST/jec401noq/jec401noq_flt_hlet.fits ... [Done]\n",
      "Downloading URL https://mast.stsci.edu/api/v0.1/Download/file?uri=mast:HST/product/jec401noq_lrc.fits to ./mastDownload/HST/jec401noq/jec401noq_lrc.fits ... [Done]\n",
      "Downloading URL https://mast.stsci.edu/api/v0.1/Download/file?uri=mast:HST/product/jec401noq_lsp.fits to ./mastDownload/HST/jec401noq/jec401noq_lsp.fits ... [Done]\n"
     ]
    },
    {
     "name": "stdout",
     "output_type": "stream",
     "text": [
      "Downloading URL https://mast.stsci.edu/api/v0.1/Download/file?uri=mast:HST/product/jec401noq_spt.fits to ./mastDownload/HST/jec401noq/jec401noq_spt.fits ... [Done]\n",
      "Downloading URL https://mast.stsci.edu/api/v0.1/Download/file?uri=mast:HST/product/jec401noq_trl.fits to ./mastDownload/HST/jec401noq/jec401noq_trl.fits ... [Done]\n",
      "Downloading URL https://mast.stsci.edu/api/v0.1/Download/file?uri=mast:HST/product/jec401noq_log.txt to ./mastDownload/HST/jec401noq/jec401noq_log.txt ... [Done]\n",
      "Downloading URL https://mast.stsci.edu/api/v0.1/Download/file?uri=mast:HST/product/jec401noq_raw.jpg to ./mastDownload/HST/jec401noq/jec401noq_raw.jpg ... [Done]\n",
      "Downloading URL https://mast.stsci.edu/api/v0.1/Download/file?uri=mast:HST/product/jec401noq_flt.jpg to ./mastDownload/HST/jec401noq/jec401noq_flt.jpg ... [Done]\n",
      "Downloading URL https://mast.stsci.edu/api/v0.1/Download/file?uri=mast:HST/product/jec401noq_flt.fits to ./mastDownload/HST/jec401noq/jec401noq_flt.fits ... [Done]\n",
      "Downloading URL https://mast.stsci.edu/api/v0.1/Download/file?uri=mast:HST/product/jec401noq_raw.fits to ./mastDownload/HST/jec401noq/jec401noq_raw.fits ... [Done]\n",
      "Downloading URL https://mast.stsci.edu/api/v0.1/Download/file?uri=mast:HST/product/jec401nrq_flt_hlet.fits to ./mastDownload/HST/jec401nrq/jec401nrq_flt_hlet.fits ... [Done]\n",
      "Downloading URL https://mast.stsci.edu/api/v0.1/Download/file?uri=mast:HST/product/jec401nrq_lrc.fits to ./mastDownload/HST/jec401nrq/jec401nrq_lrc.fits ... [Done]\n",
      "Downloading URL https://mast.stsci.edu/api/v0.1/Download/file?uri=mast:HST/product/jec401nrq_lsp.fits to ./mastDownload/HST/jec401nrq/jec401nrq_lsp.fits ... [Done]\n",
      "Downloading URL https://mast.stsci.edu/api/v0.1/Download/file?uri=mast:HST/product/jec401nrq_spt.fits to ./mastDownload/HST/jec401nrq/jec401nrq_spt.fits ... [Done]\n",
      "Downloading URL https://mast.stsci.edu/api/v0.1/Download/file?uri=mast:HST/product/jec401nrq_trl.fits to ./mastDownload/HST/jec401nrq/jec401nrq_trl.fits ... [Done]\n",
      "Downloading URL https://mast.stsci.edu/api/v0.1/Download/file?uri=mast:HST/product/jec401nrq_log.txt to ./mastDownload/HST/jec401nrq/jec401nrq_log.txt ... [Done]\n",
      "Downloading URL https://mast.stsci.edu/api/v0.1/Download/file?uri=mast:HST/product/jec401nrq_raw.jpg to ./mastDownload/HST/jec401nrq/jec401nrq_raw.jpg ... [Done]\n",
      "Downloading URL https://mast.stsci.edu/api/v0.1/Download/file?uri=mast:HST/product/jec401nrq_flt.jpg to ./mastDownload/HST/jec401nrq/jec401nrq_flt.jpg ... [Done]\n",
      "Downloading URL https://mast.stsci.edu/api/v0.1/Download/file?uri=mast:HST/product/jec401nrq_flt.fits to ./mastDownload/HST/jec401nrq/jec401nrq_flt.fits ... [Done]\n",
      "Downloading URL https://mast.stsci.edu/api/v0.1/Download/file?uri=mast:HST/product/jec401nrq_raw.fits to ./mastDownload/HST/jec401nrq/jec401nrq_raw.fits ... [Done]\n",
      "Downloading URL https://mast.stsci.edu/api/v0.1/Download/file?uri=mast:HST/product/jec401nvq_flt_hlet.fits to ./mastDownload/HST/jec401nvq/jec401nvq_flt_hlet.fits ... [Done]\n",
      "Downloading URL https://mast.stsci.edu/api/v0.1/Download/file?uri=mast:HST/product/jec401nvq_lrc.fits to ./mastDownload/HST/jec401nvq/jec401nvq_lrc.fits ... [Done]\n",
      "Downloading URL https://mast.stsci.edu/api/v0.1/Download/file?uri=mast:HST/product/jec401nvq_lsp.fits to ./mastDownload/HST/jec401nvq/jec401nvq_lsp.fits ... [Done]\n",
      "Downloading URL https://mast.stsci.edu/api/v0.1/Download/file?uri=mast:HST/product/jec401nvq_spt.fits to ./mastDownload/HST/jec401nvq/jec401nvq_spt.fits ... [Done]\n",
      "Downloading URL https://mast.stsci.edu/api/v0.1/Download/file?uri=mast:HST/product/jec401nvq_trl.fits to ./mastDownload/HST/jec401nvq/jec401nvq_trl.fits ... [Done]\n",
      "Downloading URL https://mast.stsci.edu/api/v0.1/Download/file?uri=mast:HST/product/jec401nvq_log.txt to ./mastDownload/HST/jec401nvq/jec401nvq_log.txt ... [Done]\n",
      "Downloading URL https://mast.stsci.edu/api/v0.1/Download/file?uri=mast:HST/product/jec401nvq_raw.jpg to ./mastDownload/HST/jec401nvq/jec401nvq_raw.jpg ... [Done]\n",
      "Downloading URL https://mast.stsci.edu/api/v0.1/Download/file?uri=mast:HST/product/jec401nvq_flt.jpg to ./mastDownload/HST/jec401nvq/jec401nvq_flt.jpg ... [Done]\n",
      "Downloading URL https://mast.stsci.edu/api/v0.1/Download/file?uri=mast:HST/product/jec401nvq_flt.fits to ./mastDownload/HST/jec401nvq/jec401nvq_flt.fits ... [Done]\n",
      "Downloading URL https://mast.stsci.edu/api/v0.1/Download/file?uri=mast:HST/product/jec401nvq_raw.fits to ./mastDownload/HST/jec401nvq/jec401nvq_raw.fits ... [Done]\n",
      "Downloading URL https://mast.stsci.edu/api/v0.1/Download/file?uri=mast:HST/product/jec401nxq_flt_hlet.fits to ./mastDownload/HST/jec401nxq/jec401nxq_flt_hlet.fits ... [Done]\n",
      "Downloading URL https://mast.stsci.edu/api/v0.1/Download/file?uri=mast:HST/product/jec401nxq_lrc.fits to ./mastDownload/HST/jec401nxq/jec401nxq_lrc.fits ... [Done]\n",
      "Downloading URL https://mast.stsci.edu/api/v0.1/Download/file?uri=mast:HST/product/jec401nxq_lsp.fits to ./mastDownload/HST/jec401nxq/jec401nxq_lsp.fits ... [Done]\n",
      "Downloading URL https://mast.stsci.edu/api/v0.1/Download/file?uri=mast:HST/product/jec401nxq_spt.fits to ./mastDownload/HST/jec401nxq/jec401nxq_spt.fits ... [Done]\n",
      "Downloading URL https://mast.stsci.edu/api/v0.1/Download/file?uri=mast:HST/product/jec401nxq_trl.fits to ./mastDownload/HST/jec401nxq/jec401nxq_trl.fits ... [Done]\n",
      "Downloading URL https://mast.stsci.edu/api/v0.1/Download/file?uri=mast:HST/product/jec401nxq_log.txt to ./mastDownload/HST/jec401nxq/jec401nxq_log.txt ... [Done]\n",
      "Downloading URL https://mast.stsci.edu/api/v0.1/Download/file?uri=mast:HST/product/jec401nxq_raw.jpg to ./mastDownload/HST/jec401nxq/jec401nxq_raw.jpg ... [Done]\n",
      "Downloading URL https://mast.stsci.edu/api/v0.1/Download/file?uri=mast:HST/product/jec401nxq_flt.jpg to ./mastDownload/HST/jec401nxq/jec401nxq_flt.jpg ... [Done]\n",
      "Downloading URL https://mast.stsci.edu/api/v0.1/Download/file?uri=mast:HST/product/jec401nxq_flt.fits to ./mastDownload/HST/jec401nxq/jec401nxq_flt.fits ... [Done]\n",
      "Downloading URL https://mast.stsci.edu/api/v0.1/Download/file?uri=mast:HST/product/jec401nxq_raw.fits to ./mastDownload/HST/jec401nxq/jec401nxq_raw.fits ... [Done]\n"
     ]
    },
    {
     "data": {
      "text/html": [
       "<div><i>Table length=74</i>\n",
       "<table id=\"table140380892701328\" class=\"table-striped table-bordered table-condensed\">\n",
       "<thead><tr><th>Local Path</th><th>Status</th><th>Message</th><th>URL</th></tr></thead>\n",
       "<thead><tr><th>str105</th><th>str8</th><th>object</th><th>object</th></tr></thead>\n",
       "<tr><td>./mastDownload/HST/hst_16231_01_acs_sbc_f150lp_jec401/hst_16231_01_acs_sbc_f150lp_jec401_trl.txt</td><td>COMPLETE</td><td>None</td><td>None</td></tr>\n",
       "<tr><td>./mastDownload/HST/hst_16231_01_acs_sbc_f150lp_jec401/hst_16231_01_acs_sbc_f150lp_jec401_drz.jpg</td><td>COMPLETE</td><td>None</td><td>None</td></tr>\n",
       "<tr><td>./mastDownload/HST/hst_16231_01_acs_sbc_f150lp_jec401/hst_16231_01_acs_sbc_f150lp_jec401_drz.fits</td><td>COMPLETE</td><td>None</td><td>None</td></tr>\n",
       "<tr><td>./mastDownload/HST/hst_16231_01_acs_sbc_f150lp_jec401/hst_16231_01_acs_sbc_f150lp_jec401_point-cat.ecsv</td><td>COMPLETE</td><td>None</td><td>None</td></tr>\n",
       "<tr><td>./mastDownload/HST/hst_16231_01_acs_sbc_f150lp_jec401/hst_16231_01_acs_sbc_f150lp_jec401_segment-cat.ecsv</td><td>COMPLETE</td><td>None</td><td>None</td></tr>\n",
       "<tr><td>./mastDownload/HST/hst_16231_01_acs_sbc_f150lp_jec401no/hst_16231_01_acs_sbc_f150lp_jec401no_trl.txt</td><td>COMPLETE</td><td>None</td><td>None</td></tr>\n",
       "<tr><td>...</td><td>...</td><td>...</td><td>...</td></tr>\n",
       "<tr><td>./mastDownload/HST/jec401nxq/jec401nxq_spt.fits</td><td>COMPLETE</td><td>None</td><td>None</td></tr>\n",
       "<tr><td>./mastDownload/HST/jec401nxq/jec401nxq_trl.fits</td><td>COMPLETE</td><td>None</td><td>None</td></tr>\n",
       "<tr><td>./mastDownload/HST/jec401nxq/jec401nxq_log.txt</td><td>COMPLETE</td><td>None</td><td>None</td></tr>\n",
       "<tr><td>./mastDownload/HST/jec401nxq/jec401nxq_raw.jpg</td><td>COMPLETE</td><td>None</td><td>None</td></tr>\n",
       "<tr><td>./mastDownload/HST/jec401nxq/jec401nxq_flt.jpg</td><td>COMPLETE</td><td>None</td><td>None</td></tr>\n",
       "<tr><td>./mastDownload/HST/jec401nxq/jec401nxq_flt.fits</td><td>COMPLETE</td><td>None</td><td>None</td></tr>\n",
       "<tr><td>./mastDownload/HST/jec401nxq/jec401nxq_raw.fits</td><td>COMPLETE</td><td>None</td><td>None</td></tr>\n",
       "</table></div>"
      ],
      "text/plain": [
       "<Table length=74>\n",
       "                                                Local Path                                                ...\n",
       "                                                  str105                                                  ...\n",
       "--------------------------------------------------------------------------------------------------------- ...\n",
       "         ./mastDownload/HST/hst_16231_01_acs_sbc_f150lp_jec401/hst_16231_01_acs_sbc_f150lp_jec401_trl.txt ...\n",
       "         ./mastDownload/HST/hst_16231_01_acs_sbc_f150lp_jec401/hst_16231_01_acs_sbc_f150lp_jec401_drz.jpg ...\n",
       "        ./mastDownload/HST/hst_16231_01_acs_sbc_f150lp_jec401/hst_16231_01_acs_sbc_f150lp_jec401_drz.fits ...\n",
       "  ./mastDownload/HST/hst_16231_01_acs_sbc_f150lp_jec401/hst_16231_01_acs_sbc_f150lp_jec401_point-cat.ecsv ...\n",
       "./mastDownload/HST/hst_16231_01_acs_sbc_f150lp_jec401/hst_16231_01_acs_sbc_f150lp_jec401_segment-cat.ecsv ...\n",
       "     ./mastDownload/HST/hst_16231_01_acs_sbc_f150lp_jec401no/hst_16231_01_acs_sbc_f150lp_jec401no_trl.txt ...\n",
       "                                                                                                      ... ...\n",
       "                                                          ./mastDownload/HST/jec401nxq/jec401nxq_spt.fits ...\n",
       "                                                          ./mastDownload/HST/jec401nxq/jec401nxq_trl.fits ...\n",
       "                                                           ./mastDownload/HST/jec401nxq/jec401nxq_log.txt ...\n",
       "                                                           ./mastDownload/HST/jec401nxq/jec401nxq_raw.jpg ...\n",
       "                                                           ./mastDownload/HST/jec401nxq/jec401nxq_flt.jpg ...\n",
       "                                                          ./mastDownload/HST/jec401nxq/jec401nxq_flt.fits ...\n",
       "                                                          ./mastDownload/HST/jec401nxq/jec401nxq_raw.fits ..."
      ]
     },
     "execution_count": 5,
     "metadata": {},
     "output_type": "execute_result"
    }
   ],
   "source": [
    "#science_list = Observations.query_criteria(proposal_id='16231', filters='F150LP',obs_id='jec401*')\n",
    "#Observations.download_products(science_list['obsid'])"
   ]
  },
  {
   "cell_type": "code",
   "execution_count": 6,
   "id": "b170e4af",
   "metadata": {},
   "outputs": [],
   "source": [
    "no = 'hst_16231_01_acs_sbc_f150lp_jec401no_flt.fits'\n",
    "nr = 'hst_16231_01_acs_sbc_f150lp_jec401nr_flt.fits'\n",
    "nv = 'hst_16231_01_acs_sbc_f150lp_jec401nv_flt.fits'\n",
    "nx = 'hst_16231_01_acs_sbc_f150lp_jec401nx_flt.fits'\n",
    "lst = [no, nr, nv, nx]"
   ]
  },
  {
   "cell_type": "code",
   "execution_count": 9,
   "id": "d64d8103",
   "metadata": {},
   "outputs": [
    {
     "name": "stderr",
     "output_type": "stream",
     "text": [
      "INFO:drizzlepac.util:Setting up logfile :  no_drz.log\n"
     ]
    },
    {
     "name": "stdout",
     "output_type": "stream",
     "text": [
      "Setting up logfile :  no_drz.log\n"
     ]
    },
    {
     "name": "stderr",
     "output_type": "stream",
     "text": [
      "INFO:drizzlepac.astrodrizzle:AstroDrizzle log file: no_drz.log\n"
     ]
    },
    {
     "name": "stdout",
     "output_type": "stream",
     "text": [
      "AstroDrizzle log file: no_drz.log\n"
     ]
    },
    {
     "name": "stderr",
     "output_type": "stream",
     "text": [
      "INFO:drizzlepac.astrodrizzle:AstroDrizzle Version 3.3.1 (2021-11-04 10:24:27 -0400) started at: 15:58:41.034 (06/06/2022)\n"
     ]
    },
    {
     "name": "stdout",
     "output_type": "stream",
     "text": [
      "AstroDrizzle Version 3.3.1 (2021-11-04 10:24:27 -0400) started at: 15:58:41.034 (06/06/2022)\n"
     ]
    },
    {
     "name": "stderr",
     "output_type": "stream",
     "text": [
      "INFO:drizzlepac.astrodrizzle:\n"
     ]
    },
    {
     "name": "stdout",
     "output_type": "stream",
     "text": [
      "\n"
     ]
    },
    {
     "name": "stderr",
     "output_type": "stream",
     "text": [
      "INFO:drizzlepac.astrodrizzle:Version Information\n",
      "INFO:drizzlepac.astrodrizzle:--------------------\n",
      "INFO:drizzlepac.astrodrizzle:Python Version [Clang 12.0.0 ]\n",
      "INFO:drizzlepac.astrodrizzle:3.7.13 (default, Mar 28 2022, 07:24:34) \n",
      "INFO:drizzlepac.astrodrizzle:numpy Version -> 1.21.5 \n",
      "INFO:drizzlepac.astrodrizzle:astropy Version -> 4.3.1 \n",
      "INFO:drizzlepac.astrodrizzle:stwcs Version -> 1.6.1 \n",
      "INFO:drizzlepac.util:==== Processing Step  Initialization  started at  15:58:41.039 (06/06/2022)\n"
     ]
    },
    {
     "name": "stdout",
     "output_type": "stream",
     "text": [
      "==== Processing Step  Initialization  started at  15:58:41.039 (06/06/2022)\n"
     ]
    },
    {
     "name": "stderr",
     "output_type": "stream",
     "text": [
      "INFO:drizzlepac.util:\n"
     ]
    },
    {
     "name": "stdout",
     "output_type": "stream",
     "text": [
      "\n"
     ]
    },
    {
     "name": "stderr",
     "output_type": "stream",
     "text": [
      "INFO:drizzlepac.processInput:Executing serially\n",
      "INFO:drizzlepac.processInput:Setting up output name: no_test4_drz.fits\n",
      "INFO:drizzlepac.processInput:-Creating imageObject List as input for processing steps.\n",
      "INFO:drizzlepac.imageObject:Reading in MDRIZSKY of 0.0\n",
      "INFO:drizzlepac.acsData:WARNING: No cte correction will be made for this SBC data.\n"
     ]
    },
    {
     "name": "stdout",
     "output_type": "stream",
     "text": [
      "WARNING: No cte correction will be made for this SBC data.\n"
     ]
    },
    {
     "name": "stderr",
     "output_type": "stream",
     "text": [
      "INFO:drizzlepac.processInput:-Creating output WCS.\n",
      "INFO:astropy.wcs.wcs:WCS Keywords\n"
     ]
    },
    {
     "name": "stdout",
     "output_type": "stream",
     "text": [
      "WCS Keywords\n"
     ]
    },
    {
     "name": "stderr",
     "output_type": "stream",
     "text": [
      "INFO:astropy.wcs.wcs:\n"
     ]
    },
    {
     "name": "stdout",
     "output_type": "stream",
     "text": [
      "\n"
     ]
    },
    {
     "name": "stderr",
     "output_type": "stream",
     "text": [
      "INFO:astropy.wcs.wcs:Number of WCS axes: 2\n"
     ]
    },
    {
     "name": "stdout",
     "output_type": "stream",
     "text": [
      "Number of WCS axes: 2\n"
     ]
    },
    {
     "name": "stderr",
     "output_type": "stream",
     "text": [
      "INFO:astropy.wcs.wcs:CTYPE : 'RA---TAN'  'DEC--TAN'  \n"
     ]
    },
    {
     "name": "stdout",
     "output_type": "stream",
     "text": [
      "CTYPE : 'RA---TAN'  'DEC--TAN'  \n"
     ]
    },
    {
     "name": "stderr",
     "output_type": "stream",
     "text": [
      "INFO:astropy.wcs.wcs:CRVAL : 319.6011249649806  0.2921030562237356  \n"
     ]
    },
    {
     "name": "stdout",
     "output_type": "stream",
     "text": [
      "CRVAL : 319.6011249649806  0.2921030562237356  \n"
     ]
    },
    {
     "name": "stderr",
     "output_type": "stream",
     "text": [
      "INFO:astropy.wcs.wcs:CRPIX : 974.0  980.5  \n"
     ]
    },
    {
     "name": "stdout",
     "output_type": "stream",
     "text": [
      "CRPIX : 974.0  980.5  \n"
     ]
    },
    {
     "name": "stderr",
     "output_type": "stream",
     "text": [
      "INFO:astropy.wcs.wcs:CD1_1 CD1_2  : -6.944444547924731e-06  0.0  \n"
     ]
    },
    {
     "name": "stdout",
     "output_type": "stream",
     "text": [
      "CD1_1 CD1_2  : -6.944444547924731e-06  0.0  \n"
     ]
    },
    {
     "name": "stderr",
     "output_type": "stream",
     "text": [
      "INFO:astropy.wcs.wcs:CD2_1 CD2_2  : 0.0  6.944444547924731e-06  \n"
     ]
    },
    {
     "name": "stdout",
     "output_type": "stream",
     "text": [
      "CD2_1 CD2_2  : 0.0  6.944444547924731e-06  \n"
     ]
    },
    {
     "name": "stderr",
     "output_type": "stream",
     "text": [
      "INFO:astropy.wcs.wcs:NAXIS : 1947  1960\n"
     ]
    },
    {
     "name": "stdout",
     "output_type": "stream",
     "text": [
      "NAXIS : 1947  1960\n"
     ]
    },
    {
     "name": "stderr",
     "output_type": "stream",
     "text": [
      "INFO:drizzlepac.processInput:********************************************************************************\n"
     ]
    },
    {
     "name": "stdout",
     "output_type": "stream",
     "text": [
      "********************************************************************************\n"
     ]
    },
    {
     "name": "stderr",
     "output_type": "stream",
     "text": [
      "INFO:drizzlepac.processInput:*\n"
     ]
    },
    {
     "name": "stdout",
     "output_type": "stream",
     "text": [
      "*\n"
     ]
    },
    {
     "name": "stderr",
     "output_type": "stream",
     "text": [
      "INFO:drizzlepac.processInput:*  Estimated memory usage:  up to 51 Mb.\n"
     ]
    },
    {
     "name": "stdout",
     "output_type": "stream",
     "text": [
      "*  Estimated memory usage:  up to 51 Mb.\n"
     ]
    },
    {
     "name": "stderr",
     "output_type": "stream",
     "text": [
      "INFO:drizzlepac.processInput:*  Output image size:       1947 X 1960 pixels. \n"
     ]
    },
    {
     "name": "stdout",
     "output_type": "stream",
     "text": [
      "*  Output image size:       1947 X 1960 pixels. \n"
     ]
    },
    {
     "name": "stderr",
     "output_type": "stream",
     "text": [
      "INFO:drizzlepac.processInput:*  Output image file:       ~ 43 Mb. \n"
     ]
    },
    {
     "name": "stdout",
     "output_type": "stream",
     "text": [
      "*  Output image file:       ~ 43 Mb. \n"
     ]
    },
    {
     "name": "stderr",
     "output_type": "stream",
     "text": [
      "INFO:drizzlepac.processInput:*  Cores available:         1\n"
     ]
    },
    {
     "name": "stdout",
     "output_type": "stream",
     "text": [
      "*  Cores available:         1\n"
     ]
    },
    {
     "name": "stderr",
     "output_type": "stream",
     "text": [
      "INFO:drizzlepac.processInput:*\n"
     ]
    },
    {
     "name": "stdout",
     "output_type": "stream",
     "text": [
      "*\n"
     ]
    },
    {
     "name": "stderr",
     "output_type": "stream",
     "text": [
      "INFO:drizzlepac.processInput:********************************************************************************\n"
     ]
    },
    {
     "name": "stdout",
     "output_type": "stream",
     "text": [
      "********************************************************************************\n"
     ]
    },
    {
     "name": "stderr",
     "output_type": "stream",
     "text": [
      "INFO:drizzlepac.util:==== Processing Step Initialization finished at 15:58:41.176 (06/06/2022)\n"
     ]
    },
    {
     "name": "stdout",
     "output_type": "stream",
     "text": [
      "==== Processing Step Initialization finished at 15:58:41.176 (06/06/2022)\n"
     ]
    },
    {
     "name": "stderr",
     "output_type": "stream",
     "text": [
      "INFO:drizzlepac.astrodrizzle:USER INPUT PARAMETERS common to all Processing Steps:\n",
      "INFO:drizzlepac.astrodrizzle:\tbuild :\tTrue\n",
      "INFO:drizzlepac.astrodrizzle:\tcoeffs :\tTrue\n",
      "INFO:drizzlepac.astrodrizzle:\tcontext :\tTrue\n",
      "INFO:drizzlepac.astrodrizzle:\tcrbit :\t4096\n",
      "INFO:drizzlepac.astrodrizzle:\tgroup :\t\n",
      "INFO:drizzlepac.astrodrizzle:\tin_memory :\tTrue\n",
      "INFO:drizzlepac.astrodrizzle:\tinput :\thst_16231_01_acs_sbc_f150lp_jec401no_flt.fits\n",
      "INFO:drizzlepac.astrodrizzle:\tmdriztab :\tFalse\n",
      "INFO:drizzlepac.astrodrizzle:\tnum_cores :\t1\n",
      "INFO:drizzlepac.astrodrizzle:\toutput :\tno_test4\n",
      "INFO:drizzlepac.astrodrizzle:\tproc_unit :\tnative\n",
      "INFO:drizzlepac.astrodrizzle:\tresetbits :\t0\n",
      "INFO:drizzlepac.astrodrizzle:\trules_file :\t\n",
      "INFO:drizzlepac.astrodrizzle:\trunfile :\tno_drz.log\n",
      "INFO:drizzlepac.astrodrizzle:\tstepsize :\t10\n",
      "INFO:drizzlepac.astrodrizzle:\tupdatewcs :\tFalse\n",
      "INFO:drizzlepac.astrodrizzle:\twcskey :\t\n",
      "INFO:drizzlepac.util:==== Processing Step  Static Mask  started at  15:58:41.184 (06/06/2022)\n"
     ]
    },
    {
     "name": "stdout",
     "output_type": "stream",
     "text": [
      "==== Processing Step  Static Mask  started at  15:58:41.184 (06/06/2022)\n"
     ]
    },
    {
     "name": "stderr",
     "output_type": "stream",
     "text": [
      "INFO:drizzlepac.util:\n"
     ]
    },
    {
     "name": "stdout",
     "output_type": "stream",
     "text": [
      "\n"
     ]
    },
    {
     "name": "stderr",
     "output_type": "stream",
     "text": [
      "INFO:drizzlepac.staticMask:Static Mask step not performed.\n",
      "INFO:drizzlepac.util:==== Processing Step Static Mask finished at 15:58:41.18 (06/06/2022)\n"
     ]
    },
    {
     "name": "stdout",
     "output_type": "stream",
     "text": [
      "==== Processing Step Static Mask finished at 15:58:41.18 (06/06/2022)\n"
     ]
    },
    {
     "name": "stderr",
     "output_type": "stream",
     "text": [
      "INFO:drizzlepac.util:==== Processing Step  Subtract Sky  started at  15:58:41.187 (06/06/2022)\n"
     ]
    },
    {
     "name": "stdout",
     "output_type": "stream",
     "text": [
      "==== Processing Step  Subtract Sky  started at  15:58:41.187 (06/06/2022)\n"
     ]
    },
    {
     "name": "stderr",
     "output_type": "stream",
     "text": [
      "INFO:drizzlepac.util:\n"
     ]
    },
    {
     "name": "stdout",
     "output_type": "stream",
     "text": [
      "\n"
     ]
    },
    {
     "name": "stderr",
     "output_type": "stream",
     "text": [
      "INFO:drizzlepac.sky:Sky Subtraction step not performed.\n",
      "INFO:drizzlepac.util:==== Processing Step Subtract Sky finished at 15:58:41.218 (06/06/2022)\n"
     ]
    },
    {
     "name": "stdout",
     "output_type": "stream",
     "text": [
      "==== Processing Step Subtract Sky finished at 15:58:41.218 (06/06/2022)\n"
     ]
    },
    {
     "name": "stderr",
     "output_type": "stream",
     "text": [
      "INFO:drizzlepac.util:==== Processing Step  Separate Drizzle  started at  15:58:41.219 (06/06/2022)\n"
     ]
    },
    {
     "name": "stdout",
     "output_type": "stream",
     "text": [
      "==== Processing Step  Separate Drizzle  started at  15:58:41.219 (06/06/2022)\n"
     ]
    },
    {
     "name": "stderr",
     "output_type": "stream",
     "text": [
      "INFO:drizzlepac.util:\n"
     ]
    },
    {
     "name": "stdout",
     "output_type": "stream",
     "text": [
      "\n"
     ]
    },
    {
     "name": "stderr",
     "output_type": "stream",
     "text": [
      "INFO:drizzlepac.adrizzle:Single drizzle step not performed.\n",
      "INFO:drizzlepac.util:==== Processing Step Separate Drizzle finished at 15:58:41.222 (06/06/2022)\n"
     ]
    },
    {
     "name": "stdout",
     "output_type": "stream",
     "text": [
      "==== Processing Step Separate Drizzle finished at 15:58:41.222 (06/06/2022)\n"
     ]
    },
    {
     "name": "stderr",
     "output_type": "stream",
     "text": [
      "INFO:drizzlepac.util:==== Processing Step  Create Median  started at  15:58:41.223 (06/06/2022)\n"
     ]
    },
    {
     "name": "stdout",
     "output_type": "stream",
     "text": [
      "==== Processing Step  Create Median  started at  15:58:41.223 (06/06/2022)\n"
     ]
    },
    {
     "name": "stderr",
     "output_type": "stream",
     "text": [
      "INFO:drizzlepac.util:\n"
     ]
    },
    {
     "name": "stdout",
     "output_type": "stream",
     "text": [
      "\n"
     ]
    },
    {
     "name": "stderr",
     "output_type": "stream",
     "text": [
      "INFO:drizzlepac.createMedian:Median combination step not performed.\n",
      "INFO:drizzlepac.util:==== Processing Step  Blot  started at  15:58:41.22 (06/06/2022)\n"
     ]
    },
    {
     "name": "stdout",
     "output_type": "stream",
     "text": [
      "==== Processing Step  Blot  started at  15:58:41.22 (06/06/2022)\n"
     ]
    },
    {
     "name": "stderr",
     "output_type": "stream",
     "text": [
      "INFO:drizzlepac.util:\n"
     ]
    },
    {
     "name": "stdout",
     "output_type": "stream",
     "text": [
      "\n"
     ]
    },
    {
     "name": "stderr",
     "output_type": "stream",
     "text": [
      "INFO:drizzlepac.ablot:Blot step not performed.\n",
      "INFO:drizzlepac.util:==== Processing Step Blot finished at 15:58:41.227 (06/06/2022)\n"
     ]
    },
    {
     "name": "stdout",
     "output_type": "stream",
     "text": [
      "==== Processing Step Blot finished at 15:58:41.227 (06/06/2022)\n"
     ]
    },
    {
     "name": "stderr",
     "output_type": "stream",
     "text": [
      "INFO:drizzlepac.util:==== Processing Step  Driz_CR  started at  15:58:41.228 (06/06/2022)\n"
     ]
    },
    {
     "name": "stdout",
     "output_type": "stream",
     "text": [
      "==== Processing Step  Driz_CR  started at  15:58:41.228 (06/06/2022)\n"
     ]
    },
    {
     "name": "stderr",
     "output_type": "stream",
     "text": [
      "INFO:drizzlepac.util:\n"
     ]
    },
    {
     "name": "stdout",
     "output_type": "stream",
     "text": [
      "\n"
     ]
    },
    {
     "name": "stderr",
     "output_type": "stream",
     "text": [
      "INFO:drizzlepac.drizCR:Cosmic-ray identification (driz_cr) step not performed.\n",
      "INFO:drizzlepac.util:==== Processing Step  Final Drizzle  started at  15:58:41.230 (06/06/2022)\n"
     ]
    },
    {
     "name": "stdout",
     "output_type": "stream",
     "text": [
      "==== Processing Step  Final Drizzle  started at  15:58:41.230 (06/06/2022)\n"
     ]
    },
    {
     "name": "stderr",
     "output_type": "stream",
     "text": [
      "INFO:drizzlepac.util:\n"
     ]
    },
    {
     "name": "stdout",
     "output_type": "stream",
     "text": [
      "\n"
     ]
    },
    {
     "name": "stderr",
     "output_type": "stream",
     "text": [
      "INFO:drizzlepac.adrizzle:Interpreted paramDict with single=False as:\n",
      "{'build': True, 'stepsize': 10, 'coeffs': True, 'wcskey': '', 'wht_type': 'EXP', 'kernel': 'square', 'wt_scl': 'exptime', 'pixfrac': 1.0, 'fillval': None, 'maskval': None, 'bits': 65535, 'units': 'cps'}\n",
      "INFO:drizzlepac.adrizzle:USER INPUT PARAMETERS for Final Drizzle Step:\n",
      "INFO:drizzlepac.adrizzle:\tbits :\t65535\n",
      "INFO:drizzlepac.adrizzle:\tbuild :\tTrue\n",
      "INFO:drizzlepac.adrizzle:\tclean :\tTrue\n",
      "INFO:drizzlepac.adrizzle:\tcoeffs :\tTrue\n",
      "INFO:drizzlepac.adrizzle:\tcrbit :\t4096\n",
      "INFO:drizzlepac.adrizzle:\tfillval :\tNone\n",
      "INFO:drizzlepac.adrizzle:\tkernel :\tsquare\n",
      "INFO:drizzlepac.adrizzle:\tlogfile :\tno_drz.log\n",
      "INFO:drizzlepac.adrizzle:\tmaskval :\tNone\n",
      "INFO:drizzlepac.adrizzle:\tpixfrac :\t1.0\n",
      "INFO:drizzlepac.adrizzle:\tproc_unit :\tnative\n",
      "INFO:drizzlepac.adrizzle:\trules_file :\tNone\n",
      "INFO:drizzlepac.adrizzle:\tstepsize :\t10\n",
      "INFO:drizzlepac.adrizzle:\tunits :\tcps\n",
      "INFO:drizzlepac.adrizzle:\twcskey :\t\n",
      "INFO:drizzlepac.adrizzle:\twht_type :\tEXP\n",
      "INFO:drizzlepac.adrizzle:\twt_scl :\texptime\n",
      "INFO:drizzlepac.adrizzle:  **Using sub-sampling value of 10 for kernel square\n",
      "INFO:drizzlepac.adrizzle:Running Drizzle to create output frame with WCS of: \n",
      "INFO:astropy.wcs.wcs:WCS Keywords\n"
     ]
    },
    {
     "name": "stdout",
     "output_type": "stream",
     "text": [
      "WCS Keywords\n"
     ]
    },
    {
     "name": "stderr",
     "output_type": "stream",
     "text": [
      "INFO:astropy.wcs.wcs:\n"
     ]
    },
    {
     "name": "stdout",
     "output_type": "stream",
     "text": [
      "\n"
     ]
    },
    {
     "name": "stderr",
     "output_type": "stream",
     "text": [
      "INFO:astropy.wcs.wcs:Number of WCS axes: 2\n"
     ]
    },
    {
     "name": "stdout",
     "output_type": "stream",
     "text": [
      "Number of WCS axes: 2\n"
     ]
    },
    {
     "name": "stderr",
     "output_type": "stream",
     "text": [
      "INFO:astropy.wcs.wcs:CTYPE : 'RA---TAN'  'DEC--TAN'  \n"
     ]
    },
    {
     "name": "stdout",
     "output_type": "stream",
     "text": [
      "CTYPE : 'RA---TAN'  'DEC--TAN'  \n"
     ]
    },
    {
     "name": "stderr",
     "output_type": "stream",
     "text": [
      "INFO:astropy.wcs.wcs:CRVAL : 319.6011249649806  0.2921030562237356  \n"
     ]
    },
    {
     "name": "stdout",
     "output_type": "stream",
     "text": [
      "CRVAL : 319.6011249649806  0.2921030562237356  \n"
     ]
    },
    {
     "name": "stderr",
     "output_type": "stream",
     "text": [
      "INFO:astropy.wcs.wcs:CRPIX : 974.0  980.5  \n"
     ]
    },
    {
     "name": "stdout",
     "output_type": "stream",
     "text": [
      "CRPIX : 974.0  980.5  \n"
     ]
    },
    {
     "name": "stderr",
     "output_type": "stream",
     "text": [
      "INFO:astropy.wcs.wcs:CD1_1 CD1_2  : -6.944444547924731e-06  0.0  \n"
     ]
    },
    {
     "name": "stdout",
     "output_type": "stream",
     "text": [
      "CD1_1 CD1_2  : -6.944444547924731e-06  0.0  \n"
     ]
    },
    {
     "name": "stderr",
     "output_type": "stream",
     "text": [
      "INFO:astropy.wcs.wcs:CD2_1 CD2_2  : 0.0  6.944444547924731e-06  \n"
     ]
    },
    {
     "name": "stdout",
     "output_type": "stream",
     "text": [
      "CD2_1 CD2_2  : 0.0  6.944444547924731e-06  \n"
     ]
    },
    {
     "name": "stderr",
     "output_type": "stream",
     "text": [
      "INFO:astropy.wcs.wcs:NAXIS : 1947  1960\n"
     ]
    },
    {
     "name": "stdout",
     "output_type": "stream",
     "text": [
      "NAXIS : 1947  1960\n"
     ]
    },
    {
     "name": "stderr",
     "output_type": "stream",
     "text": [
      "INFO:drizzlepac.adrizzle:-Drizzle input: hst_16231_01_acs_sbc_f150lp_jec401no_flt.fits[sci,1]\n",
      "WARNING:drizzlepac.adrizzle:No CR mask file found! Input DQ array not updated.\n",
      "INFO:drizzlepac.imageObject:Applying EXPTIME weighting to DQ mask for chip 1\n",
      "INFO:drizzlepac.adrizzle:Using WCSLIB-based coordinate transformation...\n",
      "INFO:drizzlepac.adrizzle:stepsize = 10\n",
      "INFO:drizzlepac.cdriz:-Drizzling using kernel = square\n",
      "\n",
      "INFO:drizzlepac.outputimage:-Generating multi-extension output file:  no_test4_drz.fits\n"
     ]
    },
    {
     "name": "stdout",
     "output_type": "stream",
     "text": [
      "-Generating multi-extension output file:  no_test4_drz.fits\n"
     ]
    },
    {
     "name": "stderr",
     "output_type": "stream",
     "text": [
      "INFO:stwcs.wcsutil.altwcs:Deleted all instances of WCS with key A in extensions [1]\n"
     ]
    },
    {
     "name": "stdout",
     "output_type": "stream",
     "text": [
      "Deleted all instances of WCS with key A in extensions [1]\n"
     ]
    },
    {
     "name": "stderr",
     "output_type": "stream",
     "text": [
      "INFO:stwcs.wcsutil.altwcs:Deleted all instances of WCS with key B in extensions [1]\n"
     ]
    },
    {
     "name": "stdout",
     "output_type": "stream",
     "text": [
      "Deleted all instances of WCS with key B in extensions [1]\n"
     ]
    },
    {
     "name": "stderr",
     "output_type": "stream",
     "text": [
      "INFO:drizzlepac.outputimage:Writing out to disk: no_test4_drz.fits\n"
     ]
    },
    {
     "name": "stdout",
     "output_type": "stream",
     "text": [
      "Writing out to disk: no_test4_drz.fits\n"
     ]
    },
    {
     "name": "stderr",
     "output_type": "stream",
     "text": [
      "WARNING:py.warnings:/Users/ha/.conda/envs/astroconda/lib/python3.7/site-packages/astropy/io/fits/card.py:1010: VerifyWarning: Card is too long, comment will be truncated.\n",
      "  VerifyWarning)\n",
      "\n",
      "INFO:drizzlepac.util:==== Processing Step Final Drizzle finished at 15:58:42.075 (06/06/2022)\n"
     ]
    },
    {
     "name": "stdout",
     "output_type": "stream",
     "text": [
      "==== Processing Step Final Drizzle finished at 15:58:42.075 (06/06/2022)\n"
     ]
    },
    {
     "name": "stderr",
     "output_type": "stream",
     "text": [
      "INFO:drizzlepac.astrodrizzle:\n"
     ]
    },
    {
     "name": "stdout",
     "output_type": "stream",
     "text": [
      "\n"
     ]
    },
    {
     "name": "stderr",
     "output_type": "stream",
     "text": [
      "INFO:drizzlepac.astrodrizzle:AstroDrizzle Version 3.3.1 is finished processing at 15:58:42.076 (06/06/2022).\n"
     ]
    },
    {
     "name": "stdout",
     "output_type": "stream",
     "text": [
      "AstroDrizzle Version 3.3.1 is finished processing at 15:58:42.076 (06/06/2022).\n"
     ]
    },
    {
     "name": "stderr",
     "output_type": "stream",
     "text": [
      "INFO:drizzlepac.astrodrizzle:\n"
     ]
    },
    {
     "name": "stdout",
     "output_type": "stream",
     "text": [
      "\n"
     ]
    },
    {
     "name": "stderr",
     "output_type": "stream",
     "text": [
      "INFO:drizzlepac.astrodrizzle:\n"
     ]
    },
    {
     "name": "stdout",
     "output_type": "stream",
     "text": [
      "\n"
     ]
    },
    {
     "name": "stderr",
     "output_type": "stream",
     "text": [
      "INFO:drizzlepac.util:\n"
     ]
    },
    {
     "name": "stdout",
     "output_type": "stream",
     "text": [
      "\n"
     ]
    },
    {
     "name": "stderr",
     "output_type": "stream",
     "text": [
      "INFO:drizzlepac.util:   --------------------          --------------------\n"
     ]
    },
    {
     "name": "stdout",
     "output_type": "stream",
     "text": [
      "   --------------------          --------------------\n"
     ]
    },
    {
     "name": "stderr",
     "output_type": "stream",
     "text": [
      "INFO:drizzlepac.util:                   Step          Elapsed time\n"
     ]
    },
    {
     "name": "stdout",
     "output_type": "stream",
     "text": [
      "                   Step          Elapsed time\n"
     ]
    },
    {
     "name": "stderr",
     "output_type": "stream",
     "text": [
      "INFO:drizzlepac.util:   --------------------          --------------------\n"
     ]
    },
    {
     "name": "stdout",
     "output_type": "stream",
     "text": [
      "   --------------------          --------------------\n"
     ]
    },
    {
     "name": "stderr",
     "output_type": "stream",
     "text": [
      "INFO:drizzlepac.util:\n"
     ]
    },
    {
     "name": "stdout",
     "output_type": "stream",
     "text": [
      "\n"
     ]
    },
    {
     "name": "stderr",
     "output_type": "stream",
     "text": [
      "INFO:drizzlepac.util:         Initialization          0.1376 sec.\n"
     ]
    },
    {
     "name": "stdout",
     "output_type": "stream",
     "text": [
      "         Initialization          0.1376 sec.\n"
     ]
    },
    {
     "name": "stderr",
     "output_type": "stream",
     "text": [
      "INFO:drizzlepac.util:            Static Mask          0.0021 sec.\n"
     ]
    },
    {
     "name": "stdout",
     "output_type": "stream",
     "text": [
      "            Static Mask          0.0021 sec.\n"
     ]
    },
    {
     "name": "stderr",
     "output_type": "stream",
     "text": [
      "INFO:drizzlepac.util:           Subtract Sky          0.0314 sec.\n"
     ]
    },
    {
     "name": "stdout",
     "output_type": "stream",
     "text": [
      "           Subtract Sky          0.0314 sec.\n"
     ]
    },
    {
     "name": "stderr",
     "output_type": "stream",
     "text": [
      "INFO:drizzlepac.util:       Separate Drizzle          0.0027 sec.\n"
     ]
    },
    {
     "name": "stdout",
     "output_type": "stream",
     "text": [
      "       Separate Drizzle          0.0027 sec.\n"
     ]
    },
    {
     "name": "stderr",
     "output_type": "stream",
     "text": [
      "INFO:drizzlepac.util:          Create Median          0.0000 sec.\n"
     ]
    },
    {
     "name": "stdout",
     "output_type": "stream",
     "text": [
      "          Create Median          0.0000 sec.\n"
     ]
    },
    {
     "name": "stderr",
     "output_type": "stream",
     "text": [
      "INFO:drizzlepac.util:                   Blot          0.0018 sec.\n"
     ]
    },
    {
     "name": "stdout",
     "output_type": "stream",
     "text": [
      "                   Blot          0.0018 sec.\n"
     ]
    },
    {
     "name": "stderr",
     "output_type": "stream",
     "text": [
      "INFO:drizzlepac.util:                Driz_CR          0.0000 sec.\n"
     ]
    },
    {
     "name": "stdout",
     "output_type": "stream",
     "text": [
      "                Driz_CR          0.0000 sec.\n"
     ]
    },
    {
     "name": "stderr",
     "output_type": "stream",
     "text": [
      "INFO:drizzlepac.util:          Final Drizzle          0.8449 sec.\n"
     ]
    },
    {
     "name": "stdout",
     "output_type": "stream",
     "text": [
      "          Final Drizzle          0.8449 sec.\n"
     ]
    },
    {
     "name": "stderr",
     "output_type": "stream",
     "text": [
      "INFO:drizzlepac.util:   ====================          ====================\n"
     ]
    },
    {
     "name": "stdout",
     "output_type": "stream",
     "text": [
      "   ====================          ====================\n"
     ]
    },
    {
     "name": "stderr",
     "output_type": "stream",
     "text": [
      "INFO:drizzlepac.util:                  Total          1.0205 sec.\n"
     ]
    },
    {
     "name": "stdout",
     "output_type": "stream",
     "text": [
      "                  Total          1.0205 sec.\n"
     ]
    },
    {
     "name": "stderr",
     "output_type": "stream",
     "text": [
      "INFO:drizzlepac.util:\n"
     ]
    },
    {
     "name": "stdout",
     "output_type": "stream",
     "text": [
      "\n"
     ]
    },
    {
     "name": "stderr",
     "output_type": "stream",
     "text": [
      "INFO:drizzlepac.imageObject:Removing intermediate files for hst_16231_01_acs_sbc_f150lp_jec401no_flt.fits\n",
      "INFO:drizzlepac.util:Trailer file written to:  no_drz.log\n"
     ]
    },
    {
     "name": "stdout",
     "output_type": "stream",
     "text": [
      "Trailer file written to:  no_drz.log\n"
     ]
    },
    {
     "name": "stderr",
     "output_type": "stream",
     "text": [
      "INFO:drizzlepac.util:Setting up logfile :  nr_drz.log\n"
     ]
    },
    {
     "name": "stdout",
     "output_type": "stream",
     "text": [
      "Setting up logfile :  nr_drz.log\n"
     ]
    },
    {
     "name": "stderr",
     "output_type": "stream",
     "text": [
      "INFO:drizzlepac.astrodrizzle:AstroDrizzle log file: nr_drz.log\n"
     ]
    },
    {
     "name": "stdout",
     "output_type": "stream",
     "text": [
      "AstroDrizzle log file: nr_drz.log\n"
     ]
    },
    {
     "name": "stderr",
     "output_type": "stream",
     "text": [
      "INFO:drizzlepac.astrodrizzle:AstroDrizzle Version 3.3.1 (2021-11-04 10:24:27 -0400) started at: 15:58:42.112 (06/06/2022)\n"
     ]
    },
    {
     "name": "stdout",
     "output_type": "stream",
     "text": [
      "AstroDrizzle Version 3.3.1 (2021-11-04 10:24:27 -0400) started at: 15:58:42.112 (06/06/2022)\n"
     ]
    },
    {
     "name": "stderr",
     "output_type": "stream",
     "text": [
      "INFO:drizzlepac.astrodrizzle:\n"
     ]
    },
    {
     "name": "stdout",
     "output_type": "stream",
     "text": [
      "\n"
     ]
    },
    {
     "name": "stderr",
     "output_type": "stream",
     "text": [
      "INFO:drizzlepac.astrodrizzle:Version Information\n",
      "INFO:drizzlepac.astrodrizzle:--------------------\n",
      "INFO:drizzlepac.astrodrizzle:Python Version [Clang 12.0.0 ]\n",
      "INFO:drizzlepac.astrodrizzle:3.7.13 (default, Mar 28 2022, 07:24:34) \n",
      "INFO:drizzlepac.astrodrizzle:numpy Version -> 1.21.5 \n",
      "INFO:drizzlepac.astrodrizzle:astropy Version -> 4.3.1 \n",
      "INFO:drizzlepac.astrodrizzle:stwcs Version -> 1.6.1 \n",
      "INFO:drizzlepac.util:==== Processing Step  Initialization  started at  15:58:42.118 (06/06/2022)\n"
     ]
    },
    {
     "name": "stdout",
     "output_type": "stream",
     "text": [
      "==== Processing Step  Initialization  started at  15:58:42.118 (06/06/2022)\n"
     ]
    },
    {
     "name": "stderr",
     "output_type": "stream",
     "text": [
      "INFO:drizzlepac.util:\n"
     ]
    },
    {
     "name": "stdout",
     "output_type": "stream",
     "text": [
      "\n"
     ]
    },
    {
     "name": "stderr",
     "output_type": "stream",
     "text": [
      "INFO:drizzlepac.processInput:Executing serially\n",
      "INFO:drizzlepac.processInput:Setting up output name: nr_test4_drz.fits\n",
      "INFO:drizzlepac.processInput:-Creating imageObject List as input for processing steps.\n",
      "INFO:drizzlepac.imageObject:Reading in MDRIZSKY of 0.0\n",
      "INFO:drizzlepac.acsData:WARNING: No cte correction will be made for this SBC data.\n"
     ]
    },
    {
     "name": "stdout",
     "output_type": "stream",
     "text": [
      "WARNING: No cte correction will be made for this SBC data.\n"
     ]
    },
    {
     "name": "stderr",
     "output_type": "stream",
     "text": [
      "INFO:drizzlepac.processInput:-Creating output WCS.\n",
      "INFO:astropy.wcs.wcs:WCS Keywords\n"
     ]
    },
    {
     "name": "stdout",
     "output_type": "stream",
     "text": [
      "WCS Keywords\n"
     ]
    },
    {
     "name": "stderr",
     "output_type": "stream",
     "text": [
      "INFO:astropy.wcs.wcs:\n"
     ]
    },
    {
     "name": "stdout",
     "output_type": "stream",
     "text": [
      "\n"
     ]
    },
    {
     "name": "stderr",
     "output_type": "stream",
     "text": [
      "INFO:astropy.wcs.wcs:Number of WCS axes: 2\n"
     ]
    },
    {
     "name": "stdout",
     "output_type": "stream",
     "text": [
      "Number of WCS axes: 2\n"
     ]
    },
    {
     "name": "stderr",
     "output_type": "stream",
     "text": [
      "INFO:astropy.wcs.wcs:CTYPE : 'RA---TAN'  'DEC--TAN'  \n"
     ]
    },
    {
     "name": "stdout",
     "output_type": "stream",
     "text": [
      "CTYPE : 'RA---TAN'  'DEC--TAN'  \n"
     ]
    },
    {
     "name": "stderr",
     "output_type": "stream",
     "text": [
      "INFO:astropy.wcs.wcs:CRVAL : 319.60118046828006  0.29186086634288066  \n"
     ]
    },
    {
     "name": "stdout",
     "output_type": "stream",
     "text": [
      "CRVAL : 319.60118046828006  0.29186086634288066  \n"
     ]
    },
    {
     "name": "stderr",
     "output_type": "stream",
     "text": [
      "INFO:astropy.wcs.wcs:CRPIX : 974.0  980.5  \n"
     ]
    },
    {
     "name": "stdout",
     "output_type": "stream",
     "text": [
      "CRPIX : 974.0  980.5  \n"
     ]
    },
    {
     "name": "stderr",
     "output_type": "stream",
     "text": [
      "INFO:astropy.wcs.wcs:CD1_1 CD1_2  : -6.94444454792473e-06  0.0  \n"
     ]
    },
    {
     "name": "stdout",
     "output_type": "stream",
     "text": [
      "CD1_1 CD1_2  : -6.94444454792473e-06  0.0  \n"
     ]
    },
    {
     "name": "stderr",
     "output_type": "stream",
     "text": [
      "INFO:astropy.wcs.wcs:CD2_1 CD2_2  : 0.0  6.94444454792473e-06  \n"
     ]
    },
    {
     "name": "stdout",
     "output_type": "stream",
     "text": [
      "CD2_1 CD2_2  : 0.0  6.94444454792473e-06  \n"
     ]
    },
    {
     "name": "stderr",
     "output_type": "stream",
     "text": [
      "INFO:astropy.wcs.wcs:NAXIS : 1947  1960\n"
     ]
    },
    {
     "name": "stdout",
     "output_type": "stream",
     "text": [
      "NAXIS : 1947  1960\n"
     ]
    },
    {
     "name": "stderr",
     "output_type": "stream",
     "text": [
      "INFO:drizzlepac.processInput:********************************************************************************\n"
     ]
    },
    {
     "name": "stdout",
     "output_type": "stream",
     "text": [
      "********************************************************************************\n"
     ]
    },
    {
     "name": "stderr",
     "output_type": "stream",
     "text": [
      "INFO:drizzlepac.processInput:*\n"
     ]
    },
    {
     "name": "stdout",
     "output_type": "stream",
     "text": [
      "*\n"
     ]
    },
    {
     "name": "stderr",
     "output_type": "stream",
     "text": [
      "INFO:drizzlepac.processInput:*  Estimated memory usage:  up to 51 Mb.\n"
     ]
    },
    {
     "name": "stdout",
     "output_type": "stream",
     "text": [
      "*  Estimated memory usage:  up to 51 Mb.\n"
     ]
    },
    {
     "name": "stderr",
     "output_type": "stream",
     "text": [
      "INFO:drizzlepac.processInput:*  Output image size:       1947 X 1960 pixels. \n"
     ]
    },
    {
     "name": "stdout",
     "output_type": "stream",
     "text": [
      "*  Output image size:       1947 X 1960 pixels. \n"
     ]
    },
    {
     "name": "stderr",
     "output_type": "stream",
     "text": [
      "INFO:drizzlepac.processInput:*  Output image file:       ~ 43 Mb. \n"
     ]
    },
    {
     "name": "stdout",
     "output_type": "stream",
     "text": [
      "*  Output image file:       ~ 43 Mb. \n"
     ]
    },
    {
     "name": "stderr",
     "output_type": "stream",
     "text": [
      "INFO:drizzlepac.processInput:*  Cores available:         1\n"
     ]
    },
    {
     "name": "stdout",
     "output_type": "stream",
     "text": [
      "*  Cores available:         1\n"
     ]
    },
    {
     "name": "stderr",
     "output_type": "stream",
     "text": [
      "INFO:drizzlepac.processInput:*\n"
     ]
    },
    {
     "name": "stdout",
     "output_type": "stream",
     "text": [
      "*\n"
     ]
    },
    {
     "name": "stderr",
     "output_type": "stream",
     "text": [
      "INFO:drizzlepac.processInput:********************************************************************************\n"
     ]
    },
    {
     "name": "stdout",
     "output_type": "stream",
     "text": [
      "********************************************************************************\n"
     ]
    },
    {
     "name": "stderr",
     "output_type": "stream",
     "text": [
      "INFO:drizzlepac.util:==== Processing Step Initialization finished at 15:58:42.249 (06/06/2022)\n"
     ]
    },
    {
     "name": "stdout",
     "output_type": "stream",
     "text": [
      "==== Processing Step Initialization finished at 15:58:42.249 (06/06/2022)\n"
     ]
    },
    {
     "name": "stderr",
     "output_type": "stream",
     "text": [
      "INFO:drizzlepac.astrodrizzle:USER INPUT PARAMETERS common to all Processing Steps:\n",
      "INFO:drizzlepac.astrodrizzle:\tbuild :\tTrue\n",
      "INFO:drizzlepac.astrodrizzle:\tcoeffs :\tTrue\n",
      "INFO:drizzlepac.astrodrizzle:\tcontext :\tTrue\n",
      "INFO:drizzlepac.astrodrizzle:\tcrbit :\t4096\n",
      "INFO:drizzlepac.astrodrizzle:\tgroup :\t\n",
      "INFO:drizzlepac.astrodrizzle:\tin_memory :\tTrue\n",
      "INFO:drizzlepac.astrodrizzle:\tinput :\thst_16231_01_acs_sbc_f150lp_jec401nr_flt.fits\n",
      "INFO:drizzlepac.astrodrizzle:\tmdriztab :\tFalse\n",
      "INFO:drizzlepac.astrodrizzle:\tnum_cores :\t1\n",
      "INFO:drizzlepac.astrodrizzle:\toutput :\tnr_test4\n",
      "INFO:drizzlepac.astrodrizzle:\tproc_unit :\tnative\n",
      "INFO:drizzlepac.astrodrizzle:\tresetbits :\t0\n",
      "INFO:drizzlepac.astrodrizzle:\trules_file :\t\n",
      "INFO:drizzlepac.astrodrizzle:\trunfile :\tnr_drz.log\n",
      "INFO:drizzlepac.astrodrizzle:\tstepsize :\t10\n",
      "INFO:drizzlepac.astrodrizzle:\tupdatewcs :\tFalse\n",
      "INFO:drizzlepac.astrodrizzle:\twcskey :\t\n",
      "INFO:drizzlepac.util:==== Processing Step  Static Mask  started at  15:58:42.256 (06/06/2022)\n"
     ]
    },
    {
     "name": "stdout",
     "output_type": "stream",
     "text": [
      "==== Processing Step  Static Mask  started at  15:58:42.256 (06/06/2022)\n"
     ]
    },
    {
     "name": "stderr",
     "output_type": "stream",
     "text": [
      "INFO:drizzlepac.util:\n"
     ]
    },
    {
     "name": "stdout",
     "output_type": "stream",
     "text": [
      "\n"
     ]
    },
    {
     "name": "stderr",
     "output_type": "stream",
     "text": [
      "INFO:drizzlepac.staticMask:Static Mask step not performed.\n",
      "INFO:drizzlepac.util:==== Processing Step Static Mask finished at 15:58:42.259 (06/06/2022)\n"
     ]
    },
    {
     "name": "stdout",
     "output_type": "stream",
     "text": [
      "==== Processing Step Static Mask finished at 15:58:42.259 (06/06/2022)\n"
     ]
    },
    {
     "name": "stderr",
     "output_type": "stream",
     "text": [
      "INFO:drizzlepac.util:==== Processing Step  Subtract Sky  started at  15:58:42.260 (06/06/2022)\n"
     ]
    },
    {
     "name": "stdout",
     "output_type": "stream",
     "text": [
      "==== Processing Step  Subtract Sky  started at  15:58:42.260 (06/06/2022)\n"
     ]
    },
    {
     "name": "stderr",
     "output_type": "stream",
     "text": [
      "INFO:drizzlepac.util:\n"
     ]
    },
    {
     "name": "stdout",
     "output_type": "stream",
     "text": [
      "\n"
     ]
    },
    {
     "name": "stderr",
     "output_type": "stream",
     "text": [
      "INFO:drizzlepac.sky:Sky Subtraction step not performed.\n",
      "INFO:drizzlepac.util:==== Processing Step Subtract Sky finished at 15:58:42.290 (06/06/2022)\n"
     ]
    },
    {
     "name": "stdout",
     "output_type": "stream",
     "text": [
      "==== Processing Step Subtract Sky finished at 15:58:42.290 (06/06/2022)\n"
     ]
    },
    {
     "name": "stderr",
     "output_type": "stream",
     "text": [
      "INFO:drizzlepac.util:==== Processing Step  Separate Drizzle  started at  15:58:42.29 (06/06/2022)\n"
     ]
    },
    {
     "name": "stdout",
     "output_type": "stream",
     "text": [
      "==== Processing Step  Separate Drizzle  started at  15:58:42.29 (06/06/2022)\n"
     ]
    },
    {
     "name": "stderr",
     "output_type": "stream",
     "text": [
      "INFO:drizzlepac.util:\n"
     ]
    },
    {
     "name": "stdout",
     "output_type": "stream",
     "text": [
      "\n"
     ]
    },
    {
     "name": "stderr",
     "output_type": "stream",
     "text": [
      "INFO:drizzlepac.adrizzle:Single drizzle step not performed.\n",
      "INFO:drizzlepac.util:==== Processing Step Separate Drizzle finished at 15:58:42.293 (06/06/2022)\n"
     ]
    },
    {
     "name": "stdout",
     "output_type": "stream",
     "text": [
      "==== Processing Step Separate Drizzle finished at 15:58:42.293 (06/06/2022)\n"
     ]
    },
    {
     "name": "stderr",
     "output_type": "stream",
     "text": [
      "INFO:drizzlepac.util:==== Processing Step  Create Median  started at  15:58:42.294 (06/06/2022)\n"
     ]
    },
    {
     "name": "stdout",
     "output_type": "stream",
     "text": [
      "==== Processing Step  Create Median  started at  15:58:42.294 (06/06/2022)\n"
     ]
    },
    {
     "name": "stderr",
     "output_type": "stream",
     "text": [
      "INFO:drizzlepac.util:\n"
     ]
    },
    {
     "name": "stdout",
     "output_type": "stream",
     "text": [
      "\n"
     ]
    },
    {
     "name": "stderr",
     "output_type": "stream",
     "text": [
      "INFO:drizzlepac.createMedian:Median combination step not performed.\n",
      "INFO:drizzlepac.util:==== Processing Step  Blot  started at  15:58:42.296 (06/06/2022)\n"
     ]
    },
    {
     "name": "stdout",
     "output_type": "stream",
     "text": [
      "==== Processing Step  Blot  started at  15:58:42.296 (06/06/2022)\n"
     ]
    },
    {
     "name": "stderr",
     "output_type": "stream",
     "text": [
      "INFO:drizzlepac.util:\n"
     ]
    },
    {
     "name": "stdout",
     "output_type": "stream",
     "text": [
      "\n"
     ]
    },
    {
     "name": "stderr",
     "output_type": "stream",
     "text": [
      "INFO:drizzlepac.ablot:Blot step not performed.\n",
      "INFO:drizzlepac.util:==== Processing Step Blot finished at 15:58:42.29 (06/06/2022)\n"
     ]
    },
    {
     "name": "stdout",
     "output_type": "stream",
     "text": [
      "==== Processing Step Blot finished at 15:58:42.29 (06/06/2022)\n"
     ]
    },
    {
     "name": "stderr",
     "output_type": "stream",
     "text": [
      "INFO:drizzlepac.util:==== Processing Step  Driz_CR  started at  15:58:42.300 (06/06/2022)\n"
     ]
    },
    {
     "name": "stdout",
     "output_type": "stream",
     "text": [
      "==== Processing Step  Driz_CR  started at  15:58:42.300 (06/06/2022)\n"
     ]
    },
    {
     "name": "stderr",
     "output_type": "stream",
     "text": [
      "INFO:drizzlepac.util:\n"
     ]
    },
    {
     "name": "stdout",
     "output_type": "stream",
     "text": [
      "\n"
     ]
    },
    {
     "name": "stderr",
     "output_type": "stream",
     "text": [
      "INFO:drizzlepac.drizCR:Cosmic-ray identification (driz_cr) step not performed.\n",
      "INFO:drizzlepac.util:==== Processing Step  Final Drizzle  started at  15:58:42.302 (06/06/2022)\n"
     ]
    },
    {
     "name": "stdout",
     "output_type": "stream",
     "text": [
      "==== Processing Step  Final Drizzle  started at  15:58:42.302 (06/06/2022)\n"
     ]
    },
    {
     "name": "stderr",
     "output_type": "stream",
     "text": [
      "INFO:drizzlepac.util:\n"
     ]
    },
    {
     "name": "stdout",
     "output_type": "stream",
     "text": [
      "\n"
     ]
    },
    {
     "name": "stderr",
     "output_type": "stream",
     "text": [
      "INFO:drizzlepac.adrizzle:Interpreted paramDict with single=False as:\n",
      "{'build': True, 'stepsize': 10, 'coeffs': True, 'wcskey': '', 'wht_type': 'EXP', 'kernel': 'square', 'wt_scl': 'exptime', 'pixfrac': 1.0, 'fillval': None, 'maskval': None, 'bits': 65535, 'units': 'cps'}\n",
      "INFO:drizzlepac.adrizzle:USER INPUT PARAMETERS for Final Drizzle Step:\n",
      "INFO:drizzlepac.adrizzle:\tbits :\t65535\n",
      "INFO:drizzlepac.adrizzle:\tbuild :\tTrue\n",
      "INFO:drizzlepac.adrizzle:\tclean :\tTrue\n",
      "INFO:drizzlepac.adrizzle:\tcoeffs :\tTrue\n",
      "INFO:drizzlepac.adrizzle:\tcrbit :\t4096\n",
      "INFO:drizzlepac.adrizzle:\tfillval :\tNone\n",
      "INFO:drizzlepac.adrizzle:\tkernel :\tsquare\n",
      "INFO:drizzlepac.adrizzle:\tlogfile :\tnr_drz.log\n",
      "INFO:drizzlepac.adrizzle:\tmaskval :\tNone\n",
      "INFO:drizzlepac.adrizzle:\tpixfrac :\t1.0\n",
      "INFO:drizzlepac.adrizzle:\tproc_unit :\tnative\n",
      "INFO:drizzlepac.adrizzle:\trules_file :\tNone\n",
      "INFO:drizzlepac.adrizzle:\tstepsize :\t10\n",
      "INFO:drizzlepac.adrizzle:\tunits :\tcps\n",
      "INFO:drizzlepac.adrizzle:\twcskey :\t\n",
      "INFO:drizzlepac.adrizzle:\twht_type :\tEXP\n",
      "INFO:drizzlepac.adrizzle:\twt_scl :\texptime\n",
      "INFO:drizzlepac.adrizzle:  **Using sub-sampling value of 10 for kernel square\n",
      "INFO:drizzlepac.adrizzle:Running Drizzle to create output frame with WCS of: \n",
      "INFO:astropy.wcs.wcs:WCS Keywords\n"
     ]
    },
    {
     "name": "stdout",
     "output_type": "stream",
     "text": [
      "WCS Keywords\n"
     ]
    },
    {
     "name": "stderr",
     "output_type": "stream",
     "text": [
      "INFO:astropy.wcs.wcs:\n"
     ]
    },
    {
     "name": "stdout",
     "output_type": "stream",
     "text": [
      "\n"
     ]
    },
    {
     "name": "stderr",
     "output_type": "stream",
     "text": [
      "INFO:astropy.wcs.wcs:Number of WCS axes: 2\n"
     ]
    },
    {
     "name": "stdout",
     "output_type": "stream",
     "text": [
      "Number of WCS axes: 2\n"
     ]
    },
    {
     "name": "stderr",
     "output_type": "stream",
     "text": [
      "INFO:astropy.wcs.wcs:CTYPE : 'RA---TAN'  'DEC--TAN'  \n"
     ]
    },
    {
     "name": "stdout",
     "output_type": "stream",
     "text": [
      "CTYPE : 'RA---TAN'  'DEC--TAN'  \n"
     ]
    },
    {
     "name": "stderr",
     "output_type": "stream",
     "text": [
      "INFO:astropy.wcs.wcs:CRVAL : 319.60118046828006  0.29186086634288066  \n"
     ]
    },
    {
     "name": "stdout",
     "output_type": "stream",
     "text": [
      "CRVAL : 319.60118046828006  0.29186086634288066  \n"
     ]
    },
    {
     "name": "stderr",
     "output_type": "stream",
     "text": [
      "INFO:astropy.wcs.wcs:CRPIX : 974.0  980.5  \n"
     ]
    },
    {
     "name": "stdout",
     "output_type": "stream",
     "text": [
      "CRPIX : 974.0  980.5  \n"
     ]
    },
    {
     "name": "stderr",
     "output_type": "stream",
     "text": [
      "INFO:astropy.wcs.wcs:CD1_1 CD1_2  : -6.94444454792473e-06  0.0  \n"
     ]
    },
    {
     "name": "stdout",
     "output_type": "stream",
     "text": [
      "CD1_1 CD1_2  : -6.94444454792473e-06  0.0  \n"
     ]
    },
    {
     "name": "stderr",
     "output_type": "stream",
     "text": [
      "INFO:astropy.wcs.wcs:CD2_1 CD2_2  : 0.0  6.94444454792473e-06  \n"
     ]
    },
    {
     "name": "stdout",
     "output_type": "stream",
     "text": [
      "CD2_1 CD2_2  : 0.0  6.94444454792473e-06  \n"
     ]
    },
    {
     "name": "stderr",
     "output_type": "stream",
     "text": [
      "INFO:astropy.wcs.wcs:NAXIS : 1947  1960\n"
     ]
    },
    {
     "name": "stdout",
     "output_type": "stream",
     "text": [
      "NAXIS : 1947  1960\n"
     ]
    },
    {
     "name": "stderr",
     "output_type": "stream",
     "text": [
      "INFO:drizzlepac.adrizzle:-Drizzle input: hst_16231_01_acs_sbc_f150lp_jec401nr_flt.fits[sci,1]\n",
      "WARNING:drizzlepac.adrizzle:No CR mask file found! Input DQ array not updated.\n",
      "INFO:drizzlepac.imageObject:Applying EXPTIME weighting to DQ mask for chip 1\n",
      "INFO:drizzlepac.adrizzle:Using WCSLIB-based coordinate transformation...\n",
      "INFO:drizzlepac.adrizzle:stepsize = 10\n",
      "INFO:drizzlepac.cdriz:-Drizzling using kernel = square\n",
      "\n",
      "INFO:drizzlepac.outputimage:-Generating multi-extension output file:  nr_test4_drz.fits\n"
     ]
    },
    {
     "name": "stdout",
     "output_type": "stream",
     "text": [
      "-Generating multi-extension output file:  nr_test4_drz.fits\n"
     ]
    },
    {
     "name": "stderr",
     "output_type": "stream",
     "text": [
      "INFO:stwcs.wcsutil.altwcs:Deleted all instances of WCS with key A in extensions [1]\n"
     ]
    },
    {
     "name": "stdout",
     "output_type": "stream",
     "text": [
      "Deleted all instances of WCS with key A in extensions [1]\n"
     ]
    },
    {
     "name": "stderr",
     "output_type": "stream",
     "text": [
      "INFO:stwcs.wcsutil.altwcs:Deleted all instances of WCS with key B in extensions [1]\n"
     ]
    },
    {
     "name": "stdout",
     "output_type": "stream",
     "text": [
      "Deleted all instances of WCS with key B in extensions [1]\n"
     ]
    },
    {
     "name": "stderr",
     "output_type": "stream",
     "text": [
      "INFO:drizzlepac.outputimage:Writing out to disk: nr_test4_drz.fits\n"
     ]
    },
    {
     "name": "stdout",
     "output_type": "stream",
     "text": [
      "Writing out to disk: nr_test4_drz.fits\n"
     ]
    },
    {
     "name": "stderr",
     "output_type": "stream",
     "text": [
      "WARNING:py.warnings:/Users/ha/.conda/envs/astroconda/lib/python3.7/site-packages/astropy/io/fits/card.py:1010: VerifyWarning: Card is too long, comment will be truncated.\n",
      "  VerifyWarning)\n",
      "\n",
      "INFO:drizzlepac.util:==== Processing Step Final Drizzle finished at 15:58:43.216 (06/06/2022)\n"
     ]
    },
    {
     "name": "stdout",
     "output_type": "stream",
     "text": [
      "==== Processing Step Final Drizzle finished at 15:58:43.216 (06/06/2022)\n"
     ]
    },
    {
     "name": "stderr",
     "output_type": "stream",
     "text": [
      "INFO:drizzlepac.astrodrizzle:\n"
     ]
    },
    {
     "name": "stdout",
     "output_type": "stream",
     "text": [
      "\n"
     ]
    },
    {
     "name": "stderr",
     "output_type": "stream",
     "text": [
      "INFO:drizzlepac.astrodrizzle:AstroDrizzle Version 3.3.1 is finished processing at 15:58:43.217 (06/06/2022).\n"
     ]
    },
    {
     "name": "stdout",
     "output_type": "stream",
     "text": [
      "AstroDrizzle Version 3.3.1 is finished processing at 15:58:43.217 (06/06/2022).\n"
     ]
    },
    {
     "name": "stderr",
     "output_type": "stream",
     "text": [
      "INFO:drizzlepac.astrodrizzle:\n"
     ]
    },
    {
     "name": "stdout",
     "output_type": "stream",
     "text": [
      "\n"
     ]
    },
    {
     "name": "stderr",
     "output_type": "stream",
     "text": [
      "INFO:drizzlepac.astrodrizzle:\n"
     ]
    },
    {
     "name": "stdout",
     "output_type": "stream",
     "text": [
      "\n"
     ]
    },
    {
     "name": "stderr",
     "output_type": "stream",
     "text": [
      "INFO:drizzlepac.util:\n"
     ]
    },
    {
     "name": "stdout",
     "output_type": "stream",
     "text": [
      "\n"
     ]
    },
    {
     "name": "stderr",
     "output_type": "stream",
     "text": [
      "INFO:drizzlepac.util:   --------------------          --------------------\n"
     ]
    },
    {
     "name": "stdout",
     "output_type": "stream",
     "text": [
      "   --------------------          --------------------\n"
     ]
    },
    {
     "name": "stderr",
     "output_type": "stream",
     "text": [
      "INFO:drizzlepac.util:                   Step          Elapsed time\n"
     ]
    },
    {
     "name": "stdout",
     "output_type": "stream",
     "text": [
      "                   Step          Elapsed time\n"
     ]
    },
    {
     "name": "stderr",
     "output_type": "stream",
     "text": [
      "INFO:drizzlepac.util:   --------------------          --------------------\n"
     ]
    },
    {
     "name": "stdout",
     "output_type": "stream",
     "text": [
      "   --------------------          --------------------\n"
     ]
    },
    {
     "name": "stderr",
     "output_type": "stream",
     "text": [
      "INFO:drizzlepac.util:\n"
     ]
    },
    {
     "name": "stdout",
     "output_type": "stream",
     "text": [
      "\n"
     ]
    },
    {
     "name": "stderr",
     "output_type": "stream",
     "text": [
      "INFO:drizzlepac.util:         Initialization          0.1314 sec.\n"
     ]
    },
    {
     "name": "stdout",
     "output_type": "stream",
     "text": [
      "         Initialization          0.1314 sec.\n"
     ]
    },
    {
     "name": "stderr",
     "output_type": "stream",
     "text": [
      "INFO:drizzlepac.util:            Static Mask          0.0021 sec.\n"
     ]
    },
    {
     "name": "stdout",
     "output_type": "stream",
     "text": [
      "            Static Mask          0.0021 sec.\n"
     ]
    },
    {
     "name": "stderr",
     "output_type": "stream",
     "text": [
      "INFO:drizzlepac.util:           Subtract Sky          0.0307 sec.\n"
     ]
    },
    {
     "name": "stdout",
     "output_type": "stream",
     "text": [
      "           Subtract Sky          0.0307 sec.\n"
     ]
    },
    {
     "name": "stderr",
     "output_type": "stream",
     "text": [
      "INFO:drizzlepac.util:       Separate Drizzle          0.0019 sec.\n"
     ]
    },
    {
     "name": "stdout",
     "output_type": "stream",
     "text": [
      "       Separate Drizzle          0.0019 sec.\n"
     ]
    },
    {
     "name": "stderr",
     "output_type": "stream",
     "text": [
      "INFO:drizzlepac.util:          Create Median          0.0000 sec.\n"
     ]
    },
    {
     "name": "stdout",
     "output_type": "stream",
     "text": [
      "          Create Median          0.0000 sec.\n"
     ]
    },
    {
     "name": "stderr",
     "output_type": "stream",
     "text": [
      "INFO:drizzlepac.util:                   Blot          0.0023 sec.\n"
     ]
    },
    {
     "name": "stdout",
     "output_type": "stream",
     "text": [
      "                   Blot          0.0023 sec.\n"
     ]
    },
    {
     "name": "stderr",
     "output_type": "stream",
     "text": [
      "INFO:drizzlepac.util:                Driz_CR          0.0000 sec.\n"
     ]
    },
    {
     "name": "stdout",
     "output_type": "stream",
     "text": [
      "                Driz_CR          0.0000 sec.\n"
     ]
    },
    {
     "name": "stderr",
     "output_type": "stream",
     "text": [
      "INFO:drizzlepac.util:          Final Drizzle          0.9140 sec.\n"
     ]
    },
    {
     "name": "stdout",
     "output_type": "stream",
     "text": [
      "          Final Drizzle          0.9140 sec.\n"
     ]
    },
    {
     "name": "stderr",
     "output_type": "stream",
     "text": [
      "INFO:drizzlepac.util:   ====================          ====================\n"
     ]
    },
    {
     "name": "stdout",
     "output_type": "stream",
     "text": [
      "   ====================          ====================\n"
     ]
    },
    {
     "name": "stderr",
     "output_type": "stream",
     "text": [
      "INFO:drizzlepac.util:                  Total          1.0825 sec.\n"
     ]
    },
    {
     "name": "stdout",
     "output_type": "stream",
     "text": [
      "                  Total          1.0825 sec.\n"
     ]
    },
    {
     "name": "stderr",
     "output_type": "stream",
     "text": [
      "INFO:drizzlepac.util:\n"
     ]
    },
    {
     "name": "stdout",
     "output_type": "stream",
     "text": [
      "\n"
     ]
    },
    {
     "name": "stderr",
     "output_type": "stream",
     "text": [
      "INFO:drizzlepac.imageObject:Removing intermediate files for hst_16231_01_acs_sbc_f150lp_jec401nr_flt.fits\n",
      "INFO:drizzlepac.util:Trailer file written to:  nr_drz.log\n"
     ]
    },
    {
     "name": "stdout",
     "output_type": "stream",
     "text": [
      "Trailer file written to:  nr_drz.log\n"
     ]
    },
    {
     "name": "stderr",
     "output_type": "stream",
     "text": [
      "INFO:drizzlepac.util:Setting up logfile :  nv_drz.log\n"
     ]
    },
    {
     "name": "stdout",
     "output_type": "stream",
     "text": [
      "Setting up logfile :  nv_drz.log\n"
     ]
    },
    {
     "name": "stderr",
     "output_type": "stream",
     "text": [
      "INFO:drizzlepac.astrodrizzle:AstroDrizzle log file: nv_drz.log\n"
     ]
    },
    {
     "name": "stdout",
     "output_type": "stream",
     "text": [
      "AstroDrizzle log file: nv_drz.log\n"
     ]
    },
    {
     "name": "stderr",
     "output_type": "stream",
     "text": [
      "INFO:drizzlepac.astrodrizzle:AstroDrizzle Version 3.3.1 (2021-11-04 10:24:27 -0400) started at: 15:58:43.253 (06/06/2022)\n"
     ]
    },
    {
     "name": "stdout",
     "output_type": "stream",
     "text": [
      "AstroDrizzle Version 3.3.1 (2021-11-04 10:24:27 -0400) started at: 15:58:43.253 (06/06/2022)\n"
     ]
    },
    {
     "name": "stderr",
     "output_type": "stream",
     "text": [
      "INFO:drizzlepac.astrodrizzle:\n"
     ]
    },
    {
     "name": "stdout",
     "output_type": "stream",
     "text": [
      "\n"
     ]
    },
    {
     "name": "stderr",
     "output_type": "stream",
     "text": [
      "INFO:drizzlepac.astrodrizzle:Version Information\n",
      "INFO:drizzlepac.astrodrizzle:--------------------\n",
      "INFO:drizzlepac.astrodrizzle:Python Version [Clang 12.0.0 ]\n",
      "INFO:drizzlepac.astrodrizzle:3.7.13 (default, Mar 28 2022, 07:24:34) \n",
      "INFO:drizzlepac.astrodrizzle:numpy Version -> 1.21.5 \n",
      "INFO:drizzlepac.astrodrizzle:astropy Version -> 4.3.1 \n",
      "INFO:drizzlepac.astrodrizzle:stwcs Version -> 1.6.1 \n",
      "INFO:drizzlepac.util:==== Processing Step  Initialization  started at  15:58:43.256 (06/06/2022)\n"
     ]
    },
    {
     "name": "stdout",
     "output_type": "stream",
     "text": [
      "==== Processing Step  Initialization  started at  15:58:43.256 (06/06/2022)\n"
     ]
    },
    {
     "name": "stderr",
     "output_type": "stream",
     "text": [
      "INFO:drizzlepac.util:\n"
     ]
    },
    {
     "name": "stdout",
     "output_type": "stream",
     "text": [
      "\n"
     ]
    },
    {
     "name": "stderr",
     "output_type": "stream",
     "text": [
      "INFO:drizzlepac.processInput:Executing serially\n",
      "INFO:drizzlepac.processInput:Setting up output name: nv_test4_drz.fits\n",
      "INFO:drizzlepac.processInput:-Creating imageObject List as input for processing steps.\n",
      "INFO:drizzlepac.imageObject:Reading in MDRIZSKY of 0.0\n",
      "INFO:drizzlepac.acsData:WARNING: No cte correction will be made for this SBC data.\n"
     ]
    },
    {
     "name": "stdout",
     "output_type": "stream",
     "text": [
      "WARNING: No cte correction will be made for this SBC data.\n"
     ]
    },
    {
     "name": "stderr",
     "output_type": "stream",
     "text": [
      "INFO:drizzlepac.processInput:-Creating output WCS.\n",
      "INFO:astropy.wcs.wcs:WCS Keywords\n"
     ]
    },
    {
     "name": "stdout",
     "output_type": "stream",
     "text": [
      "WCS Keywords\n"
     ]
    },
    {
     "name": "stderr",
     "output_type": "stream",
     "text": [
      "INFO:astropy.wcs.wcs:\n"
     ]
    },
    {
     "name": "stdout",
     "output_type": "stream",
     "text": [
      "\n"
     ]
    },
    {
     "name": "stderr",
     "output_type": "stream",
     "text": [
      "INFO:astropy.wcs.wcs:Number of WCS axes: 2\n"
     ]
    },
    {
     "name": "stdout",
     "output_type": "stream",
     "text": [
      "Number of WCS axes: 2\n"
     ]
    },
    {
     "name": "stderr",
     "output_type": "stream",
     "text": [
      "INFO:astropy.wcs.wcs:CTYPE : 'RA---TAN'  'DEC--TAN'  \n"
     ]
    },
    {
     "name": "stdout",
     "output_type": "stream",
     "text": [
      "CTYPE : 'RA---TAN'  'DEC--TAN'  \n"
     ]
    },
    {
     "name": "stderr",
     "output_type": "stream",
     "text": [
      "INFO:astropy.wcs.wcs:CRVAL : 319.6010213418009  0.2918966151872038  \n"
     ]
    },
    {
     "name": "stdout",
     "output_type": "stream",
     "text": [
      "CRVAL : 319.6010213418009  0.2918966151872038  \n"
     ]
    },
    {
     "name": "stderr",
     "output_type": "stream",
     "text": [
      "INFO:astropy.wcs.wcs:CRPIX : 974.0  980.5  \n"
     ]
    },
    {
     "name": "stdout",
     "output_type": "stream",
     "text": [
      "CRPIX : 974.0  980.5  \n"
     ]
    },
    {
     "name": "stderr",
     "output_type": "stream",
     "text": [
      "INFO:astropy.wcs.wcs:CD1_1 CD1_2  : -6.94444454792473e-06  0.0  \n"
     ]
    },
    {
     "name": "stdout",
     "output_type": "stream",
     "text": [
      "CD1_1 CD1_2  : -6.94444454792473e-06  0.0  \n"
     ]
    },
    {
     "name": "stderr",
     "output_type": "stream",
     "text": [
      "INFO:astropy.wcs.wcs:CD2_1 CD2_2  : 0.0  6.94444454792473e-06  \n"
     ]
    },
    {
     "name": "stdout",
     "output_type": "stream",
     "text": [
      "CD2_1 CD2_2  : 0.0  6.94444454792473e-06  \n"
     ]
    },
    {
     "name": "stderr",
     "output_type": "stream",
     "text": [
      "INFO:astropy.wcs.wcs:NAXIS : 1947  1960\n"
     ]
    },
    {
     "name": "stdout",
     "output_type": "stream",
     "text": [
      "NAXIS : 1947  1960\n"
     ]
    },
    {
     "name": "stderr",
     "output_type": "stream",
     "text": [
      "INFO:drizzlepac.processInput:********************************************************************************\n"
     ]
    },
    {
     "name": "stdout",
     "output_type": "stream",
     "text": [
      "********************************************************************************\n"
     ]
    },
    {
     "name": "stderr",
     "output_type": "stream",
     "text": [
      "INFO:drizzlepac.processInput:*\n"
     ]
    },
    {
     "name": "stdout",
     "output_type": "stream",
     "text": [
      "*\n"
     ]
    },
    {
     "name": "stderr",
     "output_type": "stream",
     "text": [
      "INFO:drizzlepac.processInput:*  Estimated memory usage:  up to 51 Mb.\n"
     ]
    },
    {
     "name": "stdout",
     "output_type": "stream",
     "text": [
      "*  Estimated memory usage:  up to 51 Mb.\n"
     ]
    },
    {
     "name": "stderr",
     "output_type": "stream",
     "text": [
      "INFO:drizzlepac.processInput:*  Output image size:       1947 X 1960 pixels. \n"
     ]
    },
    {
     "name": "stdout",
     "output_type": "stream",
     "text": [
      "*  Output image size:       1947 X 1960 pixels. \n"
     ]
    },
    {
     "name": "stderr",
     "output_type": "stream",
     "text": [
      "INFO:drizzlepac.processInput:*  Output image file:       ~ 43 Mb. \n"
     ]
    },
    {
     "name": "stdout",
     "output_type": "stream",
     "text": [
      "*  Output image file:       ~ 43 Mb. \n"
     ]
    },
    {
     "name": "stderr",
     "output_type": "stream",
     "text": [
      "INFO:drizzlepac.processInput:*  Cores available:         1\n"
     ]
    },
    {
     "name": "stdout",
     "output_type": "stream",
     "text": [
      "*  Cores available:         1\n"
     ]
    },
    {
     "name": "stderr",
     "output_type": "stream",
     "text": [
      "INFO:drizzlepac.processInput:*\n"
     ]
    },
    {
     "name": "stdout",
     "output_type": "stream",
     "text": [
      "*\n"
     ]
    },
    {
     "name": "stderr",
     "output_type": "stream",
     "text": [
      "INFO:drizzlepac.processInput:********************************************************************************\n"
     ]
    },
    {
     "name": "stdout",
     "output_type": "stream",
     "text": [
      "********************************************************************************\n"
     ]
    },
    {
     "name": "stderr",
     "output_type": "stream",
     "text": [
      "INFO:drizzlepac.util:==== Processing Step Initialization finished at 15:58:43.391 (06/06/2022)\n"
     ]
    },
    {
     "name": "stdout",
     "output_type": "stream",
     "text": [
      "==== Processing Step Initialization finished at 15:58:43.391 (06/06/2022)\n"
     ]
    },
    {
     "name": "stderr",
     "output_type": "stream",
     "text": [
      "INFO:drizzlepac.astrodrizzle:USER INPUT PARAMETERS common to all Processing Steps:\n",
      "INFO:drizzlepac.astrodrizzle:\tbuild :\tTrue\n",
      "INFO:drizzlepac.astrodrizzle:\tcoeffs :\tTrue\n",
      "INFO:drizzlepac.astrodrizzle:\tcontext :\tTrue\n",
      "INFO:drizzlepac.astrodrizzle:\tcrbit :\t4096\n",
      "INFO:drizzlepac.astrodrizzle:\tgroup :\t\n",
      "INFO:drizzlepac.astrodrizzle:\tin_memory :\tTrue\n",
      "INFO:drizzlepac.astrodrizzle:\tinput :\thst_16231_01_acs_sbc_f150lp_jec401nv_flt.fits\n",
      "INFO:drizzlepac.astrodrizzle:\tmdriztab :\tFalse\n",
      "INFO:drizzlepac.astrodrizzle:\tnum_cores :\t1\n",
      "INFO:drizzlepac.astrodrizzle:\toutput :\tnv_test4\n",
      "INFO:drizzlepac.astrodrizzle:\tproc_unit :\tnative\n",
      "INFO:drizzlepac.astrodrizzle:\tresetbits :\t0\n",
      "INFO:drizzlepac.astrodrizzle:\trules_file :\t\n",
      "INFO:drizzlepac.astrodrizzle:\trunfile :\tnv_drz.log\n",
      "INFO:drizzlepac.astrodrizzle:\tstepsize :\t10\n",
      "INFO:drizzlepac.astrodrizzle:\tupdatewcs :\tFalse\n",
      "INFO:drizzlepac.astrodrizzle:\twcskey :\t\n",
      "INFO:drizzlepac.util:==== Processing Step  Static Mask  started at  15:58:43.398 (06/06/2022)\n"
     ]
    },
    {
     "name": "stdout",
     "output_type": "stream",
     "text": [
      "==== Processing Step  Static Mask  started at  15:58:43.398 (06/06/2022)\n"
     ]
    },
    {
     "name": "stderr",
     "output_type": "stream",
     "text": [
      "INFO:drizzlepac.util:\n"
     ]
    },
    {
     "name": "stdout",
     "output_type": "stream",
     "text": [
      "\n"
     ]
    },
    {
     "name": "stderr",
     "output_type": "stream",
     "text": [
      "INFO:drizzlepac.staticMask:Static Mask step not performed.\n",
      "INFO:drizzlepac.util:==== Processing Step Static Mask finished at 15:58:43.400 (06/06/2022)\n"
     ]
    },
    {
     "name": "stdout",
     "output_type": "stream",
     "text": [
      "==== Processing Step Static Mask finished at 15:58:43.400 (06/06/2022)\n"
     ]
    },
    {
     "name": "stderr",
     "output_type": "stream",
     "text": [
      "INFO:drizzlepac.util:==== Processing Step  Subtract Sky  started at  15:58:43.401 (06/06/2022)\n"
     ]
    },
    {
     "name": "stdout",
     "output_type": "stream",
     "text": [
      "==== Processing Step  Subtract Sky  started at  15:58:43.401 (06/06/2022)\n"
     ]
    },
    {
     "name": "stderr",
     "output_type": "stream",
     "text": [
      "INFO:drizzlepac.util:\n"
     ]
    },
    {
     "name": "stdout",
     "output_type": "stream",
     "text": [
      "\n"
     ]
    },
    {
     "name": "stderr",
     "output_type": "stream",
     "text": [
      "INFO:drizzlepac.sky:Sky Subtraction step not performed.\n",
      "INFO:drizzlepac.util:==== Processing Step Subtract Sky finished at 15:58:43.433 (06/06/2022)\n"
     ]
    },
    {
     "name": "stdout",
     "output_type": "stream",
     "text": [
      "==== Processing Step Subtract Sky finished at 15:58:43.433 (06/06/2022)\n"
     ]
    },
    {
     "name": "stderr",
     "output_type": "stream",
     "text": [
      "INFO:drizzlepac.util:==== Processing Step  Separate Drizzle  started at  15:58:43.434 (06/06/2022)\n"
     ]
    },
    {
     "name": "stdout",
     "output_type": "stream",
     "text": [
      "==== Processing Step  Separate Drizzle  started at  15:58:43.434 (06/06/2022)\n"
     ]
    },
    {
     "name": "stderr",
     "output_type": "stream",
     "text": [
      "INFO:drizzlepac.util:\n"
     ]
    },
    {
     "name": "stdout",
     "output_type": "stream",
     "text": [
      "\n"
     ]
    },
    {
     "name": "stderr",
     "output_type": "stream",
     "text": [
      "INFO:drizzlepac.adrizzle:Single drizzle step not performed.\n",
      "INFO:drizzlepac.util:==== Processing Step Separate Drizzle finished at 15:58:43.436 (06/06/2022)\n"
     ]
    },
    {
     "name": "stdout",
     "output_type": "stream",
     "text": [
      "==== Processing Step Separate Drizzle finished at 15:58:43.436 (06/06/2022)\n"
     ]
    },
    {
     "name": "stderr",
     "output_type": "stream",
     "text": [
      "INFO:drizzlepac.util:==== Processing Step  Create Median  started at  15:58:43.43 (06/06/2022)\n"
     ]
    },
    {
     "name": "stdout",
     "output_type": "stream",
     "text": [
      "==== Processing Step  Create Median  started at  15:58:43.43 (06/06/2022)\n"
     ]
    },
    {
     "name": "stderr",
     "output_type": "stream",
     "text": [
      "INFO:drizzlepac.util:\n"
     ]
    },
    {
     "name": "stdout",
     "output_type": "stream",
     "text": [
      "\n"
     ]
    },
    {
     "name": "stderr",
     "output_type": "stream",
     "text": [
      "INFO:drizzlepac.createMedian:Median combination step not performed.\n",
      "INFO:drizzlepac.util:==== Processing Step  Blot  started at  15:58:43.439 (06/06/2022)\n"
     ]
    },
    {
     "name": "stdout",
     "output_type": "stream",
     "text": [
      "==== Processing Step  Blot  started at  15:58:43.439 (06/06/2022)\n"
     ]
    },
    {
     "name": "stderr",
     "output_type": "stream",
     "text": [
      "INFO:drizzlepac.util:\n"
     ]
    },
    {
     "name": "stdout",
     "output_type": "stream",
     "text": [
      "\n"
     ]
    },
    {
     "name": "stderr",
     "output_type": "stream",
     "text": [
      "INFO:drizzlepac.ablot:Blot step not performed.\n",
      "INFO:drizzlepac.util:==== Processing Step Blot finished at 15:58:43.441 (06/06/2022)\n"
     ]
    },
    {
     "name": "stdout",
     "output_type": "stream",
     "text": [
      "==== Processing Step Blot finished at 15:58:43.441 (06/06/2022)\n"
     ]
    },
    {
     "name": "stderr",
     "output_type": "stream",
     "text": [
      "INFO:drizzlepac.util:==== Processing Step  Driz_CR  started at  15:58:43.4 (06/06/2022)\n"
     ]
    },
    {
     "name": "stdout",
     "output_type": "stream",
     "text": [
      "==== Processing Step  Driz_CR  started at  15:58:43.4 (06/06/2022)\n"
     ]
    },
    {
     "name": "stderr",
     "output_type": "stream",
     "text": [
      "INFO:drizzlepac.util:\n"
     ]
    },
    {
     "name": "stdout",
     "output_type": "stream",
     "text": [
      "\n"
     ]
    },
    {
     "name": "stderr",
     "output_type": "stream",
     "text": [
      "INFO:drizzlepac.drizCR:Cosmic-ray identification (driz_cr) step not performed.\n",
      "INFO:drizzlepac.util:==== Processing Step  Final Drizzle  started at  15:58:43.44 (06/06/2022)\n"
     ]
    },
    {
     "name": "stdout",
     "output_type": "stream",
     "text": [
      "==== Processing Step  Final Drizzle  started at  15:58:43.44 (06/06/2022)\n"
     ]
    },
    {
     "name": "stderr",
     "output_type": "stream",
     "text": [
      "INFO:drizzlepac.util:\n"
     ]
    },
    {
     "name": "stdout",
     "output_type": "stream",
     "text": [
      "\n"
     ]
    },
    {
     "name": "stderr",
     "output_type": "stream",
     "text": [
      "INFO:drizzlepac.adrizzle:Interpreted paramDict with single=False as:\n",
      "{'build': True, 'stepsize': 10, 'coeffs': True, 'wcskey': '', 'wht_type': 'EXP', 'kernel': 'square', 'wt_scl': 'exptime', 'pixfrac': 1.0, 'fillval': None, 'maskval': None, 'bits': 65535, 'units': 'cps'}\n",
      "INFO:drizzlepac.adrizzle:USER INPUT PARAMETERS for Final Drizzle Step:\n",
      "INFO:drizzlepac.adrizzle:\tbits :\t65535\n",
      "INFO:drizzlepac.adrizzle:\tbuild :\tTrue\n",
      "INFO:drizzlepac.adrizzle:\tclean :\tTrue\n",
      "INFO:drizzlepac.adrizzle:\tcoeffs :\tTrue\n",
      "INFO:drizzlepac.adrizzle:\tcrbit :\t4096\n",
      "INFO:drizzlepac.adrizzle:\tfillval :\tNone\n",
      "INFO:drizzlepac.adrizzle:\tkernel :\tsquare\n",
      "INFO:drizzlepac.adrizzle:\tlogfile :\tnv_drz.log\n",
      "INFO:drizzlepac.adrizzle:\tmaskval :\tNone\n",
      "INFO:drizzlepac.adrizzle:\tpixfrac :\t1.0\n",
      "INFO:drizzlepac.adrizzle:\tproc_unit :\tnative\n",
      "INFO:drizzlepac.adrizzle:\trules_file :\tNone\n",
      "INFO:drizzlepac.adrizzle:\tstepsize :\t10\n",
      "INFO:drizzlepac.adrizzle:\tunits :\tcps\n",
      "INFO:drizzlepac.adrizzle:\twcskey :\t\n",
      "INFO:drizzlepac.adrizzle:\twht_type :\tEXP\n",
      "INFO:drizzlepac.adrizzle:\twt_scl :\texptime\n",
      "INFO:drizzlepac.adrizzle:  **Using sub-sampling value of 10 for kernel square\n",
      "INFO:drizzlepac.adrizzle:Running Drizzle to create output frame with WCS of: \n",
      "INFO:astropy.wcs.wcs:WCS Keywords\n"
     ]
    },
    {
     "name": "stdout",
     "output_type": "stream",
     "text": [
      "WCS Keywords\n"
     ]
    },
    {
     "name": "stderr",
     "output_type": "stream",
     "text": [
      "INFO:astropy.wcs.wcs:\n"
     ]
    },
    {
     "name": "stdout",
     "output_type": "stream",
     "text": [
      "\n"
     ]
    },
    {
     "name": "stderr",
     "output_type": "stream",
     "text": [
      "INFO:astropy.wcs.wcs:Number of WCS axes: 2\n"
     ]
    },
    {
     "name": "stdout",
     "output_type": "stream",
     "text": [
      "Number of WCS axes: 2\n"
     ]
    },
    {
     "name": "stderr",
     "output_type": "stream",
     "text": [
      "INFO:astropy.wcs.wcs:CTYPE : 'RA---TAN'  'DEC--TAN'  \n"
     ]
    },
    {
     "name": "stdout",
     "output_type": "stream",
     "text": [
      "CTYPE : 'RA---TAN'  'DEC--TAN'  \n"
     ]
    },
    {
     "name": "stderr",
     "output_type": "stream",
     "text": [
      "INFO:astropy.wcs.wcs:CRVAL : 319.6010213418009  0.2918966151872038  \n"
     ]
    },
    {
     "name": "stdout",
     "output_type": "stream",
     "text": [
      "CRVAL : 319.6010213418009  0.2918966151872038  \n"
     ]
    },
    {
     "name": "stderr",
     "output_type": "stream",
     "text": [
      "INFO:astropy.wcs.wcs:CRPIX : 974.0  980.5  \n"
     ]
    },
    {
     "name": "stdout",
     "output_type": "stream",
     "text": [
      "CRPIX : 974.0  980.5  \n"
     ]
    },
    {
     "name": "stderr",
     "output_type": "stream",
     "text": [
      "INFO:astropy.wcs.wcs:CD1_1 CD1_2  : -6.94444454792473e-06  0.0  \n"
     ]
    },
    {
     "name": "stdout",
     "output_type": "stream",
     "text": [
      "CD1_1 CD1_2  : -6.94444454792473e-06  0.0  \n"
     ]
    },
    {
     "name": "stderr",
     "output_type": "stream",
     "text": [
      "INFO:astropy.wcs.wcs:CD2_1 CD2_2  : 0.0  6.94444454792473e-06  \n"
     ]
    },
    {
     "name": "stdout",
     "output_type": "stream",
     "text": [
      "CD2_1 CD2_2  : 0.0  6.94444454792473e-06  \n"
     ]
    },
    {
     "name": "stderr",
     "output_type": "stream",
     "text": [
      "INFO:astropy.wcs.wcs:NAXIS : 1947  1960\n"
     ]
    },
    {
     "name": "stdout",
     "output_type": "stream",
     "text": [
      "NAXIS : 1947  1960\n"
     ]
    },
    {
     "name": "stderr",
     "output_type": "stream",
     "text": [
      "INFO:drizzlepac.adrizzle:-Drizzle input: hst_16231_01_acs_sbc_f150lp_jec401nv_flt.fits[sci,1]\n",
      "WARNING:drizzlepac.adrizzle:No CR mask file found! Input DQ array not updated.\n",
      "INFO:drizzlepac.imageObject:Applying EXPTIME weighting to DQ mask for chip 1\n",
      "INFO:drizzlepac.adrizzle:Using WCSLIB-based coordinate transformation...\n",
      "INFO:drizzlepac.adrizzle:stepsize = 10\n",
      "INFO:drizzlepac.cdriz:-Drizzling using kernel = square\n",
      "\n",
      "INFO:drizzlepac.outputimage:-Generating multi-extension output file:  nv_test4_drz.fits\n"
     ]
    },
    {
     "name": "stdout",
     "output_type": "stream",
     "text": [
      "-Generating multi-extension output file:  nv_test4_drz.fits\n"
     ]
    },
    {
     "name": "stderr",
     "output_type": "stream",
     "text": [
      "INFO:stwcs.wcsutil.altwcs:Deleted all instances of WCS with key A in extensions [1]\n"
     ]
    },
    {
     "name": "stdout",
     "output_type": "stream",
     "text": [
      "Deleted all instances of WCS with key A in extensions [1]\n"
     ]
    },
    {
     "name": "stderr",
     "output_type": "stream",
     "text": [
      "INFO:stwcs.wcsutil.altwcs:Deleted all instances of WCS with key B in extensions [1]\n"
     ]
    },
    {
     "name": "stdout",
     "output_type": "stream",
     "text": [
      "Deleted all instances of WCS with key B in extensions [1]\n"
     ]
    },
    {
     "name": "stderr",
     "output_type": "stream",
     "text": [
      "INFO:drizzlepac.outputimage:Writing out to disk: nv_test4_drz.fits\n"
     ]
    },
    {
     "name": "stdout",
     "output_type": "stream",
     "text": [
      "Writing out to disk: nv_test4_drz.fits\n"
     ]
    },
    {
     "name": "stderr",
     "output_type": "stream",
     "text": [
      "WARNING:py.warnings:/Users/ha/.conda/envs/astroconda/lib/python3.7/site-packages/astropy/io/fits/card.py:1010: VerifyWarning: Card is too long, comment will be truncated.\n",
      "  VerifyWarning)\n",
      "\n",
      "INFO:drizzlepac.util:==== Processing Step Final Drizzle finished at 15:58:44.24 (06/06/2022)\n"
     ]
    },
    {
     "name": "stdout",
     "output_type": "stream",
     "text": [
      "==== Processing Step Final Drizzle finished at 15:58:44.24 (06/06/2022)\n"
     ]
    },
    {
     "name": "stderr",
     "output_type": "stream",
     "text": [
      "INFO:drizzlepac.astrodrizzle:\n"
     ]
    },
    {
     "name": "stdout",
     "output_type": "stream",
     "text": [
      "\n"
     ]
    },
    {
     "name": "stderr",
     "output_type": "stream",
     "text": [
      "INFO:drizzlepac.astrodrizzle:AstroDrizzle Version 3.3.1 is finished processing at 15:58:44.242 (06/06/2022).\n"
     ]
    },
    {
     "name": "stdout",
     "output_type": "stream",
     "text": [
      "AstroDrizzle Version 3.3.1 is finished processing at 15:58:44.242 (06/06/2022).\n"
     ]
    },
    {
     "name": "stderr",
     "output_type": "stream",
     "text": [
      "INFO:drizzlepac.astrodrizzle:\n"
     ]
    },
    {
     "name": "stdout",
     "output_type": "stream",
     "text": [
      "\n"
     ]
    },
    {
     "name": "stderr",
     "output_type": "stream",
     "text": [
      "INFO:drizzlepac.astrodrizzle:\n"
     ]
    },
    {
     "name": "stdout",
     "output_type": "stream",
     "text": [
      "\n"
     ]
    },
    {
     "name": "stderr",
     "output_type": "stream",
     "text": [
      "INFO:drizzlepac.util:\n"
     ]
    },
    {
     "name": "stdout",
     "output_type": "stream",
     "text": [
      "\n"
     ]
    },
    {
     "name": "stderr",
     "output_type": "stream",
     "text": [
      "INFO:drizzlepac.util:   --------------------          --------------------\n"
     ]
    },
    {
     "name": "stdout",
     "output_type": "stream",
     "text": [
      "   --------------------          --------------------\n"
     ]
    },
    {
     "name": "stderr",
     "output_type": "stream",
     "text": [
      "INFO:drizzlepac.util:                   Step          Elapsed time\n"
     ]
    },
    {
     "name": "stdout",
     "output_type": "stream",
     "text": [
      "                   Step          Elapsed time\n"
     ]
    },
    {
     "name": "stderr",
     "output_type": "stream",
     "text": [
      "INFO:drizzlepac.util:   --------------------          --------------------\n"
     ]
    },
    {
     "name": "stdout",
     "output_type": "stream",
     "text": [
      "   --------------------          --------------------\n"
     ]
    },
    {
     "name": "stderr",
     "output_type": "stream",
     "text": [
      "INFO:drizzlepac.util:\n"
     ]
    },
    {
     "name": "stdout",
     "output_type": "stream",
     "text": [
      "\n"
     ]
    },
    {
     "name": "stderr",
     "output_type": "stream",
     "text": [
      "INFO:drizzlepac.util:         Initialization          0.1347 sec.\n"
     ]
    },
    {
     "name": "stdout",
     "output_type": "stream",
     "text": [
      "         Initialization          0.1347 sec.\n"
     ]
    },
    {
     "name": "stderr",
     "output_type": "stream",
     "text": [
      "INFO:drizzlepac.util:            Static Mask          0.0020 sec.\n"
     ]
    },
    {
     "name": "stdout",
     "output_type": "stream",
     "text": [
      "            Static Mask          0.0020 sec.\n"
     ]
    },
    {
     "name": "stderr",
     "output_type": "stream",
     "text": [
      "INFO:drizzlepac.util:           Subtract Sky          0.0316 sec.\n"
     ]
    },
    {
     "name": "stdout",
     "output_type": "stream",
     "text": [
      "           Subtract Sky          0.0316 sec.\n"
     ]
    },
    {
     "name": "stderr",
     "output_type": "stream",
     "text": [
      "INFO:drizzlepac.util:       Separate Drizzle          0.0022 sec.\n"
     ]
    },
    {
     "name": "stdout",
     "output_type": "stream",
     "text": [
      "       Separate Drizzle          0.0022 sec.\n"
     ]
    },
    {
     "name": "stderr",
     "output_type": "stream",
     "text": [
      "INFO:drizzlepac.util:          Create Median          0.0000 sec.\n"
     ]
    },
    {
     "name": "stdout",
     "output_type": "stream",
     "text": [
      "          Create Median          0.0000 sec.\n"
     ]
    },
    {
     "name": "stderr",
     "output_type": "stream",
     "text": [
      "INFO:drizzlepac.util:                   Blot          0.0020 sec.\n"
     ]
    },
    {
     "name": "stdout",
     "output_type": "stream",
     "text": [
      "                   Blot          0.0020 sec.\n"
     ]
    },
    {
     "name": "stderr",
     "output_type": "stream",
     "text": [
      "INFO:drizzlepac.util:                Driz_CR          0.0000 sec.\n"
     ]
    },
    {
     "name": "stdout",
     "output_type": "stream",
     "text": [
      "                Driz_CR          0.0000 sec.\n"
     ]
    },
    {
     "name": "stderr",
     "output_type": "stream",
     "text": [
      "INFO:drizzlepac.util:          Final Drizzle          0.7961 sec.\n"
     ]
    },
    {
     "name": "stdout",
     "output_type": "stream",
     "text": [
      "          Final Drizzle          0.7961 sec.\n"
     ]
    },
    {
     "name": "stderr",
     "output_type": "stream",
     "text": [
      "INFO:drizzlepac.util:   ====================          ====================\n"
     ]
    },
    {
     "name": "stdout",
     "output_type": "stream",
     "text": [
      "   ====================          ====================\n"
     ]
    },
    {
     "name": "stderr",
     "output_type": "stream",
     "text": [
      "INFO:drizzlepac.util:                  Total          0.9686 sec.\n"
     ]
    },
    {
     "name": "stdout",
     "output_type": "stream",
     "text": [
      "                  Total          0.9686 sec.\n"
     ]
    },
    {
     "name": "stderr",
     "output_type": "stream",
     "text": [
      "INFO:drizzlepac.util:\n"
     ]
    },
    {
     "name": "stdout",
     "output_type": "stream",
     "text": [
      "\n"
     ]
    },
    {
     "name": "stderr",
     "output_type": "stream",
     "text": [
      "INFO:drizzlepac.imageObject:Removing intermediate files for hst_16231_01_acs_sbc_f150lp_jec401nv_flt.fits\n",
      "INFO:drizzlepac.util:Trailer file written to:  nv_drz.log\n"
     ]
    },
    {
     "name": "stdout",
     "output_type": "stream",
     "text": [
      "Trailer file written to:  nv_drz.log\n"
     ]
    },
    {
     "name": "stderr",
     "output_type": "stream",
     "text": [
      "INFO:drizzlepac.util:Setting up logfile :  nx_drz.log\n"
     ]
    },
    {
     "name": "stdout",
     "output_type": "stream",
     "text": [
      "Setting up logfile :  nx_drz.log\n"
     ]
    },
    {
     "name": "stderr",
     "output_type": "stream",
     "text": [
      "INFO:drizzlepac.astrodrizzle:AstroDrizzle log file: nx_drz.log\n"
     ]
    },
    {
     "name": "stdout",
     "output_type": "stream",
     "text": [
      "AstroDrizzle log file: nx_drz.log\n"
     ]
    },
    {
     "name": "stderr",
     "output_type": "stream",
     "text": [
      "INFO:drizzlepac.astrodrizzle:AstroDrizzle Version 3.3.1 (2021-11-04 10:24:27 -0400) started at: 15:58:44.283 (06/06/2022)\n"
     ]
    },
    {
     "name": "stdout",
     "output_type": "stream",
     "text": [
      "AstroDrizzle Version 3.3.1 (2021-11-04 10:24:27 -0400) started at: 15:58:44.283 (06/06/2022)\n"
     ]
    },
    {
     "name": "stderr",
     "output_type": "stream",
     "text": [
      "INFO:drizzlepac.astrodrizzle:\n"
     ]
    },
    {
     "name": "stdout",
     "output_type": "stream",
     "text": [
      "\n"
     ]
    },
    {
     "name": "stderr",
     "output_type": "stream",
     "text": [
      "INFO:drizzlepac.astrodrizzle:Version Information\n",
      "INFO:drizzlepac.astrodrizzle:--------------------\n",
      "INFO:drizzlepac.astrodrizzle:Python Version [Clang 12.0.0 ]\n",
      "INFO:drizzlepac.astrodrizzle:3.7.13 (default, Mar 28 2022, 07:24:34) \n",
      "INFO:drizzlepac.astrodrizzle:numpy Version -> 1.21.5 \n",
      "INFO:drizzlepac.astrodrizzle:astropy Version -> 4.3.1 \n",
      "INFO:drizzlepac.astrodrizzle:stwcs Version -> 1.6.1 \n",
      "INFO:drizzlepac.util:==== Processing Step  Initialization  started at  15:58:44.287 (06/06/2022)\n"
     ]
    },
    {
     "name": "stdout",
     "output_type": "stream",
     "text": [
      "==== Processing Step  Initialization  started at  15:58:44.287 (06/06/2022)\n"
     ]
    },
    {
     "name": "stderr",
     "output_type": "stream",
     "text": [
      "INFO:drizzlepac.util:\n"
     ]
    },
    {
     "name": "stdout",
     "output_type": "stream",
     "text": [
      "\n"
     ]
    },
    {
     "name": "stderr",
     "output_type": "stream",
     "text": [
      "INFO:drizzlepac.processInput:Executing serially\n",
      "INFO:drizzlepac.processInput:Setting up output name: nx_test4_drz.fits\n",
      "INFO:drizzlepac.processInput:-Creating imageObject List as input for processing steps.\n",
      "INFO:drizzlepac.imageObject:Reading in MDRIZSKY of 0.0\n",
      "INFO:drizzlepac.acsData:WARNING: No cte correction will be made for this SBC data.\n"
     ]
    },
    {
     "name": "stdout",
     "output_type": "stream",
     "text": [
      "WARNING: No cte correction will be made for this SBC data.\n"
     ]
    },
    {
     "name": "stderr",
     "output_type": "stream",
     "text": [
      "INFO:drizzlepac.processInput:-Creating output WCS.\n",
      "INFO:astropy.wcs.wcs:WCS Keywords\n"
     ]
    },
    {
     "name": "stdout",
     "output_type": "stream",
     "text": [
      "WCS Keywords\n"
     ]
    },
    {
     "name": "stderr",
     "output_type": "stream",
     "text": [
      "INFO:astropy.wcs.wcs:\n"
     ]
    },
    {
     "name": "stdout",
     "output_type": "stream",
     "text": [
      "\n"
     ]
    },
    {
     "name": "stderr",
     "output_type": "stream",
     "text": [
      "INFO:astropy.wcs.wcs:Number of WCS axes: 2\n"
     ]
    },
    {
     "name": "stdout",
     "output_type": "stream",
     "text": [
      "Number of WCS axes: 2\n"
     ]
    },
    {
     "name": "stderr",
     "output_type": "stream",
     "text": [
      "INFO:astropy.wcs.wcs:CTYPE : 'RA---TAN'  'DEC--TAN'  \n"
     ]
    },
    {
     "name": "stdout",
     "output_type": "stream",
     "text": [
      "CTYPE : 'RA---TAN'  'DEC--TAN'  \n"
     ]
    },
    {
     "name": "stderr",
     "output_type": "stream",
     "text": [
      "INFO:astropy.wcs.wcs:CRVAL : 319.6009658704774  0.2921389668899559  \n"
     ]
    },
    {
     "name": "stdout",
     "output_type": "stream",
     "text": [
      "CRVAL : 319.6009658704774  0.2921389668899559  \n"
     ]
    },
    {
     "name": "stderr",
     "output_type": "stream",
     "text": [
      "INFO:astropy.wcs.wcs:CRPIX : 974.0  980.5  \n"
     ]
    },
    {
     "name": "stdout",
     "output_type": "stream",
     "text": [
      "CRPIX : 974.0  980.5  \n"
     ]
    },
    {
     "name": "stderr",
     "output_type": "stream",
     "text": [
      "INFO:astropy.wcs.wcs:CD1_1 CD1_2  : -6.944444547924731e-06  0.0  \n"
     ]
    },
    {
     "name": "stdout",
     "output_type": "stream",
     "text": [
      "CD1_1 CD1_2  : -6.944444547924731e-06  0.0  \n"
     ]
    },
    {
     "name": "stderr",
     "output_type": "stream",
     "text": [
      "INFO:astropy.wcs.wcs:CD2_1 CD2_2  : 0.0  6.944444547924731e-06  \n"
     ]
    },
    {
     "name": "stdout",
     "output_type": "stream",
     "text": [
      "CD2_1 CD2_2  : 0.0  6.944444547924731e-06  \n"
     ]
    },
    {
     "name": "stderr",
     "output_type": "stream",
     "text": [
      "INFO:astropy.wcs.wcs:NAXIS : 1947  1960\n"
     ]
    },
    {
     "name": "stdout",
     "output_type": "stream",
     "text": [
      "NAXIS : 1947  1960\n"
     ]
    },
    {
     "name": "stderr",
     "output_type": "stream",
     "text": [
      "INFO:drizzlepac.processInput:********************************************************************************\n"
     ]
    },
    {
     "name": "stdout",
     "output_type": "stream",
     "text": [
      "********************************************************************************\n"
     ]
    },
    {
     "name": "stderr",
     "output_type": "stream",
     "text": [
      "INFO:drizzlepac.processInput:*\n"
     ]
    },
    {
     "name": "stdout",
     "output_type": "stream",
     "text": [
      "*\n"
     ]
    },
    {
     "name": "stderr",
     "output_type": "stream",
     "text": [
      "INFO:drizzlepac.processInput:*  Estimated memory usage:  up to 51 Mb.\n"
     ]
    },
    {
     "name": "stdout",
     "output_type": "stream",
     "text": [
      "*  Estimated memory usage:  up to 51 Mb.\n"
     ]
    },
    {
     "name": "stderr",
     "output_type": "stream",
     "text": [
      "INFO:drizzlepac.processInput:*  Output image size:       1947 X 1960 pixels. \n"
     ]
    },
    {
     "name": "stdout",
     "output_type": "stream",
     "text": [
      "*  Output image size:       1947 X 1960 pixels. \n"
     ]
    },
    {
     "name": "stderr",
     "output_type": "stream",
     "text": [
      "INFO:drizzlepac.processInput:*  Output image file:       ~ 43 Mb. \n"
     ]
    },
    {
     "name": "stdout",
     "output_type": "stream",
     "text": [
      "*  Output image file:       ~ 43 Mb. \n"
     ]
    },
    {
     "name": "stderr",
     "output_type": "stream",
     "text": [
      "INFO:drizzlepac.processInput:*  Cores available:         1\n"
     ]
    },
    {
     "name": "stdout",
     "output_type": "stream",
     "text": [
      "*  Cores available:         1\n"
     ]
    },
    {
     "name": "stderr",
     "output_type": "stream",
     "text": [
      "INFO:drizzlepac.processInput:*\n"
     ]
    },
    {
     "name": "stdout",
     "output_type": "stream",
     "text": [
      "*\n"
     ]
    },
    {
     "name": "stderr",
     "output_type": "stream",
     "text": [
      "INFO:drizzlepac.processInput:********************************************************************************\n"
     ]
    },
    {
     "name": "stdout",
     "output_type": "stream",
     "text": [
      "********************************************************************************\n"
     ]
    },
    {
     "name": "stderr",
     "output_type": "stream",
     "text": [
      "INFO:drizzlepac.util:==== Processing Step Initialization finished at 15:58:44.42 (06/06/2022)\n"
     ]
    },
    {
     "name": "stdout",
     "output_type": "stream",
     "text": [
      "==== Processing Step Initialization finished at 15:58:44.42 (06/06/2022)\n"
     ]
    },
    {
     "name": "stderr",
     "output_type": "stream",
     "text": [
      "INFO:drizzlepac.astrodrizzle:USER INPUT PARAMETERS common to all Processing Steps:\n",
      "INFO:drizzlepac.astrodrizzle:\tbuild :\tTrue\n",
      "INFO:drizzlepac.astrodrizzle:\tcoeffs :\tTrue\n",
      "INFO:drizzlepac.astrodrizzle:\tcontext :\tTrue\n",
      "INFO:drizzlepac.astrodrizzle:\tcrbit :\t4096\n",
      "INFO:drizzlepac.astrodrizzle:\tgroup :\t\n",
      "INFO:drizzlepac.astrodrizzle:\tin_memory :\tTrue\n",
      "INFO:drizzlepac.astrodrizzle:\tinput :\thst_16231_01_acs_sbc_f150lp_jec401nx_flt.fits\n",
      "INFO:drizzlepac.astrodrizzle:\tmdriztab :\tFalse\n",
      "INFO:drizzlepac.astrodrizzle:\tnum_cores :\t1\n",
      "INFO:drizzlepac.astrodrizzle:\toutput :\tnx_test4\n",
      "INFO:drizzlepac.astrodrizzle:\tproc_unit :\tnative\n",
      "INFO:drizzlepac.astrodrizzle:\tresetbits :\t0\n",
      "INFO:drizzlepac.astrodrizzle:\trules_file :\t\n",
      "INFO:drizzlepac.astrodrizzle:\trunfile :\tnx_drz.log\n",
      "INFO:drizzlepac.astrodrizzle:\tstepsize :\t10\n",
      "INFO:drizzlepac.astrodrizzle:\tupdatewcs :\tFalse\n",
      "INFO:drizzlepac.astrodrizzle:\twcskey :\t\n",
      "INFO:drizzlepac.util:==== Processing Step  Static Mask  started at  15:58:44.431 (06/06/2022)\n"
     ]
    },
    {
     "name": "stdout",
     "output_type": "stream",
     "text": [
      "==== Processing Step  Static Mask  started at  15:58:44.431 (06/06/2022)\n"
     ]
    },
    {
     "name": "stderr",
     "output_type": "stream",
     "text": [
      "INFO:drizzlepac.util:\n"
     ]
    },
    {
     "name": "stdout",
     "output_type": "stream",
     "text": [
      "\n"
     ]
    },
    {
     "name": "stderr",
     "output_type": "stream",
     "text": [
      "INFO:drizzlepac.staticMask:Static Mask step not performed.\n",
      "INFO:drizzlepac.util:==== Processing Step Static Mask finished at 15:58:44.434 (06/06/2022)\n"
     ]
    },
    {
     "name": "stdout",
     "output_type": "stream",
     "text": [
      "==== Processing Step Static Mask finished at 15:58:44.434 (06/06/2022)\n"
     ]
    },
    {
     "name": "stderr",
     "output_type": "stream",
     "text": [
      "INFO:drizzlepac.util:==== Processing Step  Subtract Sky  started at  15:58:44.435 (06/06/2022)\n"
     ]
    },
    {
     "name": "stdout",
     "output_type": "stream",
     "text": [
      "==== Processing Step  Subtract Sky  started at  15:58:44.435 (06/06/2022)\n"
     ]
    },
    {
     "name": "stderr",
     "output_type": "stream",
     "text": [
      "INFO:drizzlepac.util:\n"
     ]
    },
    {
     "name": "stdout",
     "output_type": "stream",
     "text": [
      "\n"
     ]
    },
    {
     "name": "stderr",
     "output_type": "stream",
     "text": [
      "INFO:drizzlepac.sky:Sky Subtraction step not performed.\n",
      "INFO:drizzlepac.util:==== Processing Step Subtract Sky finished at 15:58:44.465 (06/06/2022)\n"
     ]
    },
    {
     "name": "stdout",
     "output_type": "stream",
     "text": [
      "==== Processing Step Subtract Sky finished at 15:58:44.465 (06/06/2022)\n"
     ]
    },
    {
     "name": "stderr",
     "output_type": "stream",
     "text": [
      "INFO:drizzlepac.util:==== Processing Step  Separate Drizzle  started at  15:58:44.467 (06/06/2022)\n"
     ]
    },
    {
     "name": "stdout",
     "output_type": "stream",
     "text": [
      "==== Processing Step  Separate Drizzle  started at  15:58:44.467 (06/06/2022)\n"
     ]
    },
    {
     "name": "stderr",
     "output_type": "stream",
     "text": [
      "INFO:drizzlepac.util:\n"
     ]
    },
    {
     "name": "stdout",
     "output_type": "stream",
     "text": [
      "\n"
     ]
    },
    {
     "name": "stderr",
     "output_type": "stream",
     "text": [
      "INFO:drizzlepac.adrizzle:Single drizzle step not performed.\n",
      "INFO:drizzlepac.util:==== Processing Step Separate Drizzle finished at 15:58:44.469 (06/06/2022)\n"
     ]
    },
    {
     "name": "stdout",
     "output_type": "stream",
     "text": [
      "==== Processing Step Separate Drizzle finished at 15:58:44.469 (06/06/2022)\n"
     ]
    },
    {
     "name": "stderr",
     "output_type": "stream",
     "text": [
      "INFO:drizzlepac.util:==== Processing Step  Create Median  started at  15:58:44.470 (06/06/2022)\n"
     ]
    },
    {
     "name": "stdout",
     "output_type": "stream",
     "text": [
      "==== Processing Step  Create Median  started at  15:58:44.470 (06/06/2022)\n"
     ]
    },
    {
     "name": "stderr",
     "output_type": "stream",
     "text": [
      "INFO:drizzlepac.util:\n"
     ]
    },
    {
     "name": "stdout",
     "output_type": "stream",
     "text": [
      "\n"
     ]
    },
    {
     "name": "stderr",
     "output_type": "stream",
     "text": [
      "INFO:drizzlepac.createMedian:Median combination step not performed.\n",
      "INFO:drizzlepac.util:==== Processing Step  Blot  started at  15:58:44.472 (06/06/2022)\n"
     ]
    },
    {
     "name": "stdout",
     "output_type": "stream",
     "text": [
      "==== Processing Step  Blot  started at  15:58:44.472 (06/06/2022)\n"
     ]
    },
    {
     "name": "stderr",
     "output_type": "stream",
     "text": [
      "INFO:drizzlepac.util:\n"
     ]
    },
    {
     "name": "stdout",
     "output_type": "stream",
     "text": [
      "\n"
     ]
    },
    {
     "name": "stderr",
     "output_type": "stream",
     "text": [
      "INFO:drizzlepac.ablot:Blot step not performed.\n",
      "INFO:drizzlepac.util:==== Processing Step Blot finished at 15:58:44.473 (06/06/2022)\n"
     ]
    },
    {
     "name": "stdout",
     "output_type": "stream",
     "text": [
      "==== Processing Step Blot finished at 15:58:44.473 (06/06/2022)\n"
     ]
    },
    {
     "name": "stderr",
     "output_type": "stream",
     "text": [
      "INFO:drizzlepac.util:==== Processing Step  Driz_CR  started at  15:58:44.474 (06/06/2022)\n"
     ]
    },
    {
     "name": "stdout",
     "output_type": "stream",
     "text": [
      "==== Processing Step  Driz_CR  started at  15:58:44.474 (06/06/2022)\n"
     ]
    },
    {
     "name": "stderr",
     "output_type": "stream",
     "text": [
      "INFO:drizzlepac.util:\n"
     ]
    },
    {
     "name": "stdout",
     "output_type": "stream",
     "text": [
      "\n"
     ]
    },
    {
     "name": "stderr",
     "output_type": "stream",
     "text": [
      "INFO:drizzlepac.drizCR:Cosmic-ray identification (driz_cr) step not performed.\n",
      "INFO:drizzlepac.util:==== Processing Step  Final Drizzle  started at  15:58:44.476 (06/06/2022)\n"
     ]
    },
    {
     "name": "stdout",
     "output_type": "stream",
     "text": [
      "==== Processing Step  Final Drizzle  started at  15:58:44.476 (06/06/2022)\n"
     ]
    },
    {
     "name": "stderr",
     "output_type": "stream",
     "text": [
      "INFO:drizzlepac.util:\n"
     ]
    },
    {
     "name": "stdout",
     "output_type": "stream",
     "text": [
      "\n"
     ]
    },
    {
     "name": "stderr",
     "output_type": "stream",
     "text": [
      "INFO:drizzlepac.adrizzle:Interpreted paramDict with single=False as:\n",
      "{'build': True, 'stepsize': 10, 'coeffs': True, 'wcskey': '', 'wht_type': 'EXP', 'kernel': 'square', 'wt_scl': 'exptime', 'pixfrac': 1.0, 'fillval': None, 'maskval': None, 'bits': 65535, 'units': 'cps'}\n",
      "INFO:drizzlepac.adrizzle:USER INPUT PARAMETERS for Final Drizzle Step:\n",
      "INFO:drizzlepac.adrizzle:\tbits :\t65535\n",
      "INFO:drizzlepac.adrizzle:\tbuild :\tTrue\n",
      "INFO:drizzlepac.adrizzle:\tclean :\tTrue\n",
      "INFO:drizzlepac.adrizzle:\tcoeffs :\tTrue\n",
      "INFO:drizzlepac.adrizzle:\tcrbit :\t4096\n",
      "INFO:drizzlepac.adrizzle:\tfillval :\tNone\n",
      "INFO:drizzlepac.adrizzle:\tkernel :\tsquare\n",
      "INFO:drizzlepac.adrizzle:\tlogfile :\tnx_drz.log\n",
      "INFO:drizzlepac.adrizzle:\tmaskval :\tNone\n",
      "INFO:drizzlepac.adrizzle:\tpixfrac :\t1.0\n",
      "INFO:drizzlepac.adrizzle:\tproc_unit :\tnative\n",
      "INFO:drizzlepac.adrizzle:\trules_file :\tNone\n",
      "INFO:drizzlepac.adrizzle:\tstepsize :\t10\n",
      "INFO:drizzlepac.adrizzle:\tunits :\tcps\n",
      "INFO:drizzlepac.adrizzle:\twcskey :\t\n",
      "INFO:drizzlepac.adrizzle:\twht_type :\tEXP\n",
      "INFO:drizzlepac.adrizzle:\twt_scl :\texptime\n",
      "INFO:drizzlepac.adrizzle:  **Using sub-sampling value of 10 for kernel square\n",
      "INFO:drizzlepac.adrizzle:Running Drizzle to create output frame with WCS of: \n",
      "INFO:astropy.wcs.wcs:WCS Keywords\n"
     ]
    },
    {
     "name": "stdout",
     "output_type": "stream",
     "text": [
      "WCS Keywords\n"
     ]
    },
    {
     "name": "stderr",
     "output_type": "stream",
     "text": [
      "INFO:astropy.wcs.wcs:\n"
     ]
    },
    {
     "name": "stdout",
     "output_type": "stream",
     "text": [
      "\n"
     ]
    },
    {
     "name": "stderr",
     "output_type": "stream",
     "text": [
      "INFO:astropy.wcs.wcs:Number of WCS axes: 2\n"
     ]
    },
    {
     "name": "stdout",
     "output_type": "stream",
     "text": [
      "Number of WCS axes: 2\n"
     ]
    },
    {
     "name": "stderr",
     "output_type": "stream",
     "text": [
      "INFO:astropy.wcs.wcs:CTYPE : 'RA---TAN'  'DEC--TAN'  \n"
     ]
    },
    {
     "name": "stdout",
     "output_type": "stream",
     "text": [
      "CTYPE : 'RA---TAN'  'DEC--TAN'  \n"
     ]
    },
    {
     "name": "stderr",
     "output_type": "stream",
     "text": [
      "INFO:astropy.wcs.wcs:CRVAL : 319.6009658704774  0.2921389668899559  \n"
     ]
    },
    {
     "name": "stdout",
     "output_type": "stream",
     "text": [
      "CRVAL : 319.6009658704774  0.2921389668899559  \n"
     ]
    },
    {
     "name": "stderr",
     "output_type": "stream",
     "text": [
      "INFO:astropy.wcs.wcs:CRPIX : 974.0  980.5  \n"
     ]
    },
    {
     "name": "stdout",
     "output_type": "stream",
     "text": [
      "CRPIX : 974.0  980.5  \n"
     ]
    },
    {
     "name": "stderr",
     "output_type": "stream",
     "text": [
      "INFO:astropy.wcs.wcs:CD1_1 CD1_2  : -6.944444547924731e-06  0.0  \n"
     ]
    },
    {
     "name": "stdout",
     "output_type": "stream",
     "text": [
      "CD1_1 CD1_2  : -6.944444547924731e-06  0.0  \n"
     ]
    },
    {
     "name": "stderr",
     "output_type": "stream",
     "text": [
      "INFO:astropy.wcs.wcs:CD2_1 CD2_2  : 0.0  6.944444547924731e-06  \n"
     ]
    },
    {
     "name": "stdout",
     "output_type": "stream",
     "text": [
      "CD2_1 CD2_2  : 0.0  6.944444547924731e-06  \n"
     ]
    },
    {
     "name": "stderr",
     "output_type": "stream",
     "text": [
      "INFO:astropy.wcs.wcs:NAXIS : 1947  1960\n"
     ]
    },
    {
     "name": "stdout",
     "output_type": "stream",
     "text": [
      "NAXIS : 1947  1960\n"
     ]
    },
    {
     "name": "stderr",
     "output_type": "stream",
     "text": [
      "INFO:drizzlepac.adrizzle:-Drizzle input: hst_16231_01_acs_sbc_f150lp_jec401nx_flt.fits[sci,1]\n",
      "WARNING:drizzlepac.adrizzle:No CR mask file found! Input DQ array not updated.\n",
      "INFO:drizzlepac.imageObject:Applying EXPTIME weighting to DQ mask for chip 1\n",
      "INFO:drizzlepac.adrizzle:Using WCSLIB-based coordinate transformation...\n",
      "INFO:drizzlepac.adrizzle:stepsize = 10\n",
      "INFO:drizzlepac.cdriz:-Drizzling using kernel = square\n",
      "\n",
      "INFO:drizzlepac.outputimage:-Generating multi-extension output file:  nx_test4_drz.fits\n"
     ]
    },
    {
     "name": "stdout",
     "output_type": "stream",
     "text": [
      "-Generating multi-extension output file:  nx_test4_drz.fits\n"
     ]
    },
    {
     "name": "stderr",
     "output_type": "stream",
     "text": [
      "INFO:stwcs.wcsutil.altwcs:Deleted all instances of WCS with key A in extensions [1]\n"
     ]
    },
    {
     "name": "stdout",
     "output_type": "stream",
     "text": [
      "Deleted all instances of WCS with key A in extensions [1]\n"
     ]
    },
    {
     "name": "stderr",
     "output_type": "stream",
     "text": [
      "INFO:stwcs.wcsutil.altwcs:Deleted all instances of WCS with key B in extensions [1]\n"
     ]
    },
    {
     "name": "stdout",
     "output_type": "stream",
     "text": [
      "Deleted all instances of WCS with key B in extensions [1]\n"
     ]
    },
    {
     "name": "stderr",
     "output_type": "stream",
     "text": [
      "INFO:drizzlepac.outputimage:Writing out to disk: nx_test4_drz.fits\n"
     ]
    },
    {
     "name": "stdout",
     "output_type": "stream",
     "text": [
      "Writing out to disk: nx_test4_drz.fits\n"
     ]
    },
    {
     "name": "stderr",
     "output_type": "stream",
     "text": [
      "WARNING:py.warnings:/Users/ha/.conda/envs/astroconda/lib/python3.7/site-packages/astropy/io/fits/card.py:1010: VerifyWarning: Card is too long, comment will be truncated.\n",
      "  VerifyWarning)\n",
      "\n",
      "INFO:drizzlepac.util:==== Processing Step Final Drizzle finished at 15:58:45.263 (06/06/2022)\n"
     ]
    },
    {
     "name": "stdout",
     "output_type": "stream",
     "text": [
      "==== Processing Step Final Drizzle finished at 15:58:45.263 (06/06/2022)\n"
     ]
    },
    {
     "name": "stderr",
     "output_type": "stream",
     "text": [
      "INFO:drizzlepac.astrodrizzle:\n"
     ]
    },
    {
     "name": "stdout",
     "output_type": "stream",
     "text": [
      "\n"
     ]
    },
    {
     "name": "stderr",
     "output_type": "stream",
     "text": [
      "INFO:drizzlepac.astrodrizzle:AstroDrizzle Version 3.3.1 is finished processing at 15:58:45.264 (06/06/2022).\n"
     ]
    },
    {
     "name": "stdout",
     "output_type": "stream",
     "text": [
      "AstroDrizzle Version 3.3.1 is finished processing at 15:58:45.264 (06/06/2022).\n"
     ]
    },
    {
     "name": "stderr",
     "output_type": "stream",
     "text": [
      "INFO:drizzlepac.astrodrizzle:\n"
     ]
    },
    {
     "name": "stdout",
     "output_type": "stream",
     "text": [
      "\n"
     ]
    },
    {
     "name": "stderr",
     "output_type": "stream",
     "text": [
      "INFO:drizzlepac.astrodrizzle:\n"
     ]
    },
    {
     "name": "stdout",
     "output_type": "stream",
     "text": [
      "\n"
     ]
    },
    {
     "name": "stderr",
     "output_type": "stream",
     "text": [
      "INFO:drizzlepac.util:\n"
     ]
    },
    {
     "name": "stdout",
     "output_type": "stream",
     "text": [
      "\n"
     ]
    },
    {
     "name": "stderr",
     "output_type": "stream",
     "text": [
      "INFO:drizzlepac.util:   --------------------          --------------------\n"
     ]
    },
    {
     "name": "stdout",
     "output_type": "stream",
     "text": [
      "   --------------------          --------------------\n"
     ]
    },
    {
     "name": "stderr",
     "output_type": "stream",
     "text": [
      "INFO:drizzlepac.util:                   Step          Elapsed time\n"
     ]
    },
    {
     "name": "stdout",
     "output_type": "stream",
     "text": [
      "                   Step          Elapsed time\n"
     ]
    },
    {
     "name": "stderr",
     "output_type": "stream",
     "text": [
      "INFO:drizzlepac.util:   --------------------          --------------------\n"
     ]
    },
    {
     "name": "stdout",
     "output_type": "stream",
     "text": [
      "   --------------------          --------------------\n"
     ]
    },
    {
     "name": "stderr",
     "output_type": "stream",
     "text": [
      "INFO:drizzlepac.util:\n"
     ]
    },
    {
     "name": "stdout",
     "output_type": "stream",
     "text": [
      "\n"
     ]
    },
    {
     "name": "stderr",
     "output_type": "stream",
     "text": [
      "INFO:drizzlepac.util:         Initialization          0.1374 sec.\n"
     ]
    },
    {
     "name": "stdout",
     "output_type": "stream",
     "text": [
      "         Initialization          0.1374 sec.\n"
     ]
    },
    {
     "name": "stderr",
     "output_type": "stream",
     "text": [
      "INFO:drizzlepac.util:            Static Mask          0.0025 sec.\n"
     ]
    },
    {
     "name": "stdout",
     "output_type": "stream",
     "text": [
      "            Static Mask          0.0025 sec.\n"
     ]
    },
    {
     "name": "stderr",
     "output_type": "stream",
     "text": [
      "INFO:drizzlepac.util:           Subtract Sky          0.0305 sec.\n"
     ]
    },
    {
     "name": "stdout",
     "output_type": "stream",
     "text": [
      "           Subtract Sky          0.0305 sec.\n"
     ]
    },
    {
     "name": "stderr",
     "output_type": "stream",
     "text": [
      "INFO:drizzlepac.util:       Separate Drizzle          0.0019 sec.\n"
     ]
    },
    {
     "name": "stdout",
     "output_type": "stream",
     "text": [
      "       Separate Drizzle          0.0019 sec.\n"
     ]
    },
    {
     "name": "stderr",
     "output_type": "stream",
     "text": [
      "INFO:drizzlepac.util:          Create Median          0.0000 sec.\n"
     ]
    },
    {
     "name": "stdout",
     "output_type": "stream",
     "text": [
      "          Create Median          0.0000 sec.\n"
     ]
    },
    {
     "name": "stderr",
     "output_type": "stream",
     "text": [
      "INFO:drizzlepac.util:                   Blot          0.0018 sec.\n"
     ]
    },
    {
     "name": "stdout",
     "output_type": "stream",
     "text": [
      "                   Blot          0.0018 sec.\n"
     ]
    },
    {
     "name": "stderr",
     "output_type": "stream",
     "text": [
      "INFO:drizzlepac.util:                Driz_CR          0.0000 sec.\n"
     ]
    },
    {
     "name": "stdout",
     "output_type": "stream",
     "text": [
      "                Driz_CR          0.0000 sec.\n"
     ]
    },
    {
     "name": "stderr",
     "output_type": "stream",
     "text": [
      "INFO:drizzlepac.util:          Final Drizzle          0.7870 sec.\n"
     ]
    },
    {
     "name": "stdout",
     "output_type": "stream",
     "text": [
      "          Final Drizzle          0.7870 sec.\n"
     ]
    },
    {
     "name": "stderr",
     "output_type": "stream",
     "text": [
      "INFO:drizzlepac.util:   ====================          ====================\n"
     ]
    },
    {
     "name": "stdout",
     "output_type": "stream",
     "text": [
      "   ====================          ====================\n"
     ]
    },
    {
     "name": "stderr",
     "output_type": "stream",
     "text": [
      "INFO:drizzlepac.util:                  Total          0.9610 sec.\n"
     ]
    },
    {
     "name": "stdout",
     "output_type": "stream",
     "text": [
      "                  Total          0.9610 sec.\n"
     ]
    },
    {
     "name": "stderr",
     "output_type": "stream",
     "text": [
      "INFO:drizzlepac.util:\n"
     ]
    },
    {
     "name": "stdout",
     "output_type": "stream",
     "text": [
      "\n"
     ]
    },
    {
     "name": "stderr",
     "output_type": "stream",
     "text": [
      "INFO:drizzlepac.imageObject:Removing intermediate files for hst_16231_01_acs_sbc_f150lp_jec401nx_flt.fits\n",
      "INFO:drizzlepac.util:Trailer file written to:  nx_drz.log\n"
     ]
    },
    {
     "name": "stdout",
     "output_type": "stream",
     "text": [
      "Trailer file written to:  nx_drz.log\n"
     ]
    }
   ],
   "source": [
    "# *no file\n",
    "for filename in lst:\n",
    "    nickname = filename[-11:-9]\n",
    "    astrodrizzle.AstroDrizzle(filename, \n",
    "                              output = nickname + '_test4', \n",
    "                              clean = True,\n",
    "                              build = True,\n",
    "                              context = True,\n",
    "                              runfile = nickname + '_drz.log',\n",
    "                              num_cores = 1,\n",
    "                              in_memory = True,\n",
    "                              resetbits = 0,\n",
    "                              median = False,\n",
    "                              static = False,\n",
    "                              skysub = False,\n",
    "                              driz_separate = False,\n",
    "                              blot = False,\n",
    "                              driz_cr = False,\n",
    "                              final_bits = 65535,\n",
    "                              final_outnx=1947,\n",
    "                              final_outny=1960, \n",
    "                              final_rot = 0.0)"
   ]
  },
  {
   "cell_type": "code",
   "execution_count": 7,
   "id": "25e2135f",
   "metadata": {},
   "outputs": [],
   "source": [
    "file_org = fits.open('hst_16231_01_acs_sbc_f150lp_jec401nr_drz.fits')"
   ]
  },
  {
   "cell_type": "code",
   "execution_count": 9,
   "id": "ab25f3bf",
   "metadata": {},
   "outputs": [],
   "source": [
    "file_meme = fits.open('nr_final_test_drz.fits')"
   ]
  },
  {
   "cell_type": "code",
   "execution_count": 10,
   "id": "751be2e1",
   "metadata": {},
   "outputs": [
    {
     "name": "stdout",
     "output_type": "stream",
     "text": [
      "Filename: hst_16231_01_acs_sbc_f150lp_jec401nr_drz.fits\n",
      "No.    Name      Ver    Type      Cards   Dimensions   Format\n",
      "  0  PRIMARY       1 PrimaryHDU     683   ()      \n",
      "  1  SCI           1 ImageHDU        69   (1947, 1960)   float32   \n",
      "  2  WHT           1 ImageHDU        44   (1947, 1960)   float32   \n",
      "  3  CTX           1 ImageHDU        37   (1947, 1960)   int32   \n",
      "  4  HDRTAB        1 BinTableHDU    638   1R x 314C   [9A, 3A, K, D, D, D, D, D, D, D, D, D, D, D, D, D, K, 3A, 9A, 7A, 18A, D, D, D, D, D, 3A, D, D, D, D, D, D, D, D, D, D, D, D, D, D, 3A, D, D, D, D, K, K, K, D, K, 23A, 9A, 20A, D, D, D, D, D, D, D, D, 3A, D, D, D, D, K, K, 3A, 3A, D, D, D, D, D, D, 3A, D, D, D, D, D, D, D, D, 4A, 12A, 12A, 3A, 4A, 3A, 10A, 10A, D, D, 3A, 3A, 23A, 4A, 8A, 7A, 3A, D, K, D, 6A, 9A, D, D, D, L, 4A, 45A, 3A, K, 6A, 3A, D, D, D, 8A, D, 3A, L, K, L, K, L, K, K, 8A, 12A, D, D, D, D, 3A, 1A, D, 23A, D, D, D, 3A, 23A, L, D, 3A, D, 8A, 3A, 6A, D, L, L, D, D, D, D, D, D, D, D, 23A, D, D, D, D, 23A, K, K, D, 1A, K, K, K, D, K, K, 23A, K, 5A, 7A, D, D, D, D, D, D, D, D, D, D, D, D, D, D, D, D, D, 12A, D, 24A, 3A, D, 3A, 8A, D, K, D, D, 6A, 13A, D, 18A, K, D, K, 4A, D, D, D, D, D, 3A, 23A, D, 8A, D, 29A, D, 3A, D, L, D, D, 3A, 5A, 5A, 1A, D, 3A, K, 1A, 1A, 1A, 1A, D, D, D, D, D, D, 4A, D, 4A, D, 4A, K, D, 3A, D, L, K, K, D, D, D, D, D, K, 3A, L, L, 6A, L, D, D, 24A, D, D, 3A, 8A, 1A, D, K, D, D, L, 5A, 20A, 45A, 4A, K, D, D, D, D, D, D, D, D, D, D, D, D, D, D, 8A, 8A, 3A, 3A, 40A]   \n"
     ]
    }
   ],
   "source": [
    "file_org.info()"
   ]
  },
  {
   "cell_type": "code",
   "execution_count": 11,
   "id": "61548b44",
   "metadata": {},
   "outputs": [
    {
     "name": "stdout",
     "output_type": "stream",
     "text": [
      "Filename: nr_final_test_drz.fits\n",
      "No.    Name      Ver    Type      Cards   Dimensions   Format\n",
      "  0  PRIMARY       1 PrimaryHDU     652   ()      \n",
      "  1  SCI           1 ImageHDU        69   (1947, 1960)   float32   \n",
      "  2  WHT           1 ImageHDU        44   (1947, 1960)   float32   \n",
      "  3  CTX           1 ImageHDU        37   (1947, 1960)   int32   \n",
      "  4  HDRTAB        1 BinTableHDU    633   1R x 312C   [9A, 3A, K, D, D, D, D, D, D, D, D, D, D, D, D, D, K, 3A, 9A, 7A, 18A, D, D, D, D, D, 3A, D, D, D, D, D, D, D, D, D, D, D, D, D, D, 3A, D, D, D, D, K, K, K, D, K, 23A, 9A, 20A, D, D, D, D, D, D, D, D, 3A, D, D, D, D, K, K, 3A, 3A, D, D, D, D, D, D, 3A, D, D, D, D, D, D, D, D, 4A, 12A, 12A, 3A, 4A, 3A, 10A, 10A, D, D, 3A, 3A, 23A, 4A, 8A, 7A, 3A, D, K, D, 6A, 9A, D, D, D, L, 4A, 45A, 3A, K, 6A, 3A, D, D, D, 8A, D, 3A, L, K, L, K, L, K, K, 8A, 12A, D, D, D, D, 3A, 1A, D, 23A, D, D, D, 3A, 23A, L, D, 3A, D, 8A, 3A, 6A, D, L, L, D, D, D, D, D, D, D, D, 23A, D, D, D, D, 23A, K, K, D, 1A, K, K, K, D, K, K, 23A, K, 5A, 7A, D, D, D, D, D, D, D, D, D, D, D, D, D, D, D, D, D, 12A, D, 24A, 3A, D, 3A, 8A, D, K, D, D, 6A, 13A, D, 18A, K, D, K, 4A, D, D, D, D, D, 3A, 23A, D, 8A, D, 29A, D, 3A, D, L, D, D, 3A, 5A, 5A, 1A, D, 3A, K, 1A, 1A, 1A, 1A, D, D, D, D, D, D, 4A, D, 4A, D, 4A, K, D, 3A, D, L, K, K, D, D, D, D, D, K, 3A, L, L, 6A, L, D, D, 24A, D, D, 3A, 8A, 1A, D, K, D, D, 20A, L, 5A, 4A, K, D, D, D, D, D, D, D, D, D, D, D, D, D, D, 8A, 8A, 3A, 3A]   \n"
     ]
    }
   ],
   "source": [
    "file_meme.info()"
   ]
  },
  {
   "cell_type": "code",
   "execution_count": 12,
   "id": "1f58e703",
   "metadata": {},
   "outputs": [
    {
     "data": {
      "text/plain": [
       "SIMPLE  =                    T / conforms to FITS standard                      \n",
       "BITPIX  =                    8 / array data type                                \n",
       "NAXIS   =                    0 / number of array dimensions                     \n",
       "EXTEND  =                    T                                                  \n",
       "COMMENT   FITS (Flexible Image Transport System) format is defined in 'Astronomy\n",
       "COMMENT   and Astrophysics', volume 376, page 359; bibcode: 2001A&A...376..359H \n",
       "                                                                                \n",
       "TELESCOP= 'HST'                / telescope used to acquire data                 \n",
       "INSTRUME= 'ACS   '             / identifier for instrument used to acquire data \n",
       "                                                                                \n",
       "              / DATA DESCRIPTION KEYWORDS                                       \n",
       "                                                                                \n",
       "IMAGETYP= 'EXT               ' / type of exposure identifier                    \n",
       "PRIMESI = 'ACS   '             / instrument designated as prime                 \n",
       "                                                                                \n",
       "              / TARGET INFORMATION                                              \n",
       "                                                                                \n",
       "TARGNAME= 'SDSS-J211824.06+001729.4       ' / proposer's target name            \n",
       "                                                                                \n",
       "              / PROPOSAL INFORMATION                                            \n",
       "                                                                                \n",
       "PROPOSID=                16231 / PEP proposal identifier                        \n",
       "                                                                                \n",
       "              / EXPOSURE INFORMATION                                            \n",
       "                                                                                \n",
       "SUNANGLE=           103.460304 / angle between sun and V1 axis                  \n",
       "MOONANGL=            65.520226 / angle between moon and V1 axis                 \n",
       "SUN_ALT =            -5.825659 / altitude of the sun above Earth's limb         \n",
       "FGSLOCK = 'FINE              ' / commanded FGS lock (FINE,COARSE,GYROS,UNKNOWN) \n",
       "GYROMODE= 'T'                  / number of gyros scheduled, T=3+OBAD            \n",
       "                                                                                \n",
       "DATE-OBS= '2021-05-27'         / UT date of start of observation (yyyy-mm-dd)   \n",
       "EXPSTART=   5.936129314456E+04 / exposure start time (Modified Julian Date)     \n",
       "EXPEND  =   5.936130037418E+04 / exposure end time (Modified Julian Date)       \n",
       "EXPTIME =           624.000000 / exposure duration (seconds)--calculated        \n",
       "TEXPTIME=                624.0                                                  \n",
       "EXPFLAG = 'NORMAL       '      / Exposure interruption indicator                \n",
       "                                                                                \n",
       "                                                                                \n",
       "              / POINTING INFORMATION                                            \n",
       "                                                                                \n",
       "                                                                                \n",
       "              / TARGET OFFSETS (POSTARGS)                                       \n",
       "                                                                                \n",
       "POSTARG1=             0.630000 / POSTARG in axis 1 direction                    \n",
       "POSTARG2=            -0.051000 / POSTARG in axis 2 direction                    \n",
       "                                                                                \n",
       "              / DIAGNOSTIC KEYWORDS                                             \n",
       "                                                                                \n",
       "AWSYSVER= 'v0.4.35 '           / cloud infrastructure package version           \n",
       "AWSDPVER= 'v0.2.18 '           / cloud docker image version                     \n",
       "CSYS_VER= 'caldp_20220406'     / calibration software system version id         \n",
       "                                                                                \n",
       "              / SCIENCE INSTRUMENT CONFIGURATION                                \n",
       "                                                                                \n",
       "OBSTYPE = 'IMAGING       '     / observation type - imaging or spectroscopic    \n",
       "OBSMODE = 'ACCUM     '         / operating mode                                 \n",
       "CTEIMAGE= 'NONE'               / type of Charge Transfer Image, if applicable   \n",
       "SCLAMP  = 'NONE          '     / lamp status, NONE or name of lamp which is on  \n",
       "NRPTEXP =                    1 / number of repeat exposures in set: default 1   \n",
       "SUBARRAY=                    F / data from a subarray (T) or full frame (F)     \n",
       "DETECTOR= 'SBC'                / detector in use: WFC, HRC, or SBC              \n",
       "FILTER1 = 'F150LP            ' / element selected from filter wheel 1           \n",
       "FILTER2 = 'N/A               ' / element selected from filter wheel 2           \n",
       "FW1OFFST=                    0 / computed filter wheel offset                   \n",
       "FW1ERROR=                    F / filter wheel position error flag               \n",
       "FW2OFFST=                    0 / computed filter wheel offset                   \n",
       "FW2ERROR=                    F / filter wheel position error flag               \n",
       "FWSOFFST=                    0 / computed filter wheel offset                   \n",
       "FWSERROR=                    F / filter wheel position error flag               \n",
       "LRFWAVE =             0.000000 / proposed linear ramp filter wavelength         \n",
       "APERTURE= 'SBC             '   / aperture name                                  \n",
       "PROPAPER= 'SBC             '   / proposed aperture name                         \n",
       "DIRIMAGE= 'NONE     '          / direct image for grism or prism exposure       \n",
       "                                                                                \n",
       "              / MAMA OFFSETS                                                    \n",
       "                                                                                \n",
       "                                                                                \n",
       "              / LOCAL RATE CHECK IMAGE                                          \n",
       "                                                                                \n",
       "                                                                                \n",
       "              / CALIBRATION SWITCHES: PERFORM, OMIT, COMPLETE                   \n",
       "                                                                                \n",
       "WRTERR  =                    T / write out error array extension                \n",
       "DQICORR = 'COMPLETE'           / data quality initialization                    \n",
       "LFLGCORR= 'COMPLETE'           / flag pixels for local and global nonlinearities\n",
       "DARKCORR= 'OMIT    '           / Subtract dark image                            \n",
       "FLATCORR= 'COMPLETE'           / flat field data                                \n",
       "PHOTCORR= 'COMPLETE'           / populate photometric header keywords           \n",
       "DRIZCORR= 'COMPLETE'           / drizzle processing                             \n",
       "                                                                                \n",
       "              / CALIBRATION REFERENCE FILES                                     \n",
       "                                                                                \n",
       "BPIXTAB = 'jref$u451251ej_bpx.fits' / bad pixel table                           \n",
       "DARKFILE= 'N/A                    ' / dark image file name                      \n",
       "DFLTFILE= 'N/A                    ' / delta flat field file name                \n",
       "LFLTFILE= 'N/A                    ' / low order flat                            \n",
       "PHOTTAB = 'N/A                    ' / Photometric throughput table              \n",
       "GRAPHTAB= 'N/A                    ' / the HST graph table                       \n",
       "COMPTAB = 'N/A                    ' / the HST components table                  \n",
       "IDCTAB  = 'jref$v6m2008mj_idc.fits' / image distortion correction table         \n",
       "DGEOFILE= 'jref$s5f20000j_dxy.fits' / Distortion correction image               \n",
       "MDRIZTAB= 'jref$ub215379j_mdz.fits' / MultiDrizzle parameter table              \n",
       "CFLTFILE= 'N/A                    ' / Coronagraphic spot image                  \n",
       "SPOTTAB = 'N/A                    ' / Coronagraphic spot offset table           \n",
       "IMPHTTAB= 'jref$64614292j_imp.fits' / Image Photometry Table                    \n",
       "                                                                                \n",
       "              / OTFR KEYWORDS                                                   \n",
       "                                                                                \n",
       "                                                                                \n",
       "              / PATTERN KEYWORDS                                                \n",
       "                                                                                \n",
       "PATTERN1= 'ACS-SBC-DITHER-BOX      ' / primary pattern type                     \n",
       "P1_SHAPE= 'PARALLELOGRAM     ' / primary pattern shape                          \n",
       "P1_PURPS= 'DITHER    '         / primary pattern purpose                        \n",
       "P1_NPTS =                    4 / number of points in primary pattern            \n",
       "P1_PSPAC=             0.894773 / point spacing for primary pattern (arc-sec)    \n",
       "P1_LSPAC=             0.587116 / line spacing for primary pattern (arc-sec)     \n",
       "P1_ANGLE=            64.478514 / angle between sides of parallelogram patt (deg)\n",
       "P1_FRAME= 'POS-TARG '          / coordinate frame of primary pattern            \n",
       "P1_ORINT=            20.151333 / orientation of pattern to coordinate frame (deg\n",
       "P1_CENTR= 'YES'                / center pattern relative to pointing (yes/no)   \n",
       "PATTSTEP=                    2 / position number of this point in the pattern   \n",
       "                                                                                \n",
       "              / ASSOCIATION KEYWORDS                                            \n",
       "                                                                                \n",
       "CRDS_CTX= 'hst_1004.pmap'                                                       \n",
       "CRDS_VER= '11.9.0, b11.4.0, 64d96076d89b32a5687a6b77bb910ab93b3a99b3'           \n",
       "ATODTAB = 'N/A     '                                                            \n",
       "BIASFILE= 'N/A     '                                                            \n",
       "CCDTAB  = 'N/A     '                                                            \n",
       "CRREJTAB= 'N/A     '                                                            \n",
       "FLSHFILE= 'N/A     '                                                            \n",
       "OSCNTAB = 'N/A     '                                                            \n",
       "SATUFILE= 'N/A     '                                                            \n",
       "SHADFILE= 'N/A     '                                                            \n",
       "SNKCFILE= 'N/A     '                                                            \n",
       "DISTNAME= 'jec401nrq_v6m2008mj-xc215013j-NOMODEL'                               \n",
       "SIPNAME = 'jec401nrq_v6m2008mj'                                                 \n",
       "UPWCSVER= '1.7.2   '           / Version of STWCS used to updated the WCS       \n",
       "PYWCSVER= '5.0.2   '           / Version of PYWCS used to updated the WCS       \n",
       "HAPLEVEL=                    0 / Classification level of this product           \n",
       "IPPPSSOO= 'jec401nrq'                                                           \n",
       "RULESVER=                  1.1 / Version ID for header kw rules file            \n",
       "BLENDVER= '1.2.0   '           / Version of blendheader software used           \n",
       "RULEFILE= '/Users/ha/.conda/envs/astroconda/lib/python3.7/site-packages/fitsbl&'\n",
       "CONTINUE  'ender/acs_header.rules&'                                             \n",
       "CONTINUE  '' / Name of header kw rules file                                     \n",
       "NEXTEND =                    4                                                  \n",
       "FILENAME= 'nr_final_test_drz.fits'                                              \n",
       "PROD_VER= 'DrizzlePac 3.3.1'                                                    \n",
       "DRIZPARS= 'nr_drz.log'         / Logfile for processing                         \n",
       "ROOTNAME= 'nr_final_test'                                                       \n",
       "ASN_MTYP= 'PROD-DTH'                                                            \n",
       "NDRIZIM =                    1 / Drizzle, No. images drizzled onto output       \n",
       "D001VER = 'Callable C-based DRIZZLE Version 0.8 (20th May 2009)' / Drizzle, task\n",
       "D001GEOM= 'wcs     '           / Drizzle, source of geometric information       \n",
       "D001DATA= 'hst_16231_01_acs_sbc_f150lp_jec401nr_flt.fits[sci,1]' / Drizzle, inpu\n",
       "D001DEXP=                624.0 / Drizzle, input image exposure time (s)         \n",
       "D001OUDA= 'nr_final_test_drz.fits' / Drizzle, output data image                 \n",
       "D001OUWE= 'nr_final_test_drz_wht.fits' / Drizzle, output weighting image        \n",
       "D001OUCO= 'nr_final_test_drz_ctx.fits' / Drizzle, output context image          \n",
       "D001MASK= 'hst_16231_01_acs_sbc_f150lp_jec401nr_sci1_final_mask.fits' / Drizzle,\n",
       "D001WTSC=                    1 / Drizzle, weighting factor for input image      \n",
       "D001KERN= 'square  '           / Drizzle, form of weight distribution kernel    \n",
       "D001PIXF=                  1.0 / Drizzle, linear size of drop                   \n",
       "D001COEF= 'SIP     '           / Drizzle, source of coefficients                \n",
       "D001OUUN= 'cps     '           / Drizzle, units of output image - counts or cps \n",
       "D001FVAL= 'INDEF   '           / Drizzle, fill value for zero weight output pix \n",
       "D001WKEY= '' / Input image WCS Version used                                     \n",
       "D001SCAL=  0.02500000037252903 / Drizzle, pixel size (arcsec) of output image   \n",
       "D001ISCL=  0.02500000037252903 / Drizzle, default IDCTAB pixel size(arcsec)     \n",
       "HISTORY DQICORR complete ...                                                    \n",
       "HISTORY   DQ array initialized ...                                              \n",
       "HISTORY   reference table jref$u451251ej_bpx.fits                               \n",
       "HISTORY GLINCORR complete ...                                                   \n",
       "HISTORY LFLGCORR complete ...                                                   \n",
       "HISTORY   reference table jref$k9c13374j_lin.fits                               \n",
       "HISTORY     GROUND                                                              \n",
       "HISTORY     prepared by G. Meurer following STIS parameters of T. Danks         \n",
       "HISTORY Uncertainty array initialized.                                          \n",
       "HISTORY FLATCORR complete ...                                                   \n",
       "HISTORY   reference image jref$36h2201jj_pfl.fits                               \n",
       "HISTORY     INFLIGHT 27/05/2002 02/04/2019                                      \n",
       "HISTORY     Inflight SBC LP-Flat                                                \n",
       "HISTORY PHOTCORR complete ...                                                   \n",
       "HISTORY   reference table jref$64614292j_imp.fits                               \n",
       "HISTORY ============================================================            \n",
       "HISTORY Header Generation rules:                                                \n",
       "HISTORY     Rules used to combine headers of input files                        \n",
       "HISTORY     Start of rules...                                                   \n",
       "HISTORY ------------------------------------------------------------            \n",
       "HISTORY !VERSION = 1.1                                                          \n",
       "HISTORY !INSTRUMENT = ACS                                                       \n",
       "HISTORY ROOTNAME                                                                \n",
       "HISTORY EXTNAME                                                                 \n",
       "HISTORY EXTVER                                                                  \n",
       "HISTORY A_0_2                                                                   \n",
       "HISTORY A_0_3                                                                   \n",
       "HISTORY A_0_4                                                                   \n",
       "HISTORY A_1_1                                                                   \n",
       "HISTORY A_1_2                                                                   \n",
       "HISTORY A_1_3                                                                   \n",
       "HISTORY A_2_0                                                                   \n",
       "HISTORY A_2_1                                                                   \n",
       "HISTORY A_2_2                                                                   \n",
       "HISTORY A_3_0                                                                   \n",
       "HISTORY A_3_1                                                                   \n",
       "HISTORY A_4_0                                                                   \n",
       "HISTORY ACQNAME                                                                 \n",
       "HISTORY A_ORDER                                                                 \n",
       "HISTORY APERTURE                                                                \n",
       "HISTORY ASN_ID                                                                  \n",
       "HISTORY ASN_MTYP                                                                \n",
       "HISTORY ASN_TAB                                                                 \n",
       "HISTORY ATODCORR                                                                \n",
       "HISTORY ATODGNA                                                                 \n",
       "HISTORY ATODGNB                                                                 \n",
       "HISTORY ATODGNC                                                                 \n",
       "HISTORY ATODGND                                                                 \n",
       "HISTORY ATODTAB                                                                 \n",
       "HISTORY B_0_2                                                                   \n",
       "HISTORY B_0_3                                                                   \n",
       "HISTORY B_0_4                                                                   \n",
       "HISTORY B_1_1                                                                   \n",
       "HISTORY B_1_2                                                                   \n",
       "HISTORY B_1_3                                                                   \n",
       "HISTORY B_2_0                                                                   \n",
       "HISTORY B_2_1                                                                   \n",
       "HISTORY B_2_2                                                                   \n",
       "HISTORY B_3_0                                                                   \n",
       "HISTORY B_3_1                                                                   \n",
       "HISTORY B_4_0                                                                   \n",
       "HISTORY BADINPDQ                                                                \n",
       "HISTORY BIASCORR                                                                \n",
       "HISTORY BIASFILE                                                                \n",
       "HISTORY BIASLEVA                                                                \n",
       "HISTORY BIASLEVB                                                                \n",
       "HISTORY BIASLEVC                                                                \n",
       "HISTORY BIASLEVD                                                                \n",
       "HISTORY BINAXIS1                                                                \n",
       "HISTORY BINAXIS2                                                                \n",
       "HISTORY BITPIX                                                                  \n",
       "HISTORY BLEVCORR                                                                \n",
       "HISTORY B_ORDER                                                                 \n",
       "HISTORY BPIXTAB                                                                 \n",
       "HISTORY BUNIT                                                                   \n",
       "HISTORY CAL_VER                                                                 \n",
       "HISTORY CBLKSIZ                                                                 \n",
       "HISTORY CCDAMP                                                                  \n",
       "HISTORY CCDCHIP                                                                 \n",
       "HISTORY CCDGAIN                                                                 \n",
       "HISTORY CCDOFSTA                                                                \n",
       "HISTORY CCDOFSTB                                                                \n",
       "HISTORY CCDOFSTC                                                                \n",
       "HISTORY CCDOFSTD                                                                \n",
       "HISTORY CCDTAB                                                                  \n",
       "HISTORY CD1_1                                                                   \n",
       "HISTORY CD1_2                                                                   \n",
       "HISTORY CD2_1                                                                   \n",
       "HISTORY CD2_2                                                                   \n",
       "HISTORY CENTERA1                                                                \n",
       "HISTORY CENTERA2                                                                \n",
       "HISTORY CFLTFILE                                                                \n",
       "HISTORY COMPTAB                                                                 \n",
       "HISTORY COMPTYP                                                                 \n",
       "HISTORY CRCORR                                                                  \n",
       "HISTORY CRMASK                                                                  \n",
       "HISTORY CRPIX1                                                                  \n",
       "HISTORY CRPIX2                                                                  \n",
       "HISTORY CRRADIUS                                                                \n",
       "HISTORY CRREJTAB                                                                \n",
       "HISTORY CRSIGMAS                                                                \n",
       "HISTORY CRSPLIT                                                                 \n",
       "HISTORY CRTHRESH                                                                \n",
       "HISTORY CRVAL1                                                                  \n",
       "HISTORY CRVAL2                                                                  \n",
       "HISTORY CTE_NAME                                                                \n",
       "HISTORY CTE_VER                                                                 \n",
       "HISTORY CTEDIR                                                                  \n",
       "HISTORY CTEIMAGE                                                                \n",
       "HISTORY CTYPE1                                                                  \n",
       "HISTORY CTYPE2                                                                  \n",
       "HISTORY D2IMFILE                                                                \n",
       "HISTORY DARKCORR                                                                \n",
       "HISTORY DARKFILE                                                                \n",
       "HISTORY DATE                                                                    \n",
       "HISTORY DATE-OBS                                                                \n",
       "HISTORY DEC_APER                                                                \n",
       "HISTORY DEC_TARG                                                                \n",
       "HISTORY DETECTOR                                                                \n",
       "HISTORY DFLTFILE                                                                \n",
       "HISTORY DGEOFILE                                                                \n",
       "HISTORY DIRIMAGE                                                                \n",
       "HISTORY DQICORR                                                                 \n",
       "HISTORY DRIZCORR                                                                \n",
       "HISTORY DRKCFILE                                                                \n",
       "HISTORY EQUINOX                                                                 \n",
       "HISTORY ERRCNT                                                                  \n",
       "HISTORY EXPEND                                                                  \n",
       "HISTORY EXPFLAG                                                                 \n",
       "HISTORY EXPNAME                                                                 \n",
       "HISTORY EXPSCORR                                                                \n",
       "HISTORY EXPSTART                                                                \n",
       "HISTORY EXPTIME                                                                 \n",
       "HISTORY EXTEND                                                                  \n",
       "HISTORY FGSLOCK                                                                 \n",
       "HISTORY FILENAME                                                                \n",
       "HISTORY FILETYPE                                                                \n",
       "HISTORY FILLCNT                                                                 \n",
       "HISTORY FILTER1                                                                 \n",
       "HISTORY FILTER2                                                                 \n",
       "HISTORY FLASHCUR                                                                \n",
       "HISTORY FLASHDUR                                                                \n",
       "HISTORY FLASHSTA                                                                \n",
       "HISTORY FLATCORR                                                                \n",
       "HISTORY FLSHCORR                                                                \n",
       "HISTORY FLSHFILE                                                                \n",
       "HISTORY FW1ERROR                                                                \n",
       "HISTORY FW1OFFST                                                                \n",
       "HISTORY FW2ERROR                                                                \n",
       "HISTORY FW2OFFST                                                                \n",
       "HISTORY FWSERROR                                                                \n",
       "HISTORY FWSOFFST                                                                \n",
       "HISTORY GCOUNT                                                                  \n",
       "HISTORY GLINCORR                                                                \n",
       "HISTORY GLOBLIM                                                                 \n",
       "HISTORY GLOBRATE                                                                \n",
       "HISTORY GOODMAX                                                                 \n",
       "HISTORY GOODMEAN                                                                \n",
       "HISTORY GOODMIN                                                                 \n",
       "HISTORY GRAPHTAB                                                                \n",
       "HISTORY GYROMODE                                                                \n",
       "HISTORY IDCSCALE                                                                \n",
       "HISTORY IDCTAB                                                                  \n",
       "HISTORY IDCTHETA                                                                \n",
       "HISTORY IDCV2REF                                                                \n",
       "HISTORY IDCV3REF                                                                \n",
       "HISTORY IMAGETYP                                                                \n",
       "HISTORY IMPHTTAB                                                                \n",
       "HISTORY INHERIT                                                                 \n",
       "HISTORY INITGUES                                                                \n",
       "HISTORY INSTRUME                                                                \n",
       "HISTORY JWROTYPE                                                                \n",
       "HISTORY LFLGCORR                                                                \n",
       "HISTORY LFLTFILE                                                                \n",
       "HISTORY LINENUM                                                                 \n",
       "HISTORY LOSTPIX                                                                 \n",
       "HISTORY LRC_FAIL                                                                \n",
       "HISTORY LRC_XSTS                                                                \n",
       "HISTORY LRFWAVE                                                                 \n",
       "HISTORY LTM1_1                                                                  \n",
       "HISTORY LTM2_2                                                                  \n",
       "HISTORY LTV1                                                                    \n",
       "HISTORY LTV2                                                                    \n",
       "HISTORY MDECODT1                                                                \n",
       "HISTORY MDECODT2                                                                \n",
       "HISTORY MDRIZSKY                                                                \n",
       "HISTORY MDRIZTAB                                                                \n",
       "HISTORY MEANBLEV                                                                \n",
       "HISTORY MEANDARK                                                                \n",
       "HISTORY MEANEXP                                                                 \n",
       "HISTORY MEANFLSH                                                                \n",
       "HISTORY MLINTAB                                                                 \n",
       "HISTORY MOFFSET1                                                                \n",
       "HISTORY MOFFSET2                                                                \n",
       "HISTORY MOONANGL                                                                \n",
       "HISTORY MTFLAG                                                                  \n",
       "HISTORY NAXIS                                                                   \n",
       "HISTORY NAXIS1                                                                  \n",
       "HISTORY NAXIS2                                                                  \n",
       "HISTORY NCOMBINE                                                                \n",
       "HISTORY NEXTEND                                                                 \n",
       "HISTORY NGOODPIX                                                                \n",
       "HISTORY NPOLFILE                                                                \n",
       "HISTORY NRPTEXP                                                                 \n",
       "HISTORY OBSMODE                                                                 \n",
       "HISTORY OBSTYPE                                                                 \n",
       "HISTORY OCD1_1                                                                  \n",
       "HISTORY OCD1_2                                                                  \n",
       "HISTORY OCD2_1                                                                  \n",
       "HISTORY OCD2_2                                                                  \n",
       "HISTORY OCRPIX1                                                                 \n",
       "HISTORY OCRPIX2                                                                 \n",
       "HISTORY OCRVAL1                                                                 \n",
       "HISTORY OCRVAL2                                                                 \n",
       "HISTORY OCTYPE1                                                                 \n",
       "HISTORY OCTYPE2                                                                 \n",
       "HISTORY OCX10                                                                   \n",
       "HISTORY OCX11                                                                   \n",
       "HISTORY OCY10                                                                   \n",
       "HISTORY OCY11                                                                   \n",
       "HISTORY ONAXIS1                                                                 \n",
       "HISTORY ONAXIS2                                                                 \n",
       "HISTORY OORIENTA                                                                \n",
       "HISTORY OPUS_VER                                                                \n",
       "HISTORY ORIENTAT                                                                \n",
       "HISTORY ORIGIN                                                                  \n",
       "HISTORY OSCNTAB                                                                 \n",
       "HISTORY P1_ANGLE                                                                \n",
       "HISTORY P1_CENTR                                                                \n",
       "HISTORY P1_FRAME                                                                \n",
       "HISTORY P1_LSPAC                                                                \n",
       "HISTORY P1_NPTS                                                                 \n",
       "HISTORY P1_ORINT                                                                \n",
       "HISTORY P1_PSPAC                                                                \n",
       "HISTORY P1_PURPS                                                                \n",
       "HISTORY P1_SHAPE                                                                \n",
       "HISTORY PA_APER                                                                 \n",
       "HISTORY PATTERN1                                                                \n",
       "HISTORY PATTSTEP                                                                \n",
       "HISTORY PA_V3                                                                   \n",
       "HISTORY PCOUNT                                                                  \n",
       "HISTORY PCTECORR                                                                \n",
       "HISTORY PCTEFRAC                                                                \n",
       "HISTORY PCTENSMD                                                                \n",
       "HISTORY PCTERNCL                                                                \n",
       "HISTORY PCTESHFT                                                                \n",
       "HISTORY PCTESMIT                                                                \n",
       "HISTORY PCTETAB                                                                 \n",
       "HISTORY PFLTFILE                                                                \n",
       "HISTORY PHOTBW                                                                  \n",
       "HISTORY PHOTCORR                                                                \n",
       "HISTORY PHOTFLAM                                                                \n",
       "HISTORY PHOTMODE                                                                \n",
       "HISTORY PHOTPLAM                                                                \n",
       "HISTORY PHOTTAB                                                                 \n",
       "HISTORY PHOTZPT                                                                 \n",
       "HISTORY PODPSFF                                                                 \n",
       "HISTORY POSTARG1                                                                \n",
       "HISTORY POSTARG2                                                                \n",
       "HISTORY PRIMESI                                                                 \n",
       "HISTORY PR_INV_F                                                                \n",
       "HISTORY PR_INV_L                                                                \n",
       "HISTORY PR_INV_M                                                                \n",
       "HISTORY PROCTIME                                                                \n",
       "HISTORY PROPAPER                                                                \n",
       "HISTORY PROPOSID                                                                \n",
       "HISTORY QUALCOM1                                                                \n",
       "HISTORY QUALCOM2                                                                \n",
       "HISTORY QUALCOM3                                                                \n",
       "HISTORY QUALITY                                                                 \n",
       "HISTORY RA_APER                                                                 \n",
       "HISTORY RA_TARG                                                                 \n",
       "HISTORY READNSEA                                                                \n",
       "HISTORY READNSEB                                                                \n",
       "HISTORY READNSEC                                                                \n",
       "HISTORY READNSED                                                                \n",
       "HISTORY REFFRAME                                                                \n",
       "HISTORY REJ_RATE                                                                \n",
       "HISTORY RPTCORR                                                                 \n",
       "HISTORY SCALENSE                                                                \n",
       "HISTORY SCLAMP                                                                  \n",
       "HISTORY SDQFLAGS                                                                \n",
       "HISTORY SHADCORR                                                                \n",
       "HISTORY SHADFILE                                                                \n",
       "HISTORY SHUTRPOS                                                                \n",
       "HISTORY SIMPLE                                                                  \n",
       "HISTORY SIZAXIS1                                                                \n",
       "HISTORY SIZAXIS2                                                                \n",
       "HISTORY SKYSUB                                                                  \n",
       "HISTORY SKYSUM                                                                  \n",
       "HISTORY SNRMAX                                                                  \n",
       "HISTORY SNRMEAN                                                                 \n",
       "HISTORY SNRMIN                                                                  \n",
       "HISTORY SOFTERRS                                                                \n",
       "HISTORY SPOTTAB                                                                 \n",
       "HISTORY STATFLAG                                                                \n",
       "HISTORY STDCFFF                                                                 \n",
       "HISTORY STDCFFP                                                                 \n",
       "HISTORY SUBARRAY                                                                \n",
       "HISTORY SUN_ALT                                                                 \n",
       "HISTORY SUNANGLE                                                                \n",
       "HISTORY TARGNAME                                                                \n",
       "HISTORY TDDALPHA                                                                \n",
       "HISTORY TDDBETA                                                                 \n",
       "HISTORY TELESCOP                                                                \n",
       "HISTORY TIME-OBS                                                                \n",
       "HISTORY T_SGSTAR                                                                \n",
       "HISTORY VAFACTOR                                                                \n",
       "HISTORY WCSAXES                                                                 \n",
       "HISTORY WCSCDATE                                                                \n",
       "HISTORY WFCMPRSD                                                                \n",
       "HISTORY WCSNAME                                                                 \n",
       "HISTORY WRTERR                                                                  \n",
       "HISTORY XTENSION                                                                \n",
       "HISTORY WCSNAMEO                                                                \n",
       "HISTORY WCSAXESO                                                                \n",
       "HISTORY LONPOLEO                                                                \n",
       "HISTORY LATPOLEO                                                                \n",
       "HISTORY RESTFRQO                                                                \n",
       "HISTORY RESTWAVO                                                                \n",
       "HISTORY CD1_1O                                                                  \n",
       "HISTORY CD1_2O                                                                  \n",
       "HISTORY CD2_1O                                                                  \n",
       "HISTORY CD2_2O                                                                  \n",
       "HISTORY CDELT1O                                                                 \n",
       "HISTORY CDELT2O                                                                 \n",
       "HISTORY CRPIX1O                                                                 \n",
       "HISTORY CRPIX2O                                                                 \n",
       "HISTORY CRVAL1O                                                                 \n",
       "HISTORY CRVAL2O                                                                 \n",
       "HISTORY CTYPE1O                                                                 \n",
       "HISTORY CTYPE2O                                                                 \n",
       "HISTORY CUNIT1O                                                                 \n",
       "HISTORY CUNIT2O                                                                 \n",
       "HISTORY APERTURE  APERTURE  multi                                               \n",
       "HISTORY DETECTOR  DETECTOR  first                                               \n",
       "HISTORY EXPEND    EXPEND    max                                                 \n",
       "HISTORY EXPSTART  EXPSTART  min                                                 \n",
       "HISTORY EXPTIME   TEXPTIME  sum                                                 \n",
       "HISTORY EXPTIME   EXPTIME   sum                                                 \n",
       "HISTORY FILTER1   FILTER1   multi                                               \n",
       "HISTORY FILTER2   FILTER2   multi                                               \n",
       "HISTORY GOODMAX   GOODMAX   max                                                 \n",
       "HISTORY GOODMEAN  GOODMEAN  mean                                                \n",
       "HISTORY GOODMIN   GOODMIN   min                                                 \n",
       "HISTORY INHERIT   INHERIT   first # maintain IRAF compatibility                 \n",
       "HISTORY INSTRUME  INSTRUME  first                                               \n",
       "HISTORY LRFWAVE   LRFWAVE   first                                               \n",
       "HISTORY NCOMBINE  NCOMBINE  sum                                                 \n",
       "HISTORY MDRIZSKY  MDRIZSKY  mean                                                \n",
       "HISTORY PHOTBW    PHOTBW    mean                                                \n",
       "HISTORY PHOTFLAM  PHOTFLAM  mean                                                \n",
       "HISTORY PHOTMODE  PHOTMODE  first                                               \n",
       "HISTORY PHOTPLAM  PHOTPLAM  mean                                                \n",
       "HISTORY PHOTZPT   PHOTZPT   mean                                                \n",
       "HISTORY PROPOSID  PROPOSID  first                                               \n",
       "HISTORY SNRMAX    SNRMAX    max                                                 \n",
       "HISTORY SNRMEAN   SNRMEAN   mean                                                \n",
       "HISTORY SNRMIN    SNRMIN    min                                                 \n",
       "HISTORY TARGNAME  TARGNAME  first                                               \n",
       "HISTORY TELESCOP  TELESCOP  first                                               \n",
       "HISTORY WCSNAME   WCSNAME   first                                               \n",
       "HISTORY ATODCORR  ATODCORR  multi                                               \n",
       "HISTORY ATODGNA   ATODGNA   first                                               \n",
       "HISTORY ATODGNB   ATODGNB   first                                               \n",
       "HISTORY ATODGNC   ATODGNC   first                                               \n",
       "HISTORY ATODGND   ATODGND   first                                               \n",
       "HISTORY ATODTAB   ATODTAB   multi                                               \n",
       "HISTORY BADINPDQ  BADINPDQ  sum                                                 \n",
       "HISTORY BIASCORR  BIASCORR  multi                                               \n",
       "HISTORY BIASFILE  BIASFILE  multi                                               \n",
       "HISTORY BLEVCORR  BLEVCORR  multi                                               \n",
       "HISTORY BPIXTAB   BPIXTAB   multi                                               \n",
       "HISTORY CCDCHIP   CCDCHIP   first                                               \n",
       "HISTORY CCDGAIN   CCDGAIN   first                                               \n",
       "HISTORY CCDOFSTA  CCDOFSTA  first                                               \n",
       "HISTORY CCDOFSTB  CCDOFSTB  first                                               \n",
       "HISTORY CCDOFSTC  CCDOFSTC  first                                               \n",
       "HISTORY CCDOFSTD  CCDOFSTD  first                                               \n",
       "HISTORY CCDTAB      CCDTAB    multi                                             \n",
       "HISTORY CFLTFILE  CFLTFILE  multi                                               \n",
       "HISTORY COMPTAB   COMPTAB   multi                                               \n",
       "HISTORY CRCORR      CRCORR    multi                                             \n",
       "HISTORY CRMASK      CRMASK    first                                             \n",
       "HISTORY CRRADIUS  CRRADIUS  first                                               \n",
       "HISTORY CRREJTAB  CRREJTAB  multi                                               \n",
       "HISTORY CRSPLIT   CRSPLIT   first                                               \n",
       "HISTORY CRTHRESH  CRTHRESH  first                                               \n",
       "HISTORY CTEDIR      CTEDIR    multi                                             \n",
       "HISTORY CTEIMAGE  CTEIMAGE  first                                               \n",
       "HISTORY DARKCORR  DARKCORR  multi                                               \n",
       "HISTORY DARKFILE  DARKFILE  multi                                               \n",
       "HISTORY DATE-OBS  DATE-OBS  first                                               \n",
       "HISTORY DEC_APER  DEC_APER  first                                               \n",
       "HISTORY DFLTFILE  DFLTFILE  multi                                               \n",
       "HISTORY DGEOFILE  DGEOFILE  multi                                               \n",
       "HISTORY DIRIMAGE  DIRIMAGE  multi                                               \n",
       "HISTORY DQICORR   DQICORR   multi                                               \n",
       "HISTORY DRIZCORR  DRIZCORR  multi                                               \n",
       "HISTORY EXPFLAG   EXPFLAG   multi                                               \n",
       "HISTORY EXPSCORR  EXPSCORR  multi                                               \n",
       "HISTORY FGSLOCK   FGSLOCK   multi                                               \n",
       "HISTORY FLASHCUR  FLASHCUR  multi                                               \n",
       "HISTORY FLASHDUR  FLASHDUR  first                                               \n",
       "HISTORY FLASHSTA  FLASHSTA  first                                               \n",
       "HISTORY FLATCORR  FLATCORR  multi                                               \n",
       "HISTORY FLSHCORR  FLSHCORR  multi                                               \n",
       "HISTORY FLSHFILE  FLSHFILE  multi                                               \n",
       "HISTORY FW1ERROR  FW1ERROR  multi                                               \n",
       "HISTORY FW1OFFST  FW1OFFST  first                                               \n",
       "HISTORY FW2ERROR  FW2ERROR  multi                                               \n",
       "HISTORY FW2OFFST  FW2OFFST  first                                               \n",
       "HISTORY FWSERROR  FWSERROR  multi                                               \n",
       "HISTORY FWSOFFST  FWSOFFST  first                                               \n",
       "HISTORY GRAPHTAB  GRAPHTAB  multi                                               \n",
       "HISTORY GYROMODE  GYROMODE  multi                                               \n",
       "HISTORY IDCTAB      IDCTAB    multi                                             \n",
       "HISTORY IMAGETYP  IMAGETYP  first                                               \n",
       "HISTORY IMPHTTAB  IMPHTTAB  multi                                               \n",
       "HISTORY LFLGCORR  LFLGCORR  multi                                               \n",
       "HISTORY LFLTFILE  LFLTFILE  multi                                               \n",
       "HISTORY LTM1_1    LTM1_1    float_one                                           \n",
       "HISTORY LTM2_2    LTM2_2    float_one                                           \n",
       "HISTORY MDRIZTAB  MDRIZTAB  multi                                               \n",
       "HISTORY MEANEXP   MEANEXP   first                                               \n",
       "HISTORY MOONANGL  MOONANGL  first                                               \n",
       "HISTORY NRPTEXP   NRPTEXP   first                                               \n",
       "HISTORY OBSMODE   OBSMODE   multi                                               \n",
       "HISTORY OBSTYPE   OBSTYPE   first                                               \n",
       "HISTORY OSCNTAB   OSCNTAB   multi                                               \n",
       "HISTORY P1_ANGLE  P1_ANGLE  first                                               \n",
       "HISTORY P1_CENTR  P1_CENTR  multi                                               \n",
       "HISTORY P1_FRAME  P1_FRAME  multi                                               \n",
       "HISTORY P1_LSPAC  P1_LSPAC  first                                               \n",
       "HISTORY P1_NPTS   P1_NPTS   first                                               \n",
       "HISTORY P1_ORINT  P1_ORINT  first                                               \n",
       "HISTORY P1_PSPAC  P1_PSPAC  first                                               \n",
       "HISTORY P1_PURPS  P1_PURPS  multi                                               \n",
       "HISTORY P1_SHAPE  P1_SHAPE  multi                                               \n",
       "HISTORY P2_ANGLE  P2_ANGLE  first                                               \n",
       "HISTORY P2_CENTR  P2_CENTR  multi                                               \n",
       "HISTORY P2_FRAME  P2_FRAME  multi                                               \n",
       "HISTORY P2_LSPAC  P2_LSPAC  first                                               \n",
       "HISTORY P2_NPTS   P2_NPTS   first                                               \n",
       "HISTORY P2_ORINT  P2_ORINT  first                                               \n",
       "HISTORY P2_PSPAC  P2_PSPAC  first                                               \n",
       "HISTORY P2_PURPS  P2_PURPS  multi                                               \n",
       "HISTORY P2_SHAPE  P2_SHAPE  multi                                               \n",
       "HISTORY PATTERN1  PATTERN1  multi                                               \n",
       "HISTORY PATTERN2  PATTERN2  multi                                               \n",
       "HISTORY PATTSTEP  PATTSTEP  first                                               \n",
       "HISTORY PHOTCORR  PHOTCORR  multi                                               \n",
       "HISTORY PHOTTAB   PHOTTAB   multi                                               \n",
       "HISTORY POSTARG1  POSTARG1  first                                               \n",
       "HISTORY POSTARG2  POSTARG2  first                                               \n",
       "HISTORY PRIMESI   PRIMESI   multi                                               \n",
       "HISTORY PROPAPER  PROPAPER  multi                                               \n",
       "HISTORY RA_APER   RA_APER   first                                               \n",
       "HISTORY READNSEA  READNSEA  first                                               \n",
       "HISTORY READNSEB  READNSEB  first                                               \n",
       "HISTORY READNSEC  READNSEC  first                                               \n",
       "HISTORY READNSED  READNSED  first                                               \n",
       "HISTORY REJ_RATE  REJ_RATE  first                                               \n",
       "HISTORY SCALENSE  SCALENSE  first                                               \n",
       "HISTORY SCLAMP      SCLAMP    multi                                             \n",
       "HISTORY SHADCORR  SHADCORR  multi                                               \n",
       "HISTORY SHADFILE  SHADFILE  multi                                               \n",
       "HISTORY SHUTRPOS  SHUTRPOS  multi                                               \n",
       "HISTORY SKYSUB      SKYSUB    multi                                             \n",
       "HISTORY SKYSUM      SKYSUM    sum                                               \n",
       "HISTORY SPOTTAB   SPOTTAB   multi                                               \n",
       "HISTORY SUBARRAY  SUBARRAY  first                                               \n",
       "HISTORY SUNANGLE  SUNANGLE  first                                               \n",
       "HISTORY SUN_ALT   SUN_ALT   first                                               \n",
       "HISTORY WRTERR      WRTERR    multi                                             \n",
       "HISTORY ------------------------------------------------------------            \n",
       "HISTORY     End of rules...                                                     \n",
       "HISTORY ============================================================            \n",
       "HISTORY AstroDrizzle processing performed using:                                \n",
       "HISTORY     AstroDrizzle Version 3.3.1                                          \n",
       "HISTORY     PyFITS Version 4.3.1                                                \n",
       "HISTORY     Numpy Version 1.21.5                                                "
      ]
     },
     "execution_count": 12,
     "metadata": {},
     "output_type": "execute_result"
    }
   ],
   "source": [
    "file_meme[0].header"
   ]
  },
  {
   "cell_type": "code",
   "execution_count": 13,
   "id": "43b66acc",
   "metadata": {},
   "outputs": [
    {
     "data": {
      "text/plain": [
       "SIMPLE  =                    T / conforms to FITS standard                      \n",
       "BITPIX  =                    8 / array data type                                \n",
       "NAXIS   =                    0 / number of array dimensions                     \n",
       "EXTEND  =                    T                                                  \n",
       "COMMENT   FITS (Flexible Image Transport System) format is defined in 'Astronomy\n",
       "COMMENT   and Astrophysics', volume 376, page 359; bibcode: 2001A&A...376..359H \n",
       "                                                                                \n",
       "TELESCOP= 'HST'                / telescope used to acquire data                 \n",
       "INSTRUME= 'ACS   '             / identifier for instrument used to acquire data \n",
       "EQUINOX =               2000.0 / equinox of celestial coord. system             \n",
       "                                                                                \n",
       "              / DATA DESCRIPTION KEYWORDS                                       \n",
       "                                                                                \n",
       "IMAGETYP= 'EXT               ' / type of exposure identifier                    \n",
       "PRIMESI = 'ACS   '             / instrument designated as prime                 \n",
       "                                                                                \n",
       "              / TARGET INFORMATION                                              \n",
       "                                                                                \n",
       "TARGNAME= 'SDSS-J211824.06+001729.4       ' / proposer's target name            \n",
       "RA_TARG =   3.196002500000E+02 / right ascension of the target (deg) (J2000)    \n",
       "DEC_TARG=   2.915000000000E-01 / declination of the target (deg) (J2000)        \n",
       "                                                                                \n",
       "              / PROPOSAL INFORMATION                                            \n",
       "                                                                                \n",
       "PROPOSID=                16231 / PEP proposal identifier                        \n",
       "LINENUM = '01.001         '    / proposal logsheet line number                  \n",
       "PR_INV_L= 'Rupke                         ' / last name of principal investigator\n",
       "PR_INV_F= 'David               ' / first name of principal investigator         \n",
       "PR_INV_M= '                    ' / middle name / initial of principal investigat\n",
       "                                                                                \n",
       "              / EXPOSURE INFORMATION                                            \n",
       "                                                                                \n",
       "SUNANGLE=           103.460304 / angle between sun and V1 axis                  \n",
       "MOONANGL=            65.520226 / angle between moon and V1 axis                 \n",
       "SUN_ALT =            -5.825659 / altitude of the sun above Earth's limb         \n",
       "FGSLOCK = 'FINE              ' / commanded FGS lock (FINE,COARSE,GYROS,UNKNOWN) \n",
       "GYROMODE= 'T'                  / number of gyros scheduled, T=3+OBAD            \n",
       "REFFRAME= 'ICRS    '           / guide star catalog version                     \n",
       "MTFLAG  = ' '                  / moving target flag; T if it is a moving target \n",
       "                                                                                \n",
       "DATE-OBS= '2021-05-27'         / UT date of start of observation (yyyy-mm-dd)   \n",
       "TIME-OBS= '07:02:07'           / UT time of start of observation (hh:mm:ss)     \n",
       "EXPSTART=   5.936129314456E+04 / exposure start time (Modified Julian Date)     \n",
       "EXPEND  =   5.936130037418E+04 / exposure end time (Modified Julian Date)       \n",
       "EXPTIME =           624.000000 / exposure duration (seconds)--calculated        \n",
       "TEXPTIME=                624.0                                                  \n",
       "EXPFLAG = 'NORMAL       '      / Exposure interruption indicator                \n",
       "                                                                                \n",
       "                                                                                \n",
       "              / POINTING INFORMATION                                            \n",
       "                                                                                \n",
       "PA_V3   =            56.999378 / position angle of V3-axis of HST (deg)         \n",
       "                                                                                \n",
       "              / TARGET OFFSETS (POSTARGS)                                       \n",
       "                                                                                \n",
       "POSTARG1=             0.630000 / POSTARG in axis 1 direction                    \n",
       "POSTARG2=            -0.051000 / POSTARG in axis 2 direction                    \n",
       "                                                                                \n",
       "              / DIAGNOSTIC KEYWORDS                                             \n",
       "                                                                                \n",
       "AWSYSVER= 'v0.4.35 '           / cloud infrastructure package version           \n",
       "AWSDPVER= 'v0.2.18 '           / cloud docker image version                     \n",
       "CSYS_VER= 'caldp_20220406'     / calibration software system version id         \n",
       "                                                                                \n",
       "              / SCIENCE INSTRUMENT CONFIGURATION                                \n",
       "                                                                                \n",
       "OBSTYPE = 'IMAGING       '     / observation type - imaging or spectroscopic    \n",
       "OBSMODE = 'ACCUM     '         / operating mode                                 \n",
       "CTEIMAGE= 'NONE'               / type of Charge Transfer Image, if applicable   \n",
       "SCLAMP  = 'NONE          '     / lamp status, NONE or name of lamp which is on  \n",
       "NRPTEXP =                    1 / number of repeat exposures in set: default 1   \n",
       "SUBARRAY=                    F / data from a subarray (T) or full frame (F)     \n",
       "DETECTOR= 'SBC'                / detector in use: WFC, HRC, or SBC              \n",
       "FILTER1 = 'F150LP            ' / element selected from filter wheel 1           \n",
       "FILTER2 = 'N/A               ' / element selected from filter wheel 2           \n",
       "FW1OFFST=                    0 / computed filter wheel offset                   \n",
       "FW1ERROR=                    F / filter wheel position error flag               \n",
       "FW2OFFST=                    0 / computed filter wheel offset                   \n",
       "FW2ERROR=                    F / filter wheel position error flag               \n",
       "FWSOFFST=                    0 / computed filter wheel offset                   \n",
       "FWSERROR=                    F / filter wheel position error flag               \n",
       "LRFWAVE =             0.000000 / proposed linear ramp filter wavelength         \n",
       "APERTURE= 'SBC             '   / aperture name                                  \n",
       "PROPAPER= 'SBC             '   / proposed aperture name                         \n",
       "DIRIMAGE= 'NONE     '          / direct image for grism or prism exposure       \n",
       "                                                                                \n",
       "              / MAMA OFFSETS                                                    \n",
       "                                                                                \n",
       "                                                                                \n",
       "              / LOCAL RATE CHECK IMAGE                                          \n",
       "                                                                                \n",
       "                                                                                \n",
       "              / CALIBRATION SWITCHES: PERFORM, OMIT, COMPLETE                   \n",
       "                                                                                \n",
       "WRTERR  =                    T / write out error array extension                \n",
       "DQICORR = 'COMPLETE'           / data quality initialization                    \n",
       "LFLGCORR= 'COMPLETE'           / flag pixels for local and global nonlinearities\n",
       "DARKCORR= 'OMIT    '           / Subtract dark image                            \n",
       "FLATCORR= 'COMPLETE'           / flat field data                                \n",
       "PHOTCORR= 'COMPLETE'           / populate photometric header keywords           \n",
       "DRIZCORR= 'COMPLETE'           / drizzle processing                             \n",
       "                                                                                \n",
       "              / CALIBRATION REFERENCE FILES                                     \n",
       "                                                                                \n",
       "BPIXTAB = 'jref$u451251ej_bpx.fits' / bad pixel table                           \n",
       "DARKFILE= 'N/A                    ' / dark image file name                      \n",
       "DFLTFILE= 'N/A                    ' / delta flat field file name                \n",
       "LFLTFILE= 'N/A                    ' / low order flat                            \n",
       "PHOTTAB = 'N/A                    ' / Photometric throughput table              \n",
       "GRAPHTAB= 'N/A                    ' / the HST graph table                       \n",
       "COMPTAB = 'N/A                    ' / the HST components table                  \n",
       "IDCTAB  = 'jref$v6m2008mj_idc.fits' / image distortion correction table         \n",
       "DGEOFILE= 'jref$s5f20000j_dxy.fits' / Distortion correction image               \n",
       "MDRIZTAB= 'jref$ub215379j_mdz.fits' / MultiDrizzle parameter table              \n",
       "CFLTFILE= 'N/A                    ' / Coronagraphic spot image                  \n",
       "SPOTTAB = 'N/A                    ' / Coronagraphic spot offset table           \n",
       "IMPHTTAB= 'jref$64614292j_imp.fits' / Image Photometry Table                    \n",
       "                                                                                \n",
       "              / OTFR KEYWORDS                                                   \n",
       "                                                                                \n",
       "                                                                                \n",
       "              / PATTERN KEYWORDS                                                \n",
       "                                                                                \n",
       "PATTERN1= 'ACS-SBC-DITHER-BOX      ' / primary pattern type                     \n",
       "P1_SHAPE= 'PARALLELOGRAM     ' / primary pattern shape                          \n",
       "P1_PURPS= 'DITHER    '         / primary pattern purpose                        \n",
       "P1_NPTS =                    4 / number of points in primary pattern            \n",
       "P1_PSPAC=             0.894773 / point spacing for primary pattern (arc-sec)    \n",
       "P1_LSPAC=             0.587116 / line spacing for primary pattern (arc-sec)     \n",
       "P1_ANGLE=            64.478514 / angle between sides of parallelogram patt (deg)\n",
       "P1_FRAME= 'POS-TARG '          / coordinate frame of primary pattern            \n",
       "P1_ORINT=            20.151333 / orientation of pattern to coordinate frame (deg\n",
       "P1_CENTR= 'YES'                / center pattern relative to pointing (yes/no)   \n",
       "PATTSTEP=                    2 / position number of this point in the pattern   \n",
       "                                                                                \n",
       "              / ASSOCIATION KEYWORDS                                            \n",
       "                                                                                \n",
       "CRDS_CTX= 'hst_1004.pmap'                                                       \n",
       "CRDS_VER= '11.9.0, b11.4.0, 64d96076d89b32a5687a6b77bb910ab93b3a99b3'           \n",
       "ATODTAB = 'N/A     '                                                            \n",
       "BIASFILE= 'N/A     '                                                            \n",
       "CCDTAB  = 'N/A     '                                                            \n",
       "CRREJTAB= 'N/A     '                                                            \n",
       "FLSHFILE= 'N/A     '                                                            \n",
       "OSCNTAB = 'N/A     '                                                            \n",
       "SATUFILE= 'N/A     '                                                            \n",
       "SHADFILE= 'N/A     '                                                            \n",
       "SNKCFILE= 'N/A     '                                                            \n",
       "DISTNAME= 'jec401nrq_v6m2008mj-xc215013j-NOMODEL'                               \n",
       "SIPNAME = 'jec401nrq_v6m2008mj'                                                 \n",
       "UPWCSVER= '1.7.2   '           / Version of STWCS used to updated the WCS       \n",
       "PYWCSVER= '5.0.2   '           / Version of PYWCS used to updated the WCS       \n",
       "HAPLEVEL=                    1 / Classification level of this product           \n",
       "IPPPSSOO= 'jec401nrq'                                                           \n",
       "FILTER  = 'F150LP;N/A'                                                          \n",
       "DATE-BEG= '2021-05-27 07:02:07.690' / Starting Date and Time                    \n",
       "DATE-END= '2021-05-27 07:12:32.329' / Ending Date and Time                      \n",
       "RULESVER=                  1.1 / Version ID for header kw rules file            \n",
       "BLENDVER= '1.2.0   '           / Version of blendheader software used           \n",
       "RULEFILE= 'hst_16231_01_acs_sbc_f150lp_jec401nr_header_hap.rules' / Name of head\n",
       "NEXTEND =                    4                                                  \n",
       "FILENAME= 'hst_16231_01_acs_sbc_f150lp_jec401nr_drz.fits'                       \n",
       "PROD_VER= 'DrizzlePac 3.4.1'                                                    \n",
       "DRIZPARS= 'hst_16231_01_acs_sbc_f150lp_jec401nr_trl.txt' / Logfile for processin\n",
       "ROOTNAME= 'hst_16231_01_acs_sbc_f150lp_jec401nr'                                \n",
       "ASN_MTYP= 'PROD-DTH'                                                            \n",
       "NDRIZIM =                    1 / Drizzle, No. images drizzled onto output       \n",
       "D001VER = 'Callable C-based DRIZZLE Version 0.8 (20th May 2009)' / Drizzle, task\n",
       "D001GEOM= 'wcs     '           / Drizzle, source of geometric information       \n",
       "D001DATA= 'hst_16231_01_acs_sbc_f150lp_jec401nr_flt.fits[sci,1]' / Drizzle, inpu\n",
       "D001DEXP=                624.0 / Drizzle, input image exposure time (s)         \n",
       "D001OUDA= 'hst_16231_01_acs_sbc_f150lp_jec401nr_drz.fits' / Drizzle, output data\n",
       "D001OUWE= 'hst_16231_01_acs_sbc_f150lp_jec401nr_drz_wht.fits' / Drizzle, output \n",
       "D001OUCO= 'hst_16231_01_acs_sbc_f150lp_jec401nr_drz_ctx.fits' / Drizzle, output \n",
       "D001MASK= 'hst_16231_01_acs_sbc_f150lp_jec401nr_sci1_final_mask.fits' / Drizzle,\n",
       "D001WTSC=                    1 / Drizzle, weighting factor for input image      \n",
       "D001KERN= 'square  '           / Drizzle, form of weight distribution kernel    \n",
       "D001PIXF=                  1.0 / Drizzle, linear size of drop                   \n",
       "D001COEF= 'SIP     '           / Drizzle, source of coefficients                \n",
       "D001OUUN= 'cps     '           / Drizzle, units of output image - counts or cps \n",
       "D001FVAL= 'INDEF   '           / Drizzle, fill value for zero weight output pix \n",
       "D001WKEY= '' / Input image WCS Version used                                     \n",
       "D001SCAL=                0.025 / Drizzle, pixel size (arcsec) of output image   \n",
       "D001ISCL=  0.02500000037252903 / Drizzle, default IDCTAB pixel size(arcsec)     \n",
       "PINAME  = 'Rupke   '                                                            \n",
       "NUMEXP  =                    1                                                  \n",
       "HISTORY DQICORR complete ...                                                    \n",
       "HISTORY   DQ array initialized ...                                              \n",
       "HISTORY   reference table jref$u451251ej_bpx.fits                               \n",
       "HISTORY GLINCORR complete ...                                                   \n",
       "HISTORY LFLGCORR complete ...                                                   \n",
       "HISTORY   reference table jref$k9c13374j_lin.fits                               \n",
       "HISTORY     GROUND                                                              \n",
       "HISTORY     prepared by G. Meurer following STIS parameters of T. Danks         \n",
       "HISTORY Uncertainty array initialized.                                          \n",
       "HISTORY FLATCORR complete ...                                                   \n",
       "HISTORY   reference image jref$36h2201jj_pfl.fits                               \n",
       "HISTORY     INFLIGHT 27/05/2002 02/04/2019                                      \n",
       "HISTORY     Inflight SBC LP-Flat                                                \n",
       "HISTORY PHOTCORR complete ...                                                   \n",
       "HISTORY   reference table jref$64614292j_imp.fits                               \n",
       "HISTORY ============================================================            \n",
       "HISTORY Header Generation rules:                                                \n",
       "HISTORY     Rules used to combine headers of input files                        \n",
       "HISTORY     Start of rules...                                                   \n",
       "HISTORY ------------------------------------------------------------            \n",
       "HISTORY !VERSION = 1.1                                                          \n",
       "HISTORY !INSTRUMENT = ACS                                                       \n",
       "HISTORY ROOTNAME                                                                \n",
       "HISTORY EXTNAME                                                                 \n",
       "HISTORY EXTVER                                                                  \n",
       "HISTORY A_0_2                                                                   \n",
       "HISTORY A_0_3                                                                   \n",
       "HISTORY A_0_4                                                                   \n",
       "HISTORY A_1_1                                                                   \n",
       "HISTORY A_1_2                                                                   \n",
       "HISTORY A_1_3                                                                   \n",
       "HISTORY A_2_0                                                                   \n",
       "HISTORY A_2_1                                                                   \n",
       "HISTORY A_2_2                                                                   \n",
       "HISTORY A_3_0                                                                   \n",
       "HISTORY A_3_1                                                                   \n",
       "HISTORY A_4_0                                                                   \n",
       "HISTORY ACQNAME                                                                 \n",
       "HISTORY A_ORDER                                                                 \n",
       "HISTORY APERTURE                                                                \n",
       "HISTORY ASN_ID                                                                  \n",
       "HISTORY ASN_MTYP                                                                \n",
       "HISTORY ASN_TAB                                                                 \n",
       "HISTORY ATODCORR                                                                \n",
       "HISTORY ATODGNA                                                                 \n",
       "HISTORY ATODGNB                                                                 \n",
       "HISTORY ATODGNC                                                                 \n",
       "HISTORY ATODGND                                                                 \n",
       "HISTORY ATODTAB                                                                 \n",
       "HISTORY B_0_2                                                                   \n",
       "HISTORY B_0_3                                                                   \n",
       "HISTORY B_0_4                                                                   \n",
       "HISTORY B_1_1                                                                   \n",
       "HISTORY B_1_2                                                                   \n",
       "HISTORY B_1_3                                                                   \n",
       "HISTORY B_2_0                                                                   \n",
       "HISTORY B_2_1                                                                   \n",
       "HISTORY B_2_2                                                                   \n",
       "HISTORY B_3_0                                                                   \n",
       "HISTORY B_3_1                                                                   \n",
       "HISTORY B_4_0                                                                   \n",
       "HISTORY BADINPDQ                                                                \n",
       "HISTORY BIASCORR                                                                \n",
       "HISTORY BIASFILE                                                                \n",
       "HISTORY BIASLEVA                                                                \n",
       "HISTORY BIASLEVB                                                                \n",
       "HISTORY BIASLEVC                                                                \n",
       "HISTORY BIASLEVD                                                                \n",
       "HISTORY BINAXIS1                                                                \n",
       "HISTORY BINAXIS2                                                                \n",
       "HISTORY BITPIX                                                                  \n",
       "HISTORY BLEVCORR                                                                \n",
       "HISTORY B_ORDER                                                                 \n",
       "HISTORY BPIXTAB                                                                 \n",
       "HISTORY BUNIT                                                                   \n",
       "HISTORY CAL_VER                                                                 \n",
       "HISTORY CBLKSIZ                                                                 \n",
       "HISTORY CCDAMP                                                                  \n",
       "HISTORY CCDCHIP                                                                 \n",
       "HISTORY CCDGAIN                                                                 \n",
       "HISTORY CCDOFSTA                                                                \n",
       "HISTORY CCDOFSTB                                                                \n",
       "HISTORY CCDOFSTC                                                                \n",
       "HISTORY CCDOFSTD                                                                \n",
       "HISTORY CCDTAB                                                                  \n",
       "HISTORY CD1_1                                                                   \n",
       "HISTORY CD1_2                                                                   \n",
       "HISTORY CD2_1                                                                   \n",
       "HISTORY CD2_2                                                                   \n",
       "HISTORY CENTERA1                                                                \n",
       "HISTORY CENTERA2                                                                \n",
       "HISTORY CFLTFILE                                                                \n",
       "HISTORY COMPTAB                                                                 \n",
       "HISTORY COMPTYP                                                                 \n",
       "HISTORY CRCORR                                                                  \n",
       "HISTORY CRMASK                                                                  \n",
       "HISTORY CRPIX1                                                                  \n",
       "HISTORY CRPIX2                                                                  \n",
       "HISTORY CRRADIUS                                                                \n",
       "HISTORY CRREJTAB                                                                \n",
       "HISTORY CRSIGMAS                                                                \n",
       "HISTORY CRSPLIT                                                                 \n",
       "HISTORY CRTHRESH                                                                \n",
       "HISTORY CRVAL1                                                                  \n",
       "HISTORY CRVAL2                                                                  \n",
       "HISTORY CTE_NAME                                                                \n",
       "HISTORY CTE_VER                                                                 \n",
       "HISTORY CTEDIR                                                                  \n",
       "HISTORY CTEIMAGE                                                                \n",
       "HISTORY CTYPE1                                                                  \n",
       "HISTORY CTYPE2                                                                  \n",
       "HISTORY D2IMFILE                                                                \n",
       "HISTORY DARKCORR                                                                \n",
       "HISTORY DARKFILE                                                                \n",
       "HISTORY DATE                                                                    \n",
       "HISTORY DATE-OBS                                                                \n",
       "HISTORY DEC_APER                                                                \n",
       "HISTORY DEC_TARG                                                                \n",
       "HISTORY DETECTOR                                                                \n",
       "HISTORY DFLTFILE                                                                \n",
       "HISTORY DGEOFILE                                                                \n",
       "HISTORY DIRIMAGE                                                                \n",
       "HISTORY DQICORR                                                                 \n",
       "HISTORY DRIZCORR                                                                \n",
       "HISTORY DRKCFILE                                                                \n",
       "HISTORY EQUINOX                                                                 \n",
       "HISTORY ERRCNT                                                                  \n",
       "HISTORY EXPEND                                                                  \n",
       "HISTORY EXPFLAG                                                                 \n",
       "HISTORY EXPNAME                                                                 \n",
       "HISTORY EXPSCORR                                                                \n",
       "HISTORY EXPSTART                                                                \n",
       "HISTORY EXPTIME                                                                 \n",
       "HISTORY EXTEND                                                                  \n",
       "HISTORY FGSLOCK                                                                 \n",
       "HISTORY FILENAME                                                                \n",
       "HISTORY FILETYPE                                                                \n",
       "HISTORY FILLCNT                                                                 \n",
       "HISTORY FILTER1                                                                 \n",
       "HISTORY FILTER2                                                                 \n",
       "HISTORY FLASHCUR                                                                \n",
       "HISTORY FLASHDUR                                                                \n",
       "HISTORY FLASHSTA                                                                \n",
       "HISTORY FLATCORR                                                                \n",
       "HISTORY FLSHCORR                                                                \n",
       "HISTORY FLSHFILE                                                                \n",
       "HISTORY FW1ERROR                                                                \n",
       "HISTORY FW1OFFST                                                                \n",
       "HISTORY FW2ERROR                                                                \n",
       "HISTORY FW2OFFST                                                                \n",
       "HISTORY FWSERROR                                                                \n",
       "HISTORY FWSOFFST                                                                \n",
       "HISTORY GCOUNT                                                                  \n",
       "HISTORY GLINCORR                                                                \n",
       "HISTORY GLOBLIM                                                                 \n",
       "HISTORY GLOBRATE                                                                \n",
       "HISTORY GOODMAX                                                                 \n",
       "HISTORY GOODMEAN                                                                \n",
       "HISTORY GOODMIN                                                                 \n",
       "HISTORY GRAPHTAB                                                                \n",
       "HISTORY GYROMODE                                                                \n",
       "HISTORY IDCSCALE                                                                \n",
       "HISTORY IDCTAB                                                                  \n",
       "HISTORY IDCTHETA                                                                \n",
       "HISTORY IDCV2REF                                                                \n",
       "HISTORY IDCV3REF                                                                \n",
       "HISTORY IMAGETYP                                                                \n",
       "HISTORY IMPHTTAB                                                                \n",
       "HISTORY INHERIT                                                                 \n",
       "HISTORY INITGUES                                                                \n",
       "HISTORY INSTRUME                                                                \n",
       "HISTORY JWROTYPE                                                                \n",
       "HISTORY LFLGCORR                                                                \n",
       "HISTORY LFLTFILE                                                                \n",
       "HISTORY LINENUM                                                                 \n",
       "HISTORY LOSTPIX                                                                 \n",
       "HISTORY LRC_FAIL                                                                \n",
       "HISTORY LRC_XSTS                                                                \n",
       "HISTORY LRFWAVE                                                                 \n",
       "HISTORY LTM1_1                                                                  \n",
       "HISTORY LTM2_2                                                                  \n",
       "HISTORY LTV1                                                                    \n",
       "HISTORY LTV2                                                                    \n",
       "HISTORY MDECODT1                                                                \n",
       "HISTORY MDECODT2                                                                \n",
       "HISTORY MDRIZSKY                                                                \n",
       "HISTORY MDRIZTAB                                                                \n",
       "HISTORY MEANBLEV                                                                \n",
       "HISTORY MEANDARK                                                                \n",
       "HISTORY MEANEXP                                                                 \n",
       "HISTORY MEANFLSH                                                                \n",
       "HISTORY MLINTAB                                                                 \n",
       "HISTORY MOFFSET1                                                                \n",
       "HISTORY MOFFSET2                                                                \n",
       "HISTORY MOONANGL                                                                \n",
       "HISTORY MTFLAG                                                                  \n",
       "HISTORY NAXIS                                                                   \n",
       "HISTORY NAXIS1                                                                  \n",
       "HISTORY NAXIS2                                                                  \n",
       "HISTORY NCOMBINE                                                                \n",
       "HISTORY NEXTEND                                                                 \n",
       "HISTORY NGOODPIX                                                                \n",
       "HISTORY NPOLFILE                                                                \n",
       "HISTORY NRPTEXP                                                                 \n",
       "HISTORY OBSMODE                                                                 \n",
       "HISTORY OBSTYPE                                                                 \n",
       "HISTORY OCD1_1                                                                  \n",
       "HISTORY OCD1_2                                                                  \n",
       "HISTORY OCD2_1                                                                  \n",
       "HISTORY OCD2_2                                                                  \n",
       "HISTORY OCRPIX1                                                                 \n",
       "HISTORY OCRPIX2                                                                 \n",
       "HISTORY OCRVAL1                                                                 \n",
       "HISTORY OCRVAL2                                                                 \n",
       "HISTORY OCTYPE1                                                                 \n",
       "HISTORY OCTYPE2                                                                 \n",
       "HISTORY OCX10                                                                   \n",
       "HISTORY OCX11                                                                   \n",
       "HISTORY OCY10                                                                   \n",
       "HISTORY OCY11                                                                   \n",
       "HISTORY ONAXIS1                                                                 \n",
       "HISTORY ONAXIS2                                                                 \n",
       "HISTORY OORIENTA                                                                \n",
       "HISTORY OPUS_VER                                                                \n",
       "HISTORY ORIENTAT                                                                \n",
       "HISTORY ORIGIN                                                                  \n",
       "HISTORY OSCNTAB                                                                 \n",
       "HISTORY P1_ANGLE                                                                \n",
       "HISTORY P1_CENTR                                                                \n",
       "HISTORY P1_FRAME                                                                \n",
       "HISTORY P1_LSPAC                                                                \n",
       "HISTORY P1_NPTS                                                                 \n",
       "HISTORY P1_ORINT                                                                \n",
       "HISTORY P1_PSPAC                                                                \n",
       "HISTORY P1_PURPS                                                                \n",
       "HISTORY P1_SHAPE                                                                \n",
       "HISTORY PA_APER                                                                 \n",
       "HISTORY PATTERN1                                                                \n",
       "HISTORY PATTSTEP                                                                \n",
       "HISTORY PA_V3                                                                   \n",
       "HISTORY PCOUNT                                                                  \n",
       "HISTORY PCTECORR                                                                \n",
       "HISTORY PCTEFRAC                                                                \n",
       "HISTORY PCTENSMD                                                                \n",
       "HISTORY PCTERNCL                                                                \n",
       "HISTORY PCTESHFT                                                                \n",
       "HISTORY PCTESMIT                                                                \n",
       "HISTORY PCTETAB                                                                 \n",
       "HISTORY PFLTFILE                                                                \n",
       "HISTORY PHOTBW                                                                  \n",
       "HISTORY PHOTCORR                                                                \n",
       "HISTORY PHOTFLAM                                                                \n",
       "HISTORY PHOTMODE                                                                \n",
       "HISTORY PHOTPLAM                                                                \n",
       "HISTORY PHOTTAB                                                                 \n",
       "HISTORY PHOTZPT                                                                 \n",
       "HISTORY PODPSFF                                                                 \n",
       "HISTORY POSTARG1                                                                \n",
       "HISTORY POSTARG2                                                                \n",
       "HISTORY PRIMESI                                                                 \n",
       "HISTORY PR_INV_F                                                                \n",
       "HISTORY PR_INV_L                                                                \n",
       "HISTORY PR_INV_M                                                                \n",
       "HISTORY PROCTIME                                                                \n",
       "HISTORY PROPAPER                                                                \n",
       "HISTORY PROPOSID                                                                \n",
       "HISTORY QUALCOM1                                                                \n",
       "HISTORY QUALCOM2                                                                \n",
       "HISTORY QUALCOM3                                                                \n",
       "HISTORY QUALITY                                                                 \n",
       "HISTORY RA_APER                                                                 \n",
       "HISTORY RA_TARG                                                                 \n",
       "HISTORY READNSEA                                                                \n",
       "HISTORY READNSEB                                                                \n",
       "HISTORY READNSEC                                                                \n",
       "HISTORY READNSED                                                                \n",
       "HISTORY REFFRAME                                                                \n",
       "HISTORY REJ_RATE                                                                \n",
       "HISTORY RPTCORR                                                                 \n",
       "HISTORY SCALENSE                                                                \n",
       "HISTORY SCLAMP                                                                  \n",
       "HISTORY SDQFLAGS                                                                \n",
       "HISTORY SHADCORR                                                                \n",
       "HISTORY SHADFILE                                                                \n",
       "HISTORY SHUTRPOS                                                                \n",
       "HISTORY SIMPLE                                                                  \n",
       "HISTORY SIZAXIS1                                                                \n",
       "HISTORY SIZAXIS2                                                                \n",
       "HISTORY SKYSUB                                                                  \n",
       "HISTORY SKYSUM                                                                  \n",
       "HISTORY SNRMAX                                                                  \n",
       "HISTORY SNRMEAN                                                                 \n",
       "HISTORY SNRMIN                                                                  \n",
       "HISTORY SOFTERRS                                                                \n",
       "HISTORY SPOTTAB                                                                 \n",
       "HISTORY STATFLAG                                                                \n",
       "HISTORY STDCFFF                                                                 \n",
       "HISTORY STDCFFP                                                                 \n",
       "HISTORY SUBARRAY                                                                \n",
       "HISTORY SUN_ALT                                                                 \n",
       "HISTORY SUNANGLE                                                                \n",
       "HISTORY TARGNAME                                                                \n",
       "HISTORY TDDALPHA                                                                \n",
       "HISTORY TDDBETA                                                                 \n",
       "HISTORY TELESCOP                                                                \n",
       "HISTORY TIME-OBS                                                                \n",
       "HISTORY T_SGSTAR                                                                \n",
       "HISTORY VAFACTOR                                                                \n",
       "HISTORY WCSAXES                                                                 \n",
       "HISTORY WCSCDATE                                                                \n",
       "HISTORY WFCMPRSD                                                                \n",
       "HISTORY WRTERR                                                                  \n",
       "HISTORY XTENSION                                                                \n",
       "HISTORY WCSNAME                                                                 \n",
       "HISTORY WCSTYPE                                                                 \n",
       "HISTORY WCSNAMEO                                                                \n",
       "HISTORY WCSAXESO                                                                \n",
       "HISTORY LONPOLEO                                                                \n",
       "HISTORY LATPOLEO                                                                \n",
       "HISTORY RESTFRQO                                                                \n",
       "HISTORY RESTWAVO                                                                \n",
       "HISTORY CD1_1O                                                                  \n",
       "HISTORY CD1_2O                                                                  \n",
       "HISTORY CD2_1O                                                                  \n",
       "HISTORY CD2_2O                                                                  \n",
       "HISTORY CDELT1O                                                                 \n",
       "HISTORY CDELT2O                                                                 \n",
       "HISTORY CRPIX1O                                                                 \n",
       "HISTORY CRPIX2O                                                                 \n",
       "HISTORY CRVAL1O                                                                 \n",
       "HISTORY CRVAL2O                                                                 \n",
       "HISTORY CTYPE1O                                                                 \n",
       "HISTORY CTYPE2O                                                                 \n",
       "HISTORY CUNIT1O                                                                 \n",
       "HISTORY CUNIT2O                                                                 \n",
       "HISTORY PROPOSID  PROPOSID  first                                               \n",
       "HISTORY TARGNAME  TARGNAME  first                                               \n",
       "HISTORY PR_INV_L  PR_INV_L  first                                               \n",
       "HISTORY PR_INV_F  PR_INV_F  first                                               \n",
       "HISTORY PR_INV_M  PR_INV_M  first                                               \n",
       "HISTORY RA_TARG   RA_TARG   first                                               \n",
       "HISTORY DEC_TARG  DEC_TARG  first                                               \n",
       "HISTORY INSTRUME  INSTRUME  first                                               \n",
       "HISTORY DETECTOR  DETECTOR  first                                               \n",
       "HISTORY APERTURE  APERTURE  multi                                               \n",
       "HISTORY FILTER1   FILTER    first  # May need to modify this as '-' combined val\n",
       "HISTORY ue                                                                      \n",
       "HISTORY EXPEND    EXPEND    max                                                 \n",
       "HISTORY EXPSTART  EXPSTART  min                                                 \n",
       "HISTORY EXPTIME   TEXPTIME  sum                                                 \n",
       "HISTORY EXPTIME   EXPTIME   sum                                                 \n",
       "HISTORY EXPSTART  DATE-BEG  min    # convert value to iso format -- separately? \n",
       "HISTORY EXPEND    DATE-END  max    # convert value to iso format -- separately? \n",
       "HISTORY IMAGETYP  IMAGETYP  first                                               \n",
       "HISTORY OBSMODE   OBSMODE   multi                                               \n",
       "HISTORY OBSTYPE   OBSTYPE   first                                               \n",
       "HISTORY EQUINOX   EQUINOX   first                                               \n",
       "HISTORY REFFRAME  REFFRAME  multi                                               \n",
       "HISTORY MTFLAG    MTFLAG    first                                               \n",
       "HISTORY FILTER1   FILTER1   multi                                               \n",
       "HISTORY FILTER2   FILTER2   multi                                               \n",
       "HISTORY GOODMAX   GOODMAX   max                                                 \n",
       "HISTORY GOODMEAN  GOODMEAN  mean                                                \n",
       "HISTORY GOODMIN   GOODMIN   min                                                 \n",
       "HISTORY INHERIT   INHERIT   first # maintain IRAF compatibility                 \n",
       "HISTORY LINENUM   LINENUM   first                                               \n",
       "HISTORY LRFWAVE   LRFWAVE   first                                               \n",
       "HISTORY NCOMBINE  NCOMBINE  sum                                                 \n",
       "HISTORY MDRIZSKY  MDRIZSKY  mean                                                \n",
       "HISTORY PHOTBW    PHOTBW    mean                                                \n",
       "HISTORY PHOTFLAM  PHOTFLAM  mean                                                \n",
       "HISTORY PHOTMODE  PHOTMODE  first                                               \n",
       "HISTORY PHOTPLAM  PHOTPLAM  mean                                                \n",
       "HISTORY PHOTZPT   PHOTZPT   mean                                                \n",
       "HISTORY SNRMAX    SNRMAX    max                                                 \n",
       "HISTORY SNRMEAN   SNRMEAN   mean                                                \n",
       "HISTORY SNRMIN    SNRMIN    min                                                 \n",
       "HISTORY TELESCOP  TELESCOP  first                                               \n",
       "HISTORY PA_V3     PA_V3     first                                               \n",
       "HISTORY ATODCORR  ATODCORR  multi                                               \n",
       "HISTORY ATODGNA   ATODGNA   first                                               \n",
       "HISTORY ATODGNB   ATODGNB   first                                               \n",
       "HISTORY ATODGNC   ATODGNC   first                                               \n",
       "HISTORY ATODGND   ATODGND   first                                               \n",
       "HISTORY ATODTAB   ATODTAB   multi                                               \n",
       "HISTORY BADINPDQ  BADINPDQ  sum                                                 \n",
       "HISTORY BIASCORR  BIASCORR  multi                                               \n",
       "HISTORY BIASFILE  BIASFILE  multi                                               \n",
       "HISTORY BLEVCORR  BLEVCORR  multi                                               \n",
       "HISTORY BPIXTAB   BPIXTAB   multi                                               \n",
       "HISTORY CCDCHIP   CCDCHIP   first                                               \n",
       "HISTORY CCDGAIN   CCDGAIN   first                                               \n",
       "HISTORY CCDOFSTA  CCDOFSTA  first                                               \n",
       "HISTORY CCDOFSTB  CCDOFSTB  first                                               \n",
       "HISTORY CCDOFSTC  CCDOFSTC  first                                               \n",
       "HISTORY CCDOFSTD  CCDOFSTD  first                                               \n",
       "HISTORY CCDTAB      CCDTAB    multi                                             \n",
       "HISTORY CFLTFILE  CFLTFILE  multi                                               \n",
       "HISTORY COMPTAB   COMPTAB   multi                                               \n",
       "HISTORY CRCORR      CRCORR    multi                                             \n",
       "HISTORY CRMASK      CRMASK    first                                             \n",
       "HISTORY CRRADIUS  CRRADIUS  first                                               \n",
       "HISTORY CRREJTAB  CRREJTAB  multi                                               \n",
       "HISTORY CRSPLIT   CRSPLIT   first                                               \n",
       "HISTORY CRTHRESH  CRTHRESH  first                                               \n",
       "HISTORY CTEDIR      CTEDIR    multi                                             \n",
       "HISTORY CTEIMAGE  CTEIMAGE  first                                               \n",
       "HISTORY DARKCORR  DARKCORR  multi                                               \n",
       "HISTORY DARKFILE  DARKFILE  multi                                               \n",
       "HISTORY DATE-OBS  DATE-OBS  first                                               \n",
       "HISTORY DEC_APER  DEC_APER  first                                               \n",
       "HISTORY DFLTFILE  DFLTFILE  multi                                               \n",
       "HISTORY DGEOFILE  DGEOFILE  multi                                               \n",
       "HISTORY DIRIMAGE  DIRIMAGE  multi                                               \n",
       "HISTORY DQICORR   DQICORR   multi                                               \n",
       "HISTORY DRIZCORR  DRIZCORR  multi                                               \n",
       "HISTORY EXPFLAG   EXPFLAG   multi                                               \n",
       "HISTORY EXPSCORR  EXPSCORR  multi                                               \n",
       "HISTORY FGSLOCK   FGSLOCK   multi                                               \n",
       "HISTORY FLASHCUR  FLASHCUR  multi                                               \n",
       "HISTORY FLASHDUR  FLASHDUR  first                                               \n",
       "HISTORY FLASHSTA  FLASHSTA  first                                               \n",
       "HISTORY FLATCORR  FLATCORR  multi                                               \n",
       "HISTORY FLSHCORR  FLSHCORR  multi                                               \n",
       "HISTORY FLSHFILE  FLSHFILE  multi                                               \n",
       "HISTORY FW1ERROR  FW1ERROR  multi                                               \n",
       "HISTORY FW1OFFST  FW1OFFST  first                                               \n",
       "HISTORY FW2ERROR  FW2ERROR  multi                                               \n",
       "HISTORY FW2OFFST  FW2OFFST  first                                               \n",
       "HISTORY FWSERROR  FWSERROR  multi                                               \n",
       "HISTORY FWSOFFST  FWSOFFST  first                                               \n",
       "HISTORY GRAPHTAB  GRAPHTAB  multi                                               \n",
       "HISTORY GYROMODE  GYROMODE  multi                                               \n",
       "HISTORY IDCTAB      IDCTAB    multi                                             \n",
       "HISTORY IMPHTTAB  IMPHTTAB  multi                                               \n",
       "HISTORY LFLGCORR  LFLGCORR  multi                                               \n",
       "HISTORY LFLTFILE  LFLTFILE  multi                                               \n",
       "HISTORY LTM1_1    LTM1_1    float_one                                           \n",
       "HISTORY LTM2_2    LTM2_2    float_one                                           \n",
       "HISTORY MDRIZTAB  MDRIZTAB  multi                                               \n",
       "HISTORY MEANEXP   MEANEXP   first                                               \n",
       "HISTORY MOONANGL  MOONANGL  first                                               \n",
       "HISTORY NRPTEXP   NRPTEXP   first                                               \n",
       "HISTORY OSCNTAB   OSCNTAB   multi                                               \n",
       "HISTORY P1_ANGLE  P1_ANGLE  first                                               \n",
       "HISTORY P1_CENTR  P1_CENTR  multi                                               \n",
       "HISTORY P1_FRAME  P1_FRAME  multi                                               \n",
       "HISTORY P1_LSPAC  P1_LSPAC  first                                               \n",
       "HISTORY P1_NPTS   P1_NPTS   first                                               \n",
       "HISTORY P1_ORINT  P1_ORINT  first                                               \n",
       "HISTORY P1_PSPAC  P1_PSPAC  first                                               \n",
       "HISTORY P1_PURPS  P1_PURPS  multi                                               \n",
       "HISTORY P1_SHAPE  P1_SHAPE  multi                                               \n",
       "HISTORY P2_ANGLE  P2_ANGLE  first                                               \n",
       "HISTORY P2_CENTR  P2_CENTR  multi                                               \n",
       "HISTORY P2_FRAME  P2_FRAME  multi                                               \n",
       "HISTORY P2_LSPAC  P2_LSPAC  first                                               \n",
       "HISTORY P2_NPTS   P2_NPTS   first                                               \n",
       "HISTORY P2_ORINT  P2_ORINT  first                                               \n",
       "HISTORY P2_PSPAC  P2_PSPAC  first                                               \n",
       "HISTORY P2_PURPS  P2_PURPS  multi                                               \n",
       "HISTORY P2_SHAPE  P2_SHAPE  multi                                               \n",
       "HISTORY PATTERN1  PATTERN1  multi                                               \n",
       "HISTORY PATTERN2  PATTERN2  multi                                               \n",
       "HISTORY PATTSTEP  PATTSTEP  first                                               \n",
       "HISTORY PHOTCORR  PHOTCORR  multi                                               \n",
       "HISTORY PHOTTAB   PHOTTAB   multi                                               \n",
       "HISTORY POSTARG1  POSTARG1  first                                               \n",
       "HISTORY POSTARG2  POSTARG2  first                                               \n",
       "HISTORY PRIMESI   PRIMESI   multi                                               \n",
       "HISTORY PROPAPER  PROPAPER  multi                                               \n",
       "HISTORY RA_APER   RA_APER   first                                               \n",
       "HISTORY READNSEA  READNSEA  first                                               \n",
       "HISTORY READNSEB  READNSEB  first                                               \n",
       "HISTORY READNSEC  READNSEC  first                                               \n",
       "HISTORY READNSED  READNSED  first                                               \n",
       "HISTORY REJ_RATE  REJ_RATE  first                                               \n",
       "HISTORY SCALENSE  SCALENSE  first                                               \n",
       "HISTORY SCLAMP      SCLAMP    multi                                             \n",
       "HISTORY SHADCORR  SHADCORR  multi                                               \n",
       "HISTORY SHADFILE  SHADFILE  multi                                               \n",
       "HISTORY SHUTRPOS  SHUTRPOS  multi                                               \n",
       "HISTORY SKYSUB      SKYSUB    multi                                             \n",
       "HISTORY SKYSUM      SKYSUM    sum                                               \n",
       "HISTORY SPOTTAB   SPOTTAB   multi                                               \n",
       "HISTORY SUBARRAY  SUBARRAY  first                                               \n",
       "HISTORY SUNANGLE  SUNANGLE  first                                               \n",
       "HISTORY SUN_ALT   SUN_ALT   first                                               \n",
       "HISTORY TIME-OBS  TIME-OBS  first                                               \n",
       "HISTORY WRTERR      WRTERR    multi                                             \n",
       "HISTORY ------------------------------------------------------------            \n",
       "HISTORY     End of rules...                                                     \n",
       "HISTORY ============================================================            \n",
       "HISTORY AstroDrizzle processing performed using:                                \n",
       "HISTORY     AstroDrizzle Version 3.4.1                                          \n",
       "HISTORY     PyFITS Version 5.0.2                                                \n",
       "HISTORY     Numpy Version 1.22.3                                                "
      ]
     },
     "execution_count": 13,
     "metadata": {},
     "output_type": "execute_result"
    }
   ],
   "source": [
    "file_org[0].header"
   ]
  },
  {
   "cell_type": "code",
   "execution_count": 73,
   "id": "1ac244cc",
   "metadata": {},
   "outputs": [],
   "source": [
    "file0 = fits.open('hst_16231_01_acs_sbc_f150lp_jec401no_flt.fits')"
   ]
  },
  {
   "cell_type": "code",
   "execution_count": 74,
   "id": "021892e6",
   "metadata": {},
   "outputs": [
    {
     "data": {
      "text/plain": [
       "SIMPLE  =                    T / file does conform to FITS standard             \n",
       "BITPIX  =                   16 / number of bits per data pixel                  \n",
       "NAXIS   =                    0 / number of data axes                            \n",
       "EXTEND  =                    T / FITS dataset may contain extensions            \n",
       "COMMENT   FITS (Flexible Image Transport System) format is defined in 'Astronomy\n",
       "COMMENT   and Astrophysics', volume 376, page 359; bibcode: 2001A&A...376..359H \n",
       "ORIGIN  = 'HSTIO/CFITSIO March 2010' / FITS file originator                     \n",
       "DATE    = '2022-04-13' / date this file was written (yyyy-mm-dd)                \n",
       "NEXTEND =                    8 / Number of standard extensions                  \n",
       "FILENAME= 'hst_16231_01_acs_sbc_f150lp_jec401no_flt.fits' / name of file        \n",
       "FILETYPE= 'SCI      '          / type of data found in data file                \n",
       "                                                                                \n",
       "TELESCOP= 'HST'                / telescope used to acquire data                 \n",
       "INSTRUME= 'ACS   '             / identifier for instrument used to acquire data \n",
       "EQUINOX =               2000.0 / equinox of celestial coord. system             \n",
       "                                                                                \n",
       "              / DATA DESCRIPTION KEYWORDS                                       \n",
       "                                                                                \n",
       "ROOTNAME= 'jec401noq                         ' / rootname of the observation set\n",
       "IMAGETYP= 'EXT               ' / type of exposure identifier                    \n",
       "PRIMESI = 'ACS   '             / instrument designated as prime                 \n",
       "                                                                                \n",
       "              / TARGET INFORMATION                                              \n",
       "                                                                                \n",
       "TARGNAME= 'SDSS-J211824.06+001729.4       ' / proposer's target name            \n",
       "RA_TARG =   3.196002500000E+02 / right ascension of the target (deg) (J2000)    \n",
       "DEC_TARG=   2.915000000000E-01 / declination of the target (deg) (J2000)        \n",
       "                                                                                \n",
       "              / PROPOSAL INFORMATION                                            \n",
       "                                                                                \n",
       "PROPOSID=                16231 / PEP proposal identifier                        \n",
       "LINENUM = '01.001         '    / proposal logsheet line number                  \n",
       "PR_INV_L= 'Rupke                         ' / last name of principal investigator\n",
       "PR_INV_F= 'David               ' / first name of principal investigator         \n",
       "PR_INV_M= '                    ' / middle name / initial of principal investigat\n",
       "                                                                                \n",
       "              / EXPOSURE INFORMATION                                            \n",
       "                                                                                \n",
       "SUNANGLE=           103.452515 / angle between sun and V1 axis                  \n",
       "MOONANGL=            65.637787 / angle between moon and V1 axis                 \n",
       "SUN_ALT =           -29.774399 / altitude of the sun above Earth's limb         \n",
       "FGSLOCK = 'FINE              ' / commanded FGS lock (FINE,COARSE,GYROS,UNKNOWN) \n",
       "GYROMODE= 'T'                  / number of gyros scheduled, T=3+OBAD            \n",
       "REFFRAME= 'ICRS    '           / guide star catalog version                     \n",
       "MTFLAG  = ' '                  / moving target flag; T if it is a moving target \n",
       "                                                                                \n",
       "DATE-OBS= '2021-05-27'         / UT date of start of observation (yyyy-mm-dd)   \n",
       "TIME-OBS= '06:50:43'           / UT time of start of observation (hh:mm:ss)     \n",
       "EXPSTART=   5.936128522789E+04 / exposure start time (Modified Julian Date)     \n",
       "EXPEND  =   5.936129245789E+04 / exposure end time (Modified Julian Date)       \n",
       "EXPTIME =           624.000000 / exposure duration (seconds)--calculated        \n",
       "EXPFLAG = 'NORMAL       '      / Exposure interruption indicator                \n",
       "QUALCOM1= '                                                                    '\n",
       "QUALCOM2= '                                                                    '\n",
       "QUALCOM3= '                                                                    '\n",
       "QUALITY = '                                                                    '\n",
       "                                                                                \n",
       "                                                                                \n",
       "              / POINTING INFORMATION                                            \n",
       "                                                                                \n",
       "PA_V3   =            56.999378 / position angle of V3-axis of HST (deg)         \n",
       "                                                                                \n",
       "              / TARGET OFFSETS (POSTARGS)                                       \n",
       "                                                                                \n",
       "POSTARG1=            -0.210000 / POSTARG in axis 1 direction                    \n",
       "POSTARG2=            -0.359250 / POSTARG in axis 2 direction                    \n",
       "                                                                                \n",
       "              / DIAGNOSTIC KEYWORDS                                             \n",
       "                                                                                \n",
       "PROCTIME=   5.968265254630E+04 / pipeline processing time (MJD)                 \n",
       "OPUS_VER= 'HSTDP 2022_1                ' / data processing software system versi\n",
       "AWSYSVER= 'v0.4.35 '           / cloud infrastructure package version           \n",
       "AWSDPVER= 'v0.2.18 '           / cloud docker image version                     \n",
       "CSYS_VER= 'caldp_20220406'     / calibration software system version id         \n",
       "CAL_VER = '10.3.5 (08-Feb-2022)' / CALACS code version                          \n",
       "                                                                                \n",
       "              / SCIENCE INSTRUMENT CONFIGURATION                                \n",
       "                                                                                \n",
       "OBSTYPE = 'IMAGING       '     / observation type - imaging or spectroscopic    \n",
       "OBSMODE = 'ACCUM     '         / operating mode                                 \n",
       "CTEIMAGE= 'NONE'               / type of Charge Transfer Image, if applicable   \n",
       "SCLAMP  = 'NONE          '     / lamp status, NONE or name of lamp which is on  \n",
       "NRPTEXP =                    1 / number of repeat exposures in set: default 1   \n",
       "SUBARRAY=                    F / data from a subarray (T) or full frame (F)     \n",
       "DETECTOR= 'SBC'                / detector in use: WFC, HRC, or SBC              \n",
       "FILTER1 = 'F150LP            ' / element selected from filter wheel 1           \n",
       "FILTER2 = 'N/A               ' / element selected from filter wheel 2           \n",
       "FW1OFFST=                    0 / computed filter wheel offset                   \n",
       "FW1ERROR=                    F / filter wheel position error flag               \n",
       "FW2OFFST=                    0 / computed filter wheel offset                   \n",
       "FW2ERROR=                    F / filter wheel position error flag               \n",
       "FWSOFFST=                    0 / computed filter wheel offset                   \n",
       "FWSERROR=                    F / filter wheel position error flag               \n",
       "LRFWAVE =             0.000000 / proposed linear ramp filter wavelength         \n",
       "APERTURE= 'SBC             '   / aperture name                                  \n",
       "PROPAPER= 'SBC             '   / proposed aperture name                         \n",
       "DIRIMAGE= 'NONE     '          / direct image for grism or prism exposure       \n",
       "                                                                                \n",
       "              / MAMA OFFSETS                                                    \n",
       "                                                                                \n",
       "MOFFSET1=                    0 / axis 1 MAMA offset (low-res pixels)            \n",
       "MOFFSET2=                    0 / axis 2 MAMA offset (low-res pixels)            \n",
       "                                                                                \n",
       "              / LOCAL RATE CHECK IMAGE                                          \n",
       "                                                                                \n",
       "LRC_XSTS=                    F / Local Rate check image exists (T/F)            \n",
       "LRC_FAIL=                    F / Local Rate Check Failed (T/F)                  \n",
       "                                                                                \n",
       "              / CALIBRATION SWITCHES: PERFORM, OMIT, COMPLETE                   \n",
       "                                                                                \n",
       "STATFLAG=                    F / Calculate statistics?                          \n",
       "WRTERR  =                    T / write out error array extension                \n",
       "DQICORR = 'COMPLETE'           / data quality initialization                    \n",
       "GLINCORR= 'COMPLETE'           / correct for global detector non-linearities    \n",
       "LFLGCORR= 'COMPLETE'           / flag pixels for local and global nonlinearities\n",
       "PCTECORR= 'OMIT    '           / cte correction                                 \n",
       "DARKCORR= 'OMIT    '           / Subtract dark image                            \n",
       "FLATCORR= 'COMPLETE'           / flat field data                                \n",
       "PHOTCORR= 'COMPLETE'           / populate photometric header keywords           \n",
       "RPTCORR = 'OMIT    '           / add individual repeat observations             \n",
       "DRIZCORR= 'PERFORM '           / drizzle processing                             \n",
       "                                                                                \n",
       "              / CALIBRATION REFERENCE FILES                                     \n",
       "                                                                                \n",
       "BPIXTAB = 'jref$u451251ej_bpx.fits' / bad pixel table                           \n",
       "MLINTAB = 'jref$k9c13374j_lin.fits' / MAMA linearity correction table           \n",
       "PCTETAB = 'N/A                    ' / CTE Correction Table                      \n",
       "DRKCFILE= 'N/A                    ' / De-trailed Dark Reference File            \n",
       "DARKFILE= 'N/A                    ' / dark image file name                      \n",
       "PFLTFILE= 'jref$36h2201jj_pfl.fits' / pixel to pixel flat field file name       \n",
       "DFLTFILE= 'N/A                    ' / delta flat field file name                \n",
       "LFLTFILE= 'N/A                    ' / low order flat                            \n",
       "PHOTTAB = 'N/A                    ' / Photometric throughput table              \n",
       "GRAPHTAB= 'N/A                    ' / the HST graph table                       \n",
       "COMPTAB = 'N/A                    ' / the HST components table                  \n",
       "IDCTAB  = 'jref$v6m2008mj_idc.fits' / image distortion correction table         \n",
       "DGEOFILE= 'jref$s5f20000j_dxy.fits' / Distortion correction image               \n",
       "MDRIZTAB= 'jref$ub215379j_mdz.fits' / MultiDrizzle parameter table              \n",
       "CFLTFILE= 'N/A                    ' / Coronagraphic spot image                  \n",
       "SPOTTAB = 'N/A                    ' / Coronagraphic spot offset table           \n",
       "IMPHTTAB= 'jref$64614292j_imp.fits' / Image Photometry Table                    \n",
       "D2IMFILE= 'N/A                    ' / Column Correction Reference File          \n",
       "NPOLFILE= 'jref$xc215013j_npl.fits' / Non-polynomial Offsets Reference File     \n",
       "                                                                                \n",
       "              / OTFR KEYWORDS                                                   \n",
       "                                                                                \n",
       "T_SGSTAR= '                  ' / OMS calculated guide star control              \n",
       "                                                                                \n",
       "              / PATTERN KEYWORDS                                                \n",
       "                                                                                \n",
       "PATTERN1= 'ACS-SBC-DITHER-BOX      ' / primary pattern type                     \n",
       "P1_SHAPE= 'PARALLELOGRAM     ' / primary pattern shape                          \n",
       "P1_PURPS= 'DITHER    '         / primary pattern purpose                        \n",
       "P1_NPTS =                    4 / number of points in primary pattern            \n",
       "P1_PSPAC=             0.894773 / point spacing for primary pattern (arc-sec)    \n",
       "P1_LSPAC=             0.587116 / line spacing for primary pattern (arc-sec)     \n",
       "P1_ANGLE=            64.478514 / angle between sides of parallelogram patt (deg)\n",
       "P1_FRAME= 'POS-TARG '          / coordinate frame of primary pattern            \n",
       "P1_ORINT=            20.151333 / orientation of pattern to coordinate frame (deg\n",
       "P1_CENTR= 'YES'                / center pattern relative to pointing (yes/no)   \n",
       "PATTSTEP=                    1 / position number of this point in the pattern   \n",
       "                                                                                \n",
       "              / ASSOCIATION KEYWORDS                                            \n",
       "                                                                                \n",
       "ASN_ID  = 'JEC401010 '         / unique identifier assigned to association      \n",
       "ASN_TAB = 'jec401010_asn.fits     ' / name of the association table             \n",
       "ASN_MTYP= 'EXP-DTH     '       / Role of the Member in the Association          \n",
       "CRDS_CTX= 'hst_1004.pmap'                                                       \n",
       "CRDS_VER= '11.9.0, b11.4.0, 64d96076d89b32a5687a6b77bb910ab93b3a99b3'           \n",
       "ATODTAB = 'N/A     '                                                            \n",
       "BIASFILE= 'N/A     '                                                            \n",
       "CCDTAB  = 'N/A     '                                                            \n",
       "CRREJTAB= 'N/A     '                                                            \n",
       "FLSHFILE= 'N/A     '                                                            \n",
       "OSCNTAB = 'N/A     '                                                            \n",
       "SATUFILE= 'N/A     '                                                            \n",
       "SHADFILE= 'N/A     '                                                            \n",
       "SNKCFILE= 'N/A     '                                                            \n",
       "DISTNAME= 'jec401noq_v6m2008mj-xc215013j-NOMODEL'                               \n",
       "SIPNAME = 'jec401noq_v6m2008mj'                                                 \n",
       "UPWCSVER= '1.7.2   '           / Version of STWCS used to updated the WCS       \n",
       "PYWCSVER= '5.0.2   '           / Version of PYWCS used to updated the WCS       \n",
       "HAPLEVEL=                    0 / Classification level of this product           \n",
       "IPPPSSOO= 'jec401noq'                                                           \n",
       "HISTORY DQICORR complete ...                                                    \n",
       "HISTORY   DQ array initialized ...                                              \n",
       "HISTORY   reference table jref$u451251ej_bpx.fits                               \n",
       "HISTORY GLINCORR complete ...                                                   \n",
       "HISTORY LFLGCORR complete ...                                                   \n",
       "HISTORY   reference table jref$k9c13374j_lin.fits                               \n",
       "HISTORY     GROUND                                                              \n",
       "HISTORY     prepared by G. Meurer following STIS parameters of T. Danks         \n",
       "HISTORY Uncertainty array initialized.                                          \n",
       "HISTORY FLATCORR complete ...                                                   \n",
       "HISTORY   reference image jref$36h2201jj_pfl.fits                               \n",
       "HISTORY     INFLIGHT 27/05/2002 02/04/2019                                      \n",
       "HISTORY     Inflight SBC LP-Flat                                                \n",
       "HISTORY PHOTCORR complete ...                                                   \n",
       "HISTORY   reference table jref$64614292j_imp.fits                               "
      ]
     },
     "execution_count": 74,
     "metadata": {},
     "output_type": "execute_result"
    }
   ],
   "source": [
    "file0[0].header"
   ]
  },
  {
   "cell_type": "code",
   "execution_count": null,
   "id": "d3c9b40e",
   "metadata": {},
   "outputs": [],
   "source": []
  }
 ],
 "metadata": {
  "kernelspec": {
   "display_name": "Python 3 (ipykernel)",
   "language": "python",
   "name": "python3"
  },
  "language_info": {
   "codemirror_mode": {
    "name": "ipython",
    "version": 3
   },
   "file_extension": ".py",
   "mimetype": "text/x-python",
   "name": "python",
   "nbconvert_exporter": "python",
   "pygments_lexer": "ipython3",
   "version": "3.7.13"
  }
 },
 "nbformat": 4,
 "nbformat_minor": 5
}
