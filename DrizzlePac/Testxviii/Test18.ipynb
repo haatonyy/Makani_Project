{
 "cells": [
  {
   "cell_type": "code",
   "execution_count": 1,
   "id": "f4f00941",
   "metadata": {},
   "outputs": [],
   "source": [
    "from astropy.io import fits\n",
    "from matplotlib import pyplot as plt\n",
    "import numpy as np\n",
    "import glob\n",
    "import shutil\n",
    "import os"
   ]
  },
  {
   "cell_type": "code",
   "execution_count": 2,
   "id": "e1bd565b",
   "metadata": {},
   "outputs": [],
   "source": [
    "def get_center(inputfilename):\n",
    "    file = fits.open(inputfilename)\n",
    "    #WCS info from header\n",
    "    CRVAL1 = file[1].header['CRVAL1']\n",
    "    CRVAL2 = file[1].header['CRVAL2']\n",
    "    CRPIX1 = file[1].header['CRPIX1']\n",
    "    CRPIX2 = file[1].header['CRPIX2']\n",
    "    CD1_1 = file[1].header['CD1_1']\n",
    "    CD1_2 = file[1].header['CD1_2']\n",
    "    CD2_1 = file[1].header['CD2_1']\n",
    "    CD2_2 = file[1].header['CD2_2']\n",
    "    \n",
    "    A = np.array([[CD1_1, CD1_2], [CD2_1, CD2_2]])\n",
    "    A_inv = np.linalg.inv(A)\n",
    "    B = np.array([[CRVAL1],[CRVAL2]])\n",
    "    r0 = np.array([[CRPIX1],[CRPIX2]])\n",
    "    \n",
    "    def coo_pixtosky(r):\n",
    "        return np.matmul(A, r-r0) + B\n",
    "    \n",
    "    def coo_skytopix(r_sky):\n",
    "        return np.matmul(A_inv, r_sky - B) + r0\n",
    "    \n",
    "    #Target location info\n",
    "    RA_TARG = file[0].header['RA_TARG'] \n",
    "    DEC_TARG = file[0].header['DEC_TARG']\n",
    "    r_sky_TARG = np.array([[RA_TARG], [DEC_TARG]])\n",
    "    X_TARG, Y_TARG = int(coo_skytopix(r_sky_TARG)[0]), int(coo_skytopix(r_sky_TARG)[1])\n",
    "    \n",
    "    data = file[1].data\n",
    "    \n",
    "    s = 100\n",
    "    max_i = 0\n",
    "    max_j = 0\n",
    "    maxval = 0\n",
    "    for i in range(Y_TARG-s, Y_TARG+s+1):\n",
    "        for j in range(X_TARG-s, X_TARG+s+1):\n",
    "            if data[i][j] > maxval:\n",
    "                maxval = data[i][j]\n",
    "                max_i = i\n",
    "                max_j = j \n",
    "    r = 50\n",
    "    total_flux = 0\n",
    "    i_integral = 0\n",
    "    j_integral = 0\n",
    "    for i in range(max_i-r, max_i+r+1):\n",
    "        for j in range(max_j-r, max_j+r+1):\n",
    "            total_flux += data[i][j]\n",
    "            i_integral += i*data[i][j]\n",
    "            j_integral += j*data[i][j]\n",
    "    \n",
    "    i_center = i_integral/total_flux\n",
    "    j_center = j_integral/total_flux\n",
    "    \n",
    "    X_center = j_center +1\n",
    "    Y_center = i_center +1\n",
    "    r_center = np.array([[X_center], [Y_center]])\n",
    "    \n",
    "\n",
    "    return (X_center), (Y_center)"
   ]
  },
  {
   "cell_type": "code",
   "execution_count": 3,
   "id": "71c087d3",
   "metadata": {},
   "outputs": [],
   "source": [
    "path = '/Users/ha/Makani_Project/DrizzlePac'\n",
    "lst_raw = glob.glob(path + '/data/*/*/*raw.fits')\n",
    "dark_lst = glob.glob(path + '/darks/HST/*/*raw.fits')"
   ]
  },
  {
   "cell_type": "markdown",
   "id": "f9c62d06",
   "metadata": {},
   "source": [
    "Function to create an average dark from archived data knowing a upper temperature"
   ]
  },
  {
   "cell_type": "code",
   "execution_count": 4,
   "id": "ac9cb7d1",
   "metadata": {},
   "outputs": [],
   "source": [
    "def avgdark_archived(dark_lst, upper_temp, upper_year = 2022, lower_year = 2011):\n",
    "    w_data = np.zeros((1024,1024))\n",
    "    total_time = 0\n",
    "    num_combined = 0\n",
    "    if upper_temp > 25.0:\n",
    "        print('upper_temp >= 25.0')\n",
    "    \n",
    "    else:\n",
    "        if upper_temp == 25.0:\n",
    "            for item in dark_lst:\n",
    "                file = fits.open(item)\n",
    "    \n",
    "                exptime = file[0].header['EXPTIME']\n",
    "                temp = (file[1].header['MDECODT1'] + file[1].header['MDECODT2']) /2 \n",
    "                year = int(file[0].header['DATE'][:4])\n",
    "                data = file[1].data\n",
    " \n",
    "                if temp >= 0.0 and temp <= upper_temp and year >= lower_year and year != 2019 and year != 2020:\n",
    "                    w_data += data\n",
    "                    total_time += exptime\n",
    "                    num_combined += 1\n",
    "        else:\n",
    "            for item in dark_lst:\n",
    "                file = fits.open(item)\n",
    "    \n",
    "                exptime = file[0].header['EXPTIME']\n",
    "                temp = (file[1].header['MDECODT1'] + file[1].header['MDECODT2']) /2 \n",
    "                year = int(file[0].header['DATE'][:4])\n",
    "                data = file[1].data\n",
    "                \n",
    "                if temp >= 0.0 and temp <= upper_temp and year >= lower_year and year <= upper_year:\n",
    "                    w_data += data\n",
    "                    total_time += exptime\n",
    "                    num_combined += 1\n",
    "        \n",
    "        w_data_cps = w_data / total_time\n",
    "    \n",
    "        avg_dark_Primary = fits.PrimaryHDU()\n",
    "        avg_dark_SCI = fits.ImageHDU(w_data_cps)\n",
    "        avg_dark_hdul = fits.HDUList([avg_dark_Primary, avg_dark_SCI])\n",
    "        avg_dark_hdul.writeto('refdark_archived_uptemp'+ str(upper_temp)+ '_' +\n",
    "                              str(lower_year)+ str(upper_year)+'.fits', overwrite = True)\n",
    "    print('num_combined =', num_combined)"
   ]
  },
  {
   "cell_type": "code",
   "execution_count": 5,
   "id": "40ee3924",
   "metadata": {},
   "outputs": [
    {
     "name": "stdout",
     "output_type": "stream",
     "text": [
      "num_combined = 11\n",
      "num_combined = 9\n",
      "num_combined = 6\n",
      "num_combined = 243\n",
      "num_combined = 207\n",
      "num_combined = 158\n",
      "num_combined = 110\n",
      "num_combined = 3\n"
     ]
    }
   ],
   "source": [
    "avgdark_archived(dark_lst, 25, 2022, 2022)\n",
    "avgdark_archived(dark_lst, 24, 2022, 2022)\n",
    "avgdark_archived(dark_lst, 23, 2022, 2022)\n",
    "avgdark_archived(dark_lst, 24)\n",
    "avgdark_archived(dark_lst, 23)\n",
    "avgdark_archived(dark_lst, 22)\n",
    "avgdark_archived(dark_lst, 21)\n",
    "avgdark_archived(dark_lst, 22, 2022, 2022)"
   ]
  },
  {
   "cell_type": "markdown",
   "id": "4e5a2886",
   "metadata": {},
   "source": [
    "Flag out the galaxy from each frame ( real data )"
   ]
  },
  {
   "cell_type": "code",
   "execution_count": 6,
   "id": "9e288062",
   "metadata": {},
   "outputs": [
    {
     "name": "stderr",
     "output_type": "stream",
     "text": [
      "/Users/ha/.conda/envs/astroconda/lib/python3.7/site-packages/ipykernel_launcher.py:52: RuntimeWarning: invalid value encountered in long_scalars\n",
      "/Users/ha/.conda/envs/astroconda/lib/python3.7/site-packages/ipykernel_launcher.py:53: RuntimeWarning: invalid value encountered in long_scalars\n"
     ]
    },
    {
     "name": "stdout",
     "output_type": "stream",
     "text": [
      "CPU times: user 5.25 s, sys: 1.48 s, total: 6.73 s\n",
      "Wall time: 9.19 s\n"
     ]
    }
   ],
   "source": [
    "%%time\n",
    "#dark_file = fits.open('avg_dark_archived_uppertemp24.fits')\n",
    "total_exptime = 0\n",
    "\n",
    "for i in range(len(lst_raw)):\n",
    "    flaged_table = np.ones((1024,1024))\n",
    "    flaged_subtracted = np.zeros((1024, 1024))\n",
    "    \n",
    "    filename = lst_raw[i]\n",
    "    rawfile = fits.open(filename)\n",
    "    rawdata = rawfile[1].data\n",
    "    exptime = rawfile[0].header['EXPTIME']\n",
    "    \n",
    "    x_center, y_center = get_center(filename)\n",
    "    if np.isnan(x_center) or np.isnan(y_center):\n",
    "        continue\n",
    "    x_center, y_center = int(x_center), int(y_center)    \n",
    "    \n",
    "    #flag_table; flag_subtracted table\n",
    "    flaged_subtracted = fits.open(filename)[1].data\n",
    "    \n",
    "    e = 25\n",
    "    for i in range(y_center -e, y_center + e):\n",
    "        for j in range(x_center - e, x_center + e):\n",
    "            flaged_table[i][j] = 0.0\n",
    "            flaged_subtracted[i][j] = 0\n",
    "\n",
    "            \n",
    "    #create a flaged file\n",
    "    Primary = rawfile['Primary']\n",
    "    SCI = fits.ImageHDU(rawdata, name = 'SCI', header = rawfile['SCI'].header)\n",
    "    FLAG = fits.ImageHDU(flaged_table, name = 'FLAG')\n",
    "    FLAG_subtracted = fits.ImageHDU(flaged_subtracted, name = 'FS')\n",
    "    hdul = fits.HDUList([Primary, SCI, FLAG, FLAG_subtracted])\n",
    "    hdul.writeto(filename[-18:-9] + '_flaged.fits', overwrite = True)\n",
    "    \n",
    "    \n",
    "    #create a subtracted file\n",
    "    #dark_frame = dark_file[0].data * exptime\n",
    "    #new_data = rawdata - dark_frame\n",
    "    \n",
    "    #subtracted_SCI = fits.ImageHDU(new_data, name = 'SCI', header = rawfile['SCI'].header)\n",
    "    #subtracted_hdul = fits.HDUList([Primary, subtracted_SCI, FLAG])\n",
    "    #subtracted_hdul.writeto(filename[-18:-9] + '_subtracted_24.fits', overwrite = True)\n",
    "    "
   ]
  },
  {
   "cell_type": "code",
   "execution_count": 7,
   "id": "173a4eea",
   "metadata": {},
   "outputs": [],
   "source": [
    "directory_name = 'flaged'\n",
    "parent_path = '/Users/ha/Makani_Project/DrizzlePac/Testxviii'\n",
    "path = os.path.join(parent_path, directory_name)\n",
    "os.makedirs(path)"
   ]
  },
  {
   "cell_type": "code",
   "execution_count": 9,
   "id": "041755b3",
   "metadata": {},
   "outputs": [],
   "source": [
    "old_flaged_lst = glob.glob('*_flaged.fits')\n",
    "for files_path in old_flaged_lst:\n",
    "    #print(files_path[:22])\n",
    "    shutil.move(files_path, path)"
   ]
  },
  {
   "cell_type": "markdown",
   "id": "329261ff",
   "metadata": {},
   "source": [
    "Combine all the flaged file to create a new dark frame"
   ]
  },
  {
   "cell_type": "code",
   "execution_count": 10,
   "id": "e9d6cb74",
   "metadata": {},
   "outputs": [
    {
     "name": "stdout",
     "output_type": "stream",
     "text": [
      "CPU times: user 897 ms, sys: 293 ms, total: 1.19 s\n",
      "Wall time: 2.73 s\n"
     ]
    }
   ],
   "source": [
    "%%time\n",
    "flaged_lst =  glob.glob('flaged/*_flaged.fits')\n",
    "sumdata_1subtracted = np.zeros((1024,1024))\n",
    "exptime_table = np.zeros((1024,1024))\n",
    "for filename in flaged_lst:\n",
    "        file = fits.open(filename)\n",
    "        data = file[1].data\n",
    "        flaged_table = file['FLAG'].data\n",
    "        flaged_subtracted = file['FS'].data\n",
    "        exptime = file[0].header['EXPTIME']\n",
    "\n",
    "        exptime_table += exptime * flaged_table\n",
    "        sumdata_1subtracted += flaged_subtracted\n",
    "        #print(file[0].header['DATE'])\n",
    "for i in range(0, 1024):\n",
    "    for j in range(0, 1024):\n",
    "        sumdata_1subtracted[i][j] /= exptime_table[i][j]\n",
    "\n",
    "Primary = fits.PrimaryHDU()\n",
    "SCI = fits.ImageHDU(sumdata_1subtracted, name = 'SCI')\n",
    "hdul = fits.HDUList([Primary, SCI])\n",
    "hdul.writeto('avg_dark_summed_data.fits', overwrite = True)"
   ]
  },
  {
   "cell_type": "code",
   "execution_count": 12,
   "id": "02b88e31",
   "metadata": {},
   "outputs": [
    {
     "data": {
      "text/plain": [
       "[<matplotlib.lines.Line2D at 0x7fdaa971d050>]"
      ]
     },
     "execution_count": 12,
     "metadata": {},
     "output_type": "execute_result"
    },
    {
     "data": {
      "image/png": "[encoded data removed]",
      "text/plain": [
       "<Figure size 432x288 with 1 Axes>"
      ]
     },
     "metadata": {
      "needs_background": "light"
     },
     "output_type": "display_data"
    }
   ],
   "source": [
    "arch_temp = []\n",
    "arch_darks = []\n",
    "for item in dark_lst:\n",
    "    file = fits.open(item)\n",
    "    exptime = file[0].header['EXPTIME']\n",
    "    temp = (file[1].header['MDECODT1'] + file[1].header['MDECODT2']) /2 \n",
    "    year = int(file[0].header['DATE'][:4])\n",
    "    data_ps = file[1].data/ exptime\n",
    "    \n",
    "    if year >= 2022 and temp >= 0.0:\n",
    "        arch_temp.append(temp)\n",
    "        sample = data_ps[471: 822, 471:822]\n",
    "        darks = sum(sum(sample)) / (len(sample) * len(sample[0]))\n",
    "        arch_darks.append(darks)\n",
    "        \n",
    "        \n",
    "data_temp = []\n",
    "data_darks = []\n",
    "for item in flaged_lst:\n",
    "    file = fits.open(item)\n",
    "    exptime = file[0].header['EXPTIME']\n",
    "    temp = (file[1].header['MDECODT1'] + file[1].header['MDECODT2']) /2 \n",
    "    year = int(file[0].header['DATE'][:4])\n",
    "    data_ps = file[1].data/ exptime\n",
    "    \n",
    "    data_temp.append(temp)\n",
    "    sample = data_ps[471:822 , 471:822]\n",
    "    darks = sum(sum(sample)) /( (len(sample) * len(sample[0])) - (2*e)**2)\n",
    "    data_darks.append(darks)\n",
    "    \n",
    "plt.plot(arch_temp, arch_darks, 'o')\n",
    "plt.plot(data_temp, data_darks, 'o')"
   ]
  },
  {
   "cell_type": "code",
   "execution_count": null,
   "id": "d1c6ac39",
   "metadata": {},
   "outputs": [],
   "source": [
    "%%time\n",
    "flaged_lst = glob.glob('*_flaged.fits')\n",
    "sumdata_1subtracted = np.zeros((1024,1024))\n",
    "exptime_table = np.zeros((1024,1024))\n",
    "idx = 0\n",
    "for filename in flaged_lst:\n",
    "        file = fits.open(filename)\n",
    "        data = file[1].data\n",
    "        flaged_table = file['FLAG'].data\n",
    "        flaged_subtracted = file['FS'].data\n",
    "        exptime = file[0].header['EXPTIME']\n",
    "        temp = (file[1].header['MDECODT1'] + file[1].header['MDECODT2']) /2 \n",
    "        \n",
    "        if temp > 23.0:\n",
    "            continue\n",
    "        idx += 1\n",
    "        exptime_table += exptime * flaged_table\n",
    "        sumdata_1subtracted += flaged_subtracted\n",
    "        #print(file[0].header['DATE'])\n",
    "for i in range(0, 1024):\n",
    "    for j in range(0, 1024):\n",
    "        sumdata_1subtracted[i][j] /= exptime_table[i][j]\n",
    "\n",
    "print(idx)\n",
    "Primary = fits.PrimaryHDU()\n",
    "SCI = fits.ImageHDU(sumdata_1subtracted, name = 'SCI')\n",
    "hdul = fits.HDUList([Primary, SCI])\n",
    "hdul.writeto('avg_dark_summed_data_uptemp23.fits', overwrite = True)"
   ]
  },
  {
   "cell_type": "code",
   "execution_count": null,
   "id": "f46320a3",
   "metadata": {},
   "outputs": [],
   "source": [
    "ref_dark = fits.open('refdark_archived_uptemp25_20222022.fits')\n",
    "real_dark = fits.open('avg_dark_summed_data_uptemp25.fits')\n",
    "\n",
    "ref_dark_data = ref_dark[1].data\n",
    "real_dark_data = real_dark[1].data\n",
    "\n",
    "data = real_dark_data - ref_dark_data\n",
    "Primary = fits.PrimaryHDU(data)\n",
    "hdul = fits.HDUList([Primary])\n",
    "hdul.writeto('real_minus_ref_uptemp25_2022.fits', overwrite = True)"
   ]
  },
  {
   "cell_type": "code",
   "execution_count": null,
   "id": "6ee959f6",
   "metadata": {},
   "outputs": [],
   "source": [
    "ref_dark = fits.open('refdark_archived_uptemp24_20222022.fits')\n",
    "real_dark = fits.open('avg_dark_summed_data_uptemp24.fits')\n",
    "\n",
    "ref_dark_data = ref_dark[1].data\n",
    "real_dark_data = real_dark[1].data\n",
    "\n",
    "data = real_dark_data - ref_dark_data\n",
    "Primary = fits.PrimaryHDU(data)\n",
    "hdul = fits.HDUList([Primary])\n",
    "hdul.writeto('real_minus_ref_uptemp24_2022.fits', overwrite = True)"
   ]
  },
  {
   "cell_type": "code",
   "execution_count": null,
   "id": "830bae58",
   "metadata": {},
   "outputs": [],
   "source": [
    "ref_dark = fits.open('refdark_archived_uptemp23_20222022.fits')\n",
    "real_dark = fits.open('avg_dark_summed_data_uptemp23.fits')\n",
    "\n",
    "ref_dark_data = ref_dark[1].data\n",
    "real_dark_data = real_dark[1].data\n",
    "\n",
    "data = real_dark_data - ref_dark_data\n",
    "Primary = fits.PrimaryHDU(data)\n",
    "hdul = fits.HDUList([Primary])\n",
    "hdul.writeto('real_minus_ref_uptemp23_2022.fits', overwrite = True)"
   ]
  },
  {
   "cell_type": "code",
   "execution_count": null,
   "id": "337c1e08",
   "metadata": {},
   "outputs": [],
   "source": [
    "real_data = fits.open('jec401noq_flaged.fits')\n",
    "real_dark = fits.open('avg_dark_summed_data_uptemp24.fits')\n",
    "\n",
    "temp = (real_data[1].header['MDECODT1'] + real_data[1].header['MDECODT2']) /2 \n",
    "exptime = real_data[0].header['EXPTIME']\n",
    "real_data = real_data[1].data\n",
    "real_dark_data = real_dark[1].data\n",
    "\n",
    "data = real_data - real_dark_data * exptime\n",
    "Primary = fits.PrimaryHDU(data)\n",
    "hdul = fits.HDUList([Primary])\n",
    "hdul.writeto('abc_test.fits', overwrite = True)"
   ]
  },
  {
   "cell_type": "code",
   "execution_count": null,
   "id": "b3828311",
   "metadata": {},
   "outputs": [],
   "source": []
  }
 ],
 "metadata": {
  "kernelspec": {
   "display_name": "Python 3 (ipykernel)",
   "language": "python",
   "name": "python3"
  },
  "language_info": {
   "codemirror_mode": {
    "name": "ipython",
    "version": 3
   },
   "file_extension": ".py",
   "mimetype": "text/x-python",
   "name": "python",
   "nbconvert_exporter": "python",
   "pygments_lexer": "ipython3",
   "version": "3.7.13"
  }
 },
 "nbformat": 4,
 "nbformat_minor": 5
}
