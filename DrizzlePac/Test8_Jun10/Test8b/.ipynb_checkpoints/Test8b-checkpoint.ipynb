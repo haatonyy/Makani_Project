{
 "cells": [
  {
   "cell_type": "code",
   "execution_count": 1,
   "id": "21ae4f82",
   "metadata": {},
   "outputs": [
    {
     "name": "stdout",
     "output_type": "stream",
     "text": [
      "\n",
      "\n",
      "The following task in the stsci.skypac package can be run with TEAL:\n",
      "                                    skymatch                                    \n",
      "The following tasks in the drizzlepac package can be run with TEAL:\n",
      "    astrodrizzle       config_testbed      imagefindpars           mapreg       \n",
      "       photeq            pixreplace           pixtopix            pixtosky      \n",
      "  refimagefindpars       resetbits          runastrodriz          skytopix      \n",
      "     tweakback            tweakreg           updatenpol\n"
     ]
    }
   ],
   "source": [
    "from astroquery.mast import Observations\n",
    "from ccdproc import ImageFileCollection\n",
    "from astropy.table import Table\n",
    "from astropy.io import fits\n",
    "from astropy.io import ascii\n",
    "from astropy.visualization import ZScaleInterval\n",
    "from IPython.display import Image\n",
    "import glob\n",
    "import matplotlib.pyplot as plt\n",
    "import numpy as np\n",
    "import os\n",
    "import shutil\n",
    "from drizzlepac import tweakreg\n",
    "from drizzlepac import astrodrizzle"
   ]
  },
  {
   "cell_type": "markdown",
   "id": "caa17906",
   "metadata": {},
   "source": [
    "A way to import files from each visit <br>"
   ]
  },
  {
   "cell_type": "code",
   "execution_count": 65,
   "id": "d24f98bb",
   "metadata": {},
   "outputs": [
    {
     "name": "stdout",
     "output_type": "stream",
     "text": [
      "Downloading URL https://mast.stsci.edu/api/v0.1/Download/file?uri=mast:HST/product/hst_16231_01_acs_sbc_f150lp_jec401no_flt.fits to ./science/mastDownload/HST/hst_16231_01_acs_sbc_f150lp_jec401no/hst_16231_01_acs_sbc_f150lp_jec401no_flt.fits ... [Done]\n",
      "Downloading URL https://mast.stsci.edu/api/v0.1/Download/file?uri=mast:HST/product/hst_16231_01_acs_sbc_f150lp_jec401nr_flt.fits to ./science/mastDownload/HST/hst_16231_01_acs_sbc_f150lp_jec401nr/hst_16231_01_acs_sbc_f150lp_jec401nr_flt.fits ... [Done]\n",
      "Downloading URL https://mast.stsci.edu/api/v0.1/Download/file?uri=mast:HST/product/hst_16231_01_acs_sbc_f150lp_jec401nv_flt.fits to ./science/mastDownload/HST/hst_16231_01_acs_sbc_f150lp_jec401nv/hst_16231_01_acs_sbc_f150lp_jec401nv_flt.fits ... [Done]\n",
      "Downloading URL https://mast.stsci.edu/api/v0.1/Download/file?uri=mast:HST/product/hst_16231_01_acs_sbc_f150lp_jec401nx_flt.fits to ./science/mastDownload/HST/hst_16231_01_acs_sbc_f150lp_jec401nx/hst_16231_01_acs_sbc_f150lp_jec401nx_flt.fits ... [Done]\n",
      "Downloading URL https://mast.stsci.edu/api/v0.1/Download/file?uri=mast:HST/product/jec401noq_flt.fits to ./science/mastDownload/HST/jec401noq/jec401noq_flt.fits ... [Done]\n",
      "Downloading URL https://mast.stsci.edu/api/v0.1/Download/file?uri=mast:HST/product/jec401nrq_flt.fits to ./science/mastDownload/HST/jec401nrq/jec401nrq_flt.fits ... [Done]\n",
      "Downloading URL https://mast.stsci.edu/api/v0.1/Download/file?uri=mast:HST/product/jec401nvq_flt.fits to ./science/mastDownload/HST/jec401nvq/jec401nvq_flt.fits ... [Done]\n",
      "Downloading URL https://mast.stsci.edu/api/v0.1/Download/file?uri=mast:HST/product/jec401nxq_flt.fits to ./science/mastDownload/HST/jec401nxq/jec401nxq_flt.fits ... [Done]\n"
     ]
    }
   ],
   "source": [
    "science_list = Observations.query_criteria(proposal_id='16231', filters='F150LP',\\\n",
    "                                           obs_id='jec401010')\n",
    "Observations.download_products(science_list['obsid'], mrp_only=False, download_dir='./science',\\\n",
    "                               productSubGroupDescription=['FLT'])\n",
    "\n",
    "science_files = glob.glob(os.path.join(os.curdir, 'science', 'mastDownload', 'HST', '*', '*fits'))\n",
    "for im in science_files:\n",
    "    root = im.split('/')[-1]\n",
    "    os.rename(im, './' + root)\n",
    "shutil.rmtree('science/')"
   ]
  },
  {
   "cell_type": "code",
   "execution_count": 66,
   "id": "b00c7073",
   "metadata": {},
   "outputs": [
    {
     "name": "stdout",
     "output_type": "stream",
     "text": [
      "Downloading URL https://mast.stsci.edu/api/v0.1/Download/file?uri=mast:HST/product/hst_16231_03_acs_sbc_f150lp_jec403ib_flt.fits to ./science/mastDownload/HST/hst_16231_03_acs_sbc_f150lp_jec403ib/hst_16231_03_acs_sbc_f150lp_jec403ib_flt.fits ... [Done]\n",
      "Downloading URL https://mast.stsci.edu/api/v0.1/Download/file?uri=mast:HST/product/hst_16231_03_acs_sbc_f150lp_jec403ic_flt.fits to ./science/mastDownload/HST/hst_16231_03_acs_sbc_f150lp_jec403ic/hst_16231_03_acs_sbc_f150lp_jec403ic_flt.fits ... [Done]\n",
      "Downloading URL https://mast.stsci.edu/api/v0.1/Download/file?uri=mast:HST/product/hst_16231_03_acs_sbc_f150lp_jec403id_flt.fits to ./science/mastDownload/HST/hst_16231_03_acs_sbc_f150lp_jec403id/hst_16231_03_acs_sbc_f150lp_jec403id_flt.fits ... [Done]\n",
      "Downloading URL https://mast.stsci.edu/api/v0.1/Download/file?uri=mast:HST/product/hst_16231_03_acs_sbc_f150lp_jec403ie_flt.fits to ./science/mastDownload/HST/hst_16231_03_acs_sbc_f150lp_jec403ie/hst_16231_03_acs_sbc_f150lp_jec403ie_flt.fits ... [Done]\n",
      "Downloading URL https://mast.stsci.edu/api/v0.1/Download/file?uri=mast:HST/product/jec403ibq_flt.fits to ./science/mastDownload/HST/jec403ibq/jec403ibq_flt.fits ... [Done]\n",
      "Downloading URL https://mast.stsci.edu/api/v0.1/Download/file?uri=mast:HST/product/jec403icq_flt.fits to ./science/mastDownload/HST/jec403icq/jec403icq_flt.fits ... [Done]\n",
      "Downloading URL https://mast.stsci.edu/api/v0.1/Download/file?uri=mast:HST/product/jec403idq_flt.fits to ./science/mastDownload/HST/jec403idq/jec403idq_flt.fits ... [Done]\n",
      "Downloading URL https://mast.stsci.edu/api/v0.1/Download/file?uri=mast:HST/product/jec403ieq_flt.fits to ./science/mastDownload/HST/jec403ieq/jec403ieq_flt.fits ... [Done]\n"
     ]
    }
   ],
   "source": [
    "science_list = Observations.query_criteria(proposal_id='16231', filters='F150LP',\\\n",
    "                                           obs_id='jec403*')\n",
    "Observations.download_products(science_list['obsid'], mrp_only=False, download_dir='./science',\\\n",
    "                               productSubGroupDescription=['FLT'])\n",
    "\n",
    "science_files = glob.glob(os.path.join(os.curdir, 'science', 'mastDownload', 'HST', '*', '*fits'))\n",
    "for im in science_files:\n",
    "    root = im.split('/')[-1]\n",
    "    os.rename(im, './' + root)\n",
    "shutil.rmtree('science/')"
   ]
  },
  {
   "cell_type": "code",
   "execution_count": 67,
   "id": "a3ef2ff6",
   "metadata": {},
   "outputs": [
    {
     "data": {
      "text/html": [
       "<div><i>Table masked=True length=16</i>\n",
       "<table id=\"table140603429499760\" class=\"table-striped table-bordered table-condensed\">\n",
       "<thead><tr><th>file</th><th>asn_id</th><th>detector</th><th>filter</th><th>nsamp</th><th>exptime</th><th>postarg1</th><th>postarg2</th></tr></thead>\n",
       "<thead><tr><th>str45</th><th>str9</th><th>str3</th><th>float64</th><th>float64</th><th>float64</th><th>float64</th><th>float64</th></tr></thead>\n",
       "<tr><td>hst_16231_01_acs_sbc_f150lp_jec401no_flt.fits</td><td>JEC401010</td><td>SBC</td><td>--</td><td>--</td><td>624.0</td><td>-0.21</td><td>-0.36</td></tr>\n",
       "<tr><td>hst_16231_01_acs_sbc_f150lp_jec401nr_flt.fits</td><td>JEC401010</td><td>SBC</td><td>--</td><td>--</td><td>624.0</td><td>0.63</td><td>-0.05</td></tr>\n",
       "<tr><td>hst_16231_01_acs_sbc_f150lp_jec401nv_flt.fits</td><td>JEC401010</td><td>SBC</td><td>--</td><td>--</td><td>624.0</td><td>0.21</td><td>0.36</td></tr>\n",
       "<tr><td>hst_16231_01_acs_sbc_f150lp_jec401nx_flt.fits</td><td>JEC401010</td><td>SBC</td><td>--</td><td>--</td><td>624.0</td><td>-0.63</td><td>0.05</td></tr>\n",
       "<tr><td>hst_16231_03_acs_sbc_f150lp_jec403ib_flt.fits</td><td>JEC403010</td><td>SBC</td><td>--</td><td>--</td><td>624.0</td><td>1.39</td><td>2.37</td></tr>\n",
       "<tr><td>...</td><td>...</td><td>...</td><td>...</td><td>...</td><td>...</td><td>...</td><td>...</td></tr>\n",
       "<tr><td>jec401nvq_flt.fits</td><td>JEC401010</td><td>SBC</td><td>--</td><td>--</td><td>624.0</td><td>0.21</td><td>0.36</td></tr>\n",
       "<tr><td>jec401nxq_flt.fits</td><td>JEC401010</td><td>SBC</td><td>--</td><td>--</td><td>624.0</td><td>-0.63</td><td>0.05</td></tr>\n",
       "<tr><td>jec403ibq_flt.fits</td><td>JEC403010</td><td>SBC</td><td>--</td><td>--</td><td>624.0</td><td>1.39</td><td>2.37</td></tr>\n",
       "<tr><td>jec403icq_flt.fits</td><td>JEC403010</td><td>SBC</td><td>--</td><td>--</td><td>624.0</td><td>2.23</td><td>2.68</td></tr>\n",
       "<tr><td>jec403idq_flt.fits</td><td>JEC403010</td><td>SBC</td><td>--</td><td>--</td><td>624.0</td><td>1.81</td><td>3.09</td></tr>\n",
       "<tr><td>jec403ieq_flt.fits</td><td>JEC403010</td><td>SBC</td><td>--</td><td>--</td><td>624.0</td><td>0.97</td><td>2.78</td></tr>\n",
       "</table></div>"
      ],
      "text/plain": [
       "<Table masked=True length=16>\n",
       "                     file                       asn_id  ... postarg1 postarg2\n",
       "                    str45                        str9   ... float64  float64 \n",
       "--------------------------------------------- --------- ... -------- --------\n",
       "hst_16231_01_acs_sbc_f150lp_jec401no_flt.fits JEC401010 ...    -0.21    -0.36\n",
       "hst_16231_01_acs_sbc_f150lp_jec401nr_flt.fits JEC401010 ...     0.63    -0.05\n",
       "hst_16231_01_acs_sbc_f150lp_jec401nv_flt.fits JEC401010 ...     0.21     0.36\n",
       "hst_16231_01_acs_sbc_f150lp_jec401nx_flt.fits JEC401010 ...    -0.63     0.05\n",
       "hst_16231_03_acs_sbc_f150lp_jec403ib_flt.fits JEC403010 ...     1.39     2.37\n",
       "                                          ...       ... ...      ...      ...\n",
       "                           jec401nvq_flt.fits JEC401010 ...     0.21     0.36\n",
       "                           jec401nxq_flt.fits JEC401010 ...    -0.63     0.05\n",
       "                           jec403ibq_flt.fits JEC403010 ...     1.39     2.37\n",
       "                           jec403icq_flt.fits JEC403010 ...     2.23     2.68\n",
       "                           jec403idq_flt.fits JEC403010 ...     1.81     3.09\n",
       "                           jec403ieq_flt.fits JEC403010 ...     0.97     2.78"
      ]
     },
     "execution_count": 67,
     "metadata": {},
     "output_type": "execute_result"
    }
   ],
   "source": [
    "collect = ImageFileCollection('./', glob_include=\"*flt.fits\", ext=0,\n",
    "                                 keywords=[\"asn_id\", \"detector\", \"filter\", \"nsamp\",\n",
    "                                           \"exptime\", \"postarg1\", \"postarg2\"])\n",
    "\n",
    "table = collect.summary\n",
    "table['exptime'].format = '7.1f'\n",
    "table['postarg1'].format = '7.2f'\n",
    "table['postarg2'].format = '7.2f'\n",
    "table"
   ]
  },
  {
   "cell_type": "code",
   "execution_count": 68,
   "id": "64774b6b",
   "metadata": {},
   "outputs": [],
   "source": [
    "no = 'hst_16231_01_acs_sbc_f150lp_jec401no_flt.fits'\n",
    "nr = 'hst_16231_01_acs_sbc_f150lp_jec401nr_flt.fits'\n",
    "nv = 'hst_16231_01_acs_sbc_f150lp_jec401nv_flt.fits'\n",
    "nx = 'hst_16231_01_acs_sbc_f150lp_jec401nx_flt.fits'\n",
    "lst_1 = [no, nr, nv, nx]\n",
    "ib = 'hst_16231_03_acs_sbc_f150lp_jec403ib_flt.fits'\n",
    "ic = 'hst_16231_03_acs_sbc_f150lp_jec403ic_flt.fits'\n",
    "id3 = 'hst_16231_03_acs_sbc_f150lp_jec403id_flt.fits'\n",
    "ie = 'hst_16231_03_acs_sbc_f150lp_jec403ie_flt.fits'\n",
    "lst_3 = [ib, ic, id3, ie]"
   ]
  },
  {
   "cell_type": "code",
   "execution_count": 71,
   "id": "43ba2629",
   "metadata": {},
   "outputs": [
    {
     "name": "stderr",
     "output_type": "stream",
     "text": [
      "INFO:drizzlepac.util:Setting up logfile :  tweakreg.log\n"
     ]
    },
    {
     "name": "stdout",
     "output_type": "stream",
     "text": [
      "Setting up logfile :  tweakreg.log\n"
     ]
    },
    {
     "name": "stderr",
     "output_type": "stream",
     "text": [
      "INFO:drizzlepac.tweakreg:TweakReg Version 3.4.2 started at: 15:54:03.711 (10/06/2022) \n"
     ]
    },
    {
     "name": "stdout",
     "output_type": "stream",
     "text": [
      "TweakReg Version 3.4.2 started at: 15:54:03.711 (10/06/2022) \n"
     ]
    },
    {
     "name": "stderr",
     "output_type": "stream",
     "text": [
      "INFO:drizzlepac.tweakreg:\n"
     ]
    },
    {
     "name": "stdout",
     "output_type": "stream",
     "text": [
      "\n"
     ]
    },
    {
     "name": "stderr",
     "output_type": "stream",
     "text": [
      "INFO:drizzlepac.util:Version Information\n"
     ]
    },
    {
     "name": "stdout",
     "output_type": "stream",
     "text": [
      "Version Information\n"
     ]
    },
    {
     "name": "stderr",
     "output_type": "stream",
     "text": [
      "INFO:drizzlepac.util:--------------------\n"
     ]
    },
    {
     "name": "stdout",
     "output_type": "stream",
     "text": [
      "--------------------\n"
     ]
    },
    {
     "name": "stderr",
     "output_type": "stream",
     "text": [
      "INFO:drizzlepac.util:Python Version [Clang 12.0.0 ]\n"
     ]
    },
    {
     "name": "stdout",
     "output_type": "stream",
     "text": [
      "Python Version [Clang 12.0.0 ]\n"
     ]
    },
    {
     "name": "stderr",
     "output_type": "stream",
     "text": [
      "INFO:drizzlepac.util:3.9.12 (main, Jun  1 2022, 06:36:29) \n"
     ]
    },
    {
     "name": "stdout",
     "output_type": "stream",
     "text": [
      "3.9.12 (main, Jun  1 2022, 06:36:29) \n"
     ]
    },
    {
     "name": "stderr",
     "output_type": "stream",
     "text": [
      "INFO:drizzlepac.util:numpy Version -> 1.22.4 \n"
     ]
    },
    {
     "name": "stdout",
     "output_type": "stream",
     "text": [
      "numpy Version -> 1.22.4 \n"
     ]
    },
    {
     "name": "stderr",
     "output_type": "stream",
     "text": [
      "INFO:drizzlepac.util:astropy Version -> 5.1 \n"
     ]
    },
    {
     "name": "stdout",
     "output_type": "stream",
     "text": [
      "astropy Version -> 5.1 \n"
     ]
    },
    {
     "name": "stderr",
     "output_type": "stream",
     "text": [
      "INFO:drizzlepac.util:stwcs Version -> 1.7.2 \n"
     ]
    },
    {
     "name": "stdout",
     "output_type": "stream",
     "text": [
      "stwcs Version -> 1.7.2 \n"
     ]
    },
    {
     "name": "stderr",
     "output_type": "stream",
     "text": [
      "INFO:drizzlepac.tweakreg:\n",
      "INFO:drizzlepac.tweakreg:USER INPUT PARAMETERS common to all Processing Steps:\n",
      "INFO:drizzlepac.tweakreg:\tclean :\tFalse\n",
      "INFO:drizzlepac.tweakreg:\tenforce_user_order :\tTrue\n",
      "INFO:drizzlepac.tweakreg:\texclusions :\t\n",
      "INFO:drizzlepac.tweakreg:\texpand_refcat :\tFalse\n",
      "INFO:drizzlepac.tweakreg:\tinput :\t['hst_16231_01_acs_sbc_f150lp_jec401no_flt.fits', 'hst_16231_01_acs_sbc_f150lp_jec401nr_flt.fits', 'hst_16231_01_acs_sbc_f150lp_jec401nv_flt.fits', 'hst_16231_01_acs_sbc_f150lp_jec401nx_flt.fits', 'hst_16231_03_acs_sbc_f150lp_jec403ib_flt.fits', 'hst_16231_03_acs_sbc_f150lp_jec403ic_flt.fits', 'hst_16231_03_acs_sbc_f150lp_jec403id_flt.fits', 'hst_16231_03_acs_sbc_f150lp_jec403ie_flt.fits']\n",
      "INFO:drizzlepac.tweakreg:\tinteractive :\tFalse\n",
      "INFO:drizzlepac.tweakreg:\trefimage :\t\n",
      "INFO:drizzlepac.tweakreg:\trunfile :\ttweakreg.log\n",
      "INFO:drizzlepac.tweakreg:\tupdatewcs :\tFalse\n",
      "INFO:drizzlepac.tweakreg:\tverbose :\tFalse\n",
      "INFO:drizzlepac.tweakreg:\twritecat :\tTrue\n",
      "INFO:drizzlepac.tweakreg:\n"
     ]
    },
    {
     "name": "stdout",
     "output_type": "stream",
     "text": [
      "\n"
     ]
    },
    {
     "name": "stderr",
     "output_type": "stream",
     "text": [
      "INFO:drizzlepac.tweakreg:Finding shifts for: \n"
     ]
    },
    {
     "name": "stdout",
     "output_type": "stream",
     "text": [
      "Finding shifts for: \n"
     ]
    },
    {
     "name": "stderr",
     "output_type": "stream",
     "text": [
      "INFO:drizzlepac.tweakreg:    hst_16231_01_acs_sbc_f150lp_jec401no_flt.fits\n"
     ]
    },
    {
     "name": "stdout",
     "output_type": "stream",
     "text": [
      "    hst_16231_01_acs_sbc_f150lp_jec401no_flt.fits\n"
     ]
    },
    {
     "name": "stderr",
     "output_type": "stream",
     "text": [
      "INFO:drizzlepac.tweakreg:    hst_16231_01_acs_sbc_f150lp_jec401nr_flt.fits\n"
     ]
    },
    {
     "name": "stdout",
     "output_type": "stream",
     "text": [
      "    hst_16231_01_acs_sbc_f150lp_jec401nr_flt.fits\n"
     ]
    },
    {
     "name": "stderr",
     "output_type": "stream",
     "text": [
      "INFO:drizzlepac.tweakreg:    hst_16231_01_acs_sbc_f150lp_jec401nv_flt.fits\n"
     ]
    },
    {
     "name": "stdout",
     "output_type": "stream",
     "text": [
      "    hst_16231_01_acs_sbc_f150lp_jec401nv_flt.fits\n"
     ]
    },
    {
     "name": "stderr",
     "output_type": "stream",
     "text": [
      "INFO:drizzlepac.tweakreg:    hst_16231_01_acs_sbc_f150lp_jec401nx_flt.fits\n"
     ]
    },
    {
     "name": "stdout",
     "output_type": "stream",
     "text": [
      "    hst_16231_01_acs_sbc_f150lp_jec401nx_flt.fits\n"
     ]
    },
    {
     "name": "stderr",
     "output_type": "stream",
     "text": [
      "INFO:drizzlepac.tweakreg:    hst_16231_03_acs_sbc_f150lp_jec403ib_flt.fits\n"
     ]
    },
    {
     "name": "stdout",
     "output_type": "stream",
     "text": [
      "    hst_16231_03_acs_sbc_f150lp_jec403ib_flt.fits\n"
     ]
    },
    {
     "name": "stderr",
     "output_type": "stream",
     "text": [
      "INFO:drizzlepac.tweakreg:    hst_16231_03_acs_sbc_f150lp_jec403ic_flt.fits\n"
     ]
    },
    {
     "name": "stdout",
     "output_type": "stream",
     "text": [
      "    hst_16231_03_acs_sbc_f150lp_jec403ic_flt.fits\n"
     ]
    },
    {
     "name": "stderr",
     "output_type": "stream",
     "text": [
      "INFO:drizzlepac.tweakreg:    hst_16231_03_acs_sbc_f150lp_jec403id_flt.fits\n"
     ]
    },
    {
     "name": "stdout",
     "output_type": "stream",
     "text": [
      "    hst_16231_03_acs_sbc_f150lp_jec403id_flt.fits\n"
     ]
    },
    {
     "name": "stderr",
     "output_type": "stream",
     "text": [
      "INFO:drizzlepac.tweakreg:    hst_16231_03_acs_sbc_f150lp_jec403ie_flt.fits\n"
     ]
    },
    {
     "name": "stdout",
     "output_type": "stream",
     "text": [
      "    hst_16231_03_acs_sbc_f150lp_jec403ie_flt.fits\n"
     ]
    },
    {
     "name": "stderr",
     "output_type": "stream",
     "text": [
      "INFO:drizzlepac.tweakreg:\n"
     ]
    },
    {
     "name": "stdout",
     "output_type": "stream",
     "text": [
      "\n"
     ]
    },
    {
     "name": "stderr",
     "output_type": "stream",
     "text": [
      "INFO:drizzlepac.tweakreg:USER INPUT PARAMETERS for finding sources for each input image:\n",
      "INFO:drizzlepac.tweakreg:\tclean :\tFalse\n",
      "INFO:drizzlepac.tweakreg:\tcomputesig :\tTrue\n",
      "INFO:drizzlepac.tweakreg:\tconv_width :\t3.5\n",
      "INFO:drizzlepac.tweakreg:\tdqbits :\t\n",
      "INFO:drizzlepac.tweakreg:\tenforce_user_order :\tTrue\n",
      "INFO:drizzlepac.tweakreg:\texpand_refcat :\tFalse\n",
      "INFO:drizzlepac.tweakreg:\tfluxmax :\tNone\n",
      "INFO:drizzlepac.tweakreg:\tfluxmin :\tNone\n",
      "INFO:drizzlepac.tweakreg:\tinput :\t['hst_16231_01_acs_sbc_f150lp_jec401no_flt.fits', 'hst_16231_01_acs_sbc_f150lp_jec401nr_flt.fits', 'hst_16231_01_acs_sbc_f150lp_jec401nv_flt.fits', 'hst_16231_01_acs_sbc_f150lp_jec401nx_flt.fits', 'hst_16231_03_acs_sbc_f150lp_jec403ib_flt.fits', 'hst_16231_03_acs_sbc_f150lp_jec403ic_flt.fits', 'hst_16231_03_acs_sbc_f150lp_jec403id_flt.fits', 'hst_16231_03_acs_sbc_f150lp_jec403ie_flt.fits']\n",
      "INFO:drizzlepac.tweakreg:\tinteractive :\tFalse\n",
      "INFO:drizzlepac.tweakreg:\tnsigma :\t1.5\n",
      "INFO:drizzlepac.tweakreg:\tpeakmax :\tNone\n",
      "INFO:drizzlepac.tweakreg:\tpeakmin :\t1\n",
      "INFO:drizzlepac.tweakreg:\tratio :\t1.0\n",
      "INFO:drizzlepac.tweakreg:\trefimage :\t\n",
      "INFO:drizzlepac.tweakreg:\troundhi :\t1.0\n",
      "INFO:drizzlepac.tweakreg:\troundlo :\t-1.0\n",
      "INFO:drizzlepac.tweakreg:\trunfile :\ttweakreg.log\n",
      "INFO:drizzlepac.tweakreg:\tsharphi :\t1.0\n",
      "INFO:drizzlepac.tweakreg:\tsharplo :\t0.2\n",
      "INFO:drizzlepac.tweakreg:\tskysigma :\t0.0\n",
      "INFO:drizzlepac.tweakreg:\ttheta :\t0.0\n",
      "INFO:drizzlepac.tweakreg:\tthreshold :\t400\n",
      "INFO:drizzlepac.tweakreg:\tupdatehdr :\tTrue\n",
      "INFO:drizzlepac.tweakreg:\tupdatewcs :\tFalse\n",
      "INFO:drizzlepac.tweakreg:\tuse_sharp_round :\tFalse\n",
      "INFO:drizzlepac.tweakreg:\tverbose :\tFalse\n",
      "INFO:drizzlepac.tweakreg:\twritecat :\tTrue\n",
      "INFO:drizzlepac.tweakreg:\txyunits :\tpixels\n",
      "INFO:drizzlepac.tweakreg:\n",
      "INFO:drizzlepac.imgclasses:===  Source finding for image 'hst_16231_01_acs_sbc_f150lp_jec401no_flt.fits':\n"
     ]
    },
    {
     "name": "stdout",
     "output_type": "stream",
     "text": [
      "===  Source finding for image 'hst_16231_01_acs_sbc_f150lp_jec401no_flt.fits':\n"
     ]
    },
    {
     "name": "stderr",
     "output_type": "stream",
     "text": [
      "INFO:drizzlepac.catalogs:  #  Source finding for 'hst_16231_01_acs_sbc_f150lp_jec401no_flt.fits', EXT=('SCI', 1) started at: 15:54:03.991 (10/06/2022)\n"
     ]
    },
    {
     "name": "stdout",
     "output_type": "stream",
     "text": [
      "  #  Source finding for 'hst_16231_01_acs_sbc_f150lp_jec401no_flt.fits', EXT=('SCI', 1) started at: 15:54:03.991 (10/06/2022)\n"
     ]
    },
    {
     "name": "stderr",
     "output_type": "stream",
     "text": [
      "INFO:stsci.imagestats:! WARNING: Clipped data falls within 1 histogram bin\n"
     ]
    },
    {
     "name": "stdout",
     "output_type": "stream",
     "text": [
      "! WARNING: Clipped data falls within 1 histogram bin\n"
     ]
    },
    {
     "name": "stderr",
     "output_type": "stream",
     "text": [
      "INFO:drizzlepac.catalogs:   Finding sources using sky sigma = 0.000000\n",
      "INFO:drizzlepac.catalogs:###Source finding finished at: 15:54:04.285 (10/06/2022)\n",
      "INFO:drizzlepac.catalogs:     Found 3882 objects.\n"
     ]
    },
    {
     "name": "stdout",
     "output_type": "stream",
     "text": [
      "     Found 3882 objects.\n"
     ]
    },
    {
     "name": "stderr",
     "output_type": "stream",
     "text": [
      "INFO:drizzlepac.imgclasses:===  FINAL number of objects in image 'hst_16231_01_acs_sbc_f150lp_jec401no_flt.fits': 3882\n"
     ]
    },
    {
     "name": "stdout",
     "output_type": "stream",
     "text": [
      "===  FINAL number of objects in image 'hst_16231_01_acs_sbc_f150lp_jec401no_flt.fits': 3882\n"
     ]
    },
    {
     "name": "stderr",
     "output_type": "stream",
     "text": [
      "INFO:drizzlepac.imgclasses:\n"
     ]
    },
    {
     "name": "stdout",
     "output_type": "stream",
     "text": [
      "\n"
     ]
    },
    {
     "name": "stderr",
     "output_type": "stream",
     "text": [
      "INFO:drizzlepac.imgclasses:===  Source finding for image 'hst_16231_01_acs_sbc_f150lp_jec401nr_flt.fits':\n"
     ]
    },
    {
     "name": "stdout",
     "output_type": "stream",
     "text": [
      "===  Source finding for image 'hst_16231_01_acs_sbc_f150lp_jec401nr_flt.fits':\n"
     ]
    },
    {
     "name": "stderr",
     "output_type": "stream",
     "text": [
      "INFO:drizzlepac.catalogs:  #  Source finding for 'hst_16231_01_acs_sbc_f150lp_jec401nr_flt.fits', EXT=('SCI', 1) started at: 15:54:04.422 (10/06/2022)\n"
     ]
    },
    {
     "name": "stdout",
     "output_type": "stream",
     "text": [
      "  #  Source finding for 'hst_16231_01_acs_sbc_f150lp_jec401nr_flt.fits', EXT=('SCI', 1) started at: 15:54:04.422 (10/06/2022)\n"
     ]
    },
    {
     "name": "stderr",
     "output_type": "stream",
     "text": [
      "INFO:stsci.imagestats:! WARNING: Clipped data falls within 1 histogram bin\n"
     ]
    },
    {
     "name": "stdout",
     "output_type": "stream",
     "text": [
      "! WARNING: Clipped data falls within 1 histogram bin\n"
     ]
    },
    {
     "name": "stderr",
     "output_type": "stream",
     "text": [
      "INFO:drizzlepac.catalogs:   Finding sources using sky sigma = 0.000000\n",
      "INFO:drizzlepac.catalogs:###Source finding finished at: 15:54:04.645 (10/06/2022)\n",
      "INFO:drizzlepac.catalogs:     Found 4104 objects.\n"
     ]
    },
    {
     "name": "stdout",
     "output_type": "stream",
     "text": [
      "     Found 4104 objects.\n"
     ]
    },
    {
     "name": "stderr",
     "output_type": "stream",
     "text": [
      "INFO:drizzlepac.imgclasses:===  FINAL number of objects in image 'hst_16231_01_acs_sbc_f150lp_jec401nr_flt.fits': 4104\n"
     ]
    },
    {
     "name": "stdout",
     "output_type": "stream",
     "text": [
      "===  FINAL number of objects in image 'hst_16231_01_acs_sbc_f150lp_jec401nr_flt.fits': 4104\n"
     ]
    },
    {
     "name": "stderr",
     "output_type": "stream",
     "text": [
      "INFO:drizzlepac.imgclasses:\n"
     ]
    },
    {
     "name": "stdout",
     "output_type": "stream",
     "text": [
      "\n"
     ]
    },
    {
     "name": "stderr",
     "output_type": "stream",
     "text": [
      "INFO:drizzlepac.imgclasses:===  Source finding for image 'hst_16231_01_acs_sbc_f150lp_jec401nv_flt.fits':\n"
     ]
    },
    {
     "name": "stdout",
     "output_type": "stream",
     "text": [
      "===  Source finding for image 'hst_16231_01_acs_sbc_f150lp_jec401nv_flt.fits':\n"
     ]
    },
    {
     "name": "stderr",
     "output_type": "stream",
     "text": [
      "INFO:drizzlepac.catalogs:  #  Source finding for 'hst_16231_01_acs_sbc_f150lp_jec401nv_flt.fits', EXT=('SCI', 1) started at: 15:54:04.784 (10/06/2022)\n"
     ]
    },
    {
     "name": "stdout",
     "output_type": "stream",
     "text": [
      "  #  Source finding for 'hst_16231_01_acs_sbc_f150lp_jec401nv_flt.fits', EXT=('SCI', 1) started at: 15:54:04.784 (10/06/2022)\n"
     ]
    },
    {
     "name": "stderr",
     "output_type": "stream",
     "text": [
      "INFO:stsci.imagestats:! WARNING: Clipped data falls within 1 histogram bin\n"
     ]
    },
    {
     "name": "stdout",
     "output_type": "stream",
     "text": [
      "! WARNING: Clipped data falls within 1 histogram bin\n"
     ]
    },
    {
     "name": "stderr",
     "output_type": "stream",
     "text": [
      "INFO:drizzlepac.catalogs:   Finding sources using sky sigma = 0.000000\n",
      "INFO:drizzlepac.catalogs:###Source finding finished at: 15:54:05.071 (10/06/2022)\n",
      "INFO:drizzlepac.catalogs:     Found 4206 objects.\n"
     ]
    },
    {
     "name": "stdout",
     "output_type": "stream",
     "text": [
      "     Found 4206 objects.\n"
     ]
    },
    {
     "name": "stderr",
     "output_type": "stream",
     "text": [
      "INFO:drizzlepac.imgclasses:===  FINAL number of objects in image 'hst_16231_01_acs_sbc_f150lp_jec401nv_flt.fits': 4206\n"
     ]
    },
    {
     "name": "stdout",
     "output_type": "stream",
     "text": [
      "===  FINAL number of objects in image 'hst_16231_01_acs_sbc_f150lp_jec401nv_flt.fits': 4206\n"
     ]
    },
    {
     "name": "stderr",
     "output_type": "stream",
     "text": [
      "INFO:drizzlepac.imgclasses:\n"
     ]
    },
    {
     "name": "stdout",
     "output_type": "stream",
     "text": [
      "\n"
     ]
    },
    {
     "name": "stderr",
     "output_type": "stream",
     "text": [
      "INFO:drizzlepac.imgclasses:===  Source finding for image 'hst_16231_01_acs_sbc_f150lp_jec401nx_flt.fits':\n"
     ]
    },
    {
     "name": "stdout",
     "output_type": "stream",
     "text": [
      "===  Source finding for image 'hst_16231_01_acs_sbc_f150lp_jec401nx_flt.fits':\n"
     ]
    },
    {
     "name": "stderr",
     "output_type": "stream",
     "text": [
      "INFO:drizzlepac.catalogs:  #  Source finding for 'hst_16231_01_acs_sbc_f150lp_jec401nx_flt.fits', EXT=('SCI', 1) started at: 15:54:05.210 (10/06/2022)\n"
     ]
    },
    {
     "name": "stdout",
     "output_type": "stream",
     "text": [
      "  #  Source finding for 'hst_16231_01_acs_sbc_f150lp_jec401nx_flt.fits', EXT=('SCI', 1) started at: 15:54:05.210 (10/06/2022)\n"
     ]
    },
    {
     "name": "stderr",
     "output_type": "stream",
     "text": [
      "INFO:stsci.imagestats:! WARNING: Clipped data falls within 1 histogram bin\n"
     ]
    },
    {
     "name": "stdout",
     "output_type": "stream",
     "text": [
      "! WARNING: Clipped data falls within 1 histogram bin\n"
     ]
    },
    {
     "name": "stderr",
     "output_type": "stream",
     "text": [
      "INFO:drizzlepac.catalogs:   Finding sources using sky sigma = 0.000000\n",
      "INFO:drizzlepac.catalogs:###Source finding finished at: 15:54:05.530 (10/06/2022)\n",
      "INFO:drizzlepac.catalogs:     Found 4602 objects.\n"
     ]
    },
    {
     "name": "stdout",
     "output_type": "stream",
     "text": [
      "     Found 4602 objects.\n"
     ]
    },
    {
     "name": "stderr",
     "output_type": "stream",
     "text": [
      "INFO:drizzlepac.imgclasses:===  FINAL number of objects in image 'hst_16231_01_acs_sbc_f150lp_jec401nx_flt.fits': 4602\n"
     ]
    },
    {
     "name": "stdout",
     "output_type": "stream",
     "text": [
      "===  FINAL number of objects in image 'hst_16231_01_acs_sbc_f150lp_jec401nx_flt.fits': 4602\n"
     ]
    },
    {
     "name": "stderr",
     "output_type": "stream",
     "text": [
      "INFO:drizzlepac.imgclasses:\n"
     ]
    },
    {
     "name": "stdout",
     "output_type": "stream",
     "text": [
      "\n"
     ]
    },
    {
     "name": "stderr",
     "output_type": "stream",
     "text": [
      "INFO:drizzlepac.imgclasses:===  Source finding for image 'hst_16231_03_acs_sbc_f150lp_jec403ib_flt.fits':\n"
     ]
    },
    {
     "name": "stdout",
     "output_type": "stream",
     "text": [
      "===  Source finding for image 'hst_16231_03_acs_sbc_f150lp_jec403ib_flt.fits':\n"
     ]
    },
    {
     "name": "stderr",
     "output_type": "stream",
     "text": [
      "INFO:drizzlepac.catalogs:  #  Source finding for 'hst_16231_03_acs_sbc_f150lp_jec403ib_flt.fits', EXT=('SCI', 1) started at: 15:54:05.66 (10/06/2022)\n"
     ]
    },
    {
     "name": "stdout",
     "output_type": "stream",
     "text": [
      "  #  Source finding for 'hst_16231_03_acs_sbc_f150lp_jec403ib_flt.fits', EXT=('SCI', 1) started at: 15:54:05.66 (10/06/2022)\n"
     ]
    },
    {
     "name": "stderr",
     "output_type": "stream",
     "text": [
      "INFO:stsci.imagestats:! WARNING: Clipped data falls within 1 histogram bin\n"
     ]
    },
    {
     "name": "stdout",
     "output_type": "stream",
     "text": [
      "! WARNING: Clipped data falls within 1 histogram bin\n"
     ]
    },
    {
     "name": "stderr",
     "output_type": "stream",
     "text": [
      "INFO:drizzlepac.catalogs:   Finding sources using sky sigma = 0.000000\n",
      "INFO:drizzlepac.catalogs:###Source finding finished at: 15:54:05.871 (10/06/2022)\n",
      "INFO:drizzlepac.catalogs:     Found 3313 objects.\n"
     ]
    },
    {
     "name": "stdout",
     "output_type": "stream",
     "text": [
      "     Found 3313 objects.\n"
     ]
    },
    {
     "name": "stderr",
     "output_type": "stream",
     "text": [
      "INFO:drizzlepac.imgclasses:===  FINAL number of objects in image 'hst_16231_03_acs_sbc_f150lp_jec403ib_flt.fits': 3313\n"
     ]
    },
    {
     "name": "stdout",
     "output_type": "stream",
     "text": [
      "===  FINAL number of objects in image 'hst_16231_03_acs_sbc_f150lp_jec403ib_flt.fits': 3313\n"
     ]
    },
    {
     "name": "stderr",
     "output_type": "stream",
     "text": [
      "INFO:drizzlepac.imgclasses:\n"
     ]
    },
    {
     "name": "stdout",
     "output_type": "stream",
     "text": [
      "\n"
     ]
    },
    {
     "name": "stderr",
     "output_type": "stream",
     "text": [
      "INFO:drizzlepac.imgclasses:===  Source finding for image 'hst_16231_03_acs_sbc_f150lp_jec403ic_flt.fits':\n"
     ]
    },
    {
     "name": "stdout",
     "output_type": "stream",
     "text": [
      "===  Source finding for image 'hst_16231_03_acs_sbc_f150lp_jec403ic_flt.fits':\n"
     ]
    },
    {
     "name": "stderr",
     "output_type": "stream",
     "text": [
      "INFO:drizzlepac.catalogs:  #  Source finding for 'hst_16231_03_acs_sbc_f150lp_jec403ic_flt.fits', EXT=('SCI', 1) started at: 15:54:05.982 (10/06/2022)\n"
     ]
    },
    {
     "name": "stdout",
     "output_type": "stream",
     "text": [
      "  #  Source finding for 'hst_16231_03_acs_sbc_f150lp_jec403ic_flt.fits', EXT=('SCI', 1) started at: 15:54:05.982 (10/06/2022)\n"
     ]
    },
    {
     "name": "stderr",
     "output_type": "stream",
     "text": [
      "INFO:stsci.imagestats:! WARNING: Clipped data falls within 1 histogram bin\n"
     ]
    },
    {
     "name": "stdout",
     "output_type": "stream",
     "text": [
      "! WARNING: Clipped data falls within 1 histogram bin\n"
     ]
    },
    {
     "name": "stderr",
     "output_type": "stream",
     "text": [
      "INFO:drizzlepac.catalogs:   Finding sources using sky sigma = 0.000000\n",
      "INFO:drizzlepac.catalogs:###Source finding finished at: 15:54:06.163 (10/06/2022)\n",
      "INFO:drizzlepac.catalogs:     Found 3398 objects.\n"
     ]
    },
    {
     "name": "stdout",
     "output_type": "stream",
     "text": [
      "     Found 3398 objects.\n"
     ]
    },
    {
     "name": "stderr",
     "output_type": "stream",
     "text": [
      "INFO:drizzlepac.imgclasses:===  FINAL number of objects in image 'hst_16231_03_acs_sbc_f150lp_jec403ic_flt.fits': 3398\n"
     ]
    },
    {
     "name": "stdout",
     "output_type": "stream",
     "text": [
      "===  FINAL number of objects in image 'hst_16231_03_acs_sbc_f150lp_jec403ic_flt.fits': 3398\n"
     ]
    },
    {
     "name": "stderr",
     "output_type": "stream",
     "text": [
      "INFO:drizzlepac.imgclasses:\n"
     ]
    },
    {
     "name": "stdout",
     "output_type": "stream",
     "text": [
      "\n"
     ]
    },
    {
     "name": "stderr",
     "output_type": "stream",
     "text": [
      "INFO:drizzlepac.imgclasses:===  Source finding for image 'hst_16231_03_acs_sbc_f150lp_jec403id_flt.fits':\n"
     ]
    },
    {
     "name": "stdout",
     "output_type": "stream",
     "text": [
      "===  Source finding for image 'hst_16231_03_acs_sbc_f150lp_jec403id_flt.fits':\n"
     ]
    },
    {
     "name": "stderr",
     "output_type": "stream",
     "text": [
      "INFO:drizzlepac.catalogs:  #  Source finding for 'hst_16231_03_acs_sbc_f150lp_jec403id_flt.fits', EXT=('SCI', 1) started at: 15:54:06.290 (10/06/2022)\n"
     ]
    },
    {
     "name": "stdout",
     "output_type": "stream",
     "text": [
      "  #  Source finding for 'hst_16231_03_acs_sbc_f150lp_jec403id_flt.fits', EXT=('SCI', 1) started at: 15:54:06.290 (10/06/2022)\n"
     ]
    },
    {
     "name": "stderr",
     "output_type": "stream",
     "text": [
      "INFO:stsci.imagestats:! WARNING: Clipped data falls within 1 histogram bin\n"
     ]
    },
    {
     "name": "stdout",
     "output_type": "stream",
     "text": [
      "! WARNING: Clipped data falls within 1 histogram bin\n"
     ]
    },
    {
     "name": "stderr",
     "output_type": "stream",
     "text": [
      "INFO:drizzlepac.catalogs:   Finding sources using sky sigma = 0.000000\n",
      "INFO:drizzlepac.catalogs:###Source finding finished at: 15:54:06.590 (10/06/2022)\n",
      "INFO:drizzlepac.catalogs:     Found 4164 objects.\n"
     ]
    },
    {
     "name": "stdout",
     "output_type": "stream",
     "text": [
      "     Found 4164 objects.\n"
     ]
    },
    {
     "name": "stderr",
     "output_type": "stream",
     "text": [
      "INFO:drizzlepac.imgclasses:===  FINAL number of objects in image 'hst_16231_03_acs_sbc_f150lp_jec403id_flt.fits': 4164\n"
     ]
    },
    {
     "name": "stdout",
     "output_type": "stream",
     "text": [
      "===  FINAL number of objects in image 'hst_16231_03_acs_sbc_f150lp_jec403id_flt.fits': 4164\n"
     ]
    },
    {
     "name": "stderr",
     "output_type": "stream",
     "text": [
      "INFO:drizzlepac.imgclasses:\n"
     ]
    },
    {
     "name": "stdout",
     "output_type": "stream",
     "text": [
      "\n"
     ]
    },
    {
     "name": "stderr",
     "output_type": "stream",
     "text": [
      "INFO:drizzlepac.imgclasses:===  Source finding for image 'hst_16231_03_acs_sbc_f150lp_jec403ie_flt.fits':\n"
     ]
    },
    {
     "name": "stdout",
     "output_type": "stream",
     "text": [
      "===  Source finding for image 'hst_16231_03_acs_sbc_f150lp_jec403ie_flt.fits':\n"
     ]
    },
    {
     "name": "stderr",
     "output_type": "stream",
     "text": [
      "INFO:drizzlepac.catalogs:  #  Source finding for 'hst_16231_03_acs_sbc_f150lp_jec403ie_flt.fits', EXT=('SCI', 1) started at: 15:54:06.722 (10/06/2022)\n"
     ]
    },
    {
     "name": "stdout",
     "output_type": "stream",
     "text": [
      "  #  Source finding for 'hst_16231_03_acs_sbc_f150lp_jec403ie_flt.fits', EXT=('SCI', 1) started at: 15:54:06.722 (10/06/2022)\n"
     ]
    },
    {
     "name": "stderr",
     "output_type": "stream",
     "text": [
      "INFO:stsci.imagestats:! WARNING: Clipped data falls within 1 histogram bin\n"
     ]
    },
    {
     "name": "stdout",
     "output_type": "stream",
     "text": [
      "! WARNING: Clipped data falls within 1 histogram bin\n"
     ]
    },
    {
     "name": "stderr",
     "output_type": "stream",
     "text": [
      "INFO:drizzlepac.catalogs:   Finding sources using sky sigma = 0.000000\n",
      "INFO:drizzlepac.catalogs:###Source finding finished at: 15:54:06.976 (10/06/2022)\n",
      "INFO:drizzlepac.catalogs:     Found 4867 objects.\n"
     ]
    },
    {
     "name": "stdout",
     "output_type": "stream",
     "text": [
      "     Found 4867 objects.\n"
     ]
    },
    {
     "name": "stderr",
     "output_type": "stream",
     "text": [
      "INFO:drizzlepac.imgclasses:===  FINAL number of objects in image 'hst_16231_03_acs_sbc_f150lp_jec403ie_flt.fits': 4867\n"
     ]
    },
    {
     "name": "stdout",
     "output_type": "stream",
     "text": [
      "===  FINAL number of objects in image 'hst_16231_03_acs_sbc_f150lp_jec403ie_flt.fits': 4867\n"
     ]
    },
    {
     "name": "stderr",
     "output_type": "stream",
     "text": [
      "INFO:drizzlepac.imgclasses:\n"
     ]
    },
    {
     "name": "stdout",
     "output_type": "stream",
     "text": [
      "\n"
     ]
    },
    {
     "name": "stderr",
     "output_type": "stream",
     "text": [
      "INFO:drizzlepac.imgclasses:Converting RA/Dec positions of reference sources from \"hst_16231_01_acs_sbc_f150lp_jec401no_flt.fits\" to X,Y positions in reference WCS...\n",
      "INFO:drizzlepac.tweakreg:\n"
     ]
    },
    {
     "name": "stdout",
     "output_type": "stream",
     "text": [
      "\n"
     ]
    },
    {
     "name": "stderr",
     "output_type": "stream",
     "text": [
      "INFO:drizzlepac.tweakreg:===============================================================\n"
     ]
    },
    {
     "name": "stdout",
     "output_type": "stream",
     "text": [
      "===============================================================\n"
     ]
    },
    {
     "name": "stderr",
     "output_type": "stream",
     "text": [
      "INFO:drizzlepac.tweakreg:Performing alignment in the projection plane defined by the WCS\n"
     ]
    },
    {
     "name": "stdout",
     "output_type": "stream",
     "text": [
      "Performing alignment in the projection plane defined by the WCS\n"
     ]
    },
    {
     "name": "stderr",
     "output_type": "stream",
     "text": [
      "INFO:drizzlepac.tweakreg:derived from 'hst_16231_01_acs_sbc_f150lp_jec401no_flt.fits'\n"
     ]
    },
    {
     "name": "stdout",
     "output_type": "stream",
     "text": [
      "derived from 'hst_16231_01_acs_sbc_f150lp_jec401no_flt.fits'\n"
     ]
    },
    {
     "name": "stderr",
     "output_type": "stream",
     "text": [
      "INFO:drizzlepac.tweakreg:===============================================================\n"
     ]
    },
    {
     "name": "stdout",
     "output_type": "stream",
     "text": [
      "===============================================================\n"
     ]
    },
    {
     "name": "stderr",
     "output_type": "stream",
     "text": [
      "INFO:drizzlepac.tweakreg:\n"
     ]
    },
    {
     "name": "stdout",
     "output_type": "stream",
     "text": [
      "\n"
     ]
    },
    {
     "name": "stderr",
     "output_type": "stream",
     "text": [
      "INFO:drizzlepac.tweakreg:USER INPUT PARAMETERS for matching sources:\n",
      "INFO:drizzlepac.tweakreg:\tminobj :\t15\n",
      "INFO:drizzlepac.tweakreg:\tresidplot :\tboth\n",
      "INFO:drizzlepac.tweakreg:\tsearchrad :\t1.0\n",
      "INFO:drizzlepac.tweakreg:\tsearchunits :\tarcseconds\n",
      "INFO:drizzlepac.tweakreg:\tsee2dplot :\tTrue\n",
      "INFO:drizzlepac.tweakreg:\tseparation :\t0.5\n",
      "INFO:drizzlepac.tweakreg:\ttolerance :\t1.0\n",
      "INFO:drizzlepac.tweakreg:\tuse2dhist :\tTrue\n",
      "INFO:drizzlepac.tweakreg:\txoffset :\t0.0\n",
      "INFO:drizzlepac.tweakreg:\tyoffset :\t0.0\n",
      "INFO:drizzlepac.tweakreg:\n",
      "INFO:drizzlepac.tweakreg:USER INPUT PARAMETERS for fitting source lists:\n",
      "INFO:drizzlepac.tweakreg:\tfitgeometry :\trscale\n",
      "INFO:drizzlepac.tweakreg:\tlabelsize :\t8\n",
      "INFO:drizzlepac.tweakreg:\tminobj :\t15\n",
      "INFO:drizzlepac.tweakreg:\tnclip :\t3\n",
      "INFO:drizzlepac.tweakreg:\tresidplot :\tboth\n",
      "INFO:drizzlepac.tweakreg:\tsigma :\t3.0\n",
      "INFO:drizzlepac.tweakreg:\tylimit :\tNone\n",
      "INFO:drizzlepac.tweakreg:\n",
      "INFO:drizzlepac.tweakreg:USER INPUT PARAMETERS for creating a shiftfile:\n",
      "INFO:drizzlepac.tweakreg:\toutshifts :\tshift_general.txt\n",
      "INFO:drizzlepac.tweakreg:\toutwcs :\tshifts_wcs.fits\n",
      "INFO:drizzlepac.tweakreg:\tshiftfile :\tTrue\n",
      "INFO:drizzlepac.tweakreg:\n"
     ]
    },
    {
     "name": "stdout",
     "output_type": "stream",
     "text": [
      "\n"
     ]
    },
    {
     "name": "stderr",
     "output_type": "stream",
     "text": [
      "INFO:drizzlepac.tweakreg:====================\n"
     ]
    },
    {
     "name": "stdout",
     "output_type": "stream",
     "text": [
      "====================\n"
     ]
    },
    {
     "name": "stderr",
     "output_type": "stream",
     "text": [
      "INFO:drizzlepac.tweakreg:Performing fit for: hst_16231_01_acs_sbc_f150lp_jec401nr_flt.fits\n"
     ]
    },
    {
     "name": "stdout",
     "output_type": "stream",
     "text": [
      "Performing fit for: hst_16231_01_acs_sbc_f150lp_jec401nr_flt.fits\n"
     ]
    },
    {
     "name": "stderr",
     "output_type": "stream",
     "text": [
      "INFO:drizzlepac.tweakreg:\n"
     ]
    },
    {
     "name": "stdout",
     "output_type": "stream",
     "text": [
      "\n"
     ]
    },
    {
     "name": "stderr",
     "output_type": "stream",
     "text": [
      "INFO:drizzlepac.imgclasses:Matching sources from 'hst_16231_01_acs_sbc_f150lp_jec401nr_flt.fits' with sources from reference image 'hst_16231_01_acs_sbc_f150lp_jec401no_flt.fits'\n"
     ]
    },
    {
     "name": "stdout",
     "output_type": "stream",
     "text": [
      "Matching sources from 'hst_16231_01_acs_sbc_f150lp_jec401nr_flt.fits' with sources from reference image 'hst_16231_01_acs_sbc_f150lp_jec401no_flt.fits'\n"
     ]
    },
    {
     "name": "stderr",
     "output_type": "stream",
     "text": [
      "INFO:drizzlepac.imgclasses:Computing initial guess for X and Y shifts...\n"
     ]
    },
    {
     "name": "stdout",
     "output_type": "stream",
     "text": [
      "Computing initial guess for X and Y shifts...\n"
     ]
    },
    {
     "name": "stderr",
     "output_type": "stream",
     "text": [
      "INFO:drizzlepac.imgclasses:Found initial X and Y shifts of -11.55, -8.733 with significance of 9.043 and 264 matches\n"
     ]
    },
    {
     "name": "stdout",
     "output_type": "stream",
     "text": [
      "Found initial X and Y shifts of -11.55, -8.733 with significance of 9.043 and 264 matches\n"
     ]
    },
    {
     "name": "stderr",
     "output_type": "stream",
     "text": [
      "INFO:drizzlepac.imgclasses:Found 34 matches for hst_16231_01_acs_sbc_f150lp_jec401nr_flt.fits...\n"
     ]
    },
    {
     "name": "stdout",
     "output_type": "stream",
     "text": [
      "Found 34 matches for hst_16231_01_acs_sbc_f150lp_jec401nr_flt.fits...\n"
     ]
    },
    {
     "name": "stderr",
     "output_type": "stream",
     "text": [
      "INFO:drizzlepac.linearfit:Performing \"rscale\" fit\n",
      "INFO:drizzlepac.linearfit:Performing \"rscale\" fit\n",
      "INFO:drizzlepac.linearfit:Performing \"rscale\" fit\n",
      "INFO:drizzlepac.linearfit:Performing \"rscale\" fit\n",
      "INFO:drizzlepac.imgclasses:Computed  rscale  fit for  hst_16231_01_acs_sbc_f150lp_jec401nr_flt.fits : \n"
     ]
    },
    {
     "name": "stdout",
     "output_type": "stream",
     "text": [
      "Computed  rscale  fit for  hst_16231_01_acs_sbc_f150lp_jec401nr_flt.fits : \n"
     ]
    },
    {
     "name": "stderr",
     "output_type": "stream",
     "text": [
      "INFO:drizzlepac.imgclasses:XSH: -11.6354  YSH: -8.8838    ROT: 359.9980572    SCALE: 1.000141\n"
     ]
    },
    {
     "name": "stdout",
     "output_type": "stream",
     "text": [
      "XSH: -11.6354  YSH: -8.8838    ROT: 359.9980572    SCALE: 1.000141\n"
     ]
    },
    {
     "name": "stderr",
     "output_type": "stream",
     "text": [
      "INFO:drizzlepac.imgclasses:FIT XRMS: 0.5        FIT YRMS: 0.45   \n"
     ]
    },
    {
     "name": "stdout",
     "output_type": "stream",
     "text": [
      "FIT XRMS: 0.5        FIT YRMS: 0.45   \n"
     ]
    },
    {
     "name": "stderr",
     "output_type": "stream",
     "text": [
      "INFO:drizzlepac.imgclasses:FIT RMSE: 0.67       FIT MAE: 0.62   \n"
     ]
    },
    {
     "name": "stdout",
     "output_type": "stream",
     "text": [
      "FIT RMSE: 0.67       FIT MAE: 0.62   \n"
     ]
    },
    {
     "name": "stderr",
     "output_type": "stream",
     "text": [
      "INFO:drizzlepac.imgclasses:\n"
     ]
    },
    {
     "name": "stdout",
     "output_type": "stream",
     "text": [
      "\n"
     ]
    },
    {
     "name": "stderr",
     "output_type": "stream",
     "text": [
      "INFO:drizzlepac.imgclasses:RMS_RA: 7.5e-07 (deg)   RMS_DEC: 4.6e-06 (deg)\n"
     ]
    },
    {
     "name": "stdout",
     "output_type": "stream",
     "text": [
      "RMS_RA: 7.5e-07 (deg)   RMS_DEC: 4.6e-06 (deg)\n"
     ]
    },
    {
     "name": "stderr",
     "output_type": "stream",
     "text": [
      "INFO:drizzlepac.imgclasses:\n"
     ]
    },
    {
     "name": "stdout",
     "output_type": "stream",
     "text": [
      "\n"
     ]
    },
    {
     "name": "stderr",
     "output_type": "stream",
     "text": [
      "INFO:drizzlepac.imgclasses:Final solution based on  34  objects.\n"
     ]
    },
    {
     "name": "stdout",
     "output_type": "stream",
     "text": [
      "Final solution based on  34  objects.\n"
     ]
    },
    {
     "name": "stderr",
     "output_type": "stream",
     "text": [
      "INFO:drizzlepac.imgclasses:Creating catalog for the fit: hst_16231_01_acs_sbc_f150lp_jec401nr_flt_catalog_fit.match\n",
      "INFO:drizzlepac.tweakutils:wrote XY data to:  hst_16231_01_acs_sbc_f150lp_jec401nr_flt_catalog_fit.match\n"
     ]
    },
    {
     "name": "stdout",
     "output_type": "stream",
     "text": [
      "wrote XY data to:  hst_16231_01_acs_sbc_f150lp_jec401nr_flt_catalog_fit.match\n"
     ]
    },
    {
     "name": "stderr",
     "output_type": "stream",
     "text": [
      "INFO:drizzlepac.tweakutils:Total # points: 34\n"
     ]
    },
    {
     "name": "stdout",
     "output_type": "stream",
     "text": [
      "Total # points: 34\n"
     ]
    },
    {
     "name": "stderr",
     "output_type": "stream",
     "text": [
      "INFO:drizzlepac.tweakutils:# of points after clipping: 34\n"
     ]
    },
    {
     "name": "stdout",
     "output_type": "stream",
     "text": [
      "# of points after clipping: 34\n"
     ]
    },
    {
     "name": "stderr",
     "output_type": "stream",
     "text": [
      "INFO:drizzlepac.tweakutils:Total # points: 34\n"
     ]
    },
    {
     "name": "stdout",
     "output_type": "stream",
     "text": [
      "Total # points: 34\n"
     ]
    },
    {
     "name": "stderr",
     "output_type": "stream",
     "text": [
      "INFO:drizzlepac.tweakutils:# of points after clipping: 34\n"
     ]
    },
    {
     "name": "stdout",
     "output_type": "stream",
     "text": [
      "# of points after clipping: 34\n"
     ]
    },
    {
     "name": "stderr",
     "output_type": "stream",
     "text": [
      "INFO:drizzlepac.updatehdr:\n"
     ]
    },
    {
     "name": "stdout",
     "output_type": "stream",
     "text": [
      "\n"
     ]
    },
    {
     "name": "stderr",
     "output_type": "stream",
     "text": [
      "INFO:drizzlepac.updatehdr:....Updating header for 'hst_16231_01_acs_sbc_f150lp_jec401nr_flt.fits' ...\n"
     ]
    },
    {
     "name": "stdout",
     "output_type": "stream",
     "text": [
      "....Updating header for 'hst_16231_01_acs_sbc_f150lp_jec401nr_flt.fits' ...\n"
     ]
    },
    {
     "name": "stderr",
     "output_type": "stream",
     "text": [
      "INFO:drizzlepac.updatehdr:\n"
     ]
    },
    {
     "name": "stdout",
     "output_type": "stream",
     "text": [
      "\n"
     ]
    },
    {
     "name": "stderr",
     "output_type": "stream",
     "text": [
      "INFO:drizzlepac.updatehdr:\n"
     ]
    },
    {
     "name": "stdout",
     "output_type": "stream",
     "text": [
      "\n"
     ]
    },
    {
     "name": "stderr",
     "output_type": "stream",
     "text": [
      "INFO:drizzlepac.updatehdr:Processing hst_16231_01_acs_sbc_f150lp_jec401nr_flt.fits['SCI',1]\n"
     ]
    },
    {
     "name": "stdout",
     "output_type": "stream",
     "text": [
      "Processing hst_16231_01_acs_sbc_f150lp_jec401nr_flt.fits['SCI',1]\n"
     ]
    },
    {
     "name": "stderr",
     "output_type": "stream",
     "text": [
      "INFO:drizzlepac.updatehdr:\n"
     ]
    },
    {
     "name": "stdout",
     "output_type": "stream",
     "text": [
      "\n"
     ]
    },
    {
     "name": "stderr",
     "output_type": "stream",
     "text": [
      "INFO:drizzlepac.updatehdr:Updating header for hst_16231_01_acs_sbc_f150lp_jec401nr_flt.fits[1]\n"
     ]
    },
    {
     "name": "stdout",
     "output_type": "stream",
     "text": [
      "Updating header for hst_16231_01_acs_sbc_f150lp_jec401nr_flt.fits[1]\n"
     ]
    },
    {
     "name": "stderr",
     "output_type": "stream",
     "text": [
      "INFO:drizzlepac.updatehdr:    with WCS of\n",
      "INFO:stwcs.wcsutil.hstwcs:WCS Keywords\n"
     ]
    },
    {
     "name": "stdout",
     "output_type": "stream",
     "text": [
      "WCS Keywords\n"
     ]
    },
    {
     "name": "stderr",
     "output_type": "stream",
     "text": [
      "INFO:stwcs.wcsutil.hstwcs:\n"
     ]
    },
    {
     "name": "stdout",
     "output_type": "stream",
     "text": [
      "\n"
     ]
    },
    {
     "name": "stderr",
     "output_type": "stream",
     "text": [
      "INFO:stwcs.wcsutil.hstwcs:CD_11  CD_12: -4.331784870599977e-06 6.997581993174269e-06\n"
     ]
    },
    {
     "name": "stdout",
     "output_type": "stream",
     "text": [
      "CD_11  CD_12: -4.331784870599977e-06 6.997581993174269e-06\n"
     ]
    },
    {
     "name": "stderr",
     "output_type": "stream",
     "text": [
      "INFO:stwcs.wcsutil.hstwcs:CD_21  CD_22: 8.299356008040931e-06 4.564373018263123e-06\n"
     ]
    },
    {
     "name": "stdout",
     "output_type": "stream",
     "text": [
      "CD_21  CD_22: 8.299356008040931e-06 4.564373018263123e-06\n"
     ]
    },
    {
     "name": "stderr",
     "output_type": "stream",
     "text": [
      "INFO:stwcs.wcsutil.hstwcs:CRVAL    : 319.6011470843339 0.29197176875390535\n"
     ]
    },
    {
     "name": "stdout",
     "output_type": "stream",
     "text": [
      "CRVAL    : 319.6011470843339 0.29197176875390535\n"
     ]
    },
    {
     "name": "stderr",
     "output_type": "stream",
     "text": [
      "INFO:stwcs.wcsutil.hstwcs:CRPIX    : 512.0 512.0\n"
     ]
    },
    {
     "name": "stdout",
     "output_type": "stream",
     "text": [
      "CRPIX    : 512.0 512.0\n"
     ]
    },
    {
     "name": "stderr",
     "output_type": "stream",
     "text": [
      "INFO:stwcs.wcsutil.hstwcs:NAXIS    : 1024 1024\n"
     ]
    },
    {
     "name": "stdout",
     "output_type": "stream",
     "text": [
      "NAXIS    : 1024 1024\n"
     ]
    },
    {
     "name": "stderr",
     "output_type": "stream",
     "text": [
      "INFO:stwcs.wcsutil.hstwcs:Plate Scale : 0.03370731102277041\n"
     ]
    },
    {
     "name": "stdout",
     "output_type": "stream",
     "text": [
      "Plate Scale : 0.03370731102277041\n"
     ]
    },
    {
     "name": "stderr",
     "output_type": "stream",
     "text": [
      "INFO:stwcs.wcsutil.hstwcs:ORIENTAT : 56.884449824640726\n"
     ]
    },
    {
     "name": "stdout",
     "output_type": "stream",
     "text": [
      "ORIENTAT : 56.884449824640726\n"
     ]
    },
    {
     "name": "stderr",
     "output_type": "stream",
     "text": [
      "INFO:drizzlepac.updatehdr:WCSNAME  :  TWEAK\n"
     ]
    },
    {
     "name": "stdout",
     "output_type": "stream",
     "text": [
      "WCSNAME  :  TWEAK\n"
     ]
    },
    {
     "name": "stderr",
     "output_type": "stream",
     "text": [
      "INFO:drizzlepac.imgclasses:Updating WCSCORR table with new WCS solution \"TWEAK\"\n",
      "INFO:drizzlepac.tweakreg:\n"
     ]
    },
    {
     "name": "stdout",
     "output_type": "stream",
     "text": [
      "\n"
     ]
    },
    {
     "name": "stderr",
     "output_type": "stream",
     "text": [
      "INFO:drizzlepac.tweakreg:====================\n"
     ]
    },
    {
     "name": "stdout",
     "output_type": "stream",
     "text": [
      "====================\n"
     ]
    },
    {
     "name": "stderr",
     "output_type": "stream",
     "text": [
      "INFO:drizzlepac.tweakreg:Performing fit for: hst_16231_01_acs_sbc_f150lp_jec401nv_flt.fits\n"
     ]
    },
    {
     "name": "stdout",
     "output_type": "stream",
     "text": [
      "Performing fit for: hst_16231_01_acs_sbc_f150lp_jec401nv_flt.fits\n"
     ]
    },
    {
     "name": "stderr",
     "output_type": "stream",
     "text": [
      "INFO:drizzlepac.tweakreg:\n"
     ]
    },
    {
     "name": "stdout",
     "output_type": "stream",
     "text": [
      "\n"
     ]
    },
    {
     "name": "stderr",
     "output_type": "stream",
     "text": [
      "INFO:drizzlepac.imgclasses:Matching sources from 'hst_16231_01_acs_sbc_f150lp_jec401nv_flt.fits' with sources from reference image 'hst_16231_01_acs_sbc_f150lp_jec401no_flt.fits'\n"
     ]
    },
    {
     "name": "stdout",
     "output_type": "stream",
     "text": [
      "Matching sources from 'hst_16231_01_acs_sbc_f150lp_jec401nv_flt.fits' with sources from reference image 'hst_16231_01_acs_sbc_f150lp_jec401no_flt.fits'\n"
     ]
    },
    {
     "name": "stderr",
     "output_type": "stream",
     "text": [
      "INFO:drizzlepac.imgclasses:Computing initial guess for X and Y shifts...\n"
     ]
    },
    {
     "name": "stdout",
     "output_type": "stream",
     "text": [
      "Computing initial guess for X and Y shifts...\n"
     ]
    },
    {
     "name": "stderr",
     "output_type": "stream",
     "text": [
      "INFO:drizzlepac.imgclasses:Found initial X and Y shifts of -16.94, -29.56 with significance of 10.8 and 258 matches\n"
     ]
    },
    {
     "name": "stdout",
     "output_type": "stream",
     "text": [
      "Found initial X and Y shifts of -16.94, -29.56 with significance of 10.8 and 258 matches\n"
     ]
    },
    {
     "name": "stderr",
     "output_type": "stream",
     "text": [
      "INFO:drizzlepac.imgclasses:Found 64 matches for hst_16231_01_acs_sbc_f150lp_jec401nv_flt.fits...\n"
     ]
    },
    {
     "name": "stdout",
     "output_type": "stream",
     "text": [
      "Found 64 matches for hst_16231_01_acs_sbc_f150lp_jec401nv_flt.fits...\n"
     ]
    },
    {
     "name": "stderr",
     "output_type": "stream",
     "text": [
      "INFO:drizzlepac.linearfit:Performing \"rscale\" fit\n",
      "INFO:drizzlepac.linearfit:Performing \"rscale\" fit\n",
      "INFO:drizzlepac.linearfit:Performing \"rscale\" fit\n",
      "INFO:drizzlepac.linearfit:Performing \"rscale\" fit\n",
      "INFO:drizzlepac.imgclasses:Computed  rscale  fit for  hst_16231_01_acs_sbc_f150lp_jec401nv_flt.fits : \n"
     ]
    },
    {
     "name": "stdout",
     "output_type": "stream",
     "text": [
      "Computed  rscale  fit for  hst_16231_01_acs_sbc_f150lp_jec401nv_flt.fits : \n"
     ]
    },
    {
     "name": "stderr",
     "output_type": "stream",
     "text": [
      "INFO:drizzlepac.imgclasses:XSH: -16.8572  YSH: -29.2114    ROT: 0.001272417162    SCALE: 0.999758\n"
     ]
    },
    {
     "name": "stdout",
     "output_type": "stream",
     "text": [
      "XSH: -16.8572  YSH: -29.2114    ROT: 0.001272417162    SCALE: 0.999758\n"
     ]
    },
    {
     "name": "stderr",
     "output_type": "stream",
     "text": [
      "INFO:drizzlepac.imgclasses:FIT XRMS: 0.22       FIT YRMS: 0.61   \n"
     ]
    },
    {
     "name": "stdout",
     "output_type": "stream",
     "text": [
      "FIT XRMS: 0.22       FIT YRMS: 0.61   \n"
     ]
    },
    {
     "name": "stderr",
     "output_type": "stream",
     "text": [
      "INFO:drizzlepac.imgclasses:FIT RMSE: 0.65       FIT MAE: 0.62   \n"
     ]
    },
    {
     "name": "stdout",
     "output_type": "stream",
     "text": [
      "FIT RMSE: 0.65       FIT MAE: 0.62   \n"
     ]
    },
    {
     "name": "stderr",
     "output_type": "stream",
     "text": [
      "INFO:drizzlepac.imgclasses:\n"
     ]
    },
    {
     "name": "stdout",
     "output_type": "stream",
     "text": [
      "\n"
     ]
    },
    {
     "name": "stderr",
     "output_type": "stream",
     "text": [
      "INFO:drizzlepac.imgclasses:RMS_RA: 2.8e-06 (deg)   RMS_DEC: 3.6e-06 (deg)\n"
     ]
    },
    {
     "name": "stdout",
     "output_type": "stream",
     "text": [
      "RMS_RA: 2.8e-06 (deg)   RMS_DEC: 3.6e-06 (deg)\n"
     ]
    },
    {
     "name": "stderr",
     "output_type": "stream",
     "text": [
      "INFO:drizzlepac.imgclasses:\n"
     ]
    },
    {
     "name": "stdout",
     "output_type": "stream",
     "text": [
      "\n"
     ]
    },
    {
     "name": "stderr",
     "output_type": "stream",
     "text": [
      "INFO:drizzlepac.imgclasses:Final solution based on  61  objects.\n"
     ]
    },
    {
     "name": "stdout",
     "output_type": "stream",
     "text": [
      "Final solution based on  61  objects.\n"
     ]
    },
    {
     "name": "stderr",
     "output_type": "stream",
     "text": [
      "INFO:drizzlepac.imgclasses:Creating catalog for the fit: hst_16231_01_acs_sbc_f150lp_jec401nv_flt_catalog_fit.match\n",
      "INFO:drizzlepac.tweakutils:wrote XY data to:  hst_16231_01_acs_sbc_f150lp_jec401nv_flt_catalog_fit.match\n"
     ]
    },
    {
     "name": "stdout",
     "output_type": "stream",
     "text": [
      "wrote XY data to:  hst_16231_01_acs_sbc_f150lp_jec401nv_flt_catalog_fit.match\n"
     ]
    },
    {
     "name": "stderr",
     "output_type": "stream",
     "text": [
      "INFO:drizzlepac.tweakutils:Total # points: 61\n"
     ]
    },
    {
     "name": "stdout",
     "output_type": "stream",
     "text": [
      "Total # points: 61\n"
     ]
    },
    {
     "name": "stderr",
     "output_type": "stream",
     "text": [
      "INFO:drizzlepac.tweakutils:# of points after clipping: 61\n"
     ]
    },
    {
     "name": "stdout",
     "output_type": "stream",
     "text": [
      "# of points after clipping: 61\n"
     ]
    },
    {
     "name": "stderr",
     "output_type": "stream",
     "text": [
      "INFO:drizzlepac.tweakutils:Total # points: 61\n"
     ]
    },
    {
     "name": "stdout",
     "output_type": "stream",
     "text": [
      "Total # points: 61\n"
     ]
    },
    {
     "name": "stderr",
     "output_type": "stream",
     "text": [
      "INFO:drizzlepac.tweakutils:# of points after clipping: 61\n"
     ]
    },
    {
     "name": "stdout",
     "output_type": "stream",
     "text": [
      "# of points after clipping: 61\n"
     ]
    },
    {
     "name": "stderr",
     "output_type": "stream",
     "text": [
      "INFO:drizzlepac.updatehdr:\n"
     ]
    },
    {
     "name": "stdout",
     "output_type": "stream",
     "text": [
      "\n"
     ]
    },
    {
     "name": "stderr",
     "output_type": "stream",
     "text": [
      "INFO:drizzlepac.updatehdr:....Updating header for 'hst_16231_01_acs_sbc_f150lp_jec401nv_flt.fits' ...\n"
     ]
    },
    {
     "name": "stdout",
     "output_type": "stream",
     "text": [
      "....Updating header for 'hst_16231_01_acs_sbc_f150lp_jec401nv_flt.fits' ...\n"
     ]
    },
    {
     "name": "stderr",
     "output_type": "stream",
     "text": [
      "INFO:drizzlepac.updatehdr:\n"
     ]
    },
    {
     "name": "stdout",
     "output_type": "stream",
     "text": [
      "\n"
     ]
    },
    {
     "name": "stderr",
     "output_type": "stream",
     "text": [
      "INFO:drizzlepac.updatehdr:\n"
     ]
    },
    {
     "name": "stdout",
     "output_type": "stream",
     "text": [
      "\n"
     ]
    },
    {
     "name": "stderr",
     "output_type": "stream",
     "text": [
      "INFO:drizzlepac.updatehdr:Processing hst_16231_01_acs_sbc_f150lp_jec401nv_flt.fits['SCI',1]\n"
     ]
    },
    {
     "name": "stdout",
     "output_type": "stream",
     "text": [
      "Processing hst_16231_01_acs_sbc_f150lp_jec401nv_flt.fits['SCI',1]\n"
     ]
    },
    {
     "name": "stderr",
     "output_type": "stream",
     "text": [
      "INFO:drizzlepac.updatehdr:\n"
     ]
    },
    {
     "name": "stdout",
     "output_type": "stream",
     "text": [
      "\n"
     ]
    },
    {
     "name": "stderr",
     "output_type": "stream",
     "text": [
      "INFO:drizzlepac.updatehdr:Updating header for hst_16231_01_acs_sbc_f150lp_jec401nv_flt.fits[1]\n"
     ]
    },
    {
     "name": "stdout",
     "output_type": "stream",
     "text": [
      "Updating header for hst_16231_01_acs_sbc_f150lp_jec401nv_flt.fits[1]\n"
     ]
    },
    {
     "name": "stderr",
     "output_type": "stream",
     "text": [
      "INFO:drizzlepac.updatehdr:    with WCS of\n",
      "INFO:stwcs.wcsutil.hstwcs:WCS Keywords\n"
     ]
    },
    {
     "name": "stdout",
     "output_type": "stream",
     "text": [
      "WCS Keywords\n"
     ]
    },
    {
     "name": "stderr",
     "output_type": "stream",
     "text": [
      "INFO:stwcs.wcsutil.hstwcs:\n"
     ]
    },
    {
     "name": "stdout",
     "output_type": "stream",
     "text": [
      "\n"
     ]
    },
    {
     "name": "stderr",
     "output_type": "stream",
     "text": [
      "INFO:stwcs.wcsutil.hstwcs:CD_11  CD_12: -4.332904501272186e-06 7.000399658210609e-06\n"
     ]
    },
    {
     "name": "stdout",
     "output_type": "stream",
     "text": [
      "CD_11  CD_12: -4.332904501272186e-06 7.000399658210609e-06\n"
     ]
    },
    {
     "name": "stderr",
     "output_type": "stream",
     "text": [
      "INFO:stwcs.wcsutil.hstwcs:CD_21  CD_22: 8.30263712831511e-06 4.565650881751549e-06\n"
     ]
    },
    {
     "name": "stdout",
     "output_type": "stream",
     "text": [
      "CD_21  CD_22: 8.30263712831511e-06 4.565650881751549e-06\n"
     ]
    },
    {
     "name": "stderr",
     "output_type": "stream",
     "text": [
      "INFO:stwcs.wcsutil.hstwcs:CRVAL    : 319.60108657886104 0.29211488677647507\n"
     ]
    },
    {
     "name": "stdout",
     "output_type": "stream",
     "text": [
      "CRVAL    : 319.60108657886104 0.29211488677647507\n"
     ]
    },
    {
     "name": "stderr",
     "output_type": "stream",
     "text": [
      "INFO:stwcs.wcsutil.hstwcs:CRPIX    : 512.0 512.0\n"
     ]
    },
    {
     "name": "stdout",
     "output_type": "stream",
     "text": [
      "CRPIX    : 512.0 512.0\n"
     ]
    },
    {
     "name": "stderr",
     "output_type": "stream",
     "text": [
      "INFO:stwcs.wcsutil.hstwcs:NAXIS    : 1024 1024\n"
     ]
    },
    {
     "name": "stdout",
     "output_type": "stream",
     "text": [
      "NAXIS    : 1024 1024\n"
     ]
    },
    {
     "name": "stderr",
     "output_type": "stream",
     "text": [
      "INFO:stwcs.wcsutil.hstwcs:Plate Scale : 0.03370674448917583\n"
     ]
    },
    {
     "name": "stdout",
     "output_type": "stream",
     "text": [
      "Plate Scale : 0.03370674448917583\n"
     ]
    },
    {
     "name": "stderr",
     "output_type": "stream",
     "text": [
      "INFO:stwcs.wcsutil.hstwcs:ORIENTAT : 56.887665533965645\n"
     ]
    },
    {
     "name": "stdout",
     "output_type": "stream",
     "text": [
      "ORIENTAT : 56.887665533965645\n"
     ]
    },
    {
     "name": "stderr",
     "output_type": "stream",
     "text": [
      "INFO:drizzlepac.updatehdr:WCSNAME  :  TWEAK\n"
     ]
    },
    {
     "name": "stdout",
     "output_type": "stream",
     "text": [
      "WCSNAME  :  TWEAK\n"
     ]
    },
    {
     "name": "stderr",
     "output_type": "stream",
     "text": [
      "INFO:drizzlepac.imgclasses:Updating WCSCORR table with new WCS solution \"TWEAK\"\n",
      "INFO:drizzlepac.tweakreg:\n"
     ]
    },
    {
     "name": "stdout",
     "output_type": "stream",
     "text": [
      "\n"
     ]
    },
    {
     "name": "stderr",
     "output_type": "stream",
     "text": [
      "INFO:drizzlepac.tweakreg:====================\n"
     ]
    },
    {
     "name": "stdout",
     "output_type": "stream",
     "text": [
      "====================\n"
     ]
    },
    {
     "name": "stderr",
     "output_type": "stream",
     "text": [
      "INFO:drizzlepac.tweakreg:Performing fit for: hst_16231_01_acs_sbc_f150lp_jec401nx_flt.fits\n"
     ]
    },
    {
     "name": "stdout",
     "output_type": "stream",
     "text": [
      "Performing fit for: hst_16231_01_acs_sbc_f150lp_jec401nx_flt.fits\n"
     ]
    },
    {
     "name": "stderr",
     "output_type": "stream",
     "text": [
      "INFO:drizzlepac.tweakreg:\n"
     ]
    },
    {
     "name": "stdout",
     "output_type": "stream",
     "text": [
      "\n"
     ]
    },
    {
     "name": "stderr",
     "output_type": "stream",
     "text": [
      "INFO:drizzlepac.imgclasses:Matching sources from 'hst_16231_01_acs_sbc_f150lp_jec401nx_flt.fits' with sources from reference image 'hst_16231_01_acs_sbc_f150lp_jec401no_flt.fits'\n"
     ]
    },
    {
     "name": "stdout",
     "output_type": "stream",
     "text": [
      "Matching sources from 'hst_16231_01_acs_sbc_f150lp_jec401nx_flt.fits' with sources from reference image 'hst_16231_01_acs_sbc_f150lp_jec401no_flt.fits'\n"
     ]
    },
    {
     "name": "stderr",
     "output_type": "stream",
     "text": [
      "INFO:drizzlepac.imgclasses:Computing initial guess for X and Y shifts...\n"
     ]
    },
    {
     "name": "stdout",
     "output_type": "stream",
     "text": [
      "Computing initial guess for X and Y shifts...\n"
     ]
    },
    {
     "name": "stderr",
     "output_type": "stream",
     "text": [
      "INFO:drizzlepac.imgclasses:Found initial X and Y shifts of 21.93, -22.21 with significance of 9.735 and 296 matches\n"
     ]
    },
    {
     "name": "stdout",
     "output_type": "stream",
     "text": [
      "Found initial X and Y shifts of 21.93, -22.21 with significance of 9.735 and 296 matches\n"
     ]
    },
    {
     "name": "stderr",
     "output_type": "stream",
     "text": [
      "INFO:drizzlepac.imgclasses:Found 39 matches for hst_16231_01_acs_sbc_f150lp_jec401nx_flt.fits...\n"
     ]
    },
    {
     "name": "stdout",
     "output_type": "stream",
     "text": [
      "Found 39 matches for hst_16231_01_acs_sbc_f150lp_jec401nx_flt.fits...\n"
     ]
    },
    {
     "name": "stderr",
     "output_type": "stream",
     "text": [
      "INFO:drizzlepac.linearfit:Performing \"rscale\" fit\n",
      "INFO:drizzlepac.linearfit:Performing \"rscale\" fit\n",
      "INFO:drizzlepac.linearfit:Performing \"rscale\" fit\n",
      "INFO:drizzlepac.linearfit:Performing \"rscale\" fit\n",
      "INFO:drizzlepac.imgclasses:Computed  rscale  fit for  hst_16231_01_acs_sbc_f150lp_jec401nx_flt.fits : \n"
     ]
    },
    {
     "name": "stdout",
     "output_type": "stream",
     "text": [
      "Computed  rscale  fit for  hst_16231_01_acs_sbc_f150lp_jec401nx_flt.fits : \n"
     ]
    },
    {
     "name": "stderr",
     "output_type": "stream",
     "text": [
      "INFO:drizzlepac.imgclasses:XSH: 21.9764  YSH: -22.4730    ROT: 359.990799    SCALE: 1.000318\n"
     ]
    },
    {
     "name": "stdout",
     "output_type": "stream",
     "text": [
      "XSH: 21.9764  YSH: -22.4730    ROT: 359.990799    SCALE: 1.000318\n"
     ]
    },
    {
     "name": "stderr",
     "output_type": "stream",
     "text": [
      "INFO:drizzlepac.imgclasses:FIT XRMS: 0.33       FIT YRMS: 0.58   \n"
     ]
    },
    {
     "name": "stdout",
     "output_type": "stream",
     "text": [
      "FIT XRMS: 0.33       FIT YRMS: 0.58   \n"
     ]
    },
    {
     "name": "stderr",
     "output_type": "stream",
     "text": [
      "INFO:drizzlepac.imgclasses:FIT RMSE: 0.67       FIT MAE: 0.65   \n"
     ]
    },
    {
     "name": "stdout",
     "output_type": "stream",
     "text": [
      "FIT RMSE: 0.67       FIT MAE: 0.65   \n"
     ]
    },
    {
     "name": "stderr",
     "output_type": "stream",
     "text": [
      "INFO:drizzlepac.imgclasses:\n"
     ]
    },
    {
     "name": "stdout",
     "output_type": "stream",
     "text": [
      "\n"
     ]
    },
    {
     "name": "stderr",
     "output_type": "stream",
     "text": [
      "INFO:drizzlepac.imgclasses:RMS_RA: 2.2e-06 (deg)   RMS_DEC: 4.1e-06 (deg)\n"
     ]
    },
    {
     "name": "stdout",
     "output_type": "stream",
     "text": [
      "RMS_RA: 2.2e-06 (deg)   RMS_DEC: 4.1e-06 (deg)\n"
     ]
    },
    {
     "name": "stderr",
     "output_type": "stream",
     "text": [
      "INFO:drizzlepac.imgclasses:\n"
     ]
    },
    {
     "name": "stdout",
     "output_type": "stream",
     "text": [
      "\n"
     ]
    },
    {
     "name": "stderr",
     "output_type": "stream",
     "text": [
      "INFO:drizzlepac.imgclasses:Final solution based on  39  objects.\n"
     ]
    },
    {
     "name": "stdout",
     "output_type": "stream",
     "text": [
      "Final solution based on  39  objects.\n"
     ]
    },
    {
     "name": "stderr",
     "output_type": "stream",
     "text": [
      "INFO:drizzlepac.imgclasses:Creating catalog for the fit: hst_16231_01_acs_sbc_f150lp_jec401nx_flt_catalog_fit.match\n",
      "INFO:drizzlepac.tweakutils:wrote XY data to:  hst_16231_01_acs_sbc_f150lp_jec401nx_flt_catalog_fit.match\n"
     ]
    },
    {
     "name": "stdout",
     "output_type": "stream",
     "text": [
      "wrote XY data to:  hst_16231_01_acs_sbc_f150lp_jec401nx_flt_catalog_fit.match\n"
     ]
    },
    {
     "name": "stderr",
     "output_type": "stream",
     "text": [
      "INFO:drizzlepac.tweakutils:Total # points: 39\n"
     ]
    },
    {
     "name": "stdout",
     "output_type": "stream",
     "text": [
      "Total # points: 39\n"
     ]
    },
    {
     "name": "stderr",
     "output_type": "stream",
     "text": [
      "INFO:drizzlepac.tweakutils:# of points after clipping: 39\n"
     ]
    },
    {
     "name": "stdout",
     "output_type": "stream",
     "text": [
      "# of points after clipping: 39\n"
     ]
    },
    {
     "name": "stderr",
     "output_type": "stream",
     "text": [
      "INFO:drizzlepac.tweakutils:Total # points: 39\n"
     ]
    },
    {
     "name": "stdout",
     "output_type": "stream",
     "text": [
      "Total # points: 39\n"
     ]
    },
    {
     "name": "stderr",
     "output_type": "stream",
     "text": [
      "INFO:drizzlepac.tweakutils:# of points after clipping: 39\n"
     ]
    },
    {
     "name": "stdout",
     "output_type": "stream",
     "text": [
      "# of points after clipping: 39\n"
     ]
    },
    {
     "name": "stderr",
     "output_type": "stream",
     "text": [
      "INFO:drizzlepac.updatehdr:\n"
     ]
    },
    {
     "name": "stdout",
     "output_type": "stream",
     "text": [
      "\n"
     ]
    },
    {
     "name": "stderr",
     "output_type": "stream",
     "text": [
      "INFO:drizzlepac.updatehdr:....Updating header for 'hst_16231_01_acs_sbc_f150lp_jec401nx_flt.fits' ...\n"
     ]
    },
    {
     "name": "stdout",
     "output_type": "stream",
     "text": [
      "....Updating header for 'hst_16231_01_acs_sbc_f150lp_jec401nx_flt.fits' ...\n"
     ]
    },
    {
     "name": "stderr",
     "output_type": "stream",
     "text": [
      "INFO:drizzlepac.updatehdr:\n"
     ]
    },
    {
     "name": "stdout",
     "output_type": "stream",
     "text": [
      "\n"
     ]
    },
    {
     "name": "stderr",
     "output_type": "stream",
     "text": [
      "INFO:drizzlepac.updatehdr:\n"
     ]
    },
    {
     "name": "stdout",
     "output_type": "stream",
     "text": [
      "\n"
     ]
    },
    {
     "name": "stderr",
     "output_type": "stream",
     "text": [
      "INFO:drizzlepac.updatehdr:Processing hst_16231_01_acs_sbc_f150lp_jec401nx_flt.fits['SCI',1]\n"
     ]
    },
    {
     "name": "stdout",
     "output_type": "stream",
     "text": [
      "Processing hst_16231_01_acs_sbc_f150lp_jec401nx_flt.fits['SCI',1]\n"
     ]
    },
    {
     "name": "stderr",
     "output_type": "stream",
     "text": [
      "INFO:drizzlepac.updatehdr:\n"
     ]
    },
    {
     "name": "stdout",
     "output_type": "stream",
     "text": [
      "\n"
     ]
    },
    {
     "name": "stderr",
     "output_type": "stream",
     "text": [
      "INFO:drizzlepac.updatehdr:Updating header for hst_16231_01_acs_sbc_f150lp_jec401nx_flt.fits[1]\n"
     ]
    },
    {
     "name": "stdout",
     "output_type": "stream",
     "text": [
      "Updating header for hst_16231_01_acs_sbc_f150lp_jec401nx_flt.fits[1]\n"
     ]
    },
    {
     "name": "stderr",
     "output_type": "stream",
     "text": [
      "INFO:drizzlepac.updatehdr:    with WCS of\n",
      "INFO:stwcs.wcsutil.hstwcs:WCS Keywords\n"
     ]
    },
    {
     "name": "stdout",
     "output_type": "stream",
     "text": [
      "WCS Keywords\n"
     ]
    },
    {
     "name": "stderr",
     "output_type": "stream",
     "text": [
      "INFO:stwcs.wcsutil.hstwcs:\n"
     ]
    },
    {
     "name": "stdout",
     "output_type": "stream",
     "text": [
      "\n"
     ]
    },
    {
     "name": "stderr",
     "output_type": "stream",
     "text": [
      "INFO:stwcs.wcsutil.hstwcs:CD_11  CD_12: -4.331949484457763e-06 6.995572368044981e-06\n"
     ]
    },
    {
     "name": "stdout",
     "output_type": "stream",
     "text": [
      "CD_11  CD_12: -4.331949484457763e-06 6.995572368044981e-06\n"
     ]
    },
    {
     "name": "stderr",
     "output_type": "stream",
     "text": [
      "INFO:stwcs.wcsutil.hstwcs:CD_21  CD_22: 8.297109477940912e-06 4.5643251913244366e-06\n"
     ]
    },
    {
     "name": "stdout",
     "output_type": "stream",
     "text": [
      "CD_21  CD_22: 8.297109477940912e-06 4.5643251913244366e-06\n"
     ]
    },
    {
     "name": "stderr",
     "output_type": "stream",
     "text": [
      "INFO:stwcs.wcsutil.hstwcs:CRVAL    : 319.6011386603711 0.2921052059272132\n"
     ]
    },
    {
     "name": "stdout",
     "output_type": "stream",
     "text": [
      "CRVAL    : 319.6011386603711 0.2921052059272132\n"
     ]
    },
    {
     "name": "stderr",
     "output_type": "stream",
     "text": [
      "INFO:stwcs.wcsutil.hstwcs:CRPIX    : 512.0 512.0\n"
     ]
    },
    {
     "name": "stdout",
     "output_type": "stream",
     "text": [
      "CRPIX    : 512.0 512.0\n"
     ]
    },
    {
     "name": "stderr",
     "output_type": "stream",
     "text": [
      "INFO:stwcs.wcsutil.hstwcs:NAXIS    : 1024 1024\n"
     ]
    },
    {
     "name": "stdout",
     "output_type": "stream",
     "text": [
      "NAXIS    : 1024 1024\n"
     ]
    },
    {
     "name": "stderr",
     "output_type": "stream",
     "text": [
      "INFO:stwcs.wcsutil.hstwcs:Plate Scale : 0.03370635508023475\n"
     ]
    },
    {
     "name": "stdout",
     "output_type": "stream",
     "text": [
      "Plate Scale : 0.03370635508023475\n"
     ]
    },
    {
     "name": "stderr",
     "output_type": "stream",
     "text": [
      "INFO:stwcs.wcsutil.hstwcs:ORIENTAT : 56.87719357021986\n"
     ]
    },
    {
     "name": "stdout",
     "output_type": "stream",
     "text": [
      "ORIENTAT : 56.87719357021986\n"
     ]
    },
    {
     "name": "stderr",
     "output_type": "stream",
     "text": [
      "INFO:drizzlepac.updatehdr:WCSNAME  :  TWEAK\n"
     ]
    },
    {
     "name": "stdout",
     "output_type": "stream",
     "text": [
      "WCSNAME  :  TWEAK\n"
     ]
    },
    {
     "name": "stderr",
     "output_type": "stream",
     "text": [
      "INFO:drizzlepac.imgclasses:Updating WCSCORR table with new WCS solution \"TWEAK\"\n",
      "INFO:drizzlepac.tweakreg:\n"
     ]
    },
    {
     "name": "stdout",
     "output_type": "stream",
     "text": [
      "\n"
     ]
    },
    {
     "name": "stderr",
     "output_type": "stream",
     "text": [
      "INFO:drizzlepac.tweakreg:====================\n"
     ]
    },
    {
     "name": "stdout",
     "output_type": "stream",
     "text": [
      "====================\n"
     ]
    },
    {
     "name": "stderr",
     "output_type": "stream",
     "text": [
      "INFO:drizzlepac.tweakreg:Performing fit for: hst_16231_03_acs_sbc_f150lp_jec403ib_flt.fits\n"
     ]
    },
    {
     "name": "stdout",
     "output_type": "stream",
     "text": [
      "Performing fit for: hst_16231_03_acs_sbc_f150lp_jec403ib_flt.fits\n"
     ]
    },
    {
     "name": "stderr",
     "output_type": "stream",
     "text": [
      "INFO:drizzlepac.tweakreg:\n"
     ]
    },
    {
     "name": "stdout",
     "output_type": "stream",
     "text": [
      "\n"
     ]
    },
    {
     "name": "stderr",
     "output_type": "stream",
     "text": [
      "INFO:drizzlepac.imgclasses:Matching sources from 'hst_16231_03_acs_sbc_f150lp_jec403ib_flt.fits' with sources from reference image 'hst_16231_01_acs_sbc_f150lp_jec401no_flt.fits'\n"
     ]
    },
    {
     "name": "stdout",
     "output_type": "stream",
     "text": [
      "Matching sources from 'hst_16231_03_acs_sbc_f150lp_jec403ib_flt.fits' with sources from reference image 'hst_16231_01_acs_sbc_f150lp_jec401no_flt.fits'\n"
     ]
    },
    {
     "name": "stderr",
     "output_type": "stream",
     "text": [
      "INFO:drizzlepac.imgclasses:Computing initial guess for X and Y shifts...\n"
     ]
    },
    {
     "name": "stdout",
     "output_type": "stream",
     "text": [
      "Computing initial guess for X and Y shifts...\n"
     ]
    },
    {
     "name": "stderr",
     "output_type": "stream",
     "text": [
      "INFO:drizzlepac.imgclasses:Found initial X and Y shifts of 23.73, -35.99 with significance of 7.607 and 187 matches\n"
     ]
    },
    {
     "name": "stdout",
     "output_type": "stream",
     "text": [
      "Found initial X and Y shifts of 23.73, -35.99 with significance of 7.607 and 187 matches\n"
     ]
    },
    {
     "name": "stderr",
     "output_type": "stream",
     "text": [
      "INFO:drizzlepac.imgclasses:Found 38 matches for hst_16231_03_acs_sbc_f150lp_jec403ib_flt.fits...\n"
     ]
    },
    {
     "name": "stdout",
     "output_type": "stream",
     "text": [
      "Found 38 matches for hst_16231_03_acs_sbc_f150lp_jec403ib_flt.fits...\n"
     ]
    },
    {
     "name": "stderr",
     "output_type": "stream",
     "text": [
      "INFO:drizzlepac.linearfit:Performing \"rscale\" fit\n",
      "INFO:drizzlepac.linearfit:Performing \"rscale\" fit\n",
      "INFO:drizzlepac.linearfit:Performing \"rscale\" fit\n",
      "INFO:drizzlepac.linearfit:Performing \"rscale\" fit\n",
      "INFO:drizzlepac.imgclasses:Computed  rscale  fit for  hst_16231_03_acs_sbc_f150lp_jec403ib_flt.fits : \n"
     ]
    },
    {
     "name": "stdout",
     "output_type": "stream",
     "text": [
      "Computed  rscale  fit for  hst_16231_03_acs_sbc_f150lp_jec403ib_flt.fits : \n"
     ]
    },
    {
     "name": "stderr",
     "output_type": "stream",
     "text": [
      "INFO:drizzlepac.imgclasses:XSH: 23.8069  YSH: -35.9601    ROT: 359.9980391    SCALE: 0.999999\n"
     ]
    },
    {
     "name": "stdout",
     "output_type": "stream",
     "text": [
      "XSH: 23.8069  YSH: -35.9601    ROT: 359.9980391    SCALE: 0.999999\n"
     ]
    },
    {
     "name": "stderr",
     "output_type": "stream",
     "text": [
      "INFO:drizzlepac.imgclasses:FIT XRMS: 0.43       FIT YRMS: 0.45   \n"
     ]
    },
    {
     "name": "stdout",
     "output_type": "stream",
     "text": [
      "FIT XRMS: 0.43       FIT YRMS: 0.45   \n"
     ]
    },
    {
     "name": "stderr",
     "output_type": "stream",
     "text": [
      "INFO:drizzlepac.imgclasses:FIT RMSE: 0.63       FIT MAE: 0.58   \n"
     ]
    },
    {
     "name": "stdout",
     "output_type": "stream",
     "text": [
      "FIT RMSE: 0.63       FIT MAE: 0.58   \n"
     ]
    },
    {
     "name": "stderr",
     "output_type": "stream",
     "text": [
      "INFO:drizzlepac.imgclasses:\n"
     ]
    },
    {
     "name": "stdout",
     "output_type": "stream",
     "text": [
      "\n"
     ]
    },
    {
     "name": "stderr",
     "output_type": "stream",
     "text": [
      "INFO:drizzlepac.imgclasses:RMS_RA: 9.9e-07 (deg)   RMS_DEC: 4.2e-06 (deg)\n"
     ]
    },
    {
     "name": "stdout",
     "output_type": "stream",
     "text": [
      "RMS_RA: 9.9e-07 (deg)   RMS_DEC: 4.2e-06 (deg)\n"
     ]
    },
    {
     "name": "stderr",
     "output_type": "stream",
     "text": [
      "INFO:drizzlepac.imgclasses:\n"
     ]
    },
    {
     "name": "stdout",
     "output_type": "stream",
     "text": [
      "\n"
     ]
    },
    {
     "name": "stderr",
     "output_type": "stream",
     "text": [
      "INFO:drizzlepac.imgclasses:Final solution based on  38  objects.\n"
     ]
    },
    {
     "name": "stdout",
     "output_type": "stream",
     "text": [
      "Final solution based on  38  objects.\n"
     ]
    },
    {
     "name": "stderr",
     "output_type": "stream",
     "text": [
      "INFO:drizzlepac.imgclasses:Creating catalog for the fit: hst_16231_03_acs_sbc_f150lp_jec403ib_flt_catalog_fit.match\n",
      "INFO:drizzlepac.tweakutils:wrote XY data to:  hst_16231_03_acs_sbc_f150lp_jec403ib_flt_catalog_fit.match\n"
     ]
    },
    {
     "name": "stdout",
     "output_type": "stream",
     "text": [
      "wrote XY data to:  hst_16231_03_acs_sbc_f150lp_jec403ib_flt_catalog_fit.match\n"
     ]
    },
    {
     "name": "stderr",
     "output_type": "stream",
     "text": [
      "INFO:drizzlepac.tweakutils:Total # points: 38\n"
     ]
    },
    {
     "name": "stdout",
     "output_type": "stream",
     "text": [
      "Total # points: 38\n"
     ]
    },
    {
     "name": "stderr",
     "output_type": "stream",
     "text": [
      "INFO:drizzlepac.tweakutils:# of points after clipping: 38\n"
     ]
    },
    {
     "name": "stdout",
     "output_type": "stream",
     "text": [
      "# of points after clipping: 38\n"
     ]
    },
    {
     "name": "stderr",
     "output_type": "stream",
     "text": [
      "INFO:drizzlepac.tweakutils:Total # points: 38\n"
     ]
    },
    {
     "name": "stdout",
     "output_type": "stream",
     "text": [
      "Total # points: 38\n"
     ]
    },
    {
     "name": "stderr",
     "output_type": "stream",
     "text": [
      "INFO:drizzlepac.tweakutils:# of points after clipping: 38\n"
     ]
    },
    {
     "name": "stdout",
     "output_type": "stream",
     "text": [
      "# of points after clipping: 38\n"
     ]
    },
    {
     "name": "stderr",
     "output_type": "stream",
     "text": [
      "INFO:drizzlepac.updatehdr:\n"
     ]
    },
    {
     "name": "stdout",
     "output_type": "stream",
     "text": [
      "\n"
     ]
    },
    {
     "name": "stderr",
     "output_type": "stream",
     "text": [
      "INFO:drizzlepac.updatehdr:....Updating header for 'hst_16231_03_acs_sbc_f150lp_jec403ib_flt.fits' ...\n"
     ]
    },
    {
     "name": "stdout",
     "output_type": "stream",
     "text": [
      "....Updating header for 'hst_16231_03_acs_sbc_f150lp_jec403ib_flt.fits' ...\n"
     ]
    },
    {
     "name": "stderr",
     "output_type": "stream",
     "text": [
      "INFO:drizzlepac.updatehdr:\n"
     ]
    },
    {
     "name": "stdout",
     "output_type": "stream",
     "text": [
      "\n"
     ]
    },
    {
     "name": "stderr",
     "output_type": "stream",
     "text": [
      "INFO:drizzlepac.updatehdr:\n"
     ]
    },
    {
     "name": "stdout",
     "output_type": "stream",
     "text": [
      "\n"
     ]
    },
    {
     "name": "stderr",
     "output_type": "stream",
     "text": [
      "INFO:drizzlepac.updatehdr:Processing hst_16231_03_acs_sbc_f150lp_jec403ib_flt.fits['SCI',1]\n"
     ]
    },
    {
     "name": "stdout",
     "output_type": "stream",
     "text": [
      "Processing hst_16231_03_acs_sbc_f150lp_jec403ib_flt.fits['SCI',1]\n"
     ]
    },
    {
     "name": "stderr",
     "output_type": "stream",
     "text": [
      "INFO:drizzlepac.updatehdr:\n"
     ]
    },
    {
     "name": "stdout",
     "output_type": "stream",
     "text": [
      "\n"
     ]
    },
    {
     "name": "stderr",
     "output_type": "stream",
     "text": [
      "INFO:drizzlepac.updatehdr:Updating header for hst_16231_03_acs_sbc_f150lp_jec403ib_flt.fits[1]\n"
     ]
    },
    {
     "name": "stdout",
     "output_type": "stream",
     "text": [
      "Updating header for hst_16231_03_acs_sbc_f150lp_jec403ib_flt.fits[1]\n"
     ]
    },
    {
     "name": "stderr",
     "output_type": "stream",
     "text": [
      "INFO:drizzlepac.updatehdr:    with WCS of\n",
      "INFO:stwcs.wcsutil.hstwcs:WCS Keywords\n"
     ]
    },
    {
     "name": "stdout",
     "output_type": "stream",
     "text": [
      "WCS Keywords\n"
     ]
    },
    {
     "name": "stderr",
     "output_type": "stream",
     "text": [
      "INFO:stwcs.wcsutil.hstwcs:\n"
     ]
    },
    {
     "name": "stdout",
     "output_type": "stream",
     "text": [
      "\n"
     ]
    },
    {
     "name": "stderr",
     "output_type": "stream",
     "text": [
      "INFO:stwcs.wcsutil.hstwcs:CD_11  CD_12: -5.174869495783176e-06 6.4840753168826305e-06\n"
     ]
    },
    {
     "name": "stdout",
     "output_type": "stream",
     "text": [
      "CD_11  CD_12: -5.174869495783176e-06 6.4840753168826305e-06\n"
     ]
    },
    {
     "name": "stderr",
     "output_type": "stream",
     "text": [
      "INFO:stwcs.wcsutil.hstwcs:CD_21  CD_22: 7.803205005541634e-06 5.270371943330508e-06\n"
     ]
    },
    {
     "name": "stdout",
     "output_type": "stream",
     "text": [
      "CD_21  CD_22: 7.803205005541634e-06 5.270371943330508e-06\n"
     ]
    },
    {
     "name": "stderr",
     "output_type": "stream",
     "text": [
      "INFO:stwcs.wcsutil.hstwcs:CRVAL    : 319.60100408768005 0.2913665304531638\n"
     ]
    },
    {
     "name": "stdout",
     "output_type": "stream",
     "text": [
      "CRVAL    : 319.60100408768005 0.2913665304531638\n"
     ]
    },
    {
     "name": "stderr",
     "output_type": "stream",
     "text": [
      "INFO:stwcs.wcsutil.hstwcs:CRPIX    : 512.0 512.0\n"
     ]
    },
    {
     "name": "stdout",
     "output_type": "stream",
     "text": [
      "CRPIX    : 512.0 512.0\n"
     ]
    },
    {
     "name": "stderr",
     "output_type": "stream",
     "text": [
      "INFO:stwcs.wcsutil.hstwcs:NAXIS    : 1024 1024\n"
     ]
    },
    {
     "name": "stdout",
     "output_type": "stream",
     "text": [
      "NAXIS    : 1024 1024\n"
     ]
    },
    {
     "name": "stderr",
     "output_type": "stream",
     "text": [
      "INFO:stwcs.wcsutil.hstwcs:Plate Scale : 0.033707438920655405\n"
     ]
    },
    {
     "name": "stdout",
     "output_type": "stream",
     "text": [
      "Plate Scale : 0.033707438920655405\n"
     ]
    },
    {
     "name": "stderr",
     "output_type": "stream",
     "text": [
      "INFO:stwcs.wcsutil.hstwcs:ORIENTAT : 50.895174235352115\n"
     ]
    },
    {
     "name": "stdout",
     "output_type": "stream",
     "text": [
      "ORIENTAT : 50.895174235352115\n"
     ]
    },
    {
     "name": "stderr",
     "output_type": "stream",
     "text": [
      "INFO:drizzlepac.updatehdr:WCSNAME  :  TWEAK\n"
     ]
    },
    {
     "name": "stdout",
     "output_type": "stream",
     "text": [
      "WCSNAME  :  TWEAK\n"
     ]
    },
    {
     "name": "stderr",
     "output_type": "stream",
     "text": [
      "INFO:drizzlepac.imgclasses:Updating WCSCORR table with new WCS solution \"TWEAK\"\n",
      "INFO:drizzlepac.tweakreg:\n"
     ]
    },
    {
     "name": "stdout",
     "output_type": "stream",
     "text": [
      "\n"
     ]
    },
    {
     "name": "stderr",
     "output_type": "stream",
     "text": [
      "INFO:drizzlepac.tweakreg:====================\n"
     ]
    },
    {
     "name": "stdout",
     "output_type": "stream",
     "text": [
      "====================\n"
     ]
    },
    {
     "name": "stderr",
     "output_type": "stream",
     "text": [
      "INFO:drizzlepac.tweakreg:Performing fit for: hst_16231_03_acs_sbc_f150lp_jec403ic_flt.fits\n"
     ]
    },
    {
     "name": "stdout",
     "output_type": "stream",
     "text": [
      "Performing fit for: hst_16231_03_acs_sbc_f150lp_jec403ic_flt.fits\n"
     ]
    },
    {
     "name": "stderr",
     "output_type": "stream",
     "text": [
      "INFO:drizzlepac.tweakreg:\n"
     ]
    },
    {
     "name": "stdout",
     "output_type": "stream",
     "text": [
      "\n"
     ]
    },
    {
     "name": "stderr",
     "output_type": "stream",
     "text": [
      "INFO:drizzlepac.imgclasses:Matching sources from 'hst_16231_03_acs_sbc_f150lp_jec403ic_flt.fits' with sources from reference image 'hst_16231_01_acs_sbc_f150lp_jec401no_flt.fits'\n"
     ]
    },
    {
     "name": "stdout",
     "output_type": "stream",
     "text": [
      "Matching sources from 'hst_16231_03_acs_sbc_f150lp_jec403ic_flt.fits' with sources from reference image 'hst_16231_01_acs_sbc_f150lp_jec401no_flt.fits'\n"
     ]
    },
    {
     "name": "stderr",
     "output_type": "stream",
     "text": [
      "INFO:drizzlepac.imgclasses:Computing initial guess for X and Y shifts...\n"
     ]
    },
    {
     "name": "stdout",
     "output_type": "stream",
     "text": [
      "Computing initial guess for X and Y shifts...\n"
     ]
    },
    {
     "name": "stderr",
     "output_type": "stream",
     "text": [
      "INFO:drizzlepac.imgclasses:Found initial X and Y shifts of -0.7094, -24.2 with significance of 7.249 and 209 matches\n"
     ]
    },
    {
     "name": "stdout",
     "output_type": "stream",
     "text": [
      "Found initial X and Y shifts of -0.7094, -24.2 with significance of 7.249 and 209 matches\n"
     ]
    },
    {
     "name": "stderr",
     "output_type": "stream",
     "text": [
      "INFO:drizzlepac.imgclasses:Found 39 matches for hst_16231_03_acs_sbc_f150lp_jec403ic_flt.fits...\n"
     ]
    },
    {
     "name": "stdout",
     "output_type": "stream",
     "text": [
      "Found 39 matches for hst_16231_03_acs_sbc_f150lp_jec403ic_flt.fits...\n"
     ]
    },
    {
     "name": "stderr",
     "output_type": "stream",
     "text": [
      "INFO:drizzlepac.linearfit:Performing \"rscale\" fit\n",
      "INFO:drizzlepac.linearfit:Performing \"rscale\" fit\n",
      "INFO:drizzlepac.linearfit:Performing \"rscale\" fit\n",
      "INFO:drizzlepac.linearfit:Performing \"rscale\" fit\n",
      "INFO:drizzlepac.imgclasses:Computed  rscale  fit for  hst_16231_03_acs_sbc_f150lp_jec403ic_flt.fits : \n"
     ]
    },
    {
     "name": "stdout",
     "output_type": "stream",
     "text": [
      "Computed  rscale  fit for  hst_16231_03_acs_sbc_f150lp_jec403ic_flt.fits : \n"
     ]
    },
    {
     "name": "stderr",
     "output_type": "stream",
     "text": [
      "INFO:drizzlepac.imgclasses:XSH: -0.6665  YSH: -24.1610    ROT: 359.9832594    SCALE: 0.999847\n"
     ]
    },
    {
     "name": "stdout",
     "output_type": "stream",
     "text": [
      "XSH: -0.6665  YSH: -24.1610    ROT: 359.9832594    SCALE: 0.999847\n"
     ]
    },
    {
     "name": "stderr",
     "output_type": "stream",
     "text": [
      "INFO:drizzlepac.imgclasses:FIT XRMS: 0.48       FIT YRMS: 0.42   \n"
     ]
    },
    {
     "name": "stdout",
     "output_type": "stream",
     "text": [
      "FIT XRMS: 0.48       FIT YRMS: 0.42   \n"
     ]
    },
    {
     "name": "stderr",
     "output_type": "stream",
     "text": [
      "INFO:drizzlepac.imgclasses:FIT RMSE: 0.64       FIT MAE: 0.59   \n"
     ]
    },
    {
     "name": "stdout",
     "output_type": "stream",
     "text": [
      "FIT RMSE: 0.64       FIT MAE: 0.59   \n"
     ]
    },
    {
     "name": "stderr",
     "output_type": "stream",
     "text": [
      "INFO:drizzlepac.imgclasses:\n"
     ]
    },
    {
     "name": "stdout",
     "output_type": "stream",
     "text": [
      "\n"
     ]
    },
    {
     "name": "stderr",
     "output_type": "stream",
     "text": [
      "INFO:drizzlepac.imgclasses:RMS_RA: 6.3e-07 (deg)   RMS_DEC: 4.4e-06 (deg)\n"
     ]
    },
    {
     "name": "stdout",
     "output_type": "stream",
     "text": [
      "RMS_RA: 6.3e-07 (deg)   RMS_DEC: 4.4e-06 (deg)\n"
     ]
    },
    {
     "name": "stderr",
     "output_type": "stream",
     "text": [
      "INFO:drizzlepac.imgclasses:\n"
     ]
    },
    {
     "name": "stdout",
     "output_type": "stream",
     "text": [
      "\n"
     ]
    },
    {
     "name": "stderr",
     "output_type": "stream",
     "text": [
      "INFO:drizzlepac.imgclasses:Final solution based on  39  objects.\n"
     ]
    },
    {
     "name": "stdout",
     "output_type": "stream",
     "text": [
      "Final solution based on  39  objects.\n"
     ]
    },
    {
     "name": "stderr",
     "output_type": "stream",
     "text": [
      "INFO:drizzlepac.imgclasses:Creating catalog for the fit: hst_16231_03_acs_sbc_f150lp_jec403ic_flt_catalog_fit.match\n",
      "INFO:drizzlepac.tweakutils:wrote XY data to:  hst_16231_03_acs_sbc_f150lp_jec403ic_flt_catalog_fit.match\n"
     ]
    },
    {
     "name": "stdout",
     "output_type": "stream",
     "text": [
      "wrote XY data to:  hst_16231_03_acs_sbc_f150lp_jec403ic_flt_catalog_fit.match\n"
     ]
    },
    {
     "name": "stderr",
     "output_type": "stream",
     "text": [
      "INFO:drizzlepac.tweakutils:Total # points: 39\n"
     ]
    },
    {
     "name": "stdout",
     "output_type": "stream",
     "text": [
      "Total # points: 39\n"
     ]
    },
    {
     "name": "stderr",
     "output_type": "stream",
     "text": [
      "INFO:drizzlepac.tweakutils:# of points after clipping: 39\n"
     ]
    },
    {
     "name": "stdout",
     "output_type": "stream",
     "text": [
      "# of points after clipping: 39\n"
     ]
    },
    {
     "name": "stderr",
     "output_type": "stream",
     "text": [
      "INFO:drizzlepac.tweakutils:Total # points: 39\n"
     ]
    },
    {
     "name": "stdout",
     "output_type": "stream",
     "text": [
      "Total # points: 39\n"
     ]
    },
    {
     "name": "stderr",
     "output_type": "stream",
     "text": [
      "INFO:drizzlepac.tweakutils:# of points after clipping: 39\n"
     ]
    },
    {
     "name": "stdout",
     "output_type": "stream",
     "text": [
      "# of points after clipping: 39\n"
     ]
    },
    {
     "name": "stderr",
     "output_type": "stream",
     "text": [
      "INFO:drizzlepac.updatehdr:\n"
     ]
    },
    {
     "name": "stdout",
     "output_type": "stream",
     "text": [
      "\n"
     ]
    },
    {
     "name": "stderr",
     "output_type": "stream",
     "text": [
      "INFO:drizzlepac.updatehdr:....Updating header for 'hst_16231_03_acs_sbc_f150lp_jec403ic_flt.fits' ...\n"
     ]
    },
    {
     "name": "stdout",
     "output_type": "stream",
     "text": [
      "....Updating header for 'hst_16231_03_acs_sbc_f150lp_jec403ic_flt.fits' ...\n"
     ]
    },
    {
     "name": "stderr",
     "output_type": "stream",
     "text": [
      "INFO:drizzlepac.updatehdr:\n"
     ]
    },
    {
     "name": "stdout",
     "output_type": "stream",
     "text": [
      "\n"
     ]
    },
    {
     "name": "stderr",
     "output_type": "stream",
     "text": [
      "INFO:drizzlepac.updatehdr:\n"
     ]
    },
    {
     "name": "stdout",
     "output_type": "stream",
     "text": [
      "\n"
     ]
    },
    {
     "name": "stderr",
     "output_type": "stream",
     "text": [
      "INFO:drizzlepac.updatehdr:Processing hst_16231_03_acs_sbc_f150lp_jec403ic_flt.fits['SCI',1]\n"
     ]
    },
    {
     "name": "stdout",
     "output_type": "stream",
     "text": [
      "Processing hst_16231_03_acs_sbc_f150lp_jec403ic_flt.fits['SCI',1]\n"
     ]
    },
    {
     "name": "stderr",
     "output_type": "stream",
     "text": [
      "INFO:drizzlepac.updatehdr:\n"
     ]
    },
    {
     "name": "stdout",
     "output_type": "stream",
     "text": [
      "\n"
     ]
    },
    {
     "name": "stderr",
     "output_type": "stream",
     "text": [
      "INFO:drizzlepac.updatehdr:Updating header for hst_16231_03_acs_sbc_f150lp_jec403ic_flt.fits[1]\n"
     ]
    },
    {
     "name": "stdout",
     "output_type": "stream",
     "text": [
      "Updating header for hst_16231_03_acs_sbc_f150lp_jec403ic_flt.fits[1]\n"
     ]
    },
    {
     "name": "stderr",
     "output_type": "stream",
     "text": [
      "INFO:drizzlepac.updatehdr:    with WCS of\n",
      "INFO:stwcs.wcsutil.hstwcs:WCS Keywords\n"
     ]
    },
    {
     "name": "stdout",
     "output_type": "stream",
     "text": [
      "WCS Keywords\n"
     ]
    },
    {
     "name": "stderr",
     "output_type": "stream",
     "text": [
      "INFO:stwcs.wcsutil.hstwcs:\n"
     ]
    },
    {
     "name": "stdout",
     "output_type": "stream",
     "text": [
      "\n"
     ]
    },
    {
     "name": "stderr",
     "output_type": "stream",
     "text": [
      "INFO:stwcs.wcsutil.hstwcs:CD_11  CD_12: -5.177595801053436e-06 6.483608794204143e-06\n"
     ]
    },
    {
     "name": "stdout",
     "output_type": "stream",
     "text": [
      "CD_11  CD_12: -5.177595801053436e-06 6.483608794204143e-06\n"
     ]
    },
    {
     "name": "stderr",
     "output_type": "stream",
     "text": [
      "INFO:stwcs.wcsutil.hstwcs:CD_21  CD_22: 7.802944912673979e-06 5.272771026214616e-06\n"
     ]
    },
    {
     "name": "stdout",
     "output_type": "stream",
     "text": [
      "CD_21  CD_22: 7.802944912673979e-06 5.272771026214616e-06\n"
     ]
    },
    {
     "name": "stderr",
     "output_type": "stream",
     "text": [
      "INFO:stwcs.wcsutil.hstwcs:CRVAL    : 319.6009233257035 0.2912291549848193\n"
     ]
    },
    {
     "name": "stdout",
     "output_type": "stream",
     "text": [
      "CRVAL    : 319.6009233257035 0.2912291549848193\n"
     ]
    },
    {
     "name": "stderr",
     "output_type": "stream",
     "text": [
      "INFO:stwcs.wcsutil.hstwcs:CRPIX    : 512.0 512.0\n"
     ]
    },
    {
     "name": "stdout",
     "output_type": "stream",
     "text": [
      "CRPIX    : 512.0 512.0\n"
     ]
    },
    {
     "name": "stderr",
     "output_type": "stream",
     "text": [
      "INFO:stwcs.wcsutil.hstwcs:NAXIS    : 1024 1024\n"
     ]
    },
    {
     "name": "stdout",
     "output_type": "stream",
     "text": [
      "NAXIS    : 1024 1024\n"
     ]
    },
    {
     "name": "stderr",
     "output_type": "stream",
     "text": [
      "INFO:stwcs.wcsutil.hstwcs:Plate Scale : 0.03370697890414665\n"
     ]
    },
    {
     "name": "stdout",
     "output_type": "stream",
     "text": [
      "Plate Scale : 0.03370697890414665\n"
     ]
    },
    {
     "name": "stderr",
     "output_type": "stream",
     "text": [
      "INFO:stwcs.wcsutil.hstwcs:ORIENTAT : 50.88039313340883\n"
     ]
    },
    {
     "name": "stdout",
     "output_type": "stream",
     "text": [
      "ORIENTAT : 50.88039313340883\n"
     ]
    },
    {
     "name": "stderr",
     "output_type": "stream",
     "text": [
      "INFO:drizzlepac.updatehdr:WCSNAME  :  TWEAK\n"
     ]
    },
    {
     "name": "stdout",
     "output_type": "stream",
     "text": [
      "WCSNAME  :  TWEAK\n"
     ]
    },
    {
     "name": "stderr",
     "output_type": "stream",
     "text": [
      "INFO:drizzlepac.imgclasses:Updating WCSCORR table with new WCS solution \"TWEAK\"\n",
      "INFO:drizzlepac.tweakreg:\n"
     ]
    },
    {
     "name": "stdout",
     "output_type": "stream",
     "text": [
      "\n"
     ]
    },
    {
     "name": "stderr",
     "output_type": "stream",
     "text": [
      "INFO:drizzlepac.tweakreg:====================\n"
     ]
    },
    {
     "name": "stdout",
     "output_type": "stream",
     "text": [
      "====================\n"
     ]
    },
    {
     "name": "stderr",
     "output_type": "stream",
     "text": [
      "INFO:drizzlepac.tweakreg:Performing fit for: hst_16231_03_acs_sbc_f150lp_jec403id_flt.fits\n"
     ]
    },
    {
     "name": "stdout",
     "output_type": "stream",
     "text": [
      "Performing fit for: hst_16231_03_acs_sbc_f150lp_jec403id_flt.fits\n"
     ]
    },
    {
     "name": "stderr",
     "output_type": "stream",
     "text": [
      "INFO:drizzlepac.tweakreg:\n"
     ]
    },
    {
     "name": "stdout",
     "output_type": "stream",
     "text": [
      "\n"
     ]
    },
    {
     "name": "stderr",
     "output_type": "stream",
     "text": [
      "INFO:drizzlepac.imgclasses:Matching sources from 'hst_16231_03_acs_sbc_f150lp_jec403id_flt.fits' with sources from reference image 'hst_16231_01_acs_sbc_f150lp_jec401no_flt.fits'\n"
     ]
    },
    {
     "name": "stdout",
     "output_type": "stream",
     "text": [
      "Matching sources from 'hst_16231_03_acs_sbc_f150lp_jec403id_flt.fits' with sources from reference image 'hst_16231_01_acs_sbc_f150lp_jec401no_flt.fits'\n"
     ]
    },
    {
     "name": "stderr",
     "output_type": "stream",
     "text": [
      "INFO:drizzlepac.imgclasses:Computing initial guess for X and Y shifts...\n"
     ]
    },
    {
     "name": "stdout",
     "output_type": "stream",
     "text": [
      "Computing initial guess for X and Y shifts...\n"
     ]
    },
    {
     "name": "stderr",
     "output_type": "stream",
     "text": [
      "INFO:drizzlepac.imgclasses:Found initial X and Y shifts of 2.381, 31.76 with significance of 7.645 and 214 matches\n"
     ]
    },
    {
     "name": "stdout",
     "output_type": "stream",
     "text": [
      "Found initial X and Y shifts of 2.381, 31.76 with significance of 7.645 and 214 matches\n"
     ]
    },
    {
     "name": "stderr",
     "output_type": "stream",
     "text": [
      "INFO:drizzlepac.imgclasses:Found 36 matches for hst_16231_03_acs_sbc_f150lp_jec403id_flt.fits...\n"
     ]
    },
    {
     "name": "stdout",
     "output_type": "stream",
     "text": [
      "Found 36 matches for hst_16231_03_acs_sbc_f150lp_jec403id_flt.fits...\n"
     ]
    },
    {
     "name": "stderr",
     "output_type": "stream",
     "text": [
      "INFO:drizzlepac.linearfit:Performing \"rscale\" fit\n",
      "INFO:drizzlepac.linearfit:Performing \"rscale\" fit\n",
      "INFO:drizzlepac.linearfit:Performing \"rscale\" fit\n",
      "INFO:drizzlepac.linearfit:Performing \"rscale\" fit\n",
      "INFO:drizzlepac.imgclasses:Computed  rscale  fit for  hst_16231_03_acs_sbc_f150lp_jec403id_flt.fits : \n"
     ]
    },
    {
     "name": "stdout",
     "output_type": "stream",
     "text": [
      "Computed  rscale  fit for  hst_16231_03_acs_sbc_f150lp_jec403id_flt.fits : \n"
     ]
    },
    {
     "name": "stderr",
     "output_type": "stream",
     "text": [
      "INFO:drizzlepac.imgclasses:XSH: 2.2515  YSH: 31.8524    ROT: 359.9970657    SCALE: 0.999818\n"
     ]
    },
    {
     "name": "stdout",
     "output_type": "stream",
     "text": [
      "XSH: 2.2515  YSH: 31.8524    ROT: 359.9970657    SCALE: 0.999818\n"
     ]
    },
    {
     "name": "stderr",
     "output_type": "stream",
     "text": [
      "INFO:drizzlepac.imgclasses:FIT XRMS: 0.45       FIT YRMS: 0.4    \n"
     ]
    },
    {
     "name": "stdout",
     "output_type": "stream",
     "text": [
      "FIT XRMS: 0.45       FIT YRMS: 0.4    \n"
     ]
    },
    {
     "name": "stderr",
     "output_type": "stream",
     "text": [
      "INFO:drizzlepac.imgclasses:FIT RMSE: 0.6        FIT MAE: 0.54   \n"
     ]
    },
    {
     "name": "stdout",
     "output_type": "stream",
     "text": [
      "FIT RMSE: 0.6        FIT MAE: 0.54   \n"
     ]
    },
    {
     "name": "stderr",
     "output_type": "stream",
     "text": [
      "INFO:drizzlepac.imgclasses:\n"
     ]
    },
    {
     "name": "stdout",
     "output_type": "stream",
     "text": [
      "\n"
     ]
    },
    {
     "name": "stderr",
     "output_type": "stream",
     "text": [
      "INFO:drizzlepac.imgclasses:RMS_RA: 6.7e-07 (deg)   RMS_DEC: 4.1e-06 (deg)\n"
     ]
    },
    {
     "name": "stdout",
     "output_type": "stream",
     "text": [
      "RMS_RA: 6.7e-07 (deg)   RMS_DEC: 4.1e-06 (deg)\n"
     ]
    },
    {
     "name": "stderr",
     "output_type": "stream",
     "text": [
      "INFO:drizzlepac.imgclasses:\n"
     ]
    },
    {
     "name": "stdout",
     "output_type": "stream",
     "text": [
      "\n"
     ]
    },
    {
     "name": "stderr",
     "output_type": "stream",
     "text": [
      "INFO:drizzlepac.imgclasses:Final solution based on  36  objects.\n"
     ]
    },
    {
     "name": "stdout",
     "output_type": "stream",
     "text": [
      "Final solution based on  36  objects.\n"
     ]
    },
    {
     "name": "stderr",
     "output_type": "stream",
     "text": [
      "INFO:drizzlepac.imgclasses:Creating catalog for the fit: hst_16231_03_acs_sbc_f150lp_jec403id_flt_catalog_fit.match\n",
      "INFO:drizzlepac.tweakutils:wrote XY data to:  hst_16231_03_acs_sbc_f150lp_jec403id_flt_catalog_fit.match\n"
     ]
    },
    {
     "name": "stdout",
     "output_type": "stream",
     "text": [
      "wrote XY data to:  hst_16231_03_acs_sbc_f150lp_jec403id_flt_catalog_fit.match\n"
     ]
    },
    {
     "name": "stderr",
     "output_type": "stream",
     "text": [
      "INFO:drizzlepac.tweakutils:Total # points: 36\n"
     ]
    },
    {
     "name": "stdout",
     "output_type": "stream",
     "text": [
      "Total # points: 36\n"
     ]
    },
    {
     "name": "stderr",
     "output_type": "stream",
     "text": [
      "INFO:drizzlepac.tweakutils:# of points after clipping: 36\n"
     ]
    },
    {
     "name": "stdout",
     "output_type": "stream",
     "text": [
      "# of points after clipping: 36\n"
     ]
    },
    {
     "name": "stderr",
     "output_type": "stream",
     "text": [
      "INFO:drizzlepac.tweakutils:Total # points: 36\n"
     ]
    },
    {
     "name": "stdout",
     "output_type": "stream",
     "text": [
      "Total # points: 36\n"
     ]
    },
    {
     "name": "stderr",
     "output_type": "stream",
     "text": [
      "INFO:drizzlepac.tweakutils:# of points after clipping: 36\n"
     ]
    },
    {
     "name": "stdout",
     "output_type": "stream",
     "text": [
      "# of points after clipping: 36\n"
     ]
    },
    {
     "name": "stderr",
     "output_type": "stream",
     "text": [
      "INFO:drizzlepac.updatehdr:\n"
     ]
    },
    {
     "name": "stdout",
     "output_type": "stream",
     "text": [
      "\n"
     ]
    },
    {
     "name": "stderr",
     "output_type": "stream",
     "text": [
      "INFO:drizzlepac.updatehdr:....Updating header for 'hst_16231_03_acs_sbc_f150lp_jec403id_flt.fits' ...\n"
     ]
    },
    {
     "name": "stdout",
     "output_type": "stream",
     "text": [
      "....Updating header for 'hst_16231_03_acs_sbc_f150lp_jec403id_flt.fits' ...\n"
     ]
    },
    {
     "name": "stderr",
     "output_type": "stream",
     "text": [
      "INFO:drizzlepac.updatehdr:\n"
     ]
    },
    {
     "name": "stdout",
     "output_type": "stream",
     "text": [
      "\n"
     ]
    },
    {
     "name": "stderr",
     "output_type": "stream",
     "text": [
      "INFO:drizzlepac.updatehdr:\n"
     ]
    },
    {
     "name": "stdout",
     "output_type": "stream",
     "text": [
      "\n"
     ]
    },
    {
     "name": "stderr",
     "output_type": "stream",
     "text": [
      "INFO:drizzlepac.updatehdr:Processing hst_16231_03_acs_sbc_f150lp_jec403id_flt.fits['SCI',1]\n"
     ]
    },
    {
     "name": "stdout",
     "output_type": "stream",
     "text": [
      "Processing hst_16231_03_acs_sbc_f150lp_jec403id_flt.fits['SCI',1]\n"
     ]
    },
    {
     "name": "stderr",
     "output_type": "stream",
     "text": [
      "INFO:drizzlepac.updatehdr:\n"
     ]
    },
    {
     "name": "stdout",
     "output_type": "stream",
     "text": [
      "\n"
     ]
    },
    {
     "name": "stderr",
     "output_type": "stream",
     "text": [
      "INFO:drizzlepac.updatehdr:Updating header for hst_16231_03_acs_sbc_f150lp_jec403id_flt.fits[1]\n"
     ]
    },
    {
     "name": "stdout",
     "output_type": "stream",
     "text": [
      "Updating header for hst_16231_03_acs_sbc_f150lp_jec403id_flt.fits[1]\n"
     ]
    },
    {
     "name": "stderr",
     "output_type": "stream",
     "text": [
      "INFO:drizzlepac.updatehdr:    with WCS of\n",
      "INFO:stwcs.wcsutil.hstwcs:WCS Keywords\n"
     ]
    },
    {
     "name": "stdout",
     "output_type": "stream",
     "text": [
      "WCS Keywords\n"
     ]
    },
    {
     "name": "stderr",
     "output_type": "stream",
     "text": [
      "INFO:stwcs.wcsutil.hstwcs:\n"
     ]
    },
    {
     "name": "stdout",
     "output_type": "stream",
     "text": [
      "\n"
     ]
    },
    {
     "name": "stderr",
     "output_type": "stream",
     "text": [
      "INFO:stwcs.wcsutil.hstwcs:CD_11  CD_12: -5.175777779126665e-06 6.484956955782283e-06\n"
     ]
    },
    {
     "name": "stdout",
     "output_type": "stream",
     "text": [
      "CD_11  CD_12: -5.175777779126665e-06 6.484956955782283e-06\n"
     ]
    },
    {
     "name": "stderr",
     "output_type": "stream",
     "text": [
      "INFO:stwcs.wcsutil.hstwcs:CD_21  CD_22: 7.804285919758613e-06 5.271272018841674e-06\n"
     ]
    },
    {
     "name": "stdout",
     "output_type": "stream",
     "text": [
      "CD_21  CD_22: 7.804285919758613e-06 5.271272018841674e-06\n"
     ]
    },
    {
     "name": "stderr",
     "output_type": "stream",
     "text": [
      "INFO:stwcs.wcsutil.hstwcs:CRVAL    : 319.6004459624033 0.29101912999349355\n"
     ]
    },
    {
     "name": "stdout",
     "output_type": "stream",
     "text": [
      "CRVAL    : 319.6004459624033 0.29101912999349355\n"
     ]
    },
    {
     "name": "stderr",
     "output_type": "stream",
     "text": [
      "INFO:stwcs.wcsutil.hstwcs:CRPIX    : 512.0 512.0\n"
     ]
    },
    {
     "name": "stdout",
     "output_type": "stream",
     "text": [
      "CRPIX    : 512.0 512.0\n"
     ]
    },
    {
     "name": "stderr",
     "output_type": "stream",
     "text": [
      "INFO:stwcs.wcsutil.hstwcs:NAXIS    : 1024 1024\n"
     ]
    },
    {
     "name": "stdout",
     "output_type": "stream",
     "text": [
      "NAXIS    : 1024 1024\n"
     ]
    },
    {
     "name": "stderr",
     "output_type": "stream",
     "text": [
      "INFO:stwcs.wcsutil.hstwcs:Plate Scale : 0.03370639259409969\n"
     ]
    },
    {
     "name": "stdout",
     "output_type": "stream",
     "text": [
      "Plate Scale : 0.03370639259409969\n"
     ]
    },
    {
     "name": "stderr",
     "output_type": "stream",
     "text": [
      "INFO:stwcs.wcsutil.hstwcs:ORIENTAT : 50.89419817738988\n"
     ]
    },
    {
     "name": "stdout",
     "output_type": "stream",
     "text": [
      "ORIENTAT : 50.89419817738988\n"
     ]
    },
    {
     "name": "stderr",
     "output_type": "stream",
     "text": [
      "INFO:drizzlepac.updatehdr:WCSNAME  :  TWEAK\n"
     ]
    },
    {
     "name": "stdout",
     "output_type": "stream",
     "text": [
      "WCSNAME  :  TWEAK\n"
     ]
    },
    {
     "name": "stderr",
     "output_type": "stream",
     "text": [
      "INFO:drizzlepac.imgclasses:Updating WCSCORR table with new WCS solution \"TWEAK\"\n",
      "INFO:drizzlepac.tweakreg:\n"
     ]
    },
    {
     "name": "stdout",
     "output_type": "stream",
     "text": [
      "\n"
     ]
    },
    {
     "name": "stderr",
     "output_type": "stream",
     "text": [
      "INFO:drizzlepac.tweakreg:====================\n"
     ]
    },
    {
     "name": "stdout",
     "output_type": "stream",
     "text": [
      "====================\n"
     ]
    },
    {
     "name": "stderr",
     "output_type": "stream",
     "text": [
      "INFO:drizzlepac.tweakreg:Performing fit for: hst_16231_03_acs_sbc_f150lp_jec403ie_flt.fits\n"
     ]
    },
    {
     "name": "stdout",
     "output_type": "stream",
     "text": [
      "Performing fit for: hst_16231_03_acs_sbc_f150lp_jec403ie_flt.fits\n"
     ]
    },
    {
     "name": "stderr",
     "output_type": "stream",
     "text": [
      "INFO:drizzlepac.tweakreg:\n"
     ]
    },
    {
     "name": "stdout",
     "output_type": "stream",
     "text": [
      "\n"
     ]
    },
    {
     "name": "stderr",
     "output_type": "stream",
     "text": [
      "INFO:drizzlepac.imgclasses:Matching sources from 'hst_16231_03_acs_sbc_f150lp_jec403ie_flt.fits' with sources from reference image 'hst_16231_01_acs_sbc_f150lp_jec401no_flt.fits'\n"
     ]
    },
    {
     "name": "stdout",
     "output_type": "stream",
     "text": [
      "Matching sources from 'hst_16231_03_acs_sbc_f150lp_jec403ie_flt.fits' with sources from reference image 'hst_16231_01_acs_sbc_f150lp_jec401no_flt.fits'\n"
     ]
    },
    {
     "name": "stderr",
     "output_type": "stream",
     "text": [
      "INFO:drizzlepac.imgclasses:Computing initial guess for X and Y shifts...\n"
     ]
    },
    {
     "name": "stdout",
     "output_type": "stream",
     "text": [
      "Computing initial guess for X and Y shifts...\n"
     ]
    },
    {
     "name": "stderr",
     "output_type": "stream",
     "text": [
      "INFO:drizzlepac.imgclasses:Found initial X and Y shifts of 32, -35 with significance of 7.646 and 269 matches\n"
     ]
    },
    {
     "name": "stdout",
     "output_type": "stream",
     "text": [
      "Found initial X and Y shifts of 32, -35 with significance of 7.646 and 269 matches\n"
     ]
    },
    {
     "name": "stderr",
     "output_type": "stream",
     "text": [
      "INFO:drizzlepac.imgclasses:Found 53 matches for hst_16231_03_acs_sbc_f150lp_jec403ie_flt.fits...\n"
     ]
    },
    {
     "name": "stdout",
     "output_type": "stream",
     "text": [
      "Found 53 matches for hst_16231_03_acs_sbc_f150lp_jec403ie_flt.fits...\n"
     ]
    },
    {
     "name": "stderr",
     "output_type": "stream",
     "text": [
      "INFO:drizzlepac.linearfit:Performing \"rscale\" fit\n",
      "INFO:drizzlepac.linearfit:Performing \"rscale\" fit\n",
      "INFO:drizzlepac.linearfit:Performing \"rscale\" fit\n",
      "INFO:drizzlepac.linearfit:Performing \"rscale\" fit\n",
      "INFO:drizzlepac.imgclasses:Computed  rscale  fit for  hst_16231_03_acs_sbc_f150lp_jec403ie_flt.fits : \n"
     ]
    },
    {
     "name": "stdout",
     "output_type": "stream",
     "text": [
      "Computed  rscale  fit for  hst_16231_03_acs_sbc_f150lp_jec403ie_flt.fits : \n"
     ]
    },
    {
     "name": "stderr",
     "output_type": "stream",
     "text": [
      "INFO:drizzlepac.imgclasses:XSH: 32.0770  YSH: -35.0351    ROT: 359.9946333    SCALE: 1.000078\n"
     ]
    },
    {
     "name": "stdout",
     "output_type": "stream",
     "text": [
      "XSH: 32.0770  YSH: -35.0351    ROT: 359.9946333    SCALE: 1.000078\n"
     ]
    },
    {
     "name": "stderr",
     "output_type": "stream",
     "text": [
      "INFO:drizzlepac.imgclasses:FIT XRMS: 0.47       FIT YRMS: 0.47   \n"
     ]
    },
    {
     "name": "stdout",
     "output_type": "stream",
     "text": [
      "FIT XRMS: 0.47       FIT YRMS: 0.47   \n"
     ]
    },
    {
     "name": "stderr",
     "output_type": "stream",
     "text": [
      "INFO:drizzlepac.imgclasses:FIT RMSE: 0.67       FIT MAE: 0.62   \n"
     ]
    },
    {
     "name": "stdout",
     "output_type": "stream",
     "text": [
      "FIT RMSE: 0.67       FIT MAE: 0.62   \n"
     ]
    },
    {
     "name": "stderr",
     "output_type": "stream",
     "text": [
      "INFO:drizzlepac.imgclasses:\n"
     ]
    },
    {
     "name": "stdout",
     "output_type": "stream",
     "text": [
      "\n"
     ]
    },
    {
     "name": "stderr",
     "output_type": "stream",
     "text": [
      "INFO:drizzlepac.imgclasses:RMS_RA: 9.3e-07 (deg)   RMS_DEC: 4.5e-06 (deg)\n"
     ]
    },
    {
     "name": "stdout",
     "output_type": "stream",
     "text": [
      "RMS_RA: 9.3e-07 (deg)   RMS_DEC: 4.5e-06 (deg)\n"
     ]
    },
    {
     "name": "stderr",
     "output_type": "stream",
     "text": [
      "INFO:drizzlepac.imgclasses:\n"
     ]
    },
    {
     "name": "stdout",
     "output_type": "stream",
     "text": [
      "\n"
     ]
    },
    {
     "name": "stderr",
     "output_type": "stream",
     "text": [
      "INFO:drizzlepac.imgclasses:Final solution based on  53  objects.\n"
     ]
    },
    {
     "name": "stdout",
     "output_type": "stream",
     "text": [
      "Final solution based on  53  objects.\n"
     ]
    },
    {
     "name": "stderr",
     "output_type": "stream",
     "text": [
      "INFO:drizzlepac.imgclasses:Creating catalog for the fit: hst_16231_03_acs_sbc_f150lp_jec403ie_flt_catalog_fit.match\n",
      "INFO:drizzlepac.tweakutils:wrote XY data to:  hst_16231_03_acs_sbc_f150lp_jec403ie_flt_catalog_fit.match\n"
     ]
    },
    {
     "name": "stdout",
     "output_type": "stream",
     "text": [
      "wrote XY data to:  hst_16231_03_acs_sbc_f150lp_jec403ie_flt_catalog_fit.match\n"
     ]
    },
    {
     "name": "stderr",
     "output_type": "stream",
     "text": [
      "INFO:drizzlepac.tweakutils:Total # points: 53\n"
     ]
    },
    {
     "name": "stdout",
     "output_type": "stream",
     "text": [
      "Total # points: 53\n"
     ]
    },
    {
     "name": "stderr",
     "output_type": "stream",
     "text": [
      "INFO:drizzlepac.tweakutils:# of points after clipping: 53\n"
     ]
    },
    {
     "name": "stdout",
     "output_type": "stream",
     "text": [
      "# of points after clipping: 53\n"
     ]
    },
    {
     "name": "stderr",
     "output_type": "stream",
     "text": [
      "INFO:drizzlepac.tweakutils:Total # points: 53\n"
     ]
    },
    {
     "name": "stdout",
     "output_type": "stream",
     "text": [
      "Total # points: 53\n"
     ]
    },
    {
     "name": "stderr",
     "output_type": "stream",
     "text": [
      "INFO:drizzlepac.tweakutils:# of points after clipping: 53\n"
     ]
    },
    {
     "name": "stdout",
     "output_type": "stream",
     "text": [
      "# of points after clipping: 53\n"
     ]
    },
    {
     "name": "stderr",
     "output_type": "stream",
     "text": [
      "INFO:drizzlepac.updatehdr:\n"
     ]
    },
    {
     "name": "stdout",
     "output_type": "stream",
     "text": [
      "\n"
     ]
    },
    {
     "name": "stderr",
     "output_type": "stream",
     "text": [
      "INFO:drizzlepac.updatehdr:....Updating header for 'hst_16231_03_acs_sbc_f150lp_jec403ie_flt.fits' ...\n"
     ]
    },
    {
     "name": "stdout",
     "output_type": "stream",
     "text": [
      "....Updating header for 'hst_16231_03_acs_sbc_f150lp_jec403ie_flt.fits' ...\n"
     ]
    },
    {
     "name": "stderr",
     "output_type": "stream",
     "text": [
      "INFO:drizzlepac.updatehdr:\n"
     ]
    },
    {
     "name": "stdout",
     "output_type": "stream",
     "text": [
      "\n"
     ]
    },
    {
     "name": "stderr",
     "output_type": "stream",
     "text": [
      "INFO:drizzlepac.updatehdr:\n"
     ]
    },
    {
     "name": "stdout",
     "output_type": "stream",
     "text": [
      "\n"
     ]
    },
    {
     "name": "stderr",
     "output_type": "stream",
     "text": [
      "INFO:drizzlepac.updatehdr:Processing hst_16231_03_acs_sbc_f150lp_jec403ie_flt.fits['SCI',1]\n"
     ]
    },
    {
     "name": "stdout",
     "output_type": "stream",
     "text": [
      "Processing hst_16231_03_acs_sbc_f150lp_jec403ie_flt.fits['SCI',1]\n"
     ]
    },
    {
     "name": "stderr",
     "output_type": "stream",
     "text": [
      "INFO:drizzlepac.updatehdr:\n"
     ]
    },
    {
     "name": "stdout",
     "output_type": "stream",
     "text": [
      "\n"
     ]
    },
    {
     "name": "stderr",
     "output_type": "stream",
     "text": [
      "INFO:drizzlepac.updatehdr:Updating header for hst_16231_03_acs_sbc_f150lp_jec403ie_flt.fits[1]\n"
     ]
    },
    {
     "name": "stdout",
     "output_type": "stream",
     "text": [
      "Updating header for hst_16231_03_acs_sbc_f150lp_jec403ie_flt.fits[1]\n"
     ]
    },
    {
     "name": "stderr",
     "output_type": "stream",
     "text": [
      "INFO:drizzlepac.updatehdr:    with WCS of\n",
      "INFO:stwcs.wcsutil.hstwcs:WCS Keywords\n"
     ]
    },
    {
     "name": "stdout",
     "output_type": "stream",
     "text": [
      "WCS Keywords\n"
     ]
    },
    {
     "name": "stderr",
     "output_type": "stream",
     "text": [
      "INFO:stwcs.wcsutil.hstwcs:\n"
     ]
    },
    {
     "name": "stdout",
     "output_type": "stream",
     "text": [
      "\n"
     ]
    },
    {
     "name": "stderr",
     "output_type": "stream",
     "text": [
      "INFO:stwcs.wcsutil.hstwcs:CD_11  CD_12: -5.174699784198527e-06 6.482968286370829e-06\n"
     ]
    },
    {
     "name": "stdout",
     "output_type": "stream",
     "text": [
      "CD_11  CD_12: -5.174699784198527e-06 6.482968286370829e-06\n"
     ]
    },
    {
     "name": "stderr",
     "output_type": "stream",
     "text": [
      "INFO:stwcs.wcsutil.hstwcs:CD_21  CD_22: 7.80194222812251e-06 5.270112078272383e-06\n"
     ]
    },
    {
     "name": "stdout",
     "output_type": "stream",
     "text": [
      "CD_21  CD_22: 7.80194222812251e-06 5.270112078272383e-06\n"
     ]
    },
    {
     "name": "stderr",
     "output_type": "stream",
     "text": [
      "INFO:stwcs.wcsutil.hstwcs:CRVAL    : 319.6008680218724 0.2913337009919905\n"
     ]
    },
    {
     "name": "stdout",
     "output_type": "stream",
     "text": [
      "CRVAL    : 319.6008680218724 0.2913337009919905\n"
     ]
    },
    {
     "name": "stderr",
     "output_type": "stream",
     "text": [
      "INFO:stwcs.wcsutil.hstwcs:CRPIX    : 512.0 512.0\n"
     ]
    },
    {
     "name": "stdout",
     "output_type": "stream",
     "text": [
      "CRPIX    : 512.0 512.0\n"
     ]
    },
    {
     "name": "stderr",
     "output_type": "stream",
     "text": [
      "INFO:stwcs.wcsutil.hstwcs:NAXIS    : 1024 1024\n"
     ]
    },
    {
     "name": "stdout",
     "output_type": "stream",
     "text": [
      "NAXIS    : 1024 1024\n"
     ]
    },
    {
     "name": "stderr",
     "output_type": "stream",
     "text": [
      "INFO:stwcs.wcsutil.hstwcs:Plate Scale : 0.0337059948587037\n"
     ]
    },
    {
     "name": "stdout",
     "output_type": "stream",
     "text": [
      "Plate Scale : 0.0337059948587037\n"
     ]
    },
    {
     "name": "stderr",
     "output_type": "stream",
     "text": [
      "INFO:stwcs.wcsutil.hstwcs:ORIENTAT : 50.891768671021914\n"
     ]
    },
    {
     "name": "stdout",
     "output_type": "stream",
     "text": [
      "ORIENTAT : 50.891768671021914\n"
     ]
    },
    {
     "name": "stderr",
     "output_type": "stream",
     "text": [
      "INFO:drizzlepac.updatehdr:WCSNAME  :  TWEAK\n"
     ]
    },
    {
     "name": "stdout",
     "output_type": "stream",
     "text": [
      "WCSNAME  :  TWEAK\n"
     ]
    },
    {
     "name": "stderr",
     "output_type": "stream",
     "text": [
      "INFO:drizzlepac.imgclasses:Updating WCSCORR table with new WCS solution \"TWEAK\"\n",
      "INFO:drizzlepac.imgclasses:\n"
     ]
    },
    {
     "name": "stdout",
     "output_type": "stream",
     "text": [
      "\n"
     ]
    },
    {
     "name": "stderr",
     "output_type": "stream",
     "text": [
      "INFO:drizzlepac.imgclasses:Processing hst_16231_01_acs_sbc_f150lp_jec401no_flt.fits['SCI',1]\n"
     ]
    },
    {
     "name": "stdout",
     "output_type": "stream",
     "text": [
      "Processing hst_16231_01_acs_sbc_f150lp_jec401no_flt.fits['SCI',1]\n"
     ]
    },
    {
     "name": "stderr",
     "output_type": "stream",
     "text": [
      "INFO:drizzlepac.imgclasses:\n"
     ]
    },
    {
     "name": "stdout",
     "output_type": "stream",
     "text": [
      "\n"
     ]
    },
    {
     "name": "stderr",
     "output_type": "stream",
     "text": [
      "INFO:drizzlepac.updatehdr:Updating header for hst_16231_01_acs_sbc_f150lp_jec401no_flt.fits[('SCI', 1)]\n"
     ]
    },
    {
     "name": "stdout",
     "output_type": "stream",
     "text": [
      "Updating header for hst_16231_01_acs_sbc_f150lp_jec401no_flt.fits[('SCI', 1)]\n"
     ]
    },
    {
     "name": "stderr",
     "output_type": "stream",
     "text": [
      "INFO:drizzlepac.updatehdr:    with WCS of\n",
      "INFO:stwcs.wcsutil.hstwcs:WCS Keywords\n"
     ]
    },
    {
     "name": "stdout",
     "output_type": "stream",
     "text": [
      "WCS Keywords\n"
     ]
    },
    {
     "name": "stderr",
     "output_type": "stream",
     "text": [
      "INFO:stwcs.wcsutil.hstwcs:\n"
     ]
    },
    {
     "name": "stdout",
     "output_type": "stream",
     "text": [
      "\n"
     ]
    },
    {
     "name": "stderr",
     "output_type": "stream",
     "text": [
      "INFO:stwcs.wcsutil.hstwcs:CD_11  CD_12: -4.3321713358048e-06 6.9988159110091e-06\n"
     ]
    },
    {
     "name": "stdout",
     "output_type": "stream",
     "text": [
      "CD_11  CD_12: -4.3321713358048e-06 6.9988159110091e-06\n"
     ]
    },
    {
     "name": "stderr",
     "output_type": "stream",
     "text": [
      "INFO:stwcs.wcsutil.hstwcs:CD_21  CD_22: 8.3007828197454e-06 4.5648394920114e-06\n"
     ]
    },
    {
     "name": "stdout",
     "output_type": "stream",
     "text": [
      "CD_21  CD_22: 8.3007828197454e-06 4.5648394920114e-06\n"
     ]
    },
    {
     "name": "stderr",
     "output_type": "stream",
     "text": [
      "INFO:stwcs.wcsutil.hstwcs:CRVAL    : 319.60108387516 0.29211273315455\n"
     ]
    },
    {
     "name": "stdout",
     "output_type": "stream",
     "text": [
      "CRVAL    : 319.60108387516 0.29211273315455\n"
     ]
    },
    {
     "name": "stderr",
     "output_type": "stream",
     "text": [
      "INFO:stwcs.wcsutil.hstwcs:CRPIX    : 512.0 512.0\n"
     ]
    },
    {
     "name": "stdout",
     "output_type": "stream",
     "text": [
      "CRPIX    : 512.0 512.0\n"
     ]
    },
    {
     "name": "stderr",
     "output_type": "stream",
     "text": [
      "INFO:stwcs.wcsutil.hstwcs:NAXIS    : 1024 1024\n"
     ]
    },
    {
     "name": "stdout",
     "output_type": "stream",
     "text": [
      "NAXIS    : 1024 1024\n"
     ]
    },
    {
     "name": "stderr",
     "output_type": "stream",
     "text": [
      "INFO:stwcs.wcsutil.hstwcs:Plate Scale : 0.033707748702448304\n"
     ]
    },
    {
     "name": "stdout",
     "output_type": "stream",
     "text": [
      "Plate Scale : 0.033707748702448304\n"
     ]
    },
    {
     "name": "stderr",
     "output_type": "stream",
     "text": [
      "INFO:stwcs.wcsutil.hstwcs:ORIENTAT : 56.886393218344764\n"
     ]
    },
    {
     "name": "stdout",
     "output_type": "stream",
     "text": [
      "ORIENTAT : 56.886393218344764\n"
     ]
    },
    {
     "name": "stderr",
     "output_type": "stream",
     "text": [
      "INFO:drizzlepac.updatehdr:WCSNAME  :  TWEAK\n"
     ]
    },
    {
     "name": "stdout",
     "output_type": "stream",
     "text": [
      "WCSNAME  :  TWEAK\n"
     ]
    },
    {
     "name": "stderr",
     "output_type": "stream",
     "text": [
      "INFO:drizzlepac.imgclasses:Updating WCSCORR table with new WCS solution \"TWEAK\"\n",
      "INFO:drizzlepac.tweakutils:Writing out shiftfile : shift_general.txt\n"
     ]
    },
    {
     "name": "stdout",
     "output_type": "stream",
     "text": [
      "Writing out shiftfile : shift_general.txt\n"
     ]
    },
    {
     "name": "stderr",
     "output_type": "stream",
     "text": [
      "INFO:drizzlepac.util:Trailer file written to:  tweakreg.log\n"
     ]
    },
    {
     "name": "stdout",
     "output_type": "stream",
     "text": [
      "Trailer file written to:  tweakreg.log\n"
     ]
    },
    {
     "data": {
      "image/png": "[encoded data removed]",
      "text/plain": [
       "<Figure size 432x288 with 2 Axes>"
      ]
     },
     "metadata": {
      "needs_background": "light"
     },
     "output_type": "display_data"
    },
    {
     "data": {
      "image/png": "[encoded data removed]",
      "text/plain": [
       "<Figure size 432x288 with 1 Axes>"
      ]
     },
     "metadata": {
      "needs_background": "light"
     },
     "output_type": "display_data"
    },
    {
     "data": {
      "image/png": "[encoded data removed]",
      "text/plain": [
       "<Figure size 432x288 with 4 Axes>"
      ]
     },
     "metadata": {
      "needs_background": "light"
     },
     "output_type": "display_data"
    }
   ],
   "source": [
    "tweakreg.TweakReg(lst_1 + lst_3, \n",
    "    threshold=400,\n",
    "    peakmin =1,\n",
    "    configobj = None, \n",
    "    interactive=False,\n",
    "    shiftfile=True, \n",
    "    outshifts='shift_general.txt',              \n",
    "    updatehdr=True)"
   ]
  },
  {
   "cell_type": "code",
   "execution_count": 72,
   "id": "953a4d9d",
   "metadata": {},
   "outputs": [
    {
     "data": {
      "text/html": [
       "<div><i>Table length=8</i>\n",
       "<table id=\"table140604524319840\" class=\"table-striped table-bordered table-condensed\">\n",
       "<thead><tr><th>file</th><th>dx</th><th>dy</th><th>rot</th><th>scale</th><th>xrms</th><th>yrms</th></tr></thead>\n",
       "<thead><tr><th>str45</th><th>float64</th><th>float64</th><th>float64</th><th>float64</th><th>float64</th><th>float64</th></tr></thead>\n",
       "<tr><td>hst_16231_01_acs_sbc_f150lp_jec401no_flt.fits</td><td>0.00</td><td>0.00</td><td>0.000</td><td>1.00000</td><td>0.00</td><td>0.00</td></tr>\n",
       "<tr><td>hst_16231_01_acs_sbc_f150lp_jec401nr_flt.fits</td><td>-11.64</td><td>-8.88</td><td>359.998</td><td>1.00014</td><td>0.50</td><td>0.45</td></tr>\n",
       "<tr><td>hst_16231_01_acs_sbc_f150lp_jec401nv_flt.fits</td><td>-16.86</td><td>-29.21</td><td>0.001</td><td>0.99976</td><td>0.22</td><td>0.61</td></tr>\n",
       "<tr><td>hst_16231_01_acs_sbc_f150lp_jec401nx_flt.fits</td><td>21.98</td><td>-22.47</td><td>359.991</td><td>1.00032</td><td>0.33</td><td>0.58</td></tr>\n",
       "<tr><td>hst_16231_03_acs_sbc_f150lp_jec403ib_flt.fits</td><td>23.81</td><td>-35.96</td><td>359.998</td><td>1.00000</td><td>0.43</td><td>0.45</td></tr>\n",
       "<tr><td>hst_16231_03_acs_sbc_f150lp_jec403ic_flt.fits</td><td>-0.67</td><td>-24.16</td><td>359.983</td><td>0.99985</td><td>0.48</td><td>0.42</td></tr>\n",
       "<tr><td>hst_16231_03_acs_sbc_f150lp_jec403id_flt.fits</td><td>2.25</td><td>31.85</td><td>359.997</td><td>0.99982</td><td>0.45</td><td>0.40</td></tr>\n",
       "<tr><td>hst_16231_03_acs_sbc_f150lp_jec403ie_flt.fits</td><td>32.08</td><td>-35.04</td><td>359.995</td><td>1.00008</td><td>0.47</td><td>0.47</td></tr>\n",
       "</table></div>"
      ],
      "text/plain": [
       "<Table length=8>\n",
       "                     file                        dx   ...   xrms    yrms \n",
       "                    str45                     float64 ... float64 float64\n",
       "--------------------------------------------- ------- ... ------- -------\n",
       "hst_16231_01_acs_sbc_f150lp_jec401no_flt.fits    0.00 ...    0.00    0.00\n",
       "hst_16231_01_acs_sbc_f150lp_jec401nr_flt.fits  -11.64 ...    0.50    0.45\n",
       "hst_16231_01_acs_sbc_f150lp_jec401nv_flt.fits  -16.86 ...    0.22    0.61\n",
       "hst_16231_01_acs_sbc_f150lp_jec401nx_flt.fits   21.98 ...    0.33    0.58\n",
       "hst_16231_03_acs_sbc_f150lp_jec403ib_flt.fits   23.81 ...    0.43    0.45\n",
       "hst_16231_03_acs_sbc_f150lp_jec403ic_flt.fits   -0.67 ...    0.48    0.42\n",
       "hst_16231_03_acs_sbc_f150lp_jec403id_flt.fits    2.25 ...    0.45    0.40\n",
       "hst_16231_03_acs_sbc_f150lp_jec403ie_flt.fits   32.08 ...    0.47    0.47"
      ]
     },
     "execution_count": 72,
     "metadata": {},
     "output_type": "execute_result"
    }
   ],
   "source": [
    "shift_tab=Table.read('shift_general.txt',\n",
    "                     format='ascii.no_header',\n",
    "                     names=['file','dx','dy','rot','scale','xrms','yrms'])\n",
    "\n",
    "formats = ['.2f', '.2f', '.3f', '.5f', '.2f', '.2f']\n",
    "for i, col in enumerate(shift_tab.colnames[1:]):\n",
    "    shift_tab[col].format = formats[i]\n",
    "shift_tab"
   ]
  },
  {
   "cell_type": "code",
   "execution_count": 73,
   "id": "82225cbd",
   "metadata": {},
   "outputs": [
    {
     "name": "stderr",
     "output_type": "stream",
     "text": [
      "INFO:drizzlepac.util:Setting up logfile :  total_visit1+3_drz.log\n"
     ]
    },
    {
     "name": "stdout",
     "output_type": "stream",
     "text": [
      "Setting up logfile :  total_visit1+3_drz.log\n"
     ]
    },
    {
     "name": "stderr",
     "output_type": "stream",
     "text": [
      "INFO:drizzlepac.astrodrizzle:AstroDrizzle log file: total_visit1+3_drz.log\n"
     ]
    },
    {
     "name": "stdout",
     "output_type": "stream",
     "text": [
      "AstroDrizzle log file: total_visit1+3_drz.log\n"
     ]
    },
    {
     "name": "stderr",
     "output_type": "stream",
     "text": [
      "INFO:drizzlepac.astrodrizzle:AstroDrizzle Version 3.4.2 started at: 15:54:55.955 (10/06/2022)\n"
     ]
    },
    {
     "name": "stdout",
     "output_type": "stream",
     "text": [
      "AstroDrizzle Version 3.4.2 started at: 15:54:55.955 (10/06/2022)\n"
     ]
    },
    {
     "name": "stderr",
     "output_type": "stream",
     "text": [
      "INFO:drizzlepac.astrodrizzle:\n"
     ]
    },
    {
     "name": "stdout",
     "output_type": "stream",
     "text": [
      "\n"
     ]
    },
    {
     "name": "stderr",
     "output_type": "stream",
     "text": [
      "INFO:drizzlepac.astrodrizzle:Version Information\n",
      "INFO:drizzlepac.astrodrizzle:--------------------\n",
      "INFO:drizzlepac.astrodrizzle:Python Version [Clang 12.0.0 ]\n",
      "INFO:drizzlepac.astrodrizzle:3.9.12 (main, Jun  1 2022, 06:36:29) \n",
      "INFO:drizzlepac.astrodrizzle:numpy Version -> 1.22.4 \n",
      "INFO:drizzlepac.astrodrizzle:astropy Version -> 5.1 \n",
      "INFO:drizzlepac.astrodrizzle:stwcs Version -> 1.7.2 \n",
      "INFO:drizzlepac.util:==== Processing Step  Initialization  started at  15:54:55.964 (10/06/2022)\n"
     ]
    },
    {
     "name": "stdout",
     "output_type": "stream",
     "text": [
      "==== Processing Step  Initialization  started at  15:54:55.964 (10/06/2022)\n"
     ]
    },
    {
     "name": "stderr",
     "output_type": "stream",
     "text": [
      "INFO:drizzlepac.util:\n"
     ]
    },
    {
     "name": "stdout",
     "output_type": "stream",
     "text": [
      "\n"
     ]
    },
    {
     "name": "stderr",
     "output_type": "stream",
     "text": [
      "INFO:drizzlepac.processInput:Preserving original of:  hst_16231_01_acs_sbc_f150lp_jec401no_flt.fits as  OrIg_files/hst_16231_01_acs_sbc_f150lp_jec401no_flt.fits\n"
     ]
    },
    {
     "name": "stdout",
     "output_type": "stream",
     "text": [
      "Preserving original of:  hst_16231_01_acs_sbc_f150lp_jec401no_flt.fits as  OrIg_files/hst_16231_01_acs_sbc_f150lp_jec401no_flt.fits\n"
     ]
    },
    {
     "name": "stderr",
     "output_type": "stream",
     "text": [
      "INFO:drizzlepac.processInput:Preserving original of:  hst_16231_01_acs_sbc_f150lp_jec401nr_flt.fits as  OrIg_files/hst_16231_01_acs_sbc_f150lp_jec401nr_flt.fits\n"
     ]
    },
    {
     "name": "stdout",
     "output_type": "stream",
     "text": [
      "Preserving original of:  hst_16231_01_acs_sbc_f150lp_jec401nr_flt.fits as  OrIg_files/hst_16231_01_acs_sbc_f150lp_jec401nr_flt.fits\n"
     ]
    },
    {
     "name": "stderr",
     "output_type": "stream",
     "text": [
      "INFO:drizzlepac.processInput:Preserving original of:  hst_16231_01_acs_sbc_f150lp_jec401nv_flt.fits as  OrIg_files/hst_16231_01_acs_sbc_f150lp_jec401nv_flt.fits\n"
     ]
    },
    {
     "name": "stdout",
     "output_type": "stream",
     "text": [
      "Preserving original of:  hst_16231_01_acs_sbc_f150lp_jec401nv_flt.fits as  OrIg_files/hst_16231_01_acs_sbc_f150lp_jec401nv_flt.fits\n"
     ]
    },
    {
     "name": "stderr",
     "output_type": "stream",
     "text": [
      "INFO:drizzlepac.processInput:Preserving original of:  hst_16231_01_acs_sbc_f150lp_jec401nx_flt.fits as  OrIg_files/hst_16231_01_acs_sbc_f150lp_jec401nx_flt.fits\n"
     ]
    },
    {
     "name": "stdout",
     "output_type": "stream",
     "text": [
      "Preserving original of:  hst_16231_01_acs_sbc_f150lp_jec401nx_flt.fits as  OrIg_files/hst_16231_01_acs_sbc_f150lp_jec401nx_flt.fits\n"
     ]
    },
    {
     "name": "stderr",
     "output_type": "stream",
     "text": [
      "INFO:drizzlepac.processInput:Preserving original of:  hst_16231_03_acs_sbc_f150lp_jec403ib_flt.fits as  OrIg_files/hst_16231_03_acs_sbc_f150lp_jec403ib_flt.fits\n"
     ]
    },
    {
     "name": "stdout",
     "output_type": "stream",
     "text": [
      "Preserving original of:  hst_16231_03_acs_sbc_f150lp_jec403ib_flt.fits as  OrIg_files/hst_16231_03_acs_sbc_f150lp_jec403ib_flt.fits\n"
     ]
    },
    {
     "name": "stderr",
     "output_type": "stream",
     "text": [
      "INFO:drizzlepac.processInput:Preserving original of:  hst_16231_03_acs_sbc_f150lp_jec403ic_flt.fits as  OrIg_files/hst_16231_03_acs_sbc_f150lp_jec403ic_flt.fits\n"
     ]
    },
    {
     "name": "stdout",
     "output_type": "stream",
     "text": [
      "Preserving original of:  hst_16231_03_acs_sbc_f150lp_jec403ic_flt.fits as  OrIg_files/hst_16231_03_acs_sbc_f150lp_jec403ic_flt.fits\n"
     ]
    },
    {
     "name": "stderr",
     "output_type": "stream",
     "text": [
      "INFO:drizzlepac.processInput:Preserving original of:  hst_16231_03_acs_sbc_f150lp_jec403id_flt.fits as  OrIg_files/hst_16231_03_acs_sbc_f150lp_jec403id_flt.fits\n"
     ]
    },
    {
     "name": "stdout",
     "output_type": "stream",
     "text": [
      "Preserving original of:  hst_16231_03_acs_sbc_f150lp_jec403id_flt.fits as  OrIg_files/hst_16231_03_acs_sbc_f150lp_jec403id_flt.fits\n"
     ]
    },
    {
     "name": "stderr",
     "output_type": "stream",
     "text": [
      "INFO:drizzlepac.processInput:Preserving original of:  hst_16231_03_acs_sbc_f150lp_jec403ie_flt.fits as  OrIg_files/hst_16231_03_acs_sbc_f150lp_jec403ie_flt.fits\n"
     ]
    },
    {
     "name": "stdout",
     "output_type": "stream",
     "text": [
      "Preserving original of:  hst_16231_03_acs_sbc_f150lp_jec403ie_flt.fits as  OrIg_files/hst_16231_03_acs_sbc_f150lp_jec403ie_flt.fits\n"
     ]
    },
    {
     "name": "stderr",
     "output_type": "stream",
     "text": [
      "INFO:drizzlepac.processInput:Executing serially\n",
      "INFO:drizzlepac.processInput:Setting up output name: total_visit1+3_test4_drz.fits\n",
      "INFO:drizzlepac.processInput:##############################################################################\n"
     ]
    },
    {
     "name": "stdout",
     "output_type": "stream",
     "text": [
      "##############################################################################\n"
     ]
    },
    {
     "name": "stderr",
     "output_type": "stream",
     "text": [
      "INFO:drizzlepac.processInput:#                                                                            #\n"
     ]
    },
    {
     "name": "stdout",
     "output_type": "stream",
     "text": [
      "#                                                                            #\n"
     ]
    },
    {
     "name": "stderr",
     "output_type": "stream",
     "text": [
      "INFO:drizzlepac.processInput:# “minmed” is highly recommended for three images,                           #\n"
     ]
    },
    {
     "name": "stdout",
     "output_type": "stream",
     "text": [
      "# “minmed” is highly recommended for three images,                           #\n"
     ]
    },
    {
     "name": "stderr",
     "output_type": "stream",
     "text": [
      "INFO:drizzlepac.processInput:#  and is good for four to six images,                                       #\n"
     ]
    },
    {
     "name": "stdout",
     "output_type": "stream",
     "text": [
      "#  and is good for four to six images,                                       #\n"
     ]
    },
    {
     "name": "stderr",
     "output_type": "stream",
     "text": [
      "INFO:drizzlepac.processInput:#  but should be avoided for ten or more images.                             #\n"
     ]
    },
    {
     "name": "stdout",
     "output_type": "stream",
     "text": [
      "#  but should be avoided for ten or more images.                             #\n"
     ]
    },
    {
     "name": "stderr",
     "output_type": "stream",
     "text": [
      "INFO:drizzlepac.processInput:#                                                                            #\n"
     ]
    },
    {
     "name": "stdout",
     "output_type": "stream",
     "text": [
      "#                                                                            #\n"
     ]
    },
    {
     "name": "stderr",
     "output_type": "stream",
     "text": [
      "INFO:drizzlepac.processInput:##############################################################################\n"
     ]
    },
    {
     "name": "stdout",
     "output_type": "stream",
     "text": [
      "##############################################################################\n"
     ]
    },
    {
     "name": "stderr",
     "output_type": "stream",
     "text": [
      "INFO:drizzlepac.processInput:-Creating imageObject List as input for processing steps.\n",
      "INFO:drizzlepac.imageObject:Reading in MDRIZSKY of 0.0\n",
      "INFO:drizzlepac.acsData:WARNING: No cte correction will be made for this SBC data.\n"
     ]
    },
    {
     "name": "stdout",
     "output_type": "stream",
     "text": [
      "WARNING: No cte correction will be made for this SBC data.\n"
     ]
    },
    {
     "name": "stderr",
     "output_type": "stream",
     "text": [
      "INFO:drizzlepac.imageObject:Reading in MDRIZSKY of 0.0\n",
      "INFO:drizzlepac.acsData:WARNING: No cte correction will be made for this SBC data.\n"
     ]
    },
    {
     "name": "stdout",
     "output_type": "stream",
     "text": [
      "WARNING: No cte correction will be made for this SBC data.\n"
     ]
    },
    {
     "name": "stderr",
     "output_type": "stream",
     "text": [
      "INFO:drizzlepac.imageObject:Reading in MDRIZSKY of 0.0\n",
      "INFO:drizzlepac.acsData:WARNING: No cte correction will be made for this SBC data.\n"
     ]
    },
    {
     "name": "stdout",
     "output_type": "stream",
     "text": [
      "WARNING: No cte correction will be made for this SBC data.\n"
     ]
    },
    {
     "name": "stderr",
     "output_type": "stream",
     "text": [
      "INFO:drizzlepac.imageObject:Reading in MDRIZSKY of 0.0\n",
      "INFO:drizzlepac.acsData:WARNING: No cte correction will be made for this SBC data.\n"
     ]
    },
    {
     "name": "stdout",
     "output_type": "stream",
     "text": [
      "WARNING: No cte correction will be made for this SBC data.\n"
     ]
    },
    {
     "name": "stderr",
     "output_type": "stream",
     "text": [
      "INFO:drizzlepac.imageObject:Reading in MDRIZSKY of 0.0\n",
      "INFO:drizzlepac.acsData:WARNING: No cte correction will be made for this SBC data.\n"
     ]
    },
    {
     "name": "stdout",
     "output_type": "stream",
     "text": [
      "WARNING: No cte correction will be made for this SBC data.\n"
     ]
    },
    {
     "name": "stderr",
     "output_type": "stream",
     "text": [
      "INFO:drizzlepac.imageObject:Reading in MDRIZSKY of 0.0\n",
      "INFO:drizzlepac.acsData:WARNING: No cte correction will be made for this SBC data.\n"
     ]
    },
    {
     "name": "stdout",
     "output_type": "stream",
     "text": [
      "WARNING: No cte correction will be made for this SBC data.\n"
     ]
    },
    {
     "name": "stderr",
     "output_type": "stream",
     "text": [
      "INFO:drizzlepac.imageObject:Reading in MDRIZSKY of 0.0\n",
      "INFO:drizzlepac.acsData:WARNING: No cte correction will be made for this SBC data.\n"
     ]
    },
    {
     "name": "stdout",
     "output_type": "stream",
     "text": [
      "WARNING: No cte correction will be made for this SBC data.\n"
     ]
    },
    {
     "name": "stderr",
     "output_type": "stream",
     "text": [
      "INFO:drizzlepac.imageObject:Reading in MDRIZSKY of 0.0\n",
      "INFO:drizzlepac.acsData:WARNING: No cte correction will be made for this SBC data.\n"
     ]
    },
    {
     "name": "stdout",
     "output_type": "stream",
     "text": [
      "WARNING: No cte correction will be made for this SBC data.\n"
     ]
    },
    {
     "name": "stderr",
     "output_type": "stream",
     "text": [
      "INFO:drizzlepac.resetbits:Reset bit values of 4096 to a value of 0 in hst_16231_01_acs_sbc_f150lp_jec401no_flt.fits[DQ,1]\n",
      "INFO:drizzlepac.resetbits:Reset bit values of 4096 to a value of 0 in hst_16231_01_acs_sbc_f150lp_jec401nr_flt.fits[DQ,1]\n",
      "INFO:drizzlepac.resetbits:Reset bit values of 4096 to a value of 0 in hst_16231_01_acs_sbc_f150lp_jec401nv_flt.fits[DQ,1]\n",
      "INFO:drizzlepac.resetbits:Reset bit values of 4096 to a value of 0 in hst_16231_01_acs_sbc_f150lp_jec401nx_flt.fits[DQ,1]\n",
      "INFO:drizzlepac.resetbits:Reset bit values of 4096 to a value of 0 in hst_16231_03_acs_sbc_f150lp_jec403ib_flt.fits[DQ,1]\n",
      "INFO:drizzlepac.resetbits:Reset bit values of 4096 to a value of 0 in hst_16231_03_acs_sbc_f150lp_jec403ic_flt.fits[DQ,1]\n",
      "INFO:drizzlepac.resetbits:Reset bit values of 4096 to a value of 0 in hst_16231_03_acs_sbc_f150lp_jec403id_flt.fits[DQ,1]\n",
      "INFO:drizzlepac.resetbits:Reset bit values of 4096 to a value of 0 in hst_16231_03_acs_sbc_f150lp_jec403ie_flt.fits[DQ,1]\n",
      "INFO:drizzlepac.processInput:-Creating output WCS.\n",
      "INFO:astropy.wcs.wcs:WCS Keywords\n"
     ]
    },
    {
     "name": "stdout",
     "output_type": "stream",
     "text": [
      "WCS Keywords\n"
     ]
    },
    {
     "name": "stderr",
     "output_type": "stream",
     "text": [
      "INFO:astropy.wcs.wcs:\n"
     ]
    },
    {
     "name": "stdout",
     "output_type": "stream",
     "text": [
      "\n"
     ]
    },
    {
     "name": "stderr",
     "output_type": "stream",
     "text": [
      "INFO:astropy.wcs.wcs:Number of WCS axes: 2\n"
     ]
    },
    {
     "name": "stdout",
     "output_type": "stream",
     "text": [
      "Number of WCS axes: 2\n"
     ]
    },
    {
     "name": "stderr",
     "output_type": "stream",
     "text": [
      "INFO:astropy.wcs.wcs:CTYPE : 'RA---TAN'  'DEC--TAN'  \n"
     ]
    },
    {
     "name": "stdout",
     "output_type": "stream",
     "text": [
      "CTYPE : 'RA---TAN'  'DEC--TAN'  \n"
     ]
    },
    {
     "name": "stderr",
     "output_type": "stream",
     "text": [
      "INFO:astropy.wcs.wcs:CRVAL : 319.6011371014116  0.2914718665200255  \n"
     ]
    },
    {
     "name": "stdout",
     "output_type": "stream",
     "text": [
      "CRVAL : 319.6011371014116  0.2914718665200255  \n"
     ]
    },
    {
     "name": "stderr",
     "output_type": "stream",
     "text": [
      "INFO:astropy.wcs.wcs:CRPIX : 974.0  980.5  \n"
     ]
    },
    {
     "name": "stdout",
     "output_type": "stream",
     "text": [
      "CRPIX : 974.0  980.5  \n"
     ]
    },
    {
     "name": "stderr",
     "output_type": "stream",
     "text": [
      "INFO:astropy.wcs.wcs:CD1_1 CD1_2  : -6.944444444444445e-06  0.0  \n"
     ]
    },
    {
     "name": "stdout",
     "output_type": "stream",
     "text": [
      "CD1_1 CD1_2  : -6.944444444444445e-06  0.0  \n"
     ]
    },
    {
     "name": "stderr",
     "output_type": "stream",
     "text": [
      "INFO:astropy.wcs.wcs:CD2_1 CD2_2  : 0.0  6.944444444444445e-06  \n"
     ]
    },
    {
     "name": "stdout",
     "output_type": "stream",
     "text": [
      "CD2_1 CD2_2  : 0.0  6.944444444444445e-06  \n"
     ]
    },
    {
     "name": "stderr",
     "output_type": "stream",
     "text": [
      "INFO:astropy.wcs.wcs:NAXIS : 1947  1960\n"
     ]
    },
    {
     "name": "stdout",
     "output_type": "stream",
     "text": [
      "NAXIS : 1947  1960\n"
     ]
    },
    {
     "name": "stderr",
     "output_type": "stream",
     "text": [
      "INFO:drizzlepac.processInput:********************************************************************************\n"
     ]
    },
    {
     "name": "stdout",
     "output_type": "stream",
     "text": [
      "********************************************************************************\n"
     ]
    },
    {
     "name": "stderr",
     "output_type": "stream",
     "text": [
      "INFO:drizzlepac.processInput:*\n"
     ]
    },
    {
     "name": "stdout",
     "output_type": "stream",
     "text": [
      "*\n"
     ]
    },
    {
     "name": "stderr",
     "output_type": "stream",
     "text": [
      "INFO:drizzlepac.processInput:*  Estimated memory usage:  up to 51 Mb.\n"
     ]
    },
    {
     "name": "stdout",
     "output_type": "stream",
     "text": [
      "*  Estimated memory usage:  up to 51 Mb.\n"
     ]
    },
    {
     "name": "stderr",
     "output_type": "stream",
     "text": [
      "INFO:drizzlepac.processInput:*  Output image size:       1947 X 1960 pixels. \n"
     ]
    },
    {
     "name": "stdout",
     "output_type": "stream",
     "text": [
      "*  Output image size:       1947 X 1960 pixels. \n"
     ]
    },
    {
     "name": "stderr",
     "output_type": "stream",
     "text": [
      "INFO:drizzlepac.processInput:*  Output image file:       ~ 43 Mb. \n"
     ]
    },
    {
     "name": "stdout",
     "output_type": "stream",
     "text": [
      "*  Output image file:       ~ 43 Mb. \n"
     ]
    },
    {
     "name": "stderr",
     "output_type": "stream",
     "text": [
      "INFO:drizzlepac.processInput:*  Cores available:         1\n"
     ]
    },
    {
     "name": "stdout",
     "output_type": "stream",
     "text": [
      "*  Cores available:         1\n"
     ]
    },
    {
     "name": "stderr",
     "output_type": "stream",
     "text": [
      "INFO:drizzlepac.processInput:*\n"
     ]
    },
    {
     "name": "stdout",
     "output_type": "stream",
     "text": [
      "*\n"
     ]
    },
    {
     "name": "stderr",
     "output_type": "stream",
     "text": [
      "INFO:drizzlepac.processInput:********************************************************************************\n"
     ]
    },
    {
     "name": "stdout",
     "output_type": "stream",
     "text": [
      "********************************************************************************\n"
     ]
    },
    {
     "name": "stderr",
     "output_type": "stream",
     "text": [
      "INFO:drizzlepac.util:==== Processing Step Initialization finished at 15:54:57.123 (10/06/2022)\n"
     ]
    },
    {
     "name": "stdout",
     "output_type": "stream",
     "text": [
      "==== Processing Step Initialization finished at 15:54:57.123 (10/06/2022)\n"
     ]
    },
    {
     "name": "stderr",
     "output_type": "stream",
     "text": [
      "INFO:drizzlepac.astrodrizzle:USER INPUT PARAMETERS common to all Processing Steps:\n",
      "INFO:drizzlepac.astrodrizzle:\tbuild :\tTrue\n",
      "INFO:drizzlepac.astrodrizzle:\tcoeffs :\tTrue\n",
      "INFO:drizzlepac.astrodrizzle:\tcontext :\tTrue\n",
      "INFO:drizzlepac.astrodrizzle:\tcrbit :\t4096\n",
      "INFO:drizzlepac.astrodrizzle:\tgroup :\t\n",
      "INFO:drizzlepac.astrodrizzle:\tin_memory :\tFalse\n",
      "INFO:drizzlepac.astrodrizzle:\tinput :\t['hst_16231_01_acs_sbc_f150lp_jec401no_flt.fits', 'hst_16231_01_acs_sbc_f150lp_jec401nr_flt.fits', 'hst_16231_01_acs_sbc_f150lp_jec401nv_flt.fits', 'hst_16231_01_acs_sbc_f150lp_jec401nx_flt.fits', 'hst_16231_03_acs_sbc_f150lp_jec403ib_flt.fits', 'hst_16231_03_acs_sbc_f150lp_jec403ic_flt.fits', 'hst_16231_03_acs_sbc_f150lp_jec403id_flt.fits', 'hst_16231_03_acs_sbc_f150lp_jec403ie_flt.fits']\n",
      "INFO:drizzlepac.astrodrizzle:\tmdriztab :\tFalse\n",
      "INFO:drizzlepac.astrodrizzle:\tnum_cores :\t1\n",
      "INFO:drizzlepac.astrodrizzle:\toutput :\ttotal_visit1+3_test4\n",
      "INFO:drizzlepac.astrodrizzle:\tproc_unit :\tnative\n",
      "INFO:drizzlepac.astrodrizzle:\tresetbits :\t4096\n",
      "INFO:drizzlepac.astrodrizzle:\trules_file :\t\n",
      "INFO:drizzlepac.astrodrizzle:\trunfile :\ttotal_visit1+3_drz.log\n",
      "INFO:drizzlepac.astrodrizzle:\tstepsize :\t10\n",
      "INFO:drizzlepac.astrodrizzle:\tupdatewcs :\tFalse\n",
      "INFO:drizzlepac.astrodrizzle:\twcskey :\t\n",
      "INFO:drizzlepac.util:==== Processing Step  Static Mask  started at  15:54:57.130 (10/06/2022)\n"
     ]
    },
    {
     "name": "stdout",
     "output_type": "stream",
     "text": [
      "==== Processing Step  Static Mask  started at  15:54:57.130 (10/06/2022)\n"
     ]
    },
    {
     "name": "stderr",
     "output_type": "stream",
     "text": [
      "INFO:drizzlepac.util:\n"
     ]
    },
    {
     "name": "stdout",
     "output_type": "stream",
     "text": [
      "\n"
     ]
    },
    {
     "name": "stderr",
     "output_type": "stream",
     "text": [
      "INFO:drizzlepac.staticMask:Static Mask step not performed.\n",
      "INFO:drizzlepac.util:==== Processing Step Static Mask finished at 15:54:57.132 (10/06/2022)\n"
     ]
    },
    {
     "name": "stdout",
     "output_type": "stream",
     "text": [
      "==== Processing Step Static Mask finished at 15:54:57.132 (10/06/2022)\n"
     ]
    },
    {
     "name": "stderr",
     "output_type": "stream",
     "text": [
      "INFO:drizzlepac.util:==== Processing Step  Subtract Sky  started at  15:54:57.134 (10/06/2022)\n"
     ]
    },
    {
     "name": "stdout",
     "output_type": "stream",
     "text": [
      "==== Processing Step  Subtract Sky  started at  15:54:57.134 (10/06/2022)\n"
     ]
    },
    {
     "name": "stderr",
     "output_type": "stream",
     "text": [
      "INFO:drizzlepac.util:\n"
     ]
    },
    {
     "name": "stdout",
     "output_type": "stream",
     "text": [
      "\n"
     ]
    },
    {
     "name": "stderr",
     "output_type": "stream",
     "text": [
      "INFO:drizzlepac.sky:Sky Subtraction step not performed.\n",
      "INFO:drizzlepac.util:==== Processing Step Subtract Sky finished at 15:54:57.32 (10/06/2022)\n"
     ]
    },
    {
     "name": "stdout",
     "output_type": "stream",
     "text": [
      "==== Processing Step Subtract Sky finished at 15:54:57.32 (10/06/2022)\n"
     ]
    },
    {
     "name": "stderr",
     "output_type": "stream",
     "text": [
      "INFO:drizzlepac.util:==== Processing Step  Separate Drizzle  started at  15:54:57.325 (10/06/2022)\n"
     ]
    },
    {
     "name": "stdout",
     "output_type": "stream",
     "text": [
      "==== Processing Step  Separate Drizzle  started at  15:54:57.325 (10/06/2022)\n"
     ]
    },
    {
     "name": "stderr",
     "output_type": "stream",
     "text": [
      "INFO:drizzlepac.util:\n"
     ]
    },
    {
     "name": "stdout",
     "output_type": "stream",
     "text": [
      "\n"
     ]
    },
    {
     "name": "stderr",
     "output_type": "stream",
     "text": [
      "INFO:drizzlepac.adrizzle:Single drizzle step not performed.\n",
      "INFO:drizzlepac.util:==== Processing Step Separate Drizzle finished at 15:54:57.327 (10/06/2022)\n"
     ]
    },
    {
     "name": "stdout",
     "output_type": "stream",
     "text": [
      "==== Processing Step Separate Drizzle finished at 15:54:57.327 (10/06/2022)\n"
     ]
    },
    {
     "name": "stderr",
     "output_type": "stream",
     "text": [
      "INFO:drizzlepac.util:==== Processing Step  Create Median  started at  15:54:57.328 (10/06/2022)\n"
     ]
    },
    {
     "name": "stdout",
     "output_type": "stream",
     "text": [
      "==== Processing Step  Create Median  started at  15:54:57.328 (10/06/2022)\n"
     ]
    },
    {
     "name": "stderr",
     "output_type": "stream",
     "text": [
      "INFO:drizzlepac.util:\n"
     ]
    },
    {
     "name": "stdout",
     "output_type": "stream",
     "text": [
      "\n"
     ]
    },
    {
     "name": "stderr",
     "output_type": "stream",
     "text": [
      "INFO:drizzlepac.createMedian:Median combination step not performed.\n",
      "INFO:drizzlepac.util:==== Processing Step  Blot  started at  15:54:57.330 (10/06/2022)\n"
     ]
    },
    {
     "name": "stdout",
     "output_type": "stream",
     "text": [
      "==== Processing Step  Blot  started at  15:54:57.330 (10/06/2022)\n"
     ]
    },
    {
     "name": "stderr",
     "output_type": "stream",
     "text": [
      "INFO:drizzlepac.util:\n"
     ]
    },
    {
     "name": "stdout",
     "output_type": "stream",
     "text": [
      "\n"
     ]
    },
    {
     "name": "stderr",
     "output_type": "stream",
     "text": [
      "INFO:drizzlepac.ablot:Blot step not performed.\n",
      "INFO:drizzlepac.util:==== Processing Step Blot finished at 15:54:57.333 (10/06/2022)\n"
     ]
    },
    {
     "name": "stdout",
     "output_type": "stream",
     "text": [
      "==== Processing Step Blot finished at 15:54:57.333 (10/06/2022)\n"
     ]
    },
    {
     "name": "stderr",
     "output_type": "stream",
     "text": [
      "INFO:drizzlepac.util:==== Processing Step  Driz_CR  started at  15:54:57.335 (10/06/2022)\n"
     ]
    },
    {
     "name": "stdout",
     "output_type": "stream",
     "text": [
      "==== Processing Step  Driz_CR  started at  15:54:57.335 (10/06/2022)\n"
     ]
    },
    {
     "name": "stderr",
     "output_type": "stream",
     "text": [
      "INFO:drizzlepac.util:\n"
     ]
    },
    {
     "name": "stdout",
     "output_type": "stream",
     "text": [
      "\n"
     ]
    },
    {
     "name": "stderr",
     "output_type": "stream",
     "text": [
      "INFO:drizzlepac.drizCR:Cosmic-ray identification (driz_cr) step not performed.\n",
      "INFO:drizzlepac.util:==== Processing Step  Final Drizzle  started at  15:54:57.337 (10/06/2022)\n"
     ]
    },
    {
     "name": "stdout",
     "output_type": "stream",
     "text": [
      "==== Processing Step  Final Drizzle  started at  15:54:57.337 (10/06/2022)\n"
     ]
    },
    {
     "name": "stderr",
     "output_type": "stream",
     "text": [
      "INFO:drizzlepac.util:\n"
     ]
    },
    {
     "name": "stdout",
     "output_type": "stream",
     "text": [
      "\n"
     ]
    },
    {
     "name": "stderr",
     "output_type": "stream",
     "text": [
      "INFO:drizzlepac.adrizzle:Interpreted paramDict with single=False as:\n",
      "{'build': True, 'stepsize': 10, 'coeffs': True, 'wcskey': '', 'wht_type': 'EXP', 'kernel': 'square', 'wt_scl': 'exptime', 'pixfrac': 1.0, 'fillval': None, 'maskval': None, 'bits': 0, 'units': 'cps'}\n",
      "INFO:drizzlepac.adrizzle:USER INPUT PARAMETERS for Final Drizzle Step:\n",
      "INFO:drizzlepac.adrizzle:\tbits :\t0\n",
      "INFO:drizzlepac.adrizzle:\tbuild :\tTrue\n",
      "INFO:drizzlepac.adrizzle:\tclean :\tTrue\n",
      "INFO:drizzlepac.adrizzle:\tcoeffs :\tTrue\n",
      "INFO:drizzlepac.adrizzle:\tcrbit :\t4096\n",
      "INFO:drizzlepac.adrizzle:\tfillval :\tNone\n",
      "INFO:drizzlepac.adrizzle:\tkernel :\tsquare\n",
      "INFO:drizzlepac.adrizzle:\tlogfile :\ttotal_visit1+3_drz.log\n",
      "INFO:drizzlepac.adrizzle:\tmaskval :\tNone\n",
      "INFO:drizzlepac.adrizzle:\tpixfrac :\t1.0\n",
      "INFO:drizzlepac.adrizzle:\tproc_unit :\tnative\n",
      "INFO:drizzlepac.adrizzle:\trules_file :\tNone\n",
      "INFO:drizzlepac.adrizzle:\tstepsize :\t10\n",
      "INFO:drizzlepac.adrizzle:\tunits :\tcps\n",
      "INFO:drizzlepac.adrizzle:\twcskey :\t\n",
      "INFO:drizzlepac.adrizzle:\twht_type :\tEXP\n",
      "INFO:drizzlepac.adrizzle:\twt_scl :\texptime\n",
      "INFO:drizzlepac.adrizzle:  **Using sub-sampling value of 10 for kernel square\n",
      "INFO:drizzlepac.adrizzle:Running Drizzle to create output frame with WCS of: \n",
      "INFO:astropy.wcs.wcs:WCS Keywords\n"
     ]
    },
    {
     "name": "stdout",
     "output_type": "stream",
     "text": [
      "WCS Keywords\n"
     ]
    },
    {
     "name": "stderr",
     "output_type": "stream",
     "text": [
      "INFO:astropy.wcs.wcs:\n"
     ]
    },
    {
     "name": "stdout",
     "output_type": "stream",
     "text": [
      "\n"
     ]
    },
    {
     "name": "stderr",
     "output_type": "stream",
     "text": [
      "INFO:astropy.wcs.wcs:Number of WCS axes: 2\n"
     ]
    },
    {
     "name": "stdout",
     "output_type": "stream",
     "text": [
      "Number of WCS axes: 2\n"
     ]
    },
    {
     "name": "stderr",
     "output_type": "stream",
     "text": [
      "INFO:astropy.wcs.wcs:CTYPE : 'RA---TAN'  'DEC--TAN'  \n"
     ]
    },
    {
     "name": "stdout",
     "output_type": "stream",
     "text": [
      "CTYPE : 'RA---TAN'  'DEC--TAN'  \n"
     ]
    },
    {
     "name": "stderr",
     "output_type": "stream",
     "text": [
      "INFO:astropy.wcs.wcs:CRVAL : 319.6011371014116  0.2914718665200255  \n"
     ]
    },
    {
     "name": "stdout",
     "output_type": "stream",
     "text": [
      "CRVAL : 319.6011371014116  0.2914718665200255  \n"
     ]
    },
    {
     "name": "stderr",
     "output_type": "stream",
     "text": [
      "INFO:astropy.wcs.wcs:CRPIX : 974.0  980.5  \n"
     ]
    },
    {
     "name": "stdout",
     "output_type": "stream",
     "text": [
      "CRPIX : 974.0  980.5  \n"
     ]
    },
    {
     "name": "stderr",
     "output_type": "stream",
     "text": [
      "INFO:astropy.wcs.wcs:CD1_1 CD1_2  : -6.944444444444445e-06  0.0  \n"
     ]
    },
    {
     "name": "stdout",
     "output_type": "stream",
     "text": [
      "CD1_1 CD1_2  : -6.944444444444445e-06  0.0  \n"
     ]
    },
    {
     "name": "stderr",
     "output_type": "stream",
     "text": [
      "INFO:astropy.wcs.wcs:CD2_1 CD2_2  : 0.0  6.944444444444445e-06  \n"
     ]
    },
    {
     "name": "stdout",
     "output_type": "stream",
     "text": [
      "CD2_1 CD2_2  : 0.0  6.944444444444445e-06  \n"
     ]
    },
    {
     "name": "stderr",
     "output_type": "stream",
     "text": [
      "INFO:astropy.wcs.wcs:NAXIS : 1947  1960\n"
     ]
    },
    {
     "name": "stdout",
     "output_type": "stream",
     "text": [
      "NAXIS : 1947  1960\n"
     ]
    },
    {
     "name": "stderr",
     "output_type": "stream",
     "text": [
      "INFO:drizzlepac.adrizzle:-Drizzle input: hst_16231_01_acs_sbc_f150lp_jec401no_flt.fits[sci,1]\n",
      "WARNING:drizzlepac.adrizzle:No CR mask file found! Input DQ array not updated.\n",
      "INFO:drizzlepac.imageObject:Applying EXPTIME weighting to DQ mask for chip 1\n",
      "INFO:drizzlepac.adrizzle:Using WCSLIB-based coordinate transformation...\n",
      "INFO:drizzlepac.adrizzle:stepsize = 10\n",
      "INFO:drizzlepac.cdriz:-Drizzling using kernel = square\n",
      "\n",
      "WARNING:drizzlepac.adrizzle:! 2420 points were outside the output image.\n",
      "INFO:drizzlepac.adrizzle:-Drizzle input: hst_16231_01_acs_sbc_f150lp_jec401nr_flt.fits[sci,1]\n",
      "WARNING:drizzlepac.adrizzle:No CR mask file found! Input DQ array not updated.\n",
      "INFO:drizzlepac.imageObject:Applying EXPTIME weighting to DQ mask for chip 1\n",
      "INFO:drizzlepac.adrizzle:Using WCSLIB-based coordinate transformation...\n",
      "INFO:drizzlepac.adrizzle:stepsize = 10\n",
      "INFO:drizzlepac.cdriz:-Drizzling using kernel = square\n",
      "\n",
      "WARNING:drizzlepac.adrizzle:! 1085 points were outside the output image.\n",
      "INFO:drizzlepac.adrizzle:-Drizzle input: hst_16231_01_acs_sbc_f150lp_jec401nv_flt.fits[sci,1]\n",
      "WARNING:drizzlepac.adrizzle:No CR mask file found! Input DQ array not updated.\n",
      "INFO:drizzlepac.imageObject:Applying EXPTIME weighting to DQ mask for chip 1\n",
      "INFO:drizzlepac.adrizzle:Using WCSLIB-based coordinate transformation...\n",
      "INFO:drizzlepac.adrizzle:stepsize = 10\n",
      "INFO:drizzlepac.cdriz:-Drizzling using kernel = square\n",
      "\n",
      "WARNING:drizzlepac.adrizzle:! 2460 points were outside the output image.\n",
      "INFO:drizzlepac.adrizzle:-Drizzle input: hst_16231_01_acs_sbc_f150lp_jec401nx_flt.fits[sci,1]\n",
      "WARNING:drizzlepac.adrizzle:No CR mask file found! Input DQ array not updated.\n",
      "INFO:drizzlepac.imageObject:Applying EXPTIME weighting to DQ mask for chip 1\n",
      "INFO:drizzlepac.adrizzle:Using WCSLIB-based coordinate transformation...\n",
      "INFO:drizzlepac.adrizzle:stepsize = 10\n",
      "INFO:drizzlepac.cdriz:-Drizzling using kernel = square\n",
      "\n",
      "WARNING:drizzlepac.adrizzle:! 2315 points were outside the output image.\n",
      "INFO:drizzlepac.adrizzle:-Drizzle input: hst_16231_03_acs_sbc_f150lp_jec403ib_flt.fits[sci,1]\n",
      "WARNING:drizzlepac.adrizzle:No CR mask file found! Input DQ array not updated.\n",
      "INFO:drizzlepac.imageObject:Applying EXPTIME weighting to DQ mask for chip 1\n",
      "INFO:drizzlepac.adrizzle:Using WCSLIB-based coordinate transformation...\n",
      "INFO:drizzlepac.adrizzle:stepsize = 10\n",
      "INFO:drizzlepac.cdriz:-Drizzling using kernel = square\n",
      "\n",
      "INFO:drizzlepac.adrizzle:-Drizzle input: hst_16231_03_acs_sbc_f150lp_jec403ic_flt.fits[sci,1]\n",
      "WARNING:drizzlepac.adrizzle:No CR mask file found! Input DQ array not updated.\n",
      "INFO:drizzlepac.imageObject:Applying EXPTIME weighting to DQ mask for chip 1\n",
      "INFO:drizzlepac.adrizzle:Using WCSLIB-based coordinate transformation...\n",
      "INFO:drizzlepac.adrizzle:stepsize = 10\n",
      "INFO:drizzlepac.cdriz:-Drizzling using kernel = square\n",
      "\n",
      "WARNING:drizzlepac.adrizzle:! 120 points were outside the output image.\n",
      "INFO:drizzlepac.adrizzle:-Drizzle input: hst_16231_03_acs_sbc_f150lp_jec403id_flt.fits[sci,1]\n",
      "WARNING:drizzlepac.adrizzle:No CR mask file found! Input DQ array not updated.\n",
      "INFO:drizzlepac.imageObject:Applying EXPTIME weighting to DQ mask for chip 1\n",
      "INFO:drizzlepac.adrizzle:Using WCSLIB-based coordinate transformation...\n",
      "INFO:drizzlepac.adrizzle:stepsize = 10\n",
      "INFO:drizzlepac.cdriz:-Drizzling using kernel = square\n",
      "\n",
      "WARNING:drizzlepac.adrizzle:! 1167 points were outside the output image.\n",
      "INFO:drizzlepac.adrizzle:-Drizzle input: hst_16231_03_acs_sbc_f150lp_jec403ie_flt.fits[sci,1]\n",
      "WARNING:drizzlepac.adrizzle:No CR mask file found! Input DQ array not updated.\n",
      "INFO:drizzlepac.imageObject:Applying EXPTIME weighting to DQ mask for chip 1\n",
      "INFO:drizzlepac.adrizzle:Using WCSLIB-based coordinate transformation...\n",
      "INFO:drizzlepac.adrizzle:stepsize = 10\n",
      "INFO:drizzlepac.cdriz:-Drizzling using kernel = square\n",
      "\n",
      "INFO:drizzlepac.outputimage:-Generating multi-extension output file:  total_visit1+3_test4_drz.fits\n"
     ]
    },
    {
     "name": "stdout",
     "output_type": "stream",
     "text": [
      "-Generating multi-extension output file:  total_visit1+3_test4_drz.fits\n"
     ]
    },
    {
     "name": "stderr",
     "output_type": "stream",
     "text": [
      "INFO:stwcs.wcsutil.altwcs:Deleted all instances of WCS with key A in extensions [1]\n"
     ]
    },
    {
     "name": "stdout",
     "output_type": "stream",
     "text": [
      "Deleted all instances of WCS with key A in extensions [1]\n"
     ]
    },
    {
     "name": "stderr",
     "output_type": "stream",
     "text": [
      "INFO:stwcs.wcsutil.altwcs:Deleted all instances of WCS with key B in extensions [1]\n"
     ]
    },
    {
     "name": "stdout",
     "output_type": "stream",
     "text": [
      "Deleted all instances of WCS with key B in extensions [1]\n"
     ]
    },
    {
     "name": "stderr",
     "output_type": "stream",
     "text": [
      "INFO:drizzlepac.outputimage:Writing out to disk: total_visit1+3_test4_drz.fits\n"
     ]
    },
    {
     "name": "stdout",
     "output_type": "stream",
     "text": [
      "Writing out to disk: total_visit1+3_test4_drz.fits\n"
     ]
    },
    {
     "name": "stderr",
     "output_type": "stream",
     "text": [
      "WARNING:py.warnings:/Users/ha/.local/lib/python3.9/site-packages/astropy/io/fits/card.py:1008: VerifyWarning: Card is too long, comment will be truncated.\n",
      "  warnings.warn('Card is too long, comment will be truncated.',\n",
      "\n",
      "INFO:drizzlepac.util:==== Processing Step Final Drizzle finished at 15:55:00.616 (10/06/2022)\n"
     ]
    },
    {
     "name": "stdout",
     "output_type": "stream",
     "text": [
      "==== Processing Step Final Drizzle finished at 15:55:00.616 (10/06/2022)\n"
     ]
    },
    {
     "name": "stderr",
     "output_type": "stream",
     "text": [
      "INFO:drizzlepac.astrodrizzle:\n"
     ]
    },
    {
     "name": "stdout",
     "output_type": "stream",
     "text": [
      "\n"
     ]
    },
    {
     "name": "stderr",
     "output_type": "stream",
     "text": [
      "INFO:drizzlepac.astrodrizzle:AstroDrizzle Version 3.4.2 is finished processing at 15:55:00.617 (10/06/2022).\n"
     ]
    },
    {
     "name": "stdout",
     "output_type": "stream",
     "text": [
      "AstroDrizzle Version 3.4.2 is finished processing at 15:55:00.617 (10/06/2022).\n"
     ]
    },
    {
     "name": "stderr",
     "output_type": "stream",
     "text": [
      "INFO:drizzlepac.astrodrizzle:\n"
     ]
    },
    {
     "name": "stdout",
     "output_type": "stream",
     "text": [
      "\n"
     ]
    },
    {
     "name": "stderr",
     "output_type": "stream",
     "text": [
      "INFO:drizzlepac.astrodrizzle:\n"
     ]
    },
    {
     "name": "stdout",
     "output_type": "stream",
     "text": [
      "\n"
     ]
    },
    {
     "name": "stderr",
     "output_type": "stream",
     "text": [
      "INFO:drizzlepac.util:\n"
     ]
    },
    {
     "name": "stdout",
     "output_type": "stream",
     "text": [
      "\n"
     ]
    },
    {
     "name": "stderr",
     "output_type": "stream",
     "text": [
      "INFO:drizzlepac.util:   --------------------          --------------------\n"
     ]
    },
    {
     "name": "stdout",
     "output_type": "stream",
     "text": [
      "   --------------------          --------------------\n"
     ]
    },
    {
     "name": "stderr",
     "output_type": "stream",
     "text": [
      "INFO:drizzlepac.util:                   Step          Elapsed time\n"
     ]
    },
    {
     "name": "stdout",
     "output_type": "stream",
     "text": [
      "                   Step          Elapsed time\n"
     ]
    },
    {
     "name": "stderr",
     "output_type": "stream",
     "text": [
      "INFO:drizzlepac.util:   --------------------          --------------------\n"
     ]
    },
    {
     "name": "stdout",
     "output_type": "stream",
     "text": [
      "   --------------------          --------------------\n"
     ]
    },
    {
     "name": "stderr",
     "output_type": "stream",
     "text": [
      "INFO:drizzlepac.util:\n"
     ]
    },
    {
     "name": "stdout",
     "output_type": "stream",
     "text": [
      "\n"
     ]
    },
    {
     "name": "stderr",
     "output_type": "stream",
     "text": [
      "INFO:drizzlepac.util:         Initialization          1.1587 sec.\n"
     ]
    },
    {
     "name": "stdout",
     "output_type": "stream",
     "text": [
      "         Initialization          1.1587 sec.\n"
     ]
    },
    {
     "name": "stderr",
     "output_type": "stream",
     "text": [
      "INFO:drizzlepac.util:            Static Mask          0.0023 sec.\n"
     ]
    },
    {
     "name": "stdout",
     "output_type": "stream",
     "text": [
      "            Static Mask          0.0023 sec.\n"
     ]
    },
    {
     "name": "stderr",
     "output_type": "stream",
     "text": [
      "INFO:drizzlepac.util:           Subtract Sky          0.1901 sec.\n"
     ]
    },
    {
     "name": "stdout",
     "output_type": "stream",
     "text": [
      "           Subtract Sky          0.1901 sec.\n"
     ]
    },
    {
     "name": "stderr",
     "output_type": "stream",
     "text": [
      "INFO:drizzlepac.util:       Separate Drizzle          0.0020 sec.\n"
     ]
    },
    {
     "name": "stdout",
     "output_type": "stream",
     "text": [
      "       Separate Drizzle          0.0020 sec.\n"
     ]
    },
    {
     "name": "stderr",
     "output_type": "stream",
     "text": [
      "INFO:drizzlepac.util:          Create Median          0.0000 sec.\n"
     ]
    },
    {
     "name": "stdout",
     "output_type": "stream",
     "text": [
      "          Create Median          0.0000 sec.\n"
     ]
    },
    {
     "name": "stderr",
     "output_type": "stream",
     "text": [
      "INFO:drizzlepac.util:                   Blot          0.0028 sec.\n"
     ]
    },
    {
     "name": "stdout",
     "output_type": "stream",
     "text": [
      "                   Blot          0.0028 sec.\n"
     ]
    },
    {
     "name": "stderr",
     "output_type": "stream",
     "text": [
      "INFO:drizzlepac.util:                Driz_CR          0.0000 sec.\n"
     ]
    },
    {
     "name": "stdout",
     "output_type": "stream",
     "text": [
      "                Driz_CR          0.0000 sec.\n"
     ]
    },
    {
     "name": "stderr",
     "output_type": "stream",
     "text": [
      "INFO:drizzlepac.util:          Final Drizzle          3.2789 sec.\n"
     ]
    },
    {
     "name": "stdout",
     "output_type": "stream",
     "text": [
      "          Final Drizzle          3.2789 sec.\n"
     ]
    },
    {
     "name": "stderr",
     "output_type": "stream",
     "text": [
      "INFO:drizzlepac.util:   ====================          ====================\n"
     ]
    },
    {
     "name": "stdout",
     "output_type": "stream",
     "text": [
      "   ====================          ====================\n"
     ]
    },
    {
     "name": "stderr",
     "output_type": "stream",
     "text": [
      "INFO:drizzlepac.util:                  Total          4.6348 sec.\n"
     ]
    },
    {
     "name": "stdout",
     "output_type": "stream",
     "text": [
      "                  Total          4.6348 sec.\n"
     ]
    },
    {
     "name": "stderr",
     "output_type": "stream",
     "text": [
      "INFO:drizzlepac.util:\n"
     ]
    },
    {
     "name": "stdout",
     "output_type": "stream",
     "text": [
      "\n"
     ]
    },
    {
     "name": "stderr",
     "output_type": "stream",
     "text": [
      "INFO:drizzlepac.imageObject:Removing intermediate files for hst_16231_01_acs_sbc_f150lp_jec401no_flt.fits\n",
      "INFO:drizzlepac.imageObject:Removing intermediate files for hst_16231_01_acs_sbc_f150lp_jec401nr_flt.fits\n",
      "INFO:drizzlepac.imageObject:Removing intermediate files for hst_16231_01_acs_sbc_f150lp_jec401nv_flt.fits\n",
      "INFO:drizzlepac.imageObject:Removing intermediate files for hst_16231_01_acs_sbc_f150lp_jec401nx_flt.fits\n",
      "INFO:drizzlepac.imageObject:Removing intermediate files for hst_16231_03_acs_sbc_f150lp_jec403ib_flt.fits\n",
      "INFO:drizzlepac.imageObject:Removing intermediate files for hst_16231_03_acs_sbc_f150lp_jec403ic_flt.fits\n",
      "INFO:drizzlepac.imageObject:Removing intermediate files for hst_16231_03_acs_sbc_f150lp_jec403id_flt.fits\n",
      "INFO:drizzlepac.imageObject:Removing intermediate files for hst_16231_03_acs_sbc_f150lp_jec403ie_flt.fits\n",
      "INFO:drizzlepac.util:Trailer file written to:  total_visit1+3_drz.log\n"
     ]
    },
    {
     "name": "stdout",
     "output_type": "stream",
     "text": [
      "Trailer file written to:  total_visit1+3_drz.log\n"
     ]
    }
   ],
   "source": [
    "astrodrizzle.AstroDrizzle(lst_1 + lst_3, \n",
    "                              output = 'total_visit1+3_test4', \n",
    "                              clean = True,\n",
    "                              build = True,\n",
    "                              context = True,\n",
    "                              runfile = 'total_visit1+3_drz.log',\n",
    "                              num_cores = 1,\n",
    "                              in_memory = False,\n",
    "                              resetbits = 4096,\n",
    "                              median = False,\n",
    "                              static = False,\n",
    "                              skysub = False,\n",
    "                              driz_separate = False,\n",
    "                              blot = False,\n",
    "                              driz_cr = False,\n",
    "                              final_bits = 0,\n",
    "                              final_outnx=1947,\n",
    "                              final_outny=1960, \n",
    "                              final_rot = 0.0,\n",
    "                              final_scale = 0.025,\n",
    "                              final_wcs = True)"
   ]
  },
  {
   "cell_type": "code",
   "execution_count": 59,
   "id": "c7a6138e",
   "metadata": {},
   "outputs": [
    {
     "data": {
      "text/plain": [
       "XTENSION= 'IMAGE   '           / IMAGE extension                                \n",
       "BITPIX  =                  -32 / number of bits per data pixel                  \n",
       "NAXIS   =                    2 / number of data axes                            \n",
       "NAXIS1  =                 1024 / length of data axis 1                          \n",
       "NAXIS2  =                 1024 / length of data axis 2                          \n",
       "PCOUNT  =                    0 / required keyword; must = 0                     \n",
       "GCOUNT  =                    1 / required keyword; must = 1                     \n",
       "ORIGIN  = 'HSTIO/CFITSIO March 2010' / FITS file originator                     \n",
       "DATE    = '2022-04-13' / date this file was written (yyyy-mm-dd)                \n",
       "INHERIT =                    T / inherit the primary header                     \n",
       "EXTNAME = 'SCI     '           / extension name                                 \n",
       "EXTVER  =                    1 / extension version number                       \n",
       "ROOTNAME= 'jec403ibq                         ' / rootname of the observation set\n",
       "EXPNAME = 'jec403ibq                ' / exposure identifier                     \n",
       "BUNIT   = 'ELECTRONS'          / brightness units                               \n",
       "                                                                                \n",
       "              / World Coordinate System and Related Parameters                  \n",
       "                                                                                \n",
       "WCSAXES =                    2 / Number of coordinate axes                      \n",
       "CRPIX1  =               512.0  / Pixel coordinate of reference point            \n",
       "CRPIX2  =                512.0 / Pixel coordinate of reference point            \n",
       "CRVAL1  =      319.60070459856 / [deg] Coordinate value at reference point      \n",
       "CRVAL2  =     0.29136918174625 / [deg] Coordinate value at reference point      \n",
       "CTYPE1  = 'RA---TAN-SIP'       / TAN (gnomonic) projection + SIP distortions    \n",
       "CTYPE2  = 'DEC--TAN-SIP'       / TAN (gnomonic) projection + SIP distortions    \n",
       "CD1_1   = -5.1745970268303E-06 / partial of first axis coordinate w.r.t. x      \n",
       "CD1_2   =  6.4842485036551E-06 / partial of first axis coordinate w.r.t. y      \n",
       "CD2_1   = 7.80337350725270E-06 / partial of second axis coordinate w.r.t. x     \n",
       "CD2_2   =  5.2701444619314E-06 / partial of second axis coordinate w.r.t. y     \n",
       "LTV1    =                  0.0 / offset in X to subsection start                \n",
       "LTV2    =                  0.0 / offset in Y to subsection start                \n",
       "RAW_LTV1=                  0.0 / original offset in X to subsection start       \n",
       "RAW_LTV2=                  0.0 / original offset in Y to subsection start       \n",
       "LTM1_1  =                  1.0 / reciprocal of sampling rate in X               \n",
       "LTM2_2  =                  1.0 / reciprocal of sampling rate in Y               \n",
       "ORIENTAT=     50.8971336870121                                                  \n",
       "RA_APER =   3.195999809352E+02 / RA of aperture reference position              \n",
       "DEC_APER=   2.907861247296E-01 / Declination of aperture reference position     \n",
       "PA_APER =              50.9601 / Position Angle of reference aperture center (de\n",
       "VAFACTOR=   1.000102883113E+00 / velocity aberration plate scale factor         \n",
       "                                                                                \n",
       "              / READOUT DEFINITION PARAMETERS                                   \n",
       "                                                                                \n",
       "CENTERA1=                  513 / subarray axis1 center pt in unbinned dect. pix \n",
       "CENTERA2=                  513 / subarray axis2 center pt in unbinned dect. pix \n",
       "SIZAXIS1=                 1024 / subarray axis1 size in unbinned detector pixels\n",
       "SIZAXIS2=                 1024 / subarray axis2 size in unbinned detector pixels\n",
       "BINAXIS1=                    1 / axis1 data bin size in unbinned detector pixels\n",
       "BINAXIS2=                    1 / axis2 data bin size in unbinned detector pixels\n",
       "                                                                                \n",
       "              / PHOTOMETRY KEYWORDS                                             \n",
       "                                                                                \n",
       "PHOTMODE= 'ACS SBC F150LP MJD#59377.9640' / obser                               \n",
       "PHOTFLAM=        3.5315242E-17 / inverse sensitivity, ergs/cm2/Ang/electron     \n",
       "PHOTZPT =       -2.1100000E+01 / ST magnitude zero point                        \n",
       "PHOTPLAM=        1.6056531E+03 / Pivot wavelength (Angstroms)                   \n",
       "PHOTBW  =        1.0916668E+02 / RMS bandwidth of filter plus detector          \n",
       "                                                                                \n",
       "              / DATA PACKET INFORMATION                                         \n",
       "                                                                                \n",
       "FILLCNT =                    0 / number of segments containing fill             \n",
       "ERRCNT  =                    0 / number of segments containing errors           \n",
       "PODPSFF =                    F / podps fill present (T/F)                       \n",
       "STDCFFF =                    F / science telemetry fill data present (T=1/F=0)  \n",
       "STDCFFP = '0x5569'             / science telemetry fill pattern (hex)           \n",
       "                                                                                \n",
       "              / ENGINEERING PARAMETERS                                          \n",
       "                                                                                \n",
       "GLOBRATE=        49.1803278689 / global count rate                              \n",
       "GLOBLIM = 'NOT-EXCEEDED'       / was global linearity level exceeded?           \n",
       "MDECODT1=              17.4483 / MAMA jMDECODT pwb temp from eng snap 1 (deg. C)\n",
       "MDECODT2=              18.6693 / MAMA JMDECODT pwb temp from eng snap 2 (deg. C)\n",
       "                                                                                \n",
       "              / IMAGE STATISTICS AND DATA QUALITY FLAGS                         \n",
       "                                                                                \n",
       "NGOODPIX=              1027065 / number of good pixels                          \n",
       "SDQFLAGS=                31743 / serious data quality flags                     \n",
       "GOODMIN =        0.0000000E+00 / minimum value of good pixels                   \n",
       "GOODMAX =        1.6641729E+01 / maximum value of good pixels                   \n",
       "GOODMEAN=        9.0903677E-03 / mean value of good pixels                      \n",
       "SOFTERRS=                    0 / number of soft error pixels (DQF=1)            \n",
       "SNRMIN  =        0.0000000E+00 / minimum signal to noise of good pixels         \n",
       "SNRMAX  =        4.1197329E+00 / maximum signal to noise of good pixels         \n",
       "SNRMEAN =        8.7285368E-03 / mean value of signal to noise of good pixels   \n",
       "MEANDARK=             0.000000 / average of the dark values subtracted          \n",
       "RADESYS = 'ICRS    '           / Equatorial coordinate system                   \n",
       "S_REGION= 'POLYGON ICRS 319.60003805982495 0.28470960248225446 &'               \n",
       "CONTINUE  '319.6066615582099 0.29008078014781624 319.6013754254164 &'           \n",
       "CONTINUE  '0.2980517831624026 319.59475192485434 0.2926806024100732 '           \n",
       "OCX10   = 5.96685677010100E-05 / original linear term from IDCTAB               \n",
       "OCX11   =  0.03355217352509499 / original linear term from IDCTAB               \n",
       "OCY10   =  0.03007783554494381 / original linear term from IDCTAB               \n",
       "OCY11   =  0.00319520547054708 / original linear term from IDCTAB               \n",
       "IDCSCALE=  0.02500000037252903 / pixel scale from the IDCTAB reference file     \n",
       "IDCTHETA=                  0.0 / orientation of detector's Y-axis w.r.t. V3 axis\n",
       "IDCXREF =                512.0 / reference pixel location in X                  \n",
       "IDCYREF =                512.0 / reference pixel location in Y                  \n",
       "IDCV2REF=    205.2599945068359 / reference pixel's V2 position                  \n",
       "IDCV3REF=    469.8269958496094 / reference pixel's V3 position                  \n",
       "WCSNAMEO= 'OPUS    '           / Coordinate system title                        \n",
       "WCSAXESO=                    2 / Number of coordinate axes                      \n",
       "CRPIX1O =                512.0 / Pixel coordinate of reference point            \n",
       "CRPIX2O =                400.0 / Pixel coordinate of reference point            \n",
       "CUNIT1O = 'deg'                / Units of coordinate increment and value        \n",
       "CUNIT2O = 'deg'                / Units of coordinate increment and value        \n",
       "CTYPE1O = 'RA---TAN'           / Right ascension, gnomonic projection           \n",
       "CTYPE2O = 'DEC--TAN'           / Declination, gnomonic projection               \n",
       "CRVAL1O =       319.5999809352 / [deg] Coordinate value at reference point      \n",
       "CRVAL2O =      0.2907861247296 / [deg] Coordinate value at reference point      \n",
       "MJDREF  =                  0.0 / [d] MJD of fiducial time                       \n",
       "RADESYSO= 'ICRS'               / Equatorial coordinate system                   \n",
       "CD1_1O  =         -5.16722E-06 / partial of first axis coordinate w.r.t. x      \n",
       "CD1_2O  =           6.4745E-06 / partial of first axis coordinate w.r.t. y      \n",
       "CD2_1O  =          7.79179E-06 / partial of second axis coordinate w.r.t. x     \n",
       "CD2_2O  =          5.25042E-06 / partial of second axis coordinate w.r.t. y     \n",
       "IDCTAB  = 'jref$v6m2008mj_idc.fits'                                             \n",
       "A_ORDER =                    4 / SIP polynomial order, axis 0, detector to sky  \n",
       "B_ORDER =                    4 / SIP polynomial order, axis 1, detector to sky  \n",
       "A_0_2   = 3.71821579887969E-06 / SIP distortion coefficient                     \n",
       "B_0_2   = 1.00981392294935E-05 / SIP distortion coefficient                     \n",
       "A_1_1   = 1.17765432685549E-05 / SIP distortion coefficient                     \n",
       "B_1_1   = 2.42209952539204E-07 / SIP distortion coefficient                     \n",
       "A_2_0   =  -1.483933123209E-05 / SIP distortion coefficient                     \n",
       "B_2_0   = 4.22468848828112E-07 / SIP distortion coefficient                     \n",
       "A_0_3   = -4.0306486845335E-09 / SIP distortion coefficient                     \n",
       "B_0_3   =  1.6221563200793E-09 / SIP distortion coefficient                     \n",
       "A_1_2   = -2.6066792469435E-09 / SIP distortion coefficient                     \n",
       "B_1_2   = 5.06905748871357E-10 / SIP distortion coefficient                     \n",
       "A_2_1   = 1.34147484133598E-10 / SIP distortion coefficient                     \n",
       "B_2_1   = -7.4477974380425E-09 / SIP distortion coefficient                     \n",
       "A_3_0   =  4.3177243951969E-09 / SIP distortion coefficient                     \n",
       "B_3_0   = -3.1755220958671E-10 / SIP distortion coefficient                     \n",
       "A_0_4   = -2.7480196565056E-11 / SIP distortion coefficient                     \n",
       "B_0_4   = 2.49020089875116E-12 / SIP distortion coefficient                     \n",
       "A_1_3   = -1.1042562713082E-12 / SIP distortion coefficient                     \n",
       "B_1_3   = 6.52484192257676E-12 / SIP distortion coefficient                     \n",
       "A_2_2   = 3.32642166064284E-12 / SIP distortion coefficient                     \n",
       "B_2_2   = -3.0271615259304E-13 / SIP distortion coefficient                     \n",
       "A_3_1   = -8.7909628335581E-13 / SIP distortion coefficient                     \n",
       "B_3_1   = 4.43255209342228E-12 / SIP distortion coefficient                     \n",
       "A_4_0   = 1.46872345905909E-11 / SIP distortion coefficient                     \n",
       "B_4_0   = 7.43178117451922E-13 / SIP distortion coefficient                     \n",
       "WCSNAME = 'IDC_v6m2008mj-GSC240' / Coordinate system title                      \n",
       "CPERR1  = 0.007132729981094599 / Maximum error of NPOL correction for axis 1    \n",
       "CPDIS1  = 'Lookup  '           / Prior distortion function type                 \n",
       "DP1     = 'EXTVER: 1' / Version number of WCSDVARR extension                    \n",
       "DP1     = 'NAXES: 2' / Number of independent variables in CPDIS function        \n",
       "DP1     = 'AXIS.1: 1' / Axis number of the 1st variable in a CPDIS function     \n",
       "DP1     = 'AXIS.2: 2' / Axis number of the 2nd variable in a CPDIS function     \n",
       "CPERR2  = 0.009602183476090431 / Maximum error of NPOL correction for axis 2    \n",
       "CPDIS2  = 'Lookup  '           / Prior distortion function type                 \n",
       "DP2     = 'EXTVER: 2' / Version number of WCSDVARR extension                    \n",
       "DP2     = 'NAXES: 2' / Number of independent variables in CPDIS function        \n",
       "DP2     = 'AXIS.1: 1' / Axis number of the 1st variable in a CPDIS function     \n",
       "DP2     = 'AXIS.2: 2' / Axis number of the 2nd variable in a CPDIS function     \n",
       "NPOLEXT = 'jref$xc215013j_npl.fits'                                             \n",
       "MDRIZSKY=                  0.0 / Sky value computed by AstroDrizzle             \n",
       "CUNIT1  = 'deg'                / Units of coordinate increment and value        \n",
       "CUNIT2  = 'deg'                / Units of coordinate increment and value        \n",
       "WCSNAMEA= 'IDC_v6m2008mj'      / Coordinate system title                        \n",
       "WCSAXESA=                    2 / Number of coordinate axes                      \n",
       "CRPIX1A =                512.0 / Pixel coordinate of reference point            \n",
       "CRPIX2A =                512.0 / Pixel coordinate of reference point            \n",
       "CUNIT1A = 'deg'                / Units of coordinate increment and value        \n",
       "CUNIT2A = 'deg'                / Units of coordinate increment and value        \n",
       "CTYPE1A = 'RA---TAN-SIP'       / TAN (gnomonic) projection + SIP distortions    \n",
       "CTYPE2A = 'DEC--TAN-SIP'       / TAN (gnomonic) projection + SIP distortions    \n",
       "CRVAL1A =      319.60070608858 / [deg] Coordinate value at reference point      \n",
       "CRVAL2A =     0.29137417174626 / [deg] Coordinate value at reference point      \n",
       "RADESYSA= 'ICRS'               / Equatorial coordinate system                   \n",
       "CD1_1A  =  -5.174597033748E-06 / partial of first axis coordinate w.r.t. x      \n",
       "CD1_2A  =  6.4842485001797E-06 / partial of first axis coordinate w.r.t. y      \n",
       "CD2_1A  = 7.80337351648480E-06 / partial of second axis coordinate w.r.t. x     \n",
       "CD2_2A  =  5.2701444507193E-06 / partial of second axis coordinate w.r.t. y     \n",
       "WCSTYPE = 'undistorted a priori solution based on GSC240'                       \n",
       "HDRNAME = 'jec403ibq_flt_6d59e9_hlet.fits'                                      \n",
       "WCSNAMEB= 'IDC_v6m2008mj-GSC240' / Coordinate system title                      \n",
       "WCSAXESB=                    2 / Number of coordinate axes                      \n",
       "CRPIX1B =                512.0 / Pixel coordinate of reference point            \n",
       "CRPIX2B =                512.0 / Pixel coordinate of reference point            \n",
       "CUNIT1B = 'deg'                / Units of coordinate increment and value        \n",
       "CUNIT2B = 'deg'                / Units of coordinate increment and value        \n",
       "CTYPE1B = 'RA---TAN-SIP'       / TAN (gnomonic) projection + SIP distortions    \n",
       "CTYPE2B = 'DEC--TAN-SIP'       / TAN (gnomonic) projection + SIP distortions    \n",
       "CRVAL1B =      319.60070459856 / [deg] Coordinate value at reference point      \n",
       "CRVAL2B =     0.29136918174625 / [deg] Coordinate value at reference point      \n",
       "RADESYSB= 'ICRS'               / Equatorial coordinate system                   \n",
       "CD1_1B  = -5.1745970268303E-06 / partial of first axis coordinate w.r.t. x      \n",
       "CD1_2B  =  6.4842485036551E-06 / partial of first axis coordinate w.r.t. y      \n",
       "CD2_1B  = 7.80337350725270E-06 / partial of second axis coordinate w.r.t. x     \n",
       "CD2_2B  =  5.2701444619314E-06 / partial of second axis coordinate w.r.t. y     \n",
       "WCSTYPEB= 'undistorted a priori solution based on GSC240'                       \n",
       "HDRNAMEB= 'jec403ibq_flt_6d59e9_hlet.fits'                                      \n",
       "WCSTYPEA= 'undistorted not aligned'                                             \n",
       "WCSTYPEO= 'pipeline default not aligned'                                        "
      ]
     },
     "execution_count": 59,
     "metadata": {},
     "output_type": "execute_result"
    }
   ],
   "source": [
    "ib_f[1].header"
   ]
  },
  {
   "cell_type": "code",
   "execution_count": 64,
   "id": "52d81eba",
   "metadata": {},
   "outputs": [
    {
     "data": {
      "text/plain": [
       "XTENSION= 'IMAGE   '           / IMAGE extension                                \n",
       "BITPIX  =                  -32 / number of bits per data pixel                  \n",
       "NAXIS   =                    2 / number of data axes                            \n",
       "NAXIS1  =                 1024 / length of data axis 1                          \n",
       "NAXIS2  =                 1024 / length of data axis 2                          \n",
       "PCOUNT  =                    0 / required keyword; must = 0                     \n",
       "GCOUNT  =                    1 / required keyword; must = 1                     \n",
       "ORIGIN  = 'HSTIO/CFITSIO March 2010' / FITS file originator                     \n",
       "DATE    = '2022-04-13' / date this file was written (yyyy-mm-dd)                \n",
       "INHERIT =                    T / inherit the primary header                     \n",
       "EXTNAME = 'SCI     '           / extension name                                 \n",
       "EXTVER  =                    1 / extension version number                       \n",
       "ROOTNAME= 'jec403ibq                         ' / rootname of the observation set\n",
       "EXPNAME = 'jec403ibq                ' / exposure identifier                     \n",
       "BUNIT   = 'ELECTRONS'          / brightness units                               \n",
       "                                                                                \n",
       "              / World Coordinate System and Related Parameters                  \n",
       "                                                                                \n",
       "WCSAXES =                    2 / Number of coordinate axes                      \n",
       "CRPIX1  =               512.0  / Pixel coordinate of reference point            \n",
       "CRPIX2  =                512.0 / Pixel coordinate of reference point            \n",
       "CRVAL1  =      319.60100408768 / [deg] Coordinate value at reference point      \n",
       "CRVAL2  =     0.29136653045314 / [deg] Coordinate value at reference point      \n",
       "CTYPE1  = 'RA---TAN-SIP'       / TAN (gnomonic) projection + SIP distortions    \n",
       "CTYPE2  = 'DEC--TAN-SIP'       / TAN (gnomonic) projection + SIP distortions    \n",
       "CD1_1   = -5.1748695053937E-06 / partial of first axis coordinate w.r.t. x      \n",
       "CD1_2   =  6.4840753095582E-06 / partial of first axis coordinate w.r.t. y      \n",
       "CD2_1   =  7.8032050155991E-06 / partial of second axis coordinate w.r.t. x     \n",
       "CD2_2   =  5.2703719299739E-06 / partial of second axis coordinate w.r.t. y     \n",
       "LTV1    =                  0.0 / offset in X to subsection start                \n",
       "LTV2    =                  0.0 / offset in Y to subsection start                \n",
       "RAW_LTV1=                  0.0 / original offset in X to subsection start       \n",
       "RAW_LTV2=                  0.0 / original offset in Y to subsection start       \n",
       "LTM1_1  =                  1.0 / reciprocal of sampling rate in X               \n",
       "LTM2_2  =                  1.0 / reciprocal of sampling rate in Y               \n",
       "ORIENTAT=    50.89517427474428                                                  \n",
       "RA_APER =   3.195999809352E+02 / RA of aperture reference position              \n",
       "DEC_APER=   2.907861247296E-01 / Declination of aperture reference position     \n",
       "PA_APER =              50.9601 / Position Angle of reference aperture center (de\n",
       "VAFACTOR=   1.000102883113E+00 / velocity aberration plate scale factor         \n",
       "                                                                                \n",
       "              / READOUT DEFINITION PARAMETERS                                   \n",
       "                                                                                \n",
       "CENTERA1=                  513 / subarray axis1 center pt in unbinned dect. pix \n",
       "CENTERA2=                  513 / subarray axis2 center pt in unbinned dect. pix \n",
       "SIZAXIS1=                 1024 / subarray axis1 size in unbinned detector pixels\n",
       "SIZAXIS2=                 1024 / subarray axis2 size in unbinned detector pixels\n",
       "BINAXIS1=                    1 / axis1 data bin size in unbinned detector pixels\n",
       "BINAXIS2=                    1 / axis2 data bin size in unbinned detector pixels\n",
       "                                                                                \n",
       "              / PHOTOMETRY KEYWORDS                                             \n",
       "                                                                                \n",
       "PHOTMODE= 'ACS SBC F150LP MJD#59377.9640' / obser                               \n",
       "PHOTFLAM=        3.5315242E-17 / inverse sensitivity, ergs/cm2/Ang/electron     \n",
       "PHOTZPT =       -2.1100000E+01 / ST magnitude zero point                        \n",
       "PHOTPLAM=        1.6056531E+03 / Pivot wavelength (Angstroms)                   \n",
       "PHOTBW  =        1.0916668E+02 / RMS bandwidth of filter plus detector          \n",
       "                                                                                \n",
       "              / DATA PACKET INFORMATION                                         \n",
       "                                                                                \n",
       "FILLCNT =                    0 / number of segments containing fill             \n",
       "ERRCNT  =                    0 / number of segments containing errors           \n",
       "PODPSFF =                    F / podps fill present (T/F)                       \n",
       "STDCFFF =                    F / science telemetry fill data present (T=1/F=0)  \n",
       "STDCFFP = '0x5569'             / science telemetry fill pattern (hex)           \n",
       "                                                                                \n",
       "              / ENGINEERING PARAMETERS                                          \n",
       "                                                                                \n",
       "GLOBRATE=        49.1803278689 / global count rate                              \n",
       "GLOBLIM = 'NOT-EXCEEDED'       / was global linearity level exceeded?           \n",
       "MDECODT1=              17.4483 / MAMA jMDECODT pwb temp from eng snap 1 (deg. C)\n",
       "MDECODT2=              18.6693 / MAMA JMDECODT pwb temp from eng snap 2 (deg. C)\n",
       "                                                                                \n",
       "              / IMAGE STATISTICS AND DATA QUALITY FLAGS                         \n",
       "                                                                                \n",
       "NGOODPIX=              1027065 / number of good pixels                          \n",
       "SDQFLAGS=                31743 / serious data quality flags                     \n",
       "GOODMIN =        0.0000000E+00 / minimum value of good pixels                   \n",
       "GOODMAX =        1.6641729E+01 / maximum value of good pixels                   \n",
       "GOODMEAN=        9.0903677E-03 / mean value of good pixels                      \n",
       "SOFTERRS=                    0 / number of soft error pixels (DQF=1)            \n",
       "SNRMIN  =        0.0000000E+00 / minimum signal to noise of good pixels         \n",
       "SNRMAX  =        4.1197329E+00 / maximum signal to noise of good pixels         \n",
       "SNRMEAN =        8.7285368E-03 / mean value of signal to noise of good pixels   \n",
       "MEANDARK=             0.000000 / average of the dark values subtracted          \n",
       "RADESYS = 'ICRS    '           / Equatorial coordinate system                   \n",
       "S_REGION= 'POLYGON ICRS 319.60003805982495 0.28470960248225446 &'               \n",
       "CONTINUE  '319.6066615582099 0.29008078014781624 319.6013754254164 &'           \n",
       "CONTINUE  '0.2980517831624026 319.59475192485434 0.2926806024100732 '           \n",
       "OCX10   = 5.96685677010100E-05 / original linear term from IDCTAB               \n",
       "OCX11   =  0.03355217352509499 / original linear term from IDCTAB               \n",
       "OCY10   =  0.03007783554494381 / original linear term from IDCTAB               \n",
       "OCY11   =  0.00319520547054708 / original linear term from IDCTAB               \n",
       "IDCSCALE=  0.02500000037252903 / pixel scale from the IDCTAB reference file     \n",
       "IDCTHETA=                  0.0 / orientation of detector's Y-axis w.r.t. V3 axis\n",
       "IDCXREF =                512.0 / reference pixel location in X                  \n",
       "IDCYREF =                512.0 / reference pixel location in Y                  \n",
       "IDCV2REF=    205.2599945068359 / reference pixel's V2 position                  \n",
       "IDCV3REF=    469.8269958496094 / reference pixel's V3 position                  \n",
       "WCSNAMEO= 'OPUS    '           / Coordinate system title                        \n",
       "WCSAXESO=                    2 / Number of coordinate axes                      \n",
       "CRPIX1O =                512.0 / Pixel coordinate of reference point            \n",
       "CRPIX2O =                400.0 / Pixel coordinate of reference point            \n",
       "CUNIT1O = 'deg'                / Units of coordinate increment and value        \n",
       "CUNIT2O = 'deg'                / Units of coordinate increment and value        \n",
       "CTYPE1O = 'RA---TAN'           / Right ascension, gnomonic projection           \n",
       "CTYPE2O = 'DEC--TAN'           / Declination, gnomonic projection               \n",
       "CRVAL1O =       319.5999809352 / [deg] Coordinate value at reference point      \n",
       "CRVAL2O =      0.2907861247296 / [deg] Coordinate value at reference point      \n",
       "RADESYSO= 'ICRS'               / Equatorial coordinate system                   \n",
       "CD1_1O  =         -5.16722E-06 / partial of first axis coordinate w.r.t. x      \n",
       "CD1_2O  =           6.4745E-06 / partial of first axis coordinate w.r.t. y      \n",
       "CD2_1O  =          7.79179E-06 / partial of second axis coordinate w.r.t. x     \n",
       "CD2_2O  =          5.25042E-06 / partial of second axis coordinate w.r.t. y     \n",
       "IDCTAB  = 'jref$v6m2008mj_idc.fits'                                             \n",
       "A_ORDER =                    4 / SIP polynomial order, axis 0, detector to sky  \n",
       "B_ORDER =                    4 / SIP polynomial order, axis 1, detector to sky  \n",
       "A_0_2   = 3.71821579887969E-06 / SIP distortion coefficient                     \n",
       "B_0_2   = 1.00981392294935E-05 / SIP distortion coefficient                     \n",
       "A_1_1   = 1.17765432685549E-05 / SIP distortion coefficient                     \n",
       "B_1_1   = 2.42209952539204E-07 / SIP distortion coefficient                     \n",
       "A_2_0   =  -1.483933123209E-05 / SIP distortion coefficient                     \n",
       "B_2_0   = 4.22468848828112E-07 / SIP distortion coefficient                     \n",
       "A_0_3   = -4.0306486845335E-09 / SIP distortion coefficient                     \n",
       "B_0_3   =  1.6221563200793E-09 / SIP distortion coefficient                     \n",
       "A_1_2   = -2.6066792469435E-09 / SIP distortion coefficient                     \n",
       "B_1_2   = 5.06905748871357E-10 / SIP distortion coefficient                     \n",
       "A_2_1   = 1.34147484133598E-10 / SIP distortion coefficient                     \n",
       "B_2_1   = -7.4477974380425E-09 / SIP distortion coefficient                     \n",
       "A_3_0   =  4.3177243951969E-09 / SIP distortion coefficient                     \n",
       "B_3_0   = -3.1755220958671E-10 / SIP distortion coefficient                     \n",
       "A_0_4   = -2.7480196565056E-11 / SIP distortion coefficient                     \n",
       "B_0_4   = 2.49020089875116E-12 / SIP distortion coefficient                     \n",
       "A_1_3   = -1.1042562713082E-12 / SIP distortion coefficient                     \n",
       "B_1_3   = 6.52484192257676E-12 / SIP distortion coefficient                     \n",
       "A_2_2   = 3.32642166064284E-12 / SIP distortion coefficient                     \n",
       "B_2_2   = -3.0271615259304E-13 / SIP distortion coefficient                     \n",
       "A_3_1   = -8.7909628335581E-13 / SIP distortion coefficient                     \n",
       "B_3_1   = 4.43255209342228E-12 / SIP distortion coefficient                     \n",
       "A_4_0   = 1.46872345905909E-11 / SIP distortion coefficient                     \n",
       "B_4_0   = 7.43178117451922E-13 / SIP distortion coefficient                     \n",
       "WCSNAME = 'TWEAK   '           / Coordinate system title                        \n",
       "CPERR1  = 0.007132729981094599 / Maximum error of NPOL correction for axis 1    \n",
       "CPDIS1  = 'Lookup  '           / Prior distortion function type                 \n",
       "DP1     = 'EXTVER: 1' / Version number of WCSDVARR extension                    \n",
       "DP1     = 'NAXES: 2' / Number of independent variables in CPDIS function        \n",
       "DP1     = 'AXIS.1: 1' / Axis number of the 1st variable in a CPDIS function     \n",
       "DP1     = 'AXIS.2: 2' / Axis number of the 2nd variable in a CPDIS function     \n",
       "CPERR2  = 0.009602183476090431 / Maximum error of NPOL correction for axis 2    \n",
       "CPDIS2  = 'Lookup  '           / Prior distortion function type                 \n",
       "DP2     = 'EXTVER: 2' / Version number of WCSDVARR extension                    \n",
       "DP2     = 'NAXES: 2' / Number of independent variables in CPDIS function        \n",
       "DP2     = 'AXIS.1: 1' / Axis number of the 1st variable in a CPDIS function     \n",
       "DP2     = 'AXIS.2: 2' / Axis number of the 2nd variable in a CPDIS function     \n",
       "NPOLEXT = 'jref$xc215013j_npl.fits'                                             \n",
       "MDRIZSKY=                  0.0 / Sky value computed by AstroDrizzle             \n",
       "CUNIT1  = 'deg'                / Units of coordinate increment and value        \n",
       "CUNIT2  = 'deg'                / Units of coordinate increment and value        \n",
       "WCSNAMEA= 'IDC_v6m2008mj'      / Coordinate system title                        \n",
       "WCSAXESA=                    2 / Number of coordinate axes                      \n",
       "CRPIX1A =                512.0 / Pixel coordinate of reference point            \n",
       "CRPIX2A =                512.0 / Pixel coordinate of reference point            \n",
       "CUNIT1A = 'deg'                / Units of coordinate increment and value        \n",
       "CUNIT2A = 'deg'                / Units of coordinate increment and value        \n",
       "CTYPE1A = 'RA---TAN-SIP'       / TAN (gnomonic) projection + SIP distortions    \n",
       "CTYPE2A = 'DEC--TAN-SIP'       / TAN (gnomonic) projection + SIP distortions    \n",
       "CRVAL1A =      319.60070608858 / [deg] Coordinate value at reference point      \n",
       "CRVAL2A =     0.29137417174626 / [deg] Coordinate value at reference point      \n",
       "RADESYSA= 'ICRS'               / Equatorial coordinate system                   \n",
       "CD1_1A  =  -5.174597033748E-06 / partial of first axis coordinate w.r.t. x      \n",
       "CD1_2A  =  6.4842485001797E-06 / partial of first axis coordinate w.r.t. y      \n",
       "CD2_1A  = 7.80337351648480E-06 / partial of second axis coordinate w.r.t. x     \n",
       "CD2_2A  =  5.2701444507193E-06 / partial of second axis coordinate w.r.t. y     \n",
       "WCSTYPE = 'user-defined'                                                        \n",
       "FITNAME = 'TWEAK   '                                                            \n",
       "NMATCH  =                   38                                                  \n",
       "RMS_DEC = 4.24039315538582E-06                                                  \n",
       "RMS_RA  = 9.88189299278019E-07                                                  \n",
       "HDRNAME = 'jec403ibq_flt_6d59e9_hlet.fits'                                      \n",
       "WCSTYPEA= 'undistorted not aligned'                                             \n",
       "WCSTYPEO= 'pipeline default not aligned'                                        \n",
       "WCSNAMEB= 'IDC_v6m2008mj-GSC240-1' / Coordinate system title                    \n",
       "WCSAXESB=                    2 / Number of coordinate axes                      \n",
       "CRPIX1B =                512.0 / Pixel coordinate of reference point            \n",
       "CRPIX2B =                512.0 / Pixel coordinate of reference point            \n",
       "CUNIT1B = 'deg'                / Units of coordinate increment and value        \n",
       "CUNIT2B = 'deg'                / Units of coordinate increment and value        \n",
       "CTYPE1B = 'RA---TAN-SIP'       / TAN (gnomonic) projection + SIP distortions    \n",
       "CTYPE2B = 'DEC--TAN-SIP'       / TAN (gnomonic) projection + SIP distortions    \n",
       "CRVAL1B =      319.60070459856 / [deg] Coordinate value at reference point      \n",
       "CRVAL2B =     0.29136918174625 / [deg] Coordinate value at reference point      \n",
       "MJDREF  =                  0.0 / [d] MJD of fiducial time                       \n",
       "RADESYSB= 'ICRS'               / Equatorial coordinate system                   \n",
       "CD1_1B  = -5.1745970268303E-06 / partial of first axis coordinate w.r.t. x      \n",
       "CD1_2B  =  6.4842485036551E-06 / partial of first axis coordinate w.r.t. y      \n",
       "CD2_1B  = 7.80337350725270E-06 / partial of second axis coordinate w.r.t. x     \n",
       "CD2_2B  =  5.2701444619314E-06 / partial of second axis coordinate w.r.t. y     \n",
       "WCSTYPEB= 'undistorted a priori solution based on GSC240'                       \n",
       "HDRNAMEB= 'jec403ibq_flt_6d59e9_hlet.fits'                                      \n",
       "CRDER1  =  9.8818929927802E-07 / [deg] Random error in coordinate               \n",
       "CRDER2  =  4.2403931553858E-06 / [deg] Random error in coordinate               "
      ]
     },
     "execution_count": 64,
     "metadata": {},
     "output_type": "execute_result"
    }
   ],
   "source": [
    "ib_f[1].header"
   ]
  },
  {
   "cell_type": "code",
   "execution_count": 60,
   "id": "be285825",
   "metadata": {},
   "outputs": [
    {
     "data": {
      "text/plain": [
       "XTENSION= 'IMAGE   '           / IMAGE extension                                \n",
       "BITPIX  =                  -32 / number of bits per data pixel                  \n",
       "NAXIS   =                    2 / number of data axes                            \n",
       "NAXIS1  =                 1024 / length of data axis 1                          \n",
       "NAXIS2  =                 1024 / length of data axis 2                          \n",
       "PCOUNT  =                    0 / required keyword; must = 0                     \n",
       "GCOUNT  =                    1 / required keyword; must = 1                     \n",
       "ORIGIN  = 'HSTIO/CFITSIO March 2010' / FITS file originator                     \n",
       "DATE    = '2022-04-13' / date this file was written (yyyy-mm-dd)                \n",
       "INHERIT =                    T / inherit the primary header                     \n",
       "EXTNAME = 'SCI     '           / extension name                                 \n",
       "EXTVER  =                    1 / extension version number                       \n",
       "ROOTNAME= 'jec401nrq                         ' / rootname of the observation set\n",
       "EXPNAME = 'jec401nrq                ' / exposure identifier                     \n",
       "BUNIT   = 'ELECTRONS'          / brightness units                               \n",
       "                                                                                \n",
       "              / World Coordinate System and Related Parameters                  \n",
       "                                                                                \n",
       "WCSAXES =                    2 / Number of coordinate axes                      \n",
       "CRPIX1  =               512.0  / Pixel coordinate of reference point            \n",
       "CRPIX2  =                512.0 / Pixel coordinate of reference point            \n",
       "CRVAL1  =      319.60113936155 / [deg] Coordinate value at reference point      \n",
       "CRVAL2  =     0.29187045763134 / [deg] Coordinate value at reference point      \n",
       "CTYPE1  = 'RA---TAN-SIP'       / TAN (gnomonic) projection + SIP distortions    \n",
       "CTYPE2  = 'DEC--TAN-SIP'       / TAN (gnomonic) projection + SIP distortions    \n",
       "CD1_1   = -4.3321151746296E-06 / partial of first axis coordinate w.r.t. x      \n",
       "CD1_2   =  6.9987250233819E-06 / partial of first axis coordinate w.r.t. y      \n",
       "CD2_1   = 8.30067499086699E-06 / partial of second axis coordinate w.r.t. x     \n",
       "CD2_2   =  4.5647803208634E-06 / partial of second axis coordinate w.r.t. y     \n",
       "LTV1    =                  0.0 / offset in X to subsection start                \n",
       "LTV2    =                  0.0 / offset in Y to subsection start                \n",
       "RAW_LTV1=                  0.0 / original offset in X to subsection start       \n",
       "RAW_LTV2=                  0.0 / original offset in Y to subsection start       \n",
       "LTM1_1  =                  1.0 / reciprocal of sampling rate in X               \n",
       "LTM2_2  =                  1.0 / reciprocal of sampling rate in Y               \n",
       "ORIENTAT=    56.88639259511973                                                  \n",
       "RA_APER =   3.196003573174E+02 / RA of aperture reference position              \n",
       "DEC_APER=   2.913610432586E-01 / Declination of aperture reference position     \n",
       "PA_APER =              56.9494 / Position Angle of reference aperture center (de\n",
       "VAFACTOR=   1.000099089799E+00 / velocity aberration plate scale factor         \n",
       "                                                                                \n",
       "              / READOUT DEFINITION PARAMETERS                                   \n",
       "                                                                                \n",
       "CENTERA1=                  513 / subarray axis1 center pt in unbinned dect. pix \n",
       "CENTERA2=                  513 / subarray axis2 center pt in unbinned dect. pix \n",
       "SIZAXIS1=                 1024 / subarray axis1 size in unbinned detector pixels\n",
       "SIZAXIS2=                 1024 / subarray axis2 size in unbinned detector pixels\n",
       "BINAXIS1=                    1 / axis1 data bin size in unbinned detector pixels\n",
       "BINAXIS2=                    1 / axis2 data bin size in unbinned detector pixels\n",
       "                                                                                \n",
       "              / PHOTOMETRY KEYWORDS                                             \n",
       "                                                                                \n",
       "PHOTMODE= 'ACS SBC F150LP MJD#59361.2931' / obser                               \n",
       "PHOTFLAM=        3.5315768E-17 / inverse sensitivity, ergs/cm2/Ang/electron     \n",
       "PHOTZPT =       -2.1100000E+01 / ST magnitude zero point                        \n",
       "PHOTPLAM=        1.6056531E+03 / Pivot wavelength (Angstroms)                   \n",
       "PHOTBW  =        1.0916668E+02 / RMS bandwidth of filter plus detector          \n",
       "                                                                                \n",
       "              / DATA PACKET INFORMATION                                         \n",
       "                                                                                \n",
       "FILLCNT =                    0 / number of segments containing fill             \n",
       "ERRCNT  =                    0 / number of segments containing errors           \n",
       "PODPSFF =                    F / podps fill present (T/F)                       \n",
       "STDCFFF =                    F / science telemetry fill data present (T=1/F=0)  \n",
       "STDCFFP = '0x5569'             / science telemetry fill pattern (hex)           \n",
       "                                                                                \n",
       "              / ENGINEERING PARAMETERS                                          \n",
       "                                                                                \n",
       "GLOBRATE=         16.393442623 / global count rate                              \n",
       "GLOBLIM = 'NOT-EXCEEDED'       / was global linearity level exceeded?           \n",
       "MDECODT1=              19.6461 / MAMA jMDECODT pwb temp from eng snap 1 (deg. C)\n",
       "MDECODT2=              20.6229 / MAMA JMDECODT pwb temp from eng snap 2 (deg. C)\n",
       "                                                                                \n",
       "              / IMAGE STATISTICS AND DATA QUALITY FLAGS                         \n",
       "                                                                                \n",
       "NGOODPIX=              1027065 / number of good pixels                          \n",
       "SDQFLAGS=                31743 / serious data quality flags                     \n",
       "GOODMIN =        0.0000000E+00 / minimum value of good pixels                   \n",
       "GOODMAX =        1.6148897E+01 / maximum value of good pixels                   \n",
       "GOODMEAN=        1.2029584E-02 / mean value of good pixels                      \n",
       "SOFTERRS=                    0 / number of soft error pixels (DQF=1)            \n",
       "SNRMIN  =        0.0000000E+00 / minimum signal to noise of good pixels         \n",
       "SNRMAX  =        4.1206808E+00 / maximum signal to noise of good pixels         \n",
       "SNRMEAN =        1.1630149E-02 / mean value of signal to noise of good pixels   \n",
       "MEANDARK=             0.000000 / average of the dark values subtracted          \n",
       "RADESYS = 'ICRS    '           / Equatorial coordinate system                   \n",
       "S_REGION= 'POLYGON ICRS 319.59978008324646 0.285311726846597 &'                 \n",
       "CONTINUE  '319.6069278755106 0.28996248753225345 319.6025023224811 &'           \n",
       "CONTINUE  '0.29844154285341906 319.59535452664954 0.2937907793772356 '          \n",
       "OCX10   = 5.96685677010100E-05 / original linear term from IDCTAB               \n",
       "OCX11   =  0.03355217352509499 / original linear term from IDCTAB               \n",
       "OCY10   =  0.03007783554494381 / original linear term from IDCTAB               \n",
       "OCY11   =  0.00319520547054708 / original linear term from IDCTAB               \n",
       "IDCSCALE=  0.02500000037252903 / pixel scale from the IDCTAB reference file     \n",
       "IDCTHETA=                  0.0 / orientation of detector's Y-axis w.r.t. V3 axis\n",
       "IDCXREF =                512.0 / reference pixel location in X                  \n",
       "IDCYREF =                512.0 / reference pixel location in Y                  \n",
       "IDCV2REF=    205.2599945068359 / reference pixel's V2 position                  \n",
       "IDCV3REF=    469.8269958496094 / reference pixel's V3 position                  \n",
       "WCSNAMEO= 'OPUS    '           / Coordinate system title                        \n",
       "WCSAXESO=                    2 / Number of coordinate axes                      \n",
       "CRPIX1O =                512.0 / Pixel coordinate of reference point            \n",
       "CRPIX2O =                400.0 / Pixel coordinate of reference point            \n",
       "CUNIT1O = 'deg'                / Units of coordinate increment and value        \n",
       "CUNIT2O = 'deg'                / Units of coordinate increment and value        \n",
       "CTYPE1O = 'RA---TAN'           / Right ascension, gnomonic projection           \n",
       "CTYPE2O = 'DEC--TAN'           / Declination, gnomonic projection               \n",
       "CRVAL1O =       319.6003573174 / [deg] Coordinate value at reference point      \n",
       "CRVAL2O =      0.2913610432586 / [deg] Coordinate value at reference point      \n",
       "MJDREF  =                  0.0 / [d] MJD of fiducial time                       \n",
       "RADESYSO= 'ICRS'               / Equatorial coordinate system                   \n",
       "CD1_1O  =           -4.326E-06 / partial of first axis coordinate w.r.t. x      \n",
       "CD1_2O  =            6.987E-06 / partial of first axis coordinate w.r.t. y      \n",
       "CD2_1O  =          8.28842E-06 / partial of second axis coordinate w.r.t. x     \n",
       "CD2_2O  =           4.5462E-06 / partial of second axis coordinate w.r.t. y     \n",
       "IDCTAB  = 'jref$v6m2008mj_idc.fits'                                             \n",
       "A_ORDER =                    4 / SIP polynomial order, axis 0, detector to sky  \n",
       "B_ORDER =                    4 / SIP polynomial order, axis 1, detector to sky  \n",
       "A_0_2   = 3.71821579887969E-06 / SIP distortion coefficient                     \n",
       "B_0_2   = 1.00981392294935E-05 / SIP distortion coefficient                     \n",
       "A_1_1   = 1.17765432685549E-05 / SIP distortion coefficient                     \n",
       "B_1_1   = 2.42209952539204E-07 / SIP distortion coefficient                     \n",
       "A_2_0   =  -1.483933123209E-05 / SIP distortion coefficient                     \n",
       "B_2_0   = 4.22468848828112E-07 / SIP distortion coefficient                     \n",
       "A_0_3   = -4.0306486845335E-09 / SIP distortion coefficient                     \n",
       "B_0_3   =  1.6221563200793E-09 / SIP distortion coefficient                     \n",
       "A_1_2   = -2.6066792469435E-09 / SIP distortion coefficient                     \n",
       "B_1_2   = 5.06905748871357E-10 / SIP distortion coefficient                     \n",
       "A_2_1   = 1.34147484133598E-10 / SIP distortion coefficient                     \n",
       "B_2_1   = -7.4477974380425E-09 / SIP distortion coefficient                     \n",
       "A_3_0   =  4.3177243951969E-09 / SIP distortion coefficient                     \n",
       "B_3_0   = -3.1755220958671E-10 / SIP distortion coefficient                     \n",
       "A_0_4   = -2.7480196565056E-11 / SIP distortion coefficient                     \n",
       "B_0_4   = 2.49020089875116E-12 / SIP distortion coefficient                     \n",
       "A_1_3   = -1.1042562713082E-12 / SIP distortion coefficient                     \n",
       "B_1_3   = 6.52484192257676E-12 / SIP distortion coefficient                     \n",
       "A_2_2   = 3.32642166064284E-12 / SIP distortion coefficient                     \n",
       "B_2_2   = -3.0271615259304E-13 / SIP distortion coefficient                     \n",
       "A_3_1   = -8.7909628335581E-13 / SIP distortion coefficient                     \n",
       "B_3_1   = 4.43255209342228E-12 / SIP distortion coefficient                     \n",
       "A_4_0   = 1.46872345905909E-11 / SIP distortion coefficient                     \n",
       "B_4_0   = 7.43178117451922E-13 / SIP distortion coefficient                     \n",
       "WCSNAME = 'IDC_v6m2008mj-GSC240' / Coordinate system title                      \n",
       "CPERR1  = 0.007132729981094599 / Maximum error of NPOL correction for axis 1    \n",
       "CPDIS1  = 'Lookup  '           / Prior distortion function type                 \n",
       "DP1     = 'EXTVER: 1' / Version number of WCSDVARR extension                    \n",
       "DP1     = 'NAXES: 2' / Number of independent variables in CPDIS function        \n",
       "DP1     = 'AXIS.1: 1' / Axis number of the 1st variable in a CPDIS function     \n",
       "DP1     = 'AXIS.2: 2' / Axis number of the 2nd variable in a CPDIS function     \n",
       "CPERR2  = 0.009602183476090431 / Maximum error of NPOL correction for axis 2    \n",
       "CPDIS2  = 'Lookup  '           / Prior distortion function type                 \n",
       "DP2     = 'EXTVER: 2' / Version number of WCSDVARR extension                    \n",
       "DP2     = 'NAXES: 2' / Number of independent variables in CPDIS function        \n",
       "DP2     = 'AXIS.1: 1' / Axis number of the 1st variable in a CPDIS function     \n",
       "DP2     = 'AXIS.2: 2' / Axis number of the 2nd variable in a CPDIS function     \n",
       "NPOLEXT = 'jref$xc215013j_npl.fits'                                             \n",
       "MDRIZSKY=                  0.0 / Sky value computed by AstroDrizzle             \n",
       "CUNIT1  = 'deg'                / Units of coordinate increment and value        \n",
       "CUNIT2  = 'deg'                / Units of coordinate increment and value        \n",
       "WCSNAMEA= 'IDC_v6m2008mj'      / Coordinate system title                        \n",
       "WCSAXESA=                    2 / Number of coordinate axes                      \n",
       "CRPIX1A =                512.0 / Pixel coordinate of reference point            \n",
       "CRPIX2A =                512.0 / Pixel coordinate of reference point            \n",
       "CUNIT1A = 'deg'                / Units of coordinate increment and value        \n",
       "CUNIT2A = 'deg'                / Units of coordinate increment and value        \n",
       "CTYPE1A = 'RA---TAN-SIP'       / TAN (gnomonic) projection + SIP distortions    \n",
       "CTYPE2A = 'DEC--TAN-SIP'       / TAN (gnomonic) projection + SIP distortions    \n",
       "CRVAL1A =      319.60113987155 / [deg] Coordinate value at reference point      \n",
       "CRVAL2A =     0.29187021763136 / [deg] Coordinate value at reference point      \n",
       "RADESYSA= 'ICRS'               / Equatorial coordinate system                   \n",
       "CD1_1A  = -4.3321151834662E-06 / partial of first axis coordinate w.r.t. x      \n",
       "CD1_2A  =  6.9987250211005E-06 / partial of first axis coordinate w.r.t. y      \n",
       "CD2_1A  =   8.300674997729E-06 / partial of second axis coordinate w.r.t. x     \n",
       "CD2_2A  =   4.564780315652E-06 / partial of second axis coordinate w.r.t. y     \n",
       "WCSTYPE = 'undistorted a priori solution based on GSC240'                       \n",
       "HDRNAME = 'jec401nrq_flt_6d59e9_hlet.fits'                                      \n",
       "WCSNAMEB= 'IDC_v6m2008mj-GSC240' / Coordinate system title                      \n",
       "WCSAXESB=                    2 / Number of coordinate axes                      \n",
       "CRPIX1B =                512.0 / Pixel coordinate of reference point            \n",
       "CRPIX2B =                512.0 / Pixel coordinate of reference point            \n",
       "CUNIT1B = 'deg'                / Units of coordinate increment and value        \n",
       "CUNIT2B = 'deg'                / Units of coordinate increment and value        \n",
       "CTYPE1B = 'RA---TAN-SIP'       / TAN (gnomonic) projection + SIP distortions    \n",
       "CTYPE2B = 'DEC--TAN-SIP'       / TAN (gnomonic) projection + SIP distortions    \n",
       "CRVAL1B =      319.60113936155 / [deg] Coordinate value at reference point      \n",
       "CRVAL2B =     0.29187045763134 / [deg] Coordinate value at reference point      \n",
       "RADESYSB= 'ICRS'               / Equatorial coordinate system                   \n",
       "CD1_1B  = -4.3321151746296E-06 / partial of first axis coordinate w.r.t. x      \n",
       "CD1_2B  =  6.9987250233819E-06 / partial of first axis coordinate w.r.t. y      \n",
       "CD2_1B  = 8.30067499086699E-06 / partial of second axis coordinate w.r.t. x     \n",
       "CD2_2B  =  4.5647803208634E-06 / partial of second axis coordinate w.r.t. y     \n",
       "WCSTYPEB= 'undistorted a priori solution based on GSC240'                       \n",
       "HDRNAMEB= 'jec401nrq_flt_6d59e9_hlet.fits'                                      \n",
       "WCSTYPEA= 'undistorted not aligned'                                             \n",
       "WCSTYPEO= 'pipeline default not aligned'                                        "
      ]
     },
     "execution_count": 60,
     "metadata": {},
     "output_type": "execute_result"
    }
   ],
   "source": [
    "nr_f[1].header"
   ]
  },
  {
   "cell_type": "code",
   "execution_count": null,
   "id": "d5f5e941",
   "metadata": {},
   "outputs": [],
   "source": [
    "nr_f[1].header"
   ]
  },
  {
   "cell_type": "code",
   "execution_count": 36,
   "id": "1786f8a6",
   "metadata": {},
   "outputs": [],
   "source": [
    "nonhap_ib = fits.open('jec403ibq_flt.fits')"
   ]
  },
  {
   "cell_type": "code",
   "execution_count": null,
   "id": "6e3c9555",
   "metadata": {},
   "outputs": [],
   "source": []
  },
  {
   "cell_type": "code",
   "execution_count": 37,
   "id": "a9bf55a7",
   "metadata": {},
   "outputs": [
    {
     "data": {
      "text/plain": [
       "XTENSION= 'IMAGE   '           / IMAGE extension                                \n",
       "BITPIX  =                  -32 / number of bits per data pixel                  \n",
       "NAXIS   =                    2 / number of data axes                            \n",
       "NAXIS1  =                 1024 / length of data axis 1                          \n",
       "NAXIS2  =                 1024 / length of data axis 2                          \n",
       "PCOUNT  =                    0 / required keyword; must = 0                     \n",
       "GCOUNT  =                    1 / required keyword; must = 1                     \n",
       "ORIGIN  = 'HSTIO/CFITSIO March 2010' / FITS file originator                     \n",
       "DATE    = '2022-04-13' / date this file was written (yyyy-mm-dd)                \n",
       "INHERIT =                    T / inherit the primary header                     \n",
       "EXTNAME = 'SCI     '           / extension name                                 \n",
       "EXTVER  =                    1 / extension version number                       \n",
       "ROOTNAME= 'jec403ibq                         ' / rootname of the observation set\n",
       "EXPNAME = 'jec403ibq                ' / exposure identifier                     \n",
       "BUNIT   = 'ELECTRONS'          / brightness units                               \n",
       "                                                                                \n",
       "              / World Coordinate System and Related Parameters                  \n",
       "                                                                                \n",
       "WCSAXES =                    2 / Number of coordinate axes                      \n",
       "CRPIX1  =               512.0  / Pixel coordinate of reference point            \n",
       "CRPIX2  =                512.0 / Pixel coordinate of reference point            \n",
       "CRVAL1  =      319.60070459856 / [deg] Coordinate value at reference point      \n",
       "CRVAL2  =     0.29136918174625 / [deg] Coordinate value at reference point      \n",
       "CTYPE1  = 'RA---TAN-SIP'       / TAN (gnomonic) projection + SIP distortions    \n",
       "CTYPE2  = 'DEC--TAN-SIP'       / TAN (gnomonic) projection + SIP distortions    \n",
       "CD1_1   = -5.1745970268303E-06 / partial of first axis coordinate w.r.t. x      \n",
       "CD1_2   =  6.4842485036551E-06 / partial of first axis coordinate w.r.t. y      \n",
       "CD2_1   = 7.80337350725270E-06 / partial of second axis coordinate w.r.t. x     \n",
       "CD2_2   =  5.2701444619314E-06 / partial of second axis coordinate w.r.t. y     \n",
       "LTV1    =                  0.0 / offset in X to subsection start                \n",
       "LTV2    =                  0.0 / offset in Y to subsection start                \n",
       "RAW_LTV1=                  0.0 / original offset in X to subsection start       \n",
       "RAW_LTV2=                  0.0 / original offset in Y to subsection start       \n",
       "LTM1_1  =                  1.0 / reciprocal of sampling rate in X               \n",
       "LTM2_2  =                  1.0 / reciprocal of sampling rate in Y               \n",
       "ORIENTAT=     50.8971336870121                                                  \n",
       "RA_APER =   3.195999809352E+02 / RA of aperture reference position              \n",
       "DEC_APER=   2.907861247296E-01 / Declination of aperture reference position     \n",
       "PA_APER =              50.9601 / Position Angle of reference aperture center (de\n",
       "VAFACTOR=   1.000102883113E+00 / velocity aberration plate scale factor         \n",
       "                                                                                \n",
       "              / READOUT DEFINITION PARAMETERS                                   \n",
       "                                                                                \n",
       "CENTERA1=                  513 / subarray axis1 center pt in unbinned dect. pix \n",
       "CENTERA2=                  513 / subarray axis2 center pt in unbinned dect. pix \n",
       "SIZAXIS1=                 1024 / subarray axis1 size in unbinned detector pixels\n",
       "SIZAXIS2=                 1024 / subarray axis2 size in unbinned detector pixels\n",
       "BINAXIS1=                    1 / axis1 data bin size in unbinned detector pixels\n",
       "BINAXIS2=                    1 / axis2 data bin size in unbinned detector pixels\n",
       "                                                                                \n",
       "              / PHOTOMETRY KEYWORDS                                             \n",
       "                                                                                \n",
       "PHOTMODE= 'ACS SBC F150LP MJD#59377.9640' / obser                               \n",
       "PHOTFLAM=        3.5315242E-17 / inverse sensitivity, ergs/cm2/Ang/electron     \n",
       "PHOTZPT =       -2.1100000E+01 / ST magnitude zero point                        \n",
       "PHOTPLAM=        1.6056531E+03 / Pivot wavelength (Angstroms)                   \n",
       "PHOTBW  =        1.0916668E+02 / RMS bandwidth of filter plus detector          \n",
       "                                                                                \n",
       "              / DATA PACKET INFORMATION                                         \n",
       "                                                                                \n",
       "FILLCNT =                    0 / number of segments containing fill             \n",
       "ERRCNT  =                    0 / number of segments containing errors           \n",
       "PODPSFF =                    F / podps fill present (T/F)                       \n",
       "STDCFFF =                    F / science telemetry fill data present (T=1/F=0)  \n",
       "STDCFFP = '0x5569'             / science telemetry fill pattern (hex)           \n",
       "                                                                                \n",
       "              / ENGINEERING PARAMETERS                                          \n",
       "                                                                                \n",
       "GLOBRATE=        49.1803278689 / global count rate                              \n",
       "GLOBLIM = 'NOT-EXCEEDED'       / was global linearity level exceeded?           \n",
       "MDECODT1=              17.4483 / MAMA jMDECODT pwb temp from eng snap 1 (deg. C)\n",
       "MDECODT2=              18.6693 / MAMA JMDECODT pwb temp from eng snap 2 (deg. C)\n",
       "                                                                                \n",
       "              / IMAGE STATISTICS AND DATA QUALITY FLAGS                         \n",
       "                                                                                \n",
       "NGOODPIX=              1027065 / number of good pixels                          \n",
       "SDQFLAGS=                31743 / serious data quality flags                     \n",
       "GOODMIN =        0.0000000E+00 / minimum value of good pixels                   \n",
       "GOODMAX =        1.6641729E+01 / maximum value of good pixels                   \n",
       "GOODMEAN=        9.0903677E-03 / mean value of good pixels                      \n",
       "SOFTERRS=                    0 / number of soft error pixels (DQF=1)            \n",
       "SNRMIN  =        0.0000000E+00 / minimum signal to noise of good pixels         \n",
       "SNRMAX  =        4.1197329E+00 / maximum signal to noise of good pixels         \n",
       "SNRMEAN =        8.7285368E-03 / mean value of signal to noise of good pixels   \n",
       "MEANDARK=             0.000000 / average of the dark values subtracted          \n",
       "RADESYS = 'ICRS    '           / Equatorial coordinate system                   \n",
       "S_REGION= 'POLYGON ICRS 319.60003805982495 0.28470960248225446 &'               \n",
       "CONTINUE  '319.6066615582099 0.29008078014781624 319.6013754254164 &'           \n",
       "CONTINUE  '0.2980517831624026 319.59475192485434 0.2926806024100732 '           \n",
       "OCX10   = 5.96685677010100E-05 / original linear term from IDCTAB               \n",
       "OCX11   =  0.03355217352509499 / original linear term from IDCTAB               \n",
       "OCY10   =  0.03007783554494381 / original linear term from IDCTAB               \n",
       "OCY11   =  0.00319520547054708 / original linear term from IDCTAB               \n",
       "IDCSCALE=  0.02500000037252903 / pixel scale from the IDCTAB reference file     \n",
       "IDCTHETA=                  0.0 / orientation of detector's Y-axis w.r.t. V3 axis\n",
       "IDCXREF =                512.0 / reference pixel location in X                  \n",
       "IDCYREF =                512.0 / reference pixel location in Y                  \n",
       "IDCV2REF=    205.2599945068359 / reference pixel's V2 position                  \n",
       "IDCV3REF=    469.8269958496094 / reference pixel's V3 position                  \n",
       "WCSNAMEO= 'OPUS    '           / Coordinate system title                        \n",
       "WCSAXESO=                    2 / Number of coordinate axes                      \n",
       "CRPIX1O =                512.0 / Pixel coordinate of reference point            \n",
       "CRPIX2O =                400.0 / Pixel coordinate of reference point            \n",
       "CUNIT1O = 'deg'                / Units of coordinate increment and value        \n",
       "CUNIT2O = 'deg'                / Units of coordinate increment and value        \n",
       "CTYPE1O = 'RA---TAN'           / Right ascension, gnomonic projection           \n",
       "CTYPE2O = 'DEC--TAN'           / Declination, gnomonic projection               \n",
       "CRVAL1O =       319.5999809352 / [deg] Coordinate value at reference point      \n",
       "CRVAL2O =      0.2907861247296 / [deg] Coordinate value at reference point      \n",
       "MJDREF  =                  0.0 / [d] MJD of fiducial time                       \n",
       "RADESYSO= 'ICRS'               / Equatorial coordinate system                   \n",
       "CD1_1O  =         -5.16722E-06 / partial of first axis coordinate w.r.t. x      \n",
       "CD1_2O  =           6.4745E-06 / partial of first axis coordinate w.r.t. y      \n",
       "CD2_1O  =          7.79179E-06 / partial of second axis coordinate w.r.t. x     \n",
       "CD2_2O  =          5.25042E-06 / partial of second axis coordinate w.r.t. y     \n",
       "IDCTAB  = 'jref$v6m2008mj_idc.fits'                                             \n",
       "A_ORDER =                    4 / SIP polynomial order, axis 0, detector to sky  \n",
       "B_ORDER =                    4 / SIP polynomial order, axis 1, detector to sky  \n",
       "A_0_2   = 3.71821579887969E-06 / SIP distortion coefficient                     \n",
       "B_0_2   = 1.00981392294935E-05 / SIP distortion coefficient                     \n",
       "A_1_1   = 1.17765432685549E-05 / SIP distortion coefficient                     \n",
       "B_1_1   = 2.42209952539204E-07 / SIP distortion coefficient                     \n",
       "A_2_0   =  -1.483933123209E-05 / SIP distortion coefficient                     \n",
       "B_2_0   = 4.22468848828112E-07 / SIP distortion coefficient                     \n",
       "A_0_3   = -4.0306486845335E-09 / SIP distortion coefficient                     \n",
       "B_0_3   =  1.6221563200793E-09 / SIP distortion coefficient                     \n",
       "A_1_2   = -2.6066792469435E-09 / SIP distortion coefficient                     \n",
       "B_1_2   = 5.06905748871357E-10 / SIP distortion coefficient                     \n",
       "A_2_1   = 1.34147484133598E-10 / SIP distortion coefficient                     \n",
       "B_2_1   = -7.4477974380425E-09 / SIP distortion coefficient                     \n",
       "A_3_0   =  4.3177243951969E-09 / SIP distortion coefficient                     \n",
       "B_3_0   = -3.1755220958671E-10 / SIP distortion coefficient                     \n",
       "A_0_4   = -2.7480196565056E-11 / SIP distortion coefficient                     \n",
       "B_0_4   = 2.49020089875116E-12 / SIP distortion coefficient                     \n",
       "A_1_3   = -1.1042562713082E-12 / SIP distortion coefficient                     \n",
       "B_1_3   = 6.52484192257676E-12 / SIP distortion coefficient                     \n",
       "A_2_2   = 3.32642166064284E-12 / SIP distortion coefficient                     \n",
       "B_2_2   = -3.0271615259304E-13 / SIP distortion coefficient                     \n",
       "A_3_1   = -8.7909628335581E-13 / SIP distortion coefficient                     \n",
       "B_3_1   = 4.43255209342228E-12 / SIP distortion coefficient                     \n",
       "A_4_0   = 1.46872345905909E-11 / SIP distortion coefficient                     \n",
       "B_4_0   = 7.43178117451922E-13 / SIP distortion coefficient                     \n",
       "WCSNAME = 'IDC_v6m2008mj-GSC240' / Coordinate system title                      \n",
       "CPERR1  = 0.007132729981094599 / Maximum error of NPOL correction for axis 1    \n",
       "CPDIS1  = 'Lookup  '           / Prior distortion function type                 \n",
       "DP1     = 'EXTVER: 1' / Version number of WCSDVARR extension                    \n",
       "DP1     = 'NAXES: 2' / Number of independent variables in CPDIS function        \n",
       "DP1     = 'AXIS.1: 1' / Axis number of the 1st variable in a CPDIS function     \n",
       "DP1     = 'AXIS.2: 2' / Axis number of the 2nd variable in a CPDIS function     \n",
       "CPERR2  = 0.009602183476090431 / Maximum error of NPOL correction for axis 2    \n",
       "CPDIS2  = 'Lookup  '           / Prior distortion function type                 \n",
       "DP2     = 'EXTVER: 2' / Version number of WCSDVARR extension                    \n",
       "DP2     = 'NAXES: 2' / Number of independent variables in CPDIS function        \n",
       "DP2     = 'AXIS.1: 1' / Axis number of the 1st variable in a CPDIS function     \n",
       "DP2     = 'AXIS.2: 2' / Axis number of the 2nd variable in a CPDIS function     \n",
       "NPOLEXT = 'jref$xc215013j_npl.fits'                                             \n",
       "MDRIZSKY=                  0.0 / Sky value computed by AstroDrizzle             \n",
       "CUNIT1  = 'deg'                / Units of coordinate increment and value        \n",
       "CUNIT2  = 'deg'                / Units of coordinate increment and value        \n",
       "WCSNAMEA= 'IDC_v6m2008mj'      / Coordinate system title                        \n",
       "WCSAXESA=                    2 / Number of coordinate axes                      \n",
       "CRPIX1A =                512.0 / Pixel coordinate of reference point            \n",
       "CRPIX2A =                512.0 / Pixel coordinate of reference point            \n",
       "CUNIT1A = 'deg'                / Units of coordinate increment and value        \n",
       "CUNIT2A = 'deg'                / Units of coordinate increment and value        \n",
       "CTYPE1A = 'RA---TAN-SIP'       / TAN (gnomonic) projection + SIP distortions    \n",
       "CTYPE2A = 'DEC--TAN-SIP'       / TAN (gnomonic) projection + SIP distortions    \n",
       "CRVAL1A =      319.60070608858 / [deg] Coordinate value at reference point      \n",
       "CRVAL2A =     0.29137417174626 / [deg] Coordinate value at reference point      \n",
       "RADESYSA= 'ICRS'               / Equatorial coordinate system                   \n",
       "CD1_1A  =  -5.174597033748E-06 / partial of first axis coordinate w.r.t. x      \n",
       "CD1_2A  =  6.4842485001797E-06 / partial of first axis coordinate w.r.t. y      \n",
       "CD2_1A  = 7.80337351648480E-06 / partial of second axis coordinate w.r.t. x     \n",
       "CD2_2A  =  5.2701444507193E-06 / partial of second axis coordinate w.r.t. y     \n",
       "WCSTYPE = 'undistorted a priori solution based on GSC240'                       \n",
       "HDRNAME = 'jec403ibq_flt_6d59e9_hlet.fits'                                      \n",
       "WCSNAMEB= 'IDC_v6m2008mj-GSC240' / Coordinate system title                      \n",
       "WCSAXESB=                    2 / Number of coordinate axes                      \n",
       "CRPIX1B =                512.0 / Pixel coordinate of reference point            \n",
       "CRPIX2B =                512.0 / Pixel coordinate of reference point            \n",
       "CUNIT1B = 'deg'                / Units of coordinate increment and value        \n",
       "CUNIT2B = 'deg'                / Units of coordinate increment and value        \n",
       "CTYPE1B = 'RA---TAN-SIP'       / TAN (gnomonic) projection + SIP distortions    \n",
       "CTYPE2B = 'DEC--TAN-SIP'       / TAN (gnomonic) projection + SIP distortions    \n",
       "CRVAL1B =      319.60070459856 / [deg] Coordinate value at reference point      \n",
       "CRVAL2B =     0.29136918174625 / [deg] Coordinate value at reference point      \n",
       "RADESYSB= 'ICRS'               / Equatorial coordinate system                   \n",
       "CD1_1B  = -5.1745970268303E-06 / partial of first axis coordinate w.r.t. x      \n",
       "CD1_2B  =  6.4842485036551E-06 / partial of first axis coordinate w.r.t. y      \n",
       "CD2_1B  = 7.80337350725270E-06 / partial of second axis coordinate w.r.t. x     \n",
       "CD2_2B  =  5.2701444619314E-06 / partial of second axis coordinate w.r.t. y     \n",
       "WCSTYPEB= 'undistorted a priori solution based on GSC240'                       \n",
       "HDRNAMEB= 'jec403ibq_flt_6d59e9_hlet.fits'                                      \n",
       "WCSTYPEA= 'undistorted not aligned'                                             \n",
       "WCSTYPEO= 'pipeline default not aligned'                                        "
      ]
     },
     "execution_count": 37,
     "metadata": {},
     "output_type": "execute_result"
    }
   ],
   "source": [
    "nonhap_ib[1].header"
   ]
  },
  {
   "cell_type": "code",
   "execution_count": 41,
   "id": "7897308d",
   "metadata": {},
   "outputs": [
    {
     "data": {
      "text/plain": [
       "XTENSION= 'IMAGE   '           / IMAGE extension                                \n",
       "BITPIX  =                  -32 / number of bits per data pixel                  \n",
       "NAXIS   =                    2 / number of data axes                            \n",
       "NAXIS1  =                 1024 / length of data axis 1                          \n",
       "NAXIS2  =                 1024 / length of data axis 2                          \n",
       "PCOUNT  =                    0 / required keyword; must = 0                     \n",
       "GCOUNT  =                    1 / required keyword; must = 1                     \n",
       "ORIGIN  = 'HSTIO/CFITSIO March 2010' / FITS file originator                     \n",
       "DATE    = '2022-04-13' / date this file was written (yyyy-mm-dd)                \n",
       "INHERIT =                    T / inherit the primary header                     \n",
       "EXTNAME = 'SCI     '           / extension name                                 \n",
       "EXTVER  =                    1 / extension version number                       \n",
       "ROOTNAME= 'jec403ibq                         ' / rootname of the observation set\n",
       "EXPNAME = 'jec403ibq                ' / exposure identifier                     \n",
       "BUNIT   = 'ELECTRONS'          / brightness units                               \n",
       "                                                                                \n",
       "              / World Coordinate System and Related Parameters                  \n",
       "                                                                                \n",
       "WCSAXES =                    2 / Number of coordinate axes                      \n",
       "CRPIX1  =               512.0  / Pixel coordinate of reference point            \n",
       "CRPIX2  =                512.0 / Pixel coordinate of reference point            \n",
       "CRVAL1  =      319.60070459856 / [deg] Coordinate value at reference point      \n",
       "CRVAL2  =     0.29136918174625 / [deg] Coordinate value at reference point      \n",
       "CTYPE1  = 'RA---TAN-SIP'       / TAN (gnomonic) projection + SIP distortions    \n",
       "CTYPE2  = 'DEC--TAN-SIP'       / TAN (gnomonic) projection + SIP distortions    \n",
       "CD1_1   = -5.1745970268303E-06 / partial of first axis coordinate w.r.t. x      \n",
       "CD1_2   =  6.4842485036551E-06 / partial of first axis coordinate w.r.t. y      \n",
       "CD2_1   = 7.80337350725270E-06 / partial of second axis coordinate w.r.t. x     \n",
       "CD2_2   =  5.2701444619314E-06 / partial of second axis coordinate w.r.t. y     \n",
       "LTV1    =                  0.0 / offset in X to subsection start                \n",
       "LTV2    =                  0.0 / offset in Y to subsection start                \n",
       "RAW_LTV1=                  0.0 / original offset in X to subsection start       \n",
       "RAW_LTV2=                  0.0 / original offset in Y to subsection start       \n",
       "LTM1_1  =                  1.0 / reciprocal of sampling rate in X               \n",
       "LTM2_2  =                  1.0 / reciprocal of sampling rate in Y               \n",
       "ORIENTAT=    50.89713368701207                                                  \n",
       "RA_APER =   3.195999809352E+02 / RA of aperture reference position              \n",
       "DEC_APER=   2.907861247296E-01 / Declination of aperture reference position     \n",
       "PA_APER =              50.9601 / Position Angle of reference aperture center (de\n",
       "VAFACTOR=   1.000102883113E+00 / velocity aberration plate scale factor         \n",
       "                                                                                \n",
       "              / READOUT DEFINITION PARAMETERS                                   \n",
       "                                                                                \n",
       "CENTERA1=                  513 / subarray axis1 center pt in unbinned dect. pix \n",
       "CENTERA2=                  513 / subarray axis2 center pt in unbinned dect. pix \n",
       "SIZAXIS1=                 1024 / subarray axis1 size in unbinned detector pixels\n",
       "SIZAXIS2=                 1024 / subarray axis2 size in unbinned detector pixels\n",
       "BINAXIS1=                    1 / axis1 data bin size in unbinned detector pixels\n",
       "BINAXIS2=                    1 / axis2 data bin size in unbinned detector pixels\n",
       "                                                                                \n",
       "              / PHOTOMETRY KEYWORDS                                             \n",
       "                                                                                \n",
       "PHOTMODE= 'ACS SBC F150LP MJD#59377.9640' / obser                               \n",
       "PHOTFLAM=        3.5315242E-17 / inverse sensitivity, ergs/cm2/Ang/electron     \n",
       "PHOTZPT =       -2.1100000E+01 / ST magnitude zero point                        \n",
       "PHOTPLAM=        1.6056531E+03 / Pivot wavelength (Angstroms)                   \n",
       "PHOTBW  =        1.0916668E+02 / RMS bandwidth of filter plus detector          \n",
       "                                                                                \n",
       "              / DATA PACKET INFORMATION                                         \n",
       "                                                                                \n",
       "FILLCNT =                    0 / number of segments containing fill             \n",
       "ERRCNT  =                    0 / number of segments containing errors           \n",
       "PODPSFF =                    F / podps fill present (T/F)                       \n",
       "STDCFFF =                    F / science telemetry fill data present (T=1/F=0)  \n",
       "STDCFFP = '0x5569'             / science telemetry fill pattern (hex)           \n",
       "                                                                                \n",
       "              / ENGINEERING PARAMETERS                                          \n",
       "                                                                                \n",
       "GLOBRATE=        49.1803278689 / global count rate                              \n",
       "GLOBLIM = 'NOT-EXCEEDED'       / was global linearity level exceeded?           \n",
       "MDECODT1=              17.4483 / MAMA jMDECODT pwb temp from eng snap 1 (deg. C)\n",
       "MDECODT2=              18.6693 / MAMA JMDECODT pwb temp from eng snap 2 (deg. C)\n",
       "                                                                                \n",
       "              / IMAGE STATISTICS AND DATA QUALITY FLAGS                         \n",
       "                                                                                \n",
       "NGOODPIX=              1027065 / number of good pixels                          \n",
       "SDQFLAGS=                31743 / serious data quality flags                     \n",
       "GOODMIN =        0.0000000E+00 / minimum value of good pixels                   \n",
       "GOODMAX =        1.6641729E+01 / maximum value of good pixels                   \n",
       "GOODMEAN=        9.0903677E-03 / mean value of good pixels                      \n",
       "SOFTERRS=                    0 / number of soft error pixels (DQF=1)            \n",
       "SNRMIN  =        0.0000000E+00 / minimum signal to noise of good pixels         \n",
       "SNRMAX  =        4.1197329E+00 / maximum signal to noise of good pixels         \n",
       "SNRMEAN =        8.7285368E-03 / mean value of signal to noise of good pixels   \n",
       "MEANDARK=             0.000000 / average of the dark values subtracted          \n",
       "RADESYS = 'ICRS    '           / Equatorial coordinate system                   \n",
       "S_REGION= 'POLYGON ICRS 319.60003805982495 0.28470960248225446 &'               \n",
       "CONTINUE  '319.6066615582099 0.29008078014781624 319.6013754254164 &'           \n",
       "CONTINUE  '0.2980517831624026 319.59475192485434 0.2926806024100732 '           \n",
       "OCX10   = 5.96685677010100E-05 / original linear term from IDCTAB               \n",
       "OCX11   =  0.03355217352509499 / original linear term from IDCTAB               \n",
       "OCY10   =  0.03007783554494381 / original linear term from IDCTAB               \n",
       "OCY11   =  0.00319520547054708 / original linear term from IDCTAB               \n",
       "IDCSCALE=  0.02500000037252903 / pixel scale from the IDCTAB reference file     \n",
       "IDCTHETA=                  0.0 / orientation of detector's Y-axis w.r.t. V3 axis\n",
       "IDCXREF =                512.0 / reference pixel location in X                  \n",
       "IDCYREF =                512.0 / reference pixel location in Y                  \n",
       "IDCV2REF=    205.2599945068359 / reference pixel's V2 position                  \n",
       "IDCV3REF=    469.8269958496094 / reference pixel's V3 position                  \n",
       "WCSNAMEO= 'OPUS    '           / Coordinate system title                        \n",
       "WCSAXESO=                    2 / Number of coordinate axes                      \n",
       "CRPIX1O =                512.0 / Pixel coordinate of reference point            \n",
       "CRPIX2O =                400.0 / Pixel coordinate of reference point            \n",
       "CUNIT1O = 'deg'                / Units of coordinate increment and value        \n",
       "CUNIT2O = 'deg'                / Units of coordinate increment and value        \n",
       "CTYPE1O = 'RA---TAN'           / Right ascension, gnomonic projection           \n",
       "CTYPE2O = 'DEC--TAN'           / Declination, gnomonic projection               \n",
       "CRVAL1O =       319.5999809352 / [deg] Coordinate value at reference point      \n",
       "CRVAL2O =      0.2907861247296 / [deg] Coordinate value at reference point      \n",
       "RADESYSO= 'ICRS'               / Equatorial coordinate system                   \n",
       "CD1_1O  =         -5.16722E-06 / partial of first axis coordinate w.r.t. x      \n",
       "CD1_2O  =           6.4745E-06 / partial of first axis coordinate w.r.t. y      \n",
       "CD2_1O  =          7.79179E-06 / partial of second axis coordinate w.r.t. x     \n",
       "CD2_2O  =          5.25042E-06 / partial of second axis coordinate w.r.t. y     \n",
       "IDCTAB  = 'jref$v6m2008mj_idc.fits'                                             \n",
       "A_ORDER =                    4 / SIP polynomial order, axis 0, detector to sky  \n",
       "B_ORDER =                    4 / SIP polynomial order, axis 1, detector to sky  \n",
       "A_0_2   = 3.71821579887969E-06 / SIP distortion coefficient                     \n",
       "B_0_2   = 1.00981392294935E-05 / SIP distortion coefficient                     \n",
       "A_1_1   = 1.17765432685549E-05 / SIP distortion coefficient                     \n",
       "B_1_1   = 2.42209952539204E-07 / SIP distortion coefficient                     \n",
       "A_2_0   =  -1.483933123209E-05 / SIP distortion coefficient                     \n",
       "B_2_0   = 4.22468848828112E-07 / SIP distortion coefficient                     \n",
       "A_0_3   = -4.0306486845335E-09 / SIP distortion coefficient                     \n",
       "B_0_3   =  1.6221563200793E-09 / SIP distortion coefficient                     \n",
       "A_1_2   = -2.6066792469435E-09 / SIP distortion coefficient                     \n",
       "B_1_2   = 5.06905748871357E-10 / SIP distortion coefficient                     \n",
       "A_2_1   = 1.34147484133598E-10 / SIP distortion coefficient                     \n",
       "B_2_1   = -7.4477974380425E-09 / SIP distortion coefficient                     \n",
       "A_3_0   =  4.3177243951969E-09 / SIP distortion coefficient                     \n",
       "B_3_0   = -3.1755220958671E-10 / SIP distortion coefficient                     \n",
       "A_0_4   = -2.7480196565056E-11 / SIP distortion coefficient                     \n",
       "B_0_4   = 2.49020089875116E-12 / SIP distortion coefficient                     \n",
       "A_1_3   = -1.1042562713082E-12 / SIP distortion coefficient                     \n",
       "B_1_3   = 6.52484192257676E-12 / SIP distortion coefficient                     \n",
       "A_2_2   = 3.32642166064284E-12 / SIP distortion coefficient                     \n",
       "B_2_2   = -3.0271615259304E-13 / SIP distortion coefficient                     \n",
       "A_3_1   = -8.7909628335581E-13 / SIP distortion coefficient                     \n",
       "B_3_1   = 4.43255209342228E-12 / SIP distortion coefficient                     \n",
       "A_4_0   = 1.46872345905909E-11 / SIP distortion coefficient                     \n",
       "B_4_0   = 7.43178117451922E-13 / SIP distortion coefficient                     \n",
       "WCSNAME = 'TWEAK   '           / Coordinate system title                        \n",
       "WCSTYPE = 'not aligned: reference'                                              \n",
       "CPERR1  = 0.007132729981094599 / Maximum error of NPOL correction for axis 1    \n",
       "CPDIS1  = 'Lookup  '           / Prior distortion function type                 \n",
       "DP1     = 'EXTVER: 1' / Version number of WCSDVARR extension                    \n",
       "DP1     = 'NAXES: 2' / Number of independent variables in CPDIS function        \n",
       "DP1     = 'AXIS.1: 1' / Axis number of the 1st variable in a CPDIS function     \n",
       "DP1     = 'AXIS.2: 2' / Axis number of the 2nd variable in a CPDIS function     \n",
       "CPERR2  = 0.009602183476090431 / Maximum error of NPOL correction for axis 2    \n",
       "CPDIS2  = 'Lookup  '           / Prior distortion function type                 \n",
       "DP2     = 'EXTVER: 2' / Version number of WCSDVARR extension                    \n",
       "DP2     = 'NAXES: 2' / Number of independent variables in CPDIS function        \n",
       "DP2     = 'AXIS.1: 1' / Axis number of the 1st variable in a CPDIS function     \n",
       "DP2     = 'AXIS.2: 2' / Axis number of the 2nd variable in a CPDIS function     \n",
       "NPOLEXT = 'jref$xc215013j_npl.fits'                                             \n",
       "MDRIZSKY=                  0.0 / Sky value computed by AstroDrizzle             \n",
       "CUNIT1  = 'deg'                / Units of coordinate increment and value        \n",
       "CUNIT2  = 'deg'                / Units of coordinate increment and value        \n",
       "WCSNAMEA= 'IDC_v6m2008mj'      / Coordinate system title                        \n",
       "WCSAXESA=                    2 / Number of coordinate axes                      \n",
       "CRPIX1A =                512.0 / Pixel coordinate of reference point            \n",
       "CRPIX2A =                512.0 / Pixel coordinate of reference point            \n",
       "CUNIT1A = 'deg'                / Units of coordinate increment and value        \n",
       "CUNIT2A = 'deg'                / Units of coordinate increment and value        \n",
       "CTYPE1A = 'RA---TAN-SIP'       / TAN (gnomonic) projection + SIP distortions    \n",
       "CTYPE2A = 'DEC--TAN-SIP'       / TAN (gnomonic) projection + SIP distortions    \n",
       "CRVAL1A =      319.60070608858 / [deg] Coordinate value at reference point      \n",
       "CRVAL2A =     0.29137417174626 / [deg] Coordinate value at reference point      \n",
       "RADESYSA= 'ICRS'               / Equatorial coordinate system                   \n",
       "CD1_1A  =  -5.174597033748E-06 / partial of first axis coordinate w.r.t. x      \n",
       "CD1_2A  =  6.4842485001797E-06 / partial of first axis coordinate w.r.t. y      \n",
       "CD2_1A  = 7.80337351648480E-06 / partial of second axis coordinate w.r.t. x     \n",
       "CD2_2A  =  5.2701444507193E-06 / partial of second axis coordinate w.r.t. y     \n",
       "HDRNAME = 'jec403ibq_flt_6d59e9_hlet.fits'                                      \n",
       "WCSTYPEA= 'undistorted not aligned'                                             \n",
       "WCSTYPEO= 'pipeline default not aligned'                                        \n",
       "WCSNAMEB= 'IDC_v6m2008mj-GSC240-1' / Coordinate system title                    \n",
       "WCSAXESB=                    2 / Number of coordinate axes                      \n",
       "CRPIX1B =                512.0 / Pixel coordinate of reference point            \n",
       "CRPIX2B =                512.0 / Pixel coordinate of reference point            \n",
       "CUNIT1B = 'deg'                / Units of coordinate increment and value        \n",
       "CUNIT2B = 'deg'                / Units of coordinate increment and value        \n",
       "CTYPE1B = 'RA---TAN-SIP'       / TAN (gnomonic) projection + SIP distortions    \n",
       "CTYPE2B = 'DEC--TAN-SIP'       / TAN (gnomonic) projection + SIP distortions    \n",
       "CRVAL1B =      319.60070459856 / [deg] Coordinate value at reference point      \n",
       "CRVAL2B =     0.29136918174625 / [deg] Coordinate value at reference point      \n",
       "MJDREF  =                  0.0 / [d] MJD of fiducial time                       \n",
       "RADESYSB= 'ICRS'               / Equatorial coordinate system                   \n",
       "CD1_1B  = -5.1745970268303E-06 / partial of first axis coordinate w.r.t. x      \n",
       "CD1_2B  =  6.4842485036551E-06 / partial of first axis coordinate w.r.t. y      \n",
       "CD2_1B  = 7.80337350725270E-06 / partial of second axis coordinate w.r.t. x     \n",
       "CD2_2B  =  5.2701444619314E-06 / partial of second axis coordinate w.r.t. y     \n",
       "WCSTYPEB= 'undistorted a priori solution based on GSC240'                       \n",
       "HDRNAMEB= 'jec403ibq_flt_6d59e9_hlet.fits'                                      "
      ]
     },
     "execution_count": 41,
     "metadata": {},
     "output_type": "execute_result"
    }
   ],
   "source": [
    "ib_f[1].header"
   ]
  },
  {
   "cell_type": "code",
   "execution_count": 125,
   "id": "c2f673c3",
   "metadata": {},
   "outputs": [
    {
     "data": {
      "text/plain": [
       "<matplotlib.image.AxesImage at 0x7fc42da3b5e0>"
      ]
     },
     "execution_count": 125,
     "metadata": {},
     "output_type": "execute_result"
    },
    {
     "data": {
      "image/png": "[encoded data removed]",
      "text/plain": [
       "<Figure size 432x288 with 1 Axes>"
      ]
     },
     "metadata": {
      "needs_background": "light"
     },
     "output_type": "display_data"
    }
   ],
   "source": [
    "plt.imshow(data[412:425, 482:494])"
   ]
  },
  {
   "cell_type": "code",
   "execution_count": 195,
   "id": "77665e6f",
   "metadata": {},
   "outputs": [
    {
     "data": {
      "text/plain": [
       "XTENSION= 'IMAGE   '           / IMAGE extension                                \n",
       "BITPIX  =                  -32 / number of bits per data pixel                  \n",
       "NAXIS   =                    2 / number of data axes                            \n",
       "NAXIS1  =                 1024 / length of data axis 1                          \n",
       "NAXIS2  =                 1024 / length of data axis 2                          \n",
       "PCOUNT  =                    0 / required keyword; must = 0                     \n",
       "GCOUNT  =                    1 / required keyword; must = 1                     \n",
       "ORIGIN  = 'HSTIO/CFITSIO March 2010' / FITS file originator                     \n",
       "DATE    = '2022-04-13' / date this file was written (yyyy-mm-dd)                \n",
       "INHERIT =                    T / inherit the primary header                     \n",
       "EXTNAME = 'SCI     '           / extension name                                 \n",
       "EXTVER  =                    1 / extension version number                       \n",
       "ROOTNAME= 'jec401noq                         ' / rootname of the observation set\n",
       "EXPNAME = 'jec401noq                ' / exposure identifier                     \n",
       "BUNIT   = 'ELECTRONS'          / brightness units                               \n",
       "                                                                                \n",
       "              / World Coordinate System and Related Parameters                  \n",
       "                                                                                \n",
       "WCSAXES =                    2 / Number of coordinate axes                      \n",
       "CRPIX1  =               512.0  / Pixel coordinate of reference point            \n",
       "CRPIX2  =                512.0 / Pixel coordinate of reference point            \n",
       "CRVAL1  =      319.60108387516 / [deg] Coordinate value at reference point      \n",
       "CRVAL2  =     0.29211273315455 / [deg] Coordinate value at reference point      \n",
       "CTYPE1  = 'RA---TAN-SIP'       / TAN (gnomonic) projection + SIP distortions    \n",
       "CTYPE2  = 'DEC--TAN-SIP'       / TAN (gnomonic) projection + SIP distortions    \n",
       "CD1_1   = -4.3321713358048E-06 / partial of first axis coordinate w.r.t. x      \n",
       "CD1_2   =  6.9988159110091E-06 / partial of first axis coordinate w.r.t. y      \n",
       "CD2_1   = 8.30078281974540E-06 / partial of second axis coordinate w.r.t. x     \n",
       "CD2_2   =  4.5648394920114E-06 / partial of second axis coordinate w.r.t. y     \n",
       "LTV1    =                  0.0 / offset in X to subsection start                \n",
       "LTV2    =                  0.0 / offset in Y to subsection start                \n",
       "RAW_LTV1=                  0.0 / original offset in X to subsection start       \n",
       "RAW_LTV2=                  0.0 / original offset in Y to subsection start       \n",
       "LTM1_1  =                  1.0 / reciprocal of sampling rate in X               \n",
       "LTM2_2  =                  1.0 / reciprocal of sampling rate in Y               \n",
       "ORIENTAT=    56.88639321834458                                                  \n",
       "RA_APER =   3.196003018310E+02 / RA of aperture reference position              \n",
       "DEC_APER=   2.916033187818E-01 / Declination of aperture reference position     \n",
       "PA_APER =              56.9494 / Position Angle of reference aperture center (de\n",
       "VAFACTOR=   1.000112074839E+00 / velocity aberration plate scale factor         \n",
       "                                                                                \n",
       "              / READOUT DEFINITION PARAMETERS                                   \n",
       "                                                                                \n",
       "CENTERA1=                  513 / subarray axis1 center pt in unbinned dect. pix \n",
       "CENTERA2=                  513 / subarray axis2 center pt in unbinned dect. pix \n",
       "SIZAXIS1=                 1024 / subarray axis1 size in unbinned detector pixels\n",
       "SIZAXIS2=                 1024 / subarray axis2 size in unbinned detector pixels\n",
       "BINAXIS1=                    1 / axis1 data bin size in unbinned detector pixels\n",
       "BINAXIS2=                    1 / axis2 data bin size in unbinned detector pixels\n",
       "                                                                                \n",
       "              / PHOTOMETRY KEYWORDS                                             \n",
       "                                                                                \n",
       "PHOTMODE= 'ACS SBC F150LP MJD#59361.2852' / obser                               \n",
       "PHOTFLAM=        3.5315768E-17 / inverse sensitivity, ergs/cm2/Ang/electron     \n",
       "PHOTZPT =       -2.1100000E+01 / ST magnitude zero point                        \n",
       "PHOTPLAM=        1.6056531E+03 / Pivot wavelength (Angstroms)                   \n",
       "PHOTBW  =        1.0916668E+02 / RMS bandwidth of filter plus detector          \n",
       "                                                                                \n",
       "              / DATA PACKET INFORMATION                                         \n",
       "                                                                                \n",
       "FILLCNT =                    0 / number of segments containing fill             \n",
       "ERRCNT  =                    0 / number of segments containing errors           \n",
       "PODPSFF =                    F / podps fill present (T/F)                       \n",
       "STDCFFF =                    F / science telemetry fill data present (T=1/F=0)  \n",
       "STDCFFP = '0x5569'             / science telemetry fill pattern (hex)           \n",
       "                                                                                \n",
       "              / ENGINEERING PARAMETERS                                          \n",
       "                                                                                \n",
       "GLOBRATE=        49.1803278689 / global count rate                              \n",
       "GLOBLIM = 'NOT-EXCEEDED'       / was global linearity level exceeded?           \n",
       "MDECODT1=              18.4251 / MAMA jMDECODT pwb temp from eng snap 1 (deg. C)\n",
       "MDECODT2=              19.6461 / MAMA JMDECODT pwb temp from eng snap 2 (deg. C)\n",
       "                                                                                \n",
       "              / IMAGE STATISTICS AND DATA QUALITY FLAGS                         \n",
       "                                                                                \n",
       "NGOODPIX=              1027065 / number of good pixels                          \n",
       "SDQFLAGS=                31743 / serious data quality flags                     \n",
       "GOODMIN =        0.0000000E+00 / minimum value of good pixels                   \n",
       "GOODMAX =        1.4736766E+01 / maximum value of good pixels                   \n",
       "GOODMEAN=        1.1522267E-02 / mean value of good pixels                      \n",
       "SOFTERRS=                    0 / number of soft error pixels (DQF=1)            \n",
       "SNRMIN  =        0.0000000E+00 / minimum signal to noise of good pixels         \n",
       "SNRMAX  =        3.9974158E+00 / maximum signal to noise of good pixels         \n",
       "SNRMEAN =        1.1135885E-02 / mean value of signal to noise of good pixels   \n",
       "MEANDARK=             0.000000 / average of the dark values subtracted          \n",
       "RADESYS = 'ICRS    '           / Equatorial coordinate system                   \n",
       "S_REGION= 'POLYGON ICRS 319.5997245968344 0.28555400236979545 &'                \n",
       "CONTINUE  '319.60687238925135 0.29020476305387116 319.6024468361284 &'          \n",
       "CONTINUE  '0.29868381837646 319.5952990401411 0.2940330548995228 '              \n",
       "OCX10   = 5.96685677010100E-05 / original linear term from IDCTAB               \n",
       "OCX11   =  0.03355217352509499 / original linear term from IDCTAB               \n",
       "OCY10   =  0.03007783554494381 / original linear term from IDCTAB               \n",
       "OCY11   =  0.00319520547054708 / original linear term from IDCTAB               \n",
       "IDCSCALE=  0.02500000037252903 / pixel scale from the IDCTAB reference file     \n",
       "IDCTHETA=                  0.0 / orientation of detector's Y-axis w.r.t. V3 axis\n",
       "IDCXREF =                512.0 / reference pixel location in X                  \n",
       "IDCYREF =                512.0 / reference pixel location in Y                  \n",
       "IDCV2REF=    205.2599945068359 / reference pixel's V2 position                  \n",
       "IDCV3REF=    469.8269958496094 / reference pixel's V3 position                  \n",
       "WCSNAMEO= 'OPUS    '           / Coordinate system title                        \n",
       "WCSAXESO=                    2 / Number of coordinate axes                      \n",
       "CRPIX1O =                512.0 / Pixel coordinate of reference point            \n",
       "CRPIX2O =                400.0 / Pixel coordinate of reference point            \n",
       "CUNIT1O = 'deg'                / Units of coordinate increment and value        \n",
       "CUNIT2O = 'deg'                / Units of coordinate increment and value        \n",
       "CTYPE1O = 'RA---TAN'           / Right ascension, gnomonic projection           \n",
       "CTYPE2O = 'DEC--TAN'           / Declination, gnomonic projection               \n",
       "CRVAL1O =        319.600301831 / [deg] Coordinate value at reference point      \n",
       "CRVAL2O =      0.2916033187818 / [deg] Coordinate value at reference point      \n",
       "MJDREF  =                  0.0 / [d] MJD of fiducial time                       \n",
       "RADESYSO= 'ICRS'               / Equatorial coordinate system                   \n",
       "CD1_1O  =           -4.326E-06 / partial of first axis coordinate w.r.t. x      \n",
       "CD1_2O  =            6.987E-06 / partial of first axis coordinate w.r.t. y      \n",
       "CD2_1O  =          8.28842E-06 / partial of second axis coordinate w.r.t. x     \n",
       "CD2_2O  =           4.5462E-06 / partial of second axis coordinate w.r.t. y     \n",
       "IDCTAB  = 'jref$v6m2008mj_idc.fits'                                             \n",
       "A_ORDER =                    4 / SIP polynomial order, axis 0, detector to sky  \n",
       "B_ORDER =                    4 / SIP polynomial order, axis 1, detector to sky  \n",
       "A_0_2   = 3.71821579887969E-06 / SIP distortion coefficient                     \n",
       "B_0_2   = 1.00981392294935E-05 / SIP distortion coefficient                     \n",
       "A_1_1   = 1.17765432685549E-05 / SIP distortion coefficient                     \n",
       "B_1_1   = 2.42209952539204E-07 / SIP distortion coefficient                     \n",
       "A_2_0   =  -1.483933123209E-05 / SIP distortion coefficient                     \n",
       "B_2_0   = 4.22468848828112E-07 / SIP distortion coefficient                     \n",
       "A_0_3   = -4.0306486845335E-09 / SIP distortion coefficient                     \n",
       "B_0_3   =  1.6221563200793E-09 / SIP distortion coefficient                     \n",
       "A_1_2   = -2.6066792469435E-09 / SIP distortion coefficient                     \n",
       "B_1_2   = 5.06905748871357E-10 / SIP distortion coefficient                     \n",
       "A_2_1   = 1.34147484133598E-10 / SIP distortion coefficient                     \n",
       "B_2_1   = -7.4477974380425E-09 / SIP distortion coefficient                     \n",
       "A_3_0   =  4.3177243951969E-09 / SIP distortion coefficient                     \n",
       "B_3_0   = -3.1755220958671E-10 / SIP distortion coefficient                     \n",
       "A_0_4   = -2.7480196565056E-11 / SIP distortion coefficient                     \n",
       "B_0_4   = 2.49020089875116E-12 / SIP distortion coefficient                     \n",
       "A_1_3   = -1.1042562713082E-12 / SIP distortion coefficient                     \n",
       "B_1_3   = 6.52484192257676E-12 / SIP distortion coefficient                     \n",
       "A_2_2   = 3.32642166064284E-12 / SIP distortion coefficient                     \n",
       "B_2_2   = -3.0271615259304E-13 / SIP distortion coefficient                     \n",
       "A_3_1   = -8.7909628335581E-13 / SIP distortion coefficient                     \n",
       "B_3_1   = 4.43255209342228E-12 / SIP distortion coefficient                     \n",
       "A_4_0   = 1.46872345905909E-11 / SIP distortion coefficient                     \n",
       "B_4_0   = 7.43178117451922E-13 / SIP distortion coefficient                     \n",
       "WCSNAME = 'IDC_v6m2008mj-GSC240' / Coordinate system title                      \n",
       "CPERR1  = 0.007132729981094599 / Maximum error of NPOL correction for axis 1    \n",
       "CPDIS1  = 'Lookup  '           / Prior distortion function type                 \n",
       "DP1     = 'EXTVER: 1' / Version number of WCSDVARR extension                    \n",
       "DP1     = 'NAXES: 2' / Number of independent variables in CPDIS function        \n",
       "DP1     = 'AXIS.1: 1' / Axis number of the 1st variable in a CPDIS function     \n",
       "DP1     = 'AXIS.2: 2' / Axis number of the 2nd variable in a CPDIS function     \n",
       "CPERR2  = 0.009602183476090431 / Maximum error of NPOL correction for axis 2    \n",
       "CPDIS2  = 'Lookup  '           / Prior distortion function type                 \n",
       "DP2     = 'EXTVER: 2' / Version number of WCSDVARR extension                    \n",
       "DP2     = 'NAXES: 2' / Number of independent variables in CPDIS function        \n",
       "DP2     = 'AXIS.1: 1' / Axis number of the 1st variable in a CPDIS function     \n",
       "DP2     = 'AXIS.2: 2' / Axis number of the 2nd variable in a CPDIS function     \n",
       "NPOLEXT = 'jref$xc215013j_npl.fits'                                             \n",
       "MDRIZSKY=                  0.0 / Sky value computed by AstroDrizzle             \n",
       "CUNIT1  = 'deg'                / Units of coordinate increment and value        \n",
       "CUNIT2  = 'deg'                / Units of coordinate increment and value        \n",
       "WCSNAMEA= 'IDC_v6m2008mj'      / Coordinate system title                        \n",
       "WCSAXESA=                    2 / Number of coordinate axes                      \n",
       "CRPIX1A =                512.0 / Pixel coordinate of reference point            \n",
       "CRPIX2A =                512.0 / Pixel coordinate of reference point            \n",
       "CUNIT1A = 'deg'                / Units of coordinate increment and value        \n",
       "CUNIT2A = 'deg'                / Units of coordinate increment and value        \n",
       "CTYPE1A = 'RA---TAN-SIP'       / TAN (gnomonic) projection + SIP distortions    \n",
       "CTYPE2A = 'DEC--TAN-SIP'       / TAN (gnomonic) projection + SIP distortions    \n",
       "CRVAL1A =      319.60108438517 / [deg] Coordinate value at reference point      \n",
       "CRVAL2A =     0.29211249315454 / [deg] Coordinate value at reference point      \n",
       "RADESYSA= 'ICRS'               / Equatorial coordinate system                   \n",
       "CD1_1A  = -4.3321713372253E-06 / partial of first axis coordinate w.r.t. x      \n",
       "CD1_2A  =  6.9988159105465E-06 / partial of first axis coordinate w.r.t. y      \n",
       "CD2_1A  =  8.3007828284963E-06 / partial of second axis coordinate w.r.t. x     \n",
       "CD2_2A  =  4.5648394983595E-06 / partial of second axis coordinate w.r.t. y     \n",
       "WCSTYPE = 'undistorted a priori solution based on GSC240'                       \n",
       "HDRNAME = 'jec401noq_flt_6d59e9_hlet.fits'                                      \n",
       "WCSNAMEB= 'IDC_v6m2008mj-GSC240' / Coordinate system title                      \n",
       "WCSAXESB=                    2 / Number of coordinate axes                      \n",
       "CRPIX1B =                512.0 / Pixel coordinate of reference point            \n",
       "CRPIX2B =                512.0 / Pixel coordinate of reference point            \n",
       "CUNIT1B = 'deg'                / Units of coordinate increment and value        \n",
       "CUNIT2B = 'deg'                / Units of coordinate increment and value        \n",
       "CTYPE1B = 'RA---TAN-SIP'       / TAN (gnomonic) projection + SIP distortions    \n",
       "CTYPE2B = 'DEC--TAN-SIP'       / TAN (gnomonic) projection + SIP distortions    \n",
       "CRVAL1B =      319.60108387516 / [deg] Coordinate value at reference point      \n",
       "CRVAL2B =     0.29211273315455 / [deg] Coordinate value at reference point      \n",
       "RADESYSB= 'ICRS'               / Equatorial coordinate system                   \n",
       "CD1_1B  = -4.3321713358048E-06 / partial of first axis coordinate w.r.t. x      \n",
       "CD1_2B  =  6.9988159110091E-06 / partial of first axis coordinate w.r.t. y      \n",
       "CD2_1B  = 8.30078281974540E-06 / partial of second axis coordinate w.r.t. x     \n",
       "CD2_2B  =  4.5648394920114E-06 / partial of second axis coordinate w.r.t. y     \n",
       "WCSTYPEB= 'undistorted a priori solution based on GSC240'                       \n",
       "HDRNAMEB= 'jec401noq_flt_6d59e9_hlet.fits'                                      \n",
       "WCSTYPEA= 'undistorted not aligned'                                             \n",
       "WCSTYPEO= 'pipeline default not aligned'                                        "
      ]
     },
     "execution_count": 195,
     "metadata": {},
     "output_type": "execute_result"
    }
   ],
   "source": [
    "file[1].header\n"
   ]
  },
  {
   "cell_type": "code",
   "execution_count": 198,
   "id": "eadebb40",
   "metadata": {},
   "outputs": [
    {
     "data": {
      "text/plain": [
       "XTENSION= 'IMAGE   '           / IMAGE extension                                \n",
       "BITPIX  =                  -32 / number of bits per data pixel                  \n",
       "NAXIS   =                    2 / number of data axes                            \n",
       "NAXIS1  =                 1024 / length of data axis 1                          \n",
       "NAXIS2  =                 1024 / length of data axis 2                          \n",
       "PCOUNT  =                    0 / required keyword; must = 0                     \n",
       "GCOUNT  =                    1 / required keyword; must = 1                     \n",
       "ORIGIN  = 'HSTIO/CFITSIO March 2010' / FITS file originator                     \n",
       "DATE    = '2022-04-13' / date this file was written (yyyy-mm-dd)                \n",
       "INHERIT =                    T / inherit the primary header                     \n",
       "EXTNAME = 'SCI     '           / extension name                                 \n",
       "EXTVER  =                    1 / extension version number                       \n",
       "ROOTNAME= 'jec401nrq                         ' / rootname of the observation set\n",
       "EXPNAME = 'jec401nrq                ' / exposure identifier                     \n",
       "BUNIT   = 'ELECTRONS'          / brightness units                               \n",
       "                                                                                \n",
       "              / World Coordinate System and Related Parameters                  \n",
       "                                                                                \n",
       "WCSAXES =                    2 / Number of coordinate axes                      \n",
       "CRPIX1  =               512.0  / Pixel coordinate of reference point            \n",
       "CRPIX2  =                512.0 / Pixel coordinate of reference point            \n",
       "CRVAL1  =      319.60113936155 / [deg] Coordinate value at reference point      \n",
       "CRVAL2  =     0.29187045763134 / [deg] Coordinate value at reference point      \n",
       "CTYPE1  = 'RA---TAN-SIP'       / TAN (gnomonic) projection + SIP distortions    \n",
       "CTYPE2  = 'DEC--TAN-SIP'       / TAN (gnomonic) projection + SIP distortions    \n",
       "CD1_1   = -4.3321151746296E-06 / partial of first axis coordinate w.r.t. x      \n",
       "CD1_2   =  6.9987250233819E-06 / partial of first axis coordinate w.r.t. y      \n",
       "CD2_1   = 8.30067499086699E-06 / partial of second axis coordinate w.r.t. x     \n",
       "CD2_2   =  4.5647803208634E-06 / partial of second axis coordinate w.r.t. y     \n",
       "LTV1    =                  0.0 / offset in X to subsection start                \n",
       "LTV2    =                  0.0 / offset in Y to subsection start                \n",
       "RAW_LTV1=                  0.0 / original offset in X to subsection start       \n",
       "RAW_LTV2=                  0.0 / original offset in Y to subsection start       \n",
       "LTM1_1  =                  1.0 / reciprocal of sampling rate in X               \n",
       "LTM2_2  =                  1.0 / reciprocal of sampling rate in Y               \n",
       "ORIENTAT=    56.88639259511973                                                  \n",
       "RA_APER =   3.196003573174E+02 / RA of aperture reference position              \n",
       "DEC_APER=   2.913610432586E-01 / Declination of aperture reference position     \n",
       "PA_APER =              56.9494 / Position Angle of reference aperture center (de\n",
       "VAFACTOR=   1.000099089799E+00 / velocity aberration plate scale factor         \n",
       "                                                                                \n",
       "              / READOUT DEFINITION PARAMETERS                                   \n",
       "                                                                                \n",
       "CENTERA1=                  513 / subarray axis1 center pt in unbinned dect. pix \n",
       "CENTERA2=                  513 / subarray axis2 center pt in unbinned dect. pix \n",
       "SIZAXIS1=                 1024 / subarray axis1 size in unbinned detector pixels\n",
       "SIZAXIS2=                 1024 / subarray axis2 size in unbinned detector pixels\n",
       "BINAXIS1=                    1 / axis1 data bin size in unbinned detector pixels\n",
       "BINAXIS2=                    1 / axis2 data bin size in unbinned detector pixels\n",
       "                                                                                \n",
       "              / PHOTOMETRY KEYWORDS                                             \n",
       "                                                                                \n",
       "PHOTMODE= 'ACS SBC F150LP MJD#59361.2931' / obser                               \n",
       "PHOTFLAM=        3.5315768E-17 / inverse sensitivity, ergs/cm2/Ang/electron     \n",
       "PHOTZPT =       -2.1100000E+01 / ST magnitude zero point                        \n",
       "PHOTPLAM=        1.6056531E+03 / Pivot wavelength (Angstroms)                   \n",
       "PHOTBW  =        1.0916668E+02 / RMS bandwidth of filter plus detector          \n",
       "                                                                                \n",
       "              / DATA PACKET INFORMATION                                         \n",
       "                                                                                \n",
       "FILLCNT =                    0 / number of segments containing fill             \n",
       "ERRCNT  =                    0 / number of segments containing errors           \n",
       "PODPSFF =                    F / podps fill present (T/F)                       \n",
       "STDCFFF =                    F / science telemetry fill data present (T=1/F=0)  \n",
       "STDCFFP = '0x5569'             / science telemetry fill pattern (hex)           \n",
       "                                                                                \n",
       "              / ENGINEERING PARAMETERS                                          \n",
       "                                                                                \n",
       "GLOBRATE=         16.393442623 / global count rate                              \n",
       "GLOBLIM = 'NOT-EXCEEDED'       / was global linearity level exceeded?           \n",
       "MDECODT1=              19.6461 / MAMA jMDECODT pwb temp from eng snap 1 (deg. C)\n",
       "MDECODT2=              20.6229 / MAMA JMDECODT pwb temp from eng snap 2 (deg. C)\n",
       "                                                                                \n",
       "              / IMAGE STATISTICS AND DATA QUALITY FLAGS                         \n",
       "                                                                                \n",
       "NGOODPIX=              1027065 / number of good pixels                          \n",
       "SDQFLAGS=                31743 / serious data quality flags                     \n",
       "GOODMIN =        0.0000000E+00 / minimum value of good pixels                   \n",
       "GOODMAX =        1.6148897E+01 / maximum value of good pixels                   \n",
       "GOODMEAN=        1.2029584E-02 / mean value of good pixels                      \n",
       "SOFTERRS=                    0 / number of soft error pixels (DQF=1)            \n",
       "SNRMIN  =        0.0000000E+00 / minimum signal to noise of good pixels         \n",
       "SNRMAX  =        4.1206808E+00 / maximum signal to noise of good pixels         \n",
       "SNRMEAN =        1.1630149E-02 / mean value of signal to noise of good pixels   \n",
       "MEANDARK=             0.000000 / average of the dark values subtracted          \n",
       "RADESYS = 'ICRS    '           / Equatorial coordinate system                   \n",
       "S_REGION= 'POLYGON ICRS 319.59978008324646 0.285311726846597 &'                 \n",
       "CONTINUE  '319.6069278755106 0.28996248753225345 319.6025023224811 &'           \n",
       "CONTINUE  '0.29844154285341906 319.59535452664954 0.2937907793772356 '          \n",
       "OCX10   = 5.96685677010100E-05 / original linear term from IDCTAB               \n",
       "OCX11   =  0.03355217352509499 / original linear term from IDCTAB               \n",
       "OCY10   =  0.03007783554494381 / original linear term from IDCTAB               \n",
       "OCY11   =  0.00319520547054708 / original linear term from IDCTAB               \n",
       "IDCSCALE=  0.02500000037252903 / pixel scale from the IDCTAB reference file     \n",
       "IDCTHETA=                  0.0 / orientation of detector's Y-axis w.r.t. V3 axis\n",
       "IDCXREF =                512.0 / reference pixel location in X                  \n",
       "IDCYREF =                512.0 / reference pixel location in Y                  \n",
       "IDCV2REF=    205.2599945068359 / reference pixel's V2 position                  \n",
       "IDCV3REF=    469.8269958496094 / reference pixel's V3 position                  \n",
       "WCSNAMEO= 'OPUS    '           / Coordinate system title                        \n",
       "WCSAXESO=                    2 / Number of coordinate axes                      \n",
       "CRPIX1O =                512.0 / Pixel coordinate of reference point            \n",
       "CRPIX2O =                400.0 / Pixel coordinate of reference point            \n",
       "CUNIT1O = 'deg'                / Units of coordinate increment and value        \n",
       "CUNIT2O = 'deg'                / Units of coordinate increment and value        \n",
       "CTYPE1O = 'RA---TAN'           / Right ascension, gnomonic projection           \n",
       "CTYPE2O = 'DEC--TAN'           / Declination, gnomonic projection               \n",
       "CRVAL1O =       319.6003573174 / [deg] Coordinate value at reference point      \n",
       "CRVAL2O =      0.2913610432586 / [deg] Coordinate value at reference point      \n",
       "MJDREF  =                  0.0 / [d] MJD of fiducial time                       \n",
       "RADESYSO= 'ICRS'               / Equatorial coordinate system                   \n",
       "CD1_1O  =           -4.326E-06 / partial of first axis coordinate w.r.t. x      \n",
       "CD1_2O  =            6.987E-06 / partial of first axis coordinate w.r.t. y      \n",
       "CD2_1O  =          8.28842E-06 / partial of second axis coordinate w.r.t. x     \n",
       "CD2_2O  =           4.5462E-06 / partial of second axis coordinate w.r.t. y     \n",
       "IDCTAB  = 'jref$v6m2008mj_idc.fits'                                             \n",
       "A_ORDER =                    4 / SIP polynomial order, axis 0, detector to sky  \n",
       "B_ORDER =                    4 / SIP polynomial order, axis 1, detector to sky  \n",
       "A_0_2   = 3.71821579887969E-06 / SIP distortion coefficient                     \n",
       "B_0_2   = 1.00981392294935E-05 / SIP distortion coefficient                     \n",
       "A_1_1   = 1.17765432685549E-05 / SIP distortion coefficient                     \n",
       "B_1_1   = 2.42209952539204E-07 / SIP distortion coefficient                     \n",
       "A_2_0   =  -1.483933123209E-05 / SIP distortion coefficient                     \n",
       "B_2_0   = 4.22468848828112E-07 / SIP distortion coefficient                     \n",
       "A_0_3   = -4.0306486845335E-09 / SIP distortion coefficient                     \n",
       "B_0_3   =  1.6221563200793E-09 / SIP distortion coefficient                     \n",
       "A_1_2   = -2.6066792469435E-09 / SIP distortion coefficient                     \n",
       "B_1_2   = 5.06905748871357E-10 / SIP distortion coefficient                     \n",
       "A_2_1   = 1.34147484133598E-10 / SIP distortion coefficient                     \n",
       "B_2_1   = -7.4477974380425E-09 / SIP distortion coefficient                     \n",
       "A_3_0   =  4.3177243951969E-09 / SIP distortion coefficient                     \n",
       "B_3_0   = -3.1755220958671E-10 / SIP distortion coefficient                     \n",
       "A_0_4   = -2.7480196565056E-11 / SIP distortion coefficient                     \n",
       "B_0_4   = 2.49020089875116E-12 / SIP distortion coefficient                     \n",
       "A_1_3   = -1.1042562713082E-12 / SIP distortion coefficient                     \n",
       "B_1_3   = 6.52484192257676E-12 / SIP distortion coefficient                     \n",
       "A_2_2   = 3.32642166064284E-12 / SIP distortion coefficient                     \n",
       "B_2_2   = -3.0271615259304E-13 / SIP distortion coefficient                     \n",
       "A_3_1   = -8.7909628335581E-13 / SIP distortion coefficient                     \n",
       "B_3_1   = 4.43255209342228E-12 / SIP distortion coefficient                     \n",
       "A_4_0   = 1.46872345905909E-11 / SIP distortion coefficient                     \n",
       "B_4_0   = 7.43178117451922E-13 / SIP distortion coefficient                     \n",
       "WCSNAME = 'IDC_v6m2008mj-GSC240' / Coordinate system title                      \n",
       "CPERR1  = 0.007132729981094599 / Maximum error of NPOL correction for axis 1    \n",
       "CPDIS1  = 'Lookup  '           / Prior distortion function type                 \n",
       "DP1     = 'EXTVER: 1' / Version number of WCSDVARR extension                    \n",
       "DP1     = 'NAXES: 2' / Number of independent variables in CPDIS function        \n",
       "DP1     = 'AXIS.1: 1' / Axis number of the 1st variable in a CPDIS function     \n",
       "DP1     = 'AXIS.2: 2' / Axis number of the 2nd variable in a CPDIS function     \n",
       "CPERR2  = 0.009602183476090431 / Maximum error of NPOL correction for axis 2    \n",
       "CPDIS2  = 'Lookup  '           / Prior distortion function type                 \n",
       "DP2     = 'EXTVER: 2' / Version number of WCSDVARR extension                    \n",
       "DP2     = 'NAXES: 2' / Number of independent variables in CPDIS function        \n",
       "DP2     = 'AXIS.1: 1' / Axis number of the 1st variable in a CPDIS function     \n",
       "DP2     = 'AXIS.2: 2' / Axis number of the 2nd variable in a CPDIS function     \n",
       "NPOLEXT = 'jref$xc215013j_npl.fits'                                             \n",
       "MDRIZSKY=                  0.0 / Sky value computed by AstroDrizzle             \n",
       "CUNIT1  = 'deg'                / Units of coordinate increment and value        \n",
       "CUNIT2  = 'deg'                / Units of coordinate increment and value        \n",
       "WCSNAMEA= 'IDC_v6m2008mj'      / Coordinate system title                        \n",
       "WCSAXESA=                    2 / Number of coordinate axes                      \n",
       "CRPIX1A =                512.0 / Pixel coordinate of reference point            \n",
       "CRPIX2A =                512.0 / Pixel coordinate of reference point            \n",
       "CUNIT1A = 'deg'                / Units of coordinate increment and value        \n",
       "CUNIT2A = 'deg'                / Units of coordinate increment and value        \n",
       "CTYPE1A = 'RA---TAN-SIP'       / TAN (gnomonic) projection + SIP distortions    \n",
       "CTYPE2A = 'DEC--TAN-SIP'       / TAN (gnomonic) projection + SIP distortions    \n",
       "CRVAL1A =      319.60113987155 / [deg] Coordinate value at reference point      \n",
       "CRVAL2A =     0.29187021763136 / [deg] Coordinate value at reference point      \n",
       "RADESYSA= 'ICRS'               / Equatorial coordinate system                   \n",
       "CD1_1A  = -4.3321151834662E-06 / partial of first axis coordinate w.r.t. x      \n",
       "CD1_2A  =  6.9987250211005E-06 / partial of first axis coordinate w.r.t. y      \n",
       "CD2_1A  =   8.300674997729E-06 / partial of second axis coordinate w.r.t. x     \n",
       "CD2_2A  =   4.564780315652E-06 / partial of second axis coordinate w.r.t. y     \n",
       "WCSTYPE = 'undistorted a priori solution based on GSC240'                       \n",
       "HDRNAME = 'jec401nrq_flt_6d59e9_hlet.fits'                                      \n",
       "WCSNAMEB= 'IDC_v6m2008mj-GSC240' / Coordinate system title                      \n",
       "WCSAXESB=                    2 / Number of coordinate axes                      \n",
       "CRPIX1B =                512.0 / Pixel coordinate of reference point            \n",
       "CRPIX2B =                512.0 / Pixel coordinate of reference point            \n",
       "CUNIT1B = 'deg'                / Units of coordinate increment and value        \n",
       "CUNIT2B = 'deg'                / Units of coordinate increment and value        \n",
       "CTYPE1B = 'RA---TAN-SIP'       / TAN (gnomonic) projection + SIP distortions    \n",
       "CTYPE2B = 'DEC--TAN-SIP'       / TAN (gnomonic) projection + SIP distortions    \n",
       "CRVAL1B =      319.60113936155 / [deg] Coordinate value at reference point      \n",
       "CRVAL2B =     0.29187045763134 / [deg] Coordinate value at reference point      \n",
       "RADESYSB= 'ICRS'               / Equatorial coordinate system                   \n",
       "CD1_1B  = -4.3321151746296E-06 / partial of first axis coordinate w.r.t. x      \n",
       "CD1_2B  =  6.9987250233819E-06 / partial of first axis coordinate w.r.t. y      \n",
       "CD2_1B  = 8.30067499086699E-06 / partial of second axis coordinate w.r.t. x     \n",
       "CD2_2B  =  4.5647803208634E-06 / partial of second axis coordinate w.r.t. y     \n",
       "WCSTYPEB= 'undistorted a priori solution based on GSC240'                       \n",
       "HDRNAMEB= 'jec401nrq_flt_6d59e9_hlet.fits'                                      \n",
       "WCSTYPEA= 'undistorted not aligned'                                             \n",
       "WCSTYPEO= 'pipeline default not aligned'                                        "
      ]
     },
     "execution_count": 198,
     "metadata": {},
     "output_type": "execute_result"
    }
   ],
   "source": [
    "file_1[1].header"
   ]
  },
  {
   "cell_type": "code",
   "execution_count": 196,
   "id": "278a9107",
   "metadata": {},
   "outputs": [
    {
     "data": {
      "text/plain": [
       "XTENSION= 'IMAGE   '           / IMAGE extension                                \n",
       "BITPIX  =                  -32 / number of bits per data pixel                  \n",
       "NAXIS   =                    2 / number of data axes                            \n",
       "NAXIS1  =                 1024 / length of data axis 1                          \n",
       "NAXIS2  =                 1024 / length of data axis 2                          \n",
       "PCOUNT  =                    0 / required keyword; must = 0                     \n",
       "GCOUNT  =                    1 / required keyword; must = 1                     \n",
       "ORIGIN  = 'HSTIO/CFITSIO March 2010' / FITS file originator                     \n",
       "DATE    = '2022-04-13' / date this file was written (yyyy-mm-dd)                \n",
       "INHERIT =                    T / inherit the primary header                     \n",
       "EXTNAME = 'SCI     '           / extension name                                 \n",
       "EXTVER  =                    1 / extension version number                       \n",
       "ROOTNAME= 'jec403ibq                         ' / rootname of the observation set\n",
       "EXPNAME = 'jec403ibq                ' / exposure identifier                     \n",
       "BUNIT   = 'ELECTRONS'          / brightness units                               \n",
       "                                                                                \n",
       "              / World Coordinate System and Related Parameters                  \n",
       "                                                                                \n",
       "WCSAXES =                    2 / Number of coordinate axes                      \n",
       "CRPIX1  =               512.0  / Pixel coordinate of reference point            \n",
       "CRPIX2  =                512.0 / Pixel coordinate of reference point            \n",
       "CRVAL1  =      319.60070459856 / [deg] Coordinate value at reference point      \n",
       "CRVAL2  =     0.29136918174625 / [deg] Coordinate value at reference point      \n",
       "CTYPE1  = 'RA---TAN-SIP'       / TAN (gnomonic) projection + SIP distortions    \n",
       "CTYPE2  = 'DEC--TAN-SIP'       / TAN (gnomonic) projection + SIP distortions    \n",
       "CD1_1   = -5.1745970268303E-06 / partial of first axis coordinate w.r.t. x      \n",
       "CD1_2   =  6.4842485036551E-06 / partial of first axis coordinate w.r.t. y      \n",
       "CD2_1   = 7.80337350725270E-06 / partial of second axis coordinate w.r.t. x     \n",
       "CD2_2   =  5.2701444619314E-06 / partial of second axis coordinate w.r.t. y     \n",
       "LTV1    =                  0.0 / offset in X to subsection start                \n",
       "LTV2    =                  0.0 / offset in Y to subsection start                \n",
       "RAW_LTV1=                  0.0 / original offset in X to subsection start       \n",
       "RAW_LTV2=                  0.0 / original offset in Y to subsection start       \n",
       "LTM1_1  =                  1.0 / reciprocal of sampling rate in X               \n",
       "LTM2_2  =                  1.0 / reciprocal of sampling rate in Y               \n",
       "ORIENTAT=     50.8971336870121                                                  \n",
       "RA_APER =   3.195999809352E+02 / RA of aperture reference position              \n",
       "DEC_APER=   2.907861247296E-01 / Declination of aperture reference position     \n",
       "PA_APER =              50.9601 / Position Angle of reference aperture center (de\n",
       "VAFACTOR=   1.000102883113E+00 / velocity aberration plate scale factor         \n",
       "                                                                                \n",
       "              / READOUT DEFINITION PARAMETERS                                   \n",
       "                                                                                \n",
       "CENTERA1=                  513 / subarray axis1 center pt in unbinned dect. pix \n",
       "CENTERA2=                  513 / subarray axis2 center pt in unbinned dect. pix \n",
       "SIZAXIS1=                 1024 / subarray axis1 size in unbinned detector pixels\n",
       "SIZAXIS2=                 1024 / subarray axis2 size in unbinned detector pixels\n",
       "BINAXIS1=                    1 / axis1 data bin size in unbinned detector pixels\n",
       "BINAXIS2=                    1 / axis2 data bin size in unbinned detector pixels\n",
       "                                                                                \n",
       "              / PHOTOMETRY KEYWORDS                                             \n",
       "                                                                                \n",
       "PHOTMODE= 'ACS SBC F150LP MJD#59377.9640' / obser                               \n",
       "PHOTFLAM=        3.5315242E-17 / inverse sensitivity, ergs/cm2/Ang/electron     \n",
       "PHOTZPT =       -2.1100000E+01 / ST magnitude zero point                        \n",
       "PHOTPLAM=        1.6056531E+03 / Pivot wavelength (Angstroms)                   \n",
       "PHOTBW  =        1.0916668E+02 / RMS bandwidth of filter plus detector          \n",
       "                                                                                \n",
       "              / DATA PACKET INFORMATION                                         \n",
       "                                                                                \n",
       "FILLCNT =                    0 / number of segments containing fill             \n",
       "ERRCNT  =                    0 / number of segments containing errors           \n",
       "PODPSFF =                    F / podps fill present (T/F)                       \n",
       "STDCFFF =                    F / science telemetry fill data present (T=1/F=0)  \n",
       "STDCFFP = '0x5569'             / science telemetry fill pattern (hex)           \n",
       "                                                                                \n",
       "              / ENGINEERING PARAMETERS                                          \n",
       "                                                                                \n",
       "GLOBRATE=        49.1803278689 / global count rate                              \n",
       "GLOBLIM = 'NOT-EXCEEDED'       / was global linearity level exceeded?           \n",
       "MDECODT1=              17.4483 / MAMA jMDECODT pwb temp from eng snap 1 (deg. C)\n",
       "MDECODT2=              18.6693 / MAMA JMDECODT pwb temp from eng snap 2 (deg. C)\n",
       "                                                                                \n",
       "              / IMAGE STATISTICS AND DATA QUALITY FLAGS                         \n",
       "                                                                                \n",
       "NGOODPIX=              1027065 / number of good pixels                          \n",
       "SDQFLAGS=                31743 / serious data quality flags                     \n",
       "GOODMIN =        0.0000000E+00 / minimum value of good pixels                   \n",
       "GOODMAX =        1.6641729E+01 / maximum value of good pixels                   \n",
       "GOODMEAN=        9.0903677E-03 / mean value of good pixels                      \n",
       "SOFTERRS=                    0 / number of soft error pixels (DQF=1)            \n",
       "SNRMIN  =        0.0000000E+00 / minimum signal to noise of good pixels         \n",
       "SNRMAX  =        4.1197329E+00 / maximum signal to noise of good pixels         \n",
       "SNRMEAN =        8.7285368E-03 / mean value of signal to noise of good pixels   \n",
       "MEANDARK=             0.000000 / average of the dark values subtracted          \n",
       "RADESYS = 'ICRS    '           / Equatorial coordinate system                   \n",
       "S_REGION= 'POLYGON ICRS 319.60003805982495 0.28470960248225446 &'               \n",
       "CONTINUE  '319.6066615582099 0.29008078014781624 319.6013754254164 &'           \n",
       "CONTINUE  '0.2980517831624026 319.59475192485434 0.2926806024100732 '           \n",
       "OCX10   = 5.96685677010100E-05 / original linear term from IDCTAB               \n",
       "OCX11   =  0.03355217352509499 / original linear term from IDCTAB               \n",
       "OCY10   =  0.03007783554494381 / original linear term from IDCTAB               \n",
       "OCY11   =  0.00319520547054708 / original linear term from IDCTAB               \n",
       "IDCSCALE=  0.02500000037252903 / pixel scale from the IDCTAB reference file     \n",
       "IDCTHETA=                  0.0 / orientation of detector's Y-axis w.r.t. V3 axis\n",
       "IDCXREF =                512.0 / reference pixel location in X                  \n",
       "IDCYREF =                512.0 / reference pixel location in Y                  \n",
       "IDCV2REF=    205.2599945068359 / reference pixel's V2 position                  \n",
       "IDCV3REF=    469.8269958496094 / reference pixel's V3 position                  \n",
       "WCSNAMEO= 'OPUS    '           / Coordinate system title                        \n",
       "WCSAXESO=                    2 / Number of coordinate axes                      \n",
       "CRPIX1O =                512.0 / Pixel coordinate of reference point            \n",
       "CRPIX2O =                400.0 / Pixel coordinate of reference point            \n",
       "CUNIT1O = 'deg'                / Units of coordinate increment and value        \n",
       "CUNIT2O = 'deg'                / Units of coordinate increment and value        \n",
       "CTYPE1O = 'RA---TAN'           / Right ascension, gnomonic projection           \n",
       "CTYPE2O = 'DEC--TAN'           / Declination, gnomonic projection               \n",
       "CRVAL1O =       319.5999809352 / [deg] Coordinate value at reference point      \n",
       "CRVAL2O =      0.2907861247296 / [deg] Coordinate value at reference point      \n",
       "MJDREF  =                  0.0 / [d] MJD of fiducial time                       \n",
       "RADESYSO= 'ICRS'               / Equatorial coordinate system                   \n",
       "CD1_1O  =         -5.16722E-06 / partial of first axis coordinate w.r.t. x      \n",
       "CD1_2O  =           6.4745E-06 / partial of first axis coordinate w.r.t. y      \n",
       "CD2_1O  =          7.79179E-06 / partial of second axis coordinate w.r.t. x     \n",
       "CD2_2O  =          5.25042E-06 / partial of second axis coordinate w.r.t. y     \n",
       "IDCTAB  = 'jref$v6m2008mj_idc.fits'                                             \n",
       "A_ORDER =                    4 / SIP polynomial order, axis 0, detector to sky  \n",
       "B_ORDER =                    4 / SIP polynomial order, axis 1, detector to sky  \n",
       "A_0_2   = 3.71821579887969E-06 / SIP distortion coefficient                     \n",
       "B_0_2   = 1.00981392294935E-05 / SIP distortion coefficient                     \n",
       "A_1_1   = 1.17765432685549E-05 / SIP distortion coefficient                     \n",
       "B_1_1   = 2.42209952539204E-07 / SIP distortion coefficient                     \n",
       "A_2_0   =  -1.483933123209E-05 / SIP distortion coefficient                     \n",
       "B_2_0   = 4.22468848828112E-07 / SIP distortion coefficient                     \n",
       "A_0_3   = -4.0306486845335E-09 / SIP distortion coefficient                     \n",
       "B_0_3   =  1.6221563200793E-09 / SIP distortion coefficient                     \n",
       "A_1_2   = -2.6066792469435E-09 / SIP distortion coefficient                     \n",
       "B_1_2   = 5.06905748871357E-10 / SIP distortion coefficient                     \n",
       "A_2_1   = 1.34147484133598E-10 / SIP distortion coefficient                     \n",
       "B_2_1   = -7.4477974380425E-09 / SIP distortion coefficient                     \n",
       "A_3_0   =  4.3177243951969E-09 / SIP distortion coefficient                     \n",
       "B_3_0   = -3.1755220958671E-10 / SIP distortion coefficient                     \n",
       "A_0_4   = -2.7480196565056E-11 / SIP distortion coefficient                     \n",
       "B_0_4   = 2.49020089875116E-12 / SIP distortion coefficient                     \n",
       "A_1_3   = -1.1042562713082E-12 / SIP distortion coefficient                     \n",
       "B_1_3   = 6.52484192257676E-12 / SIP distortion coefficient                     \n",
       "A_2_2   = 3.32642166064284E-12 / SIP distortion coefficient                     \n",
       "B_2_2   = -3.0271615259304E-13 / SIP distortion coefficient                     \n",
       "A_3_1   = -8.7909628335581E-13 / SIP distortion coefficient                     \n",
       "B_3_1   = 4.43255209342228E-12 / SIP distortion coefficient                     \n",
       "A_4_0   = 1.46872345905909E-11 / SIP distortion coefficient                     \n",
       "B_4_0   = 7.43178117451922E-13 / SIP distortion coefficient                     \n",
       "WCSNAME = 'IDC_v6m2008mj-GSC240' / Coordinate system title                      \n",
       "CPERR1  = 0.007132729981094599 / Maximum error of NPOL correction for axis 1    \n",
       "CPDIS1  = 'Lookup  '           / Prior distortion function type                 \n",
       "DP1     = 'EXTVER: 1' / Version number of WCSDVARR extension                    \n",
       "DP1     = 'NAXES: 2' / Number of independent variables in CPDIS function        \n",
       "DP1     = 'AXIS.1: 1' / Axis number of the 1st variable in a CPDIS function     \n",
       "DP1     = 'AXIS.2: 2' / Axis number of the 2nd variable in a CPDIS function     \n",
       "CPERR2  = 0.009602183476090431 / Maximum error of NPOL correction for axis 2    \n",
       "CPDIS2  = 'Lookup  '           / Prior distortion function type                 \n",
       "DP2     = 'EXTVER: 2' / Version number of WCSDVARR extension                    \n",
       "DP2     = 'NAXES: 2' / Number of independent variables in CPDIS function        \n",
       "DP2     = 'AXIS.1: 1' / Axis number of the 1st variable in a CPDIS function     \n",
       "DP2     = 'AXIS.2: 2' / Axis number of the 2nd variable in a CPDIS function     \n",
       "NPOLEXT = 'jref$xc215013j_npl.fits'                                             \n",
       "MDRIZSKY=                  0.0 / Sky value computed by AstroDrizzle             \n",
       "CUNIT1  = 'deg'                / Units of coordinate increment and value        \n",
       "CUNIT2  = 'deg'                / Units of coordinate increment and value        \n",
       "WCSNAMEA= 'IDC_v6m2008mj'      / Coordinate system title                        \n",
       "WCSAXESA=                    2 / Number of coordinate axes                      \n",
       "CRPIX1A =                512.0 / Pixel coordinate of reference point            \n",
       "CRPIX2A =                512.0 / Pixel coordinate of reference point            \n",
       "CUNIT1A = 'deg'                / Units of coordinate increment and value        \n",
       "CUNIT2A = 'deg'                / Units of coordinate increment and value        \n",
       "CTYPE1A = 'RA---TAN-SIP'       / TAN (gnomonic) projection + SIP distortions    \n",
       "CTYPE2A = 'DEC--TAN-SIP'       / TAN (gnomonic) projection + SIP distortions    \n",
       "CRVAL1A =      319.60070608858 / [deg] Coordinate value at reference point      \n",
       "CRVAL2A =     0.29137417174626 / [deg] Coordinate value at reference point      \n",
       "RADESYSA= 'ICRS'               / Equatorial coordinate system                   \n",
       "CD1_1A  =  -5.174597033748E-06 / partial of first axis coordinate w.r.t. x      \n",
       "CD1_2A  =  6.4842485001797E-06 / partial of first axis coordinate w.r.t. y      \n",
       "CD2_1A  = 7.80337351648480E-06 / partial of second axis coordinate w.r.t. x     \n",
       "CD2_2A  =  5.2701444507193E-06 / partial of second axis coordinate w.r.t. y     \n",
       "WCSTYPE = 'undistorted a priori solution based on GSC240'                       \n",
       "HDRNAME = 'jec403ibq_flt_6d59e9_hlet.fits'                                      \n",
       "WCSNAMEB= 'IDC_v6m2008mj-GSC240' / Coordinate system title                      \n",
       "WCSAXESB=                    2 / Number of coordinate axes                      \n",
       "CRPIX1B =                512.0 / Pixel coordinate of reference point            \n",
       "CRPIX2B =                512.0 / Pixel coordinate of reference point            \n",
       "CUNIT1B = 'deg'                / Units of coordinate increment and value        \n",
       "CUNIT2B = 'deg'                / Units of coordinate increment and value        \n",
       "CTYPE1B = 'RA---TAN-SIP'       / TAN (gnomonic) projection + SIP distortions    \n",
       "CTYPE2B = 'DEC--TAN-SIP'       / TAN (gnomonic) projection + SIP distortions    \n",
       "CRVAL1B =      319.60070459856 / [deg] Coordinate value at reference point      \n",
       "CRVAL2B =     0.29136918174625 / [deg] Coordinate value at reference point      \n",
       "RADESYSB= 'ICRS'               / Equatorial coordinate system                   \n",
       "CD1_1B  = -5.1745970268303E-06 / partial of first axis coordinate w.r.t. x      \n",
       "CD1_2B  =  6.4842485036551E-06 / partial of first axis coordinate w.r.t. y      \n",
       "CD2_1B  = 7.80337350725270E-06 / partial of second axis coordinate w.r.t. x     \n",
       "CD2_2B  =  5.2701444619314E-06 / partial of second axis coordinate w.r.t. y     \n",
       "WCSTYPEB= 'undistorted a priori solution based on GSC240'                       \n",
       "HDRNAMEB= 'jec403ibq_flt_6d59e9_hlet.fits'                                      \n",
       "WCSTYPEA= 'undistorted not aligned'                                             \n",
       "WCSTYPEO= 'pipeline default not aligned'                                        "
      ]
     },
     "execution_count": 196,
     "metadata": {},
     "output_type": "execute_result"
    }
   ],
   "source": [
    "file_3[1].header"
   ]
  },
  {
   "cell_type": "code",
   "execution_count": 194,
   "id": "96be25a2",
   "metadata": {},
   "outputs": [
    {
     "data": {
      "text/plain": [
       "''"
      ]
     },
     "execution_count": 194,
     "metadata": {},
     "output_type": "execute_result"
    }
   ],
   "source": [
    "file_3[0].header['QUALITY']"
   ]
  },
  {
   "cell_type": "code",
   "execution_count": 53,
   "id": "6bbf690f",
   "metadata": {},
   "outputs": [
    {
     "data": {
      "text/plain": [
       "281.8022245811848"
      ]
     },
     "execution_count": 53,
     "metadata": {},
     "output_type": "execute_result"
    }
   ],
   "source": [
    "(282 * (83.02697 + 74.186) + 281*(23.7704 + 14.9879))/(83.02697 + 74.186+ 23.7704 + 14.9879)"
   ]
  },
  {
   "cell_type": "code",
   "execution_count": 137,
   "id": "a060b427",
   "metadata": {},
   "outputs": [],
   "source": [
    "CD1_1 = file[1].header['CD1_1']\n",
    "CD1_2 = file[1].header['CD1_2']\n",
    "CD2_1 = file[1].header['CD2_1']\n",
    "CD2_2 = file[1].header['CD2_2']"
   ]
  },
  {
   "cell_type": "code",
   "execution_count": 177,
   "id": "ff5d8f57",
   "metadata": {},
   "outputs": [],
   "source": [
    "A = np.array([[CD1_1, CD1_2], [CD2_1, CD2_2]])"
   ]
  },
  {
   "cell_type": "code",
   "execution_count": 178,
   "id": "35f00f94",
   "metadata": {},
   "outputs": [],
   "source": [
    "import numpy as np"
   ]
  },
  {
   "cell_type": "code",
   "execution_count": 179,
   "id": "d35d08b2",
   "metadata": {},
   "outputs": [],
   "source": [
    "x, y = 491, 1006\n",
    "a, b = file[1].header['CRVAL1'], file[1].header['CRVAL2']"
   ]
  },
  {
   "cell_type": "code",
   "execution_count": 180,
   "id": "df30ac2e",
   "metadata": {},
   "outputs": [],
   "source": [
    "B =np.array( [[x - 512], [y - 512]])\n",
    "C = np.array([[a], [b]])"
   ]
  },
  {
   "cell_type": "code",
   "execution_count": 181,
   "id": "6f7d2c3a",
   "metadata": {},
   "outputs": [
    {
     "data": {
      "text/plain": [
       "array([[3.19604632e+02],\n",
       "       [2.94193447e-01]])"
      ]
     },
     "execution_count": 181,
     "metadata": {},
     "output_type": "execute_result"
    }
   ],
   "source": [
    "np.matmul(A,B) + C"
   ]
  },
  {
   "cell_type": "code",
   "execution_count": 182,
   "id": "f3138a67",
   "metadata": {},
   "outputs": [
    {
     "data": {
      "text/plain": [
       "array([[-58620.29343345,  89876.6852828 ],\n",
       "       [106596.15206018,  55632.43907114]])"
      ]
     },
     "execution_count": 182,
     "metadata": {},
     "output_type": "execute_result"
    }
   ],
   "source": [
    "np.linalg.inv(A)"
   ]
  },
  {
   "cell_type": "code",
   "execution_count": 183,
   "id": "c2f500ff",
   "metadata": {},
   "outputs": [],
   "source": [
    "Target = np.array([[file[0].header['RA_TARG']],[file[0].header['DEC_TARG']]])"
   ]
  },
  {
   "cell_type": "code",
   "execution_count": 188,
   "id": "0f007bf7",
   "metadata": {},
   "outputs": [
    {
     "data": {
      "text/plain": [
       "array([[505.81158167],\n",
       "       [389.02427676]])"
      ]
     },
     "execution_count": 188,
     "metadata": {},
     "output_type": "execute_result"
    }
   ],
   "source": [
    "np.matmul(np.linalg.inv(A),Target - C) +np.array([[512], [512]])"
   ]
  },
  {
   "cell_type": "code",
   "execution_count": null,
   "id": "2d94b2f8",
   "metadata": {},
   "outputs": [],
   "source": []
  }
 ],
 "metadata": {
  "kernelspec": {
   "display_name": "Python 3 (ipykernel)",
   "language": "python",
   "name": "python3"
  },
  "language_info": {
   "codemirror_mode": {
    "name": "ipython",
    "version": 3
   },
   "file_extension": ".py",
   "mimetype": "text/x-python",
   "name": "python",
   "nbconvert_exporter": "python",
   "pygments_lexer": "ipython3",
   "version": "3.9.12"
  }
 },
 "nbformat": 4,
 "nbformat_minor": 5
}
