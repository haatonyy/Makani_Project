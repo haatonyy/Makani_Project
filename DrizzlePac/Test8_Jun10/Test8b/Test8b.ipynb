{
 "cells": [
  {
   "cell_type": "code",
   "execution_count": 51,
   "id": "21ae4f82",
   "metadata": {},
   "outputs": [],
   "source": [
    "from astroquery.mast import Observations\n",
    "from ccdproc import ImageFileCollection\n",
    "from astropy.table import Table\n",
    "from astropy.io import fits\n",
    "from astropy.io import ascii\n",
    "from astropy.visualization import ZScaleInterval\n",
    "from IPython.display import Image\n",
    "import glob\n",
    "import matplotlib.pyplot as plt\n",
    "import numpy as np\n",
    "import os\n",
    "import shutil\n",
    "from drizzlepac import tweakreg\n",
    "from drizzlepac import astrodrizzle"
   ]
  },
  {
   "cell_type": "markdown",
   "id": "caa17906",
   "metadata": {},
   "source": [
    "A way to import files from each visit <br>"
   ]
  },
  {
   "cell_type": "code",
   "execution_count": 52,
   "id": "d24f98bb",
   "metadata": {},
   "outputs": [
    {
     "name": "stdout",
     "output_type": "stream",
     "text": [
      "Downloading URL https://mast.stsci.edu/api/v0.1/Download/file?uri=mast:HST/product/hst_16231_01_acs_sbc_f150lp_jec401no_flt.fits to ./science/mastDownload/HST/hst_16231_01_acs_sbc_f150lp_jec401no/hst_16231_01_acs_sbc_f150lp_jec401no_flt.fits ... [Done]\n",
      "Downloading URL https://mast.stsci.edu/api/v0.1/Download/file?uri=mast:HST/product/hst_16231_01_acs_sbc_f150lp_jec401nr_flt.fits to ./science/mastDownload/HST/hst_16231_01_acs_sbc_f150lp_jec401nr/hst_16231_01_acs_sbc_f150lp_jec401nr_flt.fits ... [Done]\n",
      "Downloading URL https://mast.stsci.edu/api/v0.1/Download/file?uri=mast:HST/product/hst_16231_01_acs_sbc_f150lp_jec401nv_flt.fits to ./science/mastDownload/HST/hst_16231_01_acs_sbc_f150lp_jec401nv/hst_16231_01_acs_sbc_f150lp_jec401nv_flt.fits ... [Done]\n",
      "Downloading URL https://mast.stsci.edu/api/v0.1/Download/file?uri=mast:HST/product/hst_16231_01_acs_sbc_f150lp_jec401nx_flt.fits to ./science/mastDownload/HST/hst_16231_01_acs_sbc_f150lp_jec401nx/hst_16231_01_acs_sbc_f150lp_jec401nx_flt.fits ... [Done]\n",
      "Downloading URL https://mast.stsci.edu/api/v0.1/Download/file?uri=mast:HST/product/jec401noq_flt.fits to ./science/mastDownload/HST/jec401noq/jec401noq_flt.fits ... [Done]\n",
      "Downloading URL https://mast.stsci.edu/api/v0.1/Download/file?uri=mast:HST/product/jec401nrq_flt.fits to ./science/mastDownload/HST/jec401nrq/jec401nrq_flt.fits ... [Done]\n",
      "Downloading URL https://mast.stsci.edu/api/v0.1/Download/file?uri=mast:HST/product/jec401nvq_flt.fits to ./science/mastDownload/HST/jec401nvq/jec401nvq_flt.fits ... [Done]\n",
      "Downloading URL https://mast.stsci.edu/api/v0.1/Download/file?uri=mast:HST/product/jec401nxq_flt.fits to ./science/mastDownload/HST/jec401nxq/jec401nxq_flt.fits ... [Done]\n"
     ]
    }
   ],
   "source": [
    "science_list = Observations.query_criteria(proposal_id='16231', filters='F150LP',\\\n",
    "                                           obs_id='jec401010')\n",
    "Observations.download_products(science_list['obsid'], mrp_only=False, download_dir='./science',\\\n",
    "                               productSubGroupDescription=['FLT'])\n",
    "\n",
    "science_files = glob.glob(os.path.join(os.curdir, 'science', 'mastDownload', 'HST', '*', '*fits'))\n",
    "for im in science_files:\n",
    "    root = im.split('/')[-1]\n",
    "    os.rename(im, './' + root)\n",
    "shutil.rmtree('science/')"
   ]
  },
  {
   "cell_type": "code",
   "execution_count": 53,
   "id": "b00c7073",
   "metadata": {},
   "outputs": [
    {
     "name": "stdout",
     "output_type": "stream",
     "text": [
      "Downloading URL https://mast.stsci.edu/api/v0.1/Download/file?uri=mast:HST/product/hst_16231_03_acs_sbc_f150lp_jec403ib_flt.fits to ./science/mastDownload/HST/hst_16231_03_acs_sbc_f150lp_jec403ib/hst_16231_03_acs_sbc_f150lp_jec403ib_flt.fits ... [Done]\n",
      "Downloading URL https://mast.stsci.edu/api/v0.1/Download/file?uri=mast:HST/product/hst_16231_03_acs_sbc_f150lp_jec403ic_flt.fits to ./science/mastDownload/HST/hst_16231_03_acs_sbc_f150lp_jec403ic/hst_16231_03_acs_sbc_f150lp_jec403ic_flt.fits ... [Done]\n",
      "Downloading URL https://mast.stsci.edu/api/v0.1/Download/file?uri=mast:HST/product/hst_16231_03_acs_sbc_f150lp_jec403id_flt.fits to ./science/mastDownload/HST/hst_16231_03_acs_sbc_f150lp_jec403id/hst_16231_03_acs_sbc_f150lp_jec403id_flt.fits ... [Done]\n",
      "Downloading URL https://mast.stsci.edu/api/v0.1/Download/file?uri=mast:HST/product/hst_16231_03_acs_sbc_f150lp_jec403ie_flt.fits to ./science/mastDownload/HST/hst_16231_03_acs_sbc_f150lp_jec403ie/hst_16231_03_acs_sbc_f150lp_jec403ie_flt.fits ... [Done]\n",
      "Downloading URL https://mast.stsci.edu/api/v0.1/Download/file?uri=mast:HST/product/jec403ibq_flt.fits to ./science/mastDownload/HST/jec403ibq/jec403ibq_flt.fits ... [Done]\n",
      "Downloading URL https://mast.stsci.edu/api/v0.1/Download/file?uri=mast:HST/product/jec403icq_flt.fits to ./science/mastDownload/HST/jec403icq/jec403icq_flt.fits ... [Done]\n",
      "Downloading URL https://mast.stsci.edu/api/v0.1/Download/file?uri=mast:HST/product/jec403idq_flt.fits to ./science/mastDownload/HST/jec403idq/jec403idq_flt.fits ... [Done]\n",
      "Downloading URL https://mast.stsci.edu/api/v0.1/Download/file?uri=mast:HST/product/jec403ieq_flt.fits to ./science/mastDownload/HST/jec403ieq/jec403ieq_flt.fits ... [Done]\n"
     ]
    }
   ],
   "source": [
    "science_list = Observations.query_criteria(proposal_id='16231', filters='F150LP',\\\n",
    "                                           obs_id='jec403*')\n",
    "Observations.download_products(science_list['obsid'], mrp_only=False, download_dir='./science',\\\n",
    "                               productSubGroupDescription=['FLT'])\n",
    "\n",
    "science_files = glob.glob(os.path.join(os.curdir, 'science', 'mastDownload', 'HST', '*', '*fits'))\n",
    "for im in science_files:\n",
    "    root = im.split('/')[-1]\n",
    "    os.rename(im, './' + root)\n",
    "shutil.rmtree('science/')"
   ]
  },
  {
   "cell_type": "code",
   "execution_count": 54,
   "id": "a3ef2ff6",
   "metadata": {},
   "outputs": [
    {
     "data": {
      "text/html": [
       "<div><i>Table masked=True length=16</i>\n",
       "<table id=\"table140613070428912\" class=\"table-striped table-bordered table-condensed\">\n",
       "<thead><tr><th>file</th><th>asn_id</th><th>detector</th><th>filter</th><th>nsamp</th><th>exptime</th><th>postarg1</th><th>postarg2</th></tr></thead>\n",
       "<thead><tr><th>str45</th><th>str9</th><th>str3</th><th>float64</th><th>float64</th><th>float64</th><th>float64</th><th>float64</th></tr></thead>\n",
       "<tr><td>hst_16231_01_acs_sbc_f150lp_jec401no_flt.fits</td><td>JEC401010</td><td>SBC</td><td>--</td><td>--</td><td>624.0</td><td>-0.21</td><td>-0.36</td></tr>\n",
       "<tr><td>hst_16231_01_acs_sbc_f150lp_jec401nr_flt.fits</td><td>JEC401010</td><td>SBC</td><td>--</td><td>--</td><td>624.0</td><td>0.63</td><td>-0.05</td></tr>\n",
       "<tr><td>hst_16231_01_acs_sbc_f150lp_jec401nv_flt.fits</td><td>JEC401010</td><td>SBC</td><td>--</td><td>--</td><td>624.0</td><td>0.21</td><td>0.36</td></tr>\n",
       "<tr><td>hst_16231_01_acs_sbc_f150lp_jec401nx_flt.fits</td><td>JEC401010</td><td>SBC</td><td>--</td><td>--</td><td>624.0</td><td>-0.63</td><td>0.05</td></tr>\n",
       "<tr><td>hst_16231_03_acs_sbc_f150lp_jec403ib_flt.fits</td><td>JEC403010</td><td>SBC</td><td>--</td><td>--</td><td>624.0</td><td>1.39</td><td>2.37</td></tr>\n",
       "<tr><td>...</td><td>...</td><td>...</td><td>...</td><td>...</td><td>...</td><td>...</td><td>...</td></tr>\n",
       "<tr><td>jec401nvq_flt.fits</td><td>JEC401010</td><td>SBC</td><td>--</td><td>--</td><td>624.0</td><td>0.21</td><td>0.36</td></tr>\n",
       "<tr><td>jec401nxq_flt.fits</td><td>JEC401010</td><td>SBC</td><td>--</td><td>--</td><td>624.0</td><td>-0.63</td><td>0.05</td></tr>\n",
       "<tr><td>jec403ibq_flt.fits</td><td>JEC403010</td><td>SBC</td><td>--</td><td>--</td><td>624.0</td><td>1.39</td><td>2.37</td></tr>\n",
       "<tr><td>jec403icq_flt.fits</td><td>JEC403010</td><td>SBC</td><td>--</td><td>--</td><td>624.0</td><td>2.23</td><td>2.68</td></tr>\n",
       "<tr><td>jec403idq_flt.fits</td><td>JEC403010</td><td>SBC</td><td>--</td><td>--</td><td>624.0</td><td>1.81</td><td>3.09</td></tr>\n",
       "<tr><td>jec403ieq_flt.fits</td><td>JEC403010</td><td>SBC</td><td>--</td><td>--</td><td>624.0</td><td>0.97</td><td>2.78</td></tr>\n",
       "</table></div>"
      ],
      "text/plain": [
       "<Table masked=True length=16>\n",
       "                     file                       asn_id  ... postarg1 postarg2\n",
       "                    str45                        str9   ... float64  float64 \n",
       "--------------------------------------------- --------- ... -------- --------\n",
       "hst_16231_01_acs_sbc_f150lp_jec401no_flt.fits JEC401010 ...    -0.21    -0.36\n",
       "hst_16231_01_acs_sbc_f150lp_jec401nr_flt.fits JEC401010 ...     0.63    -0.05\n",
       "hst_16231_01_acs_sbc_f150lp_jec401nv_flt.fits JEC401010 ...     0.21     0.36\n",
       "hst_16231_01_acs_sbc_f150lp_jec401nx_flt.fits JEC401010 ...    -0.63     0.05\n",
       "hst_16231_03_acs_sbc_f150lp_jec403ib_flt.fits JEC403010 ...     1.39     2.37\n",
       "                                          ...       ... ...      ...      ...\n",
       "                           jec401nvq_flt.fits JEC401010 ...     0.21     0.36\n",
       "                           jec401nxq_flt.fits JEC401010 ...    -0.63     0.05\n",
       "                           jec403ibq_flt.fits JEC403010 ...     1.39     2.37\n",
       "                           jec403icq_flt.fits JEC403010 ...     2.23     2.68\n",
       "                           jec403idq_flt.fits JEC403010 ...     1.81     3.09\n",
       "                           jec403ieq_flt.fits JEC403010 ...     0.97     2.78"
      ]
     },
     "execution_count": 54,
     "metadata": {},
     "output_type": "execute_result"
    }
   ],
   "source": [
    "collect = ImageFileCollection('./', glob_include=\"*flt.fits\", ext=0,\n",
    "                                 keywords=[\"asn_id\", \"detector\", \"filter\", \"nsamp\",\n",
    "                                           \"exptime\", \"postarg1\", \"postarg2\"])\n",
    "\n",
    "table = collect.summary\n",
    "table['exptime'].format = '7.1f'\n",
    "table['postarg1'].format = '7.2f'\n",
    "table['postarg2'].format = '7.2f'\n",
    "table"
   ]
  },
  {
   "cell_type": "code",
   "execution_count": 55,
   "id": "64774b6b",
   "metadata": {},
   "outputs": [],
   "source": [
    "no = 'hst_16231_01_acs_sbc_f150lp_jec401no_flt.fits'\n",
    "nr = 'hst_16231_01_acs_sbc_f150lp_jec401nr_flt.fits'\n",
    "nv = 'hst_16231_01_acs_sbc_f150lp_jec401nv_flt.fits'\n",
    "nx = 'hst_16231_01_acs_sbc_f150lp_jec401nx_flt.fits'\n",
    "lst_1 = [no, nr, nv, nx]\n",
    "ib = 'hst_16231_03_acs_sbc_f150lp_jec403ib_flt.fits'\n",
    "ic = 'hst_16231_03_acs_sbc_f150lp_jec403ic_flt.fits'\n",
    "id3 = 'hst_16231_03_acs_sbc_f150lp_jec403id_flt.fits'\n",
    "ie = 'hst_16231_03_acs_sbc_f150lp_jec403ie_flt.fits'\n",
    "lst_3 = [ib, ic, id3, ie]"
   ]
  },
  {
   "cell_type": "code",
   "execution_count": 61,
   "id": "7f82a29e",
   "metadata": {},
   "outputs": [],
   "source": [
    "no_f = fits.open(no)\n",
    "nr_f = fits.open(nr)\n",
    "nv_f = fits.open(nv)\n",
    "nx_f = fits.open(nx)\n",
    "ib_f = fits.open(no)\n",
    "ic_f = fits.open(no)\n",
    "id3_f = fits.open(no)\n",
    "ie_f = fits.open(no)\n",
    "lst = [no_f, nr_f, nv_f, nx_f, ib_f, ic_f, id3_f, ie_f]"
   ]
  },
  {
   "cell_type": "code",
   "execution_count": 57,
   "id": "32160391",
   "metadata": {},
   "outputs": [
    {
     "data": {
      "text/html": [
       "<div><i>Table masked=True length=8</i>\n",
       "<table id=\"table140613074040336\" class=\"table-striped table-bordered table-condensed\">\n",
       "<thead><tr><th>file</th><th>CRVAL1</th><th>CRVAL2</th><th>CD1_1</th><th>CD1_2</th><th>CD2_1</th><th>CD2_2</th></tr></thead>\n",
       "<thead><tr><th>str45</th><th>float64</th><th>float64</th><th>float64</th><th>float64</th><th>float64</th><th>float64</th></tr></thead>\n",
       "<tr><td>hst_16231_01_acs_sbc_f150lp_jec401no_flt.fits</td><td>319.60108</td><td>0.29211</td><td>-0.0000043322</td><td>0.0000069988</td><td>0.0000083008</td><td>0.0000045648</td></tr>\n",
       "<tr><td>hst_16231_01_acs_sbc_f150lp_jec401nr_flt.fits</td><td>319.60114</td><td>0.29187</td><td>-0.0000043321</td><td>0.0000069987</td><td>0.0000083007</td><td>0.0000045648</td></tr>\n",
       "<tr><td>hst_16231_01_acs_sbc_f150lp_jec401nv_flt.fits</td><td>319.60098</td><td>0.29191</td><td>-0.0000043320</td><td>0.0000069986</td><td>0.0000083005</td><td>0.0000045647</td></tr>\n",
       "<tr><td>hst_16231_01_acs_sbc_f150lp_jec401nx_flt.fits</td><td>319.60093</td><td>0.29215</td><td>-0.0000043320</td><td>0.0000069985</td><td>0.0000083004</td><td>0.0000045647</td></tr>\n",
       "<tr><td>hst_16231_03_acs_sbc_f150lp_jec403ib_flt.fits</td><td>319.60071</td><td>0.29137</td><td>-0.0000051746</td><td>0.0000064842</td><td>0.0000078034</td><td>0.0000052701</td></tr>\n",
       "<tr><td>hst_16231_03_acs_sbc_f150lp_jec403ic_flt.fits</td><td>319.60079</td><td>0.29114</td><td>-0.0000051745</td><td>0.0000064842</td><td>0.0000078033</td><td>0.0000052701</td></tr>\n",
       "<tr><td>hst_16231_03_acs_sbc_f150lp_jec403id_flt.fits</td><td>319.60062</td><td>0.29116</td><td>-0.0000051744</td><td>0.0000064840</td><td>0.0000078031</td><td>0.0000052700</td></tr>\n",
       "<tr><td>hst_16231_03_acs_sbc_f150lp_jec403ie_flt.fits</td><td>319.60054</td><td>0.29139</td><td>-0.0000051744</td><td>0.0000064840</td><td>0.0000078030</td><td>0.0000052699</td></tr>\n",
       "</table></div>"
      ],
      "text/plain": [
       "<Table masked=True length=8>\n",
       "                     file                       CRVAL1  ...    CD2_2    \n",
       "                    str45                      float64  ...   float64   \n",
       "--------------------------------------------- --------- ... ------------\n",
       "hst_16231_01_acs_sbc_f150lp_jec401no_flt.fits 319.60108 ... 0.0000045648\n",
       "hst_16231_01_acs_sbc_f150lp_jec401nr_flt.fits 319.60114 ... 0.0000045648\n",
       "hst_16231_01_acs_sbc_f150lp_jec401nv_flt.fits 319.60098 ... 0.0000045647\n",
       "hst_16231_01_acs_sbc_f150lp_jec401nx_flt.fits 319.60093 ... 0.0000045647\n",
       "hst_16231_03_acs_sbc_f150lp_jec403ib_flt.fits 319.60071 ... 0.0000052701\n",
       "hst_16231_03_acs_sbc_f150lp_jec403ic_flt.fits 319.60079 ... 0.0000052701\n",
       "hst_16231_03_acs_sbc_f150lp_jec403id_flt.fits 319.60062 ... 0.0000052700\n",
       "hst_16231_03_acs_sbc_f150lp_jec403ie_flt.fits 319.60054 ... 0.0000052699"
      ]
     },
     "execution_count": 57,
     "metadata": {},
     "output_type": "execute_result"
    }
   ],
   "source": [
    "collect = ImageFileCollection('./', filenames = lst_1 + lst_3, ext=2, glob_include = '*flt.fits',\n",
    "                                 keywords=[\"CRVAL1\", \"CRVAL2\", \"CD1_1\", \"CD1_2\",\n",
    "                                           \"CD2_1\", \"CD2_2\"])\n",
    "table = collect.summary\n",
    "table['CRVAL1'].format = '.5f'\n",
    "table['CRVAL2'].format = '.5f'\n",
    "table['CD1_1'].format = '.10f'\n",
    "table['CD1_2'].format = '.10f'\n",
    "table['CD2_1'].format = '.10f'\n",
    "table['CD2_2'].format = '.10f'\n",
    "table"
   ]
  },
  {
   "cell_type": "code",
   "execution_count": 64,
   "id": "43ba2629",
   "metadata": {},
   "outputs": [
    {
     "name": "stderr",
     "output_type": "stream",
     "text": [
      "INFO:drizzlepac.util:Setting up logfile :  tweakreg.log\n"
     ]
    },
    {
     "name": "stdout",
     "output_type": "stream",
     "text": [
      "Setting up logfile :  tweakreg.log\n"
     ]
    },
    {
     "name": "stderr",
     "output_type": "stream",
     "text": [
      "INFO:drizzlepac.tweakreg:TweakReg Version 3.4.2 started at: 14:24:58.471 (12/06/2022) \n"
     ]
    },
    {
     "name": "stdout",
     "output_type": "stream",
     "text": [
      "TweakReg Version 3.4.2 started at: 14:24:58.471 (12/06/2022) \n"
     ]
    },
    {
     "name": "stderr",
     "output_type": "stream",
     "text": [
      "INFO:drizzlepac.tweakreg:\n"
     ]
    },
    {
     "name": "stdout",
     "output_type": "stream",
     "text": [
      "\n"
     ]
    },
    {
     "name": "stderr",
     "output_type": "stream",
     "text": [
      "INFO:drizzlepac.util:Version Information\n"
     ]
    },
    {
     "name": "stdout",
     "output_type": "stream",
     "text": [
      "Version Information\n"
     ]
    },
    {
     "name": "stderr",
     "output_type": "stream",
     "text": [
      "INFO:drizzlepac.util:--------------------\n"
     ]
    },
    {
     "name": "stdout",
     "output_type": "stream",
     "text": [
      "--------------------\n"
     ]
    },
    {
     "name": "stderr",
     "output_type": "stream",
     "text": [
      "INFO:drizzlepac.util:Python Version [Clang 12.0.0 ]\n"
     ]
    },
    {
     "name": "stdout",
     "output_type": "stream",
     "text": [
      "Python Version [Clang 12.0.0 ]\n"
     ]
    },
    {
     "name": "stderr",
     "output_type": "stream",
     "text": [
      "INFO:drizzlepac.util:3.9.12 (main, Jun  1 2022, 06:36:29) \n"
     ]
    },
    {
     "name": "stdout",
     "output_type": "stream",
     "text": [
      "3.9.12 (main, Jun  1 2022, 06:36:29) \n"
     ]
    },
    {
     "name": "stderr",
     "output_type": "stream",
     "text": [
      "INFO:drizzlepac.util:numpy Version -> 1.22.4 \n"
     ]
    },
    {
     "name": "stdout",
     "output_type": "stream",
     "text": [
      "numpy Version -> 1.22.4 \n"
     ]
    },
    {
     "name": "stderr",
     "output_type": "stream",
     "text": [
      "INFO:drizzlepac.util:astropy Version -> 5.1 \n"
     ]
    },
    {
     "name": "stdout",
     "output_type": "stream",
     "text": [
      "astropy Version -> 5.1 \n"
     ]
    },
    {
     "name": "stderr",
     "output_type": "stream",
     "text": [
      "INFO:drizzlepac.util:stwcs Version -> 1.7.2 \n"
     ]
    },
    {
     "name": "stdout",
     "output_type": "stream",
     "text": [
      "stwcs Version -> 1.7.2 \n"
     ]
    },
    {
     "name": "stderr",
     "output_type": "stream",
     "text": [
      "INFO:drizzlepac.tweakreg:\n",
      "INFO:drizzlepac.tweakreg:USER INPUT PARAMETERS common to all Processing Steps:\n",
      "INFO:drizzlepac.tweakreg:\tclean :\tFalse\n",
      "INFO:drizzlepac.tweakreg:\tenforce_user_order :\tTrue\n",
      "INFO:drizzlepac.tweakreg:\texclusions :\t\n",
      "INFO:drizzlepac.tweakreg:\texpand_refcat :\tFalse\n",
      "INFO:drizzlepac.tweakreg:\tinput :\thst_16231_01_acs_sbc_f150lp_jec401no_flt.fits\n",
      "INFO:drizzlepac.tweakreg:\tinteractive :\tFalse\n",
      "INFO:drizzlepac.tweakreg:\trefimage :\t\n",
      "INFO:drizzlepac.tweakreg:\trunfile :\ttweakreg.log\n",
      "INFO:drizzlepac.tweakreg:\tupdatewcs :\tTrue\n",
      "INFO:drizzlepac.tweakreg:\tverbose :\tFalse\n",
      "INFO:drizzlepac.tweakreg:\twritecat :\tTrue\n",
      "INFO:drizzlepac.tweakreg:\n"
     ]
    },
    {
     "name": "stdout",
     "output_type": "stream",
     "text": [
      "\n"
     ]
    },
    {
     "name": "stderr",
     "output_type": "stream",
     "text": [
      "INFO:drizzlepac.tweakreg:Restoring WCS solutions to original state using updatewcs...\n"
     ]
    },
    {
     "name": "stdout",
     "output_type": "stream",
     "text": [
      "Restoring WCS solutions to original state using updatewcs...\n"
     ]
    },
    {
     "name": "stderr",
     "output_type": "stream",
     "text": [
      "INFO:drizzlepac.tweakreg:\n"
     ]
    },
    {
     "name": "stdout",
     "output_type": "stream",
     "text": [
      "\n",
      "AstrometryDB service available...\n"
     ]
    },
    {
     "name": "stderr",
     "output_type": "stream",
     "text": [
      "INFO:stwcs.updatewcs.astrometry_utils:AstrometryDB service available...\n",
      "INFO:drizzlepac.util:Trailer file written to:  tweakreg.log\n"
     ]
    },
    {
     "name": "stdout",
     "output_type": "stream",
     "text": [
      "Trailer file written to:  tweakreg.log\n"
     ]
    },
    {
     "name": "stderr",
     "output_type": "stream",
     "text": [
      "ERROR:stsci.tools.logutil.exc:An unhandled exception ocurred:\n",
      "Traceback (most recent call last):\n",
      "  File \"/Users/ha/.local/lib/python3.9/site-packages/drizzlepac/util.py\", line 230, in wrapper\n",
      "    result = func(*args, **kwargs)\n",
      "  File \"/Users/ha/.local/lib/python3.9/site-packages/drizzlepac/tweakreg.py\", line 175, in run\n",
      "    updatewcs.updatewcs(filenames)\n",
      "  File \"/Users/ha/.local/lib/python3.9/site-packages/stwcs/updatewcs/__init__.py\", line 144, in updatewcs\n",
      "    acorr = apply_corrections.setCorrections(f, vacorr=vacorr, tddcorr=tddcorr,\n",
      "  File \"/Users/ha/.local/lib/python3.9/site-packages/stwcs/updatewcs/apply_corrections.py\", line 67, in setCorrections\n",
      "    if not foundIDCTAB(fname):\n",
      "  File \"/Users/ha/.local/lib/python3.9/site-packages/stwcs/updatewcs/apply_corrections.py\", line 119, in foundIDCTAB\n",
      "    idctab = fileutil.osfn(idctab)\n",
      "  File \"/Users/ha/.local/lib/python3.9/site-packages/stsci/tools/fileutil.py\", line 1319, in osfn\n",
      "    ename = Expand(filename)\n",
      "  File \"/Users/ha/.local/lib/python3.9/site-packages/stsci/tools/fileutil.py\", line 1464, in Expand\n",
      "    outlist.append(os.path.expanduser(_expand1(word, noerror=noerror)))\n",
      "  File \"/Users/ha/.local/lib/python3.9/site-packages/stsci/tools/fileutil.py\", line 1503, in _expand1\n",
      "    raise ValueError(\"Undefined variable `%s' in string `%s'\" %\n",
      "ValueError: Undefined variable `jref' in string `jref$v6m2008mj_idc.fits'\n"
     ]
    },
    {
     "ename": "ValueError",
     "evalue": "Undefined variable `jref' in string `jref$v6m2008mj_idc.fits'",
     "output_type": "error",
     "traceback": [
      "\u001b[0;31m---------------------------------------------------------------------------\u001b[0m",
      "\u001b[0;31mValueError\u001b[0m                                Traceback (most recent call last)",
      "File \u001b[0;32m~/.local/lib/python3.9/site-packages/drizzlepac/util.py:230\u001b[0m, in \u001b[0;36mWithLogging.__call__.<locals>.wrapper\u001b[0;34m(*args, **kwargs)\u001b[0m\n\u001b[1;32m    223\u001b[0m \u001b[38;5;66;03m# This looks utterly bizarre, but it seems to be the only way I can\u001b[39;00m\n\u001b[1;32m    224\u001b[0m \u001b[38;5;66;03m# ensure that any exceptions that occur in the wrapped function are\u001b[39;00m\n\u001b[1;32m    225\u001b[0m \u001b[38;5;66;03m# logged before teardown_global_logging() is called.  Unless the\u001b[39;00m\n\u001b[1;32m    226\u001b[0m \u001b[38;5;66;03m# except clause is explicitly included here, even with just 'pass'\u001b[39;00m\n\u001b[1;32m    227\u001b[0m \u001b[38;5;66;03m# under it, Python discards the sys.exc_info() data by the time the\u001b[39;00m\n\u001b[1;32m    228\u001b[0m \u001b[38;5;66;03m# finally clause is reached.\u001b[39;00m\n\u001b[1;32m    229\u001b[0m \u001b[38;5;28;01mtry\u001b[39;00m:\n\u001b[0;32m--> 230\u001b[0m     result \u001b[38;5;241m=\u001b[39m \u001b[43mfunc\u001b[49m\u001b[43m(\u001b[49m\u001b[38;5;241;43m*\u001b[39;49m\u001b[43margs\u001b[49m\u001b[43m,\u001b[49m\u001b[43m \u001b[49m\u001b[38;5;241;43m*\u001b[39;49m\u001b[38;5;241;43m*\u001b[39;49m\u001b[43mkwargs\u001b[49m\u001b[43m)\u001b[49m\n\u001b[1;32m    231\u001b[0m \u001b[38;5;28;01mexcept\u001b[39;00m \u001b[38;5;167;01mException\u001b[39;00m \u001b[38;5;28;01mas\u001b[39;00m e:\n\u001b[1;32m    232\u001b[0m     errorobj \u001b[38;5;241m=\u001b[39m e\n",
      "File \u001b[0;32m~/.local/lib/python3.9/site-packages/drizzlepac/tweakreg.py:175\u001b[0m, in \u001b[0;36mrun\u001b[0;34m(configobj)\u001b[0m\n\u001b[1;32m    173\u001b[0m \u001b[38;5;28;01mif\u001b[39;00m configobj[\u001b[38;5;124m'\u001b[39m\u001b[38;5;124mupdatewcs\u001b[39m\u001b[38;5;124m'\u001b[39m]:\n\u001b[1;32m    174\u001b[0m     \u001b[38;5;28mprint\u001b[39m(\u001b[38;5;124m'\u001b[39m\u001b[38;5;130;01m\\n\u001b[39;00m\u001b[38;5;124mRestoring WCS solutions to original state using updatewcs...\u001b[39m\u001b[38;5;130;01m\\n\u001b[39;00m\u001b[38;5;124m'\u001b[39m)\n\u001b[0;32m--> 175\u001b[0m     \u001b[43mupdatewcs\u001b[49m\u001b[38;5;241;43m.\u001b[39;49m\u001b[43mupdatewcs\u001b[49m\u001b[43m(\u001b[49m\u001b[43mfilenames\u001b[49m\u001b[43m)\u001b[49m\n\u001b[1;32m    177\u001b[0m \u001b[38;5;28;01mif\u001b[39;00m catnames \u001b[38;5;129;01min\u001b[39;00m [\u001b[38;5;28;01mNone\u001b[39;00m,\u001b[38;5;124m'\u001b[39m\u001b[38;5;124m'\u001b[39m,\u001b[38;5;124m'\u001b[39m\u001b[38;5;124m \u001b[39m\u001b[38;5;124m'\u001b[39m,\u001b[38;5;124m'\u001b[39m\u001b[38;5;124mINDEF\u001b[39m\u001b[38;5;124m'\u001b[39m] \u001b[38;5;129;01mor\u001b[39;00m \u001b[38;5;28mlen\u001b[39m(catnames) \u001b[38;5;241m==\u001b[39m \u001b[38;5;241m0\u001b[39m:\n\u001b[1;32m    178\u001b[0m     catfile_par \u001b[38;5;241m=\u001b[39m configobj[\u001b[38;5;124m'\u001b[39m\u001b[38;5;124mCOORDINATE FILE DESCRIPTION\u001b[39m\u001b[38;5;124m'\u001b[39m][\u001b[38;5;124m'\u001b[39m\u001b[38;5;124mcatfile\u001b[39m\u001b[38;5;124m'\u001b[39m]\n",
      "File \u001b[0;32m~/.local/lib/python3.9/site-packages/stwcs/updatewcs/__init__.py:144\u001b[0m, in \u001b[0;36mupdatewcs\u001b[0;34m(input, vacorr, tddcorr, npolcorr, d2imcorr, checkfiles, verbose, use_db, all_wcs, remove_duplicates)\u001b[0m\n\u001b[1;32m    141\u001b[0m     astrometry \u001b[38;5;241m=\u001b[39m astrometry_utils\u001b[38;5;241m.\u001b[39mAstrometryDB(write_log\u001b[38;5;241m=\u001b[39mwrite_db_log)\n\u001b[1;32m    143\u001b[0m \u001b[38;5;28;01mfor\u001b[39;00m f \u001b[38;5;129;01min\u001b[39;00m files:\n\u001b[0;32m--> 144\u001b[0m     acorr \u001b[38;5;241m=\u001b[39m \u001b[43mapply_corrections\u001b[49m\u001b[38;5;241;43m.\u001b[39;49m\u001b[43msetCorrections\u001b[49m\u001b[43m(\u001b[49m\u001b[43mf\u001b[49m\u001b[43m,\u001b[49m\u001b[43m \u001b[49m\u001b[43mvacorr\u001b[49m\u001b[38;5;241;43m=\u001b[39;49m\u001b[43mvacorr\u001b[49m\u001b[43m,\u001b[49m\u001b[43m \u001b[49m\u001b[43mtddcorr\u001b[49m\u001b[38;5;241;43m=\u001b[39;49m\u001b[43mtddcorr\u001b[49m\u001b[43m,\u001b[49m\n\u001b[1;32m    145\u001b[0m \u001b[43m                                             \u001b[49m\u001b[43mnpolcorr\u001b[49m\u001b[38;5;241;43m=\u001b[39;49m\u001b[43mnpolcorr\u001b[49m\u001b[43m,\u001b[49m\u001b[43m \u001b[49m\u001b[43md2imcorr\u001b[49m\u001b[38;5;241;43m=\u001b[39;49m\u001b[43md2imcorr\u001b[49m\u001b[43m)\u001b[49m\n\u001b[1;32m    146\u001b[0m     \u001b[38;5;28;01mif\u001b[39;00m \u001b[38;5;124m'\u001b[39m\u001b[38;5;124mMakeWCS\u001b[39m\u001b[38;5;124m'\u001b[39m \u001b[38;5;129;01min\u001b[39;00m acorr \u001b[38;5;129;01mand\u001b[39;00m newIDCTAB(f):\n\u001b[1;32m    147\u001b[0m         logger\u001b[38;5;241m.\u001b[39mwarning(\u001b[38;5;124m\"\u001b[39m\u001b[38;5;130;01m\\n\u001b[39;00m\u001b[38;5;130;01m\\t\u001b[39;00m\u001b[38;5;124mNew IDCTAB file detected. All current WCSs will be deleted\u001b[39m\u001b[38;5;124m\"\u001b[39m)\n",
      "File \u001b[0;32m~/.local/lib/python3.9/site-packages/stwcs/updatewcs/apply_corrections.py:67\u001b[0m, in \u001b[0;36msetCorrections\u001b[0;34m(fname, vacorr, tddcorr, npolcorr, d2imcorr)\u001b[0m\n\u001b[1;32m     63\u001b[0m     _ \u001b[38;5;241m=\u001b[39m wfpc2_dgeo\u001b[38;5;241m.\u001b[39mupdate_wfpc2_d2geofile(fname)\n\u001b[1;32m     64\u001b[0m \u001b[38;5;66;03m# Check if idctab is present on disk\u001b[39;00m\n\u001b[1;32m     65\u001b[0m \u001b[38;5;66;03m# If kw IDCTAB is present in the header but the file is\u001b[39;00m\n\u001b[1;32m     66\u001b[0m \u001b[38;5;66;03m# not found on disk, do not run TDDCorr, MakeCWS and CompSIP\u001b[39;00m\n\u001b[0;32m---> 67\u001b[0m \u001b[38;5;28;01mif\u001b[39;00m \u001b[38;5;129;01mnot\u001b[39;00m \u001b[43mfoundIDCTAB\u001b[49m\u001b[43m(\u001b[49m\u001b[43mfname\u001b[49m\u001b[43m)\u001b[49m:\n\u001b[1;32m     68\u001b[0m     \u001b[38;5;28;01mif\u001b[39;00m \u001b[38;5;124m'\u001b[39m\u001b[38;5;124mTDDCorr\u001b[39m\u001b[38;5;124m'\u001b[39m \u001b[38;5;129;01min\u001b[39;00m acorr: acorr\u001b[38;5;241m.\u001b[39mremove(\u001b[38;5;124m'\u001b[39m\u001b[38;5;124mTDDCorr\u001b[39m\u001b[38;5;124m'\u001b[39m)\n\u001b[1;32m     69\u001b[0m     \u001b[38;5;28;01mif\u001b[39;00m \u001b[38;5;124m'\u001b[39m\u001b[38;5;124mMakeWCS\u001b[39m\u001b[38;5;124m'\u001b[39m \u001b[38;5;129;01min\u001b[39;00m acorr: acorr\u001b[38;5;241m.\u001b[39mremove(\u001b[38;5;124m'\u001b[39m\u001b[38;5;124mMakeWCS\u001b[39m\u001b[38;5;124m'\u001b[39m)\n",
      "File \u001b[0;32m~/.local/lib/python3.9/site-packages/stwcs/updatewcs/apply_corrections.py:119\u001b[0m, in \u001b[0;36mfoundIDCTAB\u001b[0;34m(fname)\u001b[0m\n\u001b[1;32m    117\u001b[0m \u001b[38;5;28;01mexcept\u001b[39;00m \u001b[38;5;167;01mKeyError\u001b[39;00m:\n\u001b[1;32m    118\u001b[0m     \u001b[38;5;28;01mreturn\u001b[39;00m \u001b[38;5;28;01mFalse\u001b[39;00m\n\u001b[0;32m--> 119\u001b[0m idctab \u001b[38;5;241m=\u001b[39m \u001b[43mfileutil\u001b[49m\u001b[38;5;241;43m.\u001b[39;49m\u001b[43mosfn\u001b[49m\u001b[43m(\u001b[49m\u001b[43midctab\u001b[49m\u001b[43m)\u001b[49m\n\u001b[1;32m    120\u001b[0m \u001b[38;5;28;01mif\u001b[39;00m os\u001b[38;5;241m.\u001b[39mpath\u001b[38;5;241m.\u001b[39mexists(idctab):\n\u001b[1;32m    121\u001b[0m     \u001b[38;5;28;01mreturn\u001b[39;00m \u001b[38;5;28;01mTrue\u001b[39;00m\n",
      "File \u001b[0;32m~/.local/lib/python3.9/site-packages/stsci/tools/fileutil.py:1319\u001b[0m, in \u001b[0;36mosfn\u001b[0;34m(filename)\u001b[0m\n\u001b[1;32m   1316\u001b[0m \u001b[38;5;28;01mif\u001b[39;00m filename \u001b[38;5;129;01mis\u001b[39;00m \u001b[38;5;28;01mNone\u001b[39;00m:\n\u001b[1;32m   1317\u001b[0m     \u001b[38;5;28;01mreturn\u001b[39;00m filename\n\u001b[0;32m-> 1319\u001b[0m ename \u001b[38;5;241m=\u001b[39m \u001b[43mExpand\u001b[49m\u001b[43m(\u001b[49m\u001b[43mfilename\u001b[49m\u001b[43m)\u001b[49m\n\u001b[1;32m   1320\u001b[0m dlist \u001b[38;5;241m=\u001b[39m [part\u001b[38;5;241m.\u001b[39mstrip() \u001b[38;5;28;01mfor\u001b[39;00m part \u001b[38;5;129;01min\u001b[39;00m ename\u001b[38;5;241m.\u001b[39msplit(os\u001b[38;5;241m.\u001b[39msep)]\n\u001b[1;32m   1321\u001b[0m \u001b[38;5;28;01mif\u001b[39;00m \u001b[38;5;28mlen\u001b[39m(dlist) \u001b[38;5;241m==\u001b[39m \u001b[38;5;241m1\u001b[39m \u001b[38;5;129;01mand\u001b[39;00m dlist[\u001b[38;5;241m0\u001b[39m] \u001b[38;5;129;01mnot\u001b[39;00m \u001b[38;5;129;01min\u001b[39;00m [os\u001b[38;5;241m.\u001b[39mcurdir, os\u001b[38;5;241m.\u001b[39mpardir]:\n",
      "File \u001b[0;32m~/.local/lib/python3.9/site-packages/stsci/tools/fileutil.py:1464\u001b[0m, in \u001b[0;36mExpand\u001b[0;34m(instring, noerror)\u001b[0m\n\u001b[1;32m   1462\u001b[0m outlist \u001b[38;5;241m=\u001b[39m []\n\u001b[1;32m   1463\u001b[0m \u001b[38;5;28;01mfor\u001b[39;00m word \u001b[38;5;129;01min\u001b[39;00m wordlist:\n\u001b[0;32m-> 1464\u001b[0m     outlist\u001b[38;5;241m.\u001b[39mappend(os\u001b[38;5;241m.\u001b[39mpath\u001b[38;5;241m.\u001b[39mexpanduser(\u001b[43m_expand1\u001b[49m\u001b[43m(\u001b[49m\u001b[43mword\u001b[49m\u001b[43m,\u001b[49m\u001b[43m \u001b[49m\u001b[43mnoerror\u001b[49m\u001b[38;5;241;43m=\u001b[39;49m\u001b[43mnoerror\u001b[49m\u001b[43m)\u001b[49m))\n\u001b[1;32m   1465\u001b[0m \u001b[38;5;28;01mreturn\u001b[39;00m \u001b[38;5;124m\"\u001b[39m\u001b[38;5;124m,\u001b[39m\u001b[38;5;124m\"\u001b[39m\u001b[38;5;241m.\u001b[39mjoin(outlist)\n",
      "File \u001b[0;32m~/.local/lib/python3.9/site-packages/stsci/tools/fileutil.py:1503\u001b[0m, in \u001b[0;36m_expand1\u001b[0;34m(instring, noerror)\u001b[0m\n\u001b[1;32m   1501\u001b[0m     \u001b[38;5;28;01mreturn\u001b[39;00m _expand1(varname \u001b[38;5;241m+\u001b[39m instring[mm\u001b[38;5;241m.\u001b[39mend():], noerror)\n\u001b[1;32m   1502\u001b[0m \u001b[38;5;28;01melse\u001b[39;00m:\n\u001b[0;32m-> 1503\u001b[0m     \u001b[38;5;28;01mraise\u001b[39;00m \u001b[38;5;167;01mValueError\u001b[39;00m(\u001b[38;5;124m\"\u001b[39m\u001b[38;5;124mUndefined variable `\u001b[39m\u001b[38;5;132;01m%s\u001b[39;00m\u001b[38;5;124m'\u001b[39m\u001b[38;5;124m in string `\u001b[39m\u001b[38;5;132;01m%s\u001b[39;00m\u001b[38;5;124m'\u001b[39m\u001b[38;5;124m\"\u001b[39m \u001b[38;5;241m%\u001b[39m\n\u001b[1;32m   1504\u001b[0m                      (varname, instring))\n",
      "\u001b[0;31mValueError\u001b[0m: Undefined variable `jref' in string `jref$v6m2008mj_idc.fits'"
     ]
    },
    {
     "ename": "ValueError",
     "evalue": "Undefined variable `jref' in string `jref$v6m2008mj_idc.fits'",
     "output_type": "error",
     "traceback": [
      "\u001b[0;31m---------------------------------------------------------------------------\u001b[0m",
      "\u001b[0;31mValueError\u001b[0m                                Traceback (most recent call last)",
      "Input \u001b[0;32mIn [64]\u001b[0m, in \u001b[0;36m<cell line: 1>\u001b[0;34m()\u001b[0m\n\u001b[0;32m----> 1\u001b[0m \u001b[43mtweakreg\u001b[49m\u001b[38;5;241;43m.\u001b[39;49m\u001b[43mTweakReg\u001b[49m\u001b[43m(\u001b[49m\u001b[43mno\u001b[49m\u001b[43m,\u001b[49m\u001b[43m \u001b[49m\n\u001b[1;32m      2\u001b[0m \u001b[43m    \u001b[49m\u001b[43mthreshold\u001b[49m\u001b[38;5;241;43m=\u001b[39;49m\u001b[38;5;241;43m400\u001b[39;49m\u001b[43m,\u001b[49m\n\u001b[1;32m      3\u001b[0m \u001b[43m    \u001b[49m\u001b[43mpeakmin\u001b[49m\u001b[43m \u001b[49m\u001b[38;5;241;43m=\u001b[39;49m\u001b[38;5;241;43m0\u001b[39;49m\u001b[43m,\u001b[49m\n\u001b[1;32m      4\u001b[0m \u001b[43m    \u001b[49m\u001b[43mconfigobj\u001b[49m\u001b[43m \u001b[49m\u001b[38;5;241;43m=\u001b[39;49m\u001b[43m \u001b[49m\u001b[38;5;28;43;01mNone\u001b[39;49;00m\u001b[43m,\u001b[49m\u001b[43m \u001b[49m\n\u001b[1;32m      5\u001b[0m \u001b[43m    \u001b[49m\u001b[43minteractive\u001b[49m\u001b[38;5;241;43m=\u001b[39;49m\u001b[38;5;28;43;01mFalse\u001b[39;49;00m\u001b[43m,\u001b[49m\n\u001b[1;32m      6\u001b[0m \u001b[43m    \u001b[49m\u001b[43mshiftfile\u001b[49m\u001b[38;5;241;43m=\u001b[39;49m\u001b[38;5;28;43;01mTrue\u001b[39;49;00m\u001b[43m,\u001b[49m\u001b[43m \u001b[49m\n\u001b[1;32m      7\u001b[0m \u001b[43m    \u001b[49m\u001b[43moutshifts\u001b[49m\u001b[38;5;241;43m=\u001b[39;49m\u001b[38;5;124;43m'\u001b[39;49m\u001b[38;5;124;43mshift_general.txt\u001b[39;49m\u001b[38;5;124;43m'\u001b[39;49m\u001b[43m,\u001b[49m\u001b[43m              \u001b[49m\n\u001b[1;32m      8\u001b[0m \u001b[43m    \u001b[49m\u001b[43mupdatehdr\u001b[49m\u001b[38;5;241;43m=\u001b[39;49m\u001b[38;5;28;43;01mTrue\u001b[39;49;00m\u001b[43m,\u001b[49m\n\u001b[1;32m      9\u001b[0m \u001b[43m    \u001b[49m\u001b[43mupdatewcs\u001b[49m\u001b[43m \u001b[49m\u001b[38;5;241;43m=\u001b[39;49m\u001b[43m \u001b[49m\u001b[38;5;28;43;01mTrue\u001b[39;49;00m\u001b[43m)\u001b[49m\n",
      "File \u001b[0;32m~/.local/lib/python3.9/site-packages/drizzlepac/tweakreg.py:840\u001b[0m, in \u001b[0;36mTweakReg\u001b[0;34m(files, editpars, configobj, imagefindcfg, refimagefindcfg, **input_dict)\u001b[0m\n\u001b[1;32m    836\u001b[0m \u001b[38;5;66;03m# If 'editpars' was set to True, util.getDefaultConfigObj() will have\u001b[39;00m\n\u001b[1;32m    837\u001b[0m \u001b[38;5;66;03m# already called 'run()'.\u001b[39;00m\n\u001b[1;32m    838\u001b[0m \u001b[38;5;28;01mif\u001b[39;00m \u001b[38;5;129;01mnot\u001b[39;00m editpars:\n\u001b[1;32m    839\u001b[0m     \u001b[38;5;66;03m# Pass full set of parameters on to the task\u001b[39;00m\n\u001b[0;32m--> 840\u001b[0m     \u001b[43mrun\u001b[49m\u001b[43m(\u001b[49m\u001b[43mconfigObj\u001b[49m\u001b[43m)\u001b[49m\n",
      "File \u001b[0;32m~/.local/lib/python3.9/site-packages/drizzlepac/util.py:244\u001b[0m, in \u001b[0;36mWithLogging.__call__.<locals>.wrapper\u001b[0;34m(*args, **kwargs)\u001b[0m\n\u001b[1;32m    240\u001b[0m         \u001b[38;5;66;03m# Insure that any exception raised by the code gets passed\u001b[39;00m\n\u001b[1;32m    241\u001b[0m         \u001b[38;5;66;03m# on (hope that end_logging didn't change the last\u001b[39;00m\n\u001b[1;32m    242\u001b[0m         \u001b[38;5;66;03m# exception raised)\u001b[39;00m\n\u001b[1;32m    243\u001b[0m         \u001b[38;5;28;01mif\u001b[39;00m errorobj:\n\u001b[0;32m--> 244\u001b[0m             \u001b[38;5;28;01mraise\u001b[39;00m errorobj\n\u001b[1;32m    245\u001b[0m \u001b[38;5;28;01mreturn\u001b[39;00m result\n",
      "File \u001b[0;32m~/.local/lib/python3.9/site-packages/drizzlepac/util.py:230\u001b[0m, in \u001b[0;36mWithLogging.__call__.<locals>.wrapper\u001b[0;34m(*args, **kwargs)\u001b[0m\n\u001b[1;32m    223\u001b[0m \u001b[38;5;66;03m# This looks utterly bizarre, but it seems to be the only way I can\u001b[39;00m\n\u001b[1;32m    224\u001b[0m \u001b[38;5;66;03m# ensure that any exceptions that occur in the wrapped function are\u001b[39;00m\n\u001b[1;32m    225\u001b[0m \u001b[38;5;66;03m# logged before teardown_global_logging() is called.  Unless the\u001b[39;00m\n\u001b[1;32m    226\u001b[0m \u001b[38;5;66;03m# except clause is explicitly included here, even with just 'pass'\u001b[39;00m\n\u001b[1;32m    227\u001b[0m \u001b[38;5;66;03m# under it, Python discards the sys.exc_info() data by the time the\u001b[39;00m\n\u001b[1;32m    228\u001b[0m \u001b[38;5;66;03m# finally clause is reached.\u001b[39;00m\n\u001b[1;32m    229\u001b[0m \u001b[38;5;28;01mtry\u001b[39;00m:\n\u001b[0;32m--> 230\u001b[0m     result \u001b[38;5;241m=\u001b[39m \u001b[43mfunc\u001b[49m\u001b[43m(\u001b[49m\u001b[38;5;241;43m*\u001b[39;49m\u001b[43margs\u001b[49m\u001b[43m,\u001b[49m\u001b[43m \u001b[49m\u001b[38;5;241;43m*\u001b[39;49m\u001b[38;5;241;43m*\u001b[39;49m\u001b[43mkwargs\u001b[49m\u001b[43m)\u001b[49m\n\u001b[1;32m    231\u001b[0m \u001b[38;5;28;01mexcept\u001b[39;00m \u001b[38;5;167;01mException\u001b[39;00m \u001b[38;5;28;01mas\u001b[39;00m e:\n\u001b[1;32m    232\u001b[0m     errorobj \u001b[38;5;241m=\u001b[39m e\n",
      "File \u001b[0;32m~/.local/lib/python3.9/site-packages/drizzlepac/tweakreg.py:175\u001b[0m, in \u001b[0;36mrun\u001b[0;34m(configobj)\u001b[0m\n\u001b[1;32m    173\u001b[0m \u001b[38;5;28;01mif\u001b[39;00m configobj[\u001b[38;5;124m'\u001b[39m\u001b[38;5;124mupdatewcs\u001b[39m\u001b[38;5;124m'\u001b[39m]:\n\u001b[1;32m    174\u001b[0m     \u001b[38;5;28mprint\u001b[39m(\u001b[38;5;124m'\u001b[39m\u001b[38;5;130;01m\\n\u001b[39;00m\u001b[38;5;124mRestoring WCS solutions to original state using updatewcs...\u001b[39m\u001b[38;5;130;01m\\n\u001b[39;00m\u001b[38;5;124m'\u001b[39m)\n\u001b[0;32m--> 175\u001b[0m     \u001b[43mupdatewcs\u001b[49m\u001b[38;5;241;43m.\u001b[39;49m\u001b[43mupdatewcs\u001b[49m\u001b[43m(\u001b[49m\u001b[43mfilenames\u001b[49m\u001b[43m)\u001b[49m\n\u001b[1;32m    177\u001b[0m \u001b[38;5;28;01mif\u001b[39;00m catnames \u001b[38;5;129;01min\u001b[39;00m [\u001b[38;5;28;01mNone\u001b[39;00m,\u001b[38;5;124m'\u001b[39m\u001b[38;5;124m'\u001b[39m,\u001b[38;5;124m'\u001b[39m\u001b[38;5;124m \u001b[39m\u001b[38;5;124m'\u001b[39m,\u001b[38;5;124m'\u001b[39m\u001b[38;5;124mINDEF\u001b[39m\u001b[38;5;124m'\u001b[39m] \u001b[38;5;129;01mor\u001b[39;00m \u001b[38;5;28mlen\u001b[39m(catnames) \u001b[38;5;241m==\u001b[39m \u001b[38;5;241m0\u001b[39m:\n\u001b[1;32m    178\u001b[0m     catfile_par \u001b[38;5;241m=\u001b[39m configobj[\u001b[38;5;124m'\u001b[39m\u001b[38;5;124mCOORDINATE FILE DESCRIPTION\u001b[39m\u001b[38;5;124m'\u001b[39m][\u001b[38;5;124m'\u001b[39m\u001b[38;5;124mcatfile\u001b[39m\u001b[38;5;124m'\u001b[39m]\n",
      "File \u001b[0;32m~/.local/lib/python3.9/site-packages/stwcs/updatewcs/__init__.py:144\u001b[0m, in \u001b[0;36mupdatewcs\u001b[0;34m(input, vacorr, tddcorr, npolcorr, d2imcorr, checkfiles, verbose, use_db, all_wcs, remove_duplicates)\u001b[0m\n\u001b[1;32m    141\u001b[0m     astrometry \u001b[38;5;241m=\u001b[39m astrometry_utils\u001b[38;5;241m.\u001b[39mAstrometryDB(write_log\u001b[38;5;241m=\u001b[39mwrite_db_log)\n\u001b[1;32m    143\u001b[0m \u001b[38;5;28;01mfor\u001b[39;00m f \u001b[38;5;129;01min\u001b[39;00m files:\n\u001b[0;32m--> 144\u001b[0m     acorr \u001b[38;5;241m=\u001b[39m \u001b[43mapply_corrections\u001b[49m\u001b[38;5;241;43m.\u001b[39;49m\u001b[43msetCorrections\u001b[49m\u001b[43m(\u001b[49m\u001b[43mf\u001b[49m\u001b[43m,\u001b[49m\u001b[43m \u001b[49m\u001b[43mvacorr\u001b[49m\u001b[38;5;241;43m=\u001b[39;49m\u001b[43mvacorr\u001b[49m\u001b[43m,\u001b[49m\u001b[43m \u001b[49m\u001b[43mtddcorr\u001b[49m\u001b[38;5;241;43m=\u001b[39;49m\u001b[43mtddcorr\u001b[49m\u001b[43m,\u001b[49m\n\u001b[1;32m    145\u001b[0m \u001b[43m                                             \u001b[49m\u001b[43mnpolcorr\u001b[49m\u001b[38;5;241;43m=\u001b[39;49m\u001b[43mnpolcorr\u001b[49m\u001b[43m,\u001b[49m\u001b[43m \u001b[49m\u001b[43md2imcorr\u001b[49m\u001b[38;5;241;43m=\u001b[39;49m\u001b[43md2imcorr\u001b[49m\u001b[43m)\u001b[49m\n\u001b[1;32m    146\u001b[0m     \u001b[38;5;28;01mif\u001b[39;00m \u001b[38;5;124m'\u001b[39m\u001b[38;5;124mMakeWCS\u001b[39m\u001b[38;5;124m'\u001b[39m \u001b[38;5;129;01min\u001b[39;00m acorr \u001b[38;5;129;01mand\u001b[39;00m newIDCTAB(f):\n\u001b[1;32m    147\u001b[0m         logger\u001b[38;5;241m.\u001b[39mwarning(\u001b[38;5;124m\"\u001b[39m\u001b[38;5;130;01m\\n\u001b[39;00m\u001b[38;5;130;01m\\t\u001b[39;00m\u001b[38;5;124mNew IDCTAB file detected. All current WCSs will be deleted\u001b[39m\u001b[38;5;124m\"\u001b[39m)\n",
      "File \u001b[0;32m~/.local/lib/python3.9/site-packages/stwcs/updatewcs/apply_corrections.py:67\u001b[0m, in \u001b[0;36msetCorrections\u001b[0;34m(fname, vacorr, tddcorr, npolcorr, d2imcorr)\u001b[0m\n\u001b[1;32m     63\u001b[0m     _ \u001b[38;5;241m=\u001b[39m wfpc2_dgeo\u001b[38;5;241m.\u001b[39mupdate_wfpc2_d2geofile(fname)\n\u001b[1;32m     64\u001b[0m \u001b[38;5;66;03m# Check if idctab is present on disk\u001b[39;00m\n\u001b[1;32m     65\u001b[0m \u001b[38;5;66;03m# If kw IDCTAB is present in the header but the file is\u001b[39;00m\n\u001b[1;32m     66\u001b[0m \u001b[38;5;66;03m# not found on disk, do not run TDDCorr, MakeCWS and CompSIP\u001b[39;00m\n\u001b[0;32m---> 67\u001b[0m \u001b[38;5;28;01mif\u001b[39;00m \u001b[38;5;129;01mnot\u001b[39;00m \u001b[43mfoundIDCTAB\u001b[49m\u001b[43m(\u001b[49m\u001b[43mfname\u001b[49m\u001b[43m)\u001b[49m:\n\u001b[1;32m     68\u001b[0m     \u001b[38;5;28;01mif\u001b[39;00m \u001b[38;5;124m'\u001b[39m\u001b[38;5;124mTDDCorr\u001b[39m\u001b[38;5;124m'\u001b[39m \u001b[38;5;129;01min\u001b[39;00m acorr: acorr\u001b[38;5;241m.\u001b[39mremove(\u001b[38;5;124m'\u001b[39m\u001b[38;5;124mTDDCorr\u001b[39m\u001b[38;5;124m'\u001b[39m)\n\u001b[1;32m     69\u001b[0m     \u001b[38;5;28;01mif\u001b[39;00m \u001b[38;5;124m'\u001b[39m\u001b[38;5;124mMakeWCS\u001b[39m\u001b[38;5;124m'\u001b[39m \u001b[38;5;129;01min\u001b[39;00m acorr: acorr\u001b[38;5;241m.\u001b[39mremove(\u001b[38;5;124m'\u001b[39m\u001b[38;5;124mMakeWCS\u001b[39m\u001b[38;5;124m'\u001b[39m)\n",
      "File \u001b[0;32m~/.local/lib/python3.9/site-packages/stwcs/updatewcs/apply_corrections.py:119\u001b[0m, in \u001b[0;36mfoundIDCTAB\u001b[0;34m(fname)\u001b[0m\n\u001b[1;32m    117\u001b[0m \u001b[38;5;28;01mexcept\u001b[39;00m \u001b[38;5;167;01mKeyError\u001b[39;00m:\n\u001b[1;32m    118\u001b[0m     \u001b[38;5;28;01mreturn\u001b[39;00m \u001b[38;5;28;01mFalse\u001b[39;00m\n\u001b[0;32m--> 119\u001b[0m idctab \u001b[38;5;241m=\u001b[39m \u001b[43mfileutil\u001b[49m\u001b[38;5;241;43m.\u001b[39;49m\u001b[43mosfn\u001b[49m\u001b[43m(\u001b[49m\u001b[43midctab\u001b[49m\u001b[43m)\u001b[49m\n\u001b[1;32m    120\u001b[0m \u001b[38;5;28;01mif\u001b[39;00m os\u001b[38;5;241m.\u001b[39mpath\u001b[38;5;241m.\u001b[39mexists(idctab):\n\u001b[1;32m    121\u001b[0m     \u001b[38;5;28;01mreturn\u001b[39;00m \u001b[38;5;28;01mTrue\u001b[39;00m\n",
      "File \u001b[0;32m~/.local/lib/python3.9/site-packages/stsci/tools/fileutil.py:1319\u001b[0m, in \u001b[0;36mosfn\u001b[0;34m(filename)\u001b[0m\n\u001b[1;32m   1316\u001b[0m \u001b[38;5;28;01mif\u001b[39;00m filename \u001b[38;5;129;01mis\u001b[39;00m \u001b[38;5;28;01mNone\u001b[39;00m:\n\u001b[1;32m   1317\u001b[0m     \u001b[38;5;28;01mreturn\u001b[39;00m filename\n\u001b[0;32m-> 1319\u001b[0m ename \u001b[38;5;241m=\u001b[39m \u001b[43mExpand\u001b[49m\u001b[43m(\u001b[49m\u001b[43mfilename\u001b[49m\u001b[43m)\u001b[49m\n\u001b[1;32m   1320\u001b[0m dlist \u001b[38;5;241m=\u001b[39m [part\u001b[38;5;241m.\u001b[39mstrip() \u001b[38;5;28;01mfor\u001b[39;00m part \u001b[38;5;129;01min\u001b[39;00m ename\u001b[38;5;241m.\u001b[39msplit(os\u001b[38;5;241m.\u001b[39msep)]\n\u001b[1;32m   1321\u001b[0m \u001b[38;5;28;01mif\u001b[39;00m \u001b[38;5;28mlen\u001b[39m(dlist) \u001b[38;5;241m==\u001b[39m \u001b[38;5;241m1\u001b[39m \u001b[38;5;129;01mand\u001b[39;00m dlist[\u001b[38;5;241m0\u001b[39m] \u001b[38;5;129;01mnot\u001b[39;00m \u001b[38;5;129;01min\u001b[39;00m [os\u001b[38;5;241m.\u001b[39mcurdir, os\u001b[38;5;241m.\u001b[39mpardir]:\n",
      "File \u001b[0;32m~/.local/lib/python3.9/site-packages/stsci/tools/fileutil.py:1464\u001b[0m, in \u001b[0;36mExpand\u001b[0;34m(instring, noerror)\u001b[0m\n\u001b[1;32m   1462\u001b[0m outlist \u001b[38;5;241m=\u001b[39m []\n\u001b[1;32m   1463\u001b[0m \u001b[38;5;28;01mfor\u001b[39;00m word \u001b[38;5;129;01min\u001b[39;00m wordlist:\n\u001b[0;32m-> 1464\u001b[0m     outlist\u001b[38;5;241m.\u001b[39mappend(os\u001b[38;5;241m.\u001b[39mpath\u001b[38;5;241m.\u001b[39mexpanduser(\u001b[43m_expand1\u001b[49m\u001b[43m(\u001b[49m\u001b[43mword\u001b[49m\u001b[43m,\u001b[49m\u001b[43m \u001b[49m\u001b[43mnoerror\u001b[49m\u001b[38;5;241;43m=\u001b[39;49m\u001b[43mnoerror\u001b[49m\u001b[43m)\u001b[49m))\n\u001b[1;32m   1465\u001b[0m \u001b[38;5;28;01mreturn\u001b[39;00m \u001b[38;5;124m\"\u001b[39m\u001b[38;5;124m,\u001b[39m\u001b[38;5;124m\"\u001b[39m\u001b[38;5;241m.\u001b[39mjoin(outlist)\n",
      "File \u001b[0;32m~/.local/lib/python3.9/site-packages/stsci/tools/fileutil.py:1503\u001b[0m, in \u001b[0;36m_expand1\u001b[0;34m(instring, noerror)\u001b[0m\n\u001b[1;32m   1501\u001b[0m     \u001b[38;5;28;01mreturn\u001b[39;00m _expand1(varname \u001b[38;5;241m+\u001b[39m instring[mm\u001b[38;5;241m.\u001b[39mend():], noerror)\n\u001b[1;32m   1502\u001b[0m \u001b[38;5;28;01melse\u001b[39;00m:\n\u001b[0;32m-> 1503\u001b[0m     \u001b[38;5;28;01mraise\u001b[39;00m \u001b[38;5;167;01mValueError\u001b[39;00m(\u001b[38;5;124m\"\u001b[39m\u001b[38;5;124mUndefined variable `\u001b[39m\u001b[38;5;132;01m%s\u001b[39;00m\u001b[38;5;124m'\u001b[39m\u001b[38;5;124m in string `\u001b[39m\u001b[38;5;132;01m%s\u001b[39;00m\u001b[38;5;124m'\u001b[39m\u001b[38;5;124m\"\u001b[39m \u001b[38;5;241m%\u001b[39m\n\u001b[1;32m   1504\u001b[0m                      (varname, instring))\n",
      "\u001b[0;31mValueError\u001b[0m: Undefined variable `jref' in string `jref$v6m2008mj_idc.fits'"
     ]
    }
   ],
   "source": [
    "tweakreg.TweakReg(lst_1+lst_3, \n",
    "    threshold=400,\n",
    "    peakmin =0,\n",
    "    configobj = None, \n",
    "    interactive=False,\n",
    "    shiftfile=True, \n",
    "    outshifts='shift_general.txt',              \n",
    "    updatehdr=True)"
   ]
  },
  {
   "cell_type": "code",
   "execution_count": 60,
   "id": "953a4d9d",
   "metadata": {},
   "outputs": [
    {
     "ename": "FileNotFoundError",
     "evalue": "[Errno 2] No such file or directory: 'shift_general.txt'",
     "output_type": "error",
     "traceback": [
      "\u001b[0;31m---------------------------------------------------------------------------\u001b[0m",
      "\u001b[0;31mFileNotFoundError\u001b[0m                         Traceback (most recent call last)",
      "Input \u001b[0;32mIn [60]\u001b[0m, in \u001b[0;36m<cell line: 1>\u001b[0;34m()\u001b[0m\n\u001b[0;32m----> 1\u001b[0m shift_tab\u001b[38;5;241m=\u001b[39m\u001b[43mTable\u001b[49m\u001b[38;5;241;43m.\u001b[39;49m\u001b[43mread\u001b[49m\u001b[43m(\u001b[49m\u001b[38;5;124;43m'\u001b[39;49m\u001b[38;5;124;43mshift_general.txt\u001b[39;49m\u001b[38;5;124;43m'\u001b[39;49m\u001b[43m,\u001b[49m\n\u001b[1;32m      2\u001b[0m \u001b[43m                     \u001b[49m\u001b[38;5;28;43mformat\u001b[39;49m\u001b[38;5;241;43m=\u001b[39;49m\u001b[38;5;124;43m'\u001b[39;49m\u001b[38;5;124;43mascii.no_header\u001b[39;49m\u001b[38;5;124;43m'\u001b[39;49m\u001b[43m,\u001b[49m\n\u001b[1;32m      3\u001b[0m \u001b[43m                     \u001b[49m\u001b[43mnames\u001b[49m\u001b[38;5;241;43m=\u001b[39;49m\u001b[43m[\u001b[49m\u001b[38;5;124;43m'\u001b[39;49m\u001b[38;5;124;43mfile\u001b[39;49m\u001b[38;5;124;43m'\u001b[39;49m\u001b[43m,\u001b[49m\u001b[38;5;124;43m'\u001b[39;49m\u001b[38;5;124;43mdx\u001b[39;49m\u001b[38;5;124;43m'\u001b[39;49m\u001b[43m,\u001b[49m\u001b[38;5;124;43m'\u001b[39;49m\u001b[38;5;124;43mdy\u001b[39;49m\u001b[38;5;124;43m'\u001b[39;49m\u001b[43m,\u001b[49m\u001b[38;5;124;43m'\u001b[39;49m\u001b[38;5;124;43mrot\u001b[39;49m\u001b[38;5;124;43m'\u001b[39;49m\u001b[43m,\u001b[49m\u001b[38;5;124;43m'\u001b[39;49m\u001b[38;5;124;43mscale\u001b[39;49m\u001b[38;5;124;43m'\u001b[39;49m\u001b[43m,\u001b[49m\u001b[38;5;124;43m'\u001b[39;49m\u001b[38;5;124;43mxrms\u001b[39;49m\u001b[38;5;124;43m'\u001b[39;49m\u001b[43m,\u001b[49m\u001b[38;5;124;43m'\u001b[39;49m\u001b[38;5;124;43myrms\u001b[39;49m\u001b[38;5;124;43m'\u001b[39;49m\u001b[43m]\u001b[49m\u001b[43m)\u001b[49m\n\u001b[1;32m      5\u001b[0m formats \u001b[38;5;241m=\u001b[39m [\u001b[38;5;124m'\u001b[39m\u001b[38;5;124m.2f\u001b[39m\u001b[38;5;124m'\u001b[39m, \u001b[38;5;124m'\u001b[39m\u001b[38;5;124m.2f\u001b[39m\u001b[38;5;124m'\u001b[39m, \u001b[38;5;124m'\u001b[39m\u001b[38;5;124m.3f\u001b[39m\u001b[38;5;124m'\u001b[39m, \u001b[38;5;124m'\u001b[39m\u001b[38;5;124m.5f\u001b[39m\u001b[38;5;124m'\u001b[39m, \u001b[38;5;124m'\u001b[39m\u001b[38;5;124m.2f\u001b[39m\u001b[38;5;124m'\u001b[39m, \u001b[38;5;124m'\u001b[39m\u001b[38;5;124m.2f\u001b[39m\u001b[38;5;124m'\u001b[39m]\n\u001b[1;32m      6\u001b[0m \u001b[38;5;28;01mfor\u001b[39;00m i, col \u001b[38;5;129;01min\u001b[39;00m \u001b[38;5;28menumerate\u001b[39m(shift_tab\u001b[38;5;241m.\u001b[39mcolnames[\u001b[38;5;241m1\u001b[39m:]):\n",
      "File \u001b[0;32m~/.local/lib/python3.9/site-packages/astropy/table/connect.py:62\u001b[0m, in \u001b[0;36mTableRead.__call__\u001b[0;34m(self, *args, **kwargs)\u001b[0m\n\u001b[1;32m     59\u001b[0m units \u001b[38;5;241m=\u001b[39m kwargs\u001b[38;5;241m.\u001b[39mpop(\u001b[38;5;124m'\u001b[39m\u001b[38;5;124munits\u001b[39m\u001b[38;5;124m'\u001b[39m, \u001b[38;5;28;01mNone\u001b[39;00m)\n\u001b[1;32m     60\u001b[0m descriptions \u001b[38;5;241m=\u001b[39m kwargs\u001b[38;5;241m.\u001b[39mpop(\u001b[38;5;124m'\u001b[39m\u001b[38;5;124mdescriptions\u001b[39m\u001b[38;5;124m'\u001b[39m, \u001b[38;5;28;01mNone\u001b[39;00m)\n\u001b[0;32m---> 62\u001b[0m out \u001b[38;5;241m=\u001b[39m \u001b[38;5;28;43mself\u001b[39;49m\u001b[38;5;241;43m.\u001b[39;49m\u001b[43mregistry\u001b[49m\u001b[38;5;241;43m.\u001b[39;49m\u001b[43mread\u001b[49m\u001b[43m(\u001b[49m\u001b[38;5;28;43mcls\u001b[39;49m\u001b[43m,\u001b[49m\u001b[43m \u001b[49m\u001b[38;5;241;43m*\u001b[39;49m\u001b[43margs\u001b[49m\u001b[43m,\u001b[49m\u001b[43m \u001b[49m\u001b[38;5;241;43m*\u001b[39;49m\u001b[38;5;241;43m*\u001b[39;49m\u001b[43mkwargs\u001b[49m\u001b[43m)\u001b[49m\n\u001b[1;32m     64\u001b[0m \u001b[38;5;66;03m# For some readers (e.g., ascii.ecsv), the returned `out` class is not\u001b[39;00m\n\u001b[1;32m     65\u001b[0m \u001b[38;5;66;03m# guaranteed to be the same as the desired output `cls`.  If so,\u001b[39;00m\n\u001b[1;32m     66\u001b[0m \u001b[38;5;66;03m# try coercing to desired class without copying (io.registry.read\u001b[39;00m\n\u001b[1;32m     67\u001b[0m \u001b[38;5;66;03m# would normally do a copy).  The normal case here is swapping\u001b[39;00m\n\u001b[1;32m     68\u001b[0m \u001b[38;5;66;03m# Table <=> QTable.\u001b[39;00m\n\u001b[1;32m     69\u001b[0m \u001b[38;5;28;01mif\u001b[39;00m \u001b[38;5;28mcls\u001b[39m \u001b[38;5;129;01mis\u001b[39;00m \u001b[38;5;129;01mnot\u001b[39;00m out\u001b[38;5;241m.\u001b[39m\u001b[38;5;18m__class__\u001b[39m:\n",
      "File \u001b[0;32m~/.local/lib/python3.9/site-packages/astropy/io/registry/core.py:212\u001b[0m, in \u001b[0;36mUnifiedInputRegistry.read\u001b[0;34m(self, cls, format, cache, *args, **kwargs)\u001b[0m\n\u001b[1;32m    208\u001b[0m     \u001b[38;5;28mformat\u001b[39m \u001b[38;5;241m=\u001b[39m \u001b[38;5;28mself\u001b[39m\u001b[38;5;241m.\u001b[39m_get_valid_format(\n\u001b[1;32m    209\u001b[0m         \u001b[38;5;124m'\u001b[39m\u001b[38;5;124mread\u001b[39m\u001b[38;5;124m'\u001b[39m, \u001b[38;5;28mcls\u001b[39m, path, fileobj, args, kwargs)\n\u001b[1;32m    211\u001b[0m reader \u001b[38;5;241m=\u001b[39m \u001b[38;5;28mself\u001b[39m\u001b[38;5;241m.\u001b[39mget_reader(\u001b[38;5;28mformat\u001b[39m, \u001b[38;5;28mcls\u001b[39m)\n\u001b[0;32m--> 212\u001b[0m data \u001b[38;5;241m=\u001b[39m \u001b[43mreader\u001b[49m\u001b[43m(\u001b[49m\u001b[38;5;241;43m*\u001b[39;49m\u001b[43margs\u001b[49m\u001b[43m,\u001b[49m\u001b[43m \u001b[49m\u001b[38;5;241;43m*\u001b[39;49m\u001b[38;5;241;43m*\u001b[39;49m\u001b[43mkwargs\u001b[49m\u001b[43m)\u001b[49m\n\u001b[1;32m    214\u001b[0m \u001b[38;5;28;01mif\u001b[39;00m \u001b[38;5;129;01mnot\u001b[39;00m \u001b[38;5;28misinstance\u001b[39m(data, \u001b[38;5;28mcls\u001b[39m):\n\u001b[1;32m    215\u001b[0m     \u001b[38;5;66;03m# User has read with a subclass where only the parent class is\u001b[39;00m\n\u001b[1;32m    216\u001b[0m     \u001b[38;5;66;03m# registered.  This returns the parent class, so try coercing\u001b[39;00m\n\u001b[1;32m    217\u001b[0m     \u001b[38;5;66;03m# to desired subclass.\u001b[39;00m\n\u001b[1;32m    218\u001b[0m     \u001b[38;5;28;01mtry\u001b[39;00m:\n",
      "File \u001b[0;32m~/.local/lib/python3.9/site-packages/astropy/io/ascii/connect.py:18\u001b[0m, in \u001b[0;36mio_read\u001b[0;34m(format, filename, **kwargs)\u001b[0m\n\u001b[1;32m     16\u001b[0m     \u001b[38;5;28mformat\u001b[39m \u001b[38;5;241m=\u001b[39m re\u001b[38;5;241m.\u001b[39msub(\u001b[38;5;124mr\u001b[39m\u001b[38;5;124m'\u001b[39m\u001b[38;5;124m^ascii\u001b[39m\u001b[38;5;124m\\\u001b[39m\u001b[38;5;124m.\u001b[39m\u001b[38;5;124m'\u001b[39m, \u001b[38;5;124m'\u001b[39m\u001b[38;5;124m'\u001b[39m, \u001b[38;5;28mformat\u001b[39m)\n\u001b[1;32m     17\u001b[0m     kwargs[\u001b[38;5;124m'\u001b[39m\u001b[38;5;124mformat\u001b[39m\u001b[38;5;124m'\u001b[39m] \u001b[38;5;241m=\u001b[39m \u001b[38;5;28mformat\u001b[39m\n\u001b[0;32m---> 18\u001b[0m \u001b[38;5;28;01mreturn\u001b[39;00m \u001b[43mread\u001b[49m\u001b[43m(\u001b[49m\u001b[43mfilename\u001b[49m\u001b[43m,\u001b[49m\u001b[43m \u001b[49m\u001b[38;5;241;43m*\u001b[39;49m\u001b[38;5;241;43m*\u001b[39;49m\u001b[43mkwargs\u001b[49m\u001b[43m)\u001b[49m\n",
      "File \u001b[0;32m~/.local/lib/python3.9/site-packages/astropy/io/ascii/ui.py:359\u001b[0m, in \u001b[0;36mread\u001b[0;34m(table, guess, **kwargs)\u001b[0m\n\u001b[1;32m    353\u001b[0m             new_kwargs[\u001b[38;5;124m'\u001b[39m\u001b[38;5;124mguess_html\u001b[39m\u001b[38;5;124m'\u001b[39m] \u001b[38;5;241m=\u001b[39m _probably_html(table)\n\u001b[1;32m    355\u001b[0m \u001b[38;5;66;03m# Get the table from guess in ``dat``.  If ``dat`` comes back as None\u001b[39;00m\n\u001b[1;32m    356\u001b[0m \u001b[38;5;66;03m# then there was just one set of kwargs in the guess list so fall\u001b[39;00m\n\u001b[1;32m    357\u001b[0m \u001b[38;5;66;03m# through below to the non-guess way so that any problems result in a\u001b[39;00m\n\u001b[1;32m    358\u001b[0m \u001b[38;5;66;03m# more useful traceback.\u001b[39;00m\n\u001b[0;32m--> 359\u001b[0m dat \u001b[38;5;241m=\u001b[39m \u001b[43m_guess\u001b[49m\u001b[43m(\u001b[49m\u001b[43mtable\u001b[49m\u001b[43m,\u001b[49m\u001b[43m \u001b[49m\u001b[43mnew_kwargs\u001b[49m\u001b[43m,\u001b[49m\u001b[43m \u001b[49m\u001b[38;5;28;43mformat\u001b[39;49m\u001b[43m,\u001b[49m\u001b[43m \u001b[49m\u001b[43mfast_reader\u001b[49m\u001b[43m)\u001b[49m\n\u001b[1;32m    360\u001b[0m \u001b[38;5;28;01mif\u001b[39;00m dat \u001b[38;5;129;01mis\u001b[39;00m \u001b[38;5;28;01mNone\u001b[39;00m:\n\u001b[1;32m    361\u001b[0m     guess \u001b[38;5;241m=\u001b[39m \u001b[38;5;28;01mFalse\u001b[39;00m\n",
      "File \u001b[0;32m~/.local/lib/python3.9/site-packages/astropy/io/ascii/ui.py:526\u001b[0m, in \u001b[0;36m_guess\u001b[0;34m(table, read_kwargs, format, fast_reader)\u001b[0m\n\u001b[1;32m    523\u001b[0m reader \u001b[38;5;241m=\u001b[39m get_reader(\u001b[38;5;241m*\u001b[39m\u001b[38;5;241m*\u001b[39mguess_kwargs)\n\u001b[1;32m    525\u001b[0m reader\u001b[38;5;241m.\u001b[39mguessing \u001b[38;5;241m=\u001b[39m \u001b[38;5;28;01mTrue\u001b[39;00m\n\u001b[0;32m--> 526\u001b[0m dat \u001b[38;5;241m=\u001b[39m \u001b[43mreader\u001b[49m\u001b[38;5;241;43m.\u001b[39;49m\u001b[43mread\u001b[49m\u001b[43m(\u001b[49m\u001b[43mtable\u001b[49m\u001b[43m)\u001b[49m\n\u001b[1;32m    527\u001b[0m _read_trace\u001b[38;5;241m.\u001b[39mappend({\u001b[38;5;124m'\u001b[39m\u001b[38;5;124mkwargs\u001b[39m\u001b[38;5;124m'\u001b[39m: copy\u001b[38;5;241m.\u001b[39mdeepcopy(guess_kwargs),\n\u001b[1;32m    528\u001b[0m                     \u001b[38;5;124m'\u001b[39m\u001b[38;5;124mReader\u001b[39m\u001b[38;5;124m'\u001b[39m: reader\u001b[38;5;241m.\u001b[39m\u001b[38;5;18m__class__\u001b[39m,\n\u001b[1;32m    529\u001b[0m                     \u001b[38;5;124m'\u001b[39m\u001b[38;5;124mstatus\u001b[39m\u001b[38;5;124m'\u001b[39m: \u001b[38;5;124m'\u001b[39m\u001b[38;5;124mSuccess (guessing)\u001b[39m\u001b[38;5;124m'\u001b[39m,\n\u001b[1;32m    530\u001b[0m                     \u001b[38;5;124m'\u001b[39m\u001b[38;5;124mdt\u001b[39m\u001b[38;5;124m'\u001b[39m: \u001b[38;5;124mf\u001b[39m\u001b[38;5;124m'\u001b[39m\u001b[38;5;132;01m{\u001b[39;00m(time\u001b[38;5;241m.\u001b[39mtime() \u001b[38;5;241m-\u001b[39m t0) \u001b[38;5;241m*\u001b[39m \u001b[38;5;241m1000\u001b[39m\u001b[38;5;132;01m:\u001b[39;00m\u001b[38;5;124m.3f\u001b[39m\u001b[38;5;132;01m}\u001b[39;00m\u001b[38;5;124m ms\u001b[39m\u001b[38;5;124m'\u001b[39m})\n\u001b[1;32m    531\u001b[0m \u001b[38;5;28;01mreturn\u001b[39;00m dat\n",
      "File \u001b[0;32m~/.local/lib/python3.9/site-packages/astropy/io/ascii/fastbasic.py:109\u001b[0m, in \u001b[0;36mFastBasic.read\u001b[0;34m(self, table)\u001b[0m\n\u001b[1;32m    106\u001b[0m \u001b[38;5;66;03m# Put fast_reader dict back into kwargs.\u001b[39;00m\n\u001b[1;32m    107\u001b[0m \u001b[38;5;28mself\u001b[39m\u001b[38;5;241m.\u001b[39mkwargs[\u001b[38;5;124m'\u001b[39m\u001b[38;5;124mfast_reader\u001b[39m\u001b[38;5;124m'\u001b[39m] \u001b[38;5;241m=\u001b[39m fast_reader\n\u001b[0;32m--> 109\u001b[0m \u001b[38;5;28mself\u001b[39m\u001b[38;5;241m.\u001b[39mengine \u001b[38;5;241m=\u001b[39m \u001b[43mcparser\u001b[49m\u001b[38;5;241;43m.\u001b[39;49m\u001b[43mCParser\u001b[49m\u001b[43m(\u001b[49m\u001b[43mtable\u001b[49m\u001b[43m,\u001b[49m\u001b[43m \u001b[49m\u001b[38;5;28;43mself\u001b[39;49m\u001b[38;5;241;43m.\u001b[39;49m\u001b[43mstrip_whitespace_lines\u001b[49m\u001b[43m,\u001b[49m\n\u001b[1;32m    110\u001b[0m \u001b[43m                              \u001b[49m\u001b[38;5;28;43mself\u001b[39;49m\u001b[38;5;241;43m.\u001b[39;49m\u001b[43mstrip_whitespace_fields\u001b[49m\u001b[43m,\u001b[49m\n\u001b[1;32m    111\u001b[0m \u001b[43m                              \u001b[49m\u001b[43mdelimiter\u001b[49m\u001b[38;5;241;43m=\u001b[39;49m\u001b[38;5;28;43mself\u001b[39;49m\u001b[38;5;241;43m.\u001b[39;49m\u001b[43mdelimiter\u001b[49m\u001b[43m,\u001b[49m\n\u001b[1;32m    112\u001b[0m \u001b[43m                              \u001b[49m\u001b[43mheader_start\u001b[49m\u001b[38;5;241;43m=\u001b[39;49m\u001b[38;5;28;43mself\u001b[39;49m\u001b[38;5;241;43m.\u001b[39;49m\u001b[43mheader_start\u001b[49m\u001b[43m,\u001b[49m\n\u001b[1;32m    113\u001b[0m \u001b[43m                              \u001b[49m\u001b[43mcomment\u001b[49m\u001b[38;5;241;43m=\u001b[39;49m\u001b[38;5;28;43mself\u001b[39;49m\u001b[38;5;241;43m.\u001b[39;49m\u001b[43mcomment\u001b[49m\u001b[43m,\u001b[49m\n\u001b[1;32m    114\u001b[0m \u001b[43m                              \u001b[49m\u001b[43mquotechar\u001b[49m\u001b[38;5;241;43m=\u001b[39;49m\u001b[38;5;28;43mself\u001b[39;49m\u001b[38;5;241;43m.\u001b[39;49m\u001b[43mquotechar\u001b[49m\u001b[43m,\u001b[49m\n\u001b[1;32m    115\u001b[0m \u001b[43m                              \u001b[49m\u001b[43mdata_start\u001b[49m\u001b[38;5;241;43m=\u001b[39;49m\u001b[38;5;28;43mself\u001b[39;49m\u001b[38;5;241;43m.\u001b[39;49m\u001b[43mdata_start\u001b[49m\u001b[43m,\u001b[49m\n\u001b[1;32m    116\u001b[0m \u001b[43m                              \u001b[49m\u001b[43mfill_extra_cols\u001b[49m\u001b[38;5;241;43m=\u001b[39;49m\u001b[38;5;28;43mself\u001b[39;49m\u001b[38;5;241;43m.\u001b[39;49m\u001b[43mfill_extra_cols\u001b[49m\u001b[43m,\u001b[49m\n\u001b[1;32m    117\u001b[0m \u001b[43m                              \u001b[49m\u001b[38;5;241;43m*\u001b[39;49m\u001b[38;5;241;43m*\u001b[39;49m\u001b[38;5;28;43mself\u001b[39;49m\u001b[38;5;241;43m.\u001b[39;49m\u001b[43mkwargs\u001b[49m\u001b[43m)\u001b[49m\n\u001b[1;32m    118\u001b[0m conversion_info \u001b[38;5;241m=\u001b[39m \u001b[38;5;28mself\u001b[39m\u001b[38;5;241m.\u001b[39m_read_header()\n\u001b[1;32m    119\u001b[0m \u001b[38;5;28mself\u001b[39m\u001b[38;5;241m.\u001b[39mcheck_header()\n",
      "File \u001b[0;32mastropy/io/ascii/cparser.pyx:248\u001b[0m, in \u001b[0;36mastropy.io.ascii.cparser.CParser.__cinit__\u001b[0;34m()\u001b[0m\n",
      "File \u001b[0;32mastropy/io/ascii/cparser.pyx:296\u001b[0m, in \u001b[0;36mastropy.io.ascii.cparser.CParser.setup_tokenizer\u001b[0;34m()\u001b[0m\n",
      "File \u001b[0;32mastropy/io/ascii/cparser.pyx:124\u001b[0m, in \u001b[0;36mastropy.io.ascii.cparser.FileString.__cinit__\u001b[0;34m()\u001b[0m\n",
      "\u001b[0;31mFileNotFoundError\u001b[0m: [Errno 2] No such file or directory: 'shift_general.txt'"
     ]
    }
   ],
   "source": [
    "shift_tab=Table.read('shift_general.txt',\n",
    "                     format='ascii.no_header',\n",
    "                     names=['file','dx','dy','rot','scale','xrms','yrms'])\n",
    "\n",
    "formats = ['.2f', '.2f', '.3f', '.5f', '.2f', '.2f']\n",
    "for i, col in enumerate(shift_tab.colnames[1:]):\n",
    "    shift_tab[col].format = formats[i]\n",
    "shift_tab"
   ]
  },
  {
   "cell_type": "code",
   "execution_count": 24,
   "id": "77b972be",
   "metadata": {},
   "outputs": [
    {
     "name": "stderr",
     "output_type": "stream",
     "text": [
      "WARNING:ccdproc.image_collection:unable to get FITS header for file ./hst_16231_01_acs_sbc_f150lp_jec401no_flt.fits: [Errno 2] No such file or directory: './hst_16231_01_acs_sbc_f150lp_jec401no_flt.fits'.\n",
      "WARNING:ccdproc.image_collection:unable to get FITS header for file ./hst_16231_01_acs_sbc_f150lp_jec401nr_flt.fits: [Errno 2] No such file or directory: './hst_16231_01_acs_sbc_f150lp_jec401nr_flt.fits'.\n",
      "WARNING:ccdproc.image_collection:unable to get FITS header for file ./hst_16231_01_acs_sbc_f150lp_jec401nv_flt.fits: [Errno 2] No such file or directory: './hst_16231_01_acs_sbc_f150lp_jec401nv_flt.fits'.\n",
      "WARNING:ccdproc.image_collection:unable to get FITS header for file ./hst_16231_01_acs_sbc_f150lp_jec401nx_flt.fits: [Errno 2] No such file or directory: './hst_16231_01_acs_sbc_f150lp_jec401nx_flt.fits'.\n",
      "WARNING:ccdproc.image_collection:unable to get FITS header for file ./hst_16231_03_acs_sbc_f150lp_jec403ib_flt.fits: [Errno 2] No such file or directory: './hst_16231_03_acs_sbc_f150lp_jec403ib_flt.fits'.\n",
      "WARNING:ccdproc.image_collection:unable to get FITS header for file ./hst_16231_03_acs_sbc_f150lp_jec403ic_flt.fits: [Errno 2] No such file or directory: './hst_16231_03_acs_sbc_f150lp_jec403ic_flt.fits'.\n",
      "WARNING:ccdproc.image_collection:unable to get FITS header for file ./hst_16231_03_acs_sbc_f150lp_jec403id_flt.fits: [Errno 2] No such file or directory: './hst_16231_03_acs_sbc_f150lp_jec403id_flt.fits'.\n",
      "WARNING:ccdproc.image_collection:unable to get FITS header for file ./hst_16231_03_acs_sbc_f150lp_jec403ie_flt.fits: [Errno 2] No such file or directory: './hst_16231_03_acs_sbc_f150lp_jec403ie_flt.fits'.\n"
     ]
    },
    {
     "data": {
      "text/html": [
       "<div><i>Table masked=True length=0</i>\n",
       "<table id=\"table140613086322256\" class=\"table-striped table-bordered table-condensed\">\n",
       "<thead><tr><th>file</th><th>CRVAL1</th><th>CRVAL2</th><th>CD1_1</th><th>CD1_2</th><th>CD2_1</th><th>CD2_2</th></tr></thead>\n",
       "<thead><tr><th>float64</th><th>float64</th><th>float64</th><th>float64</th><th>float64</th><th>float64</th><th>float64</th></tr></thead>\n",
       "</table></div>"
      ],
      "text/plain": [
       "<Table masked=True length=0>\n",
       "  file   CRVAL1  CRVAL2  CD1_1   CD1_2   CD2_1   CD2_2 \n",
       "float64 float64 float64 float64 float64 float64 float64\n",
       "------- ------- ------- ------- ------- ------- -------"
      ]
     },
     "execution_count": 24,
     "metadata": {},
     "output_type": "execute_result"
    }
   ],
   "source": [
    "collect = ImageFileCollection('./', filenames = lst_1 + lst_3, ext=2, glob_include = '*flt.fits',\n",
    "                                 keywords=[\"CRVAL1\", \"CRVAL2\", \"CD1_1\", \"CD1_2\",\n",
    "                                           \"CD2_1\", \"CD2_2\"])\n",
    "table = collect.summary\n",
    "table['CRVAL1'].format = '.6f'\n",
    "table['CRVAL2'].format = '.6f'\n",
    "table['CD1_1'].format = '.11f'\n",
    "table['CD1_2'].format = '.11f'\n",
    "table['CD2_1'].format = '.11f'\n",
    "table['CD2_2'].format = '.11f'\n",
    "table"
   ]
  },
  {
   "cell_type": "code",
   "execution_count": null,
   "id": "63814041",
   "metadata": {},
   "outputs": [],
   "source": [
    "nr_f[1].header"
   ]
  },
  {
   "cell_type": "code",
   "execution_count": null,
   "id": "705d5847",
   "metadata": {},
   "outputs": [],
   "source": [
    "ib_f[1].header"
   ]
  },
  {
   "cell_type": "code",
   "execution_count": null,
   "id": "82225cbd",
   "metadata": {},
   "outputs": [],
   "source": [
    "astrodrizzle.AstroDrizzle(lst_1 + lst_3, \n",
    "                              output = 'total_visit1+3_test4', \n",
    "                              clean = True,\n",
    "                              build = True,\n",
    "                              context = True,\n",
    "                              runfile = 'total_visit1+3_drz.log',\n",
    "                              num_cores = 1,\n",
    "                              in_memory = False,\n",
    "                              resetbits = 4096,\n",
    "                              median = False,\n",
    "                              static = False,\n",
    "                              skysub = False,\n",
    "                              driz_separate = False,\n",
    "                              blot = False,\n",
    "                              driz_cr = False,\n",
    "                              final_bits = 0,\n",
    "                              final_outnx=1947,\n",
    "                              final_outny=1960, \n",
    "                              final_rot = 0.0,\n",
    "                              final_scale = 0.025,\n",
    "                              final_wcs = True)"
   ]
  },
  {
   "cell_type": "code",
   "execution_count": 45,
   "id": "c7a6138e",
   "metadata": {},
   "outputs": [
    {
     "data": {
      "text/plain": [
       "SIMPLE  =                    T / file does conform to FITS standard             \n",
       "BITPIX  =                   16 / number of bits per data pixel                  \n",
       "NAXIS   =                    0 / number of data axes                            \n",
       "EXTEND  =                    T / FITS dataset may contain extensions            \n",
       "COMMENT   FITS (Flexible Image Transport System) format is defined in 'Astronomy\n",
       "COMMENT   and Astrophysics', volume 376, page 359; bibcode: 2001A&A...376..359H \n",
       "ORIGIN  = 'HSTIO/CFITSIO March 2010' / FITS file originator                     \n",
       "DATE    = '2022-04-13' / date this file was written (yyyy-mm-dd)                \n",
       "NEXTEND =                    8 / Number of standard extensions                  \n",
       "FILENAME= 'hst_16231_03_acs_sbc_f150lp_jec403ib_flt.fits' / name of file        \n",
       "FILETYPE= 'SCI      '          / type of data found in data file                \n",
       "                                                                                \n",
       "TELESCOP= 'HST'                / telescope used to acquire data                 \n",
       "INSTRUME= 'ACS   '             / identifier for instrument used to acquire data \n",
       "EQUINOX =               2000.0 / equinox of celestial coord. system             \n",
       "                                                                                \n",
       "              / DATA DESCRIPTION KEYWORDS                                       \n",
       "                                                                                \n",
       "ROOTNAME= 'jec403ibq                         ' / rootname of the observation set\n",
       "IMAGETYP= 'EXT               ' / type of exposure identifier                    \n",
       "PRIMESI = 'ACS   '             / instrument designated as prime                 \n",
       "                                                                                \n",
       "              / TARGET INFORMATION                                              \n",
       "                                                                                \n",
       "TARGNAME= 'SDSS-J211824.06+001729.4       ' / proposer's target name            \n",
       "RA_TARG =   3.196002500000E+02 / right ascension of the target (deg) (J2000)    \n",
       "DEC_TARG=   2.915000000000E-01 / declination of the target (deg) (J2000)        \n",
       "                                                                                \n",
       "              / PROPOSAL INFORMATION                                            \n",
       "                                                                                \n",
       "PROPOSID=                16231 / PEP proposal identifier                        \n",
       "LINENUM = '03.001         '    / proposal logsheet line number                  \n",
       "PR_INV_L= 'Rupke                         ' / last name of principal investigator\n",
       "PR_INV_F= 'David               ' / first name of principal investigator         \n",
       "PR_INV_M= '                    ' / middle name / initial of principal investigat\n",
       "                                                                                \n",
       "              / EXPOSURE INFORMATION                                            \n",
       "                                                                                \n",
       "SUNANGLE=           118.775108 / angle between sun and V1 axis                  \n",
       "MOONANGL=           143.128647 / angle between moon and V1 axis                 \n",
       "SUN_ALT =           -18.578936 / altitude of the sun above Earth's limb         \n",
       "FGSLOCK = 'FINE              ' / commanded FGS lock (FINE,COARSE,GYROS,UNKNOWN) \n",
       "GYROMODE= 'T'                  / number of gyros scheduled, T=3+OBAD            \n",
       "REFFRAME= 'ICRS    '           / guide star catalog version                     \n",
       "MTFLAG  = ' '                  / moving target flag; T if it is a moving target \n",
       "                                                                                \n",
       "DATE-OBS= '2021-06-12'         / UT date of start of observation (yyyy-mm-dd)   \n",
       "TIME-OBS= '23:08:07'           / UT time of start of observation (hh:mm:ss)     \n",
       "EXPSTART=   5.937796397890E+04 / exposure start time (Modified Julian Date)     \n",
       "EXPEND  =   5.937797120853E+04 / exposure end time (Modified Julian Date)       \n",
       "EXPTIME =           624.000000 / exposure duration (seconds)--calculated        \n",
       "EXPFLAG = 'NORMAL       '      / Exposure interruption indicator                \n",
       "QUALCOM1= '                                                                    '\n",
       "QUALCOM2= '                                                                    '\n",
       "QUALCOM3= '                                                                    '\n",
       "QUALITY = '                                                                    '\n",
       "                                                                                \n",
       "                                                                                \n",
       "              / POINTING INFORMATION                                            \n",
       "                                                                                \n",
       "PA_V3   =            51.010120 / position angle of V3-axis of HST (deg)         \n",
       "                                                                                \n",
       "              / TARGET OFFSETS (POSTARGS)                                       \n",
       "                                                                                \n",
       "POSTARG1=             1.386000 / POSTARG in axis 1 direction                    \n",
       "POSTARG2=             2.371050 / POSTARG in axis 2 direction                    \n",
       "                                                                                \n",
       "              / DIAGNOSTIC KEYWORDS                                             \n",
       "                                                                                \n",
       "PROCTIME=   5.968265254630E+04 / pipeline processing time (MJD)                 \n",
       "OPUS_VER= 'HSTDP 2022_1                ' / data processing software system versi\n",
       "AWSYSVER= 'v0.4.35 '           / cloud infrastructure package version           \n",
       "AWSDPVER= 'v0.2.18 '           / cloud docker image version                     \n",
       "CSYS_VER= 'caldp_20220406'     / calibration software system version id         \n",
       "CAL_VER = '10.3.5 (08-Feb-2022)' / CALACS code version                          \n",
       "                                                                                \n",
       "              / SCIENCE INSTRUMENT CONFIGURATION                                \n",
       "                                                                                \n",
       "OBSTYPE = 'IMAGING       '     / observation type - imaging or spectroscopic    \n",
       "OBSMODE = 'ACCUM     '         / operating mode                                 \n",
       "CTEIMAGE= 'NONE'               / type of Charge Transfer Image, if applicable   \n",
       "SCLAMP  = 'NONE          '     / lamp status, NONE or name of lamp which is on  \n",
       "NRPTEXP =                    1 / number of repeat exposures in set: default 1   \n",
       "SUBARRAY=                    F / data from a subarray (T) or full frame (F)     \n",
       "DETECTOR= 'SBC'                / detector in use: WFC, HRC, or SBC              \n",
       "FILTER1 = 'F150LP            ' / element selected from filter wheel 1           \n",
       "FILTER2 = 'N/A               ' / element selected from filter wheel 2           \n",
       "FW1OFFST=                    0 / computed filter wheel offset                   \n",
       "FW1ERROR=                    F / filter wheel position error flag               \n",
       "FW2OFFST=                    0 / computed filter wheel offset                   \n",
       "FW2ERROR=                    F / filter wheel position error flag               \n",
       "FWSOFFST=                    0 / computed filter wheel offset                   \n",
       "FWSERROR=                    F / filter wheel position error flag               \n",
       "LRFWAVE =             0.000000 / proposed linear ramp filter wavelength         \n",
       "APERTURE= 'SBC             '   / aperture name                                  \n",
       "PROPAPER= 'SBC             '   / proposed aperture name                         \n",
       "DIRIMAGE= 'NONE     '          / direct image for grism or prism exposure       \n",
       "                                                                                \n",
       "              / MAMA OFFSETS                                                    \n",
       "                                                                                \n",
       "MOFFSET1=                    0 / axis 1 MAMA offset (low-res pixels)            \n",
       "MOFFSET2=                    0 / axis 2 MAMA offset (low-res pixels)            \n",
       "                                                                                \n",
       "              / LOCAL RATE CHECK IMAGE                                          \n",
       "                                                                                \n",
       "LRC_XSTS=                    F / Local Rate check image exists (T/F)            \n",
       "LRC_FAIL=                    F / Local Rate Check Failed (T/F)                  \n",
       "                                                                                \n",
       "              / CALIBRATION SWITCHES: PERFORM, OMIT, COMPLETE                   \n",
       "                                                                                \n",
       "STATFLAG=                    F / Calculate statistics?                          \n",
       "WRTERR  =                    T / write out error array extension                \n",
       "DQICORR = 'COMPLETE'           / data quality initialization                    \n",
       "GLINCORR= 'COMPLETE'           / correct for global detector non-linearities    \n",
       "LFLGCORR= 'COMPLETE'           / flag pixels for local and global nonlinearities\n",
       "PCTECORR= 'OMIT    '           / cte correction                                 \n",
       "DARKCORR= 'OMIT    '           / Subtract dark image                            \n",
       "FLATCORR= 'COMPLETE'           / flat field data                                \n",
       "PHOTCORR= 'COMPLETE'           / populate photometric header keywords           \n",
       "RPTCORR = 'OMIT    '           / add individual repeat observations             \n",
       "DRIZCORR= 'PERFORM '           / drizzle processing                             \n",
       "                                                                                \n",
       "              / CALIBRATION REFERENCE FILES                                     \n",
       "                                                                                \n",
       "BPIXTAB = 'jref$u451251ej_bpx.fits' / bad pixel table                           \n",
       "MLINTAB = 'jref$k9c13374j_lin.fits' / MAMA linearity correction table           \n",
       "PCTETAB = 'N/A                    ' / CTE Correction Table                      \n",
       "DRKCFILE= 'N/A                    ' / De-trailed Dark Reference File            \n",
       "DARKFILE= 'N/A                    ' / dark image file name                      \n",
       "PFLTFILE= 'jref$36h2201jj_pfl.fits' / pixel to pixel flat field file name       \n",
       "DFLTFILE= 'N/A                    ' / delta flat field file name                \n",
       "LFLTFILE= 'N/A                    ' / low order flat                            \n",
       "PHOTTAB = 'N/A                    ' / Photometric throughput table              \n",
       "GRAPHTAB= 'N/A                    ' / the HST graph table                       \n",
       "COMPTAB = 'N/A                    ' / the HST components table                  \n",
       "IDCTAB  = 'jref$v6m2008mj_idc.fits' / image distortion correction table         \n",
       "DGEOFILE= 'jref$s5f20000j_dxy.fits' / Distortion correction image               \n",
       "MDRIZTAB= 'jref$ub215379j_mdz.fits' / MultiDrizzle parameter table              \n",
       "CFLTFILE= 'N/A                    ' / Coronagraphic spot image                  \n",
       "SPOTTAB = 'N/A                    ' / Coronagraphic spot offset table           \n",
       "IMPHTTAB= 'jref$64614292j_imp.fits' / Image Photometry Table                    \n",
       "D2IMFILE= 'N/A                    ' / Column Correction Reference File          \n",
       "NPOLFILE= 'jref$xc215013j_npl.fits' / Non-polynomial Offsets Reference File     \n",
       "                                                                                \n",
       "              / OTFR KEYWORDS                                                   \n",
       "                                                                                \n",
       "T_SGSTAR= '                  ' / OMS calculated guide star control              \n",
       "                                                                                \n",
       "              / PATTERN KEYWORDS                                                \n",
       "                                                                                \n",
       "PATTERN1= 'ACS-SBC-DITHER-BOX      ' / primary pattern type                     \n",
       "P1_SHAPE= 'PARALLELOGRAM     ' / primary pattern shape                          \n",
       "P1_PURPS= 'DITHER    '         / primary pattern purpose                        \n",
       "P1_NPTS =                    4 / number of points in primary pattern            \n",
       "P1_PSPAC=             0.894773 / point spacing for primary pattern (arc-sec)    \n",
       "P1_LSPAC=             0.587116 / line spacing for primary pattern (arc-sec)     \n",
       "P1_ANGLE=            64.478514 / angle between sides of parallelogram patt (deg)\n",
       "P1_FRAME= 'POS-TARG '          / coordinate frame of primary pattern            \n",
       "P1_ORINT=            20.151333 / orientation of pattern to coordinate frame (deg\n",
       "P1_CENTR= 'YES'                / center pattern relative to pointing (yes/no)   \n",
       "PATTSTEP=                    1 / position number of this point in the pattern   \n",
       "                                                                                \n",
       "              / ASSOCIATION KEYWORDS                                            \n",
       "                                                                                \n",
       "ASN_ID  = 'JEC403010 '         / unique identifier assigned to association      \n",
       "ASN_TAB = 'jec403010_asn.fits     ' / name of the association table             \n",
       "ASN_MTYP= 'EXP-DTH     '       / Role of the Member in the Association          \n",
       "CRDS_CTX= 'hst_1004.pmap'                                                       \n",
       "CRDS_VER= '11.9.0, b11.4.0, 64d96076d89b32a5687a6b77bb910ab93b3a99b3'           \n",
       "ATODTAB = 'N/A     '                                                            \n",
       "BIASFILE= 'N/A     '                                                            \n",
       "CCDTAB  = 'N/A     '                                                            \n",
       "CRREJTAB= 'N/A     '                                                            \n",
       "FLSHFILE= 'N/A     '                                                            \n",
       "OSCNTAB = 'N/A     '                                                            \n",
       "SATUFILE= 'N/A     '                                                            \n",
       "SHADFILE= 'N/A     '                                                            \n",
       "SNKCFILE= 'N/A     '                                                            \n",
       "DISTNAME= 'jec403ibq_v6m2008mj-xc215013j-NOMODEL'                               \n",
       "SIPNAME = 'jec403ibq_v6m2008mj'                                                 \n",
       "UPWCSVER= '1.7.2   '           / Version of STWCS used to updated the WCS       \n",
       "PYWCSVER= '5.0.2   '           / Version of PYWCS used to updated the WCS       \n",
       "HAPLEVEL=                    0 / Classification level of this product           \n",
       "IPPPSSOO= 'jec403ibq'                                                           \n",
       "HISTORY DQICORR complete ...                                                    \n",
       "HISTORY   DQ array initialized ...                                              \n",
       "HISTORY   reference table jref$u451251ej_bpx.fits                               \n",
       "HISTORY GLINCORR complete ...                                                   \n",
       "HISTORY LFLGCORR complete ...                                                   \n",
       "HISTORY   reference table jref$k9c13374j_lin.fits                               \n",
       "HISTORY     GROUND                                                              \n",
       "HISTORY     prepared by G. Meurer following STIS parameters of T. Danks         \n",
       "HISTORY Uncertainty array initialized.                                          \n",
       "HISTORY FLATCORR complete ...                                                   \n",
       "HISTORY   reference image jref$36h2201jj_pfl.fits                               \n",
       "HISTORY     INFLIGHT 27/05/2002 02/04/2019                                      \n",
       "HISTORY     Inflight SBC LP-Flat                                                \n",
       "HISTORY PHOTCORR complete ...                                                   \n",
       "HISTORY   reference table jref$64614292j_imp.fits                               "
      ]
     },
     "execution_count": 45,
     "metadata": {},
     "output_type": "execute_result"
    }
   ],
   "source": [
    "ib_f = fits.open(ib)\n",
    "ib_f[0].header"
   ]
  },
  {
   "cell_type": "code",
   "execution_count": 50,
   "id": "52d81eba",
   "metadata": {},
   "outputs": [
    {
     "data": {
      "text/plain": [
       "XTENSION= 'IMAGE   '           / IMAGE extension                                \n",
       "BITPIX  =                  -32 / number of bits per data pixel                  \n",
       "NAXIS   =                    2 / number of data axes                            \n",
       "NAXIS1  =                 1024 / length of data axis 1                          \n",
       "NAXIS2  =                 1024 / length of data axis 2                          \n",
       "PCOUNT  =                    0 / required keyword; must = 0                     \n",
       "GCOUNT  =                    1 / required keyword; must = 1                     \n",
       "ORIGIN  = 'HSTIO/CFITSIO March 2010' / FITS file originator                     \n",
       "DATE    = '2022-04-13' / date this file was written (yyyy-mm-dd)                \n",
       "INHERIT =                    T / inherit the primary header                     \n",
       "EXTNAME = 'SCI     '           / extension name                                 \n",
       "EXTVER  =                    1 / extension version number                       \n",
       "ROOTNAME= 'jec403ibq                         ' / rootname of the observation set\n",
       "EXPNAME = 'jec403ibq                ' / exposure identifier                     \n",
       "BUNIT   = 'ELECTRONS'          / brightness units                               \n",
       "                                                                                \n",
       "              / World Coordinate System and Related Parameters                  \n",
       "                                                                                \n",
       "WCSAXES =                    2 / Number of coordinate axes                      \n",
       "CRPIX1  =               512.0  / Pixel coordinate of reference point            \n",
       "CRPIX2  =                512.0 / Pixel coordinate of reference point            \n",
       "CRVAL1  =      319.60070459856 / [deg] Coordinate value at reference point      \n",
       "CRVAL2  =     0.29136918174625 / [deg] Coordinate value at reference point      \n",
       "CTYPE1  = 'RA---TAN-SIP'       / TAN (gnomonic) projection + SIP distortions    \n",
       "CTYPE2  = 'DEC--TAN-SIP'       / TAN (gnomonic) projection + SIP distortions    \n",
       "CD1_1   = -5.1745970268303E-06 / partial of first axis coordinate w.r.t. x      \n",
       "CD1_2   =  6.4842485036551E-06 / partial of first axis coordinate w.r.t. y      \n",
       "CD2_1   = 7.80337350725270E-06 / partial of second axis coordinate w.r.t. x     \n",
       "CD2_2   =  5.2701444619314E-06 / partial of second axis coordinate w.r.t. y     \n",
       "LTV1    =                  0.0 / offset in X to subsection start                \n",
       "LTV2    =                  0.0 / offset in Y to subsection start                \n",
       "RAW_LTV1=                  0.0 / original offset in X to subsection start       \n",
       "RAW_LTV2=                  0.0 / original offset in Y to subsection start       \n",
       "LTM1_1  =                  1.0 / reciprocal of sampling rate in X               \n",
       "LTM2_2  =                  1.0 / reciprocal of sampling rate in Y               \n",
       "ORIENTAT=     50.8971336870121                                                  \n",
       "RA_APER =   3.195999809352E+02 / RA of aperture reference position              \n",
       "DEC_APER=   2.907861247296E-01 / Declination of aperture reference position     \n",
       "PA_APER =              50.9601 / Position Angle of reference aperture center (de\n",
       "VAFACTOR=   1.000102883113E+00 / velocity aberration plate scale factor         \n",
       "                                                                                \n",
       "              / READOUT DEFINITION PARAMETERS                                   \n",
       "                                                                                \n",
       "CENTERA1=                  513 / subarray axis1 center pt in unbinned dect. pix \n",
       "CENTERA2=                  513 / subarray axis2 center pt in unbinned dect. pix \n",
       "SIZAXIS1=                 1024 / subarray axis1 size in unbinned detector pixels\n",
       "SIZAXIS2=                 1024 / subarray axis2 size in unbinned detector pixels\n",
       "BINAXIS1=                    1 / axis1 data bin size in unbinned detector pixels\n",
       "BINAXIS2=                    1 / axis2 data bin size in unbinned detector pixels\n",
       "                                                                                \n",
       "              / PHOTOMETRY KEYWORDS                                             \n",
       "                                                                                \n",
       "PHOTMODE= 'ACS SBC F150LP MJD#59377.9640' / obser                               \n",
       "PHOTFLAM=        3.5315242E-17 / inverse sensitivity, ergs/cm2/Ang/electron     \n",
       "PHOTZPT =       -2.1100000E+01 / ST magnitude zero point                        \n",
       "PHOTPLAM=        1.6056531E+03 / Pivot wavelength (Angstroms)                   \n",
       "PHOTBW  =        1.0916668E+02 / RMS bandwidth of filter plus detector          \n",
       "                                                                                \n",
       "              / DATA PACKET INFORMATION                                         \n",
       "                                                                                \n",
       "FILLCNT =                    0 / number of segments containing fill             \n",
       "ERRCNT  =                    0 / number of segments containing errors           \n",
       "PODPSFF =                    F / podps fill present (T/F)                       \n",
       "STDCFFF =                    F / science telemetry fill data present (T=1/F=0)  \n",
       "STDCFFP = '0x5569'             / science telemetry fill pattern (hex)           \n",
       "                                                                                \n",
       "              / ENGINEERING PARAMETERS                                          \n",
       "                                                                                \n",
       "GLOBRATE=        49.1803278689 / global count rate                              \n",
       "GLOBLIM = 'NOT-EXCEEDED'       / was global linearity level exceeded?           \n",
       "MDECODT1=              17.4483 / MAMA jMDECODT pwb temp from eng snap 1 (deg. C)\n",
       "MDECODT2=              18.6693 / MAMA JMDECODT pwb temp from eng snap 2 (deg. C)\n",
       "                                                                                \n",
       "              / IMAGE STATISTICS AND DATA QUALITY FLAGS                         \n",
       "                                                                                \n",
       "NGOODPIX=              1027065 / number of good pixels                          \n",
       "SDQFLAGS=                31743 / serious data quality flags                     \n",
       "GOODMIN =        0.0000000E+00 / minimum value of good pixels                   \n",
       "GOODMAX =        1.6641729E+01 / maximum value of good pixels                   \n",
       "GOODMEAN=        9.0903677E-03 / mean value of good pixels                      \n",
       "SOFTERRS=                    0 / number of soft error pixels (DQF=1)            \n",
       "SNRMIN  =        0.0000000E+00 / minimum signal to noise of good pixels         \n",
       "SNRMAX  =        4.1197329E+00 / maximum signal to noise of good pixels         \n",
       "SNRMEAN =        8.7285368E-03 / mean value of signal to noise of good pixels   \n",
       "MEANDARK=             0.000000 / average of the dark values subtracted          \n",
       "RADESYS = 'ICRS    '           / Equatorial coordinate system                   \n",
       "S_REGION= 'POLYGON ICRS 319.60003805982495 0.28470960248225446 &'               \n",
       "CONTINUE  '319.6066615582099 0.29008078014781624 319.6013754254164 &'           \n",
       "CONTINUE  '0.2980517831624026 319.59475192485434 0.2926806024100732 '           \n",
       "OCX10   = 5.96685677010100E-05 / original linear term from IDCTAB               \n",
       "OCX11   =  0.03355217352509499 / original linear term from IDCTAB               \n",
       "OCY10   =  0.03007783554494381 / original linear term from IDCTAB               \n",
       "OCY11   =  0.00319520547054708 / original linear term from IDCTAB               \n",
       "IDCSCALE=  0.02500000037252903 / pixel scale from the IDCTAB reference file     \n",
       "IDCTHETA=                  0.0 / orientation of detector's Y-axis w.r.t. V3 axis\n",
       "IDCXREF =                512.0 / reference pixel location in X                  \n",
       "IDCYREF =                512.0 / reference pixel location in Y                  \n",
       "IDCV2REF=    205.2599945068359 / reference pixel's V2 position                  \n",
       "IDCV3REF=    469.8269958496094 / reference pixel's V3 position                  \n",
       "WCSNAMEO= 'OPUS    '           / Coordinate system title                        \n",
       "WCSAXESO=                    2 / Number of coordinate axes                      \n",
       "CRPIX1O =                512.0 / Pixel coordinate of reference point            \n",
       "CRPIX2O =                400.0 / Pixel coordinate of reference point            \n",
       "CUNIT1O = 'deg'                / Units of coordinate increment and value        \n",
       "CUNIT2O = 'deg'                / Units of coordinate increment and value        \n",
       "CTYPE1O = 'RA---TAN'           / Right ascension, gnomonic projection           \n",
       "CTYPE2O = 'DEC--TAN'           / Declination, gnomonic projection               \n",
       "CRVAL1O =       319.5999809352 / [deg] Coordinate value at reference point      \n",
       "CRVAL2O =      0.2907861247296 / [deg] Coordinate value at reference point      \n",
       "MJDREF  =                  0.0 / [d] MJD of fiducial time                       \n",
       "RADESYSO= 'ICRS'               / Equatorial coordinate system                   \n",
       "CD1_1O  =         -5.16722E-06 / partial of first axis coordinate w.r.t. x      \n",
       "CD1_2O  =           6.4745E-06 / partial of first axis coordinate w.r.t. y      \n",
       "CD2_1O  =          7.79179E-06 / partial of second axis coordinate w.r.t. x     \n",
       "CD2_2O  =          5.25042E-06 / partial of second axis coordinate w.r.t. y     \n",
       "IDCTAB  = 'jref$v6m2008mj_idc.fits'                                             \n",
       "A_ORDER =                    4 / SIP polynomial order, axis 0, detector to sky  \n",
       "B_ORDER =                    4 / SIP polynomial order, axis 1, detector to sky  \n",
       "A_0_2   = 3.71821579887969E-06 / SIP distortion coefficient                     \n",
       "B_0_2   = 1.00981392294935E-05 / SIP distortion coefficient                     \n",
       "A_1_1   = 1.17765432685549E-05 / SIP distortion coefficient                     \n",
       "B_1_1   = 2.42209952539204E-07 / SIP distortion coefficient                     \n",
       "A_2_0   =  -1.483933123209E-05 / SIP distortion coefficient                     \n",
       "B_2_0   = 4.22468848828112E-07 / SIP distortion coefficient                     \n",
       "A_0_3   = -4.0306486845335E-09 / SIP distortion coefficient                     \n",
       "B_0_3   =  1.6221563200793E-09 / SIP distortion coefficient                     \n",
       "A_1_2   = -2.6066792469435E-09 / SIP distortion coefficient                     \n",
       "B_1_2   = 5.06905748871357E-10 / SIP distortion coefficient                     \n",
       "A_2_1   = 1.34147484133598E-10 / SIP distortion coefficient                     \n",
       "B_2_1   = -7.4477974380425E-09 / SIP distortion coefficient                     \n",
       "A_3_0   =  4.3177243951969E-09 / SIP distortion coefficient                     \n",
       "B_3_0   = -3.1755220958671E-10 / SIP distortion coefficient                     \n",
       "A_0_4   = -2.7480196565056E-11 / SIP distortion coefficient                     \n",
       "B_0_4   = 2.49020089875116E-12 / SIP distortion coefficient                     \n",
       "A_1_3   = -1.1042562713082E-12 / SIP distortion coefficient                     \n",
       "B_1_3   = 6.52484192257676E-12 / SIP distortion coefficient                     \n",
       "A_2_2   = 3.32642166064284E-12 / SIP distortion coefficient                     \n",
       "B_2_2   = -3.0271615259304E-13 / SIP distortion coefficient                     \n",
       "A_3_1   = -8.7909628335581E-13 / SIP distortion coefficient                     \n",
       "B_3_1   = 4.43255209342228E-12 / SIP distortion coefficient                     \n",
       "A_4_0   = 1.46872345905909E-11 / SIP distortion coefficient                     \n",
       "B_4_0   = 7.43178117451922E-13 / SIP distortion coefficient                     \n",
       "WCSNAME = 'IDC_v6m2008mj-GSC240' / Coordinate system title                      \n",
       "CPERR1  = 0.007132729981094599 / Maximum error of NPOL correction for axis 1    \n",
       "CPDIS1  = 'Lookup  '           / Prior distortion function type                 \n",
       "DP1     = 'EXTVER: 1' / Version number of WCSDVARR extension                    \n",
       "DP1     = 'NAXES: 2' / Number of independent variables in CPDIS function        \n",
       "DP1     = 'AXIS.1: 1' / Axis number of the 1st variable in a CPDIS function     \n",
       "DP1     = 'AXIS.2: 2' / Axis number of the 2nd variable in a CPDIS function     \n",
       "CPERR2  = 0.009602183476090431 / Maximum error of NPOL correction for axis 2    \n",
       "CPDIS2  = 'Lookup  '           / Prior distortion function type                 \n",
       "DP2     = 'EXTVER: 2' / Version number of WCSDVARR extension                    \n",
       "DP2     = 'NAXES: 2' / Number of independent variables in CPDIS function        \n",
       "DP2     = 'AXIS.1: 1' / Axis number of the 1st variable in a CPDIS function     \n",
       "DP2     = 'AXIS.2: 2' / Axis number of the 2nd variable in a CPDIS function     \n",
       "NPOLEXT = 'jref$xc215013j_npl.fits'                                             \n",
       "MDRIZSKY=                  0.0 / Sky value computed by AstroDrizzle             \n",
       "CUNIT1  = 'deg'                / Units of coordinate increment and value        \n",
       "CUNIT2  = 'deg'                / Units of coordinate increment and value        \n",
       "WCSNAMEA= 'IDC_v6m2008mj'      / Coordinate system title                        \n",
       "WCSAXESA=                    2 / Number of coordinate axes                      \n",
       "CRPIX1A =                512.0 / Pixel coordinate of reference point            \n",
       "CRPIX2A =                512.0 / Pixel coordinate of reference point            \n",
       "CUNIT1A = 'deg'                / Units of coordinate increment and value        \n",
       "CUNIT2A = 'deg'                / Units of coordinate increment and value        \n",
       "CTYPE1A = 'RA---TAN-SIP'       / TAN (gnomonic) projection + SIP distortions    \n",
       "CTYPE2A = 'DEC--TAN-SIP'       / TAN (gnomonic) projection + SIP distortions    \n",
       "CRVAL1A =      319.60070608858 / [deg] Coordinate value at reference point      \n",
       "CRVAL2A =     0.29137417174626 / [deg] Coordinate value at reference point      \n",
       "RADESYSA= 'ICRS'               / Equatorial coordinate system                   \n",
       "CD1_1A  =  -5.174597033748E-06 / partial of first axis coordinate w.r.t. x      \n",
       "CD1_2A  =  6.4842485001797E-06 / partial of first axis coordinate w.r.t. y      \n",
       "CD2_1A  = 7.80337351648480E-06 / partial of second axis coordinate w.r.t. x     \n",
       "CD2_2A  =  5.2701444507193E-06 / partial of second axis coordinate w.r.t. y     \n",
       "WCSTYPE = 'undistorted a priori solution based on GSC240'                       \n",
       "HDRNAME = 'jec403ibq_flt_6d59e9_hlet.fits'                                      \n",
       "WCSNAMEB= 'IDC_v6m2008mj-GSC240' / Coordinate system title                      \n",
       "WCSAXESB=                    2 / Number of coordinate axes                      \n",
       "CRPIX1B =                512.0 / Pixel coordinate of reference point            \n",
       "CRPIX2B =                512.0 / Pixel coordinate of reference point            \n",
       "CUNIT1B = 'deg'                / Units of coordinate increment and value        \n",
       "CUNIT2B = 'deg'                / Units of coordinate increment and value        \n",
       "CTYPE1B = 'RA---TAN-SIP'       / TAN (gnomonic) projection + SIP distortions    \n",
       "CTYPE2B = 'DEC--TAN-SIP'       / TAN (gnomonic) projection + SIP distortions    \n",
       "CRVAL1B =      319.60070459856 / [deg] Coordinate value at reference point      \n",
       "CRVAL2B =     0.29136918174625 / [deg] Coordinate value at reference point      \n",
       "RADESYSB= 'ICRS'               / Equatorial coordinate system                   \n",
       "CD1_1B  = -5.1745970268303E-06 / partial of first axis coordinate w.r.t. x      \n",
       "CD1_2B  =  6.4842485036551E-06 / partial of first axis coordinate w.r.t. y      \n",
       "CD2_1B  = 7.80337350725270E-06 / partial of second axis coordinate w.r.t. x     \n",
       "CD2_2B  =  5.2701444619314E-06 / partial of second axis coordinate w.r.t. y     \n",
       "WCSTYPEB= 'undistorted a priori solution based on GSC240'                       \n",
       "HDRNAMEB= 'jec403ibq_flt_6d59e9_hlet.fits'                                      \n",
       "WCSTYPEA= 'undistorted not aligned'                                             \n",
       "WCSTYPEO= 'pipeline default not aligned'                                        "
      ]
     },
     "execution_count": 50,
     "metadata": {},
     "output_type": "execute_result"
    }
   ],
   "source": [
    "ib_f[1].header"
   ]
  },
  {
   "cell_type": "code",
   "execution_count": null,
   "id": "be285825",
   "metadata": {},
   "outputs": [],
   "source": [
    "nr_f[1].header"
   ]
  },
  {
   "cell_type": "code",
   "execution_count": null,
   "id": "d5f5e941",
   "metadata": {},
   "outputs": [],
   "source": [
    "nr_f[1].header"
   ]
  },
  {
   "cell_type": "code",
   "execution_count": null,
   "id": "1786f8a6",
   "metadata": {},
   "outputs": [],
   "source": [
    "nonhap_ib = fits.open('jec403ibq_flt.fits')"
   ]
  },
  {
   "cell_type": "code",
   "execution_count": null,
   "id": "6e3c9555",
   "metadata": {},
   "outputs": [],
   "source": []
  },
  {
   "cell_type": "code",
   "execution_count": null,
   "id": "a9bf55a7",
   "metadata": {},
   "outputs": [],
   "source": [
    "nonhap_ib[1].header"
   ]
  },
  {
   "cell_type": "code",
   "execution_count": null,
   "id": "7897308d",
   "metadata": {},
   "outputs": [],
   "source": [
    "ib_f[1].header"
   ]
  },
  {
   "cell_type": "code",
   "execution_count": null,
   "id": "c2f673c3",
   "metadata": {},
   "outputs": [],
   "source": [
    "plt.imshow(data[412:425, 482:494])"
   ]
  },
  {
   "cell_type": "code",
   "execution_count": null,
   "id": "77665e6f",
   "metadata": {},
   "outputs": [],
   "source": [
    "file[1].header\n"
   ]
  },
  {
   "cell_type": "code",
   "execution_count": null,
   "id": "eadebb40",
   "metadata": {},
   "outputs": [],
   "source": [
    "file_1[1].header"
   ]
  },
  {
   "cell_type": "code",
   "execution_count": null,
   "id": "278a9107",
   "metadata": {},
   "outputs": [],
   "source": [
    "file_3[1].header"
   ]
  },
  {
   "cell_type": "code",
   "execution_count": null,
   "id": "96be25a2",
   "metadata": {},
   "outputs": [],
   "source": [
    "file_3[0].header['QUALITY']"
   ]
  },
  {
   "cell_type": "code",
   "execution_count": null,
   "id": "6bbf690f",
   "metadata": {},
   "outputs": [],
   "source": [
    "(282 * (83.02697 + 74.186) + 281*(23.7704 + 14.9879))/(83.02697 + 74.186+ 23.7704 + 14.9879)"
   ]
  },
  {
   "cell_type": "code",
   "execution_count": null,
   "id": "a060b427",
   "metadata": {},
   "outputs": [],
   "source": [
    "CD1_1 = file[1].header['CD1_1']\n",
    "CD1_2 = file[1].header['CD1_2']\n",
    "CD2_1 = file[1].header['CD2_1']\n",
    "CD2_2 = file[1].header['CD2_2']"
   ]
  },
  {
   "cell_type": "code",
   "execution_count": null,
   "id": "ff5d8f57",
   "metadata": {},
   "outputs": [],
   "source": [
    "A = np.array([[CD1_1, CD1_2], [CD2_1, CD2_2]])"
   ]
  },
  {
   "cell_type": "code",
   "execution_count": null,
   "id": "35f00f94",
   "metadata": {},
   "outputs": [],
   "source": [
    "import numpy as np"
   ]
  },
  {
   "cell_type": "code",
   "execution_count": null,
   "id": "d35d08b2",
   "metadata": {},
   "outputs": [],
   "source": [
    "x, y = 491, 1006\n",
    "a, b = file[1].header['CRVAL1'], file[1].header['CRVAL2']"
   ]
  },
  {
   "cell_type": "code",
   "execution_count": null,
   "id": "df30ac2e",
   "metadata": {},
   "outputs": [],
   "source": [
    "B =np.array( [[x - 512], [y - 512]])\n",
    "C = np.array([[a], [b]])"
   ]
  },
  {
   "cell_type": "code",
   "execution_count": null,
   "id": "6f7d2c3a",
   "metadata": {},
   "outputs": [],
   "source": [
    "np.matmul(A,B) + C"
   ]
  },
  {
   "cell_type": "code",
   "execution_count": null,
   "id": "f3138a67",
   "metadata": {},
   "outputs": [],
   "source": [
    "np.linalg.inv(A)"
   ]
  },
  {
   "cell_type": "code",
   "execution_count": null,
   "id": "c2f500ff",
   "metadata": {},
   "outputs": [],
   "source": [
    "Target = np.array([[file[0].header['RA_TARG']],[file[0].header['DEC_TARG']]])"
   ]
  },
  {
   "cell_type": "code",
   "execution_count": null,
   "id": "0f007bf7",
   "metadata": {},
   "outputs": [],
   "source": [
    "np.matmul(np.linalg.inv(A),Target - C) +np.array([[512], [512]])"
   ]
  },
  {
   "cell_type": "code",
   "execution_count": null,
   "id": "2d94b2f8",
   "metadata": {},
   "outputs": [],
   "source": []
  }
 ],
 "metadata": {
  "kernelspec": {
   "display_name": "Python 3 (ipykernel)",
   "language": "python",
   "name": "python3"
  },
  "language_info": {
   "codemirror_mode": {
    "name": "ipython",
    "version": 3
   },
   "file_extension": ".py",
   "mimetype": "text/x-python",
   "name": "python",
   "nbconvert_exporter": "python",
   "pygments_lexer": "ipython3",
   "version": "3.9.12"
  }
 },
 "nbformat": 4,
 "nbformat_minor": 5
}
