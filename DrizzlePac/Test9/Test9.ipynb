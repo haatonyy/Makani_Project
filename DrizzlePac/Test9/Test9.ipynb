{
 "cells": [
  {
   "cell_type": "code",
   "execution_count": 19,
   "id": "920275be",
   "metadata": {},
   "outputs": [],
   "source": [
    "from astroquery.mast import Observations\n",
    "from ccdproc import ImageFileCollection\n",
    "from astropy.table import Table\n",
    "from astropy.io import fits\n",
    "from astropy.io import ascii\n",
    "from astropy.visualization import ZScaleInterval\n",
    "from IPython.display import Image\n",
    "import glob\n",
    "import matplotlib.pyplot as plt\n",
    "import numpy as np\n",
    "import os\n",
    "import shutil\n",
    "from drizzlepac import tweakreg\n",
    "from drizzlepac import astrodrizzle"
   ]
  },
  {
   "cell_type": "code",
   "execution_count": 20,
   "id": "ce5e2621",
   "metadata": {},
   "outputs": [
    {
     "name": "stdout",
     "output_type": "stream",
     "text": [
      "Downloading URL https://mast.stsci.edu/api/v0.1/Download/file?uri=mast:HST/product/hst_16231_01_acs_sbc_f150lp_jec401no_flt.fits to ./science/mastDownload/HST/hst_16231_01_acs_sbc_f150lp_jec401no/hst_16231_01_acs_sbc_f150lp_jec401no_flt.fits ... [Done]\n",
      "Downloading URL https://mast.stsci.edu/api/v0.1/Download/file?uri=mast:HST/product/hst_16231_01_acs_sbc_f150lp_jec401nr_flt.fits to ./science/mastDownload/HST/hst_16231_01_acs_sbc_f150lp_jec401nr/hst_16231_01_acs_sbc_f150lp_jec401nr_flt.fits ... [Done]\n",
      "Downloading URL https://mast.stsci.edu/api/v0.1/Download/file?uri=mast:HST/product/hst_16231_01_acs_sbc_f150lp_jec401nv_flt.fits to ./science/mastDownload/HST/hst_16231_01_acs_sbc_f150lp_jec401nv/hst_16231_01_acs_sbc_f150lp_jec401nv_flt.fits ... [Done]\n",
      "Downloading URL https://mast.stsci.edu/api/v0.1/Download/file?uri=mast:HST/product/hst_16231_01_acs_sbc_f150lp_jec401nx_flt.fits to ./science/mastDownload/HST/hst_16231_01_acs_sbc_f150lp_jec401nx/hst_16231_01_acs_sbc_f150lp_jec401nx_flt.fits ... [Done]\n",
      "Downloading URL https://mast.stsci.edu/api/v0.1/Download/file?uri=mast:HST/product/jec401noq_flt.fits to ./science/mastDownload/HST/jec401noq/jec401noq_flt.fits ... [Done]\n",
      "Downloading URL https://mast.stsci.edu/api/v0.1/Download/file?uri=mast:HST/product/jec401nrq_flt.fits to ./science/mastDownload/HST/jec401nrq/jec401nrq_flt.fits ... [Done]\n",
      "Downloading URL https://mast.stsci.edu/api/v0.1/Download/file?uri=mast:HST/product/jec401nvq_flt.fits to ./science/mastDownload/HST/jec401nvq/jec401nvq_flt.fits ... [Done]\n",
      "Downloading URL https://mast.stsci.edu/api/v0.1/Download/file?uri=mast:HST/product/jec401nxq_flt.fits to ./science/mastDownload/HST/jec401nxq/jec401nxq_flt.fits ... [Done]\n"
     ]
    }
   ],
   "source": [
    "science_list = Observations.query_criteria(proposal_id='16231', filters='F150LP',obs_id='jec401*')\n",
    "Observations.download_products(science_list['obsid'], mrp_only=False, download_dir='./science',\\\n",
    "                               productSubGroupDescription=['FLT'])\n",
    "\n",
    "science_files = glob.glob(os.path.join(os.curdir, 'science', 'mastDownload', 'HST', '*', '*fits'))\n",
    "for im in science_files:\n",
    "    root = im.split('/')[-1]\n",
    "    os.rename(im, './' + root)\n",
    "shutil.rmtree('science/')"
   ]
  },
  {
   "cell_type": "code",
   "execution_count": 21,
   "id": "85fd3e7b",
   "metadata": {},
   "outputs": [
    {
     "name": "stdout",
     "output_type": "stream",
     "text": [
      "Downloading URL https://mast.stsci.edu/api/v0.1/Download/file?uri=mast:HST/product/hst_16231_03_acs_sbc_f150lp_jec403ib_flt.fits to ./science/mastDownload/HST/hst_16231_03_acs_sbc_f150lp_jec403ib/hst_16231_03_acs_sbc_f150lp_jec403ib_flt.fits ... [Done]\n",
      "Downloading URL https://mast.stsci.edu/api/v0.1/Download/file?uri=mast:HST/product/hst_16231_03_acs_sbc_f150lp_jec403ic_flt.fits to ./science/mastDownload/HST/hst_16231_03_acs_sbc_f150lp_jec403ic/hst_16231_03_acs_sbc_f150lp_jec403ic_flt.fits ... [Done]\n",
      "Downloading URL https://mast.stsci.edu/api/v0.1/Download/file?uri=mast:HST/product/hst_16231_03_acs_sbc_f150lp_jec403id_flt.fits to ./science/mastDownload/HST/hst_16231_03_acs_sbc_f150lp_jec403id/hst_16231_03_acs_sbc_f150lp_jec403id_flt.fits ... [Done]\n",
      "Downloading URL https://mast.stsci.edu/api/v0.1/Download/file?uri=mast:HST/product/hst_16231_03_acs_sbc_f150lp_jec403ie_flt.fits to ./science/mastDownload/HST/hst_16231_03_acs_sbc_f150lp_jec403ie/hst_16231_03_acs_sbc_f150lp_jec403ie_flt.fits ... [Done]\n",
      "Downloading URL https://mast.stsci.edu/api/v0.1/Download/file?uri=mast:HST/product/jec403ibq_flt.fits to ./science/mastDownload/HST/jec403ibq/jec403ibq_flt.fits ... [Done]\n",
      "Downloading URL https://mast.stsci.edu/api/v0.1/Download/file?uri=mast:HST/product/jec403icq_flt.fits to ./science/mastDownload/HST/jec403icq/jec403icq_flt.fits ... [Done]\n",
      "Downloading URL https://mast.stsci.edu/api/v0.1/Download/file?uri=mast:HST/product/jec403idq_flt.fits to ./science/mastDownload/HST/jec403idq/jec403idq_flt.fits ... [Done]\n",
      "Downloading URL https://mast.stsci.edu/api/v0.1/Download/file?uri=mast:HST/product/jec403ieq_flt.fits to ./science/mastDownload/HST/jec403ieq/jec403ieq_flt.fits ... [Done]\n"
     ]
    }
   ],
   "source": [
    "science_list = Observations.query_criteria(proposal_id='16231', filters='F150LP',obs_id='jec403*')\n",
    "Observations.download_products(science_list['obsid'], mrp_only=False, download_dir='./science',\\\n",
    "                               productSubGroupDescription=['FLT'])\n",
    "\n",
    "science_files = glob.glob(os.path.join(os.curdir, 'science', 'mastDownload', 'HST', '*', '*fits'))\n",
    "for im in science_files:\n",
    "    root = im.split('/')[-1]\n",
    "    os.rename(im, './' + root)\n",
    "shutil.rmtree('science/')"
   ]
  },
  {
   "cell_type": "code",
   "execution_count": 22,
   "id": "3b72db19",
   "metadata": {},
   "outputs": [],
   "source": [
    "no = 'hst_16231_01_acs_sbc_f150lp_jec401no_flt.fits'\n",
    "nr = 'hst_16231_01_acs_sbc_f150lp_jec401nr_flt.fits'\n",
    "nv = 'hst_16231_01_acs_sbc_f150lp_jec401nv_flt.fits'\n",
    "nx = 'hst_16231_01_acs_sbc_f150lp_jec401nx_flt.fits'\n",
    "lst_1 = [no, nr, nv, nx]"
   ]
  },
  {
   "cell_type": "code",
   "execution_count": 23,
   "id": "c6f10a96",
   "metadata": {},
   "outputs": [],
   "source": [
    "ib = 'hst_16231_03_acs_sbc_f150lp_jec403ib_flt.fits'\n",
    "ic = 'hst_16231_03_acs_sbc_f150lp_jec403ic_flt.fits'\n",
    "id3 = 'hst_16231_03_acs_sbc_f150lp_jec403id_flt.fits'\n",
    "ie = 'hst_16231_03_acs_sbc_f150lp_jec403ie_flt.fits'\n",
    "lst_3 = [ib, ic, id3, ie]"
   ]
  },
  {
   "cell_type": "code",
   "execution_count": 24,
   "id": "8a238040",
   "metadata": {},
   "outputs": [],
   "source": [
    "gv = 'hst_16231_04_acs_sbc_f150lp_jec404gv_flt.fits'\n",
    "gw = 'hst_16231_04_acs_sbc_f150lp_jec404gw_flt.fits'\n",
    "gx = 'hst_16231_04_acs_sbc_f150lp_jec404gx_flt.fits'\n",
    "gy = 'hst_16231_04_acs_sbc_f150lp_jec404gy_flt.fits'\n",
    "lst_4 = [gv, gw, gx, gy]"
   ]
  },
  {
   "cell_type": "code",
   "execution_count": 52,
   "id": "cae7ca45",
   "metadata": {},
   "outputs": [],
   "source": [
    "i7 = 'hst_16231_09_acs_sbc_f150lp_jec409i7_flt.fits'\n",
    "i8 = 'hst_16231_09_acs_sbc_f150lp_jec409i8_flt.fits'\n",
    "i9 = 'hst_16231_09_acs_sbc_f150lp_jec409i9_flt.fits'\n",
    "ia = 'hst_16231_09_acs_sbc_f150lp_jec409ia_flt.fits'\n",
    "lst_9 = [i7, i8, i9, ia]"
   ]
  },
  {
   "cell_type": "code",
   "execution_count": 25,
   "id": "f9b55fcc",
   "metadata": {},
   "outputs": [],
   "source": [
    "def coo_pixtosky(r):\n",
    "    return np.matmul(A, r-r0) + B"
   ]
  },
  {
   "cell_type": "code",
   "execution_count": 26,
   "id": "b8b8b89c",
   "metadata": {},
   "outputs": [],
   "source": [
    "def coo_skytopix(r_sky):\n",
    "    return np.matmul(A_inv, r_sky - B) + r0"
   ]
  },
  {
   "cell_type": "code",
   "execution_count": 27,
   "id": "195abddc",
   "metadata": {},
   "outputs": [],
   "source": [
    "def find_center(inputfilename):\n",
    "    file = fits.open(inputfilename)\n",
    "    #WCS info from header\n",
    "    CRVAL1 = file[1].header['CRVAL1']\n",
    "    CRVAL2 = file[1].header['CRVAL2']\n",
    "    CRPIX1 = file[1].header['CRPIX1']\n",
    "    CRPIX2 = file[1].header['CRPIX2']\n",
    "    CD1_1 = file[1].header['CD1_1']\n",
    "    CD1_2 = file[1].header['CD1_2']\n",
    "    CD2_1 = file[1].header['CD2_1']\n",
    "    CD2_2 = file[1].header['CD2_2']\n",
    "    \n",
    "    A = np.array([[CD1_1, CD1_2], [CD2_1, CD2_2]])\n",
    "    A_inv = np.linalg.inv(A)\n",
    "    B = np.array([[CRVAL1],[CRVAL2]])\n",
    "    r0 = np.array([[CRPIX1],[CRPIX2]])\n",
    "    \n",
    "    def coo_pixtosky(r):\n",
    "        return np.matmul(A, r-r0) + B\n",
    "    \n",
    "    def coo_skytopix(r_sky):\n",
    "        return np.matmul(A_inv, r_sky - B) + r0\n",
    "    \n",
    "    #Target location info\n",
    "    RA_TARG = file[0].header['RA_TARG'] \n",
    "    DEC_TARG = file[0].header['DEC_TARG']\n",
    "    r_sky_TARG = np.array([[RA_TARG], [DEC_TARG]])\n",
    "    X_TARG, Y_TARG = int(coo_skytopix(r_sky_TARG)[0]), int(coo_skytopix(r_sky_TARG)[1])\n",
    "    \n",
    "    data = file[1].data\n",
    "    \n",
    "    s = 100\n",
    "    max_i = 0\n",
    "    max_j = 0\n",
    "    maxval = 0\n",
    "    for i in range(Y_TARG-s, Y_TARG+s+1):\n",
    "        for j in range(X_TARG-s, X_TARG+s+1):\n",
    "            if data[i][j] > maxval:\n",
    "                maxval = data[i][j]\n",
    "                max_i = i\n",
    "                max_j = j \n",
    "    r = 50\n",
    "    total_flux = 0\n",
    "    i_integral = 0\n",
    "    j_integral = 0\n",
    "    for i in range(max_i-r, max_i+r+1):\n",
    "        for j in range(max_j-r, max_j+r+1):\n",
    "            total_flux += data[i][j]\n",
    "            i_integral += i*data[i][j]\n",
    "            j_integral += j*data[i][j]\n",
    "    \n",
    "    i_center = i_integral/total_flux\n",
    "    j_center = j_integral/total_flux\n",
    "    \n",
    "    X_center = j_center +1\n",
    "    Y_center = i_center +1\n",
    "    r_center = np.array([[X_center], [Y_center]])\n",
    "    \n",
    "    #print('X_center =', X_center)\n",
    "    #print('Y_center =', Y_center)\n",
    "    sky_coo_center = coo_pixtosky(r_center)\n",
    "    #RA_center, DEC_center = sky_coo_center[0][0], sky_coo_center[1][0]\n",
    "    return r_center, sky_coo_center\n"
   ]
  },
  {
   "cell_type": "code",
   "execution_count": 60,
   "id": "07f47d06",
   "metadata": {},
   "outputs": [
    {
     "name": "stdout",
     "output_type": "stream",
     "text": [
      "1noq\n",
      "[[3.19600544e+02]\n",
      " [2.91488262e-01]]\n",
      "1nrq\n",
      "[[3.19600547e+02]\n",
      " [2.91493212e-01]]\n",
      "1nvq\n",
      "[[3.19600555e+02]\n",
      " [2.91503937e-01]]\n",
      "1nxq\n",
      "[[3.19600548e+02]\n",
      " [2.91513909e-01]]\n",
      "3ibq\n",
      "[[3.19600559e+02]\n",
      " [2.91539057e-01]]\n",
      "3icq\n",
      "[[3.19600552e+02]\n",
      " [2.91537808e-01]]\n",
      "3idq\n",
      "[[3.19600545e+02]\n",
      " [2.91540508e-01]]\n",
      "3ieq\n",
      "[[3.19600542e+02]\n",
      " [2.91541044e-01]]\n",
      "4gvq\n",
      "[[3.19600049e+02]\n",
      " [2.91476192e-01]]\n",
      "4gwq\n",
      "[[3.19600051e+02]\n",
      " [2.91473430e-01]]\n",
      "4gxq\n",
      "[[3.19600051e+02]\n",
      " [2.91474535e-01]]\n",
      "4gyq\n",
      "[[3.19600039e+02]\n",
      " [2.91473453e-01]]\n",
      "9i7q\n",
      "[[3.19600528e+02]\n",
      " [2.91414540e-01]]\n",
      "9i8q\n",
      "[[3.19600526e+02]\n",
      " [2.91414104e-01]]\n",
      "9i9q\n",
      "[[3.19600525e+02]\n",
      " [2.91418848e-01]]\n",
      "9iaq\n",
      "[[3.19600527e+02]\n",
      " [2.91411420e-01]]\n"
     ]
    }
   ],
   "source": [
    "for file in lst_1+lst_3+lst_4 + lst_9:\n",
    "    print(fits.open(file)[0].header['ROOTNAME'][-4:])\n",
    "    print(find_center(file)[1])"
   ]
  },
  {
   "cell_type": "code",
   "execution_count": 8,
   "id": "923cc7f6",
   "metadata": {},
   "outputs": [],
   "source": [
    "def avg_center(lst):\n",
    "    a = np.array([[0.0],[0.0]])\n",
    "    for item in lst:\n",
    "        a += find_center(item)[1]\n",
    "    return a/len(lst)"
   ]
  },
  {
   "cell_type": "code",
   "execution_count": 53,
   "id": "ba5d7cd9",
   "metadata": {},
   "outputs": [
    {
     "data": {
      "text/plain": [
       "array([[3.19600418e+02],\n",
       "       [2.91482141e-01]])"
      ]
     },
     "execution_count": 53,
     "metadata": {},
     "output_type": "execute_result"
    }
   ],
   "source": [
    "avg_center0 = avg_center(lst_1 + lst_3 + lst_4 + lst_9)\n",
    "avg_center0"
   ]
  },
  {
   "cell_type": "code",
   "execution_count": 32,
   "id": "5f351aa0",
   "metadata": {},
   "outputs": [],
   "source": [
    "def new_CRVALs(inputfilename, ref_center):\n",
    "    file = fits.open(inputfilename)\n",
    "    #WCS info from header\n",
    "    CRVAL1 = file[1].header['CRVAL1']\n",
    "    CRVAL2 = file[1].header['CRVAL2']\n",
    "    CRPIX1 = file[1].header['CRPIX1']\n",
    "    CRPIX2 = file[1].header['CRPIX2']\n",
    "    CD1_1 = file[1].header['CD1_1']\n",
    "    CD1_2 = file[1].header['CD1_2']\n",
    "    CD2_1 = file[1].header['CD2_1']\n",
    "    CD2_2 = file[1].header['CD2_2']\n",
    "    \n",
    "    A = np.array([[CD1_1, CD1_2], [CD2_1, CD2_2]])\n",
    "    r0 = np.array([[CRPIX1],[CRPIX2]])\n",
    "    \n",
    "    coo_center = find_center(inputfilename)\n",
    "    r_center = coo_center[0]\n",
    "    sky_coo_center = coo_center[1]\n",
    "    \n",
    "    new_CRVALs = ref_center - np.matmul(A, r_center - r0)\n",
    "    return new_CRVALs"
   ]
  },
  {
   "cell_type": "code",
   "execution_count": 54,
   "id": "6ec0fda5",
   "metadata": {},
   "outputs": [
    {
     "name": "stdout",
     "output_type": "stream",
     "text": [
      "1noq\n",
      "[319.60095822]\n",
      "1nrq\n",
      "[319.60100983]\n",
      "1nvq\n",
      "[319.60084321]\n",
      "1nxq\n",
      "[319.6007945]\n",
      "3ibq\n",
      "[319.60056374]\n",
      "3icq\n",
      "[319.60065144]\n",
      "3idq\n",
      "[319.6004961]\n",
      "3ieq\n",
      "[319.60041808]\n",
      "4gvq\n",
      "[319.6004179]\n",
      "4gwq\n",
      "[319.60038718]\n",
      "4gxq\n",
      "[319.60054163]\n",
      "4gyq\n",
      "[319.60058179]\n",
      "9i7q\n",
      "[319.60063288]\n",
      "9i8q\n",
      "[319.60059557]\n",
      "9i9q\n",
      "[319.60046201]\n",
      "9iaq\n",
      "[319.60049864]\n"
     ]
    }
   ],
   "source": [
    "for file in lst_1+lst_3+lst_4+ lst_9:\n",
    "    \n",
    "    print(fits.open(file)[0].header['ROOTNAME'][-4:])\n",
    "    print(new_CRVALs(file, avg_center0)[0])"
   ]
  },
  {
   "cell_type": "code",
   "execution_count": 56,
   "id": "258db81b",
   "metadata": {},
   "outputs": [],
   "source": [
    "for item in lst_1+lst_3 + lst_4 + lst_9:\n",
    "    file = fits.open(item, mode = 'update')\n",
    "    newname = file[0].header['ROOTNAME'][-4:]\n",
    "    new_crvals = new_CRVALs(item, avg_center0)\n",
    "    for i in [1,2,3]:\n",
    "        file[i].header['CRVAL1'] = new_crvals[0][0]\n",
    "        file[i].header['CRVAL2'] = new_crvals[1][0]\n",
    "    \n",
    "    file.writeto(newname + '.fits', overwrite = True)"
   ]
  },
  {
   "cell_type": "code",
   "execution_count": 58,
   "id": "6e9cf042",
   "metadata": {},
   "outputs": [
    {
     "data": {
      "text/plain": [
       "['1noq.fits',\n",
       " '1nrq.fits',\n",
       " '1nvq.fits',\n",
       " '1nxq.fits',\n",
       " '3ibq.fits',\n",
       " '3icq.fits',\n",
       " '3idq.fits',\n",
       " '3ieq.fits',\n",
       " '4gvq.fits',\n",
       " '4gwq.fits',\n",
       " '4gxq.fits',\n",
       " '4gyq.fits',\n",
       " '9i7q.fits',\n",
       " '9i8q.fits',\n",
       " '9i9q.fits',\n",
       " '9iaq.fits']"
      ]
     },
     "execution_count": 58,
     "metadata": {},
     "output_type": "execute_result"
    }
   ],
   "source": [
    "lst_up = []\n",
    "for item in lst_1 + lst_3+ lst_4 + lst_9:\n",
    "    lst_up.append(item[33:36]+ 'q.fits')\n",
    "lst_up"
   ]
  },
  {
   "cell_type": "code",
   "execution_count": null,
   "id": "324afa32",
   "metadata": {},
   "outputs": [],
   "source": [
    "file = fits.open(nr)"
   ]
  },
  {
   "cell_type": "code",
   "execution_count": 59,
   "id": "ae25ebab",
   "metadata": {},
   "outputs": [
    {
     "name": "stderr",
     "output_type": "stream",
     "text": [
      "INFO:drizzlepac.util:Setting up logfile :  total_visit1349_drz.log\n"
     ]
    },
    {
     "name": "stdout",
     "output_type": "stream",
     "text": [
      "Setting up logfile :  total_visit1349_drz.log\n"
     ]
    },
    {
     "name": "stderr",
     "output_type": "stream",
     "text": [
      "INFO:drizzlepac.astrodrizzle:AstroDrizzle log file: total_visit1349_drz.log\n"
     ]
    },
    {
     "name": "stdout",
     "output_type": "stream",
     "text": [
      "AstroDrizzle log file: total_visit1349_drz.log\n"
     ]
    },
    {
     "name": "stderr",
     "output_type": "stream",
     "text": [
      "INFO:drizzlepac.astrodrizzle:AstroDrizzle Version 3.4.2 started at: 09:52:51.640 (13/06/2022)\n"
     ]
    },
    {
     "name": "stdout",
     "output_type": "stream",
     "text": [
      "AstroDrizzle Version 3.4.2 started at: 09:52:51.640 (13/06/2022)\n"
     ]
    },
    {
     "name": "stderr",
     "output_type": "stream",
     "text": [
      "INFO:drizzlepac.astrodrizzle:\n"
     ]
    },
    {
     "name": "stdout",
     "output_type": "stream",
     "text": [
      "\n"
     ]
    },
    {
     "name": "stderr",
     "output_type": "stream",
     "text": [
      "INFO:drizzlepac.astrodrizzle:Version Information\n",
      "INFO:drizzlepac.astrodrizzle:--------------------\n",
      "INFO:drizzlepac.astrodrizzle:Python Version [Clang 12.0.0 ]\n",
      "INFO:drizzlepac.astrodrizzle:3.9.12 (main, Jun  1 2022, 06:36:29) \n",
      "INFO:drizzlepac.astrodrizzle:numpy Version -> 1.22.4 \n",
      "INFO:drizzlepac.astrodrizzle:astropy Version -> 5.1 \n",
      "INFO:drizzlepac.astrodrizzle:stwcs Version -> 1.7.2 \n",
      "INFO:drizzlepac.util:==== Processing Step  Initialization  started at  09:52:51.648 (13/06/2022)\n"
     ]
    },
    {
     "name": "stdout",
     "output_type": "stream",
     "text": [
      "==== Processing Step  Initialization  started at  09:52:51.648 (13/06/2022)\n"
     ]
    },
    {
     "name": "stderr",
     "output_type": "stream",
     "text": [
      "INFO:drizzlepac.util:\n"
     ]
    },
    {
     "name": "stdout",
     "output_type": "stream",
     "text": [
      "\n"
     ]
    },
    {
     "name": "stderr",
     "output_type": "stream",
     "text": [
      "INFO:drizzlepac.processInput:Preserving original of:  4gvq.fits as  OrIg_files/4gvq.fits\n"
     ]
    },
    {
     "name": "stdout",
     "output_type": "stream",
     "text": [
      "Preserving original of:  4gvq.fits as  OrIg_files/4gvq.fits\n"
     ]
    },
    {
     "name": "stderr",
     "output_type": "stream",
     "text": [
      "INFO:drizzlepac.processInput:Preserving original of:  4gwq.fits as  OrIg_files/4gwq.fits\n"
     ]
    },
    {
     "name": "stdout",
     "output_type": "stream",
     "text": [
      "Preserving original of:  4gwq.fits as  OrIg_files/4gwq.fits\n"
     ]
    },
    {
     "name": "stderr",
     "output_type": "stream",
     "text": [
      "INFO:drizzlepac.processInput:Preserving original of:  4gxq.fits as  OrIg_files/4gxq.fits\n"
     ]
    },
    {
     "name": "stdout",
     "output_type": "stream",
     "text": [
      "Preserving original of:  4gxq.fits as  OrIg_files/4gxq.fits\n"
     ]
    },
    {
     "name": "stderr",
     "output_type": "stream",
     "text": [
      "INFO:drizzlepac.processInput:Preserving original of:  4gyq.fits as  OrIg_files/4gyq.fits\n"
     ]
    },
    {
     "name": "stdout",
     "output_type": "stream",
     "text": [
      "Preserving original of:  4gyq.fits as  OrIg_files/4gyq.fits\n"
     ]
    },
    {
     "name": "stderr",
     "output_type": "stream",
     "text": [
      "INFO:drizzlepac.processInput:Preserving original of:  9i7q.fits as  OrIg_files/9i7q.fits\n"
     ]
    },
    {
     "name": "stdout",
     "output_type": "stream",
     "text": [
      "Preserving original of:  9i7q.fits as  OrIg_files/9i7q.fits\n"
     ]
    },
    {
     "name": "stderr",
     "output_type": "stream",
     "text": [
      "INFO:drizzlepac.processInput:Preserving original of:  9i8q.fits as  OrIg_files/9i8q.fits\n"
     ]
    },
    {
     "name": "stdout",
     "output_type": "stream",
     "text": [
      "Preserving original of:  9i8q.fits as  OrIg_files/9i8q.fits\n"
     ]
    },
    {
     "name": "stderr",
     "output_type": "stream",
     "text": [
      "INFO:drizzlepac.processInput:Preserving original of:  9i9q.fits as  OrIg_files/9i9q.fits\n"
     ]
    },
    {
     "name": "stdout",
     "output_type": "stream",
     "text": [
      "Preserving original of:  9i9q.fits as  OrIg_files/9i9q.fits\n"
     ]
    },
    {
     "name": "stderr",
     "output_type": "stream",
     "text": [
      "INFO:drizzlepac.processInput:Preserving original of:  9iaq.fits as  OrIg_files/9iaq.fits\n"
     ]
    },
    {
     "name": "stdout",
     "output_type": "stream",
     "text": [
      "Preserving original of:  9iaq.fits as  OrIg_files/9iaq.fits\n"
     ]
    },
    {
     "name": "stderr",
     "output_type": "stream",
     "text": [
      "INFO:drizzlepac.processInput:Executing serially\n",
      "INFO:drizzlepac.processInput:Setting up output name: total_visit1349_test9_drz.fits\n",
      "INFO:drizzlepac.processInput:##############################################################################\n"
     ]
    },
    {
     "name": "stdout",
     "output_type": "stream",
     "text": [
      "##############################################################################\n"
     ]
    },
    {
     "name": "stderr",
     "output_type": "stream",
     "text": [
      "INFO:drizzlepac.processInput:#                                                                            #\n"
     ]
    },
    {
     "name": "stdout",
     "output_type": "stream",
     "text": [
      "#                                                                            #\n"
     ]
    },
    {
     "name": "stderr",
     "output_type": "stream",
     "text": [
      "INFO:drizzlepac.processInput:# “minmed” is highly recommended for three images,                           #\n"
     ]
    },
    {
     "name": "stdout",
     "output_type": "stream",
     "text": [
      "# “minmed” is highly recommended for three images,                           #\n"
     ]
    },
    {
     "name": "stderr",
     "output_type": "stream",
     "text": [
      "INFO:drizzlepac.processInput:#  and is good for four to six images,                                       #\n"
     ]
    },
    {
     "name": "stdout",
     "output_type": "stream",
     "text": [
      "#  and is good for four to six images,                                       #\n"
     ]
    },
    {
     "name": "stderr",
     "output_type": "stream",
     "text": [
      "INFO:drizzlepac.processInput:#  but should be avoided for ten or more images.                             #\n"
     ]
    },
    {
     "name": "stdout",
     "output_type": "stream",
     "text": [
      "#  but should be avoided for ten or more images.                             #\n"
     ]
    },
    {
     "name": "stderr",
     "output_type": "stream",
     "text": [
      "INFO:drizzlepac.processInput:#                                                                            #\n"
     ]
    },
    {
     "name": "stdout",
     "output_type": "stream",
     "text": [
      "#                                                                            #\n"
     ]
    },
    {
     "name": "stderr",
     "output_type": "stream",
     "text": [
      "INFO:drizzlepac.processInput:##############################################################################\n"
     ]
    },
    {
     "name": "stdout",
     "output_type": "stream",
     "text": [
      "##############################################################################\n"
     ]
    },
    {
     "name": "stderr",
     "output_type": "stream",
     "text": [
      "INFO:drizzlepac.processInput:-Creating imageObject List as input for processing steps.\n",
      "INFO:drizzlepac.imageObject:Reading in MDRIZSKY of 0.0\n",
      "INFO:drizzlepac.acsData:WARNING: No cte correction will be made for this SBC data.\n"
     ]
    },
    {
     "name": "stdout",
     "output_type": "stream",
     "text": [
      "WARNING: No cte correction will be made for this SBC data.\n"
     ]
    },
    {
     "name": "stderr",
     "output_type": "stream",
     "text": [
      "INFO:drizzlepac.imageObject:Reading in MDRIZSKY of 0.0\n",
      "INFO:drizzlepac.acsData:WARNING: No cte correction will be made for this SBC data.\n"
     ]
    },
    {
     "name": "stdout",
     "output_type": "stream",
     "text": [
      "WARNING: No cte correction will be made for this SBC data.\n"
     ]
    },
    {
     "name": "stderr",
     "output_type": "stream",
     "text": [
      "INFO:drizzlepac.imageObject:Reading in MDRIZSKY of 0.0\n",
      "INFO:drizzlepac.acsData:WARNING: No cte correction will be made for this SBC data.\n"
     ]
    },
    {
     "name": "stdout",
     "output_type": "stream",
     "text": [
      "WARNING: No cte correction will be made for this SBC data.\n"
     ]
    },
    {
     "name": "stderr",
     "output_type": "stream",
     "text": [
      "INFO:drizzlepac.imageObject:Reading in MDRIZSKY of 0.0\n",
      "INFO:drizzlepac.acsData:WARNING: No cte correction will be made for this SBC data.\n"
     ]
    },
    {
     "name": "stdout",
     "output_type": "stream",
     "text": [
      "WARNING: No cte correction will be made for this SBC data.\n"
     ]
    },
    {
     "name": "stderr",
     "output_type": "stream",
     "text": [
      "INFO:drizzlepac.imageObject:Reading in MDRIZSKY of 0.0\n",
      "INFO:drizzlepac.acsData:WARNING: No cte correction will be made for this SBC data.\n"
     ]
    },
    {
     "name": "stdout",
     "output_type": "stream",
     "text": [
      "WARNING: No cte correction will be made for this SBC data.\n"
     ]
    },
    {
     "name": "stderr",
     "output_type": "stream",
     "text": [
      "INFO:drizzlepac.imageObject:Reading in MDRIZSKY of 0.0\n",
      "INFO:drizzlepac.acsData:WARNING: No cte correction will be made for this SBC data.\n"
     ]
    },
    {
     "name": "stdout",
     "output_type": "stream",
     "text": [
      "WARNING: No cte correction will be made for this SBC data.\n"
     ]
    },
    {
     "name": "stderr",
     "output_type": "stream",
     "text": [
      "INFO:drizzlepac.imageObject:Reading in MDRIZSKY of 0.0\n",
      "INFO:drizzlepac.acsData:WARNING: No cte correction will be made for this SBC data.\n"
     ]
    },
    {
     "name": "stdout",
     "output_type": "stream",
     "text": [
      "WARNING: No cte correction will be made for this SBC data.\n"
     ]
    },
    {
     "name": "stderr",
     "output_type": "stream",
     "text": [
      "INFO:drizzlepac.imageObject:Reading in MDRIZSKY of 0.0\n",
      "INFO:drizzlepac.acsData:WARNING: No cte correction will be made for this SBC data.\n"
     ]
    },
    {
     "name": "stdout",
     "output_type": "stream",
     "text": [
      "WARNING: No cte correction will be made for this SBC data.\n"
     ]
    },
    {
     "name": "stderr",
     "output_type": "stream",
     "text": [
      "INFO:drizzlepac.imageObject:Reading in MDRIZSKY of 0.0\n",
      "INFO:drizzlepac.acsData:WARNING: No cte correction will be made for this SBC data.\n"
     ]
    },
    {
     "name": "stdout",
     "output_type": "stream",
     "text": [
      "WARNING: No cte correction will be made for this SBC data.\n"
     ]
    },
    {
     "name": "stderr",
     "output_type": "stream",
     "text": [
      "INFO:drizzlepac.imageObject:Reading in MDRIZSKY of 0.0\n",
      "INFO:drizzlepac.acsData:WARNING: No cte correction will be made for this SBC data.\n"
     ]
    },
    {
     "name": "stdout",
     "output_type": "stream",
     "text": [
      "WARNING: No cte correction will be made for this SBC data.\n"
     ]
    },
    {
     "name": "stderr",
     "output_type": "stream",
     "text": [
      "INFO:drizzlepac.imageObject:Reading in MDRIZSKY of 0.0\n",
      "INFO:drizzlepac.acsData:WARNING: No cte correction will be made for this SBC data.\n"
     ]
    },
    {
     "name": "stdout",
     "output_type": "stream",
     "text": [
      "WARNING: No cte correction will be made for this SBC data.\n"
     ]
    },
    {
     "name": "stderr",
     "output_type": "stream",
     "text": [
      "INFO:drizzlepac.imageObject:Reading in MDRIZSKY of 0.0\n",
      "INFO:drizzlepac.acsData:WARNING: No cte correction will be made for this SBC data.\n"
     ]
    },
    {
     "name": "stdout",
     "output_type": "stream",
     "text": [
      "WARNING: No cte correction will be made for this SBC data.\n"
     ]
    },
    {
     "name": "stderr",
     "output_type": "stream",
     "text": [
      "INFO:drizzlepac.imageObject:Reading in MDRIZSKY of 0.0\n",
      "INFO:drizzlepac.acsData:WARNING: No cte correction will be made for this SBC data.\n"
     ]
    },
    {
     "name": "stdout",
     "output_type": "stream",
     "text": [
      "WARNING: No cte correction will be made for this SBC data.\n"
     ]
    },
    {
     "name": "stderr",
     "output_type": "stream",
     "text": [
      "INFO:drizzlepac.imageObject:Reading in MDRIZSKY of 0.0\n",
      "INFO:drizzlepac.acsData:WARNING: No cte correction will be made for this SBC data.\n"
     ]
    },
    {
     "name": "stdout",
     "output_type": "stream",
     "text": [
      "WARNING: No cte correction will be made for this SBC data.\n"
     ]
    },
    {
     "name": "stderr",
     "output_type": "stream",
     "text": [
      "INFO:drizzlepac.imageObject:Reading in MDRIZSKY of 0.0\n",
      "INFO:drizzlepac.acsData:WARNING: No cte correction will be made for this SBC data.\n"
     ]
    },
    {
     "name": "stdout",
     "output_type": "stream",
     "text": [
      "WARNING: No cte correction will be made for this SBC data.\n"
     ]
    },
    {
     "name": "stderr",
     "output_type": "stream",
     "text": [
      "INFO:drizzlepac.imageObject:Reading in MDRIZSKY of 0.0\n",
      "INFO:drizzlepac.acsData:WARNING: No cte correction will be made for this SBC data.\n"
     ]
    },
    {
     "name": "stdout",
     "output_type": "stream",
     "text": [
      "WARNING: No cte correction will be made for this SBC data.\n"
     ]
    },
    {
     "name": "stderr",
     "output_type": "stream",
     "text": [
      "INFO:drizzlepac.resetbits:Reset bit values of 4096 to a value of 0 in 1noq.fits[DQ,1]\n",
      "INFO:drizzlepac.resetbits:Reset bit values of 4096 to a value of 0 in 1nrq.fits[DQ,1]\n",
      "INFO:drizzlepac.resetbits:Reset bit values of 4096 to a value of 0 in 1nvq.fits[DQ,1]\n",
      "INFO:drizzlepac.resetbits:Reset bit values of 4096 to a value of 0 in 1nxq.fits[DQ,1]\n",
      "INFO:drizzlepac.resetbits:Reset bit values of 4096 to a value of 0 in 3ibq.fits[DQ,1]\n",
      "INFO:drizzlepac.resetbits:Reset bit values of 4096 to a value of 0 in 3icq.fits[DQ,1]\n",
      "INFO:drizzlepac.resetbits:Reset bit values of 4096 to a value of 0 in 3idq.fits[DQ,1]\n",
      "INFO:drizzlepac.resetbits:Reset bit values of 4096 to a value of 0 in 3ieq.fits[DQ,1]\n",
      "INFO:drizzlepac.resetbits:Reset bit values of 4096 to a value of 0 in 4gvq.fits[DQ,1]\n",
      "INFO:drizzlepac.resetbits:Reset bit values of 4096 to a value of 0 in 4gwq.fits[DQ,1]\n",
      "INFO:drizzlepac.resetbits:Reset bit values of 4096 to a value of 0 in 4gxq.fits[DQ,1]\n",
      "INFO:drizzlepac.resetbits:Reset bit values of 4096 to a value of 0 in 4gyq.fits[DQ,1]\n",
      "INFO:drizzlepac.resetbits:Reset bit values of 4096 to a value of 0 in 9i7q.fits[DQ,1]\n",
      "INFO:drizzlepac.resetbits:Reset bit values of 4096 to a value of 0 in 9i8q.fits[DQ,1]\n",
      "INFO:drizzlepac.resetbits:Reset bit values of 4096 to a value of 0 in 9i9q.fits[DQ,1]\n",
      "INFO:drizzlepac.resetbits:Reset bit values of 4096 to a value of 0 in 9iaq.fits[DQ,1]\n",
      "INFO:drizzlepac.processInput:-Creating output WCS.\n",
      "INFO:astropy.wcs.wcs:WCS Keywords\n"
     ]
    },
    {
     "name": "stdout",
     "output_type": "stream",
     "text": [
      "WCS Keywords\n"
     ]
    },
    {
     "name": "stderr",
     "output_type": "stream",
     "text": [
      "INFO:astropy.wcs.wcs:\n"
     ]
    },
    {
     "name": "stdout",
     "output_type": "stream",
     "text": [
      "\n"
     ]
    },
    {
     "name": "stderr",
     "output_type": "stream",
     "text": [
      "INFO:astropy.wcs.wcs:Number of WCS axes: 2\n"
     ]
    },
    {
     "name": "stdout",
     "output_type": "stream",
     "text": [
      "Number of WCS axes: 2\n"
     ]
    },
    {
     "name": "stderr",
     "output_type": "stream",
     "text": [
      "INFO:astropy.wcs.wcs:CTYPE : 'RA---TAN'  'DEC--TAN'  \n"
     ]
    },
    {
     "name": "stdout",
     "output_type": "stream",
     "text": [
      "CTYPE : 'RA---TAN'  'DEC--TAN'  \n"
     ]
    },
    {
     "name": "stderr",
     "output_type": "stream",
     "text": [
      "INFO:astropy.wcs.wcs:CRVAL : 319.60072654272636  0.2915652990259774  \n"
     ]
    },
    {
     "name": "stdout",
     "output_type": "stream",
     "text": [
      "CRVAL : 319.60072654272636  0.2915652990259774  \n"
     ]
    },
    {
     "name": "stderr",
     "output_type": "stream",
     "text": [
      "INFO:astropy.wcs.wcs:CRPIX : 974.0  980.5  \n"
     ]
    },
    {
     "name": "stdout",
     "output_type": "stream",
     "text": [
      "CRPIX : 974.0  980.5  \n"
     ]
    },
    {
     "name": "stderr",
     "output_type": "stream",
     "text": [
      "INFO:astropy.wcs.wcs:CD1_1 CD1_2  : -6.944444444444445e-06  -4.235164736271502e-22  \n"
     ]
    },
    {
     "name": "stdout",
     "output_type": "stream",
     "text": [
      "CD1_1 CD1_2  : -6.944444444444445e-06  -4.235164736271502e-22  \n"
     ]
    },
    {
     "name": "stderr",
     "output_type": "stream",
     "text": [
      "INFO:astropy.wcs.wcs:CD2_1 CD2_2  : -4.235164736271502e-22  6.944444444444445e-06  \n"
     ]
    },
    {
     "name": "stdout",
     "output_type": "stream",
     "text": [
      "CD2_1 CD2_2  : -4.235164736271502e-22  6.944444444444445e-06  \n"
     ]
    },
    {
     "name": "stderr",
     "output_type": "stream",
     "text": [
      "INFO:astropy.wcs.wcs:NAXIS : 1947  1960\n"
     ]
    },
    {
     "name": "stdout",
     "output_type": "stream",
     "text": [
      "NAXIS : 1947  1960\n"
     ]
    },
    {
     "name": "stderr",
     "output_type": "stream",
     "text": [
      "INFO:drizzlepac.processInput:********************************************************************************\n"
     ]
    },
    {
     "name": "stdout",
     "output_type": "stream",
     "text": [
      "********************************************************************************\n"
     ]
    },
    {
     "name": "stderr",
     "output_type": "stream",
     "text": [
      "INFO:drizzlepac.processInput:*\n"
     ]
    },
    {
     "name": "stdout",
     "output_type": "stream",
     "text": [
      "*\n"
     ]
    },
    {
     "name": "stderr",
     "output_type": "stream",
     "text": [
      "INFO:drizzlepac.processInput:*  Estimated memory usage:  up to 51 Mb.\n"
     ]
    },
    {
     "name": "stdout",
     "output_type": "stream",
     "text": [
      "*  Estimated memory usage:  up to 51 Mb.\n"
     ]
    },
    {
     "name": "stderr",
     "output_type": "stream",
     "text": [
      "INFO:drizzlepac.processInput:*  Output image size:       1947 X 1960 pixels. \n"
     ]
    },
    {
     "name": "stdout",
     "output_type": "stream",
     "text": [
      "*  Output image size:       1947 X 1960 pixels. \n"
     ]
    },
    {
     "name": "stderr",
     "output_type": "stream",
     "text": [
      "INFO:drizzlepac.processInput:*  Output image file:       ~ 43 Mb. \n"
     ]
    },
    {
     "name": "stdout",
     "output_type": "stream",
     "text": [
      "*  Output image file:       ~ 43 Mb. \n"
     ]
    },
    {
     "name": "stderr",
     "output_type": "stream",
     "text": [
      "INFO:drizzlepac.processInput:*  Cores available:         1\n"
     ]
    },
    {
     "name": "stdout",
     "output_type": "stream",
     "text": [
      "*  Cores available:         1\n"
     ]
    },
    {
     "name": "stderr",
     "output_type": "stream",
     "text": [
      "INFO:drizzlepac.processInput:*\n"
     ]
    },
    {
     "name": "stdout",
     "output_type": "stream",
     "text": [
      "*\n"
     ]
    },
    {
     "name": "stderr",
     "output_type": "stream",
     "text": [
      "INFO:drizzlepac.processInput:********************************************************************************\n"
     ]
    },
    {
     "name": "stdout",
     "output_type": "stream",
     "text": [
      "********************************************************************************\n"
     ]
    },
    {
     "name": "stderr",
     "output_type": "stream",
     "text": [
      "INFO:drizzlepac.util:==== Processing Step Initialization finished at 09:52:53.729 (13/06/2022)\n"
     ]
    },
    {
     "name": "stdout",
     "output_type": "stream",
     "text": [
      "==== Processing Step Initialization finished at 09:52:53.729 (13/06/2022)\n"
     ]
    },
    {
     "name": "stderr",
     "output_type": "stream",
     "text": [
      "INFO:drizzlepac.astrodrizzle:USER INPUT PARAMETERS common to all Processing Steps:\n",
      "INFO:drizzlepac.astrodrizzle:\tbuild :\tTrue\n",
      "INFO:drizzlepac.astrodrizzle:\tcoeffs :\tTrue\n",
      "INFO:drizzlepac.astrodrizzle:\tcontext :\tTrue\n",
      "INFO:drizzlepac.astrodrizzle:\tcrbit :\t4096\n",
      "INFO:drizzlepac.astrodrizzle:\tgroup :\t\n",
      "INFO:drizzlepac.astrodrizzle:\tin_memory :\tFalse\n",
      "INFO:drizzlepac.astrodrizzle:\tinput :\t['1noq.fits', '1nrq.fits', '1nvq.fits', '1nxq.fits', '3ibq.fits', '3icq.fits', '3idq.fits', '3ieq.fits', '4gvq.fits', '4gwq.fits', '4gxq.fits', '4gyq.fits', '9i7q.fits', '9i8q.fits', '9i9q.fits', '9iaq.fits']\n",
      "INFO:drizzlepac.astrodrizzle:\tmdriztab :\tFalse\n",
      "INFO:drizzlepac.astrodrizzle:\tnum_cores :\t1\n",
      "INFO:drizzlepac.astrodrizzle:\toutput :\ttotal_visit1349_test9\n",
      "INFO:drizzlepac.astrodrizzle:\tproc_unit :\tnative\n",
      "INFO:drizzlepac.astrodrizzle:\tresetbits :\t4096\n",
      "INFO:drizzlepac.astrodrizzle:\trules_file :\t\n",
      "INFO:drizzlepac.astrodrizzle:\trunfile :\ttotal_visit1349_drz.log\n",
      "INFO:drizzlepac.astrodrizzle:\tstepsize :\t10\n",
      "INFO:drizzlepac.astrodrizzle:\tupdatewcs :\tFalse\n",
      "INFO:drizzlepac.astrodrizzle:\twcskey :\t\n",
      "INFO:drizzlepac.util:==== Processing Step  Static Mask  started at  09:52:53.737 (13/06/2022)\n"
     ]
    },
    {
     "name": "stdout",
     "output_type": "stream",
     "text": [
      "==== Processing Step  Static Mask  started at  09:52:53.737 (13/06/2022)\n"
     ]
    },
    {
     "name": "stderr",
     "output_type": "stream",
     "text": [
      "INFO:drizzlepac.util:\n"
     ]
    },
    {
     "name": "stdout",
     "output_type": "stream",
     "text": [
      "\n"
     ]
    },
    {
     "name": "stderr",
     "output_type": "stream",
     "text": [
      "INFO:drizzlepac.staticMask:Static Mask step not performed.\n",
      "INFO:drizzlepac.util:==== Processing Step Static Mask finished at 09:52:53.739 (13/06/2022)\n"
     ]
    },
    {
     "name": "stdout",
     "output_type": "stream",
     "text": [
      "==== Processing Step Static Mask finished at 09:52:53.739 (13/06/2022)\n"
     ]
    },
    {
     "name": "stderr",
     "output_type": "stream",
     "text": [
      "INFO:drizzlepac.util:==== Processing Step  Subtract Sky  started at  09:52:53.740 (13/06/2022)\n"
     ]
    },
    {
     "name": "stdout",
     "output_type": "stream",
     "text": [
      "==== Processing Step  Subtract Sky  started at  09:52:53.740 (13/06/2022)\n"
     ]
    },
    {
     "name": "stderr",
     "output_type": "stream",
     "text": [
      "INFO:drizzlepac.util:\n"
     ]
    },
    {
     "name": "stdout",
     "output_type": "stream",
     "text": [
      "\n"
     ]
    },
    {
     "name": "stderr",
     "output_type": "stream",
     "text": [
      "INFO:drizzlepac.sky:Sky Subtraction step not performed.\n",
      "INFO:drizzlepac.util:==== Processing Step Subtract Sky finished at 09:52:54.108 (13/06/2022)\n"
     ]
    },
    {
     "name": "stdout",
     "output_type": "stream",
     "text": [
      "==== Processing Step Subtract Sky finished at 09:52:54.108 (13/06/2022)\n"
     ]
    },
    {
     "name": "stderr",
     "output_type": "stream",
     "text": [
      "INFO:drizzlepac.util:==== Processing Step  Separate Drizzle  started at  09:52:54.10 (13/06/2022)\n"
     ]
    },
    {
     "name": "stdout",
     "output_type": "stream",
     "text": [
      "==== Processing Step  Separate Drizzle  started at  09:52:54.10 (13/06/2022)\n"
     ]
    },
    {
     "name": "stderr",
     "output_type": "stream",
     "text": [
      "INFO:drizzlepac.util:\n"
     ]
    },
    {
     "name": "stdout",
     "output_type": "stream",
     "text": [
      "\n"
     ]
    },
    {
     "name": "stderr",
     "output_type": "stream",
     "text": [
      "INFO:drizzlepac.adrizzle:Single drizzle step not performed.\n",
      "INFO:drizzlepac.util:==== Processing Step Separate Drizzle finished at 09:52:54.110 (13/06/2022)\n"
     ]
    },
    {
     "name": "stdout",
     "output_type": "stream",
     "text": [
      "==== Processing Step Separate Drizzle finished at 09:52:54.110 (13/06/2022)\n"
     ]
    },
    {
     "name": "stderr",
     "output_type": "stream",
     "text": [
      "INFO:drizzlepac.util:==== Processing Step  Create Median  started at  09:52:54.111 (13/06/2022)\n"
     ]
    },
    {
     "name": "stdout",
     "output_type": "stream",
     "text": [
      "==== Processing Step  Create Median  started at  09:52:54.111 (13/06/2022)\n"
     ]
    },
    {
     "name": "stderr",
     "output_type": "stream",
     "text": [
      "INFO:drizzlepac.util:\n"
     ]
    },
    {
     "name": "stdout",
     "output_type": "stream",
     "text": [
      "\n"
     ]
    },
    {
     "name": "stderr",
     "output_type": "stream",
     "text": [
      "INFO:drizzlepac.createMedian:Median combination step not performed.\n",
      "INFO:drizzlepac.util:==== Processing Step  Blot  started at  09:52:54.113 (13/06/2022)\n"
     ]
    },
    {
     "name": "stdout",
     "output_type": "stream",
     "text": [
      "==== Processing Step  Blot  started at  09:52:54.113 (13/06/2022)\n"
     ]
    },
    {
     "name": "stderr",
     "output_type": "stream",
     "text": [
      "INFO:drizzlepac.util:\n"
     ]
    },
    {
     "name": "stdout",
     "output_type": "stream",
     "text": [
      "\n"
     ]
    },
    {
     "name": "stderr",
     "output_type": "stream",
     "text": [
      "INFO:drizzlepac.ablot:Blot step not performed.\n",
      "INFO:drizzlepac.util:==== Processing Step Blot finished at 09:52:54.114 (13/06/2022)\n"
     ]
    },
    {
     "name": "stdout",
     "output_type": "stream",
     "text": [
      "==== Processing Step Blot finished at 09:52:54.114 (13/06/2022)\n"
     ]
    },
    {
     "name": "stderr",
     "output_type": "stream",
     "text": [
      "INFO:drizzlepac.util:==== Processing Step  Driz_CR  started at  09:52:54.115 (13/06/2022)\n"
     ]
    },
    {
     "name": "stdout",
     "output_type": "stream",
     "text": [
      "==== Processing Step  Driz_CR  started at  09:52:54.115 (13/06/2022)\n"
     ]
    },
    {
     "name": "stderr",
     "output_type": "stream",
     "text": [
      "INFO:drizzlepac.util:\n"
     ]
    },
    {
     "name": "stdout",
     "output_type": "stream",
     "text": [
      "\n"
     ]
    },
    {
     "name": "stderr",
     "output_type": "stream",
     "text": [
      "INFO:drizzlepac.drizCR:Cosmic-ray identification (driz_cr) step not performed.\n",
      "INFO:drizzlepac.util:==== Processing Step  Final Drizzle  started at  09:52:54.116 (13/06/2022)\n"
     ]
    },
    {
     "name": "stdout",
     "output_type": "stream",
     "text": [
      "==== Processing Step  Final Drizzle  started at  09:52:54.116 (13/06/2022)\n"
     ]
    },
    {
     "name": "stderr",
     "output_type": "stream",
     "text": [
      "INFO:drizzlepac.util:\n"
     ]
    },
    {
     "name": "stdout",
     "output_type": "stream",
     "text": [
      "\n"
     ]
    },
    {
     "name": "stderr",
     "output_type": "stream",
     "text": [
      "INFO:drizzlepac.adrizzle:Interpreted paramDict with single=False as:\n",
      "{'build': True, 'stepsize': 10, 'coeffs': True, 'wcskey': '', 'wht_type': 'EXP', 'kernel': 'square', 'wt_scl': 'exptime', 'pixfrac': 1.0, 'fillval': None, 'maskval': None, 'bits': 0, 'units': 'cps'}\n",
      "INFO:drizzlepac.adrizzle:USER INPUT PARAMETERS for Final Drizzle Step:\n",
      "INFO:drizzlepac.adrizzle:\tbits :\t0\n",
      "INFO:drizzlepac.adrizzle:\tbuild :\tTrue\n",
      "INFO:drizzlepac.adrizzle:\tclean :\tTrue\n",
      "INFO:drizzlepac.adrizzle:\tcoeffs :\tTrue\n",
      "INFO:drizzlepac.adrizzle:\tcrbit :\t4096\n",
      "INFO:drizzlepac.adrizzle:\tfillval :\tNone\n",
      "INFO:drizzlepac.adrizzle:\tkernel :\tsquare\n",
      "INFO:drizzlepac.adrizzle:\tlogfile :\ttotal_visit1349_drz.log\n",
      "INFO:drizzlepac.adrizzle:\tmaskval :\tNone\n",
      "INFO:drizzlepac.adrizzle:\tpixfrac :\t1.0\n",
      "INFO:drizzlepac.adrizzle:\tproc_unit :\tnative\n",
      "INFO:drizzlepac.adrizzle:\trules_file :\tNone\n",
      "INFO:drizzlepac.adrizzle:\tstepsize :\t10\n",
      "INFO:drizzlepac.adrizzle:\tunits :\tcps\n",
      "INFO:drizzlepac.adrizzle:\twcskey :\t\n",
      "INFO:drizzlepac.adrizzle:\twht_type :\tEXP\n",
      "INFO:drizzlepac.adrizzle:\twt_scl :\texptime\n",
      "INFO:drizzlepac.adrizzle:  **Using sub-sampling value of 10 for kernel square\n",
      "INFO:drizzlepac.adrizzle:Running Drizzle to create output frame with WCS of: \n",
      "INFO:astropy.wcs.wcs:WCS Keywords\n"
     ]
    },
    {
     "name": "stdout",
     "output_type": "stream",
     "text": [
      "WCS Keywords\n"
     ]
    },
    {
     "name": "stderr",
     "output_type": "stream",
     "text": [
      "INFO:astropy.wcs.wcs:\n"
     ]
    },
    {
     "name": "stdout",
     "output_type": "stream",
     "text": [
      "\n"
     ]
    },
    {
     "name": "stderr",
     "output_type": "stream",
     "text": [
      "INFO:astropy.wcs.wcs:Number of WCS axes: 2\n"
     ]
    },
    {
     "name": "stdout",
     "output_type": "stream",
     "text": [
      "Number of WCS axes: 2\n"
     ]
    },
    {
     "name": "stderr",
     "output_type": "stream",
     "text": [
      "INFO:astropy.wcs.wcs:CTYPE : 'RA---TAN'  'DEC--TAN'  \n"
     ]
    },
    {
     "name": "stdout",
     "output_type": "stream",
     "text": [
      "CTYPE : 'RA---TAN'  'DEC--TAN'  \n"
     ]
    },
    {
     "name": "stderr",
     "output_type": "stream",
     "text": [
      "INFO:astropy.wcs.wcs:CRVAL : 319.60072654272636  0.2915652990259774  \n"
     ]
    },
    {
     "name": "stdout",
     "output_type": "stream",
     "text": [
      "CRVAL : 319.60072654272636  0.2915652990259774  \n"
     ]
    },
    {
     "name": "stderr",
     "output_type": "stream",
     "text": [
      "INFO:astropy.wcs.wcs:CRPIX : 974.0  980.5  \n"
     ]
    },
    {
     "name": "stdout",
     "output_type": "stream",
     "text": [
      "CRPIX : 974.0  980.5  \n"
     ]
    },
    {
     "name": "stderr",
     "output_type": "stream",
     "text": [
      "INFO:astropy.wcs.wcs:CD1_1 CD1_2  : -6.944444444444445e-06  -4.235164736271502e-22  \n"
     ]
    },
    {
     "name": "stdout",
     "output_type": "stream",
     "text": [
      "CD1_1 CD1_2  : -6.944444444444445e-06  -4.235164736271502e-22  \n"
     ]
    },
    {
     "name": "stderr",
     "output_type": "stream",
     "text": [
      "INFO:astropy.wcs.wcs:CD2_1 CD2_2  : -4.235164736271502e-22  6.944444444444445e-06  \n"
     ]
    },
    {
     "name": "stdout",
     "output_type": "stream",
     "text": [
      "CD2_1 CD2_2  : -4.235164736271502e-22  6.944444444444445e-06  \n"
     ]
    },
    {
     "name": "stderr",
     "output_type": "stream",
     "text": [
      "INFO:astropy.wcs.wcs:NAXIS : 1947  1960\n"
     ]
    },
    {
     "name": "stdout",
     "output_type": "stream",
     "text": [
      "NAXIS : 1947  1960\n"
     ]
    },
    {
     "name": "stderr",
     "output_type": "stream",
     "text": [
      "INFO:drizzlepac.adrizzle:-Drizzle input: 1noq.fits[sci,1]\n",
      "WARNING:drizzlepac.adrizzle:No CR mask file found! Input DQ array not updated.\n",
      "INFO:drizzlepac.imageObject:Applying EXPTIME weighting to DQ mask for chip 1\n",
      "INFO:drizzlepac.adrizzle:Using WCSLIB-based coordinate transformation...\n",
      "INFO:drizzlepac.adrizzle:stepsize = 10\n",
      "INFO:drizzlepac.cdriz:-Drizzling using kernel = square\n",
      "\n",
      "WARNING:drizzlepac.adrizzle:! 1428 points were outside the output image.\n",
      "INFO:drizzlepac.adrizzle:-Drizzle input: 1nrq.fits[sci,1]\n",
      "WARNING:drizzlepac.adrizzle:No CR mask file found! Input DQ array not updated.\n",
      "INFO:drizzlepac.imageObject:Applying EXPTIME weighting to DQ mask for chip 1\n",
      "INFO:drizzlepac.adrizzle:Using WCSLIB-based coordinate transformation...\n",
      "INFO:drizzlepac.adrizzle:stepsize = 10\n",
      "INFO:drizzlepac.cdriz:-Drizzling using kernel = square\n",
      "\n",
      "WARNING:drizzlepac.adrizzle:! 88 points were outside the output image.\n",
      "INFO:drizzlepac.adrizzle:-Drizzle input: 1nvq.fits[sci,1]\n",
      "WARNING:drizzlepac.adrizzle:No CR mask file found! Input DQ array not updated.\n",
      "INFO:drizzlepac.imageObject:Applying EXPTIME weighting to DQ mask for chip 1\n",
      "INFO:drizzlepac.adrizzle:Using WCSLIB-based coordinate transformation...\n",
      "INFO:drizzlepac.adrizzle:stepsize = 10\n",
      "INFO:drizzlepac.cdriz:-Drizzling using kernel = square\n",
      "\n",
      "WARNING:drizzlepac.adrizzle:! 150 points were outside the output image.\n",
      "INFO:drizzlepac.adrizzle:-Drizzle input: 1nxq.fits[sci,1]\n",
      "WARNING:drizzlepac.adrizzle:No CR mask file found! Input DQ array not updated.\n",
      "INFO:drizzlepac.imageObject:Applying EXPTIME weighting to DQ mask for chip 1\n",
      "INFO:drizzlepac.adrizzle:Using WCSLIB-based coordinate transformation...\n",
      "INFO:drizzlepac.adrizzle:stepsize = 10\n",
      "INFO:drizzlepac.cdriz:-Drizzling using kernel = square\n",
      "\n",
      "WARNING:drizzlepac.adrizzle:! 1513 points were outside the output image.\n",
      "INFO:drizzlepac.adrizzle:-Drizzle input: 3ibq.fits[sci,1]\n",
      "WARNING:drizzlepac.adrizzle:No CR mask file found! Input DQ array not updated.\n",
      "INFO:drizzlepac.imageObject:Applying EXPTIME weighting to DQ mask for chip 1\n",
      "INFO:drizzlepac.adrizzle:Using WCSLIB-based coordinate transformation...\n",
      "INFO:drizzlepac.adrizzle:stepsize = 10\n",
      "INFO:drizzlepac.cdriz:-Drizzling using kernel = square\n",
      "\n",
      "WARNING:drizzlepac.adrizzle:! 140 points were outside the output image.\n",
      "INFO:drizzlepac.adrizzle:-Drizzle input: 3icq.fits[sci,1]\n",
      "WARNING:drizzlepac.adrizzle:No CR mask file found! Input DQ array not updated.\n",
      "INFO:drizzlepac.imageObject:Applying EXPTIME weighting to DQ mask for chip 1\n",
      "INFO:drizzlepac.adrizzle:Using WCSLIB-based coordinate transformation...\n",
      "INFO:drizzlepac.adrizzle:stepsize = 10\n",
      "INFO:drizzlepac.cdriz:-Drizzling using kernel = square\n",
      "\n",
      "WARNING:drizzlepac.adrizzle:! 1430 points were outside the output image.\n",
      "INFO:drizzlepac.adrizzle:-Drizzle input: 3idq.fits[sci,1]\n",
      "WARNING:drizzlepac.adrizzle:No CR mask file found! Input DQ array not updated.\n",
      "INFO:drizzlepac.imageObject:Applying EXPTIME weighting to DQ mask for chip 1\n",
      "INFO:drizzlepac.adrizzle:Using WCSLIB-based coordinate transformation...\n",
      "INFO:drizzlepac.adrizzle:stepsize = 10\n",
      "INFO:drizzlepac.cdriz:-Drizzling using kernel = square\n",
      "\n",
      "WARNING:drizzlepac.adrizzle:! 1302 points were outside the output image.\n",
      "INFO:drizzlepac.adrizzle:-Drizzle input: 3ieq.fits[sci,1]\n",
      "WARNING:drizzlepac.adrizzle:No CR mask file found! Input DQ array not updated.\n",
      "INFO:drizzlepac.imageObject:Applying EXPTIME weighting to DQ mask for chip 1\n",
      "INFO:drizzlepac.adrizzle:Using WCSLIB-based coordinate transformation...\n",
      "INFO:drizzlepac.adrizzle:stepsize = 10\n",
      "INFO:drizzlepac.cdriz:-Drizzling using kernel = square\n",
      "\n",
      "WARNING:drizzlepac.adrizzle:! 102 points were outside the output image.\n",
      "INFO:drizzlepac.adrizzle:-Drizzle input: 4gvq.fits[sci,1]\n",
      "WARNING:drizzlepac.adrizzle:No CR mask file found! Input DQ array not updated.\n",
      "INFO:drizzlepac.imageObject:Applying EXPTIME weighting to DQ mask for chip 1\n",
      "INFO:drizzlepac.adrizzle:Using WCSLIB-based coordinate transformation...\n",
      "INFO:drizzlepac.adrizzle:stepsize = 10\n",
      "INFO:drizzlepac.cdriz:-Drizzling using kernel = square\n",
      "\n",
      "WARNING:drizzlepac.adrizzle:! 25972 points were outside the output image.\n",
      "INFO:drizzlepac.adrizzle:-Drizzle input: 4gwq.fits[sci,1]\n",
      "WARNING:drizzlepac.adrizzle:No CR mask file found! Input DQ array not updated.\n",
      "INFO:drizzlepac.imageObject:Applying EXPTIME weighting to DQ mask for chip 1\n",
      "INFO:drizzlepac.adrizzle:Using WCSLIB-based coordinate transformation...\n",
      "INFO:drizzlepac.adrizzle:stepsize = 10\n",
      "INFO:drizzlepac.cdriz:-Drizzling using kernel = square\n",
      "\n",
      "WARNING:drizzlepac.adrizzle:! 17042 points were outside the output image.\n",
      "INFO:drizzlepac.adrizzle:-Drizzle input: 4gxq.fits[sci,1]\n",
      "WARNING:drizzlepac.adrizzle:No CR mask file found! Input DQ array not updated.\n",
      "INFO:drizzlepac.imageObject:Applying EXPTIME weighting to DQ mask for chip 1\n",
      "INFO:drizzlepac.adrizzle:Using WCSLIB-based coordinate transformation...\n",
      "INFO:drizzlepac.adrizzle:stepsize = 10\n",
      "INFO:drizzlepac.cdriz:-Drizzling using kernel = square\n",
      "\n",
      "WARNING:drizzlepac.adrizzle:! 18809 points were outside the output image.\n",
      "INFO:drizzlepac.adrizzle:-Drizzle input: 4gyq.fits[sci,1]\n",
      "WARNING:drizzlepac.adrizzle:No CR mask file found! Input DQ array not updated.\n",
      "INFO:drizzlepac.imageObject:Applying EXPTIME weighting to DQ mask for chip 1\n",
      "INFO:drizzlepac.adrizzle:Using WCSLIB-based coordinate transformation...\n",
      "INFO:drizzlepac.adrizzle:stepsize = 10\n",
      "INFO:drizzlepac.cdriz:-Drizzling using kernel = square\n",
      "\n",
      "WARNING:drizzlepac.adrizzle:! 27975 points were outside the output image.\n",
      "INFO:drizzlepac.adrizzle:-Drizzle input: 9i7q.fits[sci,1]\n",
      "WARNING:drizzlepac.adrizzle:No CR mask file found! Input DQ array not updated.\n",
      "INFO:drizzlepac.imageObject:Applying EXPTIME weighting to DQ mask for chip 1\n",
      "INFO:drizzlepac.adrizzle:Using WCSLIB-based coordinate transformation...\n",
      "INFO:drizzlepac.adrizzle:stepsize = 10\n",
      "INFO:drizzlepac.cdriz:-Drizzling using kernel = square\n",
      "\n",
      "INFO:drizzlepac.adrizzle:-Drizzle input: 9i8q.fits[sci,1]\n",
      "WARNING:drizzlepac.adrizzle:No CR mask file found! Input DQ array not updated.\n",
      "INFO:drizzlepac.imageObject:Applying EXPTIME weighting to DQ mask for chip 1\n",
      "INFO:drizzlepac.adrizzle:Using WCSLIB-based coordinate transformation...\n",
      "INFO:drizzlepac.adrizzle:stepsize = 10\n",
      "INFO:drizzlepac.cdriz:-Drizzling using kernel = square\n",
      "\n",
      "INFO:drizzlepac.adrizzle:-Drizzle input: 9i9q.fits[sci,1]\n",
      "WARNING:drizzlepac.adrizzle:No CR mask file found! Input DQ array not updated.\n",
      "INFO:drizzlepac.imageObject:Applying EXPTIME weighting to DQ mask for chip 1\n",
      "INFO:drizzlepac.adrizzle:Using WCSLIB-based coordinate transformation...\n",
      "INFO:drizzlepac.adrizzle:stepsize = 10\n",
      "INFO:drizzlepac.cdriz:-Drizzling using kernel = square\n",
      "\n",
      "INFO:drizzlepac.adrizzle:-Drizzle input: 9iaq.fits[sci,1]\n",
      "WARNING:drizzlepac.adrizzle:No CR mask file found! Input DQ array not updated.\n",
      "INFO:drizzlepac.imageObject:Applying EXPTIME weighting to DQ mask for chip 1\n",
      "INFO:drizzlepac.adrizzle:Using WCSLIB-based coordinate transformation...\n",
      "INFO:drizzlepac.adrizzle:stepsize = 10\n",
      "INFO:drizzlepac.cdriz:-Drizzling using kernel = square\n",
      "\n",
      "INFO:drizzlepac.outputimage:-Generating multi-extension output file:  total_visit1349_test9_drz.fits\n"
     ]
    },
    {
     "name": "stdout",
     "output_type": "stream",
     "text": [
      "-Generating multi-extension output file:  total_visit1349_test9_drz.fits\n"
     ]
    },
    {
     "name": "stderr",
     "output_type": "stream",
     "text": [
      "INFO:stwcs.wcsutil.altwcs:Deleted all instances of WCS with key A in extensions [1]\n"
     ]
    },
    {
     "name": "stdout",
     "output_type": "stream",
     "text": [
      "Deleted all instances of WCS with key A in extensions [1]\n"
     ]
    },
    {
     "name": "stderr",
     "output_type": "stream",
     "text": [
      "INFO:stwcs.wcsutil.altwcs:Deleted all instances of WCS with key B in extensions [1]\n"
     ]
    },
    {
     "name": "stdout",
     "output_type": "stream",
     "text": [
      "Deleted all instances of WCS with key B in extensions [1]\n"
     ]
    },
    {
     "name": "stderr",
     "output_type": "stream",
     "text": [
      "INFO:drizzlepac.outputimage:Writing out to disk: total_visit1349_test9_drz.fits\n"
     ]
    },
    {
     "name": "stdout",
     "output_type": "stream",
     "text": [
      "Writing out to disk: total_visit1349_test9_drz.fits\n"
     ]
    },
    {
     "name": "stderr",
     "output_type": "stream",
     "text": [
      "WARNING:py.warnings:/Users/ha/.local/lib/python3.9/site-packages/astropy/io/fits/card.py:1008: VerifyWarning: Card is too long, comment will be truncated.\n",
      "  warnings.warn('Card is too long, comment will be truncated.',\n",
      "\n",
      "INFO:drizzlepac.util:==== Processing Step Final Drizzle finished at 09:52:59.75 (13/06/2022)\n"
     ]
    },
    {
     "name": "stdout",
     "output_type": "stream",
     "text": [
      "==== Processing Step Final Drizzle finished at 09:52:59.75 (13/06/2022)\n"
     ]
    },
    {
     "name": "stderr",
     "output_type": "stream",
     "text": [
      "INFO:drizzlepac.astrodrizzle:\n"
     ]
    },
    {
     "name": "stdout",
     "output_type": "stream",
     "text": [
      "\n"
     ]
    },
    {
     "name": "stderr",
     "output_type": "stream",
     "text": [
      "INFO:drizzlepac.astrodrizzle:AstroDrizzle Version 3.4.2 is finished processing at 09:52:59.756 (13/06/2022).\n"
     ]
    },
    {
     "name": "stdout",
     "output_type": "stream",
     "text": [
      "AstroDrizzle Version 3.4.2 is finished processing at 09:52:59.756 (13/06/2022).\n"
     ]
    },
    {
     "name": "stderr",
     "output_type": "stream",
     "text": [
      "INFO:drizzlepac.astrodrizzle:\n"
     ]
    },
    {
     "name": "stdout",
     "output_type": "stream",
     "text": [
      "\n"
     ]
    },
    {
     "name": "stderr",
     "output_type": "stream",
     "text": [
      "INFO:drizzlepac.astrodrizzle:\n"
     ]
    },
    {
     "name": "stdout",
     "output_type": "stream",
     "text": [
      "\n"
     ]
    },
    {
     "name": "stderr",
     "output_type": "stream",
     "text": [
      "INFO:drizzlepac.util:\n"
     ]
    },
    {
     "name": "stdout",
     "output_type": "stream",
     "text": [
      "\n"
     ]
    },
    {
     "name": "stderr",
     "output_type": "stream",
     "text": [
      "INFO:drizzlepac.util:   --------------------          --------------------\n"
     ]
    },
    {
     "name": "stdout",
     "output_type": "stream",
     "text": [
      "   --------------------          --------------------\n"
     ]
    },
    {
     "name": "stderr",
     "output_type": "stream",
     "text": [
      "INFO:drizzlepac.util:                   Step          Elapsed time\n"
     ]
    },
    {
     "name": "stdout",
     "output_type": "stream",
     "text": [
      "                   Step          Elapsed time\n"
     ]
    },
    {
     "name": "stderr",
     "output_type": "stream",
     "text": [
      "INFO:drizzlepac.util:   --------------------          --------------------\n"
     ]
    },
    {
     "name": "stdout",
     "output_type": "stream",
     "text": [
      "   --------------------          --------------------\n"
     ]
    },
    {
     "name": "stderr",
     "output_type": "stream",
     "text": [
      "INFO:drizzlepac.util:\n"
     ]
    },
    {
     "name": "stdout",
     "output_type": "stream",
     "text": [
      "\n"
     ]
    },
    {
     "name": "stderr",
     "output_type": "stream",
     "text": [
      "INFO:drizzlepac.util:         Initialization          2.0810 sec.\n"
     ]
    },
    {
     "name": "stdout",
     "output_type": "stream",
     "text": [
      "         Initialization          2.0810 sec.\n"
     ]
    },
    {
     "name": "stderr",
     "output_type": "stream",
     "text": [
      "INFO:drizzlepac.util:            Static Mask          0.0019 sec.\n"
     ]
    },
    {
     "name": "stdout",
     "output_type": "stream",
     "text": [
      "            Static Mask          0.0019 sec.\n"
     ]
    },
    {
     "name": "stderr",
     "output_type": "stream",
     "text": [
      "INFO:drizzlepac.util:           Subtract Sky          0.3680 sec.\n"
     ]
    },
    {
     "name": "stdout",
     "output_type": "stream",
     "text": [
      "           Subtract Sky          0.3680 sec.\n"
     ]
    },
    {
     "name": "stderr",
     "output_type": "stream",
     "text": [
      "INFO:drizzlepac.util:       Separate Drizzle          0.0015 sec.\n"
     ]
    },
    {
     "name": "stdout",
     "output_type": "stream",
     "text": [
      "       Separate Drizzle          0.0015 sec.\n"
     ]
    },
    {
     "name": "stderr",
     "output_type": "stream",
     "text": [
      "INFO:drizzlepac.util:          Create Median          0.0000 sec.\n"
     ]
    },
    {
     "name": "stdout",
     "output_type": "stream",
     "text": [
      "          Create Median          0.0000 sec.\n"
     ]
    },
    {
     "name": "stderr",
     "output_type": "stream",
     "text": [
      "INFO:drizzlepac.util:                   Blot          0.0013 sec.\n"
     ]
    },
    {
     "name": "stdout",
     "output_type": "stream",
     "text": [
      "                   Blot          0.0013 sec.\n"
     ]
    },
    {
     "name": "stderr",
     "output_type": "stream",
     "text": [
      "INFO:drizzlepac.util:                Driz_CR          0.0000 sec.\n"
     ]
    },
    {
     "name": "stdout",
     "output_type": "stream",
     "text": [
      "                Driz_CR          0.0000 sec.\n"
     ]
    },
    {
     "name": "stderr",
     "output_type": "stream",
     "text": [
      "INFO:drizzlepac.util:          Final Drizzle          5.6378 sec.\n"
     ]
    },
    {
     "name": "stdout",
     "output_type": "stream",
     "text": [
      "          Final Drizzle          5.6378 sec.\n"
     ]
    },
    {
     "name": "stderr",
     "output_type": "stream",
     "text": [
      "INFO:drizzlepac.util:   ====================          ====================\n"
     ]
    },
    {
     "name": "stdout",
     "output_type": "stream",
     "text": [
      "   ====================          ====================\n"
     ]
    },
    {
     "name": "stderr",
     "output_type": "stream",
     "text": [
      "INFO:drizzlepac.util:                  Total          8.0915 sec.\n"
     ]
    },
    {
     "name": "stdout",
     "output_type": "stream",
     "text": [
      "                  Total          8.0915 sec.\n"
     ]
    },
    {
     "name": "stderr",
     "output_type": "stream",
     "text": [
      "INFO:drizzlepac.util:\n"
     ]
    },
    {
     "name": "stdout",
     "output_type": "stream",
     "text": [
      "\n"
     ]
    },
    {
     "name": "stderr",
     "output_type": "stream",
     "text": [
      "INFO:drizzlepac.imageObject:Removing intermediate files for 1noq.fits\n",
      "INFO:drizzlepac.imageObject:Removing intermediate files for 1nrq.fits\n",
      "INFO:drizzlepac.imageObject:Removing intermediate files for 1nvq.fits\n",
      "INFO:drizzlepac.imageObject:Removing intermediate files for 1nxq.fits\n",
      "INFO:drizzlepac.imageObject:Removing intermediate files for 3ibq.fits\n",
      "INFO:drizzlepac.imageObject:Removing intermediate files for 3icq.fits\n",
      "INFO:drizzlepac.imageObject:Removing intermediate files for 3idq.fits\n",
      "INFO:drizzlepac.imageObject:Removing intermediate files for 3ieq.fits\n",
      "INFO:drizzlepac.imageObject:Removing intermediate files for 4gvq.fits\n",
      "INFO:drizzlepac.imageObject:Removing intermediate files for 4gwq.fits\n",
      "INFO:drizzlepac.imageObject:Removing intermediate files for 4gxq.fits\n",
      "INFO:drizzlepac.imageObject:Removing intermediate files for 4gyq.fits\n",
      "INFO:drizzlepac.imageObject:Removing intermediate files for 9i7q.fits\n",
      "INFO:drizzlepac.imageObject:Removing intermediate files for 9i8q.fits\n",
      "INFO:drizzlepac.imageObject:Removing intermediate files for 9i9q.fits\n",
      "INFO:drizzlepac.imageObject:Removing intermediate files for 9iaq.fits\n",
      "INFO:drizzlepac.util:Trailer file written to:  total_visit1349_drz.log\n"
     ]
    },
    {
     "name": "stdout",
     "output_type": "stream",
     "text": [
      "Trailer file written to:  total_visit1349_drz.log\n"
     ]
    }
   ],
   "source": [
    "astrodrizzle.AstroDrizzle(lst_up, \n",
    "                              output = 'total_visit1349_test9', \n",
    "                              clean = True,\n",
    "                              build = True,\n",
    "                              context = True,\n",
    "                              runfile = 'total_visit1349_drz.log',\n",
    "                              num_cores = 1,\n",
    "                              in_memory = False,\n",
    "                              resetbits = 4096,\n",
    "                              median = False,\n",
    "                              static = False,\n",
    "                              skysub = False,\n",
    "                              driz_separate = False,\n",
    "                              blot = False,\n",
    "                              driz_cr = False,\n",
    "                              final_bits = 0,\n",
    "                              final_outnx=1947,\n",
    "                              final_outny=1960, \n",
    "                              final_rot = 0.0,\n",
    "                              final_scale = 0.025,\n",
    "                              final_wcs = True)"
   ]
  },
  {
   "cell_type": "code",
   "execution_count": 46,
   "id": "06277740",
   "metadata": {},
   "outputs": [
    {
     "data": {
      "text/html": [
       "<div><i>Table masked=True length=8</i>\n",
       "<table id=\"table140656305734368\" class=\"table-striped table-bordered table-condensed\">\n",
       "<thead><tr><th>file</th><th>CRVAL1</th><th>CRVAL2</th><th>CD1_1</th><th>CD1_2</th><th>CD2_1</th><th>CD2_2</th></tr></thead>\n",
       "<thead><tr><th>str45</th><th>float64</th><th>float64</th><th>float64</th><th>float64</th><th>float64</th><th>float64</th></tr></thead>\n",
       "<tr><td>hst_16231_01_acs_sbc_f150lp_jec401no_flt.fits</td><td>319.601084</td><td>0.292112</td><td>-0.00000433217</td><td>0.00000699882</td><td>0.00000830078</td><td>0.00000456484</td></tr>\n",
       "<tr><td>hst_16231_01_acs_sbc_f150lp_jec401nr_flt.fits</td><td>319.601140</td><td>0.291870</td><td>-0.00000433212</td><td>0.00000699873</td><td>0.00000830067</td><td>0.00000456478</td></tr>\n",
       "<tr><td>hst_16231_01_acs_sbc_f150lp_jec401nv_flt.fits</td><td>319.600981</td><td>0.291906</td><td>-0.00000433204</td><td>0.00000699861</td><td>0.00000830054</td><td>0.00000456470</td></tr>\n",
       "<tr><td>hst_16231_01_acs_sbc_f150lp_jec401nx_flt.fits</td><td>319.600925</td><td>0.292148</td><td>-0.00000433199</td><td>0.00000699853</td><td>0.00000830044</td><td>0.00000456465</td></tr>\n",
       "<tr><td>hst_16231_03_acs_sbc_f150lp_jec403ib_flt.fits</td><td>319.600706</td><td>0.291374</td><td>-0.00000517460</td><td>0.00000648425</td><td>0.00000780337</td><td>0.00000527014</td></tr>\n",
       "<tr><td>hst_16231_03_acs_sbc_f150lp_jec403ic_flt.fits</td><td>319.600787</td><td>0.291139</td><td>-0.00000517453</td><td>0.00000648416</td><td>0.00000780327</td><td>0.00000527007</td></tr>\n",
       "<tr><td>hst_16231_03_acs_sbc_f150lp_jec403id_flt.fits</td><td>319.600625</td><td>0.291158</td><td>-0.00000517444</td><td>0.00000648405</td><td>0.00000780313</td><td>0.00000526998</td></tr>\n",
       "<tr><td>hst_16231_03_acs_sbc_f150lp_jec403ie_flt.fits</td><td>319.600544</td><td>0.291393</td><td>-0.00000517438</td><td>0.00000648397</td><td>0.00000780304</td><td>0.00000526992</td></tr>\n",
       "</table></div>"
      ],
      "text/plain": [
       "<Table masked=True length=8>\n",
       "                     file                       CRVAL1   ...     CD2_2    \n",
       "                    str45                      float64   ...    float64   \n",
       "--------------------------------------------- ---------- ... -------------\n",
       "hst_16231_01_acs_sbc_f150lp_jec401no_flt.fits 319.601084 ... 0.00000456484\n",
       "hst_16231_01_acs_sbc_f150lp_jec401nr_flt.fits 319.601140 ... 0.00000456478\n",
       "hst_16231_01_acs_sbc_f150lp_jec401nv_flt.fits 319.600981 ... 0.00000456470\n",
       "hst_16231_01_acs_sbc_f150lp_jec401nx_flt.fits 319.600925 ... 0.00000456465\n",
       "hst_16231_03_acs_sbc_f150lp_jec403ib_flt.fits 319.600706 ... 0.00000527014\n",
       "hst_16231_03_acs_sbc_f150lp_jec403ic_flt.fits 319.600787 ... 0.00000527007\n",
       "hst_16231_03_acs_sbc_f150lp_jec403id_flt.fits 319.600625 ... 0.00000526998\n",
       "hst_16231_03_acs_sbc_f150lp_jec403ie_flt.fits 319.600544 ... 0.00000526992"
      ]
     },
     "execution_count": 46,
     "metadata": {},
     "output_type": "execute_result"
    }
   ],
   "source": [
    "collect = ImageFileCollection('./', filenames = lst_1 + lst_3, ext=2, glob_include = '*flt.fits',\n",
    "                                 keywords=[\"CRVAL1\", \"CRVAL2\", \"CD1_1\", \"CD1_2\",\n",
    "                                           \"CD2_1\", \"CD2_2\"])\n",
    "table = collect.summary\n",
    "table['CRVAL1'].format = '.6f'\n",
    "table['CRVAL2'].format = '.6f'\n",
    "table['CD1_1'].format = '.11f'\n",
    "table['CD1_2'].format = '.11f'\n",
    "table['CD2_1'].format = '.11f'\n",
    "table['CD2_2'].format = '.11f'\n",
    "table"
   ]
  },
  {
   "cell_type": "code",
   "execution_count": 50,
   "id": "1ed0f3da",
   "metadata": {
    "scrolled": true
   },
   "outputs": [
    {
     "data": {
      "text/html": [
       "<div><i>Table masked=True length=8</i>\n",
       "<table id=\"table140655508936352\" class=\"table-striped table-bordered table-condensed\">\n",
       "<thead><tr><th>file</th><th>CRVAL1</th><th>CRVAL2</th><th>CD1_1</th><th>CD1_2</th><th>CD2_1</th><th>CD2_2</th></tr></thead>\n",
       "<thead><tr><th>str9</th><th>float64</th><th>float64</th><th>float64</th><th>float64</th><th>float64</th><th>float64</th></tr></thead>\n",
       "<tr><td>1noq.fits</td><td>319.601089</td><td>0.292144</td><td>-0.00000433217</td><td>0.00000699882</td><td>0.00000830078</td><td>0.00000456484</td></tr>\n",
       "<tr><td>1nrq.fits</td><td>319.601141</td><td>0.291897</td><td>-0.00000433212</td><td>0.00000699873</td><td>0.00000830067</td><td>0.00000456478</td></tr>\n",
       "<tr><td>1nvq.fits</td><td>319.600974</td><td>0.291922</td><td>-0.00000433204</td><td>0.00000699861</td><td>0.00000830054</td><td>0.00000456470</td></tr>\n",
       "<tr><td>1nxq.fits</td><td>319.600926</td><td>0.292154</td><td>-0.00000433199</td><td>0.00000699853</td><td>0.00000830044</td><td>0.00000456465</td></tr>\n",
       "<tr><td>3ibq.fits</td><td>319.600695</td><td>0.291350</td><td>-0.00000517460</td><td>0.00000648425</td><td>0.00000780337</td><td>0.00000527014</td></tr>\n",
       "<tr><td>3icq.fits</td><td>319.600782</td><td>0.291116</td><td>-0.00000517453</td><td>0.00000648416</td><td>0.00000780327</td><td>0.00000527007</td></tr>\n",
       "<tr><td>3idq.fits</td><td>319.600627</td><td>0.291132</td><td>-0.00000517444</td><td>0.00000648405</td><td>0.00000780313</td><td>0.00000526998</td></tr>\n",
       "<tr><td>3ieq.fits</td><td>319.600549</td><td>0.291367</td><td>-0.00000517438</td><td>0.00000648397</td><td>0.00000780304</td><td>0.00000526992</td></tr>\n",
       "</table></div>"
      ],
      "text/plain": [
       "<Table masked=True length=8>\n",
       "   file     CRVAL1    CRVAL2  ...     CD1_2         CD2_1         CD2_2    \n",
       "   str9    float64   float64  ...    float64       float64       float64   \n",
       "--------- ---------- -------- ... ------------- ------------- -------------\n",
       "1noq.fits 319.601089 0.292144 ... 0.00000699882 0.00000830078 0.00000456484\n",
       "1nrq.fits 319.601141 0.291897 ... 0.00000699873 0.00000830067 0.00000456478\n",
       "1nvq.fits 319.600974 0.291922 ... 0.00000699861 0.00000830054 0.00000456470\n",
       "1nxq.fits 319.600926 0.292154 ... 0.00000699853 0.00000830044 0.00000456465\n",
       "3ibq.fits 319.600695 0.291350 ... 0.00000648425 0.00000780337 0.00000527014\n",
       "3icq.fits 319.600782 0.291116 ... 0.00000648416 0.00000780327 0.00000527007\n",
       "3idq.fits 319.600627 0.291132 ... 0.00000648405 0.00000780313 0.00000526998\n",
       "3ieq.fits 319.600549 0.291367 ... 0.00000648397 0.00000780304 0.00000526992"
      ]
     },
     "execution_count": 50,
     "metadata": {},
     "output_type": "execute_result"
    }
   ],
   "source": [
    "collect = ImageFileCollection('./OrIg_files/', filenames = lst_up, ext=2, glob_include = '*flt.fits',\n",
    "                                 keywords=[\"CRVAL1\", \"CRVAL2\", \"CD1_1\", \"CD1_2\",\n",
    "                                           \"CD2_1\", \"CD2_2\"])\n",
    "table = collect.summary\n",
    "table['CRVAL1'].format = '.6f'\n",
    "table['CRVAL2'].format = '.6f'\n",
    "table['CD1_1'].format = '.11f'\n",
    "table['CD1_2'].format = '.11f'\n",
    "table['CD2_1'].format = '.11f'\n",
    "table['CD2_2'].format = '.11f'\n",
    "table"
   ]
  },
  {
   "cell_type": "code",
   "execution_count": 74,
   "id": "32962724",
   "metadata": {},
   "outputs": [],
   "source": [
    "drz = fits.open('total_visit13_test9_drz.fits')"
   ]
  },
  {
   "cell_type": "code",
   "execution_count": 76,
   "id": "5dc2a8a7",
   "metadata": {},
   "outputs": [
    {
     "data": {
      "text/plain": [
       "<matplotlib.colorbar.Colorbar at 0x7fece9f805b0>"
      ]
     },
     "execution_count": 76,
     "metadata": {},
     "output_type": "execute_result"
    },
    {
     "data": {
      "image/png": "[encoded data removed]",
      "text/plain": [
       "<Figure size 432x288 with 2 Axes>"
      ]
     },
     "metadata": {
      "needs_background": "light"
     },
     "output_type": "display_data"
    }
   ],
   "source": [
    "plt.imshow(drz['CTX'].data)\n",
    "plt.colorbar()"
   ]
  },
  {
   "cell_type": "code",
   "execution_count": 98,
   "id": "f9dcc586",
   "metadata": {},
   "outputs": [
    {
     "data": {
      "text/plain": [
       "['F150LP/57/hst_16231_57_acs_sbc_f150lp_jec457cm_flt.fits',\n",
       " 'F150LP/57/hst_16231_57_acs_sbc_f150lp_jec457cl_flt.fits',\n",
       " 'F150LP/57/hst_16231_57_acs_sbc_f150lp_jec457cn_flt.fits',\n",
       " 'F150LP/57/hst_16231_57_acs_sbc_f150lp_jec457co_flt.fits',\n",
       " 'F150LP/03/hst_16231_03_acs_sbc_f150lp_jec403ie_flt.fits',\n",
       " 'F150LP/03/hst_16231_03_acs_sbc_f150lp_jec403id_flt.fits',\n",
       " 'F150LP/03/hst_16231_03_acs_sbc_f150lp_jec403ib_flt.fits',\n",
       " 'F150LP/03/hst_16231_03_acs_sbc_f150lp_jec403ic_flt.fits',\n",
       " 'F150LP/04/hst_16231_04_acs_sbc_f150lp_jec404gw_flt.fits',\n",
       " 'F150LP/04/hst_16231_04_acs_sbc_f150lp_jec404gv_flt.fits',\n",
       " 'F150LP/04/hst_16231_04_acs_sbc_f150lp_jec404gy_flt.fits',\n",
       " 'F150LP/04/hst_16231_04_acs_sbc_f150lp_jec404gx_flt.fits',\n",
       " 'F150LP/56/hst_16231_56_acs_sbc_f150lp_jec456xp_flt.fits',\n",
       " 'F150LP/56/hst_16231_56_acs_sbc_f150lp_jec456xn_flt.fits',\n",
       " 'F150LP/56/hst_16231_56_acs_sbc_f150lp_jec456xo_flt.fits',\n",
       " 'F150LP/56/hst_16231_56_acs_sbc_f150lp_jec456xm_flt.fits',\n",
       " 'F150LP/10/hst_16231_10_acs_sbc_f150lp_jec410mn_flt.fits',\n",
       " 'F150LP/10/hst_16231_10_acs_sbc_f150lp_jec410mo_flt.fits',\n",
       " 'F150LP/10/hst_16231_10_acs_sbc_f150lp_jec410mm_flt.fits',\n",
       " 'F150LP/10/hst_16231_10_acs_sbc_f150lp_jec410ml_flt.fits',\n",
       " 'F150LP/07/hst_16231_07_acs_sbc_f150lp_jec407sj_flt.fits',\n",
       " 'F150LP/07/hst_16231_07_acs_sbc_f150lp_jec407sk_flt.fits',\n",
       " 'F150LP/07/hst_16231_07_acs_sbc_f150lp_jec407si_flt.fits',\n",
       " 'F150LP/07/hst_16231_07_acs_sbc_f150lp_jec407sh_flt.fits',\n",
       " 'F150LP/09/hst_16231_09_acs_sbc_f150lp_jec409i7_flt.fits',\n",
       " 'F150LP/09/hst_16231_09_acs_sbc_f150lp_jec409i9_flt.fits',\n",
       " 'F150LP/09/hst_16231_09_acs_sbc_f150lp_jec409i8_flt.fits',\n",
       " 'F150LP/09/hst_16231_09_acs_sbc_f150lp_jec409ia_flt.fits',\n",
       " 'F150LP/08/hst_16231_08_acs_sbc_f150lp_jec408i0_flt.fits',\n",
       " 'F150LP/08/hst_16231_08_acs_sbc_f150lp_jec408i1_flt.fits',\n",
       " 'F150LP/08/hst_16231_08_acs_sbc_f150lp_jec408i3_flt.fits',\n",
       " 'F150LP/08/hst_16231_08_acs_sbc_f150lp_jec408i2_flt.fits',\n",
       " 'F150LP/01/hst_16231_01_acs_sbc_f150lp_jec401nv_flt.fits',\n",
       " 'F150LP/01/hst_16231_01_acs_sbc_f150lp_jec401no_flt.fits',\n",
       " 'F150LP/01/hst_16231_01_acs_sbc_f150lp_jec401nx_flt.fits',\n",
       " 'F150LP/01/hst_16231_01_acs_sbc_f150lp_jec401nr_flt.fits']"
      ]
     },
     "execution_count": 98,
     "metadata": {},
     "output_type": "execute_result"
    }
   ],
   "source": [
    "lst_150 = glob.glob('F150LP/*/*flt.fits')\n",
    "lst_165 = glob.glob('F165LP/*/*flt.fits')"
   ]
  },
  {
   "cell_type": "code",
   "execution_count": null,
   "id": "c3d90e40",
   "metadata": {},
   "outputs": [],
   "source": []
  },
  {
   "cell_type": "code",
   "execution_count": null,
   "id": "b2cd60b8",
   "metadata": {},
   "outputs": [],
   "source": []
  }
 ],
 "metadata": {
  "kernelspec": {
   "display_name": "Python 3 (ipykernel)",
   "language": "python",
   "name": "python3"
  },
  "language_info": {
   "codemirror_mode": {
    "name": "ipython",
    "version": 3
   },
   "file_extension": ".py",
   "mimetype": "text/x-python",
   "name": "python",
   "nbconvert_exporter": "python",
   "pygments_lexer": "ipython3",
   "version": "3.9.12"
  }
 },
 "nbformat": 4,
 "nbformat_minor": 5
}
