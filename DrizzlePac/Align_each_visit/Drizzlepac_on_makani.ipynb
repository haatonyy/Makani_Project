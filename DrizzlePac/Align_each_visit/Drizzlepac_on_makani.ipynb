{
 "cells": [
  {
   "cell_type": "code",
   "execution_count": 1,
   "id": "21ae4f82",
   "metadata": {},
   "outputs": [
    {
     "name": "stdout",
     "output_type": "stream",
     "text": [
      "\n",
      "\n",
      "The following task in the stsci.skypac package can be run with TEAL:\n",
      "                                    skymatch                                    \n",
      "The following tasks in the drizzlepac package can be run with TEAL:\n",
      "    astrodrizzle       config_testbed      imagefindpars           mapreg       \n",
      "       photeq            pixreplace           pixtopix            pixtosky      \n",
      "  refimagefindpars       resetbits          runastrodriz          skytopix      \n",
      "     tweakback            tweakreg           updatenpol\n"
     ]
    }
   ],
   "source": [
    "from astroquery.mast import Observations\n",
    "from ccdproc import ImageFileCollection\n",
    "from astropy.table import Table\n",
    "from astropy.io import fits\n",
    "from astropy.io import ascii\n",
    "from astropy.visualization import ZScaleInterval\n",
    "from IPython.display import Image\n",
    "import glob\n",
    "import matplotlib.pyplot as plt\n",
    "import numpy as np\n",
    "import os\n",
    "import shutil\n",
    "from drizzlepac import tweakreg\n",
    "from drizzlepac import astrodrizzle"
   ]
  },
  {
   "cell_type": "markdown",
   "id": "caa17906",
   "metadata": {},
   "source": [
    "A way to import files from each visit <br>"
   ]
  },
  {
   "cell_type": "code",
   "execution_count": 9,
   "id": "d24f98bb",
   "metadata": {},
   "outputs": [
    {
     "name": "stdout",
     "output_type": "stream",
     "text": [
      "Downloading URL https://mast.stsci.edu/api/v0.1/Download/file?uri=mast:HST/product/hst_16231_01_acs_sbc_f150lp_jec401no_flt.fits to ./science/mastDownload/HST/hst_16231_01_acs_sbc_f150lp_jec401no/hst_16231_01_acs_sbc_f150lp_jec401no_flt.fits ... [Done]\n",
      "Downloading URL https://mast.stsci.edu/api/v0.1/Download/file?uri=mast:HST/product/hst_16231_01_acs_sbc_f150lp_jec401nr_flt.fits to ./science/mastDownload/HST/hst_16231_01_acs_sbc_f150lp_jec401nr/hst_16231_01_acs_sbc_f150lp_jec401nr_flt.fits ... [Done]\n",
      "Downloading URL https://mast.stsci.edu/api/v0.1/Download/file?uri=mast:HST/product/hst_16231_01_acs_sbc_f150lp_jec401nv_flt.fits to ./science/mastDownload/HST/hst_16231_01_acs_sbc_f150lp_jec401nv/hst_16231_01_acs_sbc_f150lp_jec401nv_flt.fits ... [Done]\n",
      "Downloading URL https://mast.stsci.edu/api/v0.1/Download/file?uri=mast:HST/product/hst_16231_01_acs_sbc_f150lp_jec401nx_flt.fits to ./science/mastDownload/HST/hst_16231_01_acs_sbc_f150lp_jec401nx/hst_16231_01_acs_sbc_f150lp_jec401nx_flt.fits ... [Done]\n",
      "Downloading URL https://mast.stsci.edu/api/v0.1/Download/file?uri=mast:HST/product/jec401noq_flt.fits to ./science/mastDownload/HST/jec401noq/jec401noq_flt.fits ... [Done]\n",
      "Downloading URL https://mast.stsci.edu/api/v0.1/Download/file?uri=mast:HST/product/jec401nrq_flt.fits to ./science/mastDownload/HST/jec401nrq/jec401nrq_flt.fits ... [Done]\n",
      "Downloading URL https://mast.stsci.edu/api/v0.1/Download/file?uri=mast:HST/product/jec401nvq_flt.fits to ./science/mastDownload/HST/jec401nvq/jec401nvq_flt.fits ... [Done]\n",
      "Downloading URL https://mast.stsci.edu/api/v0.1/Download/file?uri=mast:HST/product/jec401nxq_flt.fits to ./science/mastDownload/HST/jec401nxq/jec401nxq_flt.fits ... [Done]\n"
     ]
    }
   ],
   "source": [
    "science_list = Observations.query_criteria(proposal_id='16231', filters='F150LP',obs_id='jec401*')\n",
    "Observations.download_products(science_list['obsid'], mrp_only=False, download_dir='./science',\n",
    "                               productSubGroupDescription=['FLT'])\n",
    "\n",
    "science_files = glob.glob(os.path.join(os.curdir, 'science', 'mastDownload', 'HST', '*', '*fits'))\n",
    "for im in science_files:\n",
    "    root = im.split('/')[-1]\n",
    "    os.rename(im, './' + root)\n",
    "shutil.rmtree('science/')"
   ]
  },
  {
   "cell_type": "code",
   "execution_count": 6,
   "id": "a3ef2ff6",
   "metadata": {},
   "outputs": [
    {
     "data": {
      "text/html": [
       "<div><i>Table masked=True length=8</i>\n",
       "<table id=\"table140612934980304\" class=\"table-striped table-bordered table-condensed\">\n",
       "<thead><tr><th>file</th><th>asn_id</th><th>detector</th><th>filter</th><th>nsamp</th><th>exptime</th><th>postarg1</th><th>postarg2</th></tr></thead>\n",
       "<thead><tr><th>str45</th><th>str9</th><th>str3</th><th>float64</th><th>float64</th><th>float64</th><th>float64</th><th>float64</th></tr></thead>\n",
       "<tr><td>hst_16231_01_acs_sbc_f150lp_jec401no_flt.fits</td><td>JEC401010</td><td>SBC</td><td>--</td><td>--</td><td>624.0</td><td>-0.21</td><td>-0.36</td></tr>\n",
       "<tr><td>hst_16231_01_acs_sbc_f150lp_jec401nr_flt.fits</td><td>JEC401010</td><td>SBC</td><td>--</td><td>--</td><td>624.0</td><td>0.63</td><td>-0.05</td></tr>\n",
       "<tr><td>hst_16231_01_acs_sbc_f150lp_jec401nv_flt.fits</td><td>JEC401010</td><td>SBC</td><td>--</td><td>--</td><td>624.0</td><td>0.21</td><td>0.36</td></tr>\n",
       "<tr><td>hst_16231_01_acs_sbc_f150lp_jec401nx_flt.fits</td><td>JEC401010</td><td>SBC</td><td>--</td><td>--</td><td>624.0</td><td>-0.63</td><td>0.05</td></tr>\n",
       "<tr><td>jec401noq_flt.fits</td><td>JEC401010</td><td>SBC</td><td>--</td><td>--</td><td>624.0</td><td>-0.21</td><td>-0.36</td></tr>\n",
       "<tr><td>jec401nrq_flt.fits</td><td>JEC401010</td><td>SBC</td><td>--</td><td>--</td><td>624.0</td><td>0.63</td><td>-0.05</td></tr>\n",
       "<tr><td>jec401nvq_flt.fits</td><td>JEC401010</td><td>SBC</td><td>--</td><td>--</td><td>624.0</td><td>0.21</td><td>0.36</td></tr>\n",
       "<tr><td>jec401nxq_flt.fits</td><td>JEC401010</td><td>SBC</td><td>--</td><td>--</td><td>624.0</td><td>-0.63</td><td>0.05</td></tr>\n",
       "</table></div>"
      ],
      "text/plain": [
       "<Table masked=True length=8>\n",
       "                     file                       asn_id  ... postarg1 postarg2\n",
       "                    str45                        str9   ... float64  float64 \n",
       "--------------------------------------------- --------- ... -------- --------\n",
       "hst_16231_01_acs_sbc_f150lp_jec401no_flt.fits JEC401010 ...    -0.21    -0.36\n",
       "hst_16231_01_acs_sbc_f150lp_jec401nr_flt.fits JEC401010 ...     0.63    -0.05\n",
       "hst_16231_01_acs_sbc_f150lp_jec401nv_flt.fits JEC401010 ...     0.21     0.36\n",
       "hst_16231_01_acs_sbc_f150lp_jec401nx_flt.fits JEC401010 ...    -0.63     0.05\n",
       "                           jec401noq_flt.fits JEC401010 ...    -0.21    -0.36\n",
       "                           jec401nrq_flt.fits JEC401010 ...     0.63    -0.05\n",
       "                           jec401nvq_flt.fits JEC401010 ...     0.21     0.36\n",
       "                           jec401nxq_flt.fits JEC401010 ...    -0.63     0.05"
      ]
     },
     "execution_count": 6,
     "metadata": {},
     "output_type": "execute_result"
    }
   ],
   "source": [
    "collect = ImageFileCollection('./', glob_include=\"*flt.fits\", ext=0,\n",
    "                                 keywords=[\"asn_id\", \"detector\", \"filter\", \"nsamp\",\n",
    "                                           \"exptime\", \"postarg1\", \"postarg2\"])\n",
    "\n",
    "table = collect_ir.summary\n",
    "table['exptime'].format = '7.1f'\n",
    "table['postarg1'].format = '7.2f'\n",
    "table['postarg2'].format = '7.2f'\n",
    "table"
   ]
  },
  {
   "cell_type": "code",
   "execution_count": null,
   "id": "43ba2629",
   "metadata": {},
   "outputs": [],
   "source": []
  }
 ],
 "metadata": {
  "kernelspec": {
   "display_name": "Python 3 (ipykernel)",
   "language": "python",
   "name": "python3"
  },
  "language_info": {
   "codemirror_mode": {
    "name": "ipython",
    "version": 3
   },
   "file_extension": ".py",
   "mimetype": "text/x-python",
   "name": "python",
   "nbconvert_exporter": "python",
   "pygments_lexer": "ipython3",
   "version": "3.7.13"
  }
 },
 "nbformat": 4,
 "nbformat_minor": 5
}
