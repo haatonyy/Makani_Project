{
 "cells": [
  {
   "cell_type": "code",
   "execution_count": 4,
   "id": "ac69dd95",
   "metadata": {},
   "outputs": [],
   "source": [
    "from matplotlib import pyplot as plt\n",
    "from astropy.io import fits\n",
    "import glob\n",
    "import numpy as np\n",
    "from statistics import median"
   ]
  },
  {
   "cell_type": "code",
   "execution_count": 5,
   "id": "be7f22f2",
   "metadata": {},
   "outputs": [],
   "source": [
    "lst_01 = glob.glob(\"F150LP/01/*.fits\")\n",
    "lst_03 = glob.glob(\"F150LP/03/*.fits\")\n",
    "lst_150 = glob.glob(\"F150LP/*/*.fits\")\n",
    "lst_165 = glob.glob(\"F165LP/*/*.fits\")"
   ]
  },
  {
   "cell_type": "code",
   "execution_count": 6,
   "id": "324c6c8f",
   "metadata": {},
   "outputs": [],
   "source": [
    "def get_center(inputfilename):\n",
    "    file = fits.open(inputfilename)\n",
    "    #WCS info from header\n",
    "    CRVAL1 = file[1].header['CRVAL1']\n",
    "    CRVAL2 = file[1].header['CRVAL2']\n",
    "    CRPIX1 = file[1].header['CRPIX1']\n",
    "    CRPIX2 = file[1].header['CRPIX2']\n",
    "    CD1_1 = file[1].header['CD1_1']\n",
    "    CD1_2 = file[1].header['CD1_2']\n",
    "    CD2_1 = file[1].header['CD2_1']\n",
    "    CD2_2 = file[1].header['CD2_2']\n",
    "    \n",
    "    A = np.array([[CD1_1, CD1_2], [CD2_1, CD2_2]])\n",
    "    A_inv = np.linalg.inv(A)\n",
    "    B = np.array([[CRVAL1],[CRVAL2]])\n",
    "    r0 = np.array([[CRPIX1],[CRPIX2]])\n",
    "    \n",
    "    def coo_pixtosky(r):\n",
    "        return np.matmul(A, r-r0) + B\n",
    "    \n",
    "    def coo_skytopix(r_sky):\n",
    "        return np.matmul(A_inv, r_sky - B) + r0\n",
    "    \n",
    "    #Target location info\n",
    "    RA_TARG = file[0].header['RA_TARG'] \n",
    "    DEC_TARG = file[0].header['DEC_TARG']\n",
    "    r_sky_TARG = np.array([[RA_TARG], [DEC_TARG]])\n",
    "    X_TARG, Y_TARG = int(coo_skytopix(r_sky_TARG)[0]), int(coo_skytopix(r_sky_TARG)[1])\n",
    "    \n",
    "    data = file[1].data\n",
    "    \n",
    "    s = 100\n",
    "    max_i = 0\n",
    "    max_j = 0\n",
    "    maxval = 0\n",
    "    for i in range(Y_TARG-s, Y_TARG+s+1):\n",
    "        for j in range(X_TARG-s, X_TARG+s+1):\n",
    "            if data[i][j] > maxval:\n",
    "                maxval = data[i][j]\n",
    "                max_i = i\n",
    "                max_j = j \n",
    "    r = 50\n",
    "    total_flux = 0\n",
    "    i_integral = 0\n",
    "    j_integral = 0\n",
    "    for i in range(max_i-r, max_i+r+1):\n",
    "        for j in range(max_j-r, max_j+r+1):\n",
    "            total_flux += data[i][j]\n",
    "            i_integral += i*data[i][j]\n",
    "            j_integral += j*data[i][j]\n",
    "    \n",
    "    i_center = i_integral/total_flux\n",
    "    j_center = j_integral/total_flux\n",
    "    \n",
    "    X_center = j_center +1\n",
    "    Y_center = i_center +1\n",
    "    r_center = np.array([[X_center], [Y_center]])\n",
    "    \n",
    "\n",
    "    return int(X_center), int(Y_center)"
   ]
  },
  {
   "cell_type": "code",
   "execution_count": 7,
   "id": "a42d0a1c",
   "metadata": {},
   "outputs": [
    {
     "data": {
      "text/plain": [
       "<matplotlib.image.AxesImage at 0x7f967804ce50>"
      ]
     },
     "execution_count": 7,
     "metadata": {},
     "output_type": "execute_result"
    },
    {
     "data": {
      "image/png": "[encoded data removed]",
      "text/plain": [
       "<Figure size 432x288 with 1 Axes>"
      ]
     },
     "metadata": {
      "needs_background": "light"
     },
     "output_type": "display_data"
    }
   ],
   "source": [
    "file = fits.open(lst_150[0])\n",
    "data = file[1].data[10:1014, 10: 1014]\n",
    "center = get_center(lst_150[0])\n",
    "subtract_data = file[1].data[center[1] - 100 : center[1]+100, center[0] - 100: center[0] + 100 ]\n",
    "plt.imshow(subtract_data)"
   ]
  },
  {
   "cell_type": "code",
   "execution_count": 12,
   "id": "65c084be",
   "metadata": {},
   "outputs": [],
   "source": [
    "temp = []\n",
    "cps = []\n",
    "for item in lst_150+ lst_165:\n",
    "    file = fits.open(item)\n",
    "    temp.append((file[1].header['MDECODT1'] + file[1].header['MDECODT2']) /2 )\n",
    "    exp_t = file[0].header['EXPTIME']\n",
    "    \n",
    "    sample_data = file[1].data[10:1014, 10: 1014]\n",
    "    s1 = sum(sum(sample_data))\n",
    "    \n",
    "    e = 30\n",
    "    center = get_center(item)\n",
    "    subtract_data = file[1].data[center[1] - e : center[1]+e, center[0] - e: center[0] + e]\n",
    "    s2 = sum(sum(subtract_data))\n",
    "    \n",
    "    cps.append(((s1 - s2)/exp_t)/(len(sample_data[0])*len(sample_data) - len(subtract_data[0])*len(subtract_data)))"
   ]
  },
  {
   "cell_type": "code",
   "execution_count": 13,
   "id": "55d72695",
   "metadata": {},
   "outputs": [
    {
     "data": {
      "text/plain": [
       "[<matplotlib.lines.Line2D at 0x7f9678086c10>]"
      ]
     },
     "execution_count": 13,
     "metadata": {},
     "output_type": "execute_result"
    },
    {
     "data": {
      "image/png": "[encoded data removed]",
      "text/plain": [
       "<Figure size 432x288 with 1 Axes>"
      ]
     },
     "metadata": {
      "needs_background": "light"
     },
     "output_type": "display_data"
    }
   ],
   "source": [
    "plt.plot(temp, cps, 'o')"
   ]
  },
  {
   "cell_type": "code",
   "execution_count": 16,
   "id": "8b0a41f3",
   "metadata": {},
   "outputs": [
    {
     "data": {
      "text/plain": [
       "[<matplotlib.lines.Line2D at 0x7f9681e46910>]"
      ]
     },
     "execution_count": 16,
     "metadata": {},
     "output_type": "execute_result"
    },
    {
     "data": {
      "image/png": "[encoded data removed]",
      "text/plain": [
       "<Figure size 432x288 with 1 Axes>"
      ]
     },
     "metadata": {
      "needs_background": "light"
     },
     "output_type": "display_data"
    }
   ],
   "source": [
    "temp = []\n",
    "cps = []\n",
    "for item in lst_150+ lst_165:\n",
    "    file = fits.open(item)\n",
    "    temp.append((file[1].header['MDECODT1'] + file[1].header['MDECODT2']) /2 )\n",
    "    exp_t = file[0].header['EXPTIME']\n",
    "    \n",
    "    sample_data = file[1].data[10:1014, 10: 1014]\n",
    "    s1 = sum(sum(sample_data))\n",
    "    \n",
    "    e =100 \n",
    "    center = get_center(item)\n",
    "    subtract_data = file[1].data[center[1] - e : center[1]+e, center[0] - e: center[0] + e]\n",
    "    s2 = sum(sum(subtract_data))\n",
    "    \n",
    "    cps.append(((s1 - s2)/exp_t)/(len(sample_data[0])*len(sample_data) - len(subtract_data[0])*len(subtract_data)))\n",
    "\n",
    "\n",
    "plt.plot(temp, cps, 'o')"
   ]
  },
  {
   "cell_type": "code",
   "execution_count": 18,
   "id": "782da8b9",
   "metadata": {},
   "outputs": [],
   "source": [
    "temp = []\n",
    "cps = []\n",
    "for item in lst_150+ lst_165:\n",
    "    file = fits.open(item)\n",
    "    temp.append((file[1].header['MDECODT1'] + file[1].header['MDECODT2']) /2 )\n",
    "    exp_t = file[0].header['EXPTIME']\n",
    "    \n",
    "    sample_data = file[1].data[:273, 756:]\n",
    "    s1 = sum(sum(sample_data))\n",
    "    \n",
    "    #center = get_center(item)\n",
    "    #subtract_data = file[1].data[center[1] - 100 : center[1]+100, center[0] - 100: center[0] + 100 ]\n",
    "    #s2 = sum(sum(subtract_data))\n",
    "    \n",
    "    cps.append((s1/exp_t)/( len(sample_data[0]) * len(sample_data) ))\n",
    "\n"
   ]
  },
  {
   "cell_type": "code",
   "execution_count": 19,
   "id": "664cb124",
   "metadata": {},
   "outputs": [
    {
     "data": {
      "text/plain": [
       "[<matplotlib.lines.Line2D at 0x7f9681f9fee0>]"
      ]
     },
     "execution_count": 19,
     "metadata": {},
     "output_type": "execute_result"
    },
    {
     "data": {
      "image/png": "[encoded data removed]",
      "text/plain": [
       "<Figure size 432x288 with 1 Axes>"
      ]
     },
     "metadata": {
      "needs_background": "light"
     },
     "output_type": "display_data"
    }
   ],
   "source": [
    "plt.plot(temp, cps, 'o')"
   ]
  },
  {
   "cell_type": "code",
   "execution_count": 109,
   "id": "8418a07b",
   "metadata": {},
   "outputs": [
    {
     "data": {
      "text/plain": [
       "0.0"
      ]
     },
     "execution_count": 109,
     "metadata": {},
     "output_type": "execute_result"
    }
   ],
   "source": [
    "data = file[1].data[:273, 756:].flatten()\n",
    "median(data)"
   ]
  },
  {
   "cell_type": "code",
   "execution_count": 23,
   "id": "cf39ebd7",
   "metadata": {},
   "outputs": [
    {
     "data": {
      "text/plain": [
       "[<matplotlib.lines.Line2D at 0x7f9681fcd340>]"
      ]
     },
     "execution_count": 23,
     "metadata": {},
     "output_type": "execute_result"
    },
    {
     "data": {
      "image/png": "[encoded data removed]",
      "text/plain": [
       "<Figure size 432x288 with 1 Axes>"
      ]
     },
     "metadata": {
      "needs_background": "light"
     },
     "output_type": "display_data"
    }
   ],
   "source": [
    "temp = []\n",
    "cps = []\n",
    "for item in lst_150+ lst_165:\n",
    "    file = fits.open(item)\n",
    "    temp.append((file[1].header['MDECODT1'] + file[1].header['MDECODT2']) /2 )\n",
    "    exp_t = file[0].header['EXPTIME']\n",
    "    \n",
    "    sample_data = file[1].data[255:767, 255: 767]\n",
    "    s1 = sum(sum(sample_data))\n",
    "    \n",
    "    e =1\n",
    "    center = get_center(item)\n",
    "    subtract_data = file[1].data[center[1] - e : center[1]+e, center[0] - e: center[0] + e]\n",
    "    s2 = sum(sum(subtract_data))\n",
    "    \n",
    "    cps.append(((s1 - s2)/exp_t)/(len(sample_data[0])*len(sample_data) - len(subtract_data[0])*len(subtract_data)))\n",
    "\n",
    "\n",
    "plt.plot(temp, cps, 'o')"
   ]
  },
  {
   "cell_type": "code",
   "execution_count": 24,
   "id": "bfa305a1",
   "metadata": {},
   "outputs": [
    {
     "data": {
      "text/plain": [
       "[<matplotlib.lines.Line2D at 0x7f9681fe8730>]"
      ]
     },
     "execution_count": 24,
     "metadata": {},
     "output_type": "execute_result"
    },
    {
     "data": {
      "image/png": "[encoded data removed]",
      "text/plain": [
       "<Figure size 432x288 with 1 Axes>"
      ]
     },
     "metadata": {
      "needs_background": "light"
     },
     "output_type": "display_data"
    }
   ],
   "source": [
    "temp = []\n",
    "cps = []\n",
    "for item in lst_150+ lst_165:\n",
    "    file = fits.open(item)\n",
    "    temp.append((file[1].header['MDECODT1'] + file[1].header['MDECODT2']) /2 )\n",
    "    exp_t = file[0].header['EXPTIME']\n",
    "    \n",
    "    sample_data = file[1].data[255:767, 255: 767]\n",
    "    s1 = sum(sum(sample_data))\n",
    "    \n",
    "    e =40\n",
    "    center = get_center(item)\n",
    "    subtract_data = file[1].data[center[1] - e : center[1]+e, center[0] - e: center[0] + e]\n",
    "    s2 = sum(sum(subtract_data))\n",
    "    \n",
    "    cps.append(((s1 - s2)/exp_t)/(len(sample_data[0])*len(sample_data) - len(subtract_data[0])*len(subtract_data)))\n",
    "\n",
    "\n",
    "plt.plot(temp, cps, 'o')"
   ]
  },
  {
   "cell_type": "code",
   "execution_count": null,
   "id": "820c097a",
   "metadata": {},
   "outputs": [],
   "source": []
  }
 ],
 "metadata": {
  "kernelspec": {
   "display_name": "Python 3 (ipykernel)",
   "language": "python",
   "name": "python3"
  },
  "language_info": {
   "codemirror_mode": {
    "name": "ipython",
    "version": 3
   },
   "file_extension": ".py",
   "mimetype": "text/x-python",
   "name": "python",
   "nbconvert_exporter": "python",
   "pygments_lexer": "ipython3",
   "version": "3.9.12"
  }
 },
 "nbformat": 4,
 "nbformat_minor": 5
}
