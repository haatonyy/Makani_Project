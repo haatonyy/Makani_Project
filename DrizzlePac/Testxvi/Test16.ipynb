{
 "cells": [
  {
   "cell_type": "code",
   "execution_count": 1,
   "id": "f4f00941",
   "metadata": {},
   "outputs": [],
   "source": [
    "from astropy.io import fits\n",
    "from matplotlib import pyplot as plt\n",
    "import numpy as np\n",
    "import glob"
   ]
  },
  {
   "cell_type": "code",
   "execution_count": 3,
   "id": "71c087d3",
   "metadata": {},
   "outputs": [],
   "source": [
    "path = '/Users/ha/Makani_Project/DrizzlePac'\n",
    "lst_raw = glob.glob(path + '/data/*/*/*raw.fits')\n",
    "dark_lst = glob.glob(path + '/darks/HST/*/*raw.fits')"
   ]
  },
  {
   "cell_type": "code",
   "execution_count": 11,
   "id": "ac9cb7d1",
   "metadata": {},
   "outputs": [],
   "source": [
    "w_data = np.zeros((1024,1024))\n",
    "total_time = 0\n",
    "uptemp = 25.0\n",
    "lowtemp = 0.0\n",
    "for item in dark_lst:\n",
    "    file = fits.open(item)\n",
    "    \n",
    "    exptime = file[0].header['EXPTIME']\n",
    "    temp = (file[1].header['MDECODT1'] + file[1].header['MDECODT2']) /2 \n",
    "    year = int(file[0].header['DATE'][:4])\n",
    "    data = file[1].data\n",
    "    \n",
    "    #if temp <= uptemp and year > 2010 and year != 2019 and year != 2020:\n",
    "    #    w_data += data\n",
    "    #    total_time += exptime\n",
    "    \n",
    "    if temp <= 22.0 and year > 2010:\n",
    "        w_data += data\n",
    "        total_time += exptime\n",
    "    \n",
    "w_data_cps = w_data / total_time\n",
    "    \n",
    "avg_dark_Primary = fits.PrimaryHDU(w_data_cps)\n",
    "avg_dark_hdul = fits.HDUList([avg_dark_Primary])\n",
    "avg_dark_hdul.writeto('avg_dark_uptemp22.fits', overwrite = True)"
   ]
  },
  {
   "cell_type": "code",
   "execution_count": 26,
   "id": "a03a4901",
   "metadata": {},
   "outputs": [
    {
     "name": "stdout",
     "output_type": "stream",
     "text": [
      "CPU times: user 4 µs, sys: 1 µs, total: 5 µs\n",
      "Wall time: 11 µs\n"
     ]
    }
   ],
   "source": [
    "%time\n",
    "dark_file = fits.open('avg_dark_uptemp25.fits')\n",
    "sumdata_1subtracted = np.zeros((1024,1024))\n",
    "total_exptime = 0\n",
    "for i in range(len(lst_raw)):\n",
    "    filename = lst_raw[i]\n",
    "    rawfile = fits.open(filename)\n",
    "    rawdata = rawfile[1].data\n",
    "    exptime = rawfile[0].header['EXPTIME']\n",
    "    \n",
    "    dark_frame = dark_file[0].data * exptime\n",
    "    new_data = rawdata - dark_frame\n",
    "\n",
    "    Primary = fits.PrimaryHDU(rawdata)\n",
    "    hdul = fits.HDUList([Primary])\n",
    "    hdul.writeto(filename[-18:-9] + '_original.fits', overwrite = True)\n",
    "    \n",
    "    subtracted_Primary = fits.PrimaryHDU(new_data)\n",
    "    subtracted_hdul = fits.HDUList([subtracted_Primary])\n",
    "    subtracted_hdul.writeto(filename[-18:-9] + '_subtracted_25.fits', overwrite = True)\\\n",
    "    \n",
    "    total_time += exptime\n",
    "    sumdata_1subtracted += new_data\n",
    "    \n",
    "Primary = fits.PrimaryHDU(sumdata_1subtracted/total_time)\n",
    "hdul = fits.HDUList([Primary])\n",
    "hdul.writeto('sumdata_afterprimarysubt_ps.fits', overwrite = True)"
   ]
  },
  {
   "cell_type": "code",
   "execution_count": 33,
   "id": "9348db0c",
   "metadata": {},
   "outputs": [
    {
     "name": "stdout",
     "output_type": "stream",
     "text": [
      "2.6471555845654753e-05\n"
     ]
    }
   ],
   "source": [
    "print(sum(sum(sumdata_1subtracted/total_time))/ (1024 **2))"
   ]
  },
  {
   "cell_type": "code",
   "execution_count": 32,
   "id": "e8bdb4b3",
   "metadata": {},
   "outputs": [
    {
     "name": "stdout",
     "output_type": "stream",
     "text": [
      "24080.0\n",
      "1.6508558568349717e-05\n",
      "0.397526090325861\n"
     ]
    }
   ],
   "source": [
    "sumdark = np.zeros((1024,1024))\n",
    "total_time = 0\n",
    "for item in dark_lst:\n",
    "    file = fits.open(item)\n",
    "    \n",
    "    exptime = file[0].header['EXPTIME']\n",
    "    temp = (file[1].header['MDECODT1'] + file[1].header['MDECODT2']) /2 \n",
    "    year = int(file[0].header['DATE'][:4])\n",
    "    data = file[1].data\n",
    "    \n",
    "    #if temp <= uptemp and year > 2010 and year != 2019 and year != 2020:\n",
    "    #    w_data += data\n",
    "    #    total_time += exptime\n",
    "    \n",
    "    if year > 2021:\n",
    "        sumdark += data - dark_file[0].data * exptime\n",
    "        total_time += exptime\n",
    "    \n",
    "sumdark_cps = sumdark / total_time\n",
    "print(total_time)\n",
    "print(sum(sum(sumdark_cps))/ (1024 **2))\n",
    "print(sum(sum(sumdark))/ (1024 **2))\n",
    "sumdark_Primary = fits.PrimaryHDU(sumdark_cps)\n",
    "sumdark_hdul = fits.HDUList([avg_dark_Primary])\n",
    "sumdark_hdul.writeto('sumdark_25up.fits', overwrite = True)"
   ]
  },
  {
   "cell_type": "code",
   "execution_count": null,
   "id": "c7723c41",
   "metadata": {},
   "outputs": [],
   "source": []
  }
 ],
 "metadata": {
  "kernelspec": {
   "display_name": "Python 3 (ipykernel)",
   "language": "python",
   "name": "python3"
  },
  "language_info": {
   "codemirror_mode": {
    "name": "ipython",
    "version": 3
   },
   "file_extension": ".py",
   "mimetype": "text/x-python",
   "name": "python",
   "nbconvert_exporter": "python",
   "pygments_lexer": "ipython3",
   "version": "3.7.13"
  }
 },
 "nbformat": 4,
 "nbformat_minor": 5
}
