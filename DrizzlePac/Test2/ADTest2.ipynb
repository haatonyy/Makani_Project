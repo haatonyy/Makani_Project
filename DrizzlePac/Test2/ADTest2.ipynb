{
 "cells": [
  {
   "cell_type": "code",
   "execution_count": 10,
   "id": "9c2e5932",
   "metadata": {},
   "outputs": [],
   "source": [
    "from astroquery.mast import Observations\n",
    "from ccdproc import ImageFileCollection\n",
    "from astropy.table import Table\n",
    "from astropy.io import fits\n",
    "from astropy.io import ascii\n",
    "from astropy.visualization import ZScaleInterval\n",
    "from IPython.display import Image\n",
    "import glob\n",
    "import matplotlib.pyplot as plt\n",
    "import numpy as np\n",
    "import os\n",
    "import shutil\n",
    "from drizzlepac import tweakreg\n",
    "from drizzlepac import astrodrizzle"
   ]
  },
  {
   "cell_type": "code",
   "execution_count": 23,
   "id": "3349f7f3",
   "metadata": {},
   "outputs": [
    {
     "name": "stdout",
     "output_type": "stream",
     "text": [
      "Downloading URL https://mast.stsci.edu/api/v0.1/Download/file?uri=mast:HST/product/hst_16231_01_acs_sbc_f150lp_jec401no_flt.fits to ./science/mastDownload/HST/hst_16231_01_acs_sbc_f150lp_jec401no/hst_16231_01_acs_sbc_f150lp_jec401no_flt.fits ... [Done]\n",
      "Downloading URL https://mast.stsci.edu/api/v0.1/Download/file?uri=mast:HST/product/hst_16231_01_acs_sbc_f150lp_jec401nr_flt.fits to ./science/mastDownload/HST/hst_16231_01_acs_sbc_f150lp_jec401nr/hst_16231_01_acs_sbc_f150lp_jec401nr_flt.fits ... [Done]\n",
      "Downloading URL https://mast.stsci.edu/api/v0.1/Download/file?uri=mast:HST/product/hst_16231_01_acs_sbc_f150lp_jec401nv_flt.fits to ./science/mastDownload/HST/hst_16231_01_acs_sbc_f150lp_jec401nv/hst_16231_01_acs_sbc_f150lp_jec401nv_flt.fits ... [Done]\n",
      "Downloading URL https://mast.stsci.edu/api/v0.1/Download/file?uri=mast:HST/product/hst_16231_01_acs_sbc_f150lp_jec401nx_flt.fits to ./science/mastDownload/HST/hst_16231_01_acs_sbc_f150lp_jec401nx/hst_16231_01_acs_sbc_f150lp_jec401nx_flt.fits ... [Done]\n",
      "Downloading URL https://mast.stsci.edu/api/v0.1/Download/file?uri=mast:HST/product/jec401noq_flt.fits to ./science/mastDownload/HST/jec401noq/jec401noq_flt.fits ... [Done]\n",
      "Downloading URL https://mast.stsci.edu/api/v0.1/Download/file?uri=mast:HST/product/jec401nrq_flt.fits to ./science/mastDownload/HST/jec401nrq/jec401nrq_flt.fits ... [Done]\n",
      "Downloading URL https://mast.stsci.edu/api/v0.1/Download/file?uri=mast:HST/product/jec401nvq_flt.fits to ./science/mastDownload/HST/jec401nvq/jec401nvq_flt.fits ... [Done]\n",
      "Downloading URL https://mast.stsci.edu/api/v0.1/Download/file?uri=mast:HST/product/jec401nxq_flt.fits to ./science/mastDownload/HST/jec401nxq/jec401nxq_flt.fits ... [Done]\n"
     ]
    }
   ],
   "source": [
    "science_list = Observations.query_criteria(proposal_id='16231', filters='F150LP',obs_id='jec401*')\n",
    "Observations.download_products(science_list['obsid'], mrp_only=False, download_dir='./science',\\\n",
    "                               productSubGroupDescription=['FLT'])\n",
    "\n",
    "science_files = glob.glob(os.path.join(os.curdir, 'science', 'mastDownload', 'HST', '*', '*fits'))\n",
    "for im in science_files:\n",
    "    root = im.split('/')[-1]\n",
    "    os.rename(im, './' + root)\n",
    "shutil.rmtree('science/')"
   ]
  },
  {
   "cell_type": "code",
   "execution_count": 24,
   "id": "4f446f25",
   "metadata": {},
   "outputs": [
    {
     "data": {
      "text/html": [
       "<div><i>Table masked=True length=8</i>\n",
       "<table id=\"table140468317952656\" class=\"table-striped table-bordered table-condensed\">\n",
       "<thead><tr><th>file</th><th>asn_id</th><th>detector</th><th>filter</th><th>nsamp</th><th>exptime</th><th>postarg1</th><th>postarg2</th></tr></thead>\n",
       "<thead><tr><th>str45</th><th>str9</th><th>str3</th><th>float64</th><th>float64</th><th>float64</th><th>float64</th><th>float64</th></tr></thead>\n",
       "<tr><td>hst_16231_01_acs_sbc_f150lp_jec401no_flt.fits</td><td>JEC401010</td><td>SBC</td><td>--</td><td>--</td><td>624.0</td><td>-0.21</td><td>-0.36</td></tr>\n",
       "<tr><td>hst_16231_01_acs_sbc_f150lp_jec401nr_flt.fits</td><td>JEC401010</td><td>SBC</td><td>--</td><td>--</td><td>624.0</td><td>0.63</td><td>-0.05</td></tr>\n",
       "<tr><td>hst_16231_01_acs_sbc_f150lp_jec401nv_flt.fits</td><td>JEC401010</td><td>SBC</td><td>--</td><td>--</td><td>624.0</td><td>0.21</td><td>0.36</td></tr>\n",
       "<tr><td>hst_16231_01_acs_sbc_f150lp_jec401nx_flt.fits</td><td>JEC401010</td><td>SBC</td><td>--</td><td>--</td><td>624.0</td><td>-0.63</td><td>0.05</td></tr>\n",
       "<tr><td>jec401noq_flt.fits</td><td>JEC401010</td><td>SBC</td><td>--</td><td>--</td><td>624.0</td><td>-0.21</td><td>-0.36</td></tr>\n",
       "<tr><td>jec401nrq_flt.fits</td><td>JEC401010</td><td>SBC</td><td>--</td><td>--</td><td>624.0</td><td>0.63</td><td>-0.05</td></tr>\n",
       "<tr><td>jec401nvq_flt.fits</td><td>JEC401010</td><td>SBC</td><td>--</td><td>--</td><td>624.0</td><td>0.21</td><td>0.36</td></tr>\n",
       "<tr><td>jec401nxq_flt.fits</td><td>JEC401010</td><td>SBC</td><td>--</td><td>--</td><td>624.0</td><td>-0.63</td><td>0.05</td></tr>\n",
       "</table></div>"
      ],
      "text/plain": [
       "<Table masked=True length=8>\n",
       "                     file                       asn_id  ... postarg1 postarg2\n",
       "                    str45                        str9   ... float64  float64 \n",
       "--------------------------------------------- --------- ... -------- --------\n",
       "hst_16231_01_acs_sbc_f150lp_jec401no_flt.fits JEC401010 ...    -0.21    -0.36\n",
       "hst_16231_01_acs_sbc_f150lp_jec401nr_flt.fits JEC401010 ...     0.63    -0.05\n",
       "hst_16231_01_acs_sbc_f150lp_jec401nv_flt.fits JEC401010 ...     0.21     0.36\n",
       "hst_16231_01_acs_sbc_f150lp_jec401nx_flt.fits JEC401010 ...    -0.63     0.05\n",
       "                           jec401noq_flt.fits JEC401010 ...    -0.21    -0.36\n",
       "                           jec401nrq_flt.fits JEC401010 ...     0.63    -0.05\n",
       "                           jec401nvq_flt.fits JEC401010 ...     0.21     0.36\n",
       "                           jec401nxq_flt.fits JEC401010 ...    -0.63     0.05"
      ]
     },
     "execution_count": 24,
     "metadata": {},
     "output_type": "execute_result"
    }
   ],
   "source": [
    "collect = ImageFileCollection('./', glob_include=\"*flt.fits\", ext=0,\n",
    "                                 keywords=[\"asn_id\", \"detector\", \"filter\", \"nsamp\",\n",
    "                                           \"exptime\", \"postarg1\", \"postarg2\"])\n",
    "\n",
    "table = collect.summary\n",
    "table['exptime'].format = '7.1f'\n",
    "table['postarg1'].format = '7.2f'\n",
    "table['postarg2'].format = '7.2f'\n",
    "table"
   ]
  },
  {
   "cell_type": "code",
   "execution_count": 27,
   "id": "b170e4af",
   "metadata": {},
   "outputs": [],
   "source": [
    "no = 'hst_16231_01_acs_sbc_f150lp_jec401no_flt.fits'\n",
    "nr = 'hst_16231_01_acs_sbc_f150lp_jec401nr_flt.fits'\n",
    "nv = 'hst_16231_01_acs_sbc_f150lp_jec401nv_flt.fits'\n",
    "nx = 'hst_16231_01_acs_sbc_f150lp_jec401nx_flt.fits'"
   ]
  },
  {
   "cell_type": "code",
   "execution_count": 28,
   "id": "d64d8103",
   "metadata": {},
   "outputs": [
    {
     "name": "stderr",
     "output_type": "stream",
     "text": [
      "INFO:drizzlepac.util:Setting up logfile :  astrodrizzle.log\n"
     ]
    },
    {
     "name": "stdout",
     "output_type": "stream",
     "text": [
      "Setting up logfile :  astrodrizzle.log\n"
     ]
    },
    {
     "name": "stderr",
     "output_type": "stream",
     "text": [
      "INFO:drizzlepac.astrodrizzle:AstroDrizzle Version 3.1.8 (2020-07-27 10:34:52 -0400) started at: 15:15:51.817 (03/06/2022)\n"
     ]
    },
    {
     "name": "stdout",
     "output_type": "stream",
     "text": [
      "AstroDrizzle Version 3.1.8 (2020-07-27 10:34:52 -0400) started at: 15:15:51.817 (03/06/2022)\n"
     ]
    },
    {
     "name": "stderr",
     "output_type": "stream",
     "text": [
      "INFO:drizzlepac.astrodrizzle:\n"
     ]
    },
    {
     "name": "stdout",
     "output_type": "stream",
     "text": [
      "\n"
     ]
    },
    {
     "name": "stderr",
     "output_type": "stream",
     "text": [
      "INFO:drizzlepac.astrodrizzle:Version Information\n",
      "INFO:drizzlepac.astrodrizzle:--------------------\n",
      "INFO:drizzlepac.astrodrizzle:Python Version [Clang 12.0.0 ]\n",
      "INFO:drizzlepac.astrodrizzle:3.7.13 (default, Mar 28 2022, 07:24:34) \n",
      "INFO:drizzlepac.astrodrizzle:numpy Version -> 1.21.5 \n",
      "INFO:drizzlepac.astrodrizzle:astropy Version -> 4.3.1 \n",
      "INFO:drizzlepac.astrodrizzle:stwcs Version -> 1.6.1 \n",
      "INFO:drizzlepac.util:==== Processing Step  Initialization  started at  15:15:51.825 (03/06/2022)\n"
     ]
    },
    {
     "name": "stdout",
     "output_type": "stream",
     "text": [
      "==== Processing Step  Initialization  started at  15:15:51.825 (03/06/2022)\n"
     ]
    },
    {
     "name": "stderr",
     "output_type": "stream",
     "text": [
      "INFO:drizzlepac.util:\n"
     ]
    },
    {
     "name": "stdout",
     "output_type": "stream",
     "text": [
      "\n"
     ]
    },
    {
     "name": "stderr",
     "output_type": "stream",
     "text": [
      "INFO:drizzlepac.processInput:Preserving original of:  hst_16231_01_acs_sbc_f150lp_jec401no_flt.fits as  OrIg_files/hst_16231_01_acs_sbc_f150lp_jec401no_flt.fits\n"
     ]
    },
    {
     "name": "stdout",
     "output_type": "stream",
     "text": [
      "Preserving original of:  hst_16231_01_acs_sbc_f150lp_jec401no_flt.fits as  OrIg_files/hst_16231_01_acs_sbc_f150lp_jec401no_flt.fits\n"
     ]
    },
    {
     "name": "stderr",
     "output_type": "stream",
     "text": [
      "INFO:drizzlepac.processInput:Executing serially\n",
      "INFO:drizzlepac.processInput:Setting up output name: nfinal_test_drz.fits\n",
      "INFO:drizzlepac.processInput:-Creating imageObject List as input for processing steps.\n",
      "INFO:drizzlepac.imageObject:Reading in MDRIZSKY of 0.0\n",
      "INFO:drizzlepac.acsData:WARNING: No cte correction will be made for this SBC data.\n"
     ]
    },
    {
     "name": "stdout",
     "output_type": "stream",
     "text": [
      "WARNING: No cte correction will be made for this SBC data.\n"
     ]
    },
    {
     "name": "stderr",
     "output_type": "stream",
     "text": [
      "INFO:drizzlepac.imageObject:No context image will be created for hst_16231_01_acs_sbc_f150lp_jec401no_flt.fits\n",
      "INFO:drizzlepac.resetbits:Reset bit values of 4096 to a value of 0 in hst_16231_01_acs_sbc_f150lp_jec401no_flt.fits[DQ,1]\n",
      "INFO:drizzlepac.processInput:-Creating output WCS.\n",
      "INFO:drizzlepac.imageObject:No context image will be created for nfinal_test_drz.fits\n",
      "INFO:astropy.wcs.wcs:WCS Keywords\n"
     ]
    },
    {
     "name": "stdout",
     "output_type": "stream",
     "text": [
      "WCS Keywords\n"
     ]
    },
    {
     "name": "stderr",
     "output_type": "stream",
     "text": [
      "INFO:astropy.wcs.wcs:\n"
     ]
    },
    {
     "name": "stdout",
     "output_type": "stream",
     "text": [
      "\n"
     ]
    },
    {
     "name": "stderr",
     "output_type": "stream",
     "text": [
      "INFO:astropy.wcs.wcs:Number of WCS axes: 2\n"
     ]
    },
    {
     "name": "stdout",
     "output_type": "stream",
     "text": [
      "Number of WCS axes: 2\n"
     ]
    },
    {
     "name": "stderr",
     "output_type": "stream",
     "text": [
      "INFO:astropy.wcs.wcs:CTYPE : 'RA---TAN'  'DEC--TAN'  \n"
     ]
    },
    {
     "name": "stdout",
     "output_type": "stream",
     "text": [
      "CTYPE : 'RA---TAN'  'DEC--TAN'  \n"
     ]
    },
    {
     "name": "stderr",
     "output_type": "stream",
     "text": [
      "INFO:astropy.wcs.wcs:CRVAL : 319.6011249649806  0.2921030562237356  \n"
     ]
    },
    {
     "name": "stdout",
     "output_type": "stream",
     "text": [
      "CRVAL : 319.6011249649806  0.2921030562237356  \n"
     ]
    },
    {
     "name": "stderr",
     "output_type": "stream",
     "text": [
      "INFO:astropy.wcs.wcs:CRPIX : 691.0  680.0  \n"
     ]
    },
    {
     "name": "stdout",
     "output_type": "stream",
     "text": [
      "CRPIX : 691.0  680.0  \n"
     ]
    },
    {
     "name": "stderr",
     "output_type": "stream",
     "text": [
      "INFO:astropy.wcs.wcs:CD1_1 CD1_2  : -3.7822096876335265e-06  5.824105077861544e-06  \n"
     ]
    },
    {
     "name": "stdout",
     "output_type": "stream",
     "text": [
      "CD1_1 CD1_2  : -3.7822096876335265e-06  5.824105077861544e-06  \n"
     ]
    },
    {
     "name": "stderr",
     "output_type": "stream",
     "text": [
      "INFO:astropy.wcs.wcs:CD2_1 CD2_2  : 5.824105077861544e-06  3.7822096876335265e-06  \n"
     ]
    },
    {
     "name": "stdout",
     "output_type": "stream",
     "text": [
      "CD2_1 CD2_2  : 5.824105077861544e-06  3.7822096876335265e-06  \n"
     ]
    },
    {
     "name": "stderr",
     "output_type": "stream",
     "text": [
      "INFO:astropy.wcs.wcs:NAXIS : 1382  1360\n"
     ]
    },
    {
     "name": "stdout",
     "output_type": "stream",
     "text": [
      "NAXIS : 1382  1360\n"
     ]
    },
    {
     "name": "stderr",
     "output_type": "stream",
     "text": [
      "INFO:drizzlepac.processInput:********************************************************************************\n"
     ]
    },
    {
     "name": "stdout",
     "output_type": "stream",
     "text": [
      "********************************************************************************\n"
     ]
    },
    {
     "name": "stderr",
     "output_type": "stream",
     "text": [
      "INFO:drizzlepac.processInput:*\n"
     ]
    },
    {
     "name": "stdout",
     "output_type": "stream",
     "text": [
      "*\n"
     ]
    },
    {
     "name": "stderr",
     "output_type": "stream",
     "text": [
      "INFO:drizzlepac.processInput:*  Estimated memory usage:  up to 29 Mb.\n"
     ]
    },
    {
     "name": "stdout",
     "output_type": "stream",
     "text": [
      "*  Estimated memory usage:  up to 29 Mb.\n"
     ]
    },
    {
     "name": "stderr",
     "output_type": "stream",
     "text": [
      "INFO:drizzlepac.processInput:*  Output image size:       1382 X 1360 pixels. \n"
     ]
    },
    {
     "name": "stdout",
     "output_type": "stream",
     "text": [
      "*  Output image size:       1382 X 1360 pixels. \n"
     ]
    },
    {
     "name": "stderr",
     "output_type": "stream",
     "text": [
      "INFO:drizzlepac.processInput:*  Output image file:       ~ 21 Mb. \n"
     ]
    },
    {
     "name": "stdout",
     "output_type": "stream",
     "text": [
      "*  Output image file:       ~ 21 Mb. \n"
     ]
    },
    {
     "name": "stderr",
     "output_type": "stream",
     "text": [
      "INFO:drizzlepac.processInput:*  Cores available:         1\n"
     ]
    },
    {
     "name": "stdout",
     "output_type": "stream",
     "text": [
      "*  Cores available:         1\n"
     ]
    },
    {
     "name": "stderr",
     "output_type": "stream",
     "text": [
      "INFO:drizzlepac.processInput:*\n"
     ]
    },
    {
     "name": "stdout",
     "output_type": "stream",
     "text": [
      "*\n"
     ]
    },
    {
     "name": "stderr",
     "output_type": "stream",
     "text": [
      "INFO:drizzlepac.processInput:********************************************************************************\n"
     ]
    },
    {
     "name": "stdout",
     "output_type": "stream",
     "text": [
      "********************************************************************************\n"
     ]
    },
    {
     "name": "stderr",
     "output_type": "stream",
     "text": [
      "INFO:drizzlepac.util:==== Processing Step Initialization finished at 15:15:51.972 (03/06/2022)\n"
     ]
    },
    {
     "name": "stdout",
     "output_type": "stream",
     "text": [
      "==== Processing Step Initialization finished at 15:15:51.972 (03/06/2022)\n"
     ]
    },
    {
     "name": "stderr",
     "output_type": "stream",
     "text": [
      "INFO:drizzlepac.astrodrizzle:USER INPUT PARAMETERS common to all Processing Steps:\n",
      "INFO:drizzlepac.astrodrizzle:\tbuild :\tTrue\n",
      "INFO:drizzlepac.astrodrizzle:\tcoeffs :\tTrue\n",
      "INFO:drizzlepac.astrodrizzle:\tcontext :\tFalse\n",
      "INFO:drizzlepac.astrodrizzle:\tcrbit :\t4096\n",
      "INFO:drizzlepac.astrodrizzle:\tgroup :\t\n",
      "INFO:drizzlepac.astrodrizzle:\tin_memory :\tFalse\n",
      "INFO:drizzlepac.astrodrizzle:\tinput :\thst_16231_01_acs_sbc_f150lp_jec401no_flt.fits\n",
      "INFO:drizzlepac.astrodrizzle:\tmdriztab :\tFalse\n",
      "INFO:drizzlepac.astrodrizzle:\tnum_cores :\tNone\n",
      "INFO:drizzlepac.astrodrizzle:\toutput :\tnfinal_test\n",
      "INFO:drizzlepac.astrodrizzle:\tproc_unit :\tnative\n",
      "INFO:drizzlepac.astrodrizzle:\tresetbits :\t4096\n",
      "INFO:drizzlepac.astrodrizzle:\trules_file :\t\n",
      "INFO:drizzlepac.astrodrizzle:\trunfile :\tastrodrizzle.log\n",
      "INFO:drizzlepac.astrodrizzle:\tstepsize :\t10\n",
      "INFO:drizzlepac.astrodrizzle:\tupdatewcs :\tFalse\n",
      "INFO:drizzlepac.astrodrizzle:\twcskey :\t\n",
      "INFO:drizzlepac.util:==== Processing Step  Static Mask  started at  15:15:51.979 (03/06/2022)\n"
     ]
    },
    {
     "name": "stdout",
     "output_type": "stream",
     "text": [
      "==== Processing Step  Static Mask  started at  15:15:51.979 (03/06/2022)\n"
     ]
    },
    {
     "name": "stderr",
     "output_type": "stream",
     "text": [
      "INFO:drizzlepac.util:\n"
     ]
    },
    {
     "name": "stdout",
     "output_type": "stream",
     "text": [
      "\n"
     ]
    },
    {
     "name": "stderr",
     "output_type": "stream",
     "text": [
      "INFO:drizzlepac.staticMask:USER INPUT PARAMETERS for Static Mask Step:\n",
      "INFO:drizzlepac.staticMask:\tstatic :\tTrue\n",
      "INFO:drizzlepac.staticMask:\tstatic_sig :\t4.0\n",
      "INFO:drizzlepac.staticMask:Computing static mask:\n",
      "\n",
      "INFO:stsci.imagestats:! WARNING: Clipped data falls within 1 histogram bin\n"
     ]
    },
    {
     "name": "stdout",
     "output_type": "stream",
     "text": [
      "! WARNING: Clipped data falls within 1 histogram bin\n"
     ]
    },
    {
     "name": "stderr",
     "output_type": "stream",
     "text": [
      "INFO:drizzlepac.staticMask:  mode =  0.000000;   rms = 0.000000;   static_sig = 4.00\n",
      "INFO:drizzlepac.staticMask:Saving static mask to disk: ./ACSSBC_1024x1024_1_staticMask.fits\n",
      "INFO:drizzlepac.util:==== Processing Step Static Mask finished at 15:15:52.01 (03/06/2022)\n"
     ]
    },
    {
     "name": "stdout",
     "output_type": "stream",
     "text": [
      "==== Processing Step Static Mask finished at 15:15:52.01 (03/06/2022)\n"
     ]
    },
    {
     "name": "stderr",
     "output_type": "stream",
     "text": [
      "INFO:drizzlepac.util:==== Processing Step  Subtract Sky  started at  15:15:52.015 (03/06/2022)\n"
     ]
    },
    {
     "name": "stdout",
     "output_type": "stream",
     "text": [
      "==== Processing Step  Subtract Sky  started at  15:15:52.015 (03/06/2022)\n"
     ]
    },
    {
     "name": "stderr",
     "output_type": "stream",
     "text": [
      "INFO:drizzlepac.util:\n"
     ]
    },
    {
     "name": "stdout",
     "output_type": "stream",
     "text": [
      "\n"
     ]
    },
    {
     "name": "stderr",
     "output_type": "stream",
     "text": [
      "INFO:drizzlepac.sky:USER INPUT PARAMETERS for Sky Subtraction Step:\n",
      "INFO:drizzlepac.sky:\tsky_bits :\t0\n",
      "INFO:drizzlepac.sky:\tskyclip :\t5\n",
      "INFO:drizzlepac.sky:\tskyfile :\t\n",
      "INFO:drizzlepac.sky:\tskylower :\tNone\n",
      "INFO:drizzlepac.sky:\tskylsigma :\t4.0\n",
      "INFO:drizzlepac.sky:\tskymask_cat :\t\n",
      "INFO:drizzlepac.sky:\tskymethod :\tlocalmin\n",
      "INFO:drizzlepac.sky:\tskystat :\tmedian\n",
      "INFO:drizzlepac.sky:\tskysub :\tTrue\n",
      "INFO:drizzlepac.sky:\tskyupper :\tNone\n",
      "INFO:drizzlepac.sky:\tskyuser :\t\n",
      "INFO:drizzlepac.sky:\tskyusigma :\t4.0\n",
      "INFO:drizzlepac.sky:\tskywidth :\t0.1\n",
      "INFO:drizzlepac.sky:\tuse_static :\tTrue\n",
      "INFO:stsci.skypac.utils:***** skymatch started on 2022-06-03 15:15:52.039362\n"
     ]
    },
    {
     "name": "stdout",
     "output_type": "stream",
     "text": [
      "***** skymatch started on 2022-06-03 15:15:52.039362\n"
     ]
    },
    {
     "name": "stderr",
     "output_type": "stream",
     "text": [
      "INFO:stsci.skypac.utils:      Version 1.0.8\n"
     ]
    },
    {
     "name": "stdout",
     "output_type": "stream",
     "text": [
      "      Version 1.0.8\n"
     ]
    },
    {
     "name": "stderr",
     "output_type": "stream",
     "text": [
      "INFO:stsci.skypac.utils:\n"
     ]
    },
    {
     "name": "stdout",
     "output_type": "stream",
     "text": [
      "\n"
     ]
    },
    {
     "name": "stderr",
     "output_type": "stream",
     "text": [
      "INFO:stsci.skypac.utils:'skymatch' task will apply computed sky differences to input image file(s).\n"
     ]
    },
    {
     "name": "stdout",
     "output_type": "stream",
     "text": [
      "'skymatch' task will apply computed sky differences to input image file(s).\n"
     ]
    },
    {
     "name": "stderr",
     "output_type": "stream",
     "text": [
      "INFO:stsci.skypac.utils:\n"
     ]
    },
    {
     "name": "stdout",
     "output_type": "stream",
     "text": [
      "\n"
     ]
    },
    {
     "name": "stderr",
     "output_type": "stream",
     "text": [
      "INFO:stsci.skypac.utils:NOTE: Computed sky values WILL NOT be subtracted from image data ('subtractsky'=False).\n"
     ]
    },
    {
     "name": "stdout",
     "output_type": "stream",
     "text": [
      "NOTE: Computed sky values WILL NOT be subtracted from image data ('subtractsky'=False).\n"
     ]
    },
    {
     "name": "stderr",
     "output_type": "stream",
     "text": [
      "INFO:stsci.skypac.utils:'MDRIZSKY' header keyword will represent sky value *computed* from data.\n"
     ]
    },
    {
     "name": "stdout",
     "output_type": "stream",
     "text": [
      "'MDRIZSKY' header keyword will represent sky value *computed* from data.\n"
     ]
    },
    {
     "name": "stderr",
     "output_type": "stream",
     "text": [
      "INFO:stsci.skypac.utils:\n"
     ]
    },
    {
     "name": "stdout",
     "output_type": "stream",
     "text": [
      "\n"
     ]
    },
    {
     "name": "stderr",
     "output_type": "stream",
     "text": [
      "INFO:stsci.skypac.utils:-----  User specified keywords:  -----\n"
     ]
    },
    {
     "name": "stdout",
     "output_type": "stream",
     "text": [
      "-----  User specified keywords:  -----\n"
     ]
    },
    {
     "name": "stderr",
     "output_type": "stream",
     "text": [
      "INFO:stsci.skypac.utils:       Sky Value Keyword:  'MDRIZSKY'\n"
     ]
    },
    {
     "name": "stdout",
     "output_type": "stream",
     "text": [
      "       Sky Value Keyword:  'MDRIZSKY'\n"
     ]
    },
    {
     "name": "stderr",
     "output_type": "stream",
     "text": [
      "INFO:stsci.skypac.utils:       Data Units Keyword: 'BUNIT'\n"
     ]
    },
    {
     "name": "stdout",
     "output_type": "stream",
     "text": [
      "       Data Units Keyword: 'BUNIT'\n"
     ]
    },
    {
     "name": "stderr",
     "output_type": "stream",
     "text": [
      "INFO:stsci.skypac.utils:\n"
     ]
    },
    {
     "name": "stdout",
     "output_type": "stream",
     "text": [
      "\n"
     ]
    },
    {
     "name": "stderr",
     "output_type": "stream",
     "text": [
      "INFO:stsci.skypac.utils:\n"
     ]
    },
    {
     "name": "stdout",
     "output_type": "stream",
     "text": [
      "\n"
     ]
    },
    {
     "name": "stderr",
     "output_type": "stream",
     "text": [
      "INFO:stsci.skypac.utils:-----  Input file list:  -----\n"
     ]
    },
    {
     "name": "stdout",
     "output_type": "stream",
     "text": [
      "-----  Input file list:  -----\n"
     ]
    },
    {
     "name": "stderr",
     "output_type": "stream",
     "text": [
      "INFO:stsci.skypac.utils:\n"
     ]
    },
    {
     "name": "stdout",
     "output_type": "stream",
     "text": [
      "\n"
     ]
    },
    {
     "name": "stderr",
     "output_type": "stream",
     "text": [
      "INFO:stsci.skypac.utils:   **  Input image: 'hst_16231_01_acs_sbc_f150lp_jec401no_flt.fits'\n"
     ]
    },
    {
     "name": "stdout",
     "output_type": "stream",
     "text": [
      "   **  Input image: 'hst_16231_01_acs_sbc_f150lp_jec401no_flt.fits'\n"
     ]
    },
    {
     "name": "stderr",
     "output_type": "stream",
     "text": [
      "INFO:stsci.skypac.utils:       EXT: 'SCI',1;\tMASK: hst_16231_01_acs_sbc_f150lp_jec401no_skymatch_mask_sci1.fits[0]\n"
     ]
    },
    {
     "name": "stdout",
     "output_type": "stream",
     "text": [
      "       EXT: 'SCI',1;\tMASK: hst_16231_01_acs_sbc_f150lp_jec401no_skymatch_mask_sci1.fits[0]\n"
     ]
    },
    {
     "name": "stderr",
     "output_type": "stream",
     "text": [
      "INFO:stsci.skypac.utils:\n"
     ]
    },
    {
     "name": "stdout",
     "output_type": "stream",
     "text": [
      "\n"
     ]
    },
    {
     "name": "stderr",
     "output_type": "stream",
     "text": [
      "INFO:stsci.skypac.utils:-----  Sky statistics parameters:  -----\n"
     ]
    },
    {
     "name": "stdout",
     "output_type": "stream",
     "text": [
      "-----  Sky statistics parameters:  -----\n"
     ]
    },
    {
     "name": "stderr",
     "output_type": "stream",
     "text": [
      "INFO:stsci.skypac.utils:       statistics function: 'median'\n"
     ]
    },
    {
     "name": "stdout",
     "output_type": "stream",
     "text": [
      "       statistics function: 'median'\n"
     ]
    },
    {
     "name": "stderr",
     "output_type": "stream",
     "text": [
      "INFO:stsci.skypac.utils:       lower = None\n"
     ]
    },
    {
     "name": "stdout",
     "output_type": "stream",
     "text": [
      "       lower = None\n"
     ]
    },
    {
     "name": "stderr",
     "output_type": "stream",
     "text": [
      "INFO:stsci.skypac.utils:       upper = None\n"
     ]
    },
    {
     "name": "stdout",
     "output_type": "stream",
     "text": [
      "       upper = None\n"
     ]
    },
    {
     "name": "stderr",
     "output_type": "stream",
     "text": [
      "INFO:stsci.skypac.utils:       nclip = 5\n"
     ]
    },
    {
     "name": "stdout",
     "output_type": "stream",
     "text": [
      "       nclip = 5\n"
     ]
    },
    {
     "name": "stderr",
     "output_type": "stream",
     "text": [
      "INFO:stsci.skypac.utils:       lsigma = 4.0\n"
     ]
    },
    {
     "name": "stdout",
     "output_type": "stream",
     "text": [
      "       lsigma = 4.0\n"
     ]
    },
    {
     "name": "stderr",
     "output_type": "stream",
     "text": [
      "INFO:stsci.skypac.utils:       usigma = 4.0\n"
     ]
    },
    {
     "name": "stdout",
     "output_type": "stream",
     "text": [
      "       usigma = 4.0\n"
     ]
    },
    {
     "name": "stderr",
     "output_type": "stream",
     "text": [
      "INFO:stsci.skypac.utils:       binwidth = 0.1\n"
     ]
    },
    {
     "name": "stdout",
     "output_type": "stream",
     "text": [
      "       binwidth = 0.1\n"
     ]
    },
    {
     "name": "stderr",
     "output_type": "stream",
     "text": [
      "INFO:stsci.skypac.utils:\n"
     ]
    },
    {
     "name": "stdout",
     "output_type": "stream",
     "text": [
      "\n"
     ]
    },
    {
     "name": "stderr",
     "output_type": "stream",
     "text": [
      "INFO:stsci.skypac.utils:-----  Data->Brightness conversion parameters for input files:  -----\n"
     ]
    },
    {
     "name": "stdout",
     "output_type": "stream",
     "text": [
      "-----  Data->Brightness conversion parameters for input files:  -----\n"
     ]
    },
    {
     "name": "stderr",
     "output_type": "stream",
     "text": [
      "INFO:stsci.skypac.utils:\n"
     ]
    },
    {
     "name": "stdout",
     "output_type": "stream",
     "text": [
      "\n"
     ]
    },
    {
     "name": "stderr",
     "output_type": "stream",
     "text": [
      "INFO:stsci.skypac.utils:   *   Image: hst_16231_01_acs_sbc_f150lp_jec401no_flt.fits\n"
     ]
    },
    {
     "name": "stdout",
     "output_type": "stream",
     "text": [
      "   *   Image: hst_16231_01_acs_sbc_f150lp_jec401no_flt.fits\n"
     ]
    },
    {
     "name": "stderr",
     "output_type": "stream",
     "text": [
      "INFO:stsci.skypac.utils:       EXT = 'SCI',1\n"
     ]
    },
    {
     "name": "stdout",
     "output_type": "stream",
     "text": [
      "       EXT = 'SCI',1\n"
     ]
    },
    {
     "name": "stderr",
     "output_type": "stream",
     "text": [
      "INFO:stsci.skypac.utils:             Data units type: COUNTS\n"
     ]
    },
    {
     "name": "stdout",
     "output_type": "stream",
     "text": [
      "             Data units type: COUNTS\n"
     ]
    },
    {
     "name": "stderr",
     "output_type": "stream",
     "text": [
      "INFO:stsci.skypac.utils:             EXPTIME: 624.0 [s]\n"
     ]
    },
    {
     "name": "stdout",
     "output_type": "stream",
     "text": [
      "             EXPTIME: 624.0 [s]\n"
     ]
    },
    {
     "name": "stderr",
     "output_type": "stream",
     "text": [
      "INFO:stsci.skypac.utils:             Conversion factor (data->brightness):  2.5641024876863545\n"
     ]
    },
    {
     "name": "stdout",
     "output_type": "stream",
     "text": [
      "             Conversion factor (data->brightness):  2.5641024876863545\n"
     ]
    },
    {
     "name": "stderr",
     "output_type": "stream",
     "text": [
      "INFO:stsci.skypac.utils:\n"
     ]
    },
    {
     "name": "stdout",
     "output_type": "stream",
     "text": [
      "\n"
     ]
    },
    {
     "name": "stderr",
     "output_type": "stream",
     "text": [
      "INFO:stsci.skypac.utils:\n"
     ]
    },
    {
     "name": "stdout",
     "output_type": "stream",
     "text": [
      "\n"
     ]
    },
    {
     "name": "stderr",
     "output_type": "stream",
     "text": [
      "INFO:stsci.skypac.utils:-----  Computing sky values requested image extensions (detector chips):  -----\n"
     ]
    },
    {
     "name": "stdout",
     "output_type": "stream",
     "text": [
      "-----  Computing sky values requested image extensions (detector chips):  -----\n"
     ]
    },
    {
     "name": "stderr",
     "output_type": "stream",
     "text": [
      "INFO:stsci.skypac.utils:\n"
     ]
    },
    {
     "name": "stdout",
     "output_type": "stream",
     "text": [
      "\n"
     ]
    },
    {
     "name": "stderr",
     "output_type": "stream",
     "text": [
      "INFO:stsci.skypac.utils:   *   Image:   'hst_16231_01_acs_sbc_f150lp_jec401no_flt.fits['SCI',1]'  --  SKY = 0.0 (brightness units)\n"
     ]
    },
    {
     "name": "stdout",
     "output_type": "stream",
     "text": [
      "   *   Image:   'hst_16231_01_acs_sbc_f150lp_jec401no_flt.fits['SCI',1]'  --  SKY = 0.0 (brightness units)\n"
     ]
    },
    {
     "name": "stderr",
     "output_type": "stream",
     "text": [
      "INFO:stsci.skypac.utils:       Sky change (data units):\n"
     ]
    },
    {
     "name": "stdout",
     "output_type": "stream",
     "text": [
      "       Sky change (data units):\n"
     ]
    },
    {
     "name": "stderr",
     "output_type": "stream",
     "text": [
      "INFO:stsci.skypac.utils:      - EXT = 'SCI',1   delta(MDRIZSKY) = 0   NEW MDRIZSKY = 0\n"
     ]
    },
    {
     "name": "stdout",
     "output_type": "stream",
     "text": [
      "      - EXT = 'SCI',1   delta(MDRIZSKY) = 0   NEW MDRIZSKY = 0\n"
     ]
    },
    {
     "name": "stderr",
     "output_type": "stream",
     "text": [
      "INFO:stsci.skypac.utils:***** skymatch ended on 2022-06-03 15:15:52.125133\n"
     ]
    },
    {
     "name": "stdout",
     "output_type": "stream",
     "text": [
      "***** skymatch ended on 2022-06-03 15:15:52.125133\n"
     ]
    },
    {
     "name": "stderr",
     "output_type": "stream",
     "text": [
      "INFO:stsci.skypac.utils:TOTAL RUN TIME: 0:00:00.085771\n"
     ]
    },
    {
     "name": "stdout",
     "output_type": "stream",
     "text": [
      "TOTAL RUN TIME: 0:00:00.085771\n"
     ]
    },
    {
     "name": "stderr",
     "output_type": "stream",
     "text": [
      "INFO:drizzlepac.util:==== Processing Step Subtract Sky finished at 15:15:52.141 (03/06/2022)\n"
     ]
    },
    {
     "name": "stdout",
     "output_type": "stream",
     "text": [
      "==== Processing Step Subtract Sky finished at 15:15:52.141 (03/06/2022)\n"
     ]
    },
    {
     "name": "stderr",
     "output_type": "stream",
     "text": [
      "INFO:drizzlepac.util:==== Processing Step  Separate Drizzle  started at  15:15:52.142 (03/06/2022)\n"
     ]
    },
    {
     "name": "stdout",
     "output_type": "stream",
     "text": [
      "==== Processing Step  Separate Drizzle  started at  15:15:52.142 (03/06/2022)\n"
     ]
    },
    {
     "name": "stderr",
     "output_type": "stream",
     "text": [
      "INFO:drizzlepac.util:\n"
     ]
    },
    {
     "name": "stdout",
     "output_type": "stream",
     "text": [
      "\n"
     ]
    },
    {
     "name": "stderr",
     "output_type": "stream",
     "text": [
      "INFO:drizzlepac.adrizzle:Interpreted paramDict with single=True as:\n",
      "{'build': True, 'stepsize': 10, 'coeffs': True, 'wcskey': '', 'kernel': 'turbo', 'wt_scl': 'exptime', 'pixfrac': 1.0, 'fillval': None, 'bits': 0, 'compress': False, 'units': 'cps'}\n",
      "INFO:drizzlepac.adrizzle:USER INPUT PARAMETERS for Separate Drizzle Step:\n",
      "INFO:drizzlepac.adrizzle:\tbits :\t0\n",
      "INFO:drizzlepac.adrizzle:\tbuild :\tFalse\n",
      "INFO:drizzlepac.adrizzle:\tclean :\tTrue\n",
      "INFO:drizzlepac.adrizzle:\tcoeffs :\tTrue\n",
      "INFO:drizzlepac.adrizzle:\tcompress :\tFalse\n",
      "INFO:drizzlepac.adrizzle:\tcrbit :\tNone\n",
      "INFO:drizzlepac.adrizzle:\tfillval :\tNone\n",
      "INFO:drizzlepac.adrizzle:\tkernel :\tturbo\n",
      "INFO:drizzlepac.adrizzle:\tnum_cores :\tNone\n",
      "INFO:drizzlepac.adrizzle:\tpixfrac :\t1.0\n",
      "INFO:drizzlepac.adrizzle:\tproc_unit :\telectrons\n",
      "INFO:drizzlepac.adrizzle:\trules_file :\tNone\n",
      "INFO:drizzlepac.adrizzle:\tstepsize :\t10\n",
      "INFO:drizzlepac.adrizzle:\tunits :\tcps\n",
      "INFO:drizzlepac.adrizzle:\twcskey :\t\n",
      "INFO:drizzlepac.adrizzle:\twht_type :\tNone\n",
      "INFO:drizzlepac.adrizzle:\twt_scl :\texptime\n",
      "INFO:drizzlepac.adrizzle:  **Using sub-sampling value of 10 for kernel turbo\n",
      "INFO:drizzlepac.adrizzle:Running Drizzle to create output frame with WCS of: \n",
      "INFO:astropy.wcs.wcs:WCS Keywords\n"
     ]
    },
    {
     "name": "stdout",
     "output_type": "stream",
     "text": [
      "WCS Keywords\n"
     ]
    },
    {
     "name": "stderr",
     "output_type": "stream",
     "text": [
      "INFO:astropy.wcs.wcs:\n"
     ]
    },
    {
     "name": "stdout",
     "output_type": "stream",
     "text": [
      "\n"
     ]
    },
    {
     "name": "stderr",
     "output_type": "stream",
     "text": [
      "INFO:astropy.wcs.wcs:Number of WCS axes: 2\n"
     ]
    },
    {
     "name": "stdout",
     "output_type": "stream",
     "text": [
      "Number of WCS axes: 2\n"
     ]
    },
    {
     "name": "stderr",
     "output_type": "stream",
     "text": [
      "INFO:astropy.wcs.wcs:CTYPE : 'RA---TAN'  'DEC--TAN'  \n"
     ]
    },
    {
     "name": "stdout",
     "output_type": "stream",
     "text": [
      "CTYPE : 'RA---TAN'  'DEC--TAN'  \n"
     ]
    },
    {
     "name": "stderr",
     "output_type": "stream",
     "text": [
      "INFO:astropy.wcs.wcs:CRVAL : 319.6011249649806  0.2921030562237356  \n"
     ]
    },
    {
     "name": "stdout",
     "output_type": "stream",
     "text": [
      "CRVAL : 319.6011249649806  0.2921030562237356  \n"
     ]
    },
    {
     "name": "stderr",
     "output_type": "stream",
     "text": [
      "INFO:astropy.wcs.wcs:CRPIX : 691.0  680.0  \n"
     ]
    },
    {
     "name": "stdout",
     "output_type": "stream",
     "text": [
      "CRPIX : 691.0  680.0  \n"
     ]
    },
    {
     "name": "stderr",
     "output_type": "stream",
     "text": [
      "INFO:astropy.wcs.wcs:CD1_1 CD1_2  : -3.7822096876335265e-06  5.824105077861544e-06  \n"
     ]
    },
    {
     "name": "stdout",
     "output_type": "stream",
     "text": [
      "CD1_1 CD1_2  : -3.7822096876335265e-06  5.824105077861544e-06  \n"
     ]
    },
    {
     "name": "stderr",
     "output_type": "stream",
     "text": [
      "INFO:astropy.wcs.wcs:CD2_1 CD2_2  : 5.824105077861544e-06  3.7822096876335265e-06  \n"
     ]
    },
    {
     "name": "stdout",
     "output_type": "stream",
     "text": [
      "CD2_1 CD2_2  : 5.824105077861544e-06  3.7822096876335265e-06  \n"
     ]
    },
    {
     "name": "stderr",
     "output_type": "stream",
     "text": [
      "INFO:astropy.wcs.wcs:NAXIS : 1382  1360\n"
     ]
    },
    {
     "name": "stdout",
     "output_type": "stream",
     "text": [
      "NAXIS : 1382  1360\n"
     ]
    },
    {
     "name": "stderr",
     "output_type": "stream",
     "text": [
      "INFO:drizzlepac.adrizzle:Executing serially\n",
      "INFO:drizzlepac.adrizzle:-Drizzle input: hst_16231_01_acs_sbc_f150lp_jec401no_flt.fits[sci,1]\n",
      "INFO:drizzlepac.adrizzle:Applying sky value of 0.000000 to hst_16231_01_acs_sbc_f150lp_jec401no_flt.fits[sci,1]\n",
      "INFO:drizzlepac.adrizzle:Using WCSLIB-based coordinate transformation...\n",
      "INFO:drizzlepac.adrizzle:stepsize = 10\n",
      "INFO:drizzlepac.cdriz:-Drizzling using kernel = turbo\n",
      "\n",
      "WARNING:drizzlepac.adrizzle:! 75 points were outside the output image.\n",
      "INFO:drizzlepac.outputimage:-Generating simple FITS output: hst_16231_01_acs_sbc_f150lp_jec401no_single_sci.fits\n"
     ]
    },
    {
     "name": "stdout",
     "output_type": "stream",
     "text": [
      "-Generating simple FITS output: hst_16231_01_acs_sbc_f150lp_jec401no_single_sci.fits\n"
     ]
    },
    {
     "name": "stderr",
     "output_type": "stream",
     "text": [
      "WARNING:py.warnings:/Users/ha/.conda/envs/astroconda/lib/python3.7/site-packages/astropy/io/fits/card.py:1010: VerifyWarning: Card is too long, comment will be truncated.\n",
      "  VerifyWarning)\n",
      "\n",
      "INFO:drizzlepac.outputimage:Writing out image to disk: hst_16231_01_acs_sbc_f150lp_jec401no_single_sci.fits\n"
     ]
    },
    {
     "name": "stdout",
     "output_type": "stream",
     "text": [
      "Writing out image to disk: hst_16231_01_acs_sbc_f150lp_jec401no_single_sci.fits\n"
     ]
    },
    {
     "name": "stderr",
     "output_type": "stream",
     "text": [
      "INFO:drizzlepac.outputimage:Writing out image to disk: hst_16231_01_acs_sbc_f150lp_jec401no_single_wht.fits\n"
     ]
    },
    {
     "name": "stdout",
     "output_type": "stream",
     "text": [
      "Writing out image to disk: hst_16231_01_acs_sbc_f150lp_jec401no_single_wht.fits\n"
     ]
    },
    {
     "name": "stderr",
     "output_type": "stream",
     "text": [
      "INFO:drizzlepac.util:==== Processing Step Separate Drizzle finished at 15:15:52.458 (03/06/2022)\n"
     ]
    },
    {
     "name": "stdout",
     "output_type": "stream",
     "text": [
      "==== Processing Step Separate Drizzle finished at 15:15:52.458 (03/06/2022)\n"
     ]
    },
    {
     "name": "stderr",
     "output_type": "stream",
     "text": [
      "INFO:drizzlepac.util:==== Processing Step  Create Median  started at  15:15:52.459 (03/06/2022)\n"
     ]
    },
    {
     "name": "stdout",
     "output_type": "stream",
     "text": [
      "==== Processing Step  Create Median  started at  15:15:52.459 (03/06/2022)\n"
     ]
    },
    {
     "name": "stderr",
     "output_type": "stream",
     "text": [
      "INFO:drizzlepac.util:\n"
     ]
    },
    {
     "name": "stdout",
     "output_type": "stream",
     "text": [
      "\n"
     ]
    },
    {
     "name": "stderr",
     "output_type": "stream",
     "text": [
      "INFO:drizzlepac.createMedian:Median combination step not performed.\n",
      "INFO:drizzlepac.util:==== Processing Step  Blot  started at  15:15:52.461 (03/06/2022)\n"
     ]
    },
    {
     "name": "stdout",
     "output_type": "stream",
     "text": [
      "==== Processing Step  Blot  started at  15:15:52.461 (03/06/2022)\n"
     ]
    },
    {
     "name": "stderr",
     "output_type": "stream",
     "text": [
      "INFO:drizzlepac.util:\n"
     ]
    },
    {
     "name": "stdout",
     "output_type": "stream",
     "text": [
      "\n"
     ]
    },
    {
     "name": "stderr",
     "output_type": "stream",
     "text": [
      "INFO:drizzlepac.ablot:Blot step not performed.\n",
      "INFO:drizzlepac.util:==== Processing Step Blot finished at 15:15:52.463 (03/06/2022)\n"
     ]
    },
    {
     "name": "stdout",
     "output_type": "stream",
     "text": [
      "==== Processing Step Blot finished at 15:15:52.463 (03/06/2022)\n"
     ]
    },
    {
     "name": "stderr",
     "output_type": "stream",
     "text": [
      "INFO:drizzlepac.util:==== Processing Step  Driz_CR  started at  15:15:52.46 (03/06/2022)\n"
     ]
    },
    {
     "name": "stdout",
     "output_type": "stream",
     "text": [
      "==== Processing Step  Driz_CR  started at  15:15:52.46 (03/06/2022)\n"
     ]
    },
    {
     "name": "stderr",
     "output_type": "stream",
     "text": [
      "INFO:drizzlepac.util:\n"
     ]
    },
    {
     "name": "stdout",
     "output_type": "stream",
     "text": [
      "\n"
     ]
    },
    {
     "name": "stderr",
     "output_type": "stream",
     "text": [
      "INFO:drizzlepac.drizCR:Cosmic-ray identification (driz_cr) step not performed.\n",
      "INFO:drizzlepac.util:==== Processing Step  Final Drizzle  started at  15:15:52.467 (03/06/2022)\n"
     ]
    },
    {
     "name": "stdout",
     "output_type": "stream",
     "text": [
      "==== Processing Step  Final Drizzle  started at  15:15:52.467 (03/06/2022)\n"
     ]
    },
    {
     "name": "stderr",
     "output_type": "stream",
     "text": [
      "INFO:drizzlepac.util:\n"
     ]
    },
    {
     "name": "stdout",
     "output_type": "stream",
     "text": [
      "\n"
     ]
    },
    {
     "name": "stderr",
     "output_type": "stream",
     "text": [
      "INFO:drizzlepac.adrizzle:Interpreted paramDict with single=False as:\n",
      "{'build': True, 'stepsize': 10, 'coeffs': True, 'wcskey': '', 'wht_type': 'EXP', 'kernel': 'square', 'wt_scl': 'exptime', 'pixfrac': 1.0, 'fillval': None, 'maskval': None, 'bits': 0, 'units': 'cps'}\n",
      "INFO:drizzlepac.adrizzle:USER INPUT PARAMETERS for Final Drizzle Step:\n",
      "INFO:drizzlepac.adrizzle:\tbits :\t0\n",
      "INFO:drizzlepac.adrizzle:\tbuild :\tTrue\n",
      "INFO:drizzlepac.adrizzle:\tclean :\tTrue\n",
      "INFO:drizzlepac.adrizzle:\tcoeffs :\tTrue\n",
      "INFO:drizzlepac.adrizzle:\tcrbit :\t4096\n",
      "INFO:drizzlepac.adrizzle:\tfillval :\tNone\n",
      "INFO:drizzlepac.adrizzle:\tkernel :\tsquare\n",
      "INFO:drizzlepac.adrizzle:\tmaskval :\tNone\n",
      "INFO:drizzlepac.adrizzle:\tpixfrac :\t1.0\n",
      "INFO:drizzlepac.adrizzle:\tproc_unit :\tnative\n",
      "INFO:drizzlepac.adrizzle:\trules_file :\tNone\n",
      "INFO:drizzlepac.adrizzle:\tstepsize :\t10\n",
      "INFO:drizzlepac.adrizzle:\tunits :\tcps\n",
      "INFO:drizzlepac.adrizzle:\twcskey :\t\n",
      "INFO:drizzlepac.adrizzle:\twht_type :\tEXP\n",
      "INFO:drizzlepac.adrizzle:\twt_scl :\texptime\n",
      "INFO:drizzlepac.adrizzle:  **Using sub-sampling value of 10 for kernel square\n",
      "INFO:drizzlepac.adrizzle:Removing previous output product...\n",
      "INFO:drizzlepac.adrizzle:Running Drizzle to create output frame with WCS of: \n",
      "INFO:astropy.wcs.wcs:WCS Keywords\n"
     ]
    },
    {
     "name": "stdout",
     "output_type": "stream",
     "text": [
      "WCS Keywords\n"
     ]
    },
    {
     "name": "stderr",
     "output_type": "stream",
     "text": [
      "INFO:astropy.wcs.wcs:\n"
     ]
    },
    {
     "name": "stdout",
     "output_type": "stream",
     "text": [
      "\n"
     ]
    },
    {
     "name": "stderr",
     "output_type": "stream",
     "text": [
      "INFO:astropy.wcs.wcs:Number of WCS axes: 2\n"
     ]
    },
    {
     "name": "stdout",
     "output_type": "stream",
     "text": [
      "Number of WCS axes: 2\n"
     ]
    },
    {
     "name": "stderr",
     "output_type": "stream",
     "text": [
      "INFO:astropy.wcs.wcs:CTYPE : 'RA---TAN'  'DEC--TAN'  \n"
     ]
    },
    {
     "name": "stdout",
     "output_type": "stream",
     "text": [
      "CTYPE : 'RA---TAN'  'DEC--TAN'  \n"
     ]
    },
    {
     "name": "stderr",
     "output_type": "stream",
     "text": [
      "INFO:astropy.wcs.wcs:CRVAL : 319.6011249649806  0.2921030562237356  \n"
     ]
    },
    {
     "name": "stdout",
     "output_type": "stream",
     "text": [
      "CRVAL : 319.6011249649806  0.2921030562237356  \n"
     ]
    },
    {
     "name": "stderr",
     "output_type": "stream",
     "text": [
      "INFO:astropy.wcs.wcs:CRPIX : 691.0  680.0  \n"
     ]
    },
    {
     "name": "stdout",
     "output_type": "stream",
     "text": [
      "CRPIX : 691.0  680.0  \n"
     ]
    },
    {
     "name": "stderr",
     "output_type": "stream",
     "text": [
      "INFO:astropy.wcs.wcs:CD1_1 CD1_2  : -3.7822096876335265e-06  5.824105077861544e-06  \n"
     ]
    },
    {
     "name": "stdout",
     "output_type": "stream",
     "text": [
      "CD1_1 CD1_2  : -3.7822096876335265e-06  5.824105077861544e-06  \n"
     ]
    },
    {
     "name": "stderr",
     "output_type": "stream",
     "text": [
      "INFO:astropy.wcs.wcs:CD2_1 CD2_2  : 5.824105077861544e-06  3.7822096876335265e-06  \n"
     ]
    },
    {
     "name": "stdout",
     "output_type": "stream",
     "text": [
      "CD2_1 CD2_2  : 5.824105077861544e-06  3.7822096876335265e-06  \n"
     ]
    },
    {
     "name": "stderr",
     "output_type": "stream",
     "text": [
      "INFO:astropy.wcs.wcs:NAXIS : 1382  1360\n"
     ]
    },
    {
     "name": "stdout",
     "output_type": "stream",
     "text": [
      "NAXIS : 1382  1360\n"
     ]
    },
    {
     "name": "stderr",
     "output_type": "stream",
     "text": [
      "INFO:drizzlepac.adrizzle:-Drizzle input: hst_16231_01_acs_sbc_f150lp_jec401no_flt.fits[sci,1]\n",
      "INFO:drizzlepac.adrizzle:Applying sky value of 0.000000 to hst_16231_01_acs_sbc_f150lp_jec401no_flt.fits[sci,1]\n",
      "WARNING:drizzlepac.adrizzle:No CR mask file found! Input DQ array not updated.\n",
      "INFO:drizzlepac.imageObject:Applying EXPTIME weighting to DQ mask for chip 1\n",
      "INFO:drizzlepac.adrizzle:Using WCSLIB-based coordinate transformation...\n",
      "INFO:drizzlepac.adrizzle:stepsize = 10\n",
      "INFO:drizzlepac.cdriz:-Drizzling using kernel = square\n",
      "\n",
      "INFO:drizzlepac.outputimage:-Generating multi-extension output file:  nfinal_test_drz.fits\n"
     ]
    },
    {
     "name": "stdout",
     "output_type": "stream",
     "text": [
      "-Generating multi-extension output file:  nfinal_test_drz.fits\n"
     ]
    },
    {
     "name": "stderr",
     "output_type": "stream",
     "text": [
      "INFO:stwcs.wcsutil.altwcs:Deleted all instances of WCS with key A in extensions [1]\n"
     ]
    },
    {
     "name": "stdout",
     "output_type": "stream",
     "text": [
      "Deleted all instances of WCS with key A in extensions [1]\n"
     ]
    },
    {
     "name": "stderr",
     "output_type": "stream",
     "text": [
      "INFO:stwcs.wcsutil.altwcs:Deleted all instances of WCS with key B in extensions [1]\n"
     ]
    },
    {
     "name": "stdout",
     "output_type": "stream",
     "text": [
      "Deleted all instances of WCS with key B in extensions [1]\n"
     ]
    },
    {
     "name": "stderr",
     "output_type": "stream",
     "text": [
      "INFO:drizzlepac.outputimage:Writing out to disk: nfinal_test_drz.fits\n"
     ]
    },
    {
     "name": "stdout",
     "output_type": "stream",
     "text": [
      "Writing out to disk: nfinal_test_drz.fits\n"
     ]
    },
    {
     "name": "stderr",
     "output_type": "stream",
     "text": [
      "WARNING:py.warnings:/Users/ha/.conda/envs/astroconda/lib/python3.7/site-packages/astropy/io/fits/card.py:1010: VerifyWarning: Card is too long, comment will be truncated.\n",
      "  VerifyWarning)\n",
      "\n",
      "INFO:drizzlepac.util:==== Processing Step Final Drizzle finished at 15:15:53.214 (03/06/2022)\n"
     ]
    },
    {
     "name": "stdout",
     "output_type": "stream",
     "text": [
      "==== Processing Step Final Drizzle finished at 15:15:53.214 (03/06/2022)\n"
     ]
    },
    {
     "name": "stderr",
     "output_type": "stream",
     "text": [
      "INFO:drizzlepac.astrodrizzle:\n"
     ]
    },
    {
     "name": "stdout",
     "output_type": "stream",
     "text": [
      "\n"
     ]
    },
    {
     "name": "stderr",
     "output_type": "stream",
     "text": [
      "INFO:drizzlepac.astrodrizzle:AstroDrizzle Version 3.1.8 is finished processing at 15:15:53.216 (03/06/2022).\n"
     ]
    },
    {
     "name": "stdout",
     "output_type": "stream",
     "text": [
      "AstroDrizzle Version 3.1.8 is finished processing at 15:15:53.216 (03/06/2022).\n"
     ]
    },
    {
     "name": "stderr",
     "output_type": "stream",
     "text": [
      "INFO:drizzlepac.astrodrizzle:\n"
     ]
    },
    {
     "name": "stdout",
     "output_type": "stream",
     "text": [
      "\n"
     ]
    },
    {
     "name": "stderr",
     "output_type": "stream",
     "text": [
      "INFO:drizzlepac.astrodrizzle:\n"
     ]
    },
    {
     "name": "stdout",
     "output_type": "stream",
     "text": [
      "\n"
     ]
    },
    {
     "name": "stderr",
     "output_type": "stream",
     "text": [
      "INFO:drizzlepac.util:\n"
     ]
    },
    {
     "name": "stdout",
     "output_type": "stream",
     "text": [
      "\n"
     ]
    },
    {
     "name": "stderr",
     "output_type": "stream",
     "text": [
      "INFO:drizzlepac.util:   --------------------          --------------------\n"
     ]
    },
    {
     "name": "stdout",
     "output_type": "stream",
     "text": [
      "   --------------------          --------------------\n"
     ]
    },
    {
     "name": "stderr",
     "output_type": "stream",
     "text": [
      "INFO:drizzlepac.util:                   Step          Elapsed time\n"
     ]
    },
    {
     "name": "stdout",
     "output_type": "stream",
     "text": [
      "                   Step          Elapsed time\n"
     ]
    },
    {
     "name": "stderr",
     "output_type": "stream",
     "text": [
      "INFO:drizzlepac.util:   --------------------          --------------------\n"
     ]
    },
    {
     "name": "stdout",
     "output_type": "stream",
     "text": [
      "   --------------------          --------------------\n"
     ]
    },
    {
     "name": "stderr",
     "output_type": "stream",
     "text": [
      "INFO:drizzlepac.util:\n"
     ]
    },
    {
     "name": "stdout",
     "output_type": "stream",
     "text": [
      "\n"
     ]
    },
    {
     "name": "stderr",
     "output_type": "stream",
     "text": [
      "INFO:drizzlepac.util:         Initialization          0.1471 sec.\n"
     ]
    },
    {
     "name": "stdout",
     "output_type": "stream",
     "text": [
      "         Initialization          0.1471 sec.\n"
     ]
    },
    {
     "name": "stderr",
     "output_type": "stream",
     "text": [
      "INFO:drizzlepac.util:            Static Mask          0.0360 sec.\n"
     ]
    },
    {
     "name": "stdout",
     "output_type": "stream",
     "text": [
      "            Static Mask          0.0360 sec.\n"
     ]
    },
    {
     "name": "stderr",
     "output_type": "stream",
     "text": [
      "INFO:drizzlepac.util:           Subtract Sky          0.1254 sec.\n"
     ]
    },
    {
     "name": "stdout",
     "output_type": "stream",
     "text": [
      "           Subtract Sky          0.1254 sec.\n"
     ]
    },
    {
     "name": "stderr",
     "output_type": "stream",
     "text": [
      "INFO:drizzlepac.util:       Separate Drizzle          0.3159 sec.\n"
     ]
    },
    {
     "name": "stdout",
     "output_type": "stream",
     "text": [
      "       Separate Drizzle          0.3159 sec.\n"
     ]
    },
    {
     "name": "stderr",
     "output_type": "stream",
     "text": [
      "INFO:drizzlepac.util:          Create Median          0.0000 sec.\n"
     ]
    },
    {
     "name": "stdout",
     "output_type": "stream",
     "text": [
      "          Create Median          0.0000 sec.\n"
     ]
    },
    {
     "name": "stderr",
     "output_type": "stream",
     "text": [
      "INFO:drizzlepac.util:                   Blot          0.0023 sec.\n"
     ]
    },
    {
     "name": "stdout",
     "output_type": "stream",
     "text": [
      "                   Blot          0.0023 sec.\n"
     ]
    },
    {
     "name": "stderr",
     "output_type": "stream",
     "text": [
      "INFO:drizzlepac.util:                Driz_CR          0.0000 sec.\n"
     ]
    },
    {
     "name": "stdout",
     "output_type": "stream",
     "text": [
      "                Driz_CR          0.0000 sec.\n"
     ]
    },
    {
     "name": "stderr",
     "output_type": "stream",
     "text": [
      "INFO:drizzlepac.util:          Final Drizzle          0.7477 sec.\n"
     ]
    },
    {
     "name": "stdout",
     "output_type": "stream",
     "text": [
      "          Final Drizzle          0.7477 sec.\n"
     ]
    },
    {
     "name": "stderr",
     "output_type": "stream",
     "text": [
      "INFO:drizzlepac.util:   ====================          ====================\n"
     ]
    },
    {
     "name": "stdout",
     "output_type": "stream",
     "text": [
      "   ====================          ====================\n"
     ]
    },
    {
     "name": "stderr",
     "output_type": "stream",
     "text": [
      "INFO:drizzlepac.util:                  Total          1.3744 sec.\n"
     ]
    },
    {
     "name": "stdout",
     "output_type": "stream",
     "text": [
      "                  Total          1.3744 sec.\n"
     ]
    },
    {
     "name": "stderr",
     "output_type": "stream",
     "text": [
      "INFO:drizzlepac.util:\n"
     ]
    },
    {
     "name": "stdout",
     "output_type": "stream",
     "text": [
      "\n"
     ]
    },
    {
     "name": "stderr",
     "output_type": "stream",
     "text": [
      "INFO:drizzlepac.imageObject:Removing intermediate files for hst_16231_01_acs_sbc_f150lp_jec401no_flt.fits\n",
      "INFO:drizzlepac.util:Trailer file written to:  astrodrizzle.log\n"
     ]
    },
    {
     "name": "stdout",
     "output_type": "stream",
     "text": [
      "Trailer file written to:  astrodrizzle.log\n"
     ]
    }
   ],
   "source": [
    "astrodrizzle.AstroDrizzle(no, \n",
    "                          output = 'nfinal_test', \n",
    "                          clean = True, \n",
    "                          build = True,\n",
    "                          context = False,\n",
    "                          median = False,\n",
    "                          driz_separate = True,\n",
    "                          blot = False,\n",
    "                          driz_cr = False)"
   ]
  },
  {
   "cell_type": "code",
   "execution_count": null,
   "id": "25e2135f",
   "metadata": {},
   "outputs": [],
   "source": []
  }
 ],
 "metadata": {
  "kernelspec": {
   "display_name": "Python 3 (ipykernel)",
   "language": "python",
   "name": "python3"
  },
  "language_info": {
   "codemirror_mode": {
    "name": "ipython",
    "version": 3
   },
   "file_extension": ".py",
   "mimetype": "text/x-python",
   "name": "python",
   "nbconvert_exporter": "python",
   "pygments_lexer": "ipython3",
   "version": "3.7.13"
  }
 },
 "nbformat": 4,
 "nbformat_minor": 5
}
