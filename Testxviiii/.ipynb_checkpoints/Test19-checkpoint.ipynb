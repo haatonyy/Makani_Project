{
 "cells": [
  {
   "cell_type": "code",
   "execution_count": 1,
   "id": "f4f00941",
   "metadata": {},
   "outputs": [],
   "source": [
    "from astropy.io import fits\n",
    "from matplotlib import pyplot as plt\n",
    "import numpy as np\n",
    "import glob\n",
    "import shutil\n",
    "import os"
   ]
  },
  {
   "cell_type": "code",
   "execution_count": 2,
   "id": "e1bd565b",
   "metadata": {},
   "outputs": [],
   "source": [
    "def get_center(inputfilename):\n",
    "    file = fits.open(inputfilename)\n",
    "    #WCS info from header\n",
    "    CRVAL1 = file[1].header['CRVAL1']\n",
    "    CRVAL2 = file[1].header['CRVAL2']\n",
    "    CRPIX1 = file[1].header['CRPIX1']\n",
    "    CRPIX2 = file[1].header['CRPIX2']\n",
    "    CD1_1 = file[1].header['CD1_1']\n",
    "    CD1_2 = file[1].header['CD1_2']\n",
    "    CD2_1 = file[1].header['CD2_1']\n",
    "    CD2_2 = file[1].header['CD2_2']\n",
    "    \n",
    "    A = np.array([[CD1_1, CD1_2], [CD2_1, CD2_2]])\n",
    "    A_inv = np.linalg.inv(A)\n",
    "    B = np.array([[CRVAL1],[CRVAL2]])\n",
    "    r0 = np.array([[CRPIX1],[CRPIX2]])\n",
    "    \n",
    "    def coo_pixtosky(r):\n",
    "        return np.matmul(A, r-r0) + B\n",
    "    \n",
    "    def coo_skytopix(r_sky):\n",
    "        return np.matmul(A_inv, r_sky - B) + r0\n",
    "    \n",
    "    #Target location info\n",
    "    RA_TARG = file[0].header['RA_TARG'] \n",
    "    DEC_TARG = file[0].header['DEC_TARG']\n",
    "    r_sky_TARG = np.array([[RA_TARG], [DEC_TARG]])\n",
    "    X_TARG, Y_TARG = int(coo_skytopix(r_sky_TARG)[0]), int(coo_skytopix(r_sky_TARG)[1])\n",
    "    \n",
    "    data = file[1].data\n",
    "    \n",
    "    s = 100\n",
    "    max_i = 0\n",
    "    max_j = 0\n",
    "    maxval = 0\n",
    "    for i in range(Y_TARG-s, Y_TARG+s+1):\n",
    "        for j in range(X_TARG-s, X_TARG+s+1):\n",
    "            if data[i][j] > maxval:\n",
    "                maxval = data[i][j]\n",
    "                max_i = i\n",
    "                max_j = j \n",
    "    r = 50\n",
    "    total_flux = 0\n",
    "    i_integral = 0\n",
    "    j_integral = 0\n",
    "    for i in range(max_i-r, max_i+r+1):\n",
    "        for j in range(max_j-r, max_j+r+1):\n",
    "            total_flux += data[i][j]\n",
    "            i_integral += i*data[i][j]\n",
    "            j_integral += j*data[i][j]\n",
    "    \n",
    "    i_center = i_integral/total_flux\n",
    "    j_center = j_integral/total_flux\n",
    "    \n",
    "    X_center = j_center +1\n",
    "    Y_center = i_center +1\n",
    "    r_center = np.array([[X_center], [Y_center]])\n",
    "    \n",
    "\n",
    "    return (X_center), (Y_center)"
   ]
  },
  {
   "cell_type": "code",
   "execution_count": 6,
   "id": "71c087d3",
   "metadata": {},
   "outputs": [],
   "source": [
    "path = '/Users/ha/Makani_Project/'\n",
    "lst_raw = glob.glob(path + '/data/*/*/*raw.fits')\n",
    "dark_lst = glob.glob(path + '/darks/HST/*/*raw.fits')"
   ]
  },
  {
   "cell_type": "markdown",
   "id": "f9c62d06",
   "metadata": {},
   "source": [
    "Function to create an average dark from archived data knowing a upper temperature"
   ]
  },
  {
   "cell_type": "markdown",
   "id": "4e5a2886",
   "metadata": {},
   "source": [
    "Flag out the galaxy from each frame ( real data )"
   ]
  },
  {
   "cell_type": "code",
   "execution_count": 7,
   "id": "9e288062",
   "metadata": {},
   "outputs": [
    {
     "name": "stderr",
     "output_type": "stream",
     "text": [
      "/Users/ha/.conda/envs/astroconda/lib/python3.7/site-packages/ipykernel_launcher.py:52: RuntimeWarning: invalid value encountered in long_scalars\n",
      "/Users/ha/.conda/envs/astroconda/lib/python3.7/site-packages/ipykernel_launcher.py:53: RuntimeWarning: invalid value encountered in long_scalars\n"
     ]
    },
    {
     "name": "stdout",
     "output_type": "stream",
     "text": [
      "CPU times: user 5.41 s, sys: 1.83 s, total: 7.23 s\n",
      "Wall time: 11.9 s\n"
     ]
    }
   ],
   "source": [
    "%%time\n",
    "#dark_file = fits.open('avg_dark_archived_uppertemp24.fits')\n",
    "total_exptime = 0\n",
    "\n",
    "for i in range(len(lst_raw)):\n",
    "    flaged_table = np.ones((1024,1024))\n",
    "    flaged_subtracted = np.zeros((1024, 1024))\n",
    "    \n",
    "    filename = lst_raw[i]\n",
    "    rawfile = fits.open(filename)\n",
    "    rawdata = rawfile[1].data\n",
    "    exptime = rawfile[0].header['EXPTIME']\n",
    "    rootname = rawfile[0].header['ROOTNAME']\n",
    "    \n",
    "    x_center, y_center = get_center(filename)\n",
    "    if np.isnan(x_center) or np.isnan(y_center):\n",
    "        continue\n",
    "    x_center, y_center = int(x_center), int(y_center)    \n",
    "    \n",
    "    #flag_table; flag_subtracted table\n",
    "    flaged_subtracted = fits.open(filename)[1].data\n",
    "    \n",
    "    e = 30\n",
    "    for i in range(y_center -e, y_center + e):\n",
    "        for j in range(x_center - e, x_center + e):\n",
    "            flaged_table[i][j] = 0.0\n",
    "            flaged_subtracted[i][j] = 0\n",
    "\n",
    "            \n",
    "    #create a flaged file\n",
    "    Primary = rawfile['Primary']\n",
    "    SCI = fits.ImageHDU(rawdata, name = 'SCI', header = rawfile['SCI'].header)\n",
    "    FLAG = fits.ImageHDU(flaged_table, name = 'FLAG')\n",
    "    FLAG_subtracted = fits.ImageHDU(flaged_subtracted, name = 'FS')\n",
    "    hdul = fits.HDUList([Primary, SCI, FLAG, FLAG_subtracted])\n",
    "    hdul.writeto(rootname + '_flaged.fits', overwrite = True)\n",
    "    \n",
    "    \n",
    "    #create a subtracted file\n",
    "    #dark_frame = dark_file[0].data * exptime\n",
    "    #new_data = rawdata - dark_frame\n",
    "    \n",
    "    #subtracted_SCI = fits.ImageHDU(new_data, name = 'SCI', header = rawfile['SCI'].header)\n",
    "    #subtracted_hdul = fits.HDUList([Primary, subtracted_SCI, FLAG])\n",
    "    #subtracted_hdul.writeto(filename[-18:-9] + '_subtracted_24.fits', overwrite = True)\n",
    "    "
   ]
  },
  {
   "cell_type": "code",
   "execution_count": 8,
   "id": "c8fcb431",
   "metadata": {},
   "outputs": [],
   "source": [
    "directory_name = 'flaged'\n",
    "parent_path = '/Users/ha/Makani_Project/Testxviiii'\n",
    "path = os.path.join(parent_path, directory_name)\n",
    "os.makedirs(path)"
   ]
  },
  {
   "cell_type": "code",
   "execution_count": 9,
   "id": "8e8c8ee1",
   "metadata": {},
   "outputs": [],
   "source": [
    "old_flaged_lst = glob.glob('*_flaged.fits')\n",
    "for files_path in old_flaged_lst:\n",
    "    shutil.move(files_path, path)"
   ]
  },
  {
   "cell_type": "markdown",
   "id": "329261ff",
   "metadata": {},
   "source": [
    "Combine all the flaged file to create a new dark frame"
   ]
  },
  {
   "cell_type": "code",
   "execution_count": 10,
   "id": "e9d6cb74",
   "metadata": {},
   "outputs": [
    {
     "name": "stdout",
     "output_type": "stream",
     "text": [
      "CPU times: user 986 ms, sys: 161 ms, total: 1.15 s\n",
      "Wall time: 1.97 s\n"
     ]
    }
   ],
   "source": [
    "%%time\n",
    "flaged_lst =  glob.glob('flaged/*_flaged.fits')\n",
    "sumdata_1subtracted = np.zeros((1024,1024))\n",
    "exptime_table = np.zeros((1024,1024))\n",
    "for filename in flaged_lst:\n",
    "        file = fits.open(filename)\n",
    "        data = file[1].data\n",
    "        flaged_table = file['FLAG'].data\n",
    "        flaged_subtracted = file['FS'].data\n",
    "        exptime = file[0].header['EXPTIME']\n",
    "\n",
    "        exptime_table += exptime * flaged_table\n",
    "        sumdata_1subtracted += flaged_subtracted\n",
    "        #print(file[0].header['DATE'])\n",
    "for i in range(0, 1024):\n",
    "    for j in range(0, 1024):\n",
    "        sumdata_1subtracted[i][j] /= exptime_table[i][j]\n",
    "\n",
    "Primary = fits.PrimaryHDU()\n",
    "SCI = fits.ImageHDU(sumdata_1subtracted, name = 'SCI')\n",
    "hdul = fits.HDUList([Primary, SCI])\n",
    "hdul.writeto('avg_dark_summed_data.fits', overwrite = True)"
   ]
  },
  {
   "cell_type": "code",
   "execution_count": 11,
   "id": "02b88e31",
   "metadata": {},
   "outputs": [],
   "source": [
    "arch_temp_2022 = []\n",
    "arch_darks_2022 = []\n",
    "for item in dark_lst:\n",
    "    file = fits.open(item)\n",
    "    exptime = file[0].header['EXPTIME']\n",
    "    temp = (file[1].header['MDECODT1'] + file[1].header['MDECODT2']) /2 \n",
    "    year = int(file[0].header['DATE-OBS'][:4])\n",
    "    data_ps = file[1].data/ exptime\n",
    "    \n",
    "    if year == 2022 and temp >= 0.0 and temp <= 30.0:\n",
    "        arch_temp_2022.append(temp)\n",
    "        sample = data_ps[471: 822, 471:822]\n",
    "        darks = sum(sum(sample)) / (len(sample) * len(sample[0]))\n",
    "        arch_darks_2022.append(darks)\n",
    "\n",
    "arch_temp_2021 = []\n",
    "arch_darks_2021 = []\n",
    "for item in dark_lst:\n",
    "    file = fits.open(item)\n",
    "    exptime = file[0].header['EXPTIME']\n",
    "    temp = (file[1].header['MDECODT1'] + file[1].header['MDECODT2']) /2 \n",
    "    year = int(file[0].header['DATE-OBS'][:4])\n",
    "    data_ps = file[1].data/ exptime\n",
    "    \n",
    "    if year == 2021 and temp >= 0.0 and temp <= 30.0:\n",
    "        arch_temp_2021.append(temp)\n",
    "        sample = data_ps[471: 822, 471:822]\n",
    "        darks = sum(sum(sample)) / (len(sample) * len(sample[0]))\n",
    "        arch_darks_2021.append(darks)\n",
    "        \n",
    "arch_temp_2020 = []\n",
    "arch_darks_2020 = []\n",
    "for item in dark_lst:\n",
    "    file = fits.open(item)\n",
    "    exptime = file[0].header['EXPTIME']\n",
    "    temp = (file[1].header['MDECODT1'] + file[1].header['MDECODT2']) /2 \n",
    "    year = int(file[0].header['DATE-OBS'][:4])\n",
    "    data_ps = file[1].data/ exptime\n",
    "    \n",
    "    if year == 2020 and temp >= 0.0 and temp <= 30.0:\n",
    "        arch_temp_2020.append(temp)\n",
    "        sample = data_ps[471: 822, 471:822]\n",
    "        darks = sum(sum(sample)) / (len(sample) * len(sample[0]))\n",
    "        arch_darks_2020.append(darks)\n",
    "        \n",
    "data_temp = []\n",
    "data_darks = []\n",
    "for item in flaged_lst:\n",
    "    file = fits.open(item)\n",
    "    exptime = file[0].header['EXPTIME']\n",
    "    temp = (file[1].header['MDECODT1'] + file[1].header['MDECODT2']) /2 \n",
    "    data_ps = file[1].data/ exptime\n",
    "    \n",
    "    data_temp.append(temp)\n",
    "    sample = data_ps[471:822 , 471:822]\n",
    "    darks = sum(sum(sample)) /( (len(sample) * len(sample[0])) - (2*e)**2)\n",
    "    data_darks.append(darks)\n"
   ]
  },
  {
   "cell_type": "code",
   "execution_count": 12,
   "id": "bf5e49b3",
   "metadata": {},
   "outputs": [
    {
     "data": {
      "text/plain": [
       "<matplotlib.legend.Legend at 0x7ff759966110>"
      ]
     },
     "execution_count": 12,
     "metadata": {},
     "output_type": "execute_result"
    },
    {
     "data": {
      "image/png": "[encoded data removed]",
      "text/plain": [
       "<Figure size 432x288 with 1 Axes>"
      ]
     },
     "metadata": {
      "needs_background": "light"
     },
     "output_type": "display_data"
    }
   ],
   "source": [
    "#plt.plot(arch_temp_2020, arch_darks_2020, '.', label = 'archived_2020')    \n",
    "plt.plot(arch_temp_2021, arch_darks_2021, '.', label = 'archived_2021')\n",
    "plt.plot(arch_temp_2022, arch_darks_2022, '.', label = 'archived_2022')\n",
    "plt.plot(data_temp, data_darks, '.', label = 'data')\n",
    "plt.legend()"
   ]
  },
  {
   "cell_type": "code",
   "execution_count": 13,
   "id": "11fe2bce",
   "metadata": {},
   "outputs": [],
   "source": [
    "data_temp = []\n",
    "data_darks = []\n",
    "visit_lst = [1, 3, 4, 5, 7, 8, 9, 10, 56, 57, 58]\n",
    "for visit_num in visit_lst:\n",
    "    l = []\n",
    "    t = []\n",
    "    for item in flaged_lst:\n",
    "        file = fits.open(item)\n",
    "        exptime = file[0].header['EXPTIME']\n",
    "        temp = (file[1].header['MDECODT1'] + file[1].header['MDECODT2']) /2 \n",
    "        year = (file[0].header['DATE-OBS'])\n",
    "        data_ps = file[1].data/ exptime\n",
    "        visit = int(file[0].header['LINENUM'][:2])\n",
    "        \n",
    "        if visit == visit_num:\n",
    "            #print(visit_num, year)\n",
    "\n",
    "            t.append(temp)\n",
    "            sample = data_ps[471:822 , 471:822]\n",
    "            #sample = data_ps\n",
    "            darks = sum(sum(sample)) /( (len(sample) * len(sample[0])) - (2*e)**2)\n",
    "            l.append(darks)\n",
    "    data_darks.append(l)\n",
    "    data_temp.append(t)"
   ]
  },
  {
   "cell_type": "code",
   "execution_count": 14,
   "id": "87bfda83",
   "metadata": {},
   "outputs": [
    {
     "data": {
      "image/png": "[encoded data removed]",
      "text/plain": [
       "<Figure size 432x288 with 1 Axes>"
      ]
     },
     "metadata": {
      "needs_background": "light"
     },
     "output_type": "display_data"
    }
   ],
   "source": [
    "for i in range(len(data_darks)):\n",
    "    plt.plot(data_temp[i], data_darks[i], 'o', label = '#'+str(visit_lst[i]))\n",
    "    plt.legend()\n",
    "    #plt.show()"
   ]
  },
  {
   "cell_type": "markdown",
   "id": "5983e23e",
   "metadata": {},
   "source": [
    "Create primary dark"
   ]
  },
  {
   "cell_type": "markdown",
   "id": "27c788e6",
   "metadata": {},
   "source": [
    "# CHECKPOINT"
   ]
  },
  {
   "cell_type": "code",
   "execution_count": 29,
   "id": "d53557ee",
   "metadata": {},
   "outputs": [],
   "source": [
    "uptemp = 22"
   ]
  },
  {
   "cell_type": "code",
   "execution_count": 30,
   "id": "de2684ac",
   "metadata": {},
   "outputs": [
    {
     "name": "stdout",
     "output_type": "stream",
     "text": [
      "43\n",
      "CPU times: user 2.87 s, sys: 215 ms, total: 3.08 s\n",
      "Wall time: 5.13 s\n"
     ]
    }
   ],
   "source": [
    "%%time\n",
    "sumdata_1subtracted = np.zeros((1024,1024))\n",
    "exptime_table = np.zeros((1024,1024))\n",
    "num_files_combined = 0\n",
    "for filename in flaged_lst:\n",
    "    file = fits.open(filename)\n",
    "    data = file[1].data\n",
    "    flaged_table = file['FLAG'].data\n",
    "    flaged_subtracted = file['FS'].data\n",
    "    exptime = file[0].header['EXPTIME']\n",
    "    temp = (file[1].header['MDECODT1'] + file[1].header['MDECODT2']) /2 \n",
    "        \n",
    "    if temp > uptemp:\n",
    "        continue\n",
    "    num_files_combined += 1\n",
    "    exptime_table += exptime * flaged_table\n",
    "    sumdata_1subtracted += flaged_subtracted\n",
    "        \n",
    "for filename in dark_lst:\n",
    "    file = fits.open(filename)\n",
    "    data = file[1].data\n",
    "    exptime = file[0].header['EXPTIME']\n",
    "    temp = (file[1].header['MDECODT1'] + file[1].header['MDECODT2']) /2 \n",
    "    flaged_table = np.ones((1024, 1024))\n",
    "    year = int(file[0].header['DATE-OBS'][:4])\n",
    "    if temp <= uptemp and temp >= 0.0 and year >= 2021:\n",
    "        num_files_combined += 1\n",
    "        exptime_table += exptime * flaged_table\n",
    "        sumdata_1subtracted += data\n",
    "\n",
    "for i in range(0, 1024):\n",
    "    for j in range(0, 1024):\n",
    "        sumdata_1subtracted[i][j] /= exptime_table[i][j]\n",
    "\n",
    "print(num_files_combined)\n",
    "Primary = fits.PrimaryHDU()\n",
    "SCI = fits.ImageHDU(sumdata_1subtracted, name = 'SCI')\n",
    "hdul = fits.HDUList([Primary, SCI])\n",
    "hdul.writeto('primary_dark_uptemp_'+str(uptemp)+'.fits', overwrite = True)"
   ]
  },
  {
   "cell_type": "markdown",
   "id": "2d17e81b",
   "metadata": {},
   "source": [
    "Primary Dark Subtraction"
   ]
  },
  {
   "cell_type": "code",
   "execution_count": 31,
   "id": "af17f7ba",
   "metadata": {},
   "outputs": [],
   "source": [
    "pri_dark = fits.open('primary_dark_uptemp_'+str(uptemp)+'.fits')\n",
    "dark_data = pri_dark[1].data\n",
    "\n",
    "for filename in flaged_lst:\n",
    "    file = fits.open(filename)\n",
    "    exptime = file[0].header['EXPTIME']\n",
    "    temp = (file[1].header['MDECODT1'] + file[1].header['MDECODT2']) /2 \n",
    "    real_data = file[1].data\n",
    "    rootname = file[0].header['ROOTNAME']\n",
    "    new_data = real_data - dark_data * exptime \n",
    "    \n",
    "    Primary = file[0]\n",
    "    SCI = fits.ImageHDU(new_data, header = file[1].header, name = 'SCI')\n",
    "    \n",
    "    hdul = fits.HDUList([Primary, SCI])\n",
    "    \n",
    "    hdul.writeto(rootname + '_1subtracted_'+str(uptemp)+'.fits', overwrite = True)"
   ]
  },
  {
   "cell_type": "code",
   "execution_count": 32,
   "id": "f878382f",
   "metadata": {},
   "outputs": [],
   "source": [
    "directory_name = '1subtracted_' + str(uptemp)\n",
    "parent_path = '/Users/ha/Makani_Project/Testxviiii'\n",
    "path = os.path.join(parent_path, directory_name)\n",
    "os.makedirs(path)"
   ]
  },
  {
   "cell_type": "code",
   "execution_count": 33,
   "id": "b7d742e0",
   "metadata": {},
   "outputs": [],
   "source": [
    "old_1subtracted_lst = glob.glob('*_1subtracted_'+str(uptemp)+'.fits')\n",
    "for files_path in old_1subtracted_lst:\n",
    "    shutil.move(files_path, path)"
   ]
  },
  {
   "cell_type": "code",
   "execution_count": 34,
   "id": "8baee9a7",
   "metadata": {},
   "outputs": [],
   "source": [
    "pri_subtracted_lst = glob.glob('1subtracted_'+str(uptemp)+'/*_1subtracted_'+str(uptemp)+'.fits')"
   ]
  },
  {
   "cell_type": "code",
   "execution_count": 46,
   "id": "69e23715",
   "metadata": {},
   "outputs": [
    {
     "data": {
      "text/plain": [
       "[<matplotlib.lines.Line2D at 0x7ff73893c5d0>]"
      ]
     },
     "execution_count": 46,
     "metadata": {},
     "output_type": "execute_result"
    },
    {
     "data": {
      "image/png": "[encoded data removed]",
      "text/plain": [
       "<Figure size 432x288 with 1 Axes>"
      ]
     },
     "metadata": {
      "needs_background": "light"
     },
     "output_type": "display_data"
    }
   ],
   "source": [
    "width_2dark = 300\n",
    "x_2dark = 600\n",
    "y_2dark = 650\n",
    "temps = []\n",
    "res = []\n",
    "for filename in pri_subtracted_lst:\n",
    "    #print(filename)\n",
    "    file = fits.open(filename)\n",
    "    data = file[1].data\n",
    "    \n",
    "    exptime = file[0].header['EXPTIME']\n",
    "    temp = (file[1].header['MDECODT1'] + file[1].header['MDECODT2']) /2 \n",
    "    X_center = int(get_center(filename)[0])\n",
    "    Y_center = int(get_center(filename)[1])\n",
    "    \n",
    "    e = 50\n",
    "    for i in range(Y_center - e, Y_center + e):\n",
    "        for j in range(X_center - e, X_center + e):\n",
    "            data[i][j] = 0\n",
    "    sample = data[y_2dark - width_2dark: y_2dark + width_2dark,\n",
    "                                   x_2dark - width_2dark: x_2dark + width_2dark]\n",
    "\n",
    "    temps.append(temp)\n",
    "    res.append( sum(sum(sample)) / (sample.size - e**2) )    \n",
    "\n",
    "#temps_24 = []\n",
    "#res_24 = []\n",
    "#for filename in pri_subtracted_lst_24:\n",
    "#    #print(filename)\n",
    "#    file = fits.open(filename)\n",
    "#    data = file[1].data\n",
    "#    \n",
    "#    exptime = file[0].header['EXPTIME']\n",
    "#    temp = (file[1].header['MDECODT1'] + file[1].header['MDECODT2']) /2 \n",
    "#    X_center = int(get_center(filename)[0])\n",
    "#    Y_center = int(get_center(filename)[1])\n",
    "#    \n",
    "#    e = 50\n",
    "#    for i in range(Y_center - e, Y_center + e):\n",
    "#        for j in range(X_center - e, X_center + e):\n",
    "#            data[i][j] = 0\n",
    "#    sample = data[y_2dark - width_2dark: y_2dark + width_2dark,\n",
    "#                                   x_2dark - width_2dark: x_2dark + width_2dark]\n",
    "#    \n",
    "#    temps_24.append(temp)\n",
    "#    res_24.append( sum(sum(sample)) / (sample.size - e**2) )\n",
    "plt.plot(temps, res, '.')\n",
    "plt.plot(temps, [0] * len(temps))\n",
    "#plt.plot(temps_24, res_24, '.')"
   ]
  },
  {
   "cell_type": "code",
   "execution_count": 47,
   "id": "bd4ab7f4",
   "metadata": {},
   "outputs": [
    {
     "data": {
      "text/plain": [
       "[-0.003178486078125675,\n",
       " -0.002810565907919147,\n",
       " -0.0023801734571258686,\n",
       " -0.002277217208891742,\n",
       " -0.0022704347396923096,\n",
       " -0.0022627401401917394,\n",
       " -0.002223446355220813,\n",
       " -0.0021101226770178444,\n",
       " -0.0015620506618429725,\n",
       " -0.0011809316553365627,\n",
       " -0.0010961830304710054,\n",
       " -0.0010814826408129619,\n",
       " -0.000767707616385005,\n",
       " -0.0006710868061976906,\n",
       " -0.0005952523343759786,\n",
       " 0.00021255919184939032,\n",
       " 0.0003664798928932986,\n",
       " 0.000575643618306618,\n",
       " 0.001153420710359832,\n",
       " 0.0012368729040902772,\n",
       " 0.0012983050151638945,\n",
       " 0.001306798971001924,\n",
       " 0.0013913073068648055,\n",
       " 0.001674736968342258,\n",
       " 0.0018285302772934066,\n",
       " 0.0019450710410828511,\n",
       " 0.0022347627839558533,\n",
       " 0.0023262380046100506,\n",
       " 0.0030095807028044297,\n",
       " 0.0030200134017448216,\n",
       " 0.0032365210649969722,\n",
       " 0.003237836588511638,\n",
       " 0.0032596744672449356,\n",
       " 0.0035800448600795567,\n",
       " 0.004206033117604747,\n",
       " 0.004878836264512471,\n",
       " 0.005286435060156175,\n",
       " 0.005341255379768814,\n",
       " 0.00587807248573976,\n",
       " 0.006785826563527974,\n",
       " 0.0068153711626534235,\n",
       " 0.0074744542404048325,\n",
       " 0.008393627751080348,\n",
       " 0.00918490519835331,\n",
       " 0.01075672485843651,\n",
       " 0.01092647989948361,\n",
       " 0.011153883291875727,\n",
       " 0.01144223282378155,\n",
       " 0.011652598796473157,\n",
       " 0.012290975552225275,\n",
       " 0.013989084921022717,\n",
       " 0.015306975415604255,\n",
       " 0.01595868435132212,\n",
       " 0.01671953222609883,\n",
       " 0.01767089552882197,\n",
       " 0.019260735493953525,\n",
       " 0.019792348694448736,\n",
       " 0.022950452602104435,\n",
       " 0.02398362811067201,\n",
       " 0.026230087780247036,\n",
       " 0.029995125714229458,\n",
       " 0.03077051130336555,\n",
       " 0.031299885643788515,\n",
       " 0.032998116935729405,\n",
       " 0.03535221277677949,\n",
       " 0.03546446913248523,\n",
       " 0.036013699008878006,\n",
       " 0.04016399478825562,\n",
       " 0.04152526000910188,\n",
       " 0.04187335795436583,\n",
       " 0.05476132574633304,\n",
       " 0.05885815760640108,\n",
       " 0.06063950719591959,\n",
       " 0.06555945102225634]"
      ]
     },
     "execution_count": 47,
     "metadata": {},
     "output_type": "execute_result"
    }
   ],
   "source": [
    "res.sort()\n",
    "res"
   ]
  },
  {
   "cell_type": "markdown",
   "id": "045aa637",
   "metadata": {},
   "source": [
    "Create secondary dark"
   ]
  },
  {
   "cell_type": "code",
   "execution_count": 41,
   "id": "78edf497",
   "metadata": {},
   "outputs": [],
   "source": [
    "pri_dark = fits.open('primary_dark_uptemp_'+str(uptemp)+'.fits')\n",
    "real_dark = fits.open('avg_dark_summed_data.fits')\n",
    "\n",
    "pri_dark_data = pri_dark[1].data\n",
    "real_dark_data = real_dark[1].data\n",
    "\n",
    "data = real_dark_data - pri_dark_data\n",
    "Primary = fits.PrimaryHDU(data)\n",
    "hdul = fits.HDUList([Primary])\n",
    "hdul.writeto('secondary_dark_'+str(uptemp)+'.fits', overwrite = True)"
   ]
  },
  {
   "cell_type": "markdown",
   "id": "9755f5e5",
   "metadata": {},
   "source": [
    "Secondary Dark Subtraction"
   ]
  },
  {
   "cell_type": "code",
   "execution_count": 42,
   "id": "865f7478",
   "metadata": {},
   "outputs": [
    {
     "data": {
      "image/png": "[encoded data removed]",
      "text/plain": [
       "<Figure size 432x288 with 1 Axes>"
      ]
     },
     "metadata": {
      "needs_background": "light"
     },
     "output_type": "display_data"
    },
    {
     "name": "stdout",
     "output_type": "stream",
     "text": [
      "CPU times: user 9.24 s, sys: 1.08 s, total: 10.3 s\n",
      "Wall time: 13.1 s\n"
     ]
    }
   ],
   "source": [
    "%%time\n",
    "width_2dark = 200\n",
    "x_2dark = 600\n",
    "y_2dark = 650\n",
    "sec_dark = fits.open('secondary_dark_'+str(uptemp)+'.fits')\n",
    "data_2dark = sec_dark[0].data\n",
    "sec_dark_sample = data_2dark[y_2dark - width_2dark: y_2dark + width_2dark,\n",
    "                                   x_2dark - width_2dark: x_2dark + width_2dark]\n",
    "A_2dark_ps = sum(sum(sec_dark_sample)) / (sec_dark_sample.size) \n",
    "\n",
    "temps = []\n",
    "coeffs = []\n",
    "for filename in pri_subtracted_lst:\n",
    "    file = fits.open(filename)\n",
    "    data = file[1].data\n",
    "    \n",
    "    exptime = file[0].header['EXPTIME']\n",
    "    temp = (file[1].header['MDECODT1'] + file[1].header['MDECODT2']) /2 \n",
    "    rootname = file[0].header['ROOTNAME']\n",
    "    X_center = int(get_center(filename)[0])\n",
    "    Y_center = int(get_center(filename)[1])\n",
    "    \n",
    "    \n",
    "    sumdata = 0\n",
    "    num_val = 0\n",
    "    e = 50\n",
    "    for i in range(y_2dark - width_2dark, y_2dark + width_2dark):\n",
    "        for j in range(x_2dark - width_2dark, x_2dark + width_2dark):\n",
    "            if i >= Y_center - e and i < Y_center + e and j >= X_center - e and j< X_center + e:\n",
    "                continue\n",
    "            sumdata += data[i][j]\n",
    "            num_val += 1\n",
    "    \n",
    "    A_data = sumdata/ num_val \n",
    "    \n",
    "    k = A_data/( A_2dark_ps * exptime) \n",
    "    if k < 0:\n",
    "        k = 0\n",
    "    coeffs.append(k)\n",
    "    temps.append(temp)\n",
    "    \n",
    "    new_data = data - k * data_2dark * exptime\n",
    "    Primary = file[0]\n",
    "    SCI = fits.ImageHDU(new_data, header = file[1].header, name = 'SCI')\n",
    "    \n",
    "    hdul = fits.HDUList([Primary, SCI])\n",
    "    \n",
    "    hdul.writeto(rootname + '_2subtracted_'+str(uptemp)+'.fits', overwrite = True)\n",
    "    #print(temp, np.median(coeff))\n",
    "plt.plot(temps,coeffs, '.')\n",
    "plt.plot(temps, [0] * len(temps))\n",
    "plt.show()"
   ]
  },
  {
   "cell_type": "code",
   "execution_count": 43,
   "id": "04a9fd80",
   "metadata": {},
   "outputs": [
    {
     "data": {
      "text/plain": [
       "[0,\n",
       " 0,\n",
       " 0,\n",
       " 0,\n",
       " 0,\n",
       " 0,\n",
       " 0,\n",
       " 0,\n",
       " 0,\n",
       " 0,\n",
       " 0,\n",
       " 0,\n",
       " 0,\n",
       " 0,\n",
       " 0,\n",
       " 0,\n",
       " 0,\n",
       " 0,\n",
       " 0.06443074649322421,\n",
       " 0.07747689819109295,\n",
       " 0.08744924055259629,\n",
       " 0.08913958136575127,\n",
       " 0.10764514786754861,\n",
       " 0.10907900136989462,\n",
       " 0.11707439729510447,\n",
       " 0.1283460660899929,\n",
       " 0.1415193159787541,\n",
       " 0.1720635885415945,\n",
       " 0.18454346166447103,\n",
       " 0.2116483451263711,\n",
       " 0.21358710080855425,\n",
       " 0.22134212353704782,\n",
       " 0.257317846630636,\n",
       " 0.27919837051504626,\n",
       " 0.2811437293870351,\n",
       " 0.3287491883275171,\n",
       " 0.44496645622570735,\n",
       " 0.45017971274917407,\n",
       " 0.45260112746147285,\n",
       " 0.4726048599422904,\n",
       " 0.5014676592933548,\n",
       " 0.6673996337266737,\n",
       " 0.6732403903495376,\n",
       " 0.7548649573065493,\n",
       " 0.7864472023806616,\n",
       " 0.895055387206653,\n",
       " 0.905491219709131,\n",
       " 0.9212349161919166,\n",
       " 0.9305062158241312,\n",
       " 1.0450702482612308,\n",
       " 1.1041585495711104,\n",
       " 1.1725712293095767,\n",
       " 1.3063852966280338,\n",
       " 1.400480342535466,\n",
       " 1.4064111798280565,\n",
       " 1.5045853078143279,\n",
       " 1.6445076892366646,\n",
       " 1.8917270228055008,\n",
       " 1.960686389442204,\n",
       " 2.084313153278057,\n",
       " 2.4234203296727697,\n",
       " 2.5088514897357967,\n",
       " 2.514750317142945,\n",
       " 2.5956900042737474,\n",
       " 2.7920080868973667,\n",
       " 2.86823780876921,\n",
       " 2.9698969531789863,\n",
       " 3.269383000978289,\n",
       " 3.273363525353534,\n",
       " 3.2970586575633667,\n",
       " 4.362506419984129,\n",
       " 4.74000930388838,\n",
       " 4.8333033985446265,\n",
       " 5.1955104762243955]"
      ]
     },
     "execution_count": 43,
     "metadata": {},
     "output_type": "execute_result"
    }
   ],
   "source": [
    "coeffs.sort()\n",
    "coeffs"
   ]
  },
  {
   "cell_type": "code",
   "execution_count": 44,
   "id": "7d720a6c",
   "metadata": {},
   "outputs": [],
   "source": [
    "directory_name = '2subtracted_' + str(uptemp)\n",
    "parent_path = '/Users/ha/Makani_Project/Testxviiii'\n",
    "path = os.path.join(parent_path, directory_name)\n",
    "os.makedirs(path)"
   ]
  },
  {
   "cell_type": "code",
   "execution_count": 45,
   "id": "41313314",
   "metadata": {},
   "outputs": [],
   "source": [
    "old_2subtracted_lst = glob.glob('*_2subtracted_'+str(uptemp)+'.fits')\n",
    "for files_path in old_2subtracted_lst:\n",
    "    shutil.move(files_path, path)"
   ]
  },
  {
   "cell_type": "code",
   "execution_count": 40,
   "id": "50c45f6b",
   "metadata": {},
   "outputs": [
    {
     "data": {
      "text/plain": [
       "[<matplotlib.lines.Line2D at 0x7ff74ae23510>]"
      ]
     },
     "execution_count": 40,
     "metadata": {},
     "output_type": "execute_result"
    },
    {
     "data": {
      "image/png": "[encoded data removed]",
      "text/plain": [
       "<Figure size 432x288 with 1 Axes>"
      ]
     },
     "metadata": {
      "needs_background": "light"
     },
     "output_type": "display_data"
    }
   ],
   "source": [
    "#sec_subtracted_lst_24 = glob.glob('2subtracted_'+str(24)+'/*_2subtracted_'+str(24)+'.fits')\n",
    "sec_subtracted_lst_22 = glob.glob('2subtracted_'+str(22)+'/*_2subtracted_'+str(22)+'.fits')\n",
    "temps_20 = []\n",
    "res_20 = []\n",
    "for filename in sec_subtracted_lst_22:\n",
    "    #print(filename)\n",
    "    file = fits.open(filename)\n",
    "    data = file[1].data\n",
    "    \n",
    "    exptime = file[0].header['EXPTIME']\n",
    "    temp = (file[1].header['MDECODT1'] + file[1].header['MDECODT2']) /2 \n",
    "    X_center = int(get_center(filename)[0])\n",
    "    Y_center = int(get_center(filename)[1])\n",
    "    \n",
    "    e = 50\n",
    "    for i in range(Y_center - e, Y_center + e):\n",
    "        for j in range(X_center - e, X_center + e):\n",
    "            data[i][j] = 0\n",
    "    \n",
    "    sample = data[y_2dark - width_2dark: y_2dark + width_2dark,\n",
    "                                   x_2dark - width_2dark: x_2dark + width_2dark]    \n",
    "    temps_20.append(temp)\n",
    "    res_20.append( sum(sum(sample)) / (sample.size - e**2) )    \n",
    "\n",
    "#temps_24 = []\n",
    "#res_24 = []\n",
    "#for filename in sec_subtracted_lst_24:\n",
    "#    #print(filename)\n",
    "#    file = fits.open(filename)\n",
    "#    data = file[1].data\n",
    "    \n",
    "#    exptime = file[0].header['EXPTIME']\n",
    "#    temp = (file[1].header['MDECODT1'] + file[1].header['MDECODT2']) /2 \n",
    "#    X_center = int(get_center(filename)[0])\n",
    "#    Y_center = int(get_center(filename)[1])\n",
    "    \n",
    "#    e = 50\n",
    "#    for i in range(Y_center - e, Y_center + e):\n",
    "#        for j in range(X_center - e, X_center + e):\n",
    "#            data[i][j] = 0\n",
    "#    sample = data[y_2dark - width_2dark: y_2dark + width_2dark,\n",
    "#                                   x_2dark - width_2dark: x_2dark + width_2dark]\n",
    "    \n",
    "#    temps_24.append(temp)\n",
    "#    res_24.append( sum(sum(sample)) / (sample.size - e**2) )\n",
    "plt.plot(temps_20, res_20, '.')\n",
    "#plt.plot(temps_24, res_24, '.')"
   ]
  },
  {
   "cell_type": "code",
   "execution_count": null,
   "id": "b88829a5",
   "metadata": {},
   "outputs": [],
   "source": []
  },
  {
   "cell_type": "code",
   "execution_count": null,
   "id": "08b9f57a",
   "metadata": {},
   "outputs": [],
   "source": []
  }
 ],
 "metadata": {
  "kernelspec": {
   "display_name": "Python 3 (ipykernel)",
   "language": "python",
   "name": "python3"
  },
  "language_info": {
   "codemirror_mode": {
    "name": "ipython",
    "version": 3
   },
   "file_extension": ".py",
   "mimetype": "text/x-python",
   "name": "python",
   "nbconvert_exporter": "python",
   "pygments_lexer": "ipython3",
   "version": "3.7.13"
  }
 },
 "nbformat": 4,
 "nbformat_minor": 5
}
