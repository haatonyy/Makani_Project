{
 "cells": [
  {
   "cell_type": "code",
   "execution_count": 51,
   "id": "f4f00941",
   "metadata": {},
   "outputs": [],
   "source": [
    "from astropy.io import fits\n",
    "from matplotlib import pyplot as plt\n",
    "import numpy as np\n",
    "import glob\n",
    "import shutil\n",
    "import os"
   ]
  },
  {
   "cell_type": "code",
   "execution_count": 52,
   "id": "e1bd565b",
   "metadata": {},
   "outputs": [],
   "source": [
    "def get_center(inputfilename):\n",
    "    file = fits.open(inputfilename)\n",
    "    #WCS info from header\n",
    "    CRVAL1 = file[1].header['CRVAL1']\n",
    "    CRVAL2 = file[1].header['CRVAL2']\n",
    "    CRPIX1 = file[1].header['CRPIX1']\n",
    "    CRPIX2 = file[1].header['CRPIX2']\n",
    "    CD1_1 = file[1].header['CD1_1']\n",
    "    CD1_2 = file[1].header['CD1_2']\n",
    "    CD2_1 = file[1].header['CD2_1']\n",
    "    CD2_2 = file[1].header['CD2_2']\n",
    "    \n",
    "    A = np.array([[CD1_1, CD1_2], [CD2_1, CD2_2]])\n",
    "    A_inv = np.linalg.inv(A)\n",
    "    B = np.array([[CRVAL1],[CRVAL2]])\n",
    "    r0 = np.array([[CRPIX1],[CRPIX2]])\n",
    "    \n",
    "    def coo_pixtosky(r):\n",
    "        return np.matmul(A, r-r0) + B\n",
    "    \n",
    "    def coo_skytopix(r_sky):\n",
    "        return np.matmul(A_inv, r_sky - B) + r0\n",
    "    \n",
    "    #Target location info\n",
    "    RA_TARG = file[0].header['RA_TARG'] \n",
    "    DEC_TARG = file[0].header['DEC_TARG']\n",
    "    r_sky_TARG = np.array([[RA_TARG], [DEC_TARG]])\n",
    "    X_TARG, Y_TARG = int(coo_skytopix(r_sky_TARG)[0]), int(coo_skytopix(r_sky_TARG)[1])\n",
    "    \n",
    "    data = file[1].data\n",
    "    \n",
    "    s = 100\n",
    "    max_i = 0\n",
    "    max_j = 0\n",
    "    maxval = 0\n",
    "    for i in range(Y_TARG-s, Y_TARG+s+1):\n",
    "        for j in range(X_TARG-s, X_TARG+s+1):\n",
    "            if data[i][j] > maxval:\n",
    "                maxval = data[i][j]\n",
    "                max_i = i\n",
    "                max_j = j \n",
    "    r = 50\n",
    "    total_flux = 0\n",
    "    i_integral = 0\n",
    "    j_integral = 0\n",
    "    for i in range(max_i-r, max_i+r+1):\n",
    "        for j in range(max_j-r, max_j+r+1):\n",
    "            total_flux += data[i][j]\n",
    "            i_integral += i*data[i][j]\n",
    "            j_integral += j*data[i][j]\n",
    "    \n",
    "    i_center = i_integral/total_flux\n",
    "    j_center = j_integral/total_flux\n",
    "    \n",
    "    X_center = j_center +1\n",
    "    Y_center = i_center +1\n",
    "    r_center = np.array([[X_center], [Y_center]])\n",
    "    \n",
    "\n",
    "    return (X_center), (Y_center)"
   ]
  },
  {
   "cell_type": "code",
   "execution_count": 53,
   "id": "71c087d3",
   "metadata": {},
   "outputs": [],
   "source": [
    "path = '/Users/ha/Makani_Project/'\n",
    "lst_raw = glob.glob(path + '/data/*/*/*raw.fits')\n",
    "dark_lst = glob.glob(path + '/darks/HST/*/*raw.fits')"
   ]
  },
  {
   "cell_type": "markdown",
   "id": "f9c62d06",
   "metadata": {},
   "source": [
    "Function to create an average dark from archived data knowing a upper temperature"
   ]
  },
  {
   "cell_type": "markdown",
   "id": "4e5a2886",
   "metadata": {},
   "source": [
    "Flag out the galaxy from each frame ( real data )"
   ]
  },
  {
   "cell_type": "code",
   "execution_count": 54,
   "id": "9e288062",
   "metadata": {},
   "outputs": [
    {
     "name": "stderr",
     "output_type": "stream",
     "text": [
      "/Users/ha/.conda/envs/astroconda/lib/python3.7/site-packages/ipykernel_launcher.py:52: RuntimeWarning: invalid value encountered in long_scalars\n",
      "/Users/ha/.conda/envs/astroconda/lib/python3.7/site-packages/ipykernel_launcher.py:53: RuntimeWarning: invalid value encountered in long_scalars\n"
     ]
    },
    {
     "name": "stdout",
     "output_type": "stream",
     "text": [
      "CPU times: user 5.24 s, sys: 1.48 s, total: 6.72 s\n",
      "Wall time: 9.11 s\n"
     ]
    }
   ],
   "source": [
    "%%time\n",
    "#dark_file = fits.open('avg_dark_archived_uppertemp24.fits')\n",
    "total_exptime = 0\n",
    "\n",
    "for i in range(len(lst_raw)):\n",
    "    flaged_table = np.ones((1024,1024))\n",
    "    flaged_subtracted = np.zeros((1024, 1024))\n",
    "    \n",
    "    filename = lst_raw[i]\n",
    "    rawfile = fits.open(filename)\n",
    "    rawdata = rawfile[1].data\n",
    "    exptime = rawfile[0].header['EXPTIME']\n",
    "    rootname = rawfile[0].header['ROOTNAME']\n",
    "    \n",
    "    x_center, y_center = get_center(filename)\n",
    "    if np.isnan(x_center) or np.isnan(y_center):\n",
    "        continue\n",
    "    x_center, y_center = int(x_center), int(y_center)    \n",
    "    \n",
    "    #flag_table; flag_subtracted table\n",
    "    flaged_subtracted = fits.open(filename)[1].data\n",
    "    \n",
    "    e = 30\n",
    "    for i in range(y_center -e, y_center + e):\n",
    "        for j in range(x_center - e, x_center + e):\n",
    "            flaged_table[i][j] = 0.0\n",
    "            flaged_subtracted[i][j] = 0\n",
    "\n",
    "            \n",
    "    #create a flaged file\n",
    "    Primary = rawfile['Primary']\n",
    "    SCI = fits.ImageHDU(rawdata, name = 'SCI', header = rawfile['SCI'].header)\n",
    "    FLAG = fits.ImageHDU(flaged_table, name = 'FLAG')\n",
    "    FLAG_subtracted = fits.ImageHDU(flaged_subtracted, name = 'FS')\n",
    "    hdul = fits.HDUList([Primary, SCI, FLAG, FLAG_subtracted])\n",
    "    hdul.writeto(rootname + '_flaged.fits', overwrite = True)\n",
    "    \n",
    "    \n",
    "    #create a subtracted file\n",
    "    #dark_frame = dark_file[0].data * exptime\n",
    "    #new_data = rawdata - dark_frame\n",
    "    \n",
    "    #subtracted_SCI = fits.ImageHDU(new_data, name = 'SCI', header = rawfile['SCI'].header)\n",
    "    #subtracted_hdul = fits.HDUList([Primary, subtracted_SCI, FLAG])\n",
    "    #subtracted_hdul.writeto(filename[-18:-9] + '_subtracted_24.fits', overwrite = True)\n",
    "    "
   ]
  },
  {
   "cell_type": "code",
   "execution_count": 55,
   "id": "c8fcb431",
   "metadata": {},
   "outputs": [],
   "source": [
    "directory_name = 'flaged'\n",
    "parent_path = '/Users/ha/Makani_Project/Testxviiii'\n",
    "path = os.path.join(parent_path, directory_name)\n",
    "os.makedirs(path)"
   ]
  },
  {
   "cell_type": "code",
   "execution_count": 56,
   "id": "8e8c8ee1",
   "metadata": {},
   "outputs": [],
   "source": [
    "old_flaged_lst = glob.glob('*_flaged.fits')\n",
    "for files_path in old_flaged_lst:\n",
    "    shutil.move(files_path, path)"
   ]
  },
  {
   "cell_type": "markdown",
   "id": "329261ff",
   "metadata": {},
   "source": [
    "Combine all the flaged file to create a new dark frame"
   ]
  },
  {
   "cell_type": "code",
   "execution_count": 57,
   "id": "e9d6cb74",
   "metadata": {},
   "outputs": [
    {
     "name": "stdout",
     "output_type": "stream",
     "text": [
      "CPU times: user 912 ms, sys: 234 ms, total: 1.15 s\n",
      "Wall time: 3.18 s\n"
     ]
    }
   ],
   "source": [
    "%%time\n",
    "flaged_lst =  glob.glob('flaged/*_flaged.fits')\n",
    "sumdata_1subtracted = np.zeros((1024,1024))\n",
    "exptime_table = np.zeros((1024,1024))\n",
    "for filename in flaged_lst:\n",
    "        file = fits.open(filename)\n",
    "        data = file[1].data\n",
    "        flaged_table = file['FLAG'].data\n",
    "        flaged_subtracted = file['FS'].data\n",
    "        exptime = file[0].header['EXPTIME']\n",
    "\n",
    "        exptime_table += exptime * flaged_table\n",
    "        sumdata_1subtracted += flaged_subtracted\n",
    "        #print(file[0].header['DATE'])\n",
    "for i in range(0, 1024):\n",
    "    for j in range(0, 1024):\n",
    "        sumdata_1subtracted[i][j] /= exptime_table[i][j]\n",
    "\n",
    "Primary = fits.PrimaryHDU()\n",
    "SCI = fits.ImageHDU(sumdata_1subtracted, name = 'SCI')\n",
    "hdul = fits.HDUList([Primary, SCI])\n",
    "hdul.writeto('avg_dark_summed_data.fits', overwrite = True)"
   ]
  },
  {
   "cell_type": "code",
   "execution_count": 58,
   "id": "02b88e31",
   "metadata": {},
   "outputs": [],
   "source": [
    "arch_temp_2022 = []\n",
    "arch_darks_2022 = []\n",
    "for item in dark_lst:\n",
    "    file = fits.open(item)\n",
    "    exptime = file[0].header['EXPTIME']\n",
    "    temp = (file[1].header['MDECODT1'] + file[1].header['MDECODT2']) /2 \n",
    "    year = int(file[0].header['DATE-OBS'][:4])\n",
    "    data_ps = file[1].data/ exptime\n",
    "    \n",
    "    if year == 2022 and temp >= 0.0 and temp <= 30.0:\n",
    "        arch_temp_2022.append(temp)\n",
    "        sample = data_ps[471: 822, 471:822]\n",
    "        darks = sum(sum(sample)) / (len(sample) * len(sample[0]))\n",
    "        arch_darks_2022.append(darks)\n",
    "\n",
    "arch_temp_2021 = []\n",
    "arch_darks_2021 = []\n",
    "for item in dark_lst:\n",
    "    file = fits.open(item)\n",
    "    exptime = file[0].header['EXPTIME']\n",
    "    temp = (file[1].header['MDECODT1'] + file[1].header['MDECODT2']) /2 \n",
    "    year = int(file[0].header['DATE-OBS'][:4])\n",
    "    data_ps = file[1].data/ exptime\n",
    "    \n",
    "    if year == 2021 and temp >= 0.0 and temp <= 30.0:\n",
    "        arch_temp_2021.append(temp)\n",
    "        sample = data_ps[471: 822, 471:822]\n",
    "        darks = sum(sum(sample)) / (len(sample) * len(sample[0]))\n",
    "        arch_darks_2021.append(darks)\n",
    "        \n",
    "arch_temp_2020 = []\n",
    "arch_darks_2020 = []\n",
    "for item in dark_lst:\n",
    "    file = fits.open(item)\n",
    "    exptime = file[0].header['EXPTIME']\n",
    "    temp = (file[1].header['MDECODT1'] + file[1].header['MDECODT2']) /2 \n",
    "    year = int(file[0].header['DATE-OBS'][:4])\n",
    "    data_ps = file[1].data/ exptime\n",
    "    \n",
    "    if year == 2020 and temp >= 0.0 and temp <= 30.0:\n",
    "        arch_temp_2020.append(temp)\n",
    "        sample = data_ps[471: 822, 471:822]\n",
    "        darks = sum(sum(sample)) / (len(sample) * len(sample[0]))\n",
    "        arch_darks_2020.append(darks)\n",
    "        \n",
    "data_temp = []\n",
    "data_darks = []\n",
    "for item in flaged_lst:\n",
    "    file = fits.open(item)\n",
    "    exptime = file[0].header['EXPTIME']\n",
    "    temp = (file[1].header['MDECODT1'] + file[1].header['MDECODT2']) /2 \n",
    "    data_ps = file[1].data/ exptime\n",
    "    \n",
    "    data_temp.append(temp)\n",
    "    sample = data_ps[471:822 , 471:822]\n",
    "    darks = sum(sum(sample)) /( (len(sample) * len(sample[0])) - (2*e)**2)\n",
    "    data_darks.append(darks)\n"
   ]
  },
  {
   "cell_type": "code",
   "execution_count": 59,
   "id": "bf5e49b3",
   "metadata": {},
   "outputs": [
    {
     "data": {
      "text/plain": [
       "<matplotlib.legend.Legend at 0x7ff718089a50>"
      ]
     },
     "execution_count": 59,
     "metadata": {},
     "output_type": "execute_result"
    },
    {
     "data": {
      "image/png": "[encoded data removed]",
      "text/plain": [
       "<Figure size 432x288 with 1 Axes>"
      ]
     },
     "metadata": {
      "needs_background": "light"
     },
     "output_type": "display_data"
    }
   ],
   "source": [
    "#plt.plot(arch_temp_2020, arch_darks_2020, '.', label = 'archived_2020')    \n",
    "plt.plot(arch_temp_2021, arch_darks_2021, '.', label = 'archived_2021')\n",
    "plt.plot(arch_temp_2022, arch_darks_2022, '.', label = 'archived_2022')\n",
    "plt.plot(data_temp, data_darks, '.', label = 'data')\n",
    "plt.legend()"
   ]
  },
  {
   "cell_type": "code",
   "execution_count": 60,
   "id": "11fe2bce",
   "metadata": {},
   "outputs": [],
   "source": [
    "data_temp = []\n",
    "data_darks = []\n",
    "visit_lst = [1, 3, 4, 5, 7, 8, 9, 10, 56, 57, 58]\n",
    "for visit_num in visit_lst:\n",
    "    l = []\n",
    "    t = []\n",
    "    for item in flaged_lst:\n",
    "        file = fits.open(item)\n",
    "        exptime = file[0].header['EXPTIME']\n",
    "        temp = (file[1].header['MDECODT1'] + file[1].header['MDECODT2']) /2 \n",
    "        year = (file[0].header['DATE-OBS'])\n",
    "        data_ps = file[1].data/ exptime\n",
    "        visit = int(file[0].header['LINENUM'][:2])\n",
    "        \n",
    "        if visit == visit_num:\n",
    "            #print(visit_num, year)\n",
    "\n",
    "            t.append(temp)\n",
    "            sample = data_ps[471:822 , 471:822]\n",
    "            #sample = data_ps\n",
    "            darks = sum(sum(sample)) /( (len(sample) * len(sample[0])) - (2*e)**2)\n",
    "            l.append(darks)\n",
    "    data_darks.append(l)\n",
    "    data_temp.append(t)"
   ]
  },
  {
   "cell_type": "code",
   "execution_count": 61,
   "id": "87bfda83",
   "metadata": {},
   "outputs": [
    {
     "data": {
      "image/png": "[encoded data removed]",
      "text/plain": [
       "<Figure size 432x288 with 1 Axes>"
      ]
     },
     "metadata": {
      "needs_background": "light"
     },
     "output_type": "display_data"
    }
   ],
   "source": [
    "for i in range(len(data_darks)):\n",
    "    plt.plot(data_temp[i], data_darks[i], 'o', label = '#'+str(visit_lst[i]))\n",
    "    plt.legend()\n",
    "    #plt.show()"
   ]
  },
  {
   "cell_type": "markdown",
   "id": "5983e23e",
   "metadata": {},
   "source": [
    "Create primary dark"
   ]
  },
  {
   "cell_type": "markdown",
   "id": "27c788e6",
   "metadata": {},
   "source": [
    "# CHECKPOINT"
   ]
  },
  {
   "cell_type": "code",
   "execution_count": 91,
   "id": "d53557ee",
   "metadata": {},
   "outputs": [],
   "source": [
    "uptemp = 20"
   ]
  },
  {
   "cell_type": "code",
   "execution_count": 92,
   "id": "de2684ac",
   "metadata": {},
   "outputs": [
    {
     "name": "stdout",
     "output_type": "stream",
     "text": [
      "23\n",
      "CPU times: user 2.15 s, sys: 151 ms, total: 2.3 s\n",
      "Wall time: 2.97 s\n"
     ]
    }
   ],
   "source": [
    "%%time\n",
    "sumdata_1subtracted = np.zeros((1024,1024))\n",
    "exptime_table = np.zeros((1024,1024))\n",
    "num_files_combined = 0\n",
    "for filename in flaged_lst:\n",
    "    file = fits.open(filename)\n",
    "    data = file[1].data\n",
    "    flaged_table = file['FLAG'].data\n",
    "    flaged_subtracted = file['FS'].data\n",
    "    exptime = file[0].header['EXPTIME']\n",
    "    temp = (file[1].header['MDECODT1'] + file[1].header['MDECODT2']) /2 \n",
    "        \n",
    "    if temp > uptemp:\n",
    "        continue\n",
    "    num_files_combined += 1\n",
    "    exptime_table += exptime * flaged_table\n",
    "    sumdata_1subtracted += flaged_subtracted\n",
    "        \n",
    "for filename in dark_lst:\n",
    "    file = fits.open(filename)\n",
    "    data = file[1].data\n",
    "    exptime = file[0].header['EXPTIME']\n",
    "    temp = (file[1].header['MDECODT1'] + file[1].header['MDECODT2']) /2 \n",
    "    flaged_table = np.ones((1024, 1024))\n",
    "    year = int(file[0].header['DATE-OBS'][:4])\n",
    "    if temp <= uptemp and temp >= 0.0 and year >= 2020:\n",
    "        num_files_combined += 1\n",
    "        exptime_table += exptime * flaged_table\n",
    "        sumdata_1subtracted += data\n",
    "\n",
    "for i in range(0, 1024):\n",
    "    for j in range(0, 1024):\n",
    "        sumdata_1subtracted[i][j] /= exptime_table[i][j]\n",
    "\n",
    "print(num_files_combined)\n",
    "Primary = fits.PrimaryHDU()\n",
    "SCI = fits.ImageHDU(sumdata_1subtracted, name = 'SCI')\n",
    "hdul = fits.HDUList([Primary, SCI])\n",
    "hdul.writeto('primary_dark_uptemp_'+str(uptemp)+'.fits', overwrite = True)"
   ]
  },
  {
   "cell_type": "markdown",
   "id": "2d17e81b",
   "metadata": {},
   "source": [
    "Primary Dark Subtraction"
   ]
  },
  {
   "cell_type": "code",
   "execution_count": 93,
   "id": "af17f7ba",
   "metadata": {},
   "outputs": [],
   "source": [
    "pri_dark = fits.open('primary_dark_uptemp_'+str(uptemp)+'.fits')\n",
    "dark_data = pri_dark[1].data\n",
    "\n",
    "for filename in flaged_lst:\n",
    "    file = fits.open(filename)\n",
    "    exptime = file[0].header['EXPTIME']\n",
    "    temp = (file[1].header['MDECODT1'] + file[1].header['MDECODT2']) /2 \n",
    "    real_data = file[1].data\n",
    "    rootname = file[0].header['ROOTNAME']\n",
    "    new_data = real_data - dark_data * exptime \n",
    "    \n",
    "    Primary = file[0]\n",
    "    SCI = fits.ImageHDU(new_data, header = file[1].header, name = 'SCI')\n",
    "    \n",
    "    hdul = fits.HDUList([Primary, SCI])\n",
    "    \n",
    "    hdul.writeto(rootname + '_1subtracted_'+str(uptemp)+'.fits', overwrite = True)"
   ]
  },
  {
   "cell_type": "code",
   "execution_count": 94,
   "id": "f878382f",
   "metadata": {},
   "outputs": [],
   "source": [
    "directory_name = '1subtracted_' + str(uptemp)\n",
    "parent_path = '/Users/ha/Makani_Project/Testxviiii'\n",
    "path = os.path.join(parent_path, directory_name)\n",
    "os.makedirs(path)"
   ]
  },
  {
   "cell_type": "code",
   "execution_count": 95,
   "id": "b7d742e0",
   "metadata": {},
   "outputs": [],
   "source": [
    "old_1subtracted_lst = glob.glob('*_1subtracted_'+str(uptemp)+'.fits')\n",
    "for files_path in old_1subtracted_lst:\n",
    "    shutil.move(files_path, path)"
   ]
  },
  {
   "cell_type": "code",
   "execution_count": 96,
   "id": "8baee9a7",
   "metadata": {},
   "outputs": [],
   "source": [
    "pri_subtracted_lst = glob.glob('1subtracted_'+str(uptemp)+'/*_1subtracted_'+str(uptemp)+'.fits')"
   ]
  },
  {
   "cell_type": "code",
   "execution_count": 97,
   "id": "69e23715",
   "metadata": {},
   "outputs": [
    {
     "data": {
      "text/plain": [
       "[<matplotlib.lines.Line2D at 0x7ff70009afd0>]"
      ]
     },
     "execution_count": 97,
     "metadata": {},
     "output_type": "execute_result"
    },
    {
     "data": {
      "image/png": "[encoded data removed]",
      "text/plain": [
       "<Figure size 432x288 with 1 Axes>"
      ]
     },
     "metadata": {
      "needs_background": "light"
     },
     "output_type": "display_data"
    }
   ],
   "source": [
    "width_2dark = 300\n",
    "x_2dark = 600\n",
    "y_2dark = 650\n",
    "temps = []\n",
    "res = []\n",
    "for filename in pri_subtracted_lst:\n",
    "    #print(filename)\n",
    "    file = fits.open(filename)\n",
    "    data = file[1].data\n",
    "    \n",
    "    exptime = file[0].header['EXPTIME']\n",
    "    temp = (file[1].header['MDECODT1'] + file[1].header['MDECODT2']) /2 \n",
    "    X_center = int(get_center(filename)[0])\n",
    "    Y_center = int(get_center(filename)[1])\n",
    "    \n",
    "    e = 50\n",
    "    for i in range(Y_center - e, Y_center + e):\n",
    "        for j in range(X_center - e, X_center + e):\n",
    "            data[i][j] = 0\n",
    "    sample = data[y_2dark - width_2dark: y_2dark + width_2dark,\n",
    "                                   x_2dark - width_2dark: x_2dark + width_2dark]\n",
    "\n",
    "    temps.append(temp)\n",
    "    res.append( sum(sum(sample)) / (sample.size - e**2) )    \n",
    "\n",
    "#temps_24 = []\n",
    "#res_24 = []\n",
    "#for filename in pri_subtracted_lst_24:\n",
    "#    #print(filename)\n",
    "#    file = fits.open(filename)\n",
    "#    data = file[1].data\n",
    "#    \n",
    "#    exptime = file[0].header['EXPTIME']\n",
    "#    temp = (file[1].header['MDECODT1'] + file[1].header['MDECODT2']) /2 \n",
    "#    X_center = int(get_center(filename)[0])\n",
    "#    Y_center = int(get_center(filename)[1])\n",
    "#    \n",
    "#    e = 50\n",
    "#    for i in range(Y_center - e, Y_center + e):\n",
    "#        for j in range(X_center - e, X_center + e):\n",
    "#            data[i][j] = 0\n",
    "#    sample = data[y_2dark - width_2dark: y_2dark + width_2dark,\n",
    "#                                   x_2dark - width_2dark: x_2dark + width_2dark]\n",
    "#    \n",
    "#    temps_24.append(temp)\n",
    "#    res_24.append( sum(sum(sample)) / (sample.size - e**2) )\n",
    "plt.plot(temps, res, '.')\n",
    "plt.plot(temps, [0] * len(temps))\n",
    "#plt.plot(temps_24, res_24, '.')"
   ]
  },
  {
   "cell_type": "code",
   "execution_count": 98,
   "id": "bd4ab7f4",
   "metadata": {},
   "outputs": [
    {
     "data": {
      "text/plain": [
       "[-0.0019882627191084795,\n",
       " -0.0016229626807311515,\n",
       " -0.001198235305384269,\n",
       " -0.0010928940479836688,\n",
       " -0.001077702019857527,\n",
       " -0.0010655244069638164,\n",
       " -0.0010392327549146954,\n",
       " -0.0009192630086301806,\n",
       " -0.0003451817307732954,\n",
       " 3.415137742337259e-05,\n",
       " 9.13176642568903e-05,\n",
       " 0.00010309957322822301,\n",
       " 0.00043836672028805504,\n",
       " 0.0005142487745800184,\n",
       " 0.0006099454165126108,\n",
       " 0.0014042486419214178,\n",
       " 0.0015550192770562425,\n",
       " 0.001766104952701684,\n",
       " 0.0023434879288884657,\n",
       " 0.0024193641090016946,\n",
       " 0.0024784469413967865,\n",
       " 0.0024902269042720005,\n",
       " 0.002579843512490029,\n",
       " 0.002855449902308707,\n",
       " 0.0030110928151017877,\n",
       " 0.00312625061690699,\n",
       " 0.0034150319279962495,\n",
       " 0.0035046743318119336,\n",
       " 0.004183433590869031,\n",
       " 0.004192899250264317,\n",
       " 0.004430534335778892,\n",
       " 0.004430602541540733,\n",
       " 0.004449645757749705,\n",
       " 0.004765602773997626,\n",
       " 0.005389246143659783,\n",
       " 0.006059557077767077,\n",
       " 0.006476798378751153,\n",
       " 0.006531096274356935,\n",
       " 0.0070806094808068066,\n",
       " 0.007965701107709493,\n",
       " 0.007995584445335787,\n",
       " 0.0086613542880721,\n",
       " 0.009589795931800137,\n",
       " 0.01036757069157828,\n",
       " 0.011939542942314519,\n",
       " 0.012114268141142902,\n",
       " 0.012333193491795858,\n",
       " 0.012627289815640576,\n",
       " 0.012873151164139118,\n",
       " 0.013488068211803728,\n",
       " 0.015207049824679006,\n",
       " 0.01649882638944662,\n",
       " 0.017145024817476248,\n",
       " 0.017916350560625297,\n",
       " 0.01887989044892675,\n",
       " 0.02047067545350052,\n",
       " 0.020982923770048033,\n",
       " 0.024137862305820188,\n",
       " 0.02513352082973063,\n",
       " 0.02741521273947531,\n",
       " 0.031176378822724227,\n",
       " 0.03196023598321143,\n",
       " 0.03248188622103311,\n",
       " 0.034179297237144635,\n",
       " 0.03653108801846867,\n",
       " 0.03664705866542022,\n",
       " 0.03719549228505767,\n",
       " 0.041351974191716684,\n",
       " 0.04270155211575624,\n",
       " 0.04305599912361877,\n",
       " 0.05594946054743151,\n",
       " 0.06004406385404673,\n",
       " 0.06182609713128323,\n",
       " 0.0667403599759882]"
      ]
     },
     "execution_count": 98,
     "metadata": {},
     "output_type": "execute_result"
    }
   ],
   "source": [
    "res.sort()\n",
    "res"
   ]
  },
  {
   "cell_type": "markdown",
   "id": "045aa637",
   "metadata": {},
   "source": [
    "Create secondary dark"
   ]
  },
  {
   "cell_type": "code",
   "execution_count": 99,
   "id": "78edf497",
   "metadata": {},
   "outputs": [],
   "source": [
    "pri_dark = fits.open('primary_dark_uptemp_'+str(uptemp)+'.fits')\n",
    "real_dark = fits.open('avg_dark_summed_data.fits')\n",
    "\n",
    "pri_dark_data = pri_dark[1].data\n",
    "real_dark_data = real_dark[1].data\n",
    "\n",
    "data = real_dark_data - pri_dark_data\n",
    "Primary = fits.PrimaryHDU(data)\n",
    "hdul = fits.HDUList([Primary])\n",
    "hdul.writeto('secondary_dark_'+str(uptemp)+'.fits', overwrite = True)"
   ]
  },
  {
   "cell_type": "markdown",
   "id": "9755f5e5",
   "metadata": {},
   "source": [
    "Secondary Dark Subtraction"
   ]
  },
  {
   "cell_type": "code",
   "execution_count": 100,
   "id": "865f7478",
   "metadata": {},
   "outputs": [
    {
     "data": {
      "image/png": "[encoded data removed]",
      "text/plain": [
       "<Figure size 432x288 with 1 Axes>"
      ]
     },
     "metadata": {
      "needs_background": "light"
     },
     "output_type": "display_data"
    },
    {
     "name": "stdout",
     "output_type": "stream",
     "text": [
      "CPU times: user 9.32 s, sys: 1.14 s, total: 10.5 s\n",
      "Wall time: 14.1 s\n"
     ]
    }
   ],
   "source": [
    "%%time\n",
    "width_2dark = 200\n",
    "x_2dark = 600\n",
    "y_2dark = 650\n",
    "sec_dark = fits.open('secondary_dark_'+str(uptemp)+'.fits')\n",
    "data_2dark = sec_dark[0].data\n",
    "sec_dark_sample = data_2dark[y_2dark - width_2dark: y_2dark + width_2dark,\n",
    "                                   x_2dark - width_2dark: x_2dark + width_2dark]\n",
    "A_2dark_ps = sum(sum(sec_dark_sample)) / (sec_dark_sample.size) \n",
    "\n",
    "temps = []\n",
    "coeffs = []\n",
    "for filename in pri_subtracted_lst:\n",
    "    file = fits.open(filename)\n",
    "    data = file[1].data\n",
    "    \n",
    "    exptime = file[0].header['EXPTIME']\n",
    "    temp = (file[1].header['MDECODT1'] + file[1].header['MDECODT2']) /2 \n",
    "    rootname = file[0].header['ROOTNAME']\n",
    "    X_center = int(get_center(filename)[0])\n",
    "    Y_center = int(get_center(filename)[1])\n",
    "    \n",
    "    \n",
    "    sumdata = 0\n",
    "    num_val = 0\n",
    "    e = 50\n",
    "    for i in range(y_2dark - width_2dark, y_2dark + width_2dark):\n",
    "        for j in range(x_2dark - width_2dark, x_2dark + width_2dark):\n",
    "            if i >= Y_center - e and i < Y_center + e and j >= X_center - e and j< X_center + e:\n",
    "                continue\n",
    "            sumdata += data[i][j]\n",
    "            num_val += 1\n",
    "    \n",
    "    A_data = sumdata/ num_val \n",
    "    \n",
    "    k = A_data/( A_2dark_ps * exptime) \n",
    "    if k < 0:\n",
    "        k = 0\n",
    "    coeffs.append(k)\n",
    "    temps.append(temp)\n",
    "    \n",
    "    new_data = data - k * data_2dark * exptime\n",
    "    Primary = file[0]\n",
    "    SCI = fits.ImageHDU(new_data, header = file[1].header, name = 'SCI')\n",
    "    \n",
    "    hdul = fits.HDUList([Primary, SCI])\n",
    "    \n",
    "    hdul.writeto(rootname + '_2subtracted_'+str(uptemp)+'.fits', overwrite = True)\n",
    "    #print(temp, np.median(coeff))\n",
    "plt.plot(temps,coeffs, '.')\n",
    "plt.plot(temps, [0] * len(temps))\n",
    "plt.show()"
   ]
  },
  {
   "cell_type": "code",
   "execution_count": 101,
   "id": "04a9fd80",
   "metadata": {},
   "outputs": [
    {
     "data": {
      "text/plain": [
       "[0,\n",
       " 0,\n",
       " 0,\n",
       " 0,\n",
       " 0,\n",
       " 0,\n",
       " 0,\n",
       " 0,\n",
       " 0,\n",
       " 0,\n",
       " 0,\n",
       " 0.0018161386536448758,\n",
       " 0.02949977816591643,\n",
       " 0.0385463497688096,\n",
       " 0.045678429596996764,\n",
       " 0.06601055365672487,\n",
       " 0.06887530143745083,\n",
       " 0.08002836540885373,\n",
       " 0.13959458277897405,\n",
       " 0.15170702740901698,\n",
       " 0.1608550277993513,\n",
       " 0.16258412596989436,\n",
       " 0.1795573054205299,\n",
       " 0.18051809267194135,\n",
       " 0.18800723763499586,\n",
       " 0.19727563680094215,\n",
       " 0.2101980245246246,\n",
       " 0.23830896786051028,\n",
       " 0.25025431474800863,\n",
       " 0.27497479607320513,\n",
       " 0.2767578160302519,\n",
       " 0.28388989585843877,\n",
       " 0.31659979895195123,\n",
       " 0.33710625771789654,\n",
       " 0.3391988372695947,\n",
       " 0.3826692014787585,\n",
       " 0.49116022548623484,\n",
       " 0.4943454949035538,\n",
       " 0.4965577462980578,\n",
       " 0.5149692822913317,\n",
       " 0.5417442817542543,\n",
       " 0.6941166459248953,\n",
       " 0.6987785573395213,\n",
       " 0.774626358525019,\n",
       " 0.8035890655336239,\n",
       " 0.9034853433476178,\n",
       " 0.913082889748999,\n",
       " 0.9266028321996471,\n",
       " 0.9359159498730671,\n",
       " 1.0414498602685118,\n",
       " 1.095791736056774,\n",
       " 1.1587089846880505,\n",
       " 1.2821331655942276,\n",
       " 1.3683106900592243,\n",
       " 1.3737651170152954,\n",
       " 1.464053146124585,\n",
       " 1.5927329542258573,\n",
       " 1.8201597796578626,\n",
       " 1.8820233701389182,\n",
       " 1.9975286098911553,\n",
       " 2.3087181826966985,\n",
       " 2.3876791221207037,\n",
       " 2.393189993374324,\n",
       " 2.4670488180601207,\n",
       " 2.647871877683235,\n",
       " 2.717325570094199,\n",
       " 2.811027858881653,\n",
       " 3.087394183526806,\n",
       " 3.090617123861397,\n",
       " 3.1118108245292015,\n",
       " 4.091936955451468,\n",
       " 4.43898718398417,\n",
       " 4.524631431511813,\n",
       " 4.857609332283397]"
      ]
     },
     "execution_count": 101,
     "metadata": {},
     "output_type": "execute_result"
    }
   ],
   "source": [
    "coeffs.sort()\n",
    "coeffs"
   ]
  },
  {
   "cell_type": "code",
   "execution_count": 102,
   "id": "7d720a6c",
   "metadata": {},
   "outputs": [],
   "source": [
    "directory_name = '2subtracted_' + str(uptemp)\n",
    "parent_path = '/Users/ha/Makani_Project/Testxviiii'\n",
    "path = os.path.join(parent_path, directory_name)\n",
    "os.makedirs(path)"
   ]
  },
  {
   "cell_type": "code",
   "execution_count": 103,
   "id": "41313314",
   "metadata": {},
   "outputs": [],
   "source": [
    "old_2subtracted_lst = glob.glob('*_2subtracted_'+str(uptemp)+'.fits')\n",
    "for files_path in old_2subtracted_lst:\n",
    "    shutil.move(files_path, path)"
   ]
  },
  {
   "cell_type": "code",
   "execution_count": 105,
   "id": "50c45f6b",
   "metadata": {},
   "outputs": [
    {
     "data": {
      "text/plain": [
       "[<matplotlib.lines.Line2D at 0x7ff7391a10d0>]"
      ]
     },
     "execution_count": 105,
     "metadata": {},
     "output_type": "execute_result"
    },
    {
     "data": {
      "image/png": "[encoded data removed]",
      "text/plain": [
       "<Figure size 432x288 with 1 Axes>"
      ]
     },
     "metadata": {
      "needs_background": "light"
     },
     "output_type": "display_data"
    }
   ],
   "source": [
    "#sec_subtracted_lst_24 = glob.glob('2subtracted_'+str(24)+'/*_2subtracted_'+str(24)+'.fits')\n",
    "sec_subtracted_lst= glob.glob('2subtracted_'+str(uptemp)+'/*_2subtracted_'+str(uptemp)+'.fits')\n",
    "temps_20 = []\n",
    "res_20 = []\n",
    "for filename in sec_subtracted_lst:\n",
    "    #print(filename)\n",
    "    file = fits.open(filename)\n",
    "    data = file[1].data\n",
    "    \n",
    "    exptime = file[0].header['EXPTIME']\n",
    "    temp = (file[1].header['MDECODT1'] + file[1].header['MDECODT2']) /2 \n",
    "    X_center = int(get_center(filename)[0])\n",
    "    Y_center = int(get_center(filename)[1])\n",
    "    \n",
    "    e = 50\n",
    "    for i in range(Y_center - e, Y_center + e):\n",
    "        for j in range(X_center - e, X_center + e):\n",
    "            data[i][j] = 0\n",
    "    \n",
    "    sample = data[y_2dark - width_2dark: y_2dark + width_2dark,\n",
    "                                   x_2dark - width_2dark: x_2dark + width_2dark]    \n",
    "    temps_20.append(temp)\n",
    "    res_20.append( sum(sum(sample)) / (sample.size - e**2) )    \n",
    "\n",
    "#temps_24 = []\n",
    "#res_24 = []\n",
    "#for filename in sec_subtracted_lst_24:\n",
    "#    #print(filename)\n",
    "#    file = fits.open(filename)\n",
    "#    data = file[1].data\n",
    "    \n",
    "#    exptime = file[0].header['EXPTIME']\n",
    "#    temp = (file[1].header['MDECODT1'] + file[1].header['MDECODT2']) /2 \n",
    "#    X_center = int(get_center(filename)[0])\n",
    "#    Y_center = int(get_center(filename)[1])\n",
    "    \n",
    "#    e = 50\n",
    "#    for i in range(Y_center - e, Y_center + e):\n",
    "#        for j in range(X_center - e, X_center + e):\n",
    "#            data[i][j] = 0\n",
    "#    sample = data[y_2dark - width_2dark: y_2dark + width_2dark,\n",
    "#                                   x_2dark - width_2dark: x_2dark + width_2dark]\n",
    "    \n",
    "#    temps_24.append(temp)\n",
    "#    res_24.append( sum(sum(sample)) / (sample.size - e**2) )\n",
    "plt.plot(temps_20, res_20, '.')\n",
    "#plt.plot(temps_24, res_24, '.')"
   ]
  },
  {
   "cell_type": "code",
   "execution_count": null,
   "id": "b88829a5",
   "metadata": {},
   "outputs": [],
   "source": []
  },
  {
   "cell_type": "code",
   "execution_count": null,
   "id": "08b9f57a",
   "metadata": {},
   "outputs": [],
   "source": []
  }
 ],
 "metadata": {
  "kernelspec": {
   "display_name": "Python 3 (ipykernel)",
   "language": "python",
   "name": "python3"
  },
  "language_info": {
   "codemirror_mode": {
    "name": "ipython",
    "version": 3
   },
   "file_extension": ".py",
   "mimetype": "text/x-python",
   "name": "python",
   "nbconvert_exporter": "python",
   "pygments_lexer": "ipython3",
   "version": "3.7.13"
  }
 },
 "nbformat": 4,
 "nbformat_minor": 5
}
