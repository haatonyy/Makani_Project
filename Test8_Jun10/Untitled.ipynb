{
 "cells": [
  {
   "cell_type": "code",
   "execution_count": 1,
   "id": "8f041917",
   "metadata": {},
   "outputs": [
    {
     "name": "stdout",
     "output_type": "stream",
     "text": [
      "\n",
      "\n",
      "The following task in the stsci.skypac package can be run with TEAL:\n",
      "                                    skymatch                                    \n",
      "The following tasks in the drizzlepac package can be run with TEAL:\n",
      "    astrodrizzle       config_testbed      imagefindpars           mapreg       \n",
      "       photeq            pixreplace           pixtopix            pixtosky      \n",
      "  refimagefindpars       resetbits          runastrodriz          skytopix      \n",
      "     tweakback            tweakreg           updatenpol\n"
     ]
    }
   ],
   "source": [
    "import glob\n",
    "import os\n",
    "import shutil\n",
    "\n",
    "from astropy.io import ascii\n",
    "from astropy.io import fits\n",
    "from astropy.table import Table\n",
    "from astropy.visualization import ZScaleInterval\n",
    "from astroquery.mast import Observations\n",
    "from drizzlepac import tweakreg\n",
    "from drizzlepac import astrodrizzle\n",
    "from IPython.display import Image\n",
    "import matplotlib.pyplot as plt\n",
    "\n",
    "%matplotlib inline"
   ]
  },
  {
   "cell_type": "code",
   "execution_count": 4,
   "id": "7f91982a",
   "metadata": {},
   "outputs": [
    {
     "name": "stdout",
     "output_type": "stream",
     "text": [
      "filename: jec401nvq PA_V3: 56.999378\n",
      "filename: jec401nvq PA_V3: 56.999378\n",
      "filename: jec401noq PA_V3: 56.999378\n",
      "filename: jec403ieq PA_V3: 51.01012\n",
      "filename: jec403icq PA_V3: 51.01012\n",
      "filename: jec403ieq PA_V3: 51.01012\n",
      "filename: jec403idq PA_V3: 51.01012\n",
      "filename: jec401nrq PA_V3: 56.999378\n",
      "filename: jec403idq PA_V3: 51.01012\n",
      "filename: jec401nxq PA_V3: 56.999378\n",
      "filename: jec401nxq PA_V3: 56.999378\n",
      "filename: jec403icq PA_V3: 51.01012\n",
      "filename: jec401nrq PA_V3: 56.999378\n",
      "filename: jec403ibq PA_V3: 51.01012\n"
     ]
    }
   ],
   "source": [
    "for f in glob.glob('*_flt.fits'):\n",
    "    print('filename:', fits.getval(f, 'rootname'), 'PA_V3:', fits.getval(f, 'PA_V3'))"
   ]
  },
  {
   "cell_type": "code",
   "execution_count": null,
   "id": "188e22cd",
   "metadata": {},
   "outputs": [],
   "source": []
  }
 ],
 "metadata": {
  "kernelspec": {
   "display_name": "Python 3 (ipykernel)",
   "language": "python",
   "name": "python3"
  },
  "language_info": {
   "codemirror_mode": {
    "name": "ipython",
    "version": 3
   },
   "file_extension": ".py",
   "mimetype": "text/x-python",
   "name": "python",
   "nbconvert_exporter": "python",
   "pygments_lexer": "ipython3",
   "version": "3.7.13"
  }
 },
 "nbformat": 4,
 "nbformat_minor": 5
}
