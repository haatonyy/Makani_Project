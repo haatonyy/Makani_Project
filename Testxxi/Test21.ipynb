{
 "cells": [
  {
   "cell_type": "code",
   "execution_count": 1,
   "id": "7f0d8e79",
   "metadata": {},
   "outputs": [
    {
     "name": "stdout",
     "output_type": "stream",
     "text": [
      "\n",
      "\n"
     ]
    }
   ],
   "source": [
    "import os\n",
    "import shutil\n",
    "import glob\n",
    "\n",
    "from astroquery.mast import Observations\n",
    "\n",
    "from astropy.io import fits\n",
    "from astropy.table import Table\n",
    "\n",
    "from stwcs import updatewcs"
   ]
  },
  {
   "cell_type": "code",
   "execution_count": 21,
   "id": "072c4015",
   "metadata": {},
   "outputs": [
    {
     "data": {
      "text/plain": [
       "['/Users/ha/Makani_Project/data/57/non-hap/jec457010_asn.fits',\n",
       " '/Users/ha/Makani_Project/data/57/non-hap/jec457020_asn.fits',\n",
       " '/Users/ha/Makani_Project/data/03/non-hap/jec403010_asn.fits',\n",
       " '/Users/ha/Makani_Project/data/03/non-hap/jec403020_asn.fits',\n",
       " '/Users/ha/Makani_Project/data/04/non-hap/jec404020_asn.fits',\n",
       " '/Users/ha/Makani_Project/data/04/non-hap/jec404010_asn.fits',\n",
       " '/Users/ha/Makani_Project/data/56/non-hap/jec456020_asn.fits',\n",
       " '/Users/ha/Makani_Project/data/56/non-hap/jec456010_asn.fits',\n",
       " '/Users/ha/Makani_Project/data/10/non-hap/jec410010_asn.fits',\n",
       " '/Users/ha/Makani_Project/data/10/non-hap/jec410020_asn.fits',\n",
       " '/Users/ha/Makani_Project/data/07/non-hap/jec407020_asn.fits',\n",
       " '/Users/ha/Makani_Project/data/07/non-hap/jec407010_asn.fits',\n",
       " '/Users/ha/Makani_Project/data/09/non-hap/jec409010_asn.fits',\n",
       " '/Users/ha/Makani_Project/data/09/non-hap/jec409020_asn.fits',\n",
       " '/Users/ha/Makani_Project/data/08/non-hap/jec408020_asn.fits',\n",
       " '/Users/ha/Makani_Project/data/08/non-hap/jec408010_asn.fits',\n",
       " '/Users/ha/Makani_Project/data/01/non-hap/jec401020_asn.fits',\n",
       " '/Users/ha/Makani_Project/data/01/non-hap/jec401010_asn.fits']"
      ]
     },
     "execution_count": 21,
     "metadata": {},
     "output_type": "execute_result"
    }
   ],
   "source": [
    "path = '/Users/ha/Makani_Project'\n",
    "raw_files = glob.glob(path + '/data/*/non-hap/*_raw.fits')\n",
    "asn_files = glob.glob(path +'/data/*/non-hap/*_asn.fits')\n",
    "asn_files[:-2]"
   ]
  },
  {
   "cell_type": "code",
   "execution_count": 22,
   "id": "25020e8a",
   "metadata": {},
   "outputs": [
    {
     "name": "stdout",
     "output_type": "stream",
     "text": [
      "/Users/ha/Makani_Project/data/57/non-hap/jec457010_asn.fits\n",
      "/Users/ha/Makani_Project/data/57/non-hap/jec457020_asn.fits\n",
      "/Users/ha/Makani_Project/data/03/non-hap/jec403010_asn.fits\n",
      "/Users/ha/Makani_Project/data/03/non-hap/jec403020_asn.fits\n",
      "/Users/ha/Makani_Project/data/04/non-hap/jec404020_asn.fits\n",
      "/Users/ha/Makani_Project/data/04/non-hap/jec404010_asn.fits\n",
      "/Users/ha/Makani_Project/data/56/non-hap/jec456020_asn.fits\n",
      "/Users/ha/Makani_Project/data/56/non-hap/jec456010_asn.fits\n",
      "/Users/ha/Makani_Project/data/10/non-hap/jec410010_asn.fits\n",
      "/Users/ha/Makani_Project/data/10/non-hap/jec410020_asn.fits\n",
      "/Users/ha/Makani_Project/data/07/non-hap/jec407020_asn.fits\n",
      "/Users/ha/Makani_Project/data/07/non-hap/jec407010_asn.fits\n",
      "/Users/ha/Makani_Project/data/09/non-hap/jec409010_asn.fits\n",
      "/Users/ha/Makani_Project/data/09/non-hap/jec409020_asn.fits\n",
      "/Users/ha/Makani_Project/data/08/non-hap/jec408020_asn.fits\n",
      "/Users/ha/Makani_Project/data/08/non-hap/jec408010_asn.fits\n",
      "/Users/ha/Makani_Project/data/01/non-hap/jec401020_asn.fits\n",
      "/Users/ha/Makani_Project/data/01/non-hap/jec401010_asn.fits\n"
     ]
    },
    {
     "ename": "OSError",
     "evalue": "Empty or corrupt FITS file",
     "output_type": "error",
     "traceback": [
      "\u001b[0;31m---------------------------------------------------------------------------\u001b[0m",
      "\u001b[0;31mOSError\u001b[0m                                   Traceback (most recent call last)",
      "\u001b[0;32m/var/folders/f4/jc_7bzjs2f962hf7y2h6vcfh0000gt/T/ipykernel_1826/3228218061.py\u001b[0m in \u001b[0;36m<module>\u001b[0;34m\u001b[0m\n\u001b[1;32m      1\u001b[0m \u001b[0;32mfor\u001b[0m \u001b[0masn_file\u001b[0m \u001b[0;32min\u001b[0m \u001b[0masn_files\u001b[0m\u001b[0;34m[\u001b[0m\u001b[0;34m:\u001b[0m\u001b[0;34m-\u001b[0m\u001b[0;36m2\u001b[0m\u001b[0;34m]\u001b[0m\u001b[0;34m:\u001b[0m\u001b[0;34m\u001b[0m\u001b[0;34m\u001b[0m\u001b[0m\n\u001b[1;32m      2\u001b[0m     \u001b[0mprint\u001b[0m\u001b[0;34m(\u001b[0m\u001b[0masn_file\u001b[0m\u001b[0;34m)\u001b[0m\u001b[0;34m\u001b[0m\u001b[0;34m\u001b[0m\u001b[0m\n\u001b[0;32m----> 3\u001b[0;31m     \u001b[0mfile\u001b[0m \u001b[0;34m=\u001b[0m \u001b[0mfits\u001b[0m\u001b[0;34m.\u001b[0m\u001b[0mopen\u001b[0m\u001b[0;34m(\u001b[0m\u001b[0masn_file\u001b[0m\u001b[0;34m)\u001b[0m\u001b[0;34m\u001b[0m\u001b[0;34m\u001b[0m\u001b[0m\n\u001b[0m\u001b[1;32m      4\u001b[0m     \u001b[0mrootname\u001b[0m \u001b[0;34m=\u001b[0m \u001b[0mfile\u001b[0m\u001b[0;34m[\u001b[0m\u001b[0;36m0\u001b[0m\u001b[0;34m]\u001b[0m\u001b[0;34m.\u001b[0m\u001b[0mheader\u001b[0m\u001b[0;34m[\u001b[0m\u001b[0;34m'ROOTNAME'\u001b[0m\u001b[0;34m]\u001b[0m\u001b[0;34m\u001b[0m\u001b[0;34m\u001b[0m\u001b[0m\n\u001b[1;32m      5\u001b[0m     \u001b[0;31m#file.writeto(rootname + '_asn.fits')\u001b[0m\u001b[0;34m\u001b[0m\u001b[0;34m\u001b[0m\u001b[0;34m\u001b[0m\u001b[0m\n",
      "\u001b[0;32m~/.conda/envs/astroconda/lib/python3.7/site-packages/astropy/io/fits/hdu/hdulist.py\u001b[0m in \u001b[0;36mfitsopen\u001b[0;34m(name, mode, memmap, save_backup, cache, lazy_load_hdus, ignore_missing_simple, **kwargs)\u001b[0m\n\u001b[1;32m    172\u001b[0m \u001b[0;34m\u001b[0m\u001b[0m\n\u001b[1;32m    173\u001b[0m     return HDUList.fromfile(name, mode, memmap, save_backup, cache,\n\u001b[0;32m--> 174\u001b[0;31m                             lazy_load_hdus, ignore_missing_simple, **kwargs)\n\u001b[0m\u001b[1;32m    175\u001b[0m \u001b[0;34m\u001b[0m\u001b[0m\n\u001b[1;32m    176\u001b[0m \u001b[0;34m\u001b[0m\u001b[0m\n",
      "\u001b[0;32m~/.conda/envs/astroconda/lib/python3.7/site-packages/astropy/io/fits/hdu/hdulist.py\u001b[0m in \u001b[0;36mfromfile\u001b[0;34m(cls, fileobj, mode, memmap, save_backup, cache, lazy_load_hdus, ignore_missing_simple, **kwargs)\u001b[0m\n\u001b[1;32m    409\u001b[0m                              \u001b[0msave_backup\u001b[0m\u001b[0;34m=\u001b[0m\u001b[0msave_backup\u001b[0m\u001b[0;34m,\u001b[0m \u001b[0mcache\u001b[0m\u001b[0;34m=\u001b[0m\u001b[0mcache\u001b[0m\u001b[0;34m,\u001b[0m\u001b[0;34m\u001b[0m\u001b[0;34m\u001b[0m\u001b[0m\n\u001b[1;32m    410\u001b[0m                              \u001b[0mignore_missing_simple\u001b[0m\u001b[0;34m=\u001b[0m\u001b[0mignore_missing_simple\u001b[0m\u001b[0;34m,\u001b[0m\u001b[0;34m\u001b[0m\u001b[0;34m\u001b[0m\u001b[0m\n\u001b[0;32m--> 411\u001b[0;31m                              lazy_load_hdus=lazy_load_hdus, **kwargs)\n\u001b[0m\u001b[1;32m    412\u001b[0m \u001b[0;34m\u001b[0m\u001b[0m\n\u001b[1;32m    413\u001b[0m     \u001b[0;34m@\u001b[0m\u001b[0mclassmethod\u001b[0m\u001b[0;34m\u001b[0m\u001b[0;34m\u001b[0m\u001b[0m\n",
      "\u001b[0;32m~/.conda/envs/astroconda/lib/python3.7/site-packages/astropy/io/fits/hdu/hdulist.py\u001b[0m in \u001b[0;36m_readfrom\u001b[0;34m(cls, fileobj, data, mode, memmap, cache, lazy_load_hdus, ignore_missing_simple, **kwargs)\u001b[0m\n\u001b[1;32m   1111\u001b[0m                 \u001b[0mhdulist\u001b[0m\u001b[0;34m.\u001b[0m\u001b[0m_file\u001b[0m\u001b[0;34m.\u001b[0m\u001b[0mclose\u001b[0m\u001b[0;34m(\u001b[0m\u001b[0;34m)\u001b[0m\u001b[0;34m\u001b[0m\u001b[0;34m\u001b[0m\u001b[0m\n\u001b[1;32m   1112\u001b[0m \u001b[0;34m\u001b[0m\u001b[0m\n\u001b[0;32m-> 1113\u001b[0;31m             \u001b[0;32mraise\u001b[0m \u001b[0mOSError\u001b[0m\u001b[0;34m(\u001b[0m\u001b[0;34m'Empty or corrupt FITS file'\u001b[0m\u001b[0;34m)\u001b[0m\u001b[0;34m\u001b[0m\u001b[0;34m\u001b[0m\u001b[0m\n\u001b[0m\u001b[1;32m   1114\u001b[0m \u001b[0;34m\u001b[0m\u001b[0m\n\u001b[1;32m   1115\u001b[0m         \u001b[0;32mif\u001b[0m \u001b[0;32mnot\u001b[0m \u001b[0mlazy_load_hdus\u001b[0m \u001b[0;32mor\u001b[0m \u001b[0mkwargs\u001b[0m\u001b[0;34m.\u001b[0m\u001b[0mget\u001b[0m\u001b[0;34m(\u001b[0m\u001b[0;34m'checksum'\u001b[0m\u001b[0;34m)\u001b[0m \u001b[0;32mis\u001b[0m \u001b[0;32mTrue\u001b[0m\u001b[0;34m:\u001b[0m\u001b[0;34m\u001b[0m\u001b[0;34m\u001b[0m\u001b[0m\n",
      "\u001b[0;31mOSError\u001b[0m: Empty or corrupt FITS file"
     ]
    }
   ],
   "source": [
    "for asn_file in asn_files[:-2]:\n",
    "    print(asn_file)\n",
    "    file = fits.open(asn_file)\n",
    "    rootname = file[0].header['ROOTNAME']\n",
    "    #file.writeto(rootname + '_asn.fits')"
   ]
  },
  {
   "cell_type": "code",
   "execution_count": 23,
   "id": "6f0a28d3",
   "metadata": {},
   "outputs": [],
   "source": [
    "cte_correct = False"
   ]
  },
  {
   "cell_type": "code",
   "execution_count": 4,
   "id": "56115a9a",
   "metadata": {},
   "outputs": [
    {
     "ename": "NameError",
     "evalue": "name 'raw_files' is not defined",
     "output_type": "error",
     "traceback": [
      "\u001b[0;31m---------------------------------------------------------------------------\u001b[0m",
      "\u001b[0;31mNameError\u001b[0m                                 Traceback (most recent call last)",
      "\u001b[0;32m/var/folders/f4/jc_7bzjs2f962hf7y2h6vcfh0000gt/T/ipykernel_1826/3636329216.py\u001b[0m in \u001b[0;36m<module>\u001b[0;34m\u001b[0m\n\u001b[0;32m----> 1\u001b[0;31m \u001b[0;32mfor\u001b[0m \u001b[0mfile\u001b[0m \u001b[0;32min\u001b[0m \u001b[0mraw_files\u001b[0m\u001b[0;34m:\u001b[0m\u001b[0;34m\u001b[0m\u001b[0;34m\u001b[0m\u001b[0m\n\u001b[0m\u001b[1;32m      2\u001b[0m \u001b[0;34m\u001b[0m\u001b[0m\n\u001b[1;32m      3\u001b[0m     \u001b[0;32mif\u001b[0m \u001b[0mcte_correct\u001b[0m\u001b[0;34m:\u001b[0m\u001b[0;34m\u001b[0m\u001b[0;34m\u001b[0m\u001b[0m\n\u001b[1;32m      4\u001b[0m         \u001b[0mvalue\u001b[0m \u001b[0;34m=\u001b[0m \u001b[0;34m'PERFORM'\u001b[0m\u001b[0;34m\u001b[0m\u001b[0;34m\u001b[0m\u001b[0m\n\u001b[1;32m      5\u001b[0m     \u001b[0;32melse\u001b[0m\u001b[0;34m:\u001b[0m\u001b[0;34m\u001b[0m\u001b[0;34m\u001b[0m\u001b[0m\n",
      "\u001b[0;31mNameError\u001b[0m: name 'raw_files' is not defined"
     ]
    }
   ],
   "source": [
    "for file in raw_files:\n",
    "    \n",
    "    if cte_correct: \n",
    "        value = 'PERFORM'\n",
    "    else: \n",
    "        value = 'OMIT'\n",
    "        \n",
    "    fits.setval(file, 'PCTECORR', value=value)\n",
    "    \n",
    "    #fits.setval(file, 'DARKCORR', value = 'OMIT')"
   ]
  },
  {
   "cell_type": "code",
   "execution_count": 5,
   "id": "fc0c4afa",
   "metadata": {},
   "outputs": [],
   "source": [
    "os.environ['CRDS_SERVER_URL'] = 'https://hst-crds.stsci.edu'\n",
    "os.environ['CRDS_SERVER'] = 'https://hst-crds.stsci.edu'\n",
    "os.environ['CRDS_PATH'] = './crds_cache'\n",
    "os.environ['jref'] = './crds_cache/references/hst/acs/'"
   ]
  },
  {
   "cell_type": "code",
   "execution_count": 6,
   "id": "4ba065ec",
   "metadata": {},
   "outputs": [
    {
     "ename": "NameError",
     "evalue": "name 'raw_files' is not defined",
     "output_type": "error",
     "traceback": [
      "\u001b[0;31m---------------------------------------------------------------------------\u001b[0m",
      "\u001b[0;31mNameError\u001b[0m                                 Traceback (most recent call last)",
      "\u001b[0;32m/var/folders/f4/jc_7bzjs2f962hf7y2h6vcfh0000gt/T/ipykernel_1826/2737027756.py\u001b[0m in \u001b[0;36m<module>\u001b[0;34m\u001b[0m\n\u001b[0;32m----> 1\u001b[0;31m \u001b[0;32mfor\u001b[0m \u001b[0mfile\u001b[0m \u001b[0;32min\u001b[0m \u001b[0mraw_files\u001b[0m\u001b[0;34m:\u001b[0m\u001b[0;34m\u001b[0m\u001b[0;34m\u001b[0m\u001b[0m\n\u001b[0m\u001b[1;32m      2\u001b[0m     \u001b[0mcommand_line_input\u001b[0m \u001b[0;34m=\u001b[0m \u001b[0;34m'crds bestrefs --files {:} --sync-references=1 --update-bestrefs'\u001b[0m\u001b[0;34m.\u001b[0m\u001b[0mformat\u001b[0m\u001b[0;34m(\u001b[0m\u001b[0mfile\u001b[0m\u001b[0;34m)\u001b[0m\u001b[0;34m\u001b[0m\u001b[0;34m\u001b[0m\u001b[0m\n\u001b[1;32m      3\u001b[0m     \u001b[0mos\u001b[0m\u001b[0;34m.\u001b[0m\u001b[0msystem\u001b[0m\u001b[0;34m(\u001b[0m\u001b[0mcommand_line_input\u001b[0m\u001b[0;34m)\u001b[0m\u001b[0;34m\u001b[0m\u001b[0;34m\u001b[0m\u001b[0m\n",
      "\u001b[0;31mNameError\u001b[0m: name 'raw_files' is not defined"
     ]
    }
   ],
   "source": [
    "for file in raw_files:\n",
    "    command_line_input = 'crds bestrefs --files {:} --sync-references=1 --update-bestrefs'.format(file)\n",
    "    os.system(command_line_input)"
   ]
  },
  {
   "cell_type": "code",
   "execution_count": 7,
   "id": "2d483f70",
   "metadata": {},
   "outputs": [
    {
     "name": "stdout",
     "output_type": "stream",
     "text": [
      "git tag: 2.7.1\n",
      "git branch: HEAD\n",
      "HEAD @: a1d9cd3f61883e6115c1bab04cdf072946d1658a\n",
      "\n",
      "\n",
      "CALBEG*** CALACS -- Version 10.3.2 (26-Apr-2021) ***\n",
      "Begin    27-Jun-2022 12:27:44 CDT\n",
      "\n",
      "\n",
      "Input    jec401010_asn.fits\n",
      "\n",
      "*** ERROR in HST I/O functions:\n",
      "Filename jec401010_asn.fits EXTNAME  EXTVER 0 CFITSIO status 104\n",
      "failed to find or open the following file: (ffopen)jec401010_asn.fits[0]\n",
      "Error opening image array.\n",
      "ERROR:    File jec401010_asn.fits not found for processing\n",
      "ERROR:    CALACS processing NOT completed for jec401010_asn.fits\n",
      "ERROR:    CALACS processing NOT completed for jec401010_asn.fits\n",
      "ERROR:    Open failed.\n",
      "ERROR:    Can't open file \n"
     ]
    }
   ],
   "source": [
    "os.system('calacs.e jec401010_asn.fits');"
   ]
  },
  {
   "cell_type": "code",
   "execution_count": null,
   "id": "0a208a69",
   "metadata": {},
   "outputs": [],
   "source": [
    "if cte_correct:\n",
    "    img_files = 'jec401*n[o-x]q_flc.fits'\n",
    "else:\n",
    "    img_files = 'jec401*n[o-x]q_flt.fits'\n",
    "\n",
    "updatewcs.updatewcs(img_files, use_db=False)"
   ]
  }
 ],
 "metadata": {
  "kernelspec": {
   "display_name": "Python 3 (ipykernel)",
   "language": "python",
   "name": "python3"
  },
  "language_info": {
   "codemirror_mode": {
    "name": "ipython",
    "version": 3
   },
   "file_extension": ".py",
   "mimetype": "text/x-python",
   "name": "python",
   "nbconvert_exporter": "python",
   "pygments_lexer": "ipython3",
   "version": "3.7.13"
  }
 },
 "nbformat": 4,
 "nbformat_minor": 5
}
