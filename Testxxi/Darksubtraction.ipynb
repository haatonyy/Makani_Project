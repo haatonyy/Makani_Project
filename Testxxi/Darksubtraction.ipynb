{
 "cells": [
  {
   "cell_type": "code",
   "execution_count": 1,
   "id": "f4f00941",
   "metadata": {},
   "outputs": [],
   "source": [
    "from astropy.io import fits\n",
    "from matplotlib import pyplot as plt\n",
    "import numpy as np\n",
    "import glob\n",
    "import shutil\n",
    "import os\n",
    "from get_center import get_center"
   ]
  },
  {
   "cell_type": "code",
   "execution_count": 2,
   "id": "71c087d3",
   "metadata": {},
   "outputs": [],
   "source": [
    "path = '/Users/ha/Makani_Project/'\n",
    "lst_raw = glob.glob(path + '/data/*/*/*raw.fits')\n",
    "dark_lst = glob.glob(path + '/darks/HST/*/*raw.fits')"
   ]
  },
  {
   "cell_type": "markdown",
   "id": "f9c62d06",
   "metadata": {},
   "source": [
    "Function to create an average dark from archived data knowing a upper temperature"
   ]
  },
  {
   "cell_type": "markdown",
   "id": "4e5a2886",
   "metadata": {},
   "source": [
    "Flag out the galaxy from each frame ( real data )"
   ]
  },
  {
   "cell_type": "code",
   "execution_count": 3,
   "id": "9e288062",
   "metadata": {},
   "outputs": [
    {
     "name": "stderr",
     "output_type": "stream",
     "text": [
      "/Users/ha/Makani_Project/Testxxi/get_center.py:55: RuntimeWarning: invalid value encountered in long_scalars\n",
      "  i_center = i_integral/total_flux\n",
      "/Users/ha/Makani_Project/Testxxi/get_center.py:56: RuntimeWarning: invalid value encountered in long_scalars\n",
      "  j_center = j_integral/total_flux\n"
     ]
    },
    {
     "name": "stdout",
     "output_type": "stream",
     "text": [
      "CPU times: user 5.23 s, sys: 1.47 s, total: 6.7 s\n",
      "Wall time: 9.46 s\n"
     ]
    }
   ],
   "source": [
    "%%time\n",
    "#dark_file = fits.open('avg_dark_archived_uppertemp24.fits')\n",
    "total_exptime = 0\n",
    "\n",
    "for i in range(len(lst_raw)):\n",
    "    flaged_table = np.ones((1024,1024))\n",
    "    flaged_subtracted = np.zeros((1024, 1024))\n",
    "    \n",
    "    filename = lst_raw[i]\n",
    "    rawfile = fits.open(filename)\n",
    "    rawdata = rawfile[1].data\n",
    "    exptime = rawfile[0].header['EXPTIME']\n",
    "    rootname = rawfile[0].header['ROOTNAME']\n",
    "    \n",
    "    x_center, y_center = get_center(filename)\n",
    "    if np.isnan(x_center) or np.isnan(y_center):\n",
    "        continue\n",
    "    x_center, y_center = int(x_center), int(y_center)    \n",
    "    \n",
    "    #flag_table; flag_subtracted table\n",
    "    flaged_subtracted = fits.open(filename)[1].data\n",
    "    \n",
    "    e = 30\n",
    "    for i in range(y_center -e, y_center + e):\n",
    "        for j in range(x_center - e, x_center + e):\n",
    "            flaged_table[i][j] = 0.0\n",
    "            flaged_subtracted[i][j] = 0\n",
    "\n",
    "            \n",
    "    #create a flaged file\n",
    "    Primary = rawfile['Primary']\n",
    "    SCI = fits.ImageHDU(rawdata, name = 'SCI', header = rawfile['SCI'].header)\n",
    "    FLAG = fits.ImageHDU(flaged_table, name = 'FLAG')\n",
    "    FLAG_subtracted = fits.ImageHDU(flaged_subtracted, name = 'FS')\n",
    "    hdul = fits.HDUList([Primary, SCI, FLAG, FLAG_subtracted])\n",
    "    hdul.writeto(rootname + '_flaged.fits', overwrite = True)\n",
    "    \n",
    "    \n",
    "    #create a subtracted file\n",
    "    #dark_frame = dark_file[0].data * exptime\n",
    "    #new_data = rawdata - dark_frame\n",
    "    \n",
    "    #subtracted_SCI = fits.ImageHDU(new_data, name = 'SCI', header = rawfile['SCI'].header)\n",
    "    #subtracted_hdul = fits.HDUList([Primary, subtracted_SCI, FLAG])\n",
    "    #subtracted_hdul.writeto(filename[-18:-9] + '_subtracted_24.fits', overwrite = True)\n",
    "    "
   ]
  },
  {
   "cell_type": "code",
   "execution_count": 4,
   "id": "c8fcb431",
   "metadata": {},
   "outputs": [],
   "source": [
    "directory_name = 'flaged'\n",
    "parent_path = '/Users/ha/Makani_Project/Testxxi'\n",
    "path = os.path.join(parent_path, directory_name)\n",
    "os.makedirs(path)"
   ]
  },
  {
   "cell_type": "code",
   "execution_count": 5,
   "id": "8e8c8ee1",
   "metadata": {},
   "outputs": [],
   "source": [
    "old_flaged_lst = glob.glob('*_flaged.fits')\n",
    "for files_path in old_flaged_lst:\n",
    "    shutil.move(files_path, path)"
   ]
  },
  {
   "cell_type": "markdown",
   "id": "329261ff",
   "metadata": {},
   "source": [
    "Combine all the flaged file to create a new dark frame"
   ]
  },
  {
   "cell_type": "code",
   "execution_count": 6,
   "id": "e9d6cb74",
   "metadata": {},
   "outputs": [
    {
     "name": "stdout",
     "output_type": "stream",
     "text": [
      "CPU times: user 891 ms, sys: 247 ms, total: 1.14 s\n",
      "Wall time: 3.33 s\n"
     ]
    }
   ],
   "source": [
    "%%time\n",
    "flaged_lst =  glob.glob('flaged/*_flaged.fits')\n",
    "sumdata_1subtracted = np.zeros((1024,1024))\n",
    "exptime_table = np.zeros((1024,1024))\n",
    "for filename in flaged_lst:\n",
    "        file = fits.open(filename)\n",
    "        data = file[1].data\n",
    "        flaged_table = file['FLAG'].data\n",
    "        flaged_subtracted = file['FS'].data\n",
    "        exptime = file[0].header['EXPTIME']\n",
    "\n",
    "        exptime_table += exptime * flaged_table\n",
    "        sumdata_1subtracted += flaged_subtracted\n",
    "        #print(file[0].header['DATE'])\n",
    "for i in range(0, 1024):\n",
    "    for j in range(0, 1024):\n",
    "        sumdata_1subtracted[i][j] /= exptime_table[i][j]\n",
    "\n",
    "Primary = fits.PrimaryHDU()\n",
    "SCI = fits.ImageHDU(sumdata_1subtracted, name = 'SCI')\n",
    "hdul = fits.HDUList([Primary, SCI])\n",
    "hdul.writeto('avg_dark_summed_data.fits', overwrite = True)"
   ]
  },
  {
   "cell_type": "code",
   "execution_count": 7,
   "id": "02b88e31",
   "metadata": {},
   "outputs": [],
   "source": [
    "arch_temp_2022 = []\n",
    "arch_darks_2022 = []\n",
    "for item in dark_lst:\n",
    "    file = fits.open(item)\n",
    "    exptime = file[0].header['EXPTIME']\n",
    "    temp = (file[1].header['MDECODT1'] + file[1].header['MDECODT2']) /2 \n",
    "    year = int(file[0].header['DATE-OBS'][:4])\n",
    "    data_ps = file[1].data/ exptime\n",
    "    \n",
    "    if year == 2022 and temp >= 0.0 and temp <= 30.0:\n",
    "        arch_temp_2022.append(temp)\n",
    "        sample = data_ps[471: 822, 471:822]\n",
    "        darks = sum(sum(sample)) / (len(sample) * len(sample[0]))\n",
    "        arch_darks_2022.append(darks)\n",
    "\n",
    "arch_temp_2021 = []\n",
    "arch_darks_2021 = []\n",
    "for item in dark_lst:\n",
    "    file = fits.open(item)\n",
    "    exptime = file[0].header['EXPTIME']\n",
    "    temp = (file[1].header['MDECODT1'] + file[1].header['MDECODT2']) /2 \n",
    "    year = int(file[0].header['DATE-OBS'][:4])\n",
    "    data_ps = file[1].data/ exptime\n",
    "    \n",
    "    if year == 2021 and temp >= 0.0 and temp <= 30.0:\n",
    "        arch_temp_2021.append(temp)\n",
    "        sample = data_ps[471: 822, 471:822]\n",
    "        darks = sum(sum(sample)) / (len(sample) * len(sample[0]))\n",
    "        arch_darks_2021.append(darks)\n",
    "        \n",
    "arch_temp_2020 = []\n",
    "arch_darks_2020 = []\n",
    "for item in dark_lst:\n",
    "    file = fits.open(item)\n",
    "    exptime = file[0].header['EXPTIME']\n",
    "    temp = (file[1].header['MDECODT1'] + file[1].header['MDECODT2']) /2 \n",
    "    year = int(file[0].header['DATE-OBS'][:4])\n",
    "    data_ps = file[1].data/ exptime\n",
    "    \n",
    "    if year == 2020 and temp >= 0.0 and temp <= 30.0:\n",
    "        arch_temp_2020.append(temp)\n",
    "        sample = data_ps[471: 822, 471:822]\n",
    "        darks = sum(sum(sample)) / (len(sample) * len(sample[0]))\n",
    "        arch_darks_2020.append(darks)\n",
    "        \n",
    "data_temp = []\n",
    "data_darks = []\n",
    "for item in flaged_lst:\n",
    "    file = fits.open(item)\n",
    "    exptime = file[0].header['EXPTIME']\n",
    "    temp = (file[1].header['MDECODT1'] + file[1].header['MDECODT2']) /2 \n",
    "    data_ps = file[1].data/ exptime\n",
    "    \n",
    "    data_temp.append(temp)\n",
    "    sample = data_ps[471:822 , 471:822]\n",
    "    darks = sum(sum(sample)) /( (len(sample) * len(sample[0])) - (2*e)**2)\n",
    "    data_darks.append(darks)\n"
   ]
  },
  {
   "cell_type": "code",
   "execution_count": 8,
   "id": "bf5e49b3",
   "metadata": {},
   "outputs": [
    {
     "data": {
      "text/plain": [
       "<matplotlib.legend.Legend at 0x7f99f0964990>"
      ]
     },
     "execution_count": 8,
     "metadata": {},
     "output_type": "execute_result"
    },
    {
     "data": {
      "image/png": "[encoded data removed]",
      "text/plain": [
       "<Figure size 432x288 with 1 Axes>"
      ]
     },
     "metadata": {
      "needs_background": "light"
     },
     "output_type": "display_data"
    }
   ],
   "source": [
    "#plt.plot(arch_temp_2020, arch_darks_2020, '.', label = 'archived_2020')    \n",
    "plt.plot(arch_temp_2021, arch_darks_2021, '.', label = 'archived_2021')\n",
    "plt.plot(arch_temp_2022, arch_darks_2022, '.', label = 'archived_2022')\n",
    "plt.plot(data_temp, data_darks, '.', label = 'data')\n",
    "plt.legend()"
   ]
  },
  {
   "cell_type": "code",
   "execution_count": 9,
   "id": "11fe2bce",
   "metadata": {},
   "outputs": [],
   "source": [
    "data_temp = []\n",
    "data_darks = []\n",
    "visit_lst = [1, 3, 4, 5, 7, 8, 9, 10, 56, 57, 58]\n",
    "for visit_num in visit_lst:\n",
    "    l = []\n",
    "    t = []\n",
    "    for item in flaged_lst:\n",
    "        file = fits.open(item)\n",
    "        exptime = file[0].header['EXPTIME']\n",
    "        temp = (file[1].header['MDECODT1'] + file[1].header['MDECODT2']) /2 \n",
    "        year = (file[0].header['DATE-OBS'])\n",
    "        data_ps = file[1].data/ exptime\n",
    "        visit = int(file[0].header['LINENUM'][:2])\n",
    "        \n",
    "        if visit == visit_num:\n",
    "            #print(visit_num, year)\n",
    "\n",
    "            t.append(temp)\n",
    "            sample = data_ps[471:822 , 471:822]\n",
    "            #sample = data_ps\n",
    "            darks = sum(sum(sample)) /( (len(sample) * len(sample[0])) - (2*e)**2)\n",
    "            l.append(darks)\n",
    "    data_darks.append(l)\n",
    "    data_temp.append(t)"
   ]
  },
  {
   "cell_type": "code",
   "execution_count": 10,
   "id": "87bfda83",
   "metadata": {},
   "outputs": [
    {
     "data": {
      "image/png": "[encoded data removed]",
      "text/plain": [
       "<Figure size 432x288 with 1 Axes>"
      ]
     },
     "metadata": {
      "needs_background": "light"
     },
     "output_type": "display_data"
    }
   ],
   "source": [
    "for i in range(len(data_darks)):\n",
    "    plt.plot(data_temp[i], data_darks[i], 'o', label = '#'+str(visit_lst[i]))\n",
    "    plt.legend()\n",
    "    #plt.show()"
   ]
  },
  {
   "cell_type": "markdown",
   "id": "5983e23e",
   "metadata": {},
   "source": [
    "Create primary dark"
   ]
  },
  {
   "cell_type": "markdown",
   "id": "27c788e6",
   "metadata": {},
   "source": [
    "# CHECKPOINT"
   ]
  },
  {
   "cell_type": "code",
   "execution_count": 11,
   "id": "d53557ee",
   "metadata": {},
   "outputs": [],
   "source": [
    "uptemp = 20"
   ]
  },
  {
   "cell_type": "code",
   "execution_count": 12,
   "id": "de2684ac",
   "metadata": {},
   "outputs": [
    {
     "name": "stdout",
     "output_type": "stream",
     "text": [
      "25\n",
      "CPU times: user 1.95 s, sys: 144 ms, total: 2.1 s\n",
      "Wall time: 2.25 s\n"
     ]
    }
   ],
   "source": [
    "%%time\n",
    "sumdata_1subtracted = np.zeros((1024,1024))\n",
    "exptime_table = np.zeros((1024,1024))\n",
    "num_files_combined = 0\n",
    "for filename in flaged_lst:\n",
    "    file = fits.open(filename)\n",
    "    data = file[1].data\n",
    "    flaged_table = file['FLAG'].data\n",
    "    flaged_subtracted = file['FS'].data\n",
    "    exptime = file[0].header['EXPTIME']\n",
    "    temp = (file[1].header['MDECODT1'] + file[1].header['MDECODT2']) /2 \n",
    "        \n",
    "    if temp > uptemp:\n",
    "        continue\n",
    "    num_files_combined += 1\n",
    "    exptime_table += exptime * flaged_table\n",
    "    sumdata_1subtracted += flaged_subtracted\n",
    "        \n",
    "for filename in dark_lst:\n",
    "    file = fits.open(filename)\n",
    "    data = file[1].data\n",
    "    exptime = file[0].header['EXPTIME']\n",
    "    temp = (file[1].header['MDECODT1'] + file[1].header['MDECODT2']) /2 \n",
    "    flaged_table = np.ones((1024, 1024))\n",
    "    year = int(file[0].header['DATE-OBS'][:4])\n",
    "    if temp <= uptemp and temp >= 0.0 and year >= 2019:\n",
    "        num_files_combined += 1\n",
    "        exptime_table += exptime * flaged_table\n",
    "        sumdata_1subtracted += data\n",
    "\n",
    "for i in range(0, 1024):\n",
    "    for j in range(0, 1024):\n",
    "        sumdata_1subtracted[i][j] /= exptime_table[i][j]\n",
    "\n",
    "print(num_files_combined)\n",
    "Primary = fits.PrimaryHDU()\n",
    "SCI = fits.ImageHDU(sumdata_1subtracted, name = 'SCI')\n",
    "hdul = fits.HDUList([Primary, SCI])\n",
    "hdul.writeto('primary_dark_uptemp_'+str(uptemp)+'.fits', overwrite = True)"
   ]
  },
  {
   "cell_type": "markdown",
   "id": "2d17e81b",
   "metadata": {},
   "source": [
    "Primary Dark Subtraction"
   ]
  },
  {
   "cell_type": "code",
   "execution_count": 13,
   "id": "af17f7ba",
   "metadata": {},
   "outputs": [],
   "source": [
    "pri_dark = fits.open('primary_dark_uptemp_'+str(uptemp)+'.fits')\n",
    "dark_data = pri_dark[1].data\n",
    "\n",
    "for filename in flaged_lst:\n",
    "    file = fits.open(filename)\n",
    "    exptime = file[0].header['EXPTIME']\n",
    "    temp = (file[1].header['MDECODT1'] + file[1].header['MDECODT2']) /2 \n",
    "    real_data = file[1].data\n",
    "    rootname = file[0].header['ROOTNAME']\n",
    "    new_data = real_data - dark_data * exptime \n",
    "    \n",
    "    Primary = file[0]\n",
    "    SCI = fits.ImageHDU(new_data, header = file[1].header, name = 'SCI')\n",
    "    \n",
    "    hdul = fits.HDUList([Primary, SCI])\n",
    "    \n",
    "    hdul.writeto(rootname + '_1subtracted_'+str(uptemp)+'.fits', overwrite = True)"
   ]
  },
  {
   "cell_type": "code",
   "execution_count": 14,
   "id": "f878382f",
   "metadata": {},
   "outputs": [],
   "source": [
    "directory_name = '1subtracted_' + str(uptemp)\n",
    "parent_path = '/Users/ha/Makani_Project/Testxxi'\n",
    "path = os.path.join(parent_path, directory_name)\n",
    "os.makedirs(path)"
   ]
  },
  {
   "cell_type": "code",
   "execution_count": 15,
   "id": "b7d742e0",
   "metadata": {},
   "outputs": [],
   "source": [
    "old_1subtracted_lst = glob.glob('*_1subtracted_'+str(uptemp)+'.fits')\n",
    "for files_path in old_1subtracted_lst:\n",
    "    shutil.move(files_path, path)"
   ]
  },
  {
   "cell_type": "code",
   "execution_count": 16,
   "id": "8baee9a7",
   "metadata": {},
   "outputs": [],
   "source": [
    "pri_subtracted_lst = glob.glob('1subtracted_'+str(uptemp)+'/*_1subtracted_'+str(uptemp)+'.fits')"
   ]
  },
  {
   "cell_type": "code",
   "execution_count": 17,
   "id": "69e23715",
   "metadata": {},
   "outputs": [
    {
     "data": {
      "text/plain": [
       "[<matplotlib.lines.Line2D at 0x7f99d0268d90>]"
      ]
     },
     "execution_count": 17,
     "metadata": {},
     "output_type": "execute_result"
    },
    {
     "data": {
      "image/png": "[encoded data removed]",
      "text/plain": [
       "<Figure size 432x288 with 1 Axes>"
      ]
     },
     "metadata": {
      "needs_background": "light"
     },
     "output_type": "display_data"
    }
   ],
   "source": [
    "width_2dark = 300\n",
    "x_2dark = 600\n",
    "y_2dark = 650\n",
    "temps = []\n",
    "res = []\n",
    "for filename in pri_subtracted_lst:\n",
    "    #print(filename)\n",
    "    file = fits.open(filename)\n",
    "    data = file[1].data\n",
    "    \n",
    "    exptime = file[0].header['EXPTIME']\n",
    "    temp = (file[1].header['MDECODT1'] + file[1].header['MDECODT2']) /2 \n",
    "    X_center = int(get_center(filename)[0])\n",
    "    Y_center = int(get_center(filename)[1])\n",
    "    \n",
    "    e = 50\n",
    "    for i in range(Y_center - e, Y_center + e):\n",
    "        for j in range(X_center - e, X_center + e):\n",
    "            data[i][j] = 0\n",
    "    sample = data[y_2dark - width_2dark: y_2dark + width_2dark,\n",
    "                                   x_2dark - width_2dark: x_2dark + width_2dark]\n",
    "\n",
    "    temps.append(temp)\n",
    "    res.append( sum(sum(sample)) / (sample.size - e**2) )    \n",
    "\n",
    "#temps_24 = []\n",
    "#res_24 = []\n",
    "#for filename in pri_subtracted_lst_24:\n",
    "#    #print(filename)\n",
    "#    file = fits.open(filename)\n",
    "#    data = file[1].data\n",
    "#    \n",
    "#    exptime = file[0].header['EXPTIME']\n",
    "#    temp = (file[1].header['MDECODT1'] + file[1].header['MDECODT2']) /2 \n",
    "#    X_center = int(get_center(filename)[0])\n",
    "#    Y_center = int(get_center(filename)[1])\n",
    "#    \n",
    "#    e = 50\n",
    "#    for i in range(Y_center - e, Y_center + e):\n",
    "#        for j in range(X_center - e, X_center + e):\n",
    "#            data[i][j] = 0\n",
    "#    sample = data[y_2dark - width_2dark: y_2dark + width_2dark,\n",
    "#                                   x_2dark - width_2dark: x_2dark + width_2dark]\n",
    "#    \n",
    "#    temps_24.append(temp)\n",
    "#    res_24.append( sum(sum(sample)) / (sample.size - e**2) )\n",
    "plt.plot(temps, res, '.')\n",
    "plt.plot(temps, [0] * len(temps))\n",
    "#plt.plot(temps_24, res_24, '.')"
   ]
  },
  {
   "cell_type": "code",
   "execution_count": 18,
   "id": "bd4ab7f4",
   "metadata": {},
   "outputs": [
    {
     "data": {
      "text/plain": [
       "[-0.0017840440664798314,\n",
       " -0.001419155102342666,\n",
       " -0.0009935575318886073,\n",
       " -0.0008879972061105299,\n",
       " -0.000871110680640292,\n",
       " -0.000858112215125906,\n",
       " -0.0008333131176367775,\n",
       " -0.0007137457370067635,\n",
       " -0.00013626749892962063,\n",
       " 0.0002429909024384699,\n",
       " 0.00029750621424071534,\n",
       " 0.0003083035771508852,\n",
       " 0.0006460859538695232,\n",
       " 0.0007163389874078227,\n",
       " 0.0008176609286622886,\n",
       " 0.0016094608040944241,\n",
       " 0.0017604747114736204,\n",
       " 0.0019707679352081,\n",
       " 0.0025466949379997837,\n",
       " 0.0026228704552555353,\n",
       " 0.0026818093508797704,\n",
       " 0.002695938489112696,\n",
       " 0.002785409904922633,\n",
       " 0.003058222172407084,\n",
       " 0.0032156582204149776,\n",
       " 0.003330526638319414,\n",
       " 0.0036185163939246945,\n",
       " 0.003708789006456404,\n",
       " 0.00438716270454988,\n",
       " 0.004396041796064862,\n",
       " 0.004634900901512954,\n",
       " 0.004635685479518479,\n",
       " 0.004654566947226048,\n",
       " 0.00496959143097939,\n",
       " 0.005593072908933937,\n",
       " 0.006264344250488634,\n",
       " 0.006681438844138068,\n",
       " 0.006735216940229589,\n",
       " 0.007288510507345614,\n",
       " 0.008170594087274538,\n",
       " 0.008199483711403523,\n",
       " 0.008866220263776075,\n",
       " 0.009797049422745667,\n",
       " 0.010572116628336214,\n",
       " 0.012143345998306057,\n",
       " 0.012321250590409435,\n",
       " 0.012537571036196222,\n",
       " 0.01283258866549963,\n",
       " 0.01308241244728715,\n",
       " 0.013692961939860132,\n",
       " 0.01541661338800858,\n",
       " 0.01670560147935213,\n",
       " 0.017350710036756988,\n",
       " 0.018122045101926977,\n",
       " 0.019088118383674316,\n",
       " 0.02067906045385618,\n",
       " 0.02118810453406454,\n",
       " 0.02434266269833612,\n",
       " 0.025338549520108007,\n",
       " 0.02761896820307797,\n",
       " 0.03138258505473179,\n",
       " 0.03216644496876046,\n",
       " 0.03268602277918439,\n",
       " 0.034384037851993954,\n",
       " 0.036735085617683544,\n",
       " 0.03685396141214546,\n",
       " 0.037399832615222284,\n",
       " 0.041555981485459796,\n",
       " 0.04290802444161541,\n",
       " 0.04326137986217262,\n",
       " 0.056156275352628765,\n",
       " 0.0602497960187245,\n",
       " 0.06203152283739635,\n",
       " 0.06694827313647302]"
      ]
     },
     "execution_count": 18,
     "metadata": {},
     "output_type": "execute_result"
    }
   ],
   "source": [
    "res.sort()\n",
    "res"
   ]
  },
  {
   "cell_type": "markdown",
   "id": "045aa637",
   "metadata": {},
   "source": [
    "Create secondary dark"
   ]
  },
  {
   "cell_type": "code",
   "execution_count": 19,
   "id": "78edf497",
   "metadata": {},
   "outputs": [],
   "source": [
    "pri_dark = fits.open('primary_dark_uptemp_'+str(uptemp)+'.fits')\n",
    "real_dark = fits.open('avg_dark_summed_data.fits')\n",
    "\n",
    "pri_dark_data = pri_dark[1].data\n",
    "real_dark_data = real_dark[1].data\n",
    "\n",
    "data = real_dark_data - pri_dark_data\n",
    "Primary = fits.PrimaryHDU(data)\n",
    "hdul = fits.HDUList([Primary])\n",
    "hdul.writeto('secondary_dark_'+str(uptemp)+'.fits', overwrite = True)"
   ]
  },
  {
   "cell_type": "markdown",
   "id": "9755f5e5",
   "metadata": {},
   "source": [
    "Secondary Dark Subtraction"
   ]
  },
  {
   "cell_type": "code",
   "execution_count": 20,
   "id": "865f7478",
   "metadata": {},
   "outputs": [
    {
     "data": {
      "image/png": "[encoded data removed]",
      "text/plain": [
       "<Figure size 432x288 with 1 Axes>"
      ]
     },
     "metadata": {
      "needs_background": "light"
     },
     "output_type": "display_data"
    },
    {
     "name": "stdout",
     "output_type": "stream",
     "text": [
      "CPU times: user 9.06 s, sys: 1.11 s, total: 10.2 s\n",
      "Wall time: 12.4 s\n"
     ]
    }
   ],
   "source": [
    "%%time\n",
    "width_2dark = 200\n",
    "x_2dark = 600\n",
    "y_2dark = 650\n",
    "sec_dark = fits.open('secondary_dark_'+str(uptemp)+'.fits')\n",
    "data_2dark = sec_dark[0].data\n",
    "sec_dark_sample = data_2dark[y_2dark - width_2dark: y_2dark + width_2dark,\n",
    "                                   x_2dark - width_2dark: x_2dark + width_2dark]\n",
    "A_2dark_ps = sum(sum(sec_dark_sample)) / (sec_dark_sample.size) \n",
    "\n",
    "temps = []\n",
    "coeffs = []\n",
    "for filename in pri_subtracted_lst:\n",
    "    file = fits.open(filename)\n",
    "    data = file[1].data\n",
    "    \n",
    "    exptime = file[0].header['EXPTIME']\n",
    "    temp = (file[1].header['MDECODT1'] + file[1].header['MDECODT2']) /2 \n",
    "    rootname = file[0].header['ROOTNAME']\n",
    "    X_center = int(get_center(filename)[0])\n",
    "    Y_center = int(get_center(filename)[1])\n",
    "    \n",
    "    \n",
    "    sumdata = 0\n",
    "    num_val = 0\n",
    "    e = 50\n",
    "    for i in range(y_2dark - width_2dark, y_2dark + width_2dark):\n",
    "        for j in range(x_2dark - width_2dark, x_2dark + width_2dark):\n",
    "            if i >= Y_center - e and i < Y_center + e and j >= X_center - e and j< X_center + e:\n",
    "                continue\n",
    "            sumdata += data[i][j]\n",
    "            num_val += 1\n",
    "    \n",
    "    A_data = sumdata/ num_val \n",
    "    \n",
    "    k = A_data/( A_2dark_ps * exptime) \n",
    "    if k < 0:\n",
    "        k = 0\n",
    "    coeffs.append(k)\n",
    "    temps.append(temp)\n",
    "    \n",
    "    new_data = data - k * data_2dark * exptime\n",
    "    Primary = file[0]\n",
    "    SCI = fits.ImageHDU(new_data, header = file[1].header, name = 'SCI')\n",
    "    \n",
    "    hdul = fits.HDUList([Primary, SCI])\n",
    "    \n",
    "    hdul.writeto(rootname + '_2subtracted_'+str(uptemp)+'.fits', overwrite = True)\n",
    "    #print(temp, np.median(coeff))\n",
    "plt.plot(temps,coeffs, '.')\n",
    "plt.plot(temps, [0] * len(temps))\n",
    "plt.show()"
   ]
  },
  {
   "cell_type": "code",
   "execution_count": 21,
   "id": "04a9fd80",
   "metadata": {},
   "outputs": [
    {
     "data": {
      "text/plain": [
       "[0,\n",
       " 0,\n",
       " 0,\n",
       " 0,\n",
       " 0,\n",
       " 0,\n",
       " 0,\n",
       " 0,\n",
       " 0,\n",
       " 0.004667304218437747,\n",
       " 0.0059941547279563885,\n",
       " 0.012429178188641662,\n",
       " 0.03912427923415753,\n",
       " 0.048768860867341925,\n",
       " 0.05582510993116207,\n",
       " 0.07594105574469388,\n",
       " 0.07878586310401266,\n",
       " 0.08973392549055459,\n",
       " 0.1487447528784301,\n",
       " 0.16073842165207447,\n",
       " 0.1695533364655114,\n",
       " 0.17130224858220064,\n",
       " 0.18814583114432065,\n",
       " 0.18925423236406533,\n",
       " 0.19648166769703299,\n",
       " 0.20538865569636408,\n",
       " 0.2179207214926606,\n",
       " 0.24593485836720053,\n",
       " 0.2580264962162845,\n",
       " 0.2826835173330269,\n",
       " 0.28444757959898265,\n",
       " 0.2915038286628046,\n",
       " 0.32343615673383597,\n",
       " 0.34408368540777146,\n",
       " 0.34595920179277284,\n",
       " 0.3892328781966333,\n",
       " 0.49629671735599123,\n",
       " 0.49972179025477315,\n",
       " 0.5017775233058875,\n",
       " 0.5201262983302019,\n",
       " 0.5466104259705955,\n",
       " 0.6973689046070867,\n",
       " 0.7015286234243842,\n",
       " 0.7767553539826287,\n",
       " 0.8056665177223776,\n",
       " 0.904511520894456,\n",
       " 0.9140070228295669,\n",
       " 0.926988550869992,\n",
       " 0.9361569613900703,\n",
       " 1.0410091508740895,\n",
       " 1.094773244852906,\n",
       " 1.157021535316243,\n",
       " 1.2788669031633577,\n",
       " 1.3643946821320263,\n",
       " 1.3697911157134128,\n",
       " 1.4591191709545552,\n",
       " 1.5864384413963606,\n",
       " 1.8114331655830604,\n",
       " 1.8726038371526232,\n",
       " 1.9867744110754977,\n",
       " 2.294655773767519,\n",
       " 2.372718753606803,\n",
       " 2.3783152762921316,\n",
       " 2.4510909869963293,\n",
       " 2.6298923499113886,\n",
       " 2.6989282860237305,\n",
       " 2.791380910522071,\n",
       " 3.0648993853478026,\n",
       " 3.0679798299445773,\n",
       " 3.0891531427822945,\n",
       " 4.058908594351873,\n",
       " 4.402090082684527,\n",
       " 4.486778638592419,\n",
       " 4.816444193943426]"
      ]
     },
     "execution_count": 21,
     "metadata": {},
     "output_type": "execute_result"
    }
   ],
   "source": [
    "coeffs.sort()\n",
    "coeffs"
   ]
  },
  {
   "cell_type": "code",
   "execution_count": 22,
   "id": "7d720a6c",
   "metadata": {},
   "outputs": [],
   "source": [
    "directory_name = '2subtracted_' + str(uptemp)\n",
    "parent_path = '/Users/ha/Makani_Project/Testxxi'\n",
    "path = os.path.join(parent_path, directory_name)\n",
    "os.makedirs(path)"
   ]
  },
  {
   "cell_type": "code",
   "execution_count": 23,
   "id": "41313314",
   "metadata": {},
   "outputs": [],
   "source": [
    "old_2subtracted_lst = glob.glob('*_2subtracted_'+str(uptemp)+'.fits')\n",
    "for files_path in old_2subtracted_lst:\n",
    "    shutil.move(files_path, path)"
   ]
  },
  {
   "cell_type": "code",
   "execution_count": 24,
   "id": "50c45f6b",
   "metadata": {},
   "outputs": [
    {
     "data": {
      "text/plain": [
       "[<matplotlib.lines.Line2D at 0x7f99f12a6250>]"
      ]
     },
     "execution_count": 24,
     "metadata": {},
     "output_type": "execute_result"
    },
    {
     "data": {
      "image/png": "[encoded data removed]",
      "text/plain": [
       "<Figure size 432x288 with 1 Axes>"
      ]
     },
     "metadata": {
      "needs_background": "light"
     },
     "output_type": "display_data"
    }
   ],
   "source": [
    "#sec_subtracted_lst_24 = glob.glob('2subtracted_'+str(24)+'/*_2subtracted_'+str(24)+'.fits')\n",
    "sec_subtracted_lst = glob.glob('2subtracted_'+str(uptemp)+'/*_2subtracted_'+str(uptemp)+'.fits')\n",
    "temps_20 = []\n",
    "res_20 = []\n",
    "for filename in sec_subtracted_lst:\n",
    "    #print(filename)\n",
    "    file = fits.open(filename)\n",
    "    data = file[1].data\n",
    "    \n",
    "    exptime = file[0].header['EXPTIME']\n",
    "    temp = (file[1].header['MDECODT1'] + file[1].header['MDECODT2']) /2 \n",
    "    X_center = int(get_center(filename)[0])\n",
    "    Y_center = int(get_center(filename)[1])\n",
    "    \n",
    "    e = 50\n",
    "    for i in range(Y_center - e, Y_center + e):\n",
    "        for j in range(X_center - e, X_center + e):\n",
    "            data[i][j] = 0\n",
    "    \n",
    "    sample = data[y_2dark - width_2dark: y_2dark + width_2dark,\n",
    "                                   x_2dark - width_2dark: x_2dark + width_2dark]    \n",
    "    temps_20.append(temp)\n",
    "    res_20.append( sum(sum(sample)) / (sample.size - e**2) )    \n",
    "\n",
    "#temps_24 = []\n",
    "#res_24 = []\n",
    "#for filename in sec_subtracted_lst_24:\n",
    "#    #print(filename)\n",
    "#    file = fits.open(filename)\n",
    "#    data = file[1].data\n",
    "    \n",
    "#    exptime = file[0].header['EXPTIME']\n",
    "#    temp = (file[1].header['MDECODT1'] + file[1].header['MDECODT2']) /2 \n",
    "#    X_center = int(get_center(filename)[0])\n",
    "#    Y_center = int(get_center(filename)[1])\n",
    "    \n",
    "#    e = 50\n",
    "#    for i in range(Y_center - e, Y_center + e):\n",
    "#        for j in range(X_center - e, X_center + e):\n",
    "#            data[i][j] = 0\n",
    "#    sample = data[y_2dark - width_2dark: y_2dark + width_2dark,\n",
    "#                                   x_2dark - width_2dark: x_2dark + width_2dark]\n",
    "    \n",
    "#    temps_24.append(temp)\n",
    "#    res_24.append( sum(sum(sample)) / (sample.size - e**2) )\n",
    "plt.plot(temps_20, res_20, '.')\n",
    "#plt.plot(temps_24, res_24, '.')"
   ]
  },
  {
   "cell_type": "code",
   "execution_count": null,
   "id": "b6455352",
   "metadata": {},
   "outputs": [],
   "source": []
  },
  {
   "cell_type": "code",
   "execution_count": null,
   "id": "2f26cc27",
   "metadata": {},
   "outputs": [],
   "source": []
  }
 ],
 "metadata": {
  "kernelspec": {
   "display_name": "Python 3 (ipykernel)",
   "language": "python",
   "name": "python3"
  },
  "language_info": {
   "codemirror_mode": {
    "name": "ipython",
    "version": 3
   },
   "file_extension": ".py",
   "mimetype": "text/x-python",
   "name": "python",
   "nbconvert_exporter": "python",
   "pygments_lexer": "ipython3",
   "version": "3.7.13"
  }
 },
 "nbformat": 4,
 "nbformat_minor": 5
}
