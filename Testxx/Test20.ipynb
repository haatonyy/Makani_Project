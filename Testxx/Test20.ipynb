{
 "cells": [
  {
   "cell_type": "code",
   "execution_count": 1,
   "id": "38905982",
   "metadata": {},
   "outputs": [
    {
     "name": "stderr",
     "output_type": "stream",
     "text": [
      "2022-06-27 11:26:30.482 xcodebuild[1582:21576] Requested but did not find extension point with identifier Xcode.IDEKit.ExtensionSentinelHostApplications for extension Xcode.DebuggerFoundation.AppExtensionHosts.watchOS of plug-in com.apple.dt.IDEWatchSupportCore\n",
      "2022-06-27 11:26:30.482 xcodebuild[1582:21576] Requested but did not find extension point with identifier Xcode.IDEKit.ExtensionPointIdentifierToBundleIdentifier for extension Xcode.DebuggerFoundation.AppExtensionToBundleIdentifierMap.watchOS of plug-in com.apple.dt.IDEWatchSupportCore\n"
     ]
    },
    {
     "name": "stdout",
     "output_type": "stream",
     "text": [
      "\n",
      "\n"
     ]
    }
   ],
   "source": [
    "import os\n",
    "import shutil\n",
    "import glob\n",
    "\n",
    "from astroquery.mast import Observations\n",
    "\n",
    "from astropy.io import fits\n",
    "from astropy.table import Table\n",
    "\n",
    "from stwcs import updatewcs"
   ]
  },
  {
   "cell_type": "code",
   "execution_count": 6,
   "id": "f27f0dac",
   "metadata": {},
   "outputs": [
    {
     "name": "stdout",
     "output_type": "stream",
     "text": [
      "Downloading URL https://mast.stsci.edu/api/v0.1/Download/file?uri=mast:HST/product/jec401010_spt.fits to ./mastDownload/HST/jec401010/jec401010_spt.fits ... [Done]\n",
      "Downloading URL https://mast.stsci.edu/api/v0.1/Download/file?uri=mast:HST/product/jec401010_asn.fits to ./mastDownload/HST/jec401010/jec401010_asn.fits ... [Done]\n",
      "Downloading URL https://mast.stsci.edu/api/v0.1/Download/file?uri=mast:HST/product/jec401noq_spt.fits to ./mastDownload/HST/jec401noq/jec401noq_spt.fits ... [Done]\n",
      "Downloading URL https://mast.stsci.edu/api/v0.1/Download/file?uri=mast:HST/product/jec401noq_raw.fits to ./mastDownload/HST/jec401noq/jec401noq_raw.fits ... [Done]\n",
      "Downloading URL https://mast.stsci.edu/api/v0.1/Download/file?uri=mast:HST/product/jec401nrq_spt.fits to ./mastDownload/HST/jec401nrq/jec401nrq_spt.fits ... [Done]\n",
      "Downloading URL https://mast.stsci.edu/api/v0.1/Download/file?uri=mast:HST/product/jec401nrq_raw.fits to ./mastDownload/HST/jec401nrq/jec401nrq_raw.fits ... [Done]\n",
      "Downloading URL https://mast.stsci.edu/api/v0.1/Download/file?uri=mast:HST/product/jec401nvq_spt.fits to ./mastDownload/HST/jec401nvq/jec401nvq_spt.fits ... [Done]\n",
      "Downloading URL https://mast.stsci.edu/api/v0.1/Download/file?uri=mast:HST/product/jec401nvq_raw.fits to ./mastDownload/HST/jec401nvq/jec401nvq_raw.fits ... [Done]\n",
      "Downloading URL https://mast.stsci.edu/api/v0.1/Download/file?uri=mast:HST/product/jec401nxq_spt.fits to ./mastDownload/HST/jec401nxq/jec401nxq_spt.fits ... [Done]\n",
      "Downloading URL https://mast.stsci.edu/api/v0.1/Download/file?uri=mast:HST/product/jec401nxq_raw.fits to ./mastDownload/HST/jec401nxq/jec401nxq_raw.fits ... [Done]\n"
     ]
    }
   ],
   "source": [
    "obs_table = Observations.query_criteria(proposal_id=16231, obs_id='jec401010*')\n",
    "\n",
    "\n",
    "dl_table = Observations.download_products(obs_table['obsid'],\n",
    "                                          productSubGroupDescription=['RAW', 'ASN', 'SPT'],\n",
    "                                          mrp_only=False)"
   ]
  },
  {
   "cell_type": "code",
   "execution_count": 7,
   "id": "d5c85309",
   "metadata": {},
   "outputs": [],
   "source": [
    "for row in dl_table:\n",
    "    oldfname = row['Local Path']\n",
    "    newfname = os.path.basename(oldfname)\n",
    "    os.rename(oldfname, newfname)\n",
    "    \n",
    "# Delete the mastDownload directory and all subdirectories it contains.\n",
    "shutil.rmtree('mastDownload')"
   ]
  },
  {
   "cell_type": "code",
   "execution_count": 8,
   "id": "77002d75",
   "metadata": {},
   "outputs": [
    {
     "name": "stdout",
     "output_type": "stream",
     "text": [
      "Filename: jec401010_asn.fits\n",
      "No.    Name      Ver    Type      Cards   Dimensions   Format\n",
      "  0  PRIMARY       1 PrimaryHDU      44   ()      \n",
      "  1  ASN           1 BinTableHDU     25   5R x 3C   [14A, 14A, L]   \n"
     ]
    }
   ],
   "source": [
    "asn_file = fits.open('jec401010_asn.fits')\n",
    "asn_file.info()"
   ]
  },
  {
   "cell_type": "code",
   "execution_count": 9,
   "id": "ef36af93",
   "metadata": {},
   "outputs": [],
   "source": [
    "asn_file = 'jec401010_asn.fits'\n",
    "raw_files = glob.glob('*_raw.fits')"
   ]
  },
  {
   "cell_type": "code",
   "execution_count": 10,
   "id": "bde85f78",
   "metadata": {},
   "outputs": [
    {
     "name": "stdout",
     "output_type": "stream",
     "text": [
      "Filename: jec401010_asn.fits\n",
      "No.    Name      Ver    Type      Cards   Dimensions   Format\n",
      "  0  PRIMARY       1 PrimaryHDU      44   ()      \n",
      "  1  ASN           1 BinTableHDU     25   5R x 3C   [14A, 14A, L]   \n",
      "Filename: jec401noq_raw.fits\n",
      "No.    Name      Ver    Type      Cards   Dimensions   Format\n",
      "  0  PRIMARY       1 PrimaryHDU     176   ()      \n",
      "  1  SCI           1 ImageHDU        85   (1024, 1024)   int16   \n",
      "  2  ERR           1 ImageHDU        49   ()      \n",
      "  3  DQ            1 ImageHDU        43   ()      \n"
     ]
    }
   ],
   "source": [
    "with fits.open(asn_file) as hdulist:\n",
    "    hdulist.info()\n",
    "    \n",
    "with fits.open(raw_files[0]) as hdulist:\n",
    "    hdulist.info()"
   ]
  },
  {
   "cell_type": "code",
   "execution_count": 11,
   "id": "955670cb",
   "metadata": {},
   "outputs": [],
   "source": [
    "with fits.open(asn_file, mode='update') as asn_hdu:\n",
    "    asn_tab = asn_hdu[1].data\n",
    "    asn_tab = asn_tab[asn_tab['MEMTYPE'] == 'EXP-DTH']"
   ]
  },
  {
   "cell_type": "code",
   "execution_count": 12,
   "id": "4be2864f",
   "metadata": {},
   "outputs": [],
   "source": [
    "cte_correct = False"
   ]
  },
  {
   "cell_type": "code",
   "execution_count": 34,
   "id": "d96af239",
   "metadata": {},
   "outputs": [],
   "source": [
    "for file in raw_files:\n",
    "    \n",
    "    if cte_correct: \n",
    "        value = 'PERFORM'\n",
    "    else: \n",
    "        value = 'OMIT'\n",
    "        \n",
    "    fits.setval(file, 'PCTECORR', value=value)\n",
    "    \n",
    "    fits.setval(file, 'DARKCORR', value = 'OMIT')\n",
    "    \n"
   ]
  },
  {
   "cell_type": "code",
   "execution_count": 14,
   "id": "dae27306",
   "metadata": {},
   "outputs": [],
   "source": [
    "os.environ['CRDS_SERVER_URL'] = 'https://hst-crds.stsci.edu'\n",
    "os.environ['CRDS_SERVER'] = 'https://hst-crds.stsci.edu'\n",
    "os.environ['CRDS_PATH'] = './crds_cache'\n",
    "os.environ['jref'] = './crds_cache/references/hst/acs/'"
   ]
  },
  {
   "cell_type": "code",
   "execution_count": 15,
   "id": "8aaa9ea5",
   "metadata": {},
   "outputs": [
    {
     "name": "stderr",
     "output_type": "stream",
     "text": [
      "CRDS - INFO -  Fetching  ./crds_cache/mappings/hst/hst_wfpc2_wf4tfile_0250.rmap       678 bytes  (1 / 140 files) (0 / 1.7 M bytes)\n",
      "CRDS - INFO -  Fetching  ./crds_cache/mappings/hst/hst_wfpc2_shadfile_0250.rmap       977 bytes  (2 / 140 files) (678 / 1.7 M bytes)\n",
      "CRDS - INFO -  Fetching  ./crds_cache/mappings/hst/hst_wfpc2_offtab_0250.rmap         642 bytes  (3 / 140 files) (1.7 K / 1.7 M bytes)\n",
      "CRDS - INFO -  Fetching  ./crds_cache/mappings/hst/hst_wfpc2_maskfile_0250.rmap       685 bytes  (4 / 140 files) (2.3 K / 1.7 M bytes)\n",
      "CRDS - INFO -  Fetching  ./crds_cache/mappings/hst/hst_wfpc2_idctab_0250.rmap         696 bytes  (5 / 140 files) (3.0 K / 1.7 M bytes)\n",
      "CRDS - INFO -  Fetching  ./crds_cache/mappings/hst/hst_wfpc2_flatfile_0250.rmap    30.0 K bytes  (6 / 140 files) (3.7 K / 1.7 M bytes)\n",
      "CRDS - INFO -  Fetching  ./crds_cache/mappings/hst/hst_wfpc2_dgeofile_0250.rmap       801 bytes  (7 / 140 files) (33.7 K / 1.7 M bytes)\n",
      "CRDS - INFO -  Fetching  ./crds_cache/mappings/hst/hst_wfpc2_darkfile_0250.rmap   178.4 K bytes  (8 / 140 files) (34.5 K / 1.7 M bytes)\n",
      "CRDS - INFO -  Fetching  ./crds_cache/mappings/hst/hst_wfpc2_biasfile_0250.rmap     3.3 K bytes  (9 / 140 files) (212.8 K / 1.7 M bytes)\n",
      "CRDS - INFO -  Fetching  ./crds_cache/mappings/hst/hst_wfpc2_atodfile_0250.rmap       874 bytes  (10 / 140 files) (216.1 K / 1.7 M bytes)\n",
      "CRDS - INFO -  Fetching  ./crds_cache/mappings/hst/hst_wfpc2_0250.imap                782 bytes  (11 / 140 files) (217.0 K / 1.7 M bytes)\n",
      "CRDS - INFO -  Fetching  ./crds_cache/mappings/hst/hst_wfc3_snkcfile_0003.rmap        681 bytes  (12 / 140 files) (217.8 K / 1.7 M bytes)\n",
      "CRDS - INFO -  Fetching  ./crds_cache/mappings/hst/hst_wfc3_pfltfile_0253.rmap     34.2 K bytes  (13 / 140 files) (218.5 K / 1.7 M bytes)\n",
      "CRDS - INFO -  Fetching  ./crds_cache/mappings/hst/hst_wfc3_pctetab_0004.rmap         698 bytes  (14 / 140 files) (252.6 K / 1.7 M bytes)\n",
      "CRDS - INFO -  Fetching  ./crds_cache/mappings/hst/hst_wfc3_oscntab_0250.rmap         747 bytes  (15 / 140 files) (253.3 K / 1.7 M bytes)\n",
      "CRDS - INFO -  Fetching  ./crds_cache/mappings/hst/hst_wfc3_npolfile_0254.rmap      4.0 K bytes  (16 / 140 files) (254.1 K / 1.7 M bytes)\n",
      "CRDS - INFO -  Fetching  ./crds_cache/mappings/hst/hst_wfc3_nlinfile_0250.rmap        726 bytes  (17 / 140 files) (258.1 K / 1.7 M bytes)\n",
      "CRDS - INFO -  Fetching  ./crds_cache/mappings/hst/hst_wfc3_mdriztab_0254.rmap        845 bytes  (18 / 140 files) (258.9 K / 1.7 M bytes)\n",
      "CRDS - INFO -  Fetching  ./crds_cache/mappings/hst/hst_wfc3_imphttab_0256.rmap        683 bytes  (19 / 140 files) (259.7 K / 1.7 M bytes)\n",
      "CRDS - INFO -  Fetching  ./crds_cache/mappings/hst/hst_wfc3_idctab_0254.rmap          661 bytes  (20 / 140 files) (260.4 K / 1.7 M bytes)\n",
      "CRDS - INFO -  Fetching  ./crds_cache/mappings/hst/hst_wfc3_flshfile_0253.rmap      3.4 K bytes  (21 / 140 files) (261.0 K / 1.7 M bytes)\n",
      "CRDS - INFO -  Fetching  ./crds_cache/mappings/hst/hst_wfc3_drkcfile_0163.rmap    202.8 K bytes  (22 / 140 files) (264.4 K / 1.7 M bytes)\n",
      "CRDS - INFO -  Fetching  ./crds_cache/mappings/hst/hst_wfc3_dfltfile_0002.rmap     17.1 K bytes  (23 / 140 files) (467.2 K / 1.7 M bytes)\n",
      "CRDS - INFO -  Fetching  ./crds_cache/mappings/hst/hst_wfc3_darkfile_0461.rmap    244.0 K bytes  (24 / 140 files) (484.3 K / 1.7 M bytes)\n",
      "CRDS - INFO -  Fetching  ./crds_cache/mappings/hst/hst_wfc3_d2imfile_0251.rmap        605 bytes  (25 / 140 files) (728.3 K / 1.7 M bytes)\n",
      "CRDS - INFO -  Fetching  ./crds_cache/mappings/hst/hst_wfc3_crrejtab_0250.rmap        803 bytes  (26 / 140 files) (728.9 K / 1.7 M bytes)\n",
      "CRDS - INFO -  Fetching  ./crds_cache/mappings/hst/hst_wfc3_ccdtab_0250.rmap          799 bytes  (27 / 140 files) (729.7 K / 1.7 M bytes)\n",
      "CRDS - INFO -  Fetching  ./crds_cache/mappings/hst/hst_wfc3_bpixtab_0292.rmap      10.1 K bytes  (28 / 140 files) (730.5 K / 1.7 M bytes)\n",
      "CRDS - INFO -  Fetching  ./crds_cache/mappings/hst/hst_wfc3_biasfile_0266.rmap     23.2 K bytes  (29 / 140 files) (740.6 K / 1.7 M bytes)\n",
      "CRDS - INFO -  Fetching  ./crds_cache/mappings/hst/hst_wfc3_biacfile_0003.rmap        692 bytes  (30 / 140 files) (763.8 K / 1.7 M bytes)\n",
      "CRDS - INFO -  Fetching  ./crds_cache/mappings/hst/hst_wfc3_atodtab_0250.rmap         651 bytes  (31 / 140 files) (764.5 K / 1.7 M bytes)\n",
      "CRDS - INFO -  Fetching  ./crds_cache/mappings/hst/hst_wfc3_0541.imap               1.2 K bytes  (32 / 140 files) (765.1 K / 1.7 M bytes)\n",
      "CRDS - INFO -  Fetching  ./crds_cache/mappings/hst/hst_synphot_tmttab_0002.rmap       745 bytes  (33 / 140 files) (766.3 K / 1.7 M bytes)\n",
      "CRDS - INFO -  Fetching  ./crds_cache/mappings/hst/hst_synphot_tmgtab_0010.rmap       767 bytes  (34 / 140 files) (767.1 K / 1.7 M bytes)\n",
      "CRDS - INFO -  Fetching  ./crds_cache/mappings/hst/hst_synphot_tmctab_0037.rmap       743 bytes  (35 / 140 files) (767.8 K / 1.7 M bytes)\n",
      "CRDS - INFO -  Fetching  ./crds_cache/mappings/hst/hst_synphot_thruput_0041.rmap  329.6 K bytes  (36 / 140 files) (768.6 K / 1.7 M bytes)\n",
      "CRDS - INFO -  Fetching  ./crds_cache/mappings/hst/hst_synphot_thermal_0003.rmap   20.4 K bytes  (37 / 140 files) (1.1 M / 1.7 M bytes)\n",
      "CRDS - INFO -  Fetching  ./crds_cache/mappings/hst/hst_synphot_obsmodes_0004.rmap      743 bytes  (38 / 140 files) (1.1 M / 1.7 M bytes)\n",
      "CRDS - INFO -  Fetching  ./crds_cache/mappings/hst/hst_synphot_0052.imap              579 bytes  (39 / 140 files) (1.1 M / 1.7 M bytes)\n",
      "CRDS - INFO -  Fetching  ./crds_cache/mappings/hst/hst_stis_xtractab_0250.rmap        815 bytes  (40 / 140 files) (1.1 M / 1.7 M bytes)\n",
      "CRDS - INFO -  Fetching  ./crds_cache/mappings/hst/hst_stis_wcptab_0251.rmap          578 bytes  (41 / 140 files) (1.1 M / 1.7 M bytes)\n",
      "CRDS - INFO -  Fetching  ./crds_cache/mappings/hst/hst_stis_teltab_0250.rmap          745 bytes  (42 / 140 files) (1.1 M / 1.7 M bytes)\n",
      "CRDS - INFO -  Fetching  ./crds_cache/mappings/hst/hst_stis_tdstab_0252.rmap          921 bytes  (43 / 140 files) (1.1 M / 1.7 M bytes)\n",
      "CRDS - INFO -  Fetching  ./crds_cache/mappings/hst/hst_stis_tdctab_0251.rmap          650 bytes  (44 / 140 files) (1.1 M / 1.7 M bytes)\n",
      "CRDS - INFO -  Fetching  ./crds_cache/mappings/hst/hst_stis_srwtab_0250.rmap          745 bytes  (45 / 140 files) (1.1 M / 1.7 M bytes)\n",
      "CRDS - INFO -  Fetching  ./crds_cache/mappings/hst/hst_stis_sptrctab_0250.rmap        923 bytes  (46 / 140 files) (1.1 M / 1.7 M bytes)\n",
      "CRDS - INFO -  Fetching  ./crds_cache/mappings/hst/hst_stis_sdctab_0251.rmap          889 bytes  (47 / 140 files) (1.1 M / 1.7 M bytes)\n",
      "CRDS - INFO -  Fetching  ./crds_cache/mappings/hst/hst_stis_riptab_0252.rmap          877 bytes  (48 / 140 files) (1.1 M / 1.7 M bytes)\n",
      "CRDS - INFO -  Fetching  ./crds_cache/mappings/hst/hst_stis_phottab_0255.rmap       1.5 K bytes  (49 / 140 files) (1.1 M / 1.7 M bytes)\n",
      "CRDS - INFO -  Fetching  ./crds_cache/mappings/hst/hst_stis_pfltfile_0250.rmap     23.7 K bytes  (50 / 140 files) (1.1 M / 1.7 M bytes)\n",
      "CRDS - INFO -  Fetching  ./crds_cache/mappings/hst/hst_stis_pctab_0250.rmap         3.1 K bytes  (51 / 140 files) (1.2 M / 1.7 M bytes)\n",
      "CRDS - INFO -  Fetching  ./crds_cache/mappings/hst/hst_stis_mofftab_0250.rmap         747 bytes  (52 / 140 files) (1.2 M / 1.7 M bytes)\n",
      "CRDS - INFO -  Fetching  ./crds_cache/mappings/hst/hst_stis_mlintab_0250.rmap         601 bytes  (53 / 140 files) (1.2 M / 1.7 M bytes)\n",
      "CRDS - INFO -  Fetching  ./crds_cache/mappings/hst/hst_stis_lfltfile_0250.rmap     11.8 K bytes  (54 / 140 files) (1.2 M / 1.7 M bytes)\n",
      "CRDS - INFO -  Fetching  ./crds_cache/mappings/hst/hst_stis_lamptab_0250.rmap         610 bytes  (55 / 140 files) (1.2 M / 1.7 M bytes)\n",
      "CRDS - INFO -  Fetching  ./crds_cache/mappings/hst/hst_stis_inangtab_0250.rmap        815 bytes  (56 / 140 files) (1.2 M / 1.7 M bytes)\n",
      "CRDS - INFO -  Fetching  ./crds_cache/mappings/hst/hst_stis_imphttab_0251.rmap        616 bytes  (57 / 140 files) (1.2 M / 1.7 M bytes)\n",
      "CRDS - INFO -  Fetching  ./crds_cache/mappings/hst/hst_stis_idctab_0251.rmap          775 bytes  (58 / 140 files) (1.2 M / 1.7 M bytes)\n",
      "CRDS - INFO -  Fetching  ./crds_cache/mappings/hst/hst_stis_halotab_0250.rmap         747 bytes  (59 / 140 files) (1.2 M / 1.7 M bytes)\n",
      "CRDS - INFO -  Fetching  ./crds_cache/mappings/hst/hst_stis_gactab_0250.rmap          651 bytes  (60 / 140 files) (1.2 M / 1.7 M bytes)\n"
     ]
    },
    {
     "name": "stderr",
     "output_type": "stream",
     "text": [
      "CRDS - INFO -  Fetching  ./crds_cache/mappings/hst/hst_stis_exstab_0250.rmap          745 bytes  (61 / 140 files) (1.2 M / 1.7 M bytes)\n",
      "CRDS - INFO -  Fetching  ./crds_cache/mappings/hst/hst_stis_echsctab_0250.rmap        749 bytes  (62 / 140 files) (1.2 M / 1.7 M bytes)\n",
      "CRDS - INFO -  Fetching  ./crds_cache/mappings/hst/hst_stis_disptab_0250.rmap         813 bytes  (63 / 140 files) (1.2 M / 1.7 M bytes)\n",
      "CRDS - INFO -  Fetching  ./crds_cache/mappings/hst/hst_stis_darkfile_0329.rmap     53.7 K bytes  (64 / 140 files) (1.2 M / 1.7 M bytes)\n",
      "CRDS - INFO -  Fetching  ./crds_cache/mappings/hst/hst_stis_crrejtab_0250.rmap        711 bytes  (65 / 140 files) (1.2 M / 1.7 M bytes)\n",
      "CRDS - INFO -  Fetching  ./crds_cache/mappings/hst/hst_stis_cdstab_0250.rmap          745 bytes  (66 / 140 files) (1.2 M / 1.7 M bytes)\n",
      "CRDS - INFO -  Fetching  ./crds_cache/mappings/hst/hst_stis_ccdtab_0252.rmap          893 bytes  (67 / 140 files) (1.2 M / 1.7 M bytes)\n",
      "CRDS - INFO -  Fetching  ./crds_cache/mappings/hst/hst_stis_bpixtab_0250.rmap         845 bytes  (68 / 140 files) (1.2 M / 1.7 M bytes)\n",
      "CRDS - INFO -  Fetching  ./crds_cache/mappings/hst/hst_stis_biasfile_0331.rmap    110.2 K bytes  (69 / 140 files) (1.2 M / 1.7 M bytes)\n",
      "CRDS - INFO -  Fetching  ./crds_cache/mappings/hst/hst_stis_apertab_0250.rmap         588 bytes  (70 / 140 files) (1.3 M / 1.7 M bytes)\n",
      "CRDS - INFO -  Fetching  ./crds_cache/mappings/hst/hst_stis_apdestab_0252.rmap        636 bytes  (71 / 140 files) (1.3 M / 1.7 M bytes)\n",
      "CRDS - INFO -  Fetching  ./crds_cache/mappings/hst/hst_stis_0339.imap               1.7 K bytes  (72 / 140 files) (1.3 M / 1.7 M bytes)\n",
      "CRDS - INFO -  Fetching  ./crds_cache/mappings/hst/hst_nicmos_zprattab_0250.rmap      646 bytes  (73 / 140 files) (1.3 M / 1.7 M bytes)\n",
      "CRDS - INFO -  Fetching  ./crds_cache/mappings/hst/hst_nicmos_tempfile_0250.rmap    1.1 K bytes  (74 / 140 files) (1.3 M / 1.7 M bytes)\n",
      "CRDS - INFO -  Fetching  ./crds_cache/mappings/hst/hst_nicmos_tdffile_0250.rmap     8.9 K bytes  (75 / 140 files) (1.3 M / 1.7 M bytes)\n",
      "CRDS - INFO -  Fetching  ./crds_cache/mappings/hst/hst_nicmos_saadfile_0250.rmap      771 bytes  (76 / 140 files) (1.4 M / 1.7 M bytes)\n",
      "CRDS - INFO -  Fetching  ./crds_cache/mappings/hst/hst_nicmos_saacntab_0250.rmap      594 bytes  (77 / 140 files) (1.4 M / 1.7 M bytes)\n",
      "CRDS - INFO -  Fetching  ./crds_cache/mappings/hst/hst_nicmos_rnlcortb_0250.rmap      771 bytes  (78 / 140 files) (1.4 M / 1.7 M bytes)\n",
      "CRDS - INFO -  Fetching  ./crds_cache/mappings/hst/hst_nicmos_pmskfile_0250.rmap      603 bytes  (79 / 140 files) (1.4 M / 1.7 M bytes)\n",
      "CRDS - INFO -  Fetching  ./crds_cache/mappings/hst/hst_nicmos_pmodfile_0250.rmap      603 bytes  (80 / 140 files) (1.4 M / 1.7 M bytes)\n",
      "CRDS - INFO -  Fetching  ./crds_cache/mappings/hst/hst_nicmos_phottab_0250.rmap       862 bytes  (81 / 140 files) (1.4 M / 1.7 M bytes)\n",
      "CRDS - INFO -  Fetching  ./crds_cache/mappings/hst/hst_nicmos_pedsbtab_0250.rmap      594 bytes  (82 / 140 files) (1.4 M / 1.7 M bytes)\n",
      "CRDS - INFO -  Fetching  ./crds_cache/mappings/hst/hst_nicmos_noisfile_0250.rmap    2.6 K bytes  (83 / 140 files) (1.4 M / 1.7 M bytes)\n",
      "CRDS - INFO -  Fetching  ./crds_cache/mappings/hst/hst_nicmos_nlinfile_0250.rmap    1.7 K bytes  (84 / 140 files) (1.4 M / 1.7 M bytes)\n",
      "CRDS - INFO -  Fetching  ./crds_cache/mappings/hst/hst_nicmos_maskfile_0250.rmap    1.2 K bytes  (85 / 140 files) (1.4 M / 1.7 M bytes)\n",
      "CRDS - INFO -  Fetching  ./crds_cache/mappings/hst/hst_nicmos_illmfile_0250.rmap    5.8 K bytes  (86 / 140 files) (1.4 M / 1.7 M bytes)\n",
      "CRDS - INFO -  Fetching  ./crds_cache/mappings/hst/hst_nicmos_idctab_0250.rmap        767 bytes  (87 / 140 files) (1.4 M / 1.7 M bytes)\n",
      "CRDS - INFO -  Fetching  ./crds_cache/mappings/hst/hst_nicmos_flatfile_0250.rmap   11.0 K bytes  (88 / 140 files) (1.4 M / 1.7 M bytes)\n",
      "CRDS - INFO -  Fetching  ./crds_cache/mappings/hst/hst_nicmos_darkfile_0250.rmap   14.9 K bytes  (89 / 140 files) (1.4 M / 1.7 M bytes)\n",
      "CRDS - INFO -  Fetching  ./crds_cache/mappings/hst/hst_nicmos_0250.imap             1.1 K bytes  (90 / 140 files) (1.4 M / 1.7 M bytes)\n",
      "CRDS - INFO -  Fetching  ./crds_cache/mappings/hst/hst_cos_ywlkfile_0002.rmap         922 bytes  (91 / 140 files) (1.4 M / 1.7 M bytes)\n",
      "CRDS - INFO -  Fetching  ./crds_cache/mappings/hst/hst_cos_xwlkfile_0002.rmap         922 bytes  (92 / 140 files) (1.4 M / 1.7 M bytes)\n",
      "CRDS - INFO -  Fetching  ./crds_cache/mappings/hst/hst_cos_xtractab_0266.rmap       1.6 K bytes  (93 / 140 files) (1.4 M / 1.7 M bytes)\n",
      "CRDS - INFO -  Fetching  ./crds_cache/mappings/hst/hst_cos_wcptab_0257.rmap         1.3 K bytes  (94 / 140 files) (1.4 M / 1.7 M bytes)\n",
      "CRDS - INFO -  Fetching  ./crds_cache/mappings/hst/hst_cos_twozxtab_0275.rmap         990 bytes  (95 / 140 files) (1.4 M / 1.7 M bytes)\n",
      "CRDS - INFO -  Fetching  ./crds_cache/mappings/hst/hst_cos_tracetab_0274.rmap         998 bytes  (96 / 140 files) (1.4 M / 1.7 M bytes)\n",
      "CRDS - INFO -  Fetching  ./crds_cache/mappings/hst/hst_cos_tdstab_0266.rmap           803 bytes  (97 / 140 files) (1.4 M / 1.7 M bytes)\n",
      "CRDS - INFO -  Fetching  ./crds_cache/mappings/hst/hst_cos_spwcstab_0255.rmap       1.1 K bytes  (98 / 140 files) (1.4 M / 1.7 M bytes)\n",
      "CRDS - INFO -  Fetching  ./crds_cache/mappings/hst/hst_cos_spottab_0005.rmap          766 bytes  (99 / 140 files) (1.4 M / 1.7 M bytes)\n",
      "CRDS - INFO -  Fetching  ./crds_cache/mappings/hst/hst_cos_proftab_0274.rmap        1.0 K bytes  (100 / 140 files) (1.4 M / 1.7 M bytes)\n",
      "CRDS - INFO -  Fetching  ./crds_cache/mappings/hst/hst_cos_phatab_0250.rmap           668 bytes  (101 / 140 files) (1.4 M / 1.7 M bytes)\n",
      "CRDS - INFO -  Fetching  ./crds_cache/mappings/hst/hst_cos_lamptab_0263.rmap        1.4 K bytes  (102 / 140 files) (1.4 M / 1.7 M bytes)\n",
      "CRDS - INFO -  Fetching  ./crds_cache/mappings/hst/hst_cos_hvtab_0259.rmap            567 bytes  (103 / 140 files) (1.4 M / 1.7 M bytes)\n",
      "CRDS - INFO -  Fetching  ./crds_cache/mappings/hst/hst_cos_gsagtab_0258.rmap          712 bytes  (104 / 140 files) (1.4 M / 1.7 M bytes)\n",
      "CRDS - INFO -  Fetching  ./crds_cache/mappings/hst/hst_cos_geofile_0250.rmap          670 bytes  (105 / 140 files) (1.4 M / 1.7 M bytes)\n",
      "CRDS - INFO -  Fetching  ./crds_cache/mappings/hst/hst_cos_fluxtab_0276.rmap        1.7 K bytes  (106 / 140 files) (1.4 M / 1.7 M bytes)\n",
      "CRDS - INFO -  Fetching  ./crds_cache/mappings/hst/hst_cos_flatfile_0262.rmap       1.8 K bytes  (107 / 140 files) (1.4 M / 1.7 M bytes)\n",
      "CRDS - INFO -  Fetching  ./crds_cache/mappings/hst/hst_cos_disptab_0275.rmap        1.7 K bytes  (108 / 140 files) (1.4 M / 1.7 M bytes)\n",
      "CRDS - INFO -  Fetching  ./crds_cache/mappings/hst/hst_cos_dgeofile_0002.rmap         909 bytes  (109 / 140 files) (1.4 M / 1.7 M bytes)\n",
      "CRDS - INFO -  Fetching  ./crds_cache/mappings/hst/hst_cos_deadtab_0250.rmap          711 bytes  (110 / 140 files) (1.4 M / 1.7 M bytes)\n",
      "CRDS - INFO -  Fetching  ./crds_cache/mappings/hst/hst_cos_brsttab_0250.rmap          696 bytes  (111 / 140 files) (1.4 M / 1.7 M bytes)\n",
      "CRDS - INFO -  Fetching  ./crds_cache/mappings/hst/hst_cos_brftab_0250.rmap           614 bytes  (112 / 140 files) (1.4 M / 1.7 M bytes)\n",
      "CRDS - INFO -  Fetching  ./crds_cache/mappings/hst/hst_cos_bpixtab_0258.rmap          773 bytes  (113 / 140 files) (1.4 M / 1.7 M bytes)\n",
      "CRDS - INFO -  Fetching  ./crds_cache/mappings/hst/hst_cos_badttab_0250.rmap          695 bytes  (114 / 140 files) (1.4 M / 1.7 M bytes)\n",
      "CRDS - INFO -  Fetching  ./crds_cache/mappings/hst/hst_cos_0340.imap                1.4 K bytes  (115 / 140 files) (1.4 M / 1.7 M bytes)\n",
      "CRDS - INFO -  Fetching  ./crds_cache/mappings/hst/hst_acs_spottab_0251.rmap          641 bytes  (116 / 140 files) (1.4 M / 1.7 M bytes)\n",
      "CRDS - INFO -  Fetching  ./crds_cache/mappings/hst/hst_acs_snkcfile_0067.rmap       5.8 K bytes  (117 / 140 files) (1.4 M / 1.7 M bytes)\n",
      "CRDS - INFO -  Fetching  ./crds_cache/mappings/hst/hst_acs_shadfile_0251.rmap         531 bytes  (118 / 140 files) (1.4 M / 1.7 M bytes)\n",
      "CRDS - INFO -  Fetching  ./crds_cache/mappings/hst/hst_acs_satufile_0002.rmap       1.2 K bytes  (119 / 140 files) (1.4 M / 1.7 M bytes)\n",
      "CRDS - INFO -  Fetching  ./crds_cache/mappings/hst/hst_acs_pfltfile_0253.rmap      69.2 K bytes  (120 / 140 files) (1.4 M / 1.7 M bytes)\n",
      "CRDS - INFO -  Fetching  ./crds_cache/mappings/hst/hst_acs_pctetab_0253.rmap          615 bytes  (121 / 140 files) (1.5 M / 1.7 M bytes)\n",
      "CRDS - INFO -  Fetching  ./crds_cache/mappings/hst/hst_acs_oscntab_0251.rmap          781 bytes  (122 / 140 files) (1.5 M / 1.7 M bytes)\n"
     ]
    },
    {
     "name": "stderr",
     "output_type": "stream",
     "text": [
      "CRDS - INFO -  Fetching  ./crds_cache/mappings/hst/hst_acs_npolfile_0253.rmap       3.2 K bytes  (123 / 140 files) (1.5 M / 1.7 M bytes)\n",
      "CRDS - INFO -  Fetching  ./crds_cache/mappings/hst/hst_acs_mlintab_0250.rmap          646 bytes  (124 / 140 files) (1.5 M / 1.7 M bytes)\n",
      "CRDS - INFO -  Fetching  ./crds_cache/mappings/hst/hst_acs_mdriztab_0253.rmap         769 bytes  (125 / 140 files) (1.5 M / 1.7 M bytes)\n",
      "CRDS - INFO -  Fetching  ./crds_cache/mappings/hst/hst_acs_imphttab_0258.rmap         769 bytes  (126 / 140 files) (1.5 M / 1.7 M bytes)\n",
      "CRDS - INFO -  Fetching  ./crds_cache/mappings/hst/hst_acs_idctab_0256.rmap         1.5 K bytes  (127 / 140 files) (1.5 M / 1.7 M bytes)\n",
      "CRDS - INFO -  Fetching  ./crds_cache/mappings/hst/hst_acs_flshfile_0266.rmap       3.3 K bytes  (128 / 140 files) (1.5 M / 1.7 M bytes)\n",
      "CRDS - INFO -  Fetching  ./crds_cache/mappings/hst/hst_acs_drkcfile_0415.rmap      16.4 K bytes  (129 / 140 files) (1.5 M / 1.7 M bytes)\n",
      "CRDS - INFO -  Fetching  ./crds_cache/mappings/hst/hst_acs_dgeofile_0250.rmap       3.2 K bytes  (130 / 140 files) (1.5 M / 1.7 M bytes)\n",
      "CRDS - INFO -  Fetching  ./crds_cache/mappings/hst/hst_acs_darkfile_0404.rmap      88.3 K bytes  (131 / 140 files) (1.5 M / 1.7 M bytes)\n",
      "CRDS - INFO -  Fetching  ./crds_cache/mappings/hst/hst_acs_d2imfile_0253.rmap         601 bytes  (132 / 140 files) (1.6 M / 1.7 M bytes)\n",
      "CRDS - INFO -  Fetching  ./crds_cache/mappings/hst/hst_acs_crrejtab_0251.rmap         945 bytes  (133 / 140 files) (1.6 M / 1.7 M bytes)\n",
      "CRDS - INFO -  Fetching  ./crds_cache/mappings/hst/hst_acs_cfltfile_0250.rmap       1.2 K bytes  (134 / 140 files) (1.6 M / 1.7 M bytes)\n",
      "CRDS - INFO -  Fetching  ./crds_cache/mappings/hst/hst_acs_ccdtab_0255.rmap         1.4 K bytes  (135 / 140 files) (1.6 M / 1.7 M bytes)\n",
      "CRDS - INFO -  Fetching  ./crds_cache/mappings/hst/hst_acs_bpixtab_0252.rmap        1.0 K bytes  (136 / 140 files) (1.6 M / 1.7 M bytes)\n",
      "CRDS - INFO -  Fetching  ./crds_cache/mappings/hst/hst_acs_biasfile_0406.rmap      51.1 K bytes  (137 / 140 files) (1.6 M / 1.7 M bytes)\n",
      "CRDS - INFO -  Fetching  ./crds_cache/mappings/hst/hst_acs_atodtab_0251.rmap          528 bytes  (138 / 140 files) (1.7 M / 1.7 M bytes)\n",
      "CRDS - INFO -  Fetching  ./crds_cache/mappings/hst/hst_acs_0498.imap                1.3 K bytes  (139 / 140 files) (1.7 M / 1.7 M bytes)\n",
      "CRDS - INFO -  Fetching  ./crds_cache/mappings/hst/hst_1021.pmap                      495 bytes  (140 / 140 files) (1.7 M / 1.7 M bytes)\n",
      "CRDS - INFO -  No comparison context or source comparison requested.\n",
      "CRDS - INFO -  ===> Processing jec401noq_raw.fits\n",
      "CRDS - INFO -  Fetching  ./crds_cache/references/hst/acs/36h2201jj_pfl.fits        14.7 M bytes  (1 / 8 files) (0 / 23.3 M bytes)\n",
      "CRDS - INFO -  Fetching  ./crds_cache/references/hst/acs/64614292j_imp.fits        49.0 K bytes  (2 / 8 files) (14.7 M / 23.3 M bytes)\n",
      "CRDS - INFO -  Fetching  ./crds_cache/references/hst/acs/k9c13374j_lin.fits        11.5 K bytes  (3 / 8 files) (14.7 M / 23.3 M bytes)\n",
      "CRDS - INFO -  Fetching  ./crds_cache/references/hst/acs/s5f20000j_dxy.fits         8.4 M bytes  (4 / 8 files) (14.8 M / 23.3 M bytes)\n",
      "CRDS - INFO -  Fetching  ./crds_cache/references/hst/acs/u451251ej_bpx.fits         8.6 K bytes  (5 / 8 files) (23.2 M / 23.3 M bytes)\n",
      "CRDS - INFO -  Fetching  ./crds_cache/references/hst/acs/ub215379j_mdz.fits        40.3 K bytes  (6 / 8 files) (23.2 M / 23.3 M bytes)\n",
      "CRDS - INFO -  Fetching  ./crds_cache/references/hst/acs/v6m2008mj_idc.fits        23.0 K bytes  (7 / 8 files) (23.2 M / 23.3 M bytes)\n",
      "CRDS - INFO -  Fetching  ./crds_cache/references/hst/acs/xc215013j_npl.fits        46.1 K bytes  (8 / 8 files) (23.2 M / 23.3 M bytes)\n",
      "CRDS - INFO -  0 errors\n",
      "CRDS - INFO -  0 warnings\n",
      "CRDS - INFO -  150 infos\n",
      "CRDS - INFO -  No comparison context or source comparison requested.\n",
      "CRDS - INFO -  ===> Processing jec401nvq_raw.fits\n",
      "CRDS - INFO -  0 errors\n",
      "CRDS - INFO -  0 warnings\n",
      "CRDS - INFO -  2 infos\n",
      "CRDS - INFO -  No comparison context or source comparison requested.\n",
      "CRDS - INFO -  ===> Processing jec401nxq_raw.fits\n",
      "CRDS - INFO -  0 errors\n",
      "CRDS - INFO -  0 warnings\n",
      "CRDS - INFO -  2 infos\n",
      "CRDS - INFO -  No comparison context or source comparison requested.\n",
      "CRDS - INFO -  ===> Processing jec401nrq_raw.fits\n",
      "CRDS - INFO -  0 errors\n",
      "CRDS - INFO -  0 warnings\n",
      "CRDS - INFO -  2 infos\n"
     ]
    }
   ],
   "source": [
    "for file in raw_files:\n",
    "    command_line_input = 'crds bestrefs --files {:} --sync-references=1 --update-bestrefs'.format(file)\n",
    "    os.system(command_line_input)"
   ]
  },
  {
   "cell_type": "code",
   "execution_count": 35,
   "id": "f8c28c6a",
   "metadata": {},
   "outputs": [
    {
     "name": "stdout",
     "output_type": "stream",
     "text": [
      "git tag: 2.7.1\n",
      "git branch: HEAD\n",
      "HEAD @: a1d9cd3f61883e6115c1bab04cdf072946d1658a\n",
      "\n",
      "\n",
      "CALBEG*** CALACS -- Version 10.3.2 (26-Apr-2021) ***\n",
      "Begin    27-Jun-2022 12:25:33 CDT\n",
      "\n",
      "\n",
      "Input    jec401010_asn.fits\n",
      "LoadAsn:  Processing FULL Association\n",
      "Trying to open jec401010_asn.fits...\n",
      "Read in Primary header from jec401010_asn.fits...\n",
      "Starting to process MAMA data now...\n",
      "Warning    FLSHCORR keyword not found...\n",
      "Revising existing trailer file `jec401noq.tra'.\n",
      "\n",
      "\n",
      "CALBEG*** ACS2D -- Version 10.3.2 (26-Apr-2021) ***\n",
      "Begin    27-Jun-2022 12:25:33 CDT\n",
      "Input    jec401noq_raw.fits\n",
      "Output   jec401noq_flt.fits\n",
      "Warning    Output file `jec401noq_flt.fits' already exists.\n",
      "ERROR:    Couldn't process MAMA data\n",
      "ERROR:    CALACS processing NOT completed for jec401010_asn.fits\n",
      "ERROR:    CALACS processing NOT completed for jec401010_asn.fits\n",
      "ERROR:             status = 1021\n"
     ]
    }
   ],
   "source": [
    "os.system('calacs.e jec401010_asn.fits');"
   ]
  },
  {
   "cell_type": "code",
   "execution_count": 32,
   "id": "91b5b9ea",
   "metadata": {},
   "outputs": [
    {
     "name": "stdout",
     "output_type": "stream",
     "text": [
      "- IDCTAB: Distortion model from row 5 for chip 1 : F150LP,N/A\n",
      "- IDCTAB: Distortion model from row 5 for chip 1 : F150LP,N/A\n",
      "- IDCTAB: Distortion model from row 5 for chip 1 : F150LP,N/A\n",
      "- IDCTAB: Distortion model from row 5 for chip 1 : F150LP,N/A\n",
      "- IDCTAB: Distortion model from row 5 for chip 1 : F150LP,N/A\n",
      "- IDCTAB: Distortion model from row 5 for chip 1 : F150LP,N/A\n",
      "- IDCTAB: Distortion model from row 5 for chip 1 : F150LP,N/A\n",
      "- IDCTAB: Distortion model from row 5 for chip 1 : F150LP,N/A\n"
     ]
    },
    {
     "data": {
      "text/plain": [
       "['jec401nvq_flt.fits',\n",
       " 'jec401noq_flt.fits',\n",
       " 'jec401nrq_flt.fits',\n",
       " 'jec401nxq_flt.fits']"
      ]
     },
     "execution_count": 32,
     "metadata": {},
     "output_type": "execute_result"
    }
   ],
   "source": [
    "if cte_correct:\n",
    "    img_files = 'jec401*n[o-x]q_flc.fits'\n",
    "else:\n",
    "    img_files = 'jec401*n[o-x]q_flt.fits'\n",
    "\n",
    "updatewcs.updatewcs(img_files, use_db=False)"
   ]
  },
  {
   "cell_type": "code",
   "execution_count": null,
   "id": "4348337c",
   "metadata": {},
   "outputs": [],
   "source": []
  }
 ],
 "metadata": {
  "kernelspec": {
   "display_name": "Python 3 (ipykernel)",
   "language": "python",
   "name": "python3"
  },
  "language_info": {
   "codemirror_mode": {
    "name": "ipython",
    "version": 3
   },
   "file_extension": ".py",
   "mimetype": "text/x-python",
   "name": "python",
   "nbconvert_exporter": "python",
   "pygments_lexer": "ipython3",
   "version": "3.7.13"
  }
 },
 "nbformat": 4,
 "nbformat_minor": 5
}
