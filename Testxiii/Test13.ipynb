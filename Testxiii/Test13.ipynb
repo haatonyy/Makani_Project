{
 "cells": [
  {
   "cell_type": "code",
   "execution_count": 1,
   "id": "9d8b3b3b",
   "metadata": {},
   "outputs": [],
   "source": [
    "from matplotlib import pyplot as plt\n",
    "from astropy.io import fits\n",
    "import glob\n",
    "import numpy as np"
   ]
  },
  {
   "cell_type": "code",
   "execution_count": 13,
   "id": "047e8667",
   "metadata": {},
   "outputs": [],
   "source": [
    "lst = glob.glob(\"darks/*/*raw.fits\")"
   ]
  },
  {
   "cell_type": "code",
   "execution_count": 17,
   "id": "c114c008",
   "metadata": {},
   "outputs": [],
   "source": [
    "temp= []\n",
    "s = []\n",
    "for item in lst:\n",
    "    file = fits.open(item)\n",
    "    data = file[1].data\n",
    "    exptime = file[0].header['EXPTIME']\n",
    "    s.append(( sum(sum(data))/ exptime )/ (1024 **2))  \n",
    "    \n",
    "    temp.append((file[1].header['MDECODT1'] + file[1].header['MDECODT2']) /2 )\n",
    "    "
   ]
  },
  {
   "cell_type": "code",
   "execution_count": 18,
   "id": "99ad4002",
   "metadata": {},
   "outputs": [
    {
     "data": {
      "text/plain": [
       "[<matplotlib.lines.Line2D at 0x7fda50049b50>]"
      ]
     },
     "execution_count": 18,
     "metadata": {},
     "output_type": "execute_result"
    },
    {
     "data": {
      "image/png": "[encoded data removed]",
      "text/plain": [
       "<Figure size 432x288 with 1 Axes>"
      ]
     },
     "metadata": {
      "needs_background": "light"
     },
     "output_type": "display_data"
    }
   ],
   "source": [
    "plt.plot(temp, s, 'o')"
   ]
  },
  {
   "cell_type": "code",
   "execution_count": 98,
   "id": "b8b4c712",
   "metadata": {},
   "outputs": [
    {
     "name": "stdout",
     "output_type": "stream",
     "text": [
      "['darks/jelg02pwq/jelg02pwq_raw.fits', 'darks/jelg02ptq/jelg02ptq_raw.fits', 'darks/jelp02vfq/jelp02vfq_raw.fits', 'darks/jelg02psq/jelg02psq_raw.fits', 'darks/jelg02pxq/jelg02pxq_raw.fits', 'darks/jelp02vgq/jelp02vgq_raw.fits', 'darks/jelg02prq/jelg02prq_raw.fits', 'darks/jelp01j4q/jelp01j4q_raw.fits', 'darks/jelg02puq/jelg02puq_raw.fits', 'darks/jelp01j3q/jelp01j3q_raw.fits', 'darks/jelg02pvq/jelg02pvq_raw.fits']\n",
      "\n",
      "darks/jelg02pwq/jelg02pwq_raw.fits temp: 24.163800000000002\n",
      "darks/jelg02ptq/jelg02ptq_raw.fits temp: 21.5997\n",
      "darks/jelp02vfq/jelp02vfq_raw.fits temp: 22.2102\n",
      "darks/jelg02psq/jelg02psq_raw.fits temp: 20.500799999999998\n",
      "darks/jelg02pxq/jelg02pxq_raw.fits temp: 24.7743\n",
      "darks/jelp02vgq/jelp02vgq_raw.fits temp: 23.0649\n",
      "darks/jelg02prq/jelg02prq_raw.fits temp: 19.035600000000002\n",
      "darks/jelp01j4q/jelp01j4q_raw.fits temp: 23.5533\n",
      "darks/jelg02puq/jelg02puq_raw.fits temp: 22.576500000000003\n",
      "darks/jelp01j3q/jelp01j3q_raw.fits temp: 22.576500000000003\n",
      "darks/jelg02pvq/jelg02pvq_raw.fits temp: 23.4312\n"
     ]
    }
   ],
   "source": [
    "new_lst = []\n",
    "for item in lst:\n",
    "    file = fits.open(item)\n",
    "    t = (file[1].header['MDECODT1'] + file[1].header['MDECODT2']) /2\n",
    "    if t <= 25.0: \n",
    "        new_lst.append(item)\n",
    "print(new_lst)\n",
    "print()\n",
    "for i in new_lst:\n",
    "    file = fits.open(i)\n",
    "    temp = (file[1].header['MDECODT1'] + file[1].header['MDECODT2']) /2\n",
    "    print(i, 'temp:', temp)"
   ]
  },
  {
   "cell_type": "code",
   "execution_count": 99,
   "id": "2baf64a7",
   "metadata": {},
   "outputs": [
    {
     "name": "stdout",
     "output_type": "stream",
     "text": [
      "24080.0\n"
     ]
    }
   ],
   "source": [
    "wavg_data = np.zeros((1024, 1024))\n",
    "total_time = 0\n",
    "for item in lst:\n",
    "    file = fits.open(item)\n",
    "    exptime = file[0].header['EXPTIME']\n",
    "    data = file[1].data\n",
    "    \n",
    "    total_time += exptime\n",
    "    wavg_data += data \n",
    "    \n",
    "print(total_time)\n",
    "wavg_data_cps_all = wavg_data/total_time"
   ]
  },
  {
   "cell_type": "code",
   "execution_count": 100,
   "id": "5ea85bbd",
   "metadata": {},
   "outputs": [
    {
     "name": "stdout",
     "output_type": "stream",
     "text": [
      "11080.0\n"
     ]
    }
   ],
   "source": [
    "wavg_data = np.zeros((1024, 1024))\n",
    "total_time = 0\n",
    "for item in new_lst:\n",
    "    file = fits.open(item)\n",
    "    exptime = file[0].header['EXPTIME']\n",
    "    data = file[1].data\n",
    "    \n",
    "    total_time += exptime\n",
    "    wavg_data += data \n",
    "    \n",
    "print(total_time)\n",
    "wavg_data_cps_lowt = wavg_data/total_time"
   ]
  },
  {
   "cell_type": "code",
   "execution_count": 104,
   "id": "a464b5b9",
   "metadata": {},
   "outputs": [
    {
     "data": {
      "image/png": "[encoded data removed]",
      "text/plain": [
       "<Figure size 432x288 with 2 Axes>"
      ]
     },
     "metadata": {
      "needs_background": "light"
     },
     "output_type": "display_data"
    }
   ],
   "source": [
    "plt.imshow(wavg_data_cps_all )\n",
    "plt.colorbar()\n",
    "filename = glob.glob('F150LP/*/*.fits')\n",
    "file = fits.open(filename[0])\n",
    "file[1].data = wavg_data_cps_all *624\n",
    "file.writeto('avg_dark_ps_all.fits', overwrite = True)"
   ]
  },
  {
   "cell_type": "code",
   "execution_count": 105,
   "id": "ba29413d",
   "metadata": {},
   "outputs": [
    {
     "data": {
      "image/png": "[encoded data removed]",
      "text/plain": [
       "<Figure size 432x288 with 2 Axes>"
      ]
     },
     "metadata": {
      "needs_background": "light"
     },
     "output_type": "display_data"
    }
   ],
   "source": [
    "plt.imshow(wavg_data_cps_lowt )\n",
    "plt.colorbar()\n",
    "filename = glob.glob('F150LP/*/*.fits')\n",
    "file = fits.open(filename[0])\n",
    "file[1].data = wavg_data_cps_lowt *624\n",
    "file.writeto('avg_dark_ps_lowt.fits', overwrite = True)"
   ]
  },
  {
   "cell_type": "code",
   "execution_count": 81,
   "id": "c7083aaa",
   "metadata": {},
   "outputs": [
    {
     "name": "stdout",
     "output_type": "stream",
     "text": [
      "F150LP/04/hst_16231_04_acs_sbc_f150lp_jec404gy_flt.fits\n"
     ]
    }
   ],
   "source": [
    "filename = glob.glob('F150LP/*/*.fits')\n",
    "print(filename[10])\n",
    "file = fits.open(filename[10])\n",
    "data = file[1].data\n",
    "data -= wavg_data_cps * file[0].header['EXPTIME']\n",
    "for i in range(len(data)):\n",
    "    for j in range(len(data[i])):\n",
    "        if data[i][j] < 0.0:\n",
    "            data[i][j] = 0.0\n",
    "file[1].data = data\n",
    "file.writeto('a.fits', overwrite = True)\n",
    "file.close()"
   ]
  },
  {
   "cell_type": "code",
   "execution_count": 76,
   "id": "54b52bac",
   "metadata": {},
   "outputs": [
    {
     "data": {
      "text/plain": [
       "<matplotlib.colorbar.Colorbar at 0x7fda72ffee80>"
      ]
     },
     "execution_count": 76,
     "metadata": {},
     "output_type": "execute_result"
    },
    {
     "data": {
      "image/png": "[encoded data removed]",
      "text/plain": [
       "<Figure size 432x288 with 2 Axes>"
      ]
     },
     "metadata": {
      "needs_background": "light"
     },
     "output_type": "display_data"
    }
   ],
   "source": [
    "plt.imshow(fits.open(filename[0])[1].data)\n",
    "plt.colorbar()"
   ]
  },
  {
   "cell_type": "code",
   "execution_count": 74,
   "id": "005c509a",
   "metadata": {},
   "outputs": [],
   "source": [
    "file = fits.open(filename[1])\n",
    "data = "
   ]
  },
  {
   "cell_type": "code",
   "execution_count": null,
   "id": "64ca0ebd",
   "metadata": {},
   "outputs": [],
   "source": []
  }
 ],
 "metadata": {
  "kernelspec": {
   "display_name": "Python 3 (ipykernel)",
   "language": "python",
   "name": "python3"
  },
  "language_info": {
   "codemirror_mode": {
    "name": "ipython",
    "version": 3
   },
   "file_extension": ".py",
   "mimetype": "text/x-python",
   "name": "python",
   "nbconvert_exporter": "python",
   "pygments_lexer": "ipython3",
   "version": "3.7.13"
  }
 },
 "nbformat": 4,
 "nbformat_minor": 5
}
