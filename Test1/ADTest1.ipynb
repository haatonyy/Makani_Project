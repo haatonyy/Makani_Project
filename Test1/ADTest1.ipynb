{
 "cells": [
  {
   "cell_type": "code",
   "execution_count": 1,
   "id": "a8e0a36f",
   "metadata": {},
   "outputs": [
    {
     "name": "stdout",
     "output_type": "stream",
     "text": [
      "\n",
      "\n",
      "The following task in the stsci.skypac package can be run with TEAL:\n",
      "                                    skymatch                                    \n",
      "The following tasks in the drizzlepac package can be run with TEAL:\n",
      "    astrodrizzle       config_testbed      imagefindpars           mapreg       \n",
      "       photeq            pixreplace           pixtopix            pixtosky      \n",
      "  refimagefindpars       resetbits          runastrodriz          skytopix      \n",
      "     tweakback            tweakreg           updatenpol\n"
     ]
    }
   ],
   "source": [
    "from astroquery.mast import Observations\n",
    "from ccdproc import ImageFileCollection\n",
    "from astropy.table import Table\n",
    "from astropy.io import fits\n",
    "from astropy.io import ascii\n",
    "from astropy.visualization import ZScaleInterval\n",
    "from IPython.display import Image\n",
    "import glob\n",
    "import matplotlib.pyplot as plt\n",
    "import numpy as np\n",
    "import os\n",
    "import shutil\n",
    "from drizzlepac import tweakreg\n",
    "from drizzlepac import astrodrizzle"
   ]
  },
  {
   "cell_type": "code",
   "execution_count": 9,
   "id": "2efa0bf1",
   "metadata": {},
   "outputs": [
    {
     "name": "stdout",
     "output_type": "stream",
     "text": [
      "Downloading URL https://mast.stsci.edu/api/v0.1/Download/file?uri=mast:HST/product/hst_16231_01_acs_sbc_f150lp_jec401no_flt.fits to ./science/mastDownload/HST/hst_16231_01_acs_sbc_f150lp_jec401no/hst_16231_01_acs_sbc_f150lp_jec401no_flt.fits ... [Done]\n",
      "Downloading URL https://mast.stsci.edu/api/v0.1/Download/file?uri=mast:HST/product/hst_16231_01_acs_sbc_f150lp_jec401nr_flt.fits to ./science/mastDownload/HST/hst_16231_01_acs_sbc_f150lp_jec401nr/hst_16231_01_acs_sbc_f150lp_jec401nr_flt.fits ... [Done]\n",
      "Downloading URL https://mast.stsci.edu/api/v0.1/Download/file?uri=mast:HST/product/hst_16231_01_acs_sbc_f150lp_jec401nv_flt.fits to ./science/mastDownload/HST/hst_16231_01_acs_sbc_f150lp_jec401nv/hst_16231_01_acs_sbc_f150lp_jec401nv_flt.fits ... [Done]\n",
      "Downloading URL https://mast.stsci.edu/api/v0.1/Download/file?uri=mast:HST/product/hst_16231_01_acs_sbc_f150lp_jec401nx_flt.fits to ./science/mastDownload/HST/hst_16231_01_acs_sbc_f150lp_jec401nx/hst_16231_01_acs_sbc_f150lp_jec401nx_flt.fits ... [Done]\n",
      "Downloading URL https://mast.stsci.edu/api/v0.1/Download/file?uri=mast:HST/product/jec401noq_flt.fits to ./science/mastDownload/HST/jec401noq/jec401noq_flt.fits ... [Done]\n",
      "Downloading URL https://mast.stsci.edu/api/v0.1/Download/file?uri=mast:HST/product/jec401nrq_flt.fits to ./science/mastDownload/HST/jec401nrq/jec401nrq_flt.fits ... [Done]\n",
      "Downloading URL https://mast.stsci.edu/api/v0.1/Download/file?uri=mast:HST/product/jec401nvq_flt.fits to ./science/mastDownload/HST/jec401nvq/jec401nvq_flt.fits ... [Done]\n",
      "Downloading URL https://mast.stsci.edu/api/v0.1/Download/file?uri=mast:HST/product/jec401nxq_flt.fits to ./science/mastDownload/HST/jec401nxq/jec401nxq_flt.fits ... [Done]\n"
     ]
    }
   ],
   "source": [
    "science_list = Observations.query_criteria(proposal_id='16231', filters='F150LP',obs_id='jec401*')\n",
    "Observations.download_products(science_list['obsid'], mrp_only=False, download_dir='./science',\\\n",
    "                               productSubGroupDescription=['FLT'])\n",
    "\n",
    "science_files = glob.glob(os.path.join(os.curdir, 'science', 'mastDownload', 'HST', '*', '*fits'))\n",
    "for im in science_files:\n",
    "    root = im.split('/')[-1]\n",
    "    os.rename(im, './' + root)\n",
    "shutil.rmtree('science/')"
   ]
  },
  {
   "cell_type": "code",
   "execution_count": 10,
   "id": "08e75d39",
   "metadata": {},
   "outputs": [
    {
     "data": {
      "text/html": [
       "<div><i>Table masked=True length=4</i>\n",
       "<table id=\"table140467458305744\" class=\"table-striped table-bordered table-condensed\">\n",
       "<thead><tr><th>file</th><th>asn_id</th><th>detector</th><th>filter</th><th>nsamp</th><th>exptime</th><th>postarg1</th><th>postarg2</th></tr></thead>\n",
       "<thead><tr><th>str18</th><th>str9</th><th>str3</th><th>float64</th><th>float64</th><th>float64</th><th>float64</th><th>float64</th></tr></thead>\n",
       "<tr><td>jec401noq_flt.fits</td><td>JEC401010</td><td>SBC</td><td>--</td><td>--</td><td>624.0</td><td>-0.21</td><td>-0.36</td></tr>\n",
       "<tr><td>jec401nrq_flt.fits</td><td>JEC401010</td><td>SBC</td><td>--</td><td>--</td><td>624.0</td><td>0.63</td><td>-0.05</td></tr>\n",
       "<tr><td>jec401nvq_flt.fits</td><td>JEC401010</td><td>SBC</td><td>--</td><td>--</td><td>624.0</td><td>0.21</td><td>0.36</td></tr>\n",
       "<tr><td>jec401nxq_flt.fits</td><td>JEC401010</td><td>SBC</td><td>--</td><td>--</td><td>624.0</td><td>-0.63</td><td>0.05</td></tr>\n",
       "</table></div>"
      ],
      "text/plain": [
       "<Table masked=True length=4>\n",
       "       file          asn_id  detector  filter  nsamp  exptime postarg1 postarg2\n",
       "      str18           str9     str3   float64 float64 float64 float64  float64 \n",
       "------------------ --------- -------- ------- ------- ------- -------- --------\n",
       "jec401noq_flt.fits JEC401010      SBC      --      --   624.0    -0.21    -0.36\n",
       "jec401nrq_flt.fits JEC401010      SBC      --      --   624.0     0.63    -0.05\n",
       "jec401nvq_flt.fits JEC401010      SBC      --      --   624.0     0.21     0.36\n",
       "jec401nxq_flt.fits JEC401010      SBC      --      --   624.0    -0.63     0.05"
      ]
     },
     "execution_count": 10,
     "metadata": {},
     "output_type": "execute_result"
    }
   ],
   "source": [
    "collect = ImageFileCollection('./', glob_include=\"*flt.fits\", ext=0,\n",
    "                                 keywords=[\"asn_id\", \"detector\", \"filter\", \"nsamp\",\n",
    "                                           \"exptime\", \"postarg1\", \"postarg2\"])\n",
    "\n",
    "table = collect.summary\n",
    "table['exptime'].format = '7.1f'\n",
    "table['postarg1'].format = '7.2f'\n",
    "table['postarg2'].format = '7.2f'\n",
    "table"
   ]
  },
  {
   "cell_type": "code",
   "execution_count": 20,
   "id": "22cafc6b",
   "metadata": {},
   "outputs": [
    {
     "name": "stderr",
     "output_type": "stream",
     "text": [
      "INFO:drizzlepac.util:Setting up logfile :  astrodrizzle.log\n"
     ]
    },
    {
     "name": "stdout",
     "output_type": "stream",
     "text": [
      "Setting up logfile :  astrodrizzle.log\n"
     ]
    },
    {
     "name": "stderr",
     "output_type": "stream",
     "text": [
      "INFO:drizzlepac.astrodrizzle:AstroDrizzle Version 3.1.8 (2020-07-27 10:34:52 -0400) started at: 09:56:01.421 (03/06/2022)\n"
     ]
    },
    {
     "name": "stdout",
     "output_type": "stream",
     "text": [
      "AstroDrizzle Version 3.1.8 (2020-07-27 10:34:52 -0400) started at: 09:56:01.421 (03/06/2022)\n"
     ]
    },
    {
     "name": "stderr",
     "output_type": "stream",
     "text": [
      "INFO:drizzlepac.astrodrizzle:\n"
     ]
    },
    {
     "name": "stdout",
     "output_type": "stream",
     "text": [
      "\n"
     ]
    },
    {
     "name": "stderr",
     "output_type": "stream",
     "text": [
      "INFO:drizzlepac.astrodrizzle:Version Information\n",
      "INFO:drizzlepac.astrodrizzle:--------------------\n",
      "INFO:drizzlepac.astrodrizzle:Python Version [Clang 12.0.0 ]\n",
      "INFO:drizzlepac.astrodrizzle:3.7.13 (default, Mar 28 2022, 07:24:34) \n",
      "INFO:drizzlepac.astrodrizzle:numpy Version -> 1.21.5 \n",
      "INFO:drizzlepac.astrodrizzle:astropy Version -> 4.3.1 \n",
      "INFO:drizzlepac.astrodrizzle:stwcs Version -> 1.6.1 \n",
      "INFO:drizzlepac.util:==== Processing Step  Initialization  started at  09:56:01.428 (03/06/2022)\n"
     ]
    },
    {
     "name": "stdout",
     "output_type": "stream",
     "text": [
      "==== Processing Step  Initialization  started at  09:56:01.428 (03/06/2022)\n"
     ]
    },
    {
     "name": "stderr",
     "output_type": "stream",
     "text": [
      "INFO:drizzlepac.util:\n"
     ]
    },
    {
     "name": "stdout",
     "output_type": "stream",
     "text": [
      "\n"
     ]
    },
    {
     "name": "stderr",
     "output_type": "stream",
     "text": [
      "INFO:drizzlepac.processInput:Executing serially\n",
      "INFO:drizzlepac.processInput:Setting up output name: f_drz.fits\n",
      "INFO:drizzlepac.processInput:-Creating imageObject List as input for processing steps.\n",
      "INFO:drizzlepac.imageObject:Reading in MDRIZSKY of 0.0\n",
      "INFO:drizzlepac.acsData:WARNING: No cte correction will be made for this SBC data.\n"
     ]
    },
    {
     "name": "stdout",
     "output_type": "stream",
     "text": [
      "WARNING: No cte correction will be made for this SBC data.\n"
     ]
    },
    {
     "name": "stderr",
     "output_type": "stream",
     "text": [
      "INFO:drizzlepac.imageObject:Reading in MDRIZSKY of 0.0\n",
      "INFO:drizzlepac.acsData:WARNING: No cte correction will be made for this SBC data.\n"
     ]
    },
    {
     "name": "stdout",
     "output_type": "stream",
     "text": [
      "WARNING: No cte correction will be made for this SBC data.\n"
     ]
    },
    {
     "name": "stderr",
     "output_type": "stream",
     "text": [
      "INFO:drizzlepac.imageObject:Reading in MDRIZSKY of 0.0\n",
      "INFO:drizzlepac.acsData:WARNING: No cte correction will be made for this SBC data.\n"
     ]
    },
    {
     "name": "stdout",
     "output_type": "stream",
     "text": [
      "WARNING: No cte correction will be made for this SBC data.\n"
     ]
    },
    {
     "name": "stderr",
     "output_type": "stream",
     "text": [
      "INFO:drizzlepac.imageObject:Reading in MDRIZSKY of 0.0\n",
      "INFO:drizzlepac.acsData:WARNING: No cte correction will be made for this SBC data.\n"
     ]
    },
    {
     "name": "stdout",
     "output_type": "stream",
     "text": [
      "WARNING: No cte correction will be made for this SBC data.\n"
     ]
    },
    {
     "name": "stderr",
     "output_type": "stream",
     "text": [
      "INFO:drizzlepac.imageObject:No context image will be created for jec401noq_flt.fits\n",
      "INFO:drizzlepac.imageObject:No context image will be created for jec401nrq_flt.fits\n",
      "INFO:drizzlepac.imageObject:No context image will be created for jec401nvq_flt.fits\n",
      "INFO:drizzlepac.imageObject:No context image will be created for jec401nxq_flt.fits\n",
      "INFO:drizzlepac.resetbits:Reset bit values of 4096 to a value of 0 in jec401noq_flt.fits[DQ,1]\n",
      "INFO:drizzlepac.resetbits:Reset bit values of 4096 to a value of 0 in jec401nrq_flt.fits[DQ,1]\n",
      "INFO:drizzlepac.resetbits:Reset bit values of 4096 to a value of 0 in jec401nvq_flt.fits[DQ,1]\n",
      "INFO:drizzlepac.resetbits:Reset bit values of 4096 to a value of 0 in jec401nxq_flt.fits[DQ,1]\n",
      "INFO:drizzlepac.processInput:-Creating output WCS.\n",
      "INFO:drizzlepac.imageObject:No context image will be created for f_drz.fits\n",
      "INFO:astropy.wcs.wcs:WCS Keywords\n"
     ]
    },
    {
     "name": "stdout",
     "output_type": "stream",
     "text": [
      "WCS Keywords\n"
     ]
    },
    {
     "name": "stderr",
     "output_type": "stream",
     "text": [
      "INFO:astropy.wcs.wcs:\n"
     ]
    },
    {
     "name": "stdout",
     "output_type": "stream",
     "text": [
      "\n"
     ]
    },
    {
     "name": "stderr",
     "output_type": "stream",
     "text": [
      "INFO:astropy.wcs.wcs:Number of WCS axes: 2\n"
     ]
    },
    {
     "name": "stdout",
     "output_type": "stream",
     "text": [
      "Number of WCS axes: 2\n"
     ]
    },
    {
     "name": "stderr",
     "output_type": "stream",
     "text": [
      "INFO:astropy.wcs.wcs:CTYPE : 'RA---TAN'  'DEC--TAN'  \n"
     ]
    },
    {
     "name": "stdout",
     "output_type": "stream",
     "text": [
      "CTYPE : 'RA---TAN'  'DEC--TAN'  \n"
     ]
    },
    {
     "name": "stderr",
     "output_type": "stream",
     "text": [
      "INFO:astropy.wcs.wcs:CRVAL : 319.60107476702854  0.29199923166248787  \n"
     ]
    },
    {
     "name": "stdout",
     "output_type": "stream",
     "text": [
      "CRVAL : 319.60107476702854  0.29199923166248787  \n"
     ]
    },
    {
     "name": "stderr",
     "output_type": "stream",
     "text": [
      "INFO:astropy.wcs.wcs:CRPIX : 716.0  694.5  \n"
     ]
    },
    {
     "name": "stdout",
     "output_type": "stream",
     "text": [
      "CRPIX : 716.0  694.5  \n"
     ]
    },
    {
     "name": "stderr",
     "output_type": "stream",
     "text": [
      "INFO:astropy.wcs.wcs:CD1_1 CD1_2  : -3.7822096876335265e-06  5.824105077861544e-06  \n"
     ]
    },
    {
     "name": "stdout",
     "output_type": "stream",
     "text": [
      "CD1_1 CD1_2  : -3.7822096876335265e-06  5.824105077861544e-06  \n"
     ]
    },
    {
     "name": "stderr",
     "output_type": "stream",
     "text": [
      "INFO:astropy.wcs.wcs:CD2_1 CD2_2  : 5.824105077861544e-06  3.7822096876335265e-06  \n"
     ]
    },
    {
     "name": "stdout",
     "output_type": "stream",
     "text": [
      "CD2_1 CD2_2  : 5.824105077861544e-06  3.7822096876335265e-06  \n"
     ]
    },
    {
     "name": "stderr",
     "output_type": "stream",
     "text": [
      "INFO:astropy.wcs.wcs:NAXIS : 1432  1389\n"
     ]
    },
    {
     "name": "stdout",
     "output_type": "stream",
     "text": [
      "NAXIS : 1432  1389\n"
     ]
    },
    {
     "name": "stderr",
     "output_type": "stream",
     "text": [
      "INFO:drizzlepac.processInput:********************************************************************************\n"
     ]
    },
    {
     "name": "stdout",
     "output_type": "stream",
     "text": [
      "********************************************************************************\n"
     ]
    },
    {
     "name": "stderr",
     "output_type": "stream",
     "text": [
      "INFO:drizzlepac.processInput:*\n"
     ]
    },
    {
     "name": "stdout",
     "output_type": "stream",
     "text": [
      "*\n"
     ]
    },
    {
     "name": "stderr",
     "output_type": "stream",
     "text": [
      "INFO:drizzlepac.processInput:*  Estimated memory usage:  up to 30 Mb.\n"
     ]
    },
    {
     "name": "stdout",
     "output_type": "stream",
     "text": [
      "*  Estimated memory usage:  up to 30 Mb.\n"
     ]
    },
    {
     "name": "stderr",
     "output_type": "stream",
     "text": [
      "INFO:drizzlepac.processInput:*  Output image size:       1432 X 1389 pixels. \n"
     ]
    },
    {
     "name": "stdout",
     "output_type": "stream",
     "text": [
      "*  Output image size:       1432 X 1389 pixels. \n"
     ]
    },
    {
     "name": "stderr",
     "output_type": "stream",
     "text": [
      "INFO:drizzlepac.processInput:*  Output image file:       ~ 22 Mb. \n"
     ]
    },
    {
     "name": "stdout",
     "output_type": "stream",
     "text": [
      "*  Output image file:       ~ 22 Mb. \n"
     ]
    },
    {
     "name": "stderr",
     "output_type": "stream",
     "text": [
      "INFO:drizzlepac.processInput:*  Cores available:         1\n"
     ]
    },
    {
     "name": "stdout",
     "output_type": "stream",
     "text": [
      "*  Cores available:         1\n"
     ]
    },
    {
     "name": "stderr",
     "output_type": "stream",
     "text": [
      "INFO:drizzlepac.processInput:*\n"
     ]
    },
    {
     "name": "stdout",
     "output_type": "stream",
     "text": [
      "*\n"
     ]
    },
    {
     "name": "stderr",
     "output_type": "stream",
     "text": [
      "INFO:drizzlepac.processInput:********************************************************************************\n"
     ]
    },
    {
     "name": "stdout",
     "output_type": "stream",
     "text": [
      "********************************************************************************\n"
     ]
    },
    {
     "name": "stderr",
     "output_type": "stream",
     "text": [
      "INFO:drizzlepac.util:==== Processing Step Initialization finished at 09:56:01.888 (03/06/2022)\n"
     ]
    },
    {
     "name": "stdout",
     "output_type": "stream",
     "text": [
      "==== Processing Step Initialization finished at 09:56:01.888 (03/06/2022)\n"
     ]
    },
    {
     "name": "stderr",
     "output_type": "stream",
     "text": [
      "INFO:drizzlepac.astrodrizzle:USER INPUT PARAMETERS common to all Processing Steps:\n",
      "INFO:drizzlepac.astrodrizzle:\tbuild :\tTrue\n",
      "INFO:drizzlepac.astrodrizzle:\tcoeffs :\tTrue\n",
      "INFO:drizzlepac.astrodrizzle:\tcontext :\tFalse\n",
      "INFO:drizzlepac.astrodrizzle:\tcrbit :\t4096\n",
      "INFO:drizzlepac.astrodrizzle:\tgroup :\t\n",
      "INFO:drizzlepac.astrodrizzle:\tin_memory :\tFalse\n",
      "INFO:drizzlepac.astrodrizzle:\tinput :\t*flt.fits\n",
      "INFO:drizzlepac.astrodrizzle:\tmdriztab :\tFalse\n",
      "INFO:drizzlepac.astrodrizzle:\tnum_cores :\tNone\n",
      "INFO:drizzlepac.astrodrizzle:\toutput :\tf\n",
      "INFO:drizzlepac.astrodrizzle:\tproc_unit :\tnative\n",
      "INFO:drizzlepac.astrodrizzle:\tresetbits :\t4096\n",
      "INFO:drizzlepac.astrodrizzle:\trules_file :\t\n",
      "INFO:drizzlepac.astrodrizzle:\trunfile :\tastrodrizzle.log\n",
      "INFO:drizzlepac.astrodrizzle:\tstepsize :\t10\n",
      "INFO:drizzlepac.astrodrizzle:\tupdatewcs :\tFalse\n",
      "INFO:drizzlepac.astrodrizzle:\twcskey :\t\n",
      "INFO:drizzlepac.util:==== Processing Step  Static Mask  started at  09:56:01.895 (03/06/2022)\n"
     ]
    },
    {
     "name": "stdout",
     "output_type": "stream",
     "text": [
      "==== Processing Step  Static Mask  started at  09:56:01.895 (03/06/2022)\n"
     ]
    },
    {
     "name": "stderr",
     "output_type": "stream",
     "text": [
      "INFO:drizzlepac.util:\n"
     ]
    },
    {
     "name": "stdout",
     "output_type": "stream",
     "text": [
      "\n"
     ]
    },
    {
     "name": "stderr",
     "output_type": "stream",
     "text": [
      "INFO:drizzlepac.staticMask:USER INPUT PARAMETERS for Static Mask Step:\n",
      "INFO:drizzlepac.staticMask:\tstatic :\tTrue\n",
      "INFO:drizzlepac.staticMask:\tstatic_sig :\t4.0\n",
      "INFO:drizzlepac.staticMask:Computing static mask:\n",
      "\n",
      "INFO:stsci.imagestats:! WARNING: Clipped data falls within 1 histogram bin\n"
     ]
    },
    {
     "name": "stdout",
     "output_type": "stream",
     "text": [
      "! WARNING: Clipped data falls within 1 histogram bin\n"
     ]
    },
    {
     "name": "stderr",
     "output_type": "stream",
     "text": [
      "INFO:drizzlepac.staticMask:  mode =  0.000000;   rms = 0.000000;   static_sig = 4.00\n",
      "INFO:drizzlepac.staticMask:Computing static mask:\n",
      "\n",
      "INFO:stsci.imagestats:! WARNING: Clipped data falls within 1 histogram bin\n"
     ]
    },
    {
     "name": "stdout",
     "output_type": "stream",
     "text": [
      "! WARNING: Clipped data falls within 1 histogram bin\n"
     ]
    },
    {
     "name": "stderr",
     "output_type": "stream",
     "text": [
      "INFO:drizzlepac.staticMask:  mode =  0.000000;   rms = 0.000000;   static_sig = 4.00\n",
      "INFO:drizzlepac.staticMask:Computing static mask:\n",
      "\n",
      "INFO:stsci.imagestats:! WARNING: Clipped data falls within 1 histogram bin\n"
     ]
    },
    {
     "name": "stdout",
     "output_type": "stream",
     "text": [
      "! WARNING: Clipped data falls within 1 histogram bin\n"
     ]
    },
    {
     "name": "stderr",
     "output_type": "stream",
     "text": [
      "INFO:drizzlepac.staticMask:  mode =  0.000000;   rms = 0.000000;   static_sig = 4.00\n",
      "INFO:drizzlepac.staticMask:Computing static mask:\n",
      "\n",
      "INFO:stsci.imagestats:! WARNING: Clipped data falls within 1 histogram bin\n"
     ]
    },
    {
     "name": "stdout",
     "output_type": "stream",
     "text": [
      "! WARNING: Clipped data falls within 1 histogram bin\n"
     ]
    },
    {
     "name": "stderr",
     "output_type": "stream",
     "text": [
      "INFO:drizzlepac.staticMask:  mode =  0.000000;   rms = 0.000000;   static_sig = 4.00\n",
      "INFO:drizzlepac.staticMask:Saving static mask to disk: ./ACSSBC_1024x1024_1_staticMask.fits\n",
      "INFO:drizzlepac.util:==== Processing Step Static Mask finished at 09:56:02.019 (03/06/2022)\n"
     ]
    },
    {
     "name": "stdout",
     "output_type": "stream",
     "text": [
      "==== Processing Step Static Mask finished at 09:56:02.019 (03/06/2022)\n"
     ]
    },
    {
     "name": "stderr",
     "output_type": "stream",
     "text": [
      "INFO:drizzlepac.util:==== Processing Step  Subtract Sky  started at  09:56:02.020 (03/06/2022)\n"
     ]
    },
    {
     "name": "stdout",
     "output_type": "stream",
     "text": [
      "==== Processing Step  Subtract Sky  started at  09:56:02.020 (03/06/2022)\n"
     ]
    },
    {
     "name": "stderr",
     "output_type": "stream",
     "text": [
      "INFO:drizzlepac.util:\n"
     ]
    },
    {
     "name": "stdout",
     "output_type": "stream",
     "text": [
      "\n"
     ]
    },
    {
     "name": "stderr",
     "output_type": "stream",
     "text": [
      "INFO:drizzlepac.sky:USER INPUT PARAMETERS for Sky Subtraction Step:\n",
      "INFO:drizzlepac.sky:\tsky_bits :\t0\n",
      "INFO:drizzlepac.sky:\tskyclip :\t5\n",
      "INFO:drizzlepac.sky:\tskyfile :\t\n",
      "INFO:drizzlepac.sky:\tskylower :\tNone\n",
      "INFO:drizzlepac.sky:\tskylsigma :\t4.0\n",
      "INFO:drizzlepac.sky:\tskymask_cat :\t\n",
      "INFO:drizzlepac.sky:\tskymethod :\tlocalmin\n",
      "INFO:drizzlepac.sky:\tskystat :\tmedian\n",
      "INFO:drizzlepac.sky:\tskysub :\tTrue\n",
      "INFO:drizzlepac.sky:\tskyupper :\tNone\n",
      "INFO:drizzlepac.sky:\tskyuser :\t\n",
      "INFO:drizzlepac.sky:\tskyusigma :\t4.0\n",
      "INFO:drizzlepac.sky:\tskywidth :\t0.1\n",
      "INFO:drizzlepac.sky:\tuse_static :\tTrue\n",
      "INFO:stsci.skypac.utils:***** skymatch started on 2022-06-03 09:56:02.079840\n"
     ]
    },
    {
     "name": "stdout",
     "output_type": "stream",
     "text": [
      "***** skymatch started on 2022-06-03 09:56:02.079840\n"
     ]
    },
    {
     "name": "stderr",
     "output_type": "stream",
     "text": [
      "INFO:stsci.skypac.utils:      Version 1.0.8\n"
     ]
    },
    {
     "name": "stdout",
     "output_type": "stream",
     "text": [
      "      Version 1.0.8\n"
     ]
    },
    {
     "name": "stderr",
     "output_type": "stream",
     "text": [
      "INFO:stsci.skypac.utils:\n"
     ]
    },
    {
     "name": "stdout",
     "output_type": "stream",
     "text": [
      "\n"
     ]
    },
    {
     "name": "stderr",
     "output_type": "stream",
     "text": [
      "INFO:stsci.skypac.utils:'skymatch' task will apply computed sky differences to input image file(s).\n"
     ]
    },
    {
     "name": "stdout",
     "output_type": "stream",
     "text": [
      "'skymatch' task will apply computed sky differences to input image file(s).\n"
     ]
    },
    {
     "name": "stderr",
     "output_type": "stream",
     "text": [
      "INFO:stsci.skypac.utils:\n"
     ]
    },
    {
     "name": "stdout",
     "output_type": "stream",
     "text": [
      "\n"
     ]
    },
    {
     "name": "stderr",
     "output_type": "stream",
     "text": [
      "INFO:stsci.skypac.utils:NOTE: Computed sky values WILL NOT be subtracted from image data ('subtractsky'=False).\n"
     ]
    },
    {
     "name": "stdout",
     "output_type": "stream",
     "text": [
      "NOTE: Computed sky values WILL NOT be subtracted from image data ('subtractsky'=False).\n"
     ]
    },
    {
     "name": "stderr",
     "output_type": "stream",
     "text": [
      "INFO:stsci.skypac.utils:'MDRIZSKY' header keyword will represent sky value *computed* from data.\n"
     ]
    },
    {
     "name": "stdout",
     "output_type": "stream",
     "text": [
      "'MDRIZSKY' header keyword will represent sky value *computed* from data.\n"
     ]
    },
    {
     "name": "stderr",
     "output_type": "stream",
     "text": [
      "INFO:stsci.skypac.utils:\n"
     ]
    },
    {
     "name": "stdout",
     "output_type": "stream",
     "text": [
      "\n"
     ]
    },
    {
     "name": "stderr",
     "output_type": "stream",
     "text": [
      "INFO:stsci.skypac.utils:-----  User specified keywords:  -----\n"
     ]
    },
    {
     "name": "stdout",
     "output_type": "stream",
     "text": [
      "-----  User specified keywords:  -----\n"
     ]
    },
    {
     "name": "stderr",
     "output_type": "stream",
     "text": [
      "INFO:stsci.skypac.utils:       Sky Value Keyword:  'MDRIZSKY'\n"
     ]
    },
    {
     "name": "stdout",
     "output_type": "stream",
     "text": [
      "       Sky Value Keyword:  'MDRIZSKY'\n"
     ]
    },
    {
     "name": "stderr",
     "output_type": "stream",
     "text": [
      "INFO:stsci.skypac.utils:       Data Units Keyword: 'BUNIT'\n"
     ]
    },
    {
     "name": "stdout",
     "output_type": "stream",
     "text": [
      "       Data Units Keyword: 'BUNIT'\n"
     ]
    },
    {
     "name": "stderr",
     "output_type": "stream",
     "text": [
      "INFO:stsci.skypac.utils:\n"
     ]
    },
    {
     "name": "stdout",
     "output_type": "stream",
     "text": [
      "\n"
     ]
    },
    {
     "name": "stderr",
     "output_type": "stream",
     "text": [
      "INFO:stsci.skypac.utils:\n"
     ]
    },
    {
     "name": "stdout",
     "output_type": "stream",
     "text": [
      "\n"
     ]
    },
    {
     "name": "stderr",
     "output_type": "stream",
     "text": [
      "INFO:stsci.skypac.utils:-----  Input file list:  -----\n"
     ]
    },
    {
     "name": "stdout",
     "output_type": "stream",
     "text": [
      "-----  Input file list:  -----\n"
     ]
    },
    {
     "name": "stderr",
     "output_type": "stream",
     "text": [
      "INFO:stsci.skypac.utils:\n"
     ]
    },
    {
     "name": "stdout",
     "output_type": "stream",
     "text": [
      "\n"
     ]
    },
    {
     "name": "stderr",
     "output_type": "stream",
     "text": [
      "INFO:stsci.skypac.utils:   **  Input image: 'jec401noq_flt.fits'\n"
     ]
    },
    {
     "name": "stdout",
     "output_type": "stream",
     "text": [
      "   **  Input image: 'jec401noq_flt.fits'\n"
     ]
    },
    {
     "name": "stderr",
     "output_type": "stream",
     "text": [
      "INFO:stsci.skypac.utils:       EXT: 'SCI',1;\tMASK: jec401noq_skymatch_mask_sci1.fits[0]\n"
     ]
    },
    {
     "name": "stdout",
     "output_type": "stream",
     "text": [
      "       EXT: 'SCI',1;\tMASK: jec401noq_skymatch_mask_sci1.fits[0]\n"
     ]
    },
    {
     "name": "stderr",
     "output_type": "stream",
     "text": [
      "INFO:stsci.skypac.utils:\n"
     ]
    },
    {
     "name": "stdout",
     "output_type": "stream",
     "text": [
      "\n"
     ]
    },
    {
     "name": "stderr",
     "output_type": "stream",
     "text": [
      "INFO:stsci.skypac.utils:   **  Input image: 'jec401nrq_flt.fits'\n"
     ]
    },
    {
     "name": "stdout",
     "output_type": "stream",
     "text": [
      "   **  Input image: 'jec401nrq_flt.fits'\n"
     ]
    },
    {
     "name": "stderr",
     "output_type": "stream",
     "text": [
      "INFO:stsci.skypac.utils:       EXT: 'SCI',1;\tMASK: jec401nrq_skymatch_mask_sci1.fits[0]\n"
     ]
    },
    {
     "name": "stdout",
     "output_type": "stream",
     "text": [
      "       EXT: 'SCI',1;\tMASK: jec401nrq_skymatch_mask_sci1.fits[0]\n"
     ]
    },
    {
     "name": "stderr",
     "output_type": "stream",
     "text": [
      "INFO:stsci.skypac.utils:\n"
     ]
    },
    {
     "name": "stdout",
     "output_type": "stream",
     "text": [
      "\n"
     ]
    },
    {
     "name": "stderr",
     "output_type": "stream",
     "text": [
      "INFO:stsci.skypac.utils:   **  Input image: 'jec401nvq_flt.fits'\n"
     ]
    },
    {
     "name": "stdout",
     "output_type": "stream",
     "text": [
      "   **  Input image: 'jec401nvq_flt.fits'\n"
     ]
    },
    {
     "name": "stderr",
     "output_type": "stream",
     "text": [
      "INFO:stsci.skypac.utils:       EXT: 'SCI',1;\tMASK: jec401nvq_skymatch_mask_sci1.fits[0]\n"
     ]
    },
    {
     "name": "stdout",
     "output_type": "stream",
     "text": [
      "       EXT: 'SCI',1;\tMASK: jec401nvq_skymatch_mask_sci1.fits[0]\n"
     ]
    },
    {
     "name": "stderr",
     "output_type": "stream",
     "text": [
      "INFO:stsci.skypac.utils:\n"
     ]
    },
    {
     "name": "stdout",
     "output_type": "stream",
     "text": [
      "\n"
     ]
    },
    {
     "name": "stderr",
     "output_type": "stream",
     "text": [
      "INFO:stsci.skypac.utils:   **  Input image: 'jec401nxq_flt.fits'\n"
     ]
    },
    {
     "name": "stdout",
     "output_type": "stream",
     "text": [
      "   **  Input image: 'jec401nxq_flt.fits'\n"
     ]
    },
    {
     "name": "stderr",
     "output_type": "stream",
     "text": [
      "INFO:stsci.skypac.utils:       EXT: 'SCI',1;\tMASK: jec401nxq_skymatch_mask_sci1.fits[0]\n"
     ]
    },
    {
     "name": "stdout",
     "output_type": "stream",
     "text": [
      "       EXT: 'SCI',1;\tMASK: jec401nxq_skymatch_mask_sci1.fits[0]\n"
     ]
    },
    {
     "name": "stderr",
     "output_type": "stream",
     "text": [
      "INFO:stsci.skypac.utils:\n"
     ]
    },
    {
     "name": "stdout",
     "output_type": "stream",
     "text": [
      "\n"
     ]
    },
    {
     "name": "stderr",
     "output_type": "stream",
     "text": [
      "INFO:stsci.skypac.utils:-----  Sky statistics parameters:  -----\n"
     ]
    },
    {
     "name": "stdout",
     "output_type": "stream",
     "text": [
      "-----  Sky statistics parameters:  -----\n"
     ]
    },
    {
     "name": "stderr",
     "output_type": "stream",
     "text": [
      "INFO:stsci.skypac.utils:       statistics function: 'median'\n"
     ]
    },
    {
     "name": "stdout",
     "output_type": "stream",
     "text": [
      "       statistics function: 'median'\n"
     ]
    },
    {
     "name": "stderr",
     "output_type": "stream",
     "text": [
      "INFO:stsci.skypac.utils:       lower = None\n"
     ]
    },
    {
     "name": "stdout",
     "output_type": "stream",
     "text": [
      "       lower = None\n"
     ]
    },
    {
     "name": "stderr",
     "output_type": "stream",
     "text": [
      "INFO:stsci.skypac.utils:       upper = None\n"
     ]
    },
    {
     "name": "stdout",
     "output_type": "stream",
     "text": [
      "       upper = None\n"
     ]
    },
    {
     "name": "stderr",
     "output_type": "stream",
     "text": [
      "INFO:stsci.skypac.utils:       nclip = 5\n"
     ]
    },
    {
     "name": "stdout",
     "output_type": "stream",
     "text": [
      "       nclip = 5\n"
     ]
    },
    {
     "name": "stderr",
     "output_type": "stream",
     "text": [
      "INFO:stsci.skypac.utils:       lsigma = 4.0\n"
     ]
    },
    {
     "name": "stdout",
     "output_type": "stream",
     "text": [
      "       lsigma = 4.0\n"
     ]
    },
    {
     "name": "stderr",
     "output_type": "stream",
     "text": [
      "INFO:stsci.skypac.utils:       usigma = 4.0\n"
     ]
    },
    {
     "name": "stdout",
     "output_type": "stream",
     "text": [
      "       usigma = 4.0\n"
     ]
    },
    {
     "name": "stderr",
     "output_type": "stream",
     "text": [
      "INFO:stsci.skypac.utils:       binwidth = 0.1\n"
     ]
    },
    {
     "name": "stdout",
     "output_type": "stream",
     "text": [
      "       binwidth = 0.1\n"
     ]
    },
    {
     "name": "stderr",
     "output_type": "stream",
     "text": [
      "INFO:stsci.skypac.utils:\n"
     ]
    },
    {
     "name": "stdout",
     "output_type": "stream",
     "text": [
      "\n"
     ]
    },
    {
     "name": "stderr",
     "output_type": "stream",
     "text": [
      "INFO:stsci.skypac.utils:-----  Data->Brightness conversion parameters for input files:  -----\n"
     ]
    },
    {
     "name": "stdout",
     "output_type": "stream",
     "text": [
      "-----  Data->Brightness conversion parameters for input files:  -----\n"
     ]
    },
    {
     "name": "stderr",
     "output_type": "stream",
     "text": [
      "INFO:stsci.skypac.utils:\n"
     ]
    },
    {
     "name": "stdout",
     "output_type": "stream",
     "text": [
      "\n"
     ]
    },
    {
     "name": "stderr",
     "output_type": "stream",
     "text": [
      "INFO:stsci.skypac.utils:   *   Image: jec401noq_flt.fits\n"
     ]
    },
    {
     "name": "stdout",
     "output_type": "stream",
     "text": [
      "   *   Image: jec401noq_flt.fits\n"
     ]
    },
    {
     "name": "stderr",
     "output_type": "stream",
     "text": [
      "INFO:stsci.skypac.utils:       EXT = 'SCI',1\n"
     ]
    },
    {
     "name": "stdout",
     "output_type": "stream",
     "text": [
      "       EXT = 'SCI',1\n"
     ]
    },
    {
     "name": "stderr",
     "output_type": "stream",
     "text": [
      "INFO:stsci.skypac.utils:             Data units type: COUNTS\n"
     ]
    },
    {
     "name": "stdout",
     "output_type": "stream",
     "text": [
      "             Data units type: COUNTS\n"
     ]
    },
    {
     "name": "stderr",
     "output_type": "stream",
     "text": [
      "INFO:stsci.skypac.utils:             EXPTIME: 624.0 [s]\n"
     ]
    },
    {
     "name": "stdout",
     "output_type": "stream",
     "text": [
      "             EXPTIME: 624.0 [s]\n"
     ]
    },
    {
     "name": "stderr",
     "output_type": "stream",
     "text": [
      "INFO:stsci.skypac.utils:             Conversion factor (data->brightness):  2.5641024876863545\n"
     ]
    },
    {
     "name": "stdout",
     "output_type": "stream",
     "text": [
      "             Conversion factor (data->brightness):  2.5641024876863545\n"
     ]
    },
    {
     "name": "stderr",
     "output_type": "stream",
     "text": [
      "INFO:stsci.skypac.utils:\n"
     ]
    },
    {
     "name": "stdout",
     "output_type": "stream",
     "text": [
      "\n"
     ]
    },
    {
     "name": "stderr",
     "output_type": "stream",
     "text": [
      "INFO:stsci.skypac.utils:   *   Image: jec401nrq_flt.fits\n"
     ]
    },
    {
     "name": "stdout",
     "output_type": "stream",
     "text": [
      "   *   Image: jec401nrq_flt.fits\n"
     ]
    },
    {
     "name": "stderr",
     "output_type": "stream",
     "text": [
      "INFO:stsci.skypac.utils:       EXT = 'SCI',1\n"
     ]
    },
    {
     "name": "stdout",
     "output_type": "stream",
     "text": [
      "       EXT = 'SCI',1\n"
     ]
    },
    {
     "name": "stderr",
     "output_type": "stream",
     "text": [
      "INFO:stsci.skypac.utils:             Data units type: COUNTS\n"
     ]
    },
    {
     "name": "stdout",
     "output_type": "stream",
     "text": [
      "             Data units type: COUNTS\n"
     ]
    },
    {
     "name": "stderr",
     "output_type": "stream",
     "text": [
      "INFO:stsci.skypac.utils:             EXPTIME: 624.0 [s]\n"
     ]
    },
    {
     "name": "stdout",
     "output_type": "stream",
     "text": [
      "             EXPTIME: 624.0 [s]\n"
     ]
    },
    {
     "name": "stderr",
     "output_type": "stream",
     "text": [
      "INFO:stsci.skypac.utils:             Conversion factor (data->brightness):  2.5641024876863545\n"
     ]
    },
    {
     "name": "stdout",
     "output_type": "stream",
     "text": [
      "             Conversion factor (data->brightness):  2.5641024876863545\n"
     ]
    },
    {
     "name": "stderr",
     "output_type": "stream",
     "text": [
      "INFO:stsci.skypac.utils:\n"
     ]
    },
    {
     "name": "stdout",
     "output_type": "stream",
     "text": [
      "\n"
     ]
    },
    {
     "name": "stderr",
     "output_type": "stream",
     "text": [
      "INFO:stsci.skypac.utils:   *   Image: jec401nvq_flt.fits\n"
     ]
    },
    {
     "name": "stdout",
     "output_type": "stream",
     "text": [
      "   *   Image: jec401nvq_flt.fits\n"
     ]
    },
    {
     "name": "stderr",
     "output_type": "stream",
     "text": [
      "INFO:stsci.skypac.utils:       EXT = 'SCI',1\n"
     ]
    },
    {
     "name": "stdout",
     "output_type": "stream",
     "text": [
      "       EXT = 'SCI',1\n"
     ]
    },
    {
     "name": "stderr",
     "output_type": "stream",
     "text": [
      "INFO:stsci.skypac.utils:             Data units type: COUNTS\n"
     ]
    },
    {
     "name": "stdout",
     "output_type": "stream",
     "text": [
      "             Data units type: COUNTS\n"
     ]
    },
    {
     "name": "stderr",
     "output_type": "stream",
     "text": [
      "INFO:stsci.skypac.utils:             EXPTIME: 624.0 [s]\n"
     ]
    },
    {
     "name": "stdout",
     "output_type": "stream",
     "text": [
      "             EXPTIME: 624.0 [s]\n"
     ]
    },
    {
     "name": "stderr",
     "output_type": "stream",
     "text": [
      "INFO:stsci.skypac.utils:             Conversion factor (data->brightness):  2.5641024876863545\n"
     ]
    },
    {
     "name": "stdout",
     "output_type": "stream",
     "text": [
      "             Conversion factor (data->brightness):  2.5641024876863545\n"
     ]
    },
    {
     "name": "stderr",
     "output_type": "stream",
     "text": [
      "INFO:stsci.skypac.utils:\n"
     ]
    },
    {
     "name": "stdout",
     "output_type": "stream",
     "text": [
      "\n"
     ]
    },
    {
     "name": "stderr",
     "output_type": "stream",
     "text": [
      "INFO:stsci.skypac.utils:   *   Image: jec401nxq_flt.fits\n"
     ]
    },
    {
     "name": "stdout",
     "output_type": "stream",
     "text": [
      "   *   Image: jec401nxq_flt.fits\n"
     ]
    },
    {
     "name": "stderr",
     "output_type": "stream",
     "text": [
      "INFO:stsci.skypac.utils:       EXT = 'SCI',1\n"
     ]
    },
    {
     "name": "stdout",
     "output_type": "stream",
     "text": [
      "       EXT = 'SCI',1\n"
     ]
    },
    {
     "name": "stderr",
     "output_type": "stream",
     "text": [
      "INFO:stsci.skypac.utils:             Data units type: COUNTS\n"
     ]
    },
    {
     "name": "stdout",
     "output_type": "stream",
     "text": [
      "             Data units type: COUNTS\n"
     ]
    },
    {
     "name": "stderr",
     "output_type": "stream",
     "text": [
      "INFO:stsci.skypac.utils:             EXPTIME: 624.0 [s]\n"
     ]
    },
    {
     "name": "stdout",
     "output_type": "stream",
     "text": [
      "             EXPTIME: 624.0 [s]\n"
     ]
    },
    {
     "name": "stderr",
     "output_type": "stream",
     "text": [
      "INFO:stsci.skypac.utils:             Conversion factor (data->brightness):  2.5641024876863545\n"
     ]
    },
    {
     "name": "stdout",
     "output_type": "stream",
     "text": [
      "             Conversion factor (data->brightness):  2.5641024876863545\n"
     ]
    },
    {
     "name": "stderr",
     "output_type": "stream",
     "text": [
      "INFO:stsci.skypac.utils:\n"
     ]
    },
    {
     "name": "stdout",
     "output_type": "stream",
     "text": [
      "\n"
     ]
    },
    {
     "name": "stderr",
     "output_type": "stream",
     "text": [
      "INFO:stsci.skypac.utils:\n"
     ]
    },
    {
     "name": "stdout",
     "output_type": "stream",
     "text": [
      "\n"
     ]
    },
    {
     "name": "stderr",
     "output_type": "stream",
     "text": [
      "INFO:stsci.skypac.utils:-----  Computing sky values requested image extensions (detector chips):  -----\n"
     ]
    },
    {
     "name": "stdout",
     "output_type": "stream",
     "text": [
      "-----  Computing sky values requested image extensions (detector chips):  -----\n"
     ]
    },
    {
     "name": "stderr",
     "output_type": "stream",
     "text": [
      "INFO:stsci.skypac.utils:\n"
     ]
    },
    {
     "name": "stdout",
     "output_type": "stream",
     "text": [
      "\n"
     ]
    },
    {
     "name": "stderr",
     "output_type": "stream",
     "text": [
      "INFO:stsci.skypac.utils:   *   Image:   'jec401noq_flt.fits['SCI',1]'  --  SKY = 0.0 (brightness units)\n"
     ]
    },
    {
     "name": "stdout",
     "output_type": "stream",
     "text": [
      "   *   Image:   'jec401noq_flt.fits['SCI',1]'  --  SKY = 0.0 (brightness units)\n"
     ]
    },
    {
     "name": "stderr",
     "output_type": "stream",
     "text": [
      "INFO:stsci.skypac.utils:       Sky change (data units):\n"
     ]
    },
    {
     "name": "stdout",
     "output_type": "stream",
     "text": [
      "       Sky change (data units):\n"
     ]
    },
    {
     "name": "stderr",
     "output_type": "stream",
     "text": [
      "INFO:stsci.skypac.utils:      - EXT = 'SCI',1   delta(MDRIZSKY) = 0   NEW MDRIZSKY = 0\n"
     ]
    },
    {
     "name": "stdout",
     "output_type": "stream",
     "text": [
      "      - EXT = 'SCI',1   delta(MDRIZSKY) = 0   NEW MDRIZSKY = 0\n"
     ]
    },
    {
     "name": "stderr",
     "output_type": "stream",
     "text": [
      "INFO:stsci.skypac.utils:   *   Image:   'jec401nrq_flt.fits['SCI',1]'  --  SKY = 0.0 (brightness units)\n"
     ]
    },
    {
     "name": "stdout",
     "output_type": "stream",
     "text": [
      "   *   Image:   'jec401nrq_flt.fits['SCI',1]'  --  SKY = 0.0 (brightness units)\n"
     ]
    },
    {
     "name": "stderr",
     "output_type": "stream",
     "text": [
      "INFO:stsci.skypac.utils:       Sky change (data units):\n"
     ]
    },
    {
     "name": "stdout",
     "output_type": "stream",
     "text": [
      "       Sky change (data units):\n"
     ]
    },
    {
     "name": "stderr",
     "output_type": "stream",
     "text": [
      "INFO:stsci.skypac.utils:      - EXT = 'SCI',1   delta(MDRIZSKY) = 0   NEW MDRIZSKY = 0\n"
     ]
    },
    {
     "name": "stdout",
     "output_type": "stream",
     "text": [
      "      - EXT = 'SCI',1   delta(MDRIZSKY) = 0   NEW MDRIZSKY = 0\n"
     ]
    },
    {
     "name": "stderr",
     "output_type": "stream",
     "text": [
      "INFO:stsci.skypac.utils:   *   Image:   'jec401nvq_flt.fits['SCI',1]'  --  SKY = 0.0 (brightness units)\n"
     ]
    },
    {
     "name": "stdout",
     "output_type": "stream",
     "text": [
      "   *   Image:   'jec401nvq_flt.fits['SCI',1]'  --  SKY = 0.0 (brightness units)\n"
     ]
    },
    {
     "name": "stderr",
     "output_type": "stream",
     "text": [
      "INFO:stsci.skypac.utils:       Sky change (data units):\n"
     ]
    },
    {
     "name": "stdout",
     "output_type": "stream",
     "text": [
      "       Sky change (data units):\n"
     ]
    },
    {
     "name": "stderr",
     "output_type": "stream",
     "text": [
      "INFO:stsci.skypac.utils:      - EXT = 'SCI',1   delta(MDRIZSKY) = 0   NEW MDRIZSKY = 0\n"
     ]
    },
    {
     "name": "stdout",
     "output_type": "stream",
     "text": [
      "      - EXT = 'SCI',1   delta(MDRIZSKY) = 0   NEW MDRIZSKY = 0\n"
     ]
    },
    {
     "name": "stderr",
     "output_type": "stream",
     "text": [
      "INFO:stsci.skypac.utils:   *   Image:   'jec401nxq_flt.fits['SCI',1]'  --  SKY = 0.0 (brightness units)\n"
     ]
    },
    {
     "name": "stdout",
     "output_type": "stream",
     "text": [
      "   *   Image:   'jec401nxq_flt.fits['SCI',1]'  --  SKY = 0.0 (brightness units)\n"
     ]
    },
    {
     "name": "stderr",
     "output_type": "stream",
     "text": [
      "INFO:stsci.skypac.utils:       Sky change (data units):\n"
     ]
    },
    {
     "name": "stdout",
     "output_type": "stream",
     "text": [
      "       Sky change (data units):\n"
     ]
    },
    {
     "name": "stderr",
     "output_type": "stream",
     "text": [
      "INFO:stsci.skypac.utils:      - EXT = 'SCI',1   delta(MDRIZSKY) = 0   NEW MDRIZSKY = 0\n"
     ]
    },
    {
     "name": "stdout",
     "output_type": "stream",
     "text": [
      "      - EXT = 'SCI',1   delta(MDRIZSKY) = 0   NEW MDRIZSKY = 0\n"
     ]
    },
    {
     "name": "stderr",
     "output_type": "stream",
     "text": [
      "INFO:stsci.skypac.utils:***** skymatch ended on 2022-06-03 09:56:02.363161\n"
     ]
    },
    {
     "name": "stdout",
     "output_type": "stream",
     "text": [
      "***** skymatch ended on 2022-06-03 09:56:02.363161\n"
     ]
    },
    {
     "name": "stderr",
     "output_type": "stream",
     "text": [
      "INFO:stsci.skypac.utils:TOTAL RUN TIME: 0:00:00.283321\n"
     ]
    },
    {
     "name": "stdout",
     "output_type": "stream",
     "text": [
      "TOTAL RUN TIME: 0:00:00.283321\n"
     ]
    },
    {
     "name": "stderr",
     "output_type": "stream",
     "text": [
      "INFO:drizzlepac.util:==== Processing Step Subtract Sky finished at 09:56:02.417 (03/06/2022)\n"
     ]
    },
    {
     "name": "stdout",
     "output_type": "stream",
     "text": [
      "==== Processing Step Subtract Sky finished at 09:56:02.417 (03/06/2022)\n"
     ]
    },
    {
     "name": "stderr",
     "output_type": "stream",
     "text": [
      "INFO:drizzlepac.util:==== Processing Step  Separate Drizzle  started at  09:56:02.418 (03/06/2022)\n"
     ]
    },
    {
     "name": "stdout",
     "output_type": "stream",
     "text": [
      "==== Processing Step  Separate Drizzle  started at  09:56:02.418 (03/06/2022)\n"
     ]
    },
    {
     "name": "stderr",
     "output_type": "stream",
     "text": [
      "INFO:drizzlepac.util:\n"
     ]
    },
    {
     "name": "stdout",
     "output_type": "stream",
     "text": [
      "\n"
     ]
    },
    {
     "name": "stderr",
     "output_type": "stream",
     "text": [
      "INFO:drizzlepac.adrizzle:Single drizzle step not performed.\n",
      "INFO:drizzlepac.util:==== Processing Step Separate Drizzle finished at 09:56:02.420 (03/06/2022)\n"
     ]
    },
    {
     "name": "stdout",
     "output_type": "stream",
     "text": [
      "==== Processing Step Separate Drizzle finished at 09:56:02.420 (03/06/2022)\n"
     ]
    },
    {
     "name": "stderr",
     "output_type": "stream",
     "text": [
      "INFO:drizzlepac.util:==== Processing Step  Create Median  started at  09:56:02.421 (03/06/2022)\n"
     ]
    },
    {
     "name": "stdout",
     "output_type": "stream",
     "text": [
      "==== Processing Step  Create Median  started at  09:56:02.421 (03/06/2022)\n"
     ]
    },
    {
     "name": "stderr",
     "output_type": "stream",
     "text": [
      "INFO:drizzlepac.util:\n"
     ]
    },
    {
     "name": "stdout",
     "output_type": "stream",
     "text": [
      "\n"
     ]
    },
    {
     "name": "stderr",
     "output_type": "stream",
     "text": [
      "INFO:drizzlepac.createMedian:Median combination step not performed.\n",
      "INFO:drizzlepac.util:==== Processing Step  Blot  started at  09:56:02.424 (03/06/2022)\n"
     ]
    },
    {
     "name": "stdout",
     "output_type": "stream",
     "text": [
      "==== Processing Step  Blot  started at  09:56:02.424 (03/06/2022)\n"
     ]
    },
    {
     "name": "stderr",
     "output_type": "stream",
     "text": [
      "INFO:drizzlepac.util:\n"
     ]
    },
    {
     "name": "stdout",
     "output_type": "stream",
     "text": [
      "\n"
     ]
    },
    {
     "name": "stderr",
     "output_type": "stream",
     "text": [
      "INFO:drizzlepac.ablot:Blot step not performed.\n",
      "INFO:drizzlepac.util:==== Processing Step Blot finished at 09:56:02.427 (03/06/2022)\n"
     ]
    },
    {
     "name": "stdout",
     "output_type": "stream",
     "text": [
      "==== Processing Step Blot finished at 09:56:02.427 (03/06/2022)\n"
     ]
    },
    {
     "name": "stderr",
     "output_type": "stream",
     "text": [
      "INFO:drizzlepac.util:==== Processing Step  Driz_CR  started at  09:56:02.428 (03/06/2022)\n"
     ]
    },
    {
     "name": "stdout",
     "output_type": "stream",
     "text": [
      "==== Processing Step  Driz_CR  started at  09:56:02.428 (03/06/2022)\n"
     ]
    },
    {
     "name": "stderr",
     "output_type": "stream",
     "text": [
      "INFO:drizzlepac.util:\n"
     ]
    },
    {
     "name": "stdout",
     "output_type": "stream",
     "text": [
      "\n"
     ]
    },
    {
     "name": "stderr",
     "output_type": "stream",
     "text": [
      "INFO:drizzlepac.drizCR:Cosmic-ray identification (driz_cr) step not performed.\n",
      "INFO:drizzlepac.util:==== Processing Step  Final Drizzle  started at  09:56:02.430 (03/06/2022)\n"
     ]
    },
    {
     "name": "stdout",
     "output_type": "stream",
     "text": [
      "==== Processing Step  Final Drizzle  started at  09:56:02.430 (03/06/2022)\n"
     ]
    },
    {
     "name": "stderr",
     "output_type": "stream",
     "text": [
      "INFO:drizzlepac.util:\n"
     ]
    },
    {
     "name": "stdout",
     "output_type": "stream",
     "text": [
      "\n"
     ]
    },
    {
     "name": "stderr",
     "output_type": "stream",
     "text": [
      "INFO:drizzlepac.adrizzle:Interpreted paramDict with single=False as:\n",
      "{'build': True, 'stepsize': 10, 'coeffs': True, 'wcskey': '', 'wht_type': 'EXP', 'kernel': 'square', 'wt_scl': 'exptime', 'pixfrac': 1.0, 'fillval': None, 'maskval': None, 'bits': 16, 'units': 'cps'}\n",
      "INFO:drizzlepac.adrizzle:USER INPUT PARAMETERS for Final Drizzle Step:\n",
      "INFO:drizzlepac.adrizzle:\tbits :\t16\n",
      "INFO:drizzlepac.adrizzle:\tbuild :\tTrue\n",
      "INFO:drizzlepac.adrizzle:\tclean :\tTrue\n",
      "INFO:drizzlepac.adrizzle:\tcoeffs :\tTrue\n",
      "INFO:drizzlepac.adrizzle:\tcrbit :\t4096\n",
      "INFO:drizzlepac.adrizzle:\tfillval :\tNone\n",
      "INFO:drizzlepac.adrizzle:\tkernel :\tsquare\n",
      "INFO:drizzlepac.adrizzle:\tmaskval :\tNone\n",
      "INFO:drizzlepac.adrizzle:\tpixfrac :\t1.0\n",
      "INFO:drizzlepac.adrizzle:\tproc_unit :\tnative\n",
      "INFO:drizzlepac.adrizzle:\trules_file :\tNone\n",
      "INFO:drizzlepac.adrizzle:\tstepsize :\t10\n",
      "INFO:drizzlepac.adrizzle:\tunits :\tcps\n",
      "INFO:drizzlepac.adrizzle:\twcskey :\t\n",
      "INFO:drizzlepac.adrizzle:\twht_type :\tEXP\n",
      "INFO:drizzlepac.adrizzle:\twt_scl :\texptime\n",
      "INFO:drizzlepac.adrizzle:  **Using sub-sampling value of 10 for kernel square\n",
      "INFO:drizzlepac.adrizzle:Removing previous output product...\n",
      "INFO:drizzlepac.adrizzle:Running Drizzle to create output frame with WCS of: \n",
      "INFO:astropy.wcs.wcs:WCS Keywords\n"
     ]
    },
    {
     "name": "stdout",
     "output_type": "stream",
     "text": [
      "WCS Keywords\n"
     ]
    },
    {
     "name": "stderr",
     "output_type": "stream",
     "text": [
      "INFO:astropy.wcs.wcs:\n"
     ]
    },
    {
     "name": "stdout",
     "output_type": "stream",
     "text": [
      "\n"
     ]
    },
    {
     "name": "stderr",
     "output_type": "stream",
     "text": [
      "INFO:astropy.wcs.wcs:Number of WCS axes: 2\n"
     ]
    },
    {
     "name": "stdout",
     "output_type": "stream",
     "text": [
      "Number of WCS axes: 2\n"
     ]
    },
    {
     "name": "stderr",
     "output_type": "stream",
     "text": [
      "INFO:astropy.wcs.wcs:CTYPE : 'RA---TAN'  'DEC--TAN'  \n"
     ]
    },
    {
     "name": "stdout",
     "output_type": "stream",
     "text": [
      "CTYPE : 'RA---TAN'  'DEC--TAN'  \n"
     ]
    },
    {
     "name": "stderr",
     "output_type": "stream",
     "text": [
      "INFO:astropy.wcs.wcs:CRVAL : 319.60107476702854  0.29199923166248787  \n"
     ]
    },
    {
     "name": "stdout",
     "output_type": "stream",
     "text": [
      "CRVAL : 319.60107476702854  0.29199923166248787  \n"
     ]
    },
    {
     "name": "stderr",
     "output_type": "stream",
     "text": [
      "INFO:astropy.wcs.wcs:CRPIX : 716.0  694.5  \n"
     ]
    },
    {
     "name": "stdout",
     "output_type": "stream",
     "text": [
      "CRPIX : 716.0  694.5  \n"
     ]
    },
    {
     "name": "stderr",
     "output_type": "stream",
     "text": [
      "INFO:astropy.wcs.wcs:CD1_1 CD1_2  : -3.7822096876335265e-06  5.824105077861544e-06  \n"
     ]
    },
    {
     "name": "stdout",
     "output_type": "stream",
     "text": [
      "CD1_1 CD1_2  : -3.7822096876335265e-06  5.824105077861544e-06  \n"
     ]
    },
    {
     "name": "stderr",
     "output_type": "stream",
     "text": [
      "INFO:astropy.wcs.wcs:CD2_1 CD2_2  : 5.824105077861544e-06  3.7822096876335265e-06  \n"
     ]
    },
    {
     "name": "stdout",
     "output_type": "stream",
     "text": [
      "CD2_1 CD2_2  : 5.824105077861544e-06  3.7822096876335265e-06  \n"
     ]
    },
    {
     "name": "stderr",
     "output_type": "stream",
     "text": [
      "INFO:astropy.wcs.wcs:NAXIS : 1432  1389\n"
     ]
    },
    {
     "name": "stdout",
     "output_type": "stream",
     "text": [
      "NAXIS : 1432  1389\n"
     ]
    },
    {
     "name": "stderr",
     "output_type": "stream",
     "text": [
      "INFO:drizzlepac.adrizzle:-Drizzle input: jec401noq_flt.fits[sci,1]\n",
      "INFO:drizzlepac.adrizzle:Applying sky value of 0.000000 to jec401noq_flt.fits[sci,1]\n",
      "WARNING:drizzlepac.adrizzle:No CR mask file found! Input DQ array not updated.\n",
      "INFO:drizzlepac.imageObject:Applying EXPTIME weighting to DQ mask for chip 1\n",
      "INFO:drizzlepac.adrizzle:Using WCSLIB-based coordinate transformation...\n",
      "INFO:drizzlepac.adrizzle:stepsize = 10\n",
      "INFO:drizzlepac.cdriz:-Drizzling using kernel = square\n",
      "\n",
      "INFO:drizzlepac.adrizzle:-Drizzle input: jec401nrq_flt.fits[sci,1]\n",
      "INFO:drizzlepac.adrizzle:Applying sky value of 0.000000 to jec401nrq_flt.fits[sci,1]\n",
      "WARNING:drizzlepac.adrizzle:No CR mask file found! Input DQ array not updated.\n",
      "INFO:drizzlepac.imageObject:Applying EXPTIME weighting to DQ mask for chip 1\n",
      "INFO:drizzlepac.adrizzle:Using WCSLIB-based coordinate transformation...\n",
      "INFO:drizzlepac.adrizzle:stepsize = 10\n",
      "INFO:drizzlepac.cdriz:-Drizzling using kernel = square\n",
      "\n",
      "INFO:drizzlepac.adrizzle:-Drizzle input: jec401nvq_flt.fits[sci,1]\n",
      "INFO:drizzlepac.adrizzle:Applying sky value of 0.000000 to jec401nvq_flt.fits[sci,1]\n",
      "WARNING:drizzlepac.adrizzle:No CR mask file found! Input DQ array not updated.\n",
      "INFO:drizzlepac.imageObject:Applying EXPTIME weighting to DQ mask for chip 1\n",
      "INFO:drizzlepac.adrizzle:Using WCSLIB-based coordinate transformation...\n",
      "INFO:drizzlepac.adrizzle:stepsize = 10\n",
      "INFO:drizzlepac.cdriz:-Drizzling using kernel = square\n",
      "\n",
      "INFO:drizzlepac.adrizzle:-Drizzle input: jec401nxq_flt.fits[sci,1]\n",
      "INFO:drizzlepac.adrizzle:Applying sky value of 0.000000 to jec401nxq_flt.fits[sci,1]\n",
      "WARNING:drizzlepac.adrizzle:No CR mask file found! Input DQ array not updated.\n",
      "INFO:drizzlepac.imageObject:Applying EXPTIME weighting to DQ mask for chip 1\n",
      "INFO:drizzlepac.adrizzle:Using WCSLIB-based coordinate transformation...\n",
      "INFO:drizzlepac.adrizzle:stepsize = 10\n",
      "INFO:drizzlepac.cdriz:-Drizzling using kernel = square\n",
      "\n",
      "WARNING:drizzlepac.adrizzle:! 153 points were outside the output image.\n",
      "INFO:drizzlepac.outputimage:-Generating multi-extension output file:  f_drz.fits\n"
     ]
    },
    {
     "name": "stdout",
     "output_type": "stream",
     "text": [
      "-Generating multi-extension output file:  f_drz.fits\n"
     ]
    },
    {
     "name": "stderr",
     "output_type": "stream",
     "text": [
      "INFO:stwcs.wcsutil.altwcs:Deleted all instances of WCS with key A in extensions [1]\n"
     ]
    },
    {
     "name": "stdout",
     "output_type": "stream",
     "text": [
      "Deleted all instances of WCS with key A in extensions [1]\n"
     ]
    },
    {
     "name": "stderr",
     "output_type": "stream",
     "text": [
      "INFO:stwcs.wcsutil.altwcs:Deleted all instances of WCS with key B in extensions [1]\n"
     ]
    },
    {
     "name": "stdout",
     "output_type": "stream",
     "text": [
      "Deleted all instances of WCS with key B in extensions [1]\n"
     ]
    },
    {
     "name": "stderr",
     "output_type": "stream",
     "text": [
      "INFO:drizzlepac.outputimage:Writing out to disk: f_drz.fits\n"
     ]
    },
    {
     "name": "stdout",
     "output_type": "stream",
     "text": [
      "Writing out to disk: f_drz.fits\n"
     ]
    },
    {
     "name": "stderr",
     "output_type": "stream",
     "text": [
      "INFO:drizzlepac.util:==== Processing Step Final Drizzle finished at 09:56:04.255 (03/06/2022)\n"
     ]
    },
    {
     "name": "stdout",
     "output_type": "stream",
     "text": [
      "==== Processing Step Final Drizzle finished at 09:56:04.255 (03/06/2022)\n"
     ]
    },
    {
     "name": "stderr",
     "output_type": "stream",
     "text": [
      "INFO:drizzlepac.astrodrizzle:\n"
     ]
    },
    {
     "name": "stdout",
     "output_type": "stream",
     "text": [
      "\n"
     ]
    },
    {
     "name": "stderr",
     "output_type": "stream",
     "text": [
      "INFO:drizzlepac.astrodrizzle:AstroDrizzle Version 3.1.8 is finished processing at 09:56:04.257 (03/06/2022).\n"
     ]
    },
    {
     "name": "stdout",
     "output_type": "stream",
     "text": [
      "AstroDrizzle Version 3.1.8 is finished processing at 09:56:04.257 (03/06/2022).\n"
     ]
    },
    {
     "name": "stderr",
     "output_type": "stream",
     "text": [
      "INFO:drizzlepac.astrodrizzle:\n"
     ]
    },
    {
     "name": "stdout",
     "output_type": "stream",
     "text": [
      "\n"
     ]
    },
    {
     "name": "stderr",
     "output_type": "stream",
     "text": [
      "INFO:drizzlepac.astrodrizzle:\n"
     ]
    },
    {
     "name": "stdout",
     "output_type": "stream",
     "text": [
      "\n"
     ]
    },
    {
     "name": "stderr",
     "output_type": "stream",
     "text": [
      "INFO:drizzlepac.util:\n"
     ]
    },
    {
     "name": "stdout",
     "output_type": "stream",
     "text": [
      "\n"
     ]
    },
    {
     "name": "stderr",
     "output_type": "stream",
     "text": [
      "INFO:drizzlepac.util:   --------------------          --------------------\n"
     ]
    },
    {
     "name": "stdout",
     "output_type": "stream",
     "text": [
      "   --------------------          --------------------\n"
     ]
    },
    {
     "name": "stderr",
     "output_type": "stream",
     "text": [
      "INFO:drizzlepac.util:                   Step          Elapsed time\n"
     ]
    },
    {
     "name": "stdout",
     "output_type": "stream",
     "text": [
      "                   Step          Elapsed time\n"
     ]
    },
    {
     "name": "stderr",
     "output_type": "stream",
     "text": [
      "INFO:drizzlepac.util:   --------------------          --------------------\n"
     ]
    },
    {
     "name": "stdout",
     "output_type": "stream",
     "text": [
      "   --------------------          --------------------\n"
     ]
    },
    {
     "name": "stderr",
     "output_type": "stream",
     "text": [
      "INFO:drizzlepac.util:\n"
     ]
    },
    {
     "name": "stdout",
     "output_type": "stream",
     "text": [
      "\n"
     ]
    },
    {
     "name": "stderr",
     "output_type": "stream",
     "text": [
      "INFO:drizzlepac.util:         Initialization          0.4596 sec.\n"
     ]
    },
    {
     "name": "stdout",
     "output_type": "stream",
     "text": [
      "         Initialization          0.4596 sec.\n"
     ]
    },
    {
     "name": "stderr",
     "output_type": "stream",
     "text": [
      "INFO:drizzlepac.util:            Static Mask          0.1244 sec.\n"
     ]
    },
    {
     "name": "stdout",
     "output_type": "stream",
     "text": [
      "            Static Mask          0.1244 sec.\n"
     ]
    },
    {
     "name": "stderr",
     "output_type": "stream",
     "text": [
      "INFO:drizzlepac.util:           Subtract Sky          0.3968 sec.\n"
     ]
    },
    {
     "name": "stdout",
     "output_type": "stream",
     "text": [
      "           Subtract Sky          0.3968 sec.\n"
     ]
    },
    {
     "name": "stderr",
     "output_type": "stream",
     "text": [
      "INFO:drizzlepac.util:       Separate Drizzle          0.0022 sec.\n"
     ]
    },
    {
     "name": "stdout",
     "output_type": "stream",
     "text": [
      "       Separate Drizzle          0.0022 sec.\n"
     ]
    },
    {
     "name": "stderr",
     "output_type": "stream",
     "text": [
      "INFO:drizzlepac.util:          Create Median          0.0000 sec.\n"
     ]
    },
    {
     "name": "stdout",
     "output_type": "stream",
     "text": [
      "          Create Median          0.0000 sec.\n"
     ]
    },
    {
     "name": "stderr",
     "output_type": "stream",
     "text": [
      "INFO:drizzlepac.util:                   Blot          0.0029 sec.\n"
     ]
    },
    {
     "name": "stdout",
     "output_type": "stream",
     "text": [
      "                   Blot          0.0029 sec.\n"
     ]
    },
    {
     "name": "stderr",
     "output_type": "stream",
     "text": [
      "INFO:drizzlepac.util:                Driz_CR          0.0000 sec.\n"
     ]
    },
    {
     "name": "stdout",
     "output_type": "stream",
     "text": [
      "                Driz_CR          0.0000 sec.\n"
     ]
    },
    {
     "name": "stderr",
     "output_type": "stream",
     "text": [
      "INFO:drizzlepac.util:          Final Drizzle          1.8254 sec.\n"
     ]
    },
    {
     "name": "stdout",
     "output_type": "stream",
     "text": [
      "          Final Drizzle          1.8254 sec.\n"
     ]
    },
    {
     "name": "stderr",
     "output_type": "stream",
     "text": [
      "INFO:drizzlepac.util:   ====================          ====================\n"
     ]
    },
    {
     "name": "stdout",
     "output_type": "stream",
     "text": [
      "   ====================          ====================\n"
     ]
    },
    {
     "name": "stderr",
     "output_type": "stream",
     "text": [
      "INFO:drizzlepac.util:                  Total          2.8114 sec.\n"
     ]
    },
    {
     "name": "stdout",
     "output_type": "stream",
     "text": [
      "                  Total          2.8114 sec.\n"
     ]
    },
    {
     "name": "stderr",
     "output_type": "stream",
     "text": [
      "INFO:drizzlepac.util:\n"
     ]
    },
    {
     "name": "stdout",
     "output_type": "stream",
     "text": [
      "\n"
     ]
    },
    {
     "name": "stderr",
     "output_type": "stream",
     "text": [
      "INFO:drizzlepac.imageObject:Removing intermediate files for jec401noq_flt.fits\n",
      "INFO:drizzlepac.imageObject:Removing intermediate files for jec401nrq_flt.fits\n",
      "INFO:drizzlepac.imageObject:Removing intermediate files for jec401nvq_flt.fits\n",
      "INFO:drizzlepac.imageObject:Removing intermediate files for jec401nxq_flt.fits\n",
      "INFO:drizzlepac.util:Trailer file written to:  astrodrizzle.log\n"
     ]
    },
    {
     "name": "stdout",
     "output_type": "stream",
     "text": [
      "Trailer file written to:  astrodrizzle.log\n"
     ]
    }
   ],
   "source": [
    "astrodrizzle.AstroDrizzle('*flt.fits', \n",
    "                          output = 'f', \n",
    "                          clean = True, \n",
    "                          build = True,\n",
    "                          context = False,\n",
    "                          driz_separate = False,\n",
    "                          median = False,\n",
    "                          blot = False,\n",
    "                          driz_cr = False,\n",
    "                          final_bits ='16')"
   ]
  },
  {
   "cell_type": "code",
   "execution_count": 21,
   "id": "490dd6c8",
   "metadata": {},
   "outputs": [],
   "source": [
    "file = fits.open('f_drz.fits')"
   ]
  },
  {
   "cell_type": "code",
   "execution_count": 22,
   "id": "fc50978f",
   "metadata": {},
   "outputs": [
    {
     "data": {
      "text/plain": [
       "SIMPLE  =                    T / conforms to FITS standard                      \n",
       "BITPIX  =                    8 / array data type                                \n",
       "NAXIS   =                    0 / number of array dimensions                     \n",
       "EXTEND  =                    T                                                  \n",
       "COMMENT   FITS (Flexible Image Transport System) format is defined in 'Astronomy\n",
       "COMMENT   and Astrophysics', volume 376, page 359; bibcode: 2001A&A...376..359H \n",
       "                                                                                \n",
       "TELESCOP= 'HST'                / telescope used to acquire data                 \n",
       "INSTRUME= 'ACS   '             / identifier for instrument used to acquire data \n",
       "                                                                                \n",
       "              / DATA DESCRIPTION KEYWORDS                                       \n",
       "                                                                                \n",
       "IMAGETYP= 'EXT               ' / type of exposure identifier                    \n",
       "PRIMESI = 'ACS   '             / instrument designated as prime                 \n",
       "                                                                                \n",
       "              / TARGET INFORMATION                                              \n",
       "                                                                                \n",
       "TARGNAME= 'SDSS-J211824.06+001729.4       ' / proposer's target name            \n",
       "                                                                                \n",
       "              / PROPOSAL INFORMATION                                            \n",
       "                                                                                \n",
       "PROPOSID=                16231 / PEP proposal identifier                        \n",
       "                                                                                \n",
       "              / EXPOSURE INFORMATION                                            \n",
       "                                                                                \n",
       "SUNANGLE=           103.452515 / angle between sun and V1 axis                  \n",
       "MOONANGL=            65.637787 / angle between moon and V1 axis                 \n",
       "SUN_ALT =           -29.774399 / altitude of the sun above Earth's limb         \n",
       "FGSLOCK = 'FINE              ' / commanded FGS lock (FINE,COARSE,GYROS,UNKNOWN) \n",
       "GYROMODE= 'T'                  / number of gyros scheduled, T=3+OBAD            \n",
       "                                                                                \n",
       "DATE-OBS= '2021-05-27'         / UT date of start of observation (yyyy-mm-dd)   \n",
       "EXPSTART=   5.936128522789E+04 / exposure start time (Modified Julian Date)     \n",
       "EXPEND  =       59361.31620752 / exposure end time (Modified Julian Date)       \n",
       "EXPTIME =               2496.0 / exposure duration (seconds)--calculated        \n",
       "TEXPTIME=               2496.0                                                  \n",
       "EXPFLAG = 'NORMAL       '      / Exposure interruption indicator                \n",
       "                                                                                \n",
       "                                                                                \n",
       "              / POINTING INFORMATION                                            \n",
       "                                                                                \n",
       "                                                                                \n",
       "              / TARGET OFFSETS (POSTARGS)                                       \n",
       "                                                                                \n",
       "POSTARG1=            -0.210000 / POSTARG in axis 1 direction                    \n",
       "POSTARG2=            -0.359250 / POSTARG in axis 2 direction                    \n",
       "                                                                                \n",
       "              / DIAGNOSTIC KEYWORDS                                             \n",
       "                                                                                \n",
       "AWSYSVER= 'v0.4.35 '           / cloud infrastructure package version           \n",
       "AWSDPVER= 'v0.2.18 '           / cloud docker image version                     \n",
       "CSYS_VER= 'caldp_20220406'     / calibration software system version id         \n",
       "                                                                                \n",
       "              / SCIENCE INSTRUMENT CONFIGURATION                                \n",
       "                                                                                \n",
       "OBSTYPE = 'IMAGING       '     / observation type - imaging or spectroscopic    \n",
       "OBSMODE = 'ACCUM     '         / operating mode                                 \n",
       "CTEIMAGE= 'NONE'               / type of Charge Transfer Image, if applicable   \n",
       "SCLAMP  = 'NONE          '     / lamp status, NONE or name of lamp which is on  \n",
       "NRPTEXP =                    1 / number of repeat exposures in set: default 1   \n",
       "SUBARRAY=                    F / data from a subarray (T) or full frame (F)     \n",
       "DETECTOR= 'SBC'                / detector in use: WFC, HRC, or SBC              \n",
       "FILTER1 = 'F150LP            ' / element selected from filter wheel 1           \n",
       "FILTER2 = 'N/A               ' / element selected from filter wheel 2           \n",
       "FW1OFFST=                    0 / computed filter wheel offset                   \n",
       "FW1ERROR=                    F / filter wheel position error flag               \n",
       "FW2OFFST=                    0 / computed filter wheel offset                   \n",
       "FW2ERROR=                    F / filter wheel position error flag               \n",
       "FWSOFFST=                    0 / computed filter wheel offset                   \n",
       "FWSERROR=                    F / filter wheel position error flag               \n",
       "LRFWAVE =             0.000000 / proposed linear ramp filter wavelength         \n",
       "APERTURE= 'SBC             '   / aperture name                                  \n",
       "PROPAPER= 'SBC             '   / proposed aperture name                         \n",
       "DIRIMAGE= 'NONE     '          / direct image for grism or prism exposure       \n",
       "                                                                                \n",
       "              / MAMA OFFSETS                                                    \n",
       "                                                                                \n",
       "                                                                                \n",
       "              / LOCAL RATE CHECK IMAGE                                          \n",
       "                                                                                \n",
       "                                                                                \n",
       "              / CALIBRATION SWITCHES: PERFORM, OMIT, COMPLETE                   \n",
       "                                                                                \n",
       "WRTERR  =                    T / write out error array extension                \n",
       "DQICORR = 'COMPLETE'           / data quality initialization                    \n",
       "LFLGCORR= 'COMPLETE'           / flag pixels for local and global nonlinearities\n",
       "DARKCORR= 'OMIT    '           / Subtract dark image                            \n",
       "FLATCORR= 'COMPLETE'           / flat field data                                \n",
       "PHOTCORR= 'COMPLETE'           / populate photometric header keywords           \n",
       "DRIZCORR= 'COMPLETE'           / drizzle processing                             \n",
       "                                                                                \n",
       "              / CALIBRATION REFERENCE FILES                                     \n",
       "                                                                                \n",
       "BPIXTAB = 'jref$u451251ej_bpx.fits' / bad pixel table                           \n",
       "DARKFILE= 'N/A                    ' / dark image file name                      \n",
       "DFLTFILE= 'N/A                    ' / delta flat field file name                \n",
       "LFLTFILE= 'N/A                    ' / low order flat                            \n",
       "PHOTTAB = 'N/A                    ' / Photometric throughput table              \n",
       "GRAPHTAB= 'N/A                    ' / the HST graph table                       \n",
       "COMPTAB = 'N/A                    ' / the HST components table                  \n",
       "IDCTAB  = 'jref$v6m2008mj_idc.fits' / image distortion correction table         \n",
       "DGEOFILE= 'jref$s5f20000j_dxy.fits' / Distortion correction image               \n",
       "MDRIZTAB= 'jref$ub215379j_mdz.fits' / MultiDrizzle parameter table              \n",
       "CFLTFILE= 'N/A                    ' / Coronagraphic spot image                  \n",
       "SPOTTAB = 'N/A                    ' / Coronagraphic spot offset table           \n",
       "IMPHTTAB= 'jref$64614292j_imp.fits' / Image Photometry Table                    \n",
       "                                                                                \n",
       "              / OTFR KEYWORDS                                                   \n",
       "                                                                                \n",
       "                                                                                \n",
       "              / PATTERN KEYWORDS                                                \n",
       "                                                                                \n",
       "PATTERN1= 'ACS-SBC-DITHER-BOX      ' / primary pattern type                     \n",
       "P1_SHAPE= 'PARALLELOGRAM     ' / primary pattern shape                          \n",
       "P1_PURPS= 'DITHER    '         / primary pattern purpose                        \n",
       "P1_NPTS =                    4 / number of points in primary pattern            \n",
       "P1_PSPAC=             0.894773 / point spacing for primary pattern (arc-sec)    \n",
       "P1_LSPAC=             0.587116 / line spacing for primary pattern (arc-sec)     \n",
       "P1_ANGLE=            64.478514 / angle between sides of parallelogram patt (deg)\n",
       "P1_FRAME= 'POS-TARG '          / coordinate frame of primary pattern            \n",
       "P1_ORINT=            20.151333 / orientation of pattern to coordinate frame (deg\n",
       "P1_CENTR= 'YES'                / center pattern relative to pointing (yes/no)   \n",
       "PATTSTEP=                    1 / position number of this point in the pattern   \n",
       "                                                                                \n",
       "              / ASSOCIATION KEYWORDS                                            \n",
       "                                                                                \n",
       "CRDS_CTX= 'hst_1004.pmap'                                                       \n",
       "CRDS_VER= '11.9.0, b11.4.0, 64d96076d89b32a5687a6b77bb910ab93b3a99b3'           \n",
       "ATODTAB = 'N/A     '                                                            \n",
       "BIASFILE= 'N/A     '                                                            \n",
       "CCDTAB  = 'N/A     '                                                            \n",
       "CRREJTAB= 'N/A     '                                                            \n",
       "FLSHFILE= 'N/A     '                                                            \n",
       "OSCNTAB = 'N/A     '                                                            \n",
       "SATUFILE= 'N/A     '                                                            \n",
       "SHADFILE= 'N/A     '                                                            \n",
       "SNKCFILE= 'N/A     '                                                            \n",
       "DISTNAME= 'jec401noq_v6m2008mj-xc215013j-NOMODEL'                               \n",
       "SIPNAME = 'jec401noq_v6m2008mj'                                                 \n",
       "UPWCSVER= '1.7.2   '           / Version of STWCS used to updated the WCS       \n",
       "PYWCSVER= '5.0.2   '           / Version of PYWCS used to updated the WCS       \n",
       "RULESVER=                  1.1 / Version ID for header kw rules file            \n",
       "BLENDVER= '1.2.0   '           / Version of blendheader software used           \n",
       "RULEFILE= '/Users/ha/.conda/envs/astroconda/lib/python3.7/site-packages/fitsbl&'\n",
       "CONTINUE  'ender/acs_header.rules&'                                             \n",
       "CONTINUE  '' / Name of header kw rules file                                     \n",
       "NEXTEND =                    4                                                  \n",
       "FILENAME= 'f_drz.fits'                                                          \n",
       "PROD_VER= 'DrizzlePac 3.1.8'                                                    \n",
       "ROOTNAME= 'f       '                                                            \n",
       "ASN_MTYP= 'PROD-DTH'                                                            \n",
       "NDRIZIM =                    4 / Drizzle, No. images drizzled onto output       \n",
       "D001VER = 'Callable C-based DRIZZLE Version 0.8 (20th M' / Drizzle, task version\n",
       "D001GEOM= 'wcs     '           / Drizzle, source of geometric information       \n",
       "D001DATA= 'jec401noq_flt.fits[sci,1]' / Drizzle, input data image               \n",
       "D001DEXP=                624.0 / Drizzle, input image exposure time (s)         \n",
       "D001OUDA= 'f_drz.fits'         / Drizzle, output data image                     \n",
       "D001OUWE= 'f_drz_wht.fits'     / Drizzle, output weighting image                \n",
       "D001OUCO= '' / Drizzle, output context image                                    \n",
       "D001MASK= 'jec401noq_sci1_final_mask.fits' / Drizzle, input weighting image     \n",
       "D001WTSC=                    1 / Drizzle, weighting factor for input image      \n",
       "D001KERN= 'square  '           / Drizzle, form of weight distribution kernel    \n",
       "D001PIXF=                  1.0 / Drizzle, linear size of drop                   \n",
       "D001COEF= 'SIP     '           / Drizzle, source of coefficients                \n",
       "D001OUUN= 'cps     '           / Drizzle, units of output image - counts or cps \n",
       "D001FVAL= 'INDEF   '           / Drizzle, fill value for zero weight output pix \n",
       "D001WKEY= '' / Input image WCS Version used                                     \n",
       "D001SCAL=  0.02500000037252903 / Drizzle, pixel size (arcsec) of output image   \n",
       "D001ISCL=  0.02500000037252903 / Drizzle, default IDCTAB pixel size(arcsec)     \n",
       "D002VER = 'Callable C-based DRIZZLE Version 0.8 (20th M' / Drizzle, task version\n",
       "D002GEOM= 'wcs     '           / Drizzle, source of geometric information       \n",
       "D002DATA= 'jec401nrq_flt.fits[sci,1]' / Drizzle, input data image               \n",
       "D002DEXP=                624.0 / Drizzle, input image exposure time (s)         \n",
       "D002OUDA= 'f_drz.fits'         / Drizzle, output data image                     \n",
       "D002OUWE= 'f_drz_wht.fits'     / Drizzle, output weighting image                \n",
       "D002OUCO= '' / Drizzle, output context image                                    \n",
       "D002MASK= 'jec401nrq_sci1_final_mask.fits' / Drizzle, input weighting image     \n",
       "D002WTSC=                    1 / Drizzle, weighting factor for input image      \n",
       "D002KERN= 'square  '           / Drizzle, form of weight distribution kernel    \n",
       "D002PIXF=                  1.0 / Drizzle, linear size of drop                   \n",
       "D002COEF= 'SIP     '           / Drizzle, source of coefficients                \n",
       "D002OUUN= 'cps     '           / Drizzle, units of output image - counts or cps \n",
       "D002FVAL= 'INDEF   '           / Drizzle, fill value for zero weight output pix \n",
       "D002WKEY= '' / Input image WCS Version used                                     \n",
       "D002SCAL=  0.02500000037252903 / Drizzle, pixel size (arcsec) of output image   \n",
       "D002ISCL=  0.02500000037252903 / Drizzle, default IDCTAB pixel size(arcsec)     \n",
       "D003VER = 'Callable C-based DRIZZLE Version 0.8 (20th M' / Drizzle, task version\n",
       "D003GEOM= 'wcs     '           / Drizzle, source of geometric information       \n",
       "D003DATA= 'jec401nvq_flt.fits[sci,1]' / Drizzle, input data image               \n",
       "D003DEXP=                624.0 / Drizzle, input image exposure time (s)         \n",
       "D003OUDA= 'f_drz.fits'         / Drizzle, output data image                     \n",
       "D003OUWE= 'f_drz_wht.fits'     / Drizzle, output weighting image                \n",
       "D003OUCO= '' / Drizzle, output context image                                    \n",
       "D003MASK= 'jec401nvq_sci1_final_mask.fits' / Drizzle, input weighting image     \n",
       "D003WTSC=                    1 / Drizzle, weighting factor for input image      \n",
       "D003KERN= 'square  '           / Drizzle, form of weight distribution kernel    \n",
       "D003PIXF=                  1.0 / Drizzle, linear size of drop                   \n",
       "D003COEF= 'SIP     '           / Drizzle, source of coefficients                \n",
       "D003OUUN= 'cps     '           / Drizzle, units of output image - counts or cps \n",
       "D003FVAL= 'INDEF   '           / Drizzle, fill value for zero weight output pix \n",
       "D003WKEY= '' / Input image WCS Version used                                     \n",
       "D003SCAL=  0.02500000037252903 / Drizzle, pixel size (arcsec) of output image   \n",
       "D003ISCL=  0.02500000037252903 / Drizzle, default IDCTAB pixel size(arcsec)     \n",
       "D004VER = 'Callable C-based DRIZZLE Version 0.8 (20th M' / Drizzle, task version\n",
       "D004GEOM= 'wcs     '           / Drizzle, source of geometric information       \n",
       "D004DATA= 'jec401nxq_flt.fits[sci,1]' / Drizzle, input data image               \n",
       "D004DEXP=                624.0 / Drizzle, input image exposure time (s)         \n",
       "D004OUDA= 'f_drz.fits'         / Drizzle, output data image                     \n",
       "D004OUWE= 'f_drz_wht.fits'     / Drizzle, output weighting image                \n",
       "D004OUCO= '' / Drizzle, output context image                                    \n",
       "D004MASK= 'jec401nxq_sci1_final_mask.fits' / Drizzle, input weighting image     \n",
       "D004WTSC=                    1 / Drizzle, weighting factor for input image      \n",
       "D004KERN= 'square  '           / Drizzle, form of weight distribution kernel    \n",
       "D004PIXF=                  1.0 / Drizzle, linear size of drop                   \n",
       "D004COEF= 'SIP     '           / Drizzle, source of coefficients                \n",
       "D004OUUN= 'cps     '           / Drizzle, units of output image - counts or cps \n",
       "D004FVAL= 'INDEF   '           / Drizzle, fill value for zero weight output pix \n",
       "D004WKEY= '' / Input image WCS Version used                                     \n",
       "D004SCAL=  0.02500000037252903 / Drizzle, pixel size (arcsec) of output image   \n",
       "D004ISCL=  0.02500000037252903 / Drizzle, default IDCTAB pixel size(arcsec)     \n",
       "HISTORY DQICORR complete ...                                                    \n",
       "HISTORY   DQ array initialized ...                                              \n",
       "HISTORY   reference table jref$u451251ej_bpx.fits                               \n",
       "HISTORY GLINCORR complete ...                                                   \n",
       "HISTORY LFLGCORR complete ...                                                   \n",
       "HISTORY   reference table jref$k9c13374j_lin.fits                               \n",
       "HISTORY     GROUND                                                              \n",
       "HISTORY     prepared by G. Meurer following STIS parameters of T. Danks         \n",
       "HISTORY Uncertainty array initialized.                                          \n",
       "HISTORY FLATCORR complete ...                                                   \n",
       "HISTORY   reference image jref$36h2201jj_pfl.fits                               \n",
       "HISTORY     INFLIGHT 27/05/2002 02/04/2019                                      \n",
       "HISTORY     Inflight SBC LP-Flat                                                \n",
       "HISTORY PHOTCORR complete ...                                                   \n",
       "HISTORY   reference table jref$64614292j_imp.fits                               \n",
       "HISTORY ============================================================            \n",
       "HISTORY Header Generation rules:                                                \n",
       "HISTORY     Rules used to combine headers of input files                        \n",
       "HISTORY     Start of rules...                                                   \n",
       "HISTORY ------------------------------------------------------------            \n",
       "HISTORY !VERSION = 1.1                                                          \n",
       "HISTORY !INSTRUMENT = ACS                                                       \n",
       "HISTORY ROOTNAME                                                                \n",
       "HISTORY EXTNAME                                                                 \n",
       "HISTORY EXTVER                                                                  \n",
       "HISTORY A_0_2                                                                   \n",
       "HISTORY A_0_3                                                                   \n",
       "HISTORY A_0_4                                                                   \n",
       "HISTORY A_1_1                                                                   \n",
       "HISTORY A_1_2                                                                   \n",
       "HISTORY A_1_3                                                                   \n",
       "HISTORY A_2_0                                                                   \n",
       "HISTORY A_2_1                                                                   \n",
       "HISTORY A_2_2                                                                   \n",
       "HISTORY A_3_0                                                                   \n",
       "HISTORY A_3_1                                                                   \n",
       "HISTORY A_4_0                                                                   \n",
       "HISTORY ACQNAME                                                                 \n",
       "HISTORY A_ORDER                                                                 \n",
       "HISTORY APERTURE                                                                \n",
       "HISTORY ASN_ID                                                                  \n",
       "HISTORY ASN_MTYP                                                                \n",
       "HISTORY ASN_TAB                                                                 \n",
       "HISTORY ATODCORR                                                                \n",
       "HISTORY ATODGNA                                                                 \n",
       "HISTORY ATODGNB                                                                 \n",
       "HISTORY ATODGNC                                                                 \n",
       "HISTORY ATODGND                                                                 \n",
       "HISTORY ATODTAB                                                                 \n",
       "HISTORY B_0_2                                                                   \n",
       "HISTORY B_0_3                                                                   \n",
       "HISTORY B_0_4                                                                   \n",
       "HISTORY B_1_1                                                                   \n",
       "HISTORY B_1_2                                                                   \n",
       "HISTORY B_1_3                                                                   \n",
       "HISTORY B_2_0                                                                   \n",
       "HISTORY B_2_1                                                                   \n",
       "HISTORY B_2_2                                                                   \n",
       "HISTORY B_3_0                                                                   \n",
       "HISTORY B_3_1                                                                   \n",
       "HISTORY B_4_0                                                                   \n",
       "HISTORY BADINPDQ                                                                \n",
       "HISTORY BIASCORR                                                                \n",
       "HISTORY BIASFILE                                                                \n",
       "HISTORY BIASLEVA                                                                \n",
       "HISTORY BIASLEVB                                                                \n",
       "HISTORY BIASLEVC                                                                \n",
       "HISTORY BIASLEVD                                                                \n",
       "HISTORY BINAXIS1                                                                \n",
       "HISTORY BINAXIS2                                                                \n",
       "HISTORY BITPIX                                                                  \n",
       "HISTORY BLEVCORR                                                                \n",
       "HISTORY B_ORDER                                                                 \n",
       "HISTORY BPIXTAB                                                                 \n",
       "HISTORY BUNIT                                                                   \n",
       "HISTORY CAL_VER                                                                 \n",
       "HISTORY CBLKSIZ                                                                 \n",
       "HISTORY CCDAMP                                                                  \n",
       "HISTORY CCDCHIP                                                                 \n",
       "HISTORY CCDGAIN                                                                 \n",
       "HISTORY CCDOFSTA                                                                \n",
       "HISTORY CCDOFSTB                                                                \n",
       "HISTORY CCDOFSTC                                                                \n",
       "HISTORY CCDOFSTD                                                                \n",
       "HISTORY CCDTAB                                                                  \n",
       "HISTORY CD1_1                                                                   \n",
       "HISTORY CD1_2                                                                   \n",
       "HISTORY CD2_1                                                                   \n",
       "HISTORY CD2_2                                                                   \n",
       "HISTORY CENTERA1                                                                \n",
       "HISTORY CENTERA2                                                                \n",
       "HISTORY CFLTFILE                                                                \n",
       "HISTORY COMPTAB                                                                 \n",
       "HISTORY COMPTYP                                                                 \n",
       "HISTORY CRCORR                                                                  \n",
       "HISTORY CRMASK                                                                  \n",
       "HISTORY CRPIX1                                                                  \n",
       "HISTORY CRPIX2                                                                  \n",
       "HISTORY CRRADIUS                                                                \n",
       "HISTORY CRREJTAB                                                                \n",
       "HISTORY CRSIGMAS                                                                \n",
       "HISTORY CRSPLIT                                                                 \n",
       "HISTORY CRTHRESH                                                                \n",
       "HISTORY CRVAL1                                                                  \n",
       "HISTORY CRVAL2                                                                  \n",
       "HISTORY CTE_NAME                                                                \n",
       "HISTORY CTE_VER                                                                 \n",
       "HISTORY CTEDIR                                                                  \n",
       "HISTORY CTEIMAGE                                                                \n",
       "HISTORY CTYPE1                                                                  \n",
       "HISTORY CTYPE2                                                                  \n",
       "HISTORY D2IMFILE                                                                \n",
       "HISTORY DARKCORR                                                                \n",
       "HISTORY DARKFILE                                                                \n",
       "HISTORY DATE                                                                    \n",
       "HISTORY DATE-OBS                                                                \n",
       "HISTORY DEC_APER                                                                \n",
       "HISTORY DEC_TARG                                                                \n",
       "HISTORY DETECTOR                                                                \n",
       "HISTORY DFLTFILE                                                                \n",
       "HISTORY DGEOFILE                                                                \n",
       "HISTORY DIRIMAGE                                                                \n",
       "HISTORY DQICORR                                                                 \n",
       "HISTORY DRIZCORR                                                                \n",
       "HISTORY DRKCFILE                                                                \n",
       "HISTORY EQUINOX                                                                 \n",
       "HISTORY ERRCNT                                                                  \n",
       "HISTORY EXPEND                                                                  \n",
       "HISTORY EXPFLAG                                                                 \n",
       "HISTORY EXPNAME                                                                 \n",
       "HISTORY EXPSCORR                                                                \n",
       "HISTORY EXPSTART                                                                \n",
       "HISTORY EXPTIME                                                                 \n",
       "HISTORY EXTEND                                                                  \n",
       "HISTORY FGSLOCK                                                                 \n",
       "HISTORY FILENAME                                                                \n",
       "HISTORY FILETYPE                                                                \n",
       "HISTORY FILLCNT                                                                 \n",
       "HISTORY FILTER1                                                                 \n",
       "HISTORY FILTER2                                                                 \n",
       "HISTORY FLASHCUR                                                                \n",
       "HISTORY FLASHDUR                                                                \n",
       "HISTORY FLASHSTA                                                                \n",
       "HISTORY FLATCORR                                                                \n",
       "HISTORY FLSHCORR                                                                \n",
       "HISTORY FLSHFILE                                                                \n",
       "HISTORY FW1ERROR                                                                \n",
       "HISTORY FW1OFFST                                                                \n",
       "HISTORY FW2ERROR                                                                \n",
       "HISTORY FW2OFFST                                                                \n",
       "HISTORY FWSERROR                                                                \n",
       "HISTORY FWSOFFST                                                                \n",
       "HISTORY GCOUNT                                                                  \n",
       "HISTORY GLINCORR                                                                \n",
       "HISTORY GLOBLIM                                                                 \n",
       "HISTORY GLOBRATE                                                                \n",
       "HISTORY GOODMAX                                                                 \n",
       "HISTORY GOODMEAN                                                                \n",
       "HISTORY GOODMIN                                                                 \n",
       "HISTORY GRAPHTAB                                                                \n",
       "HISTORY GYROMODE                                                                \n",
       "HISTORY IDCSCALE                                                                \n",
       "HISTORY IDCTAB                                                                  \n",
       "HISTORY IDCTHETA                                                                \n",
       "HISTORY IDCV2REF                                                                \n",
       "HISTORY IDCV3REF                                                                \n",
       "HISTORY IMAGETYP                                                                \n",
       "HISTORY IMPHTTAB                                                                \n",
       "HISTORY INHERIT                                                                 \n",
       "HISTORY INITGUES                                                                \n",
       "HISTORY INSTRUME                                                                \n",
       "HISTORY JWROTYPE                                                                \n",
       "HISTORY LFLGCORR                                                                \n",
       "HISTORY LFLTFILE                                                                \n",
       "HISTORY LINENUM                                                                 \n",
       "HISTORY LOSTPIX                                                                 \n",
       "HISTORY LRC_FAIL                                                                \n",
       "HISTORY LRC_XSTS                                                                \n",
       "HISTORY LRFWAVE                                                                 \n",
       "HISTORY LTM1_1                                                                  \n",
       "HISTORY LTM2_2                                                                  \n",
       "HISTORY LTV1                                                                    \n",
       "HISTORY LTV2                                                                    \n",
       "HISTORY MDECODT1                                                                \n",
       "HISTORY MDECODT2                                                                \n",
       "HISTORY MDRIZSKY                                                                \n",
       "HISTORY MDRIZTAB                                                                \n",
       "HISTORY MEANBLEV                                                                \n",
       "HISTORY MEANDARK                                                                \n",
       "HISTORY MEANEXP                                                                 \n",
       "HISTORY MEANFLSH                                                                \n",
       "HISTORY MLINTAB                                                                 \n",
       "HISTORY MOFFSET1                                                                \n",
       "HISTORY MOFFSET2                                                                \n",
       "HISTORY MOONANGL                                                                \n",
       "HISTORY MTFLAG                                                                  \n",
       "HISTORY NAXIS                                                                   \n",
       "HISTORY NAXIS1                                                                  \n",
       "HISTORY NAXIS2                                                                  \n",
       "HISTORY NCOMBINE                                                                \n",
       "HISTORY NEXTEND                                                                 \n",
       "HISTORY NGOODPIX                                                                \n",
       "HISTORY NPOLFILE                                                                \n",
       "HISTORY NRPTEXP                                                                 \n",
       "HISTORY OBSMODE                                                                 \n",
       "HISTORY OBSTYPE                                                                 \n",
       "HISTORY OCD1_1                                                                  \n",
       "HISTORY OCD1_2                                                                  \n",
       "HISTORY OCD2_1                                                                  \n",
       "HISTORY OCD2_2                                                                  \n",
       "HISTORY OCRPIX1                                                                 \n",
       "HISTORY OCRPIX2                                                                 \n",
       "HISTORY OCRVAL1                                                                 \n",
       "HISTORY OCRVAL2                                                                 \n",
       "HISTORY OCTYPE1                                                                 \n",
       "HISTORY OCTYPE2                                                                 \n",
       "HISTORY OCX10                                                                   \n",
       "HISTORY OCX11                                                                   \n",
       "HISTORY OCY10                                                                   \n",
       "HISTORY OCY11                                                                   \n",
       "HISTORY ONAXIS1                                                                 \n",
       "HISTORY ONAXIS2                                                                 \n",
       "HISTORY OORIENTA                                                                \n",
       "HISTORY OPUS_VER                                                                \n",
       "HISTORY ORIENTAT                                                                \n",
       "HISTORY ORIGIN                                                                  \n",
       "HISTORY OSCNTAB                                                                 \n",
       "HISTORY P1_ANGLE                                                                \n",
       "HISTORY P1_CENTR                                                                \n",
       "HISTORY P1_FRAME                                                                \n",
       "HISTORY P1_LSPAC                                                                \n",
       "HISTORY P1_NPTS                                                                 \n",
       "HISTORY P1_ORINT                                                                \n",
       "HISTORY P1_PSPAC                                                                \n",
       "HISTORY P1_PURPS                                                                \n",
       "HISTORY P1_SHAPE                                                                \n",
       "HISTORY PA_APER                                                                 \n",
       "HISTORY PATTERN1                                                                \n",
       "HISTORY PATTSTEP                                                                \n",
       "HISTORY PA_V3                                                                   \n",
       "HISTORY PCOUNT                                                                  \n",
       "HISTORY PCTECORR                                                                \n",
       "HISTORY PCTEFRAC                                                                \n",
       "HISTORY PCTENSMD                                                                \n",
       "HISTORY PCTERNCL                                                                \n",
       "HISTORY PCTESHFT                                                                \n",
       "HISTORY PCTESMIT                                                                \n",
       "HISTORY PCTETAB                                                                 \n",
       "HISTORY PFLTFILE                                                                \n",
       "HISTORY PHOTBW                                                                  \n",
       "HISTORY PHOTCORR                                                                \n",
       "HISTORY PHOTFLAM                                                                \n",
       "HISTORY PHOTMODE                                                                \n",
       "HISTORY PHOTPLAM                                                                \n",
       "HISTORY PHOTTAB                                                                 \n",
       "HISTORY PHOTZPT                                                                 \n",
       "HISTORY PODPSFF                                                                 \n",
       "HISTORY POSTARG1                                                                \n",
       "HISTORY POSTARG2                                                                \n",
       "HISTORY PRIMESI                                                                 \n",
       "HISTORY PR_INV_F                                                                \n",
       "HISTORY PR_INV_L                                                                \n",
       "HISTORY PR_INV_M                                                                \n",
       "HISTORY PROCTIME                                                                \n",
       "HISTORY PROPAPER                                                                \n",
       "HISTORY PROPOSID                                                                \n",
       "HISTORY QUALCOM1                                                                \n",
       "HISTORY QUALCOM2                                                                \n",
       "HISTORY QUALCOM3                                                                \n",
       "HISTORY QUALITY                                                                 \n",
       "HISTORY RA_APER                                                                 \n",
       "HISTORY RA_TARG                                                                 \n",
       "HISTORY READNSEA                                                                \n",
       "HISTORY READNSEB                                                                \n",
       "HISTORY READNSEC                                                                \n",
       "HISTORY READNSED                                                                \n",
       "HISTORY REFFRAME                                                                \n",
       "HISTORY REJ_RATE                                                                \n",
       "HISTORY RPTCORR                                                                 \n",
       "HISTORY SCALENSE                                                                \n",
       "HISTORY SCLAMP                                                                  \n",
       "HISTORY SDQFLAGS                                                                \n",
       "HISTORY SHADCORR                                                                \n",
       "HISTORY SHADFILE                                                                \n",
       "HISTORY SHUTRPOS                                                                \n",
       "HISTORY SIMPLE                                                                  \n",
       "HISTORY SIZAXIS1                                                                \n",
       "HISTORY SIZAXIS2                                                                \n",
       "HISTORY SKYSUB                                                                  \n",
       "HISTORY SKYSUM                                                                  \n",
       "HISTORY SNRMAX                                                                  \n",
       "HISTORY SNRMEAN                                                                 \n",
       "HISTORY SNRMIN                                                                  \n",
       "HISTORY SOFTERRS                                                                \n",
       "HISTORY SPOTTAB                                                                 \n",
       "HISTORY STATFLAG                                                                \n",
       "HISTORY STDCFFF                                                                 \n",
       "HISTORY STDCFFP                                                                 \n",
       "HISTORY SUBARRAY                                                                \n",
       "HISTORY SUN_ALT                                                                 \n",
       "HISTORY SUNANGLE                                                                \n",
       "HISTORY TARGNAME                                                                \n",
       "HISTORY TDDALPHA                                                                \n",
       "HISTORY TDDBETA                                                                 \n",
       "HISTORY TELESCOP                                                                \n",
       "HISTORY TIME-OBS                                                                \n",
       "HISTORY T_SGSTAR                                                                \n",
       "HISTORY VAFACTOR                                                                \n",
       "HISTORY WCSAXES                                                                 \n",
       "HISTORY WCSCDATE                                                                \n",
       "HISTORY WFCMPRSD                                                                \n",
       "HISTORY WCSNAME                                                                 \n",
       "HISTORY WRTERR                                                                  \n",
       "HISTORY XTENSION                                                                \n",
       "HISTORY WCSNAMEO                                                                \n",
       "HISTORY WCSAXESO                                                                \n",
       "HISTORY LONPOLEO                                                                \n",
       "HISTORY LATPOLEO                                                                \n",
       "HISTORY RESTFRQO                                                                \n",
       "HISTORY RESTWAVO                                                                \n",
       "HISTORY CD1_1O                                                                  \n",
       "HISTORY CD1_2O                                                                  \n",
       "HISTORY CD2_1O                                                                  \n",
       "HISTORY CD2_2O                                                                  \n",
       "HISTORY CDELT1O                                                                 \n",
       "HISTORY CDELT2O                                                                 \n",
       "HISTORY CRPIX1O                                                                 \n",
       "HISTORY CRPIX2O                                                                 \n",
       "HISTORY CRVAL1O                                                                 \n",
       "HISTORY CRVAL2O                                                                 \n",
       "HISTORY CTYPE1O                                                                 \n",
       "HISTORY CTYPE2O                                                                 \n",
       "HISTORY CUNIT1O                                                                 \n",
       "HISTORY CUNIT2O                                                                 \n",
       "HISTORY APERTURE  APERTURE  multi                                               \n",
       "HISTORY DETECTOR  DETECTOR  first                                               \n",
       "HISTORY EXPEND    EXPEND    max                                                 \n",
       "HISTORY EXPSTART  EXPSTART  min                                                 \n",
       "HISTORY EXPTIME   TEXPTIME  sum                                                 \n",
       "HISTORY EXPTIME   EXPTIME   sum                                                 \n",
       "HISTORY FILTER1   FILTER1   multi                                               \n",
       "HISTORY FILTER2   FILTER2   multi                                               \n",
       "HISTORY GOODMAX   GOODMAX   max                                                 \n",
       "HISTORY GOODMEAN  GOODMEAN  mean                                                \n",
       "HISTORY GOODMIN   GOODMIN   min                                                 \n",
       "HISTORY INHERIT   INHERIT   first # maintain IRAF compatibility                 \n",
       "HISTORY INSTRUME  INSTRUME  first                                               \n",
       "HISTORY LRFWAVE   LRFWAVE   first                                               \n",
       "HISTORY NCOMBINE  NCOMBINE  sum                                                 \n",
       "HISTORY MDRIZSKY  MDRIZSKY  mean                                                \n",
       "HISTORY PHOTBW    PHOTBW    mean                                                \n",
       "HISTORY PHOTFLAM  PHOTFLAM  mean                                                \n",
       "HISTORY PHOTMODE  PHOTMODE  first                                               \n",
       "HISTORY PHOTPLAM  PHOTPLAM  mean                                                \n",
       "HISTORY PHOTZPT   PHOTZPT   mean                                                \n",
       "HISTORY PROPOSID  PROPOSID  first                                               \n",
       "HISTORY SNRMAX    SNRMAX    max                                                 \n",
       "HISTORY SNRMEAN   SNRMEAN   mean                                                \n",
       "HISTORY SNRMIN    SNRMIN    min                                                 \n",
       "HISTORY TARGNAME  TARGNAME  first                                               \n",
       "HISTORY TELESCOP  TELESCOP  first                                               \n",
       "HISTORY WCSNAME   WCSNAME   first                                               \n",
       "HISTORY ATODCORR  ATODCORR  multi                                               \n",
       "HISTORY ATODGNA   ATODGNA   first                                               \n",
       "HISTORY ATODGNB   ATODGNB   first                                               \n",
       "HISTORY ATODGNC   ATODGNC   first                                               \n",
       "HISTORY ATODGND   ATODGND   first                                               \n",
       "HISTORY ATODTAB   ATODTAB   multi                                               \n",
       "HISTORY BADINPDQ  BADINPDQ  sum                                                 \n",
       "HISTORY BIASCORR  BIASCORR  multi                                               \n",
       "HISTORY BIASFILE  BIASFILE  multi                                               \n",
       "HISTORY BLEVCORR  BLEVCORR  multi                                               \n",
       "HISTORY BPIXTAB   BPIXTAB   multi                                               \n",
       "HISTORY CCDCHIP   CCDCHIP   first                                               \n",
       "HISTORY CCDGAIN   CCDGAIN   first                                               \n",
       "HISTORY CCDOFSTA  CCDOFSTA  first                                               \n",
       "HISTORY CCDOFSTB  CCDOFSTB  first                                               \n",
       "HISTORY CCDOFSTC  CCDOFSTC  first                                               \n",
       "HISTORY CCDOFSTD  CCDOFSTD  first                                               \n",
       "HISTORY CCDTAB      CCDTAB    multi                                             \n",
       "HISTORY CFLTFILE  CFLTFILE  multi                                               \n",
       "HISTORY COMPTAB   COMPTAB   multi                                               \n",
       "HISTORY CRCORR      CRCORR    multi                                             \n",
       "HISTORY CRMASK      CRMASK    first                                             \n",
       "HISTORY CRRADIUS  CRRADIUS  first                                               \n",
       "HISTORY CRREJTAB  CRREJTAB  multi                                               \n",
       "HISTORY CRSPLIT   CRSPLIT   first                                               \n",
       "HISTORY CRTHRESH  CRTHRESH  first                                               \n",
       "HISTORY CTEDIR      CTEDIR    multi                                             \n",
       "HISTORY CTEIMAGE  CTEIMAGE  first                                               \n",
       "HISTORY DARKCORR  DARKCORR  multi                                               \n",
       "HISTORY DARKFILE  DARKFILE  multi                                               \n",
       "HISTORY DATE-OBS  DATE-OBS  first                                               \n",
       "HISTORY DEC_APER  DEC_APER  first                                               \n",
       "HISTORY DFLTFILE  DFLTFILE  multi                                               \n",
       "HISTORY DGEOFILE  DGEOFILE  multi                                               \n",
       "HISTORY DIRIMAGE  DIRIMAGE  multi                                               \n",
       "HISTORY DQICORR   DQICORR   multi                                               \n",
       "HISTORY DRIZCORR  DRIZCORR  multi                                               \n",
       "HISTORY EXPFLAG   EXPFLAG   multi                                               \n",
       "HISTORY EXPSCORR  EXPSCORR  multi                                               \n",
       "HISTORY FGSLOCK   FGSLOCK   multi                                               \n",
       "HISTORY FLASHCUR  FLASHCUR  multi                                               \n",
       "HISTORY FLASHDUR  FLASHDUR  first                                               \n",
       "HISTORY FLASHSTA  FLASHSTA  first                                               \n",
       "HISTORY FLATCORR  FLATCORR  multi                                               \n",
       "HISTORY FLSHCORR  FLSHCORR  multi                                               \n",
       "HISTORY FLSHFILE  FLSHFILE  multi                                               \n",
       "HISTORY FW1ERROR  FW1ERROR  multi                                               \n",
       "HISTORY FW1OFFST  FW1OFFST  first                                               \n",
       "HISTORY FW2ERROR  FW2ERROR  multi                                               \n",
       "HISTORY FW2OFFST  FW2OFFST  first                                               \n",
       "HISTORY FWSERROR  FWSERROR  multi                                               \n",
       "HISTORY FWSOFFST  FWSOFFST  first                                               \n",
       "HISTORY GRAPHTAB  GRAPHTAB  multi                                               \n",
       "HISTORY GYROMODE  GYROMODE  multi                                               \n",
       "HISTORY IDCTAB      IDCTAB    multi                                             \n",
       "HISTORY IMAGETYP  IMAGETYP  first                                               \n",
       "HISTORY IMPHTTAB  IMPHTTAB  multi                                               \n",
       "HISTORY LFLGCORR  LFLGCORR  multi                                               \n",
       "HISTORY LFLTFILE  LFLTFILE  multi                                               \n",
       "HISTORY LTM1_1    LTM1_1    float_one                                           \n",
       "HISTORY LTM2_2    LTM2_2    float_one                                           \n",
       "HISTORY MDRIZTAB  MDRIZTAB  multi                                               \n",
       "HISTORY MEANEXP   MEANEXP   first                                               \n",
       "HISTORY MOONANGL  MOONANGL  first                                               \n",
       "HISTORY NRPTEXP   NRPTEXP   first                                               \n",
       "HISTORY OBSMODE   OBSMODE   multi                                               \n",
       "HISTORY OBSTYPE   OBSTYPE   first                                               \n",
       "HISTORY OSCNTAB   OSCNTAB   multi                                               \n",
       "HISTORY P1_ANGLE  P1_ANGLE  first                                               \n",
       "HISTORY P1_CENTR  P1_CENTR  multi                                               \n",
       "HISTORY P1_FRAME  P1_FRAME  multi                                               \n",
       "HISTORY P1_LSPAC  P1_LSPAC  first                                               \n",
       "HISTORY P1_NPTS   P1_NPTS   first                                               \n",
       "HISTORY P1_ORINT  P1_ORINT  first                                               \n",
       "HISTORY P1_PSPAC  P1_PSPAC  first                                               \n",
       "HISTORY P1_PURPS  P1_PURPS  multi                                               \n",
       "HISTORY P1_SHAPE  P1_SHAPE  multi                                               \n",
       "HISTORY P2_ANGLE  P2_ANGLE  first                                               \n",
       "HISTORY P2_CENTR  P2_CENTR  multi                                               \n",
       "HISTORY P2_FRAME  P2_FRAME  multi                                               \n",
       "HISTORY P2_LSPAC  P2_LSPAC  first                                               \n",
       "HISTORY P2_NPTS   P2_NPTS   first                                               \n",
       "HISTORY P2_ORINT  P2_ORINT  first                                               \n",
       "HISTORY P2_PSPAC  P2_PSPAC  first                                               \n",
       "HISTORY P2_PURPS  P2_PURPS  multi                                               \n",
       "HISTORY P2_SHAPE  P2_SHAPE  multi                                               \n",
       "HISTORY PATTERN1  PATTERN1  multi                                               \n",
       "HISTORY PATTERN2  PATTERN2  multi                                               \n",
       "HISTORY PATTSTEP  PATTSTEP  first                                               \n",
       "HISTORY PHOTCORR  PHOTCORR  multi                                               \n",
       "HISTORY PHOTTAB   PHOTTAB   multi                                               \n",
       "HISTORY POSTARG1  POSTARG1  first                                               \n",
       "HISTORY POSTARG2  POSTARG2  first                                               \n",
       "HISTORY PRIMESI   PRIMESI   multi                                               \n",
       "HISTORY PROPAPER  PROPAPER  multi                                               \n",
       "HISTORY RA_APER   RA_APER   first                                               \n",
       "HISTORY READNSEA  READNSEA  first                                               \n",
       "HISTORY READNSEB  READNSEB  first                                               \n",
       "HISTORY READNSEC  READNSEC  first                                               \n",
       "HISTORY READNSED  READNSED  first                                               \n",
       "HISTORY REJ_RATE  REJ_RATE  first                                               \n",
       "HISTORY SCALENSE  SCALENSE  first                                               \n",
       "HISTORY SCLAMP      SCLAMP    multi                                             \n",
       "HISTORY SHADCORR  SHADCORR  multi                                               \n",
       "HISTORY SHADFILE  SHADFILE  multi                                               \n",
       "HISTORY SHUTRPOS  SHUTRPOS  multi                                               \n",
       "HISTORY SKYSUB      SKYSUB    multi                                             \n",
       "HISTORY SKYSUM      SKYSUM    sum                                               \n",
       "HISTORY SPOTTAB   SPOTTAB   multi                                               \n",
       "HISTORY SUBARRAY  SUBARRAY  first                                               \n",
       "HISTORY SUNANGLE  SUNANGLE  first                                               \n",
       "HISTORY SUN_ALT   SUN_ALT   first                                               \n",
       "HISTORY WRTERR      WRTERR    multi                                             \n",
       "HISTORY ------------------------------------------------------------            \n",
       "HISTORY     End of rules...                                                     \n",
       "HISTORY ============================================================            \n",
       "HISTORY AstroDrizzle processing performed using:                                \n",
       "HISTORY     AstroDrizzle Version 3.1.8                                          \n",
       "HISTORY     PyFITS Version 4.3.1                                                \n",
       "HISTORY     Numpy Version 1.21.5                                                "
      ]
     },
     "execution_count": 22,
     "metadata": {},
     "output_type": "execute_result"
    }
   ],
   "source": [
    "file[0].header"
   ]
  },
  {
   "cell_type": "code",
   "execution_count": 18,
   "id": "2a7c4298",
   "metadata": {},
   "outputs": [],
   "source": [
    "file1 = fits.open('jec401noq_flt.fits')"
   ]
  },
  {
   "cell_type": "code",
   "execution_count": 19,
   "id": "095e1ed4",
   "metadata": {},
   "outputs": [
    {
     "data": {
      "text/plain": [
       "SIMPLE  =                    T / file does conform to FITS standard             \n",
       "BITPIX  =                   16 / number of bits per data pixel                  \n",
       "NAXIS   =                    0 / number of data axes                            \n",
       "EXTEND  =                    T / FITS dataset may contain extensions            \n",
       "COMMENT   FITS (Flexible Image Transport System) format is defined in 'Astronomy\n",
       "COMMENT   and Astrophysics', volume 376, page 359; bibcode: 2001A&A...376..359H \n",
       "ORIGIN  = 'HSTIO/CFITSIO March 2010' / FITS file originator                     \n",
       "DATE    = '2022-04-13' / date this file was written (yyyy-mm-dd)                \n",
       "NEXTEND =                    8 / Number of standard extensions                  \n",
       "FILENAME= 'jec401noq_flt.fits' / name of file                                   \n",
       "FILETYPE= 'SCI      '          / type of data found in data file                \n",
       "                                                                                \n",
       "TELESCOP= 'HST'                / telescope used to acquire data                 \n",
       "INSTRUME= 'ACS   '             / identifier for instrument used to acquire data \n",
       "EQUINOX =               2000.0 / equinox of celestial coord. system             \n",
       "                                                                                \n",
       "              / DATA DESCRIPTION KEYWORDS                                       \n",
       "                                                                                \n",
       "ROOTNAME= 'jec401noq                         ' / rootname of the observation set\n",
       "IMAGETYP= 'EXT               ' / type of exposure identifier                    \n",
       "PRIMESI = 'ACS   '             / instrument designated as prime                 \n",
       "                                                                                \n",
       "              / TARGET INFORMATION                                              \n",
       "                                                                                \n",
       "TARGNAME= 'SDSS-J211824.06+001729.4       ' / proposer's target name            \n",
       "RA_TARG =   3.196002500000E+02 / right ascension of the target (deg) (J2000)    \n",
       "DEC_TARG=   2.915000000000E-01 / declination of the target (deg) (J2000)        \n",
       "                                                                                \n",
       "              / PROPOSAL INFORMATION                                            \n",
       "                                                                                \n",
       "PROPOSID=                16231 / PEP proposal identifier                        \n",
       "LINENUM = '01.001         '    / proposal logsheet line number                  \n",
       "PR_INV_L= 'Rupke                         ' / last name of principal investigator\n",
       "PR_INV_F= 'David               ' / first name of principal investigator         \n",
       "PR_INV_M= '                    ' / middle name / initial of principal investigat\n",
       "                                                                                \n",
       "              / EXPOSURE INFORMATION                                            \n",
       "                                                                                \n",
       "SUNANGLE=           103.452515 / angle between sun and V1 axis                  \n",
       "MOONANGL=            65.637787 / angle between moon and V1 axis                 \n",
       "SUN_ALT =           -29.774399 / altitude of the sun above Earth's limb         \n",
       "FGSLOCK = 'FINE              ' / commanded FGS lock (FINE,COARSE,GYROS,UNKNOWN) \n",
       "GYROMODE= 'T'                  / number of gyros scheduled, T=3+OBAD            \n",
       "REFFRAME= 'ICRS    '           / guide star catalog version                     \n",
       "MTFLAG  = ' '                  / moving target flag; T if it is a moving target \n",
       "                                                                                \n",
       "DATE-OBS= '2021-05-27'         / UT date of start of observation (yyyy-mm-dd)   \n",
       "TIME-OBS= '06:50:43'           / UT time of start of observation (hh:mm:ss)     \n",
       "EXPSTART=   5.936128522789E+04 / exposure start time (Modified Julian Date)     \n",
       "EXPEND  =   5.936129245789E+04 / exposure end time (Modified Julian Date)       \n",
       "EXPTIME =           624.000000 / exposure duration (seconds)--calculated        \n",
       "EXPFLAG = 'NORMAL       '      / Exposure interruption indicator                \n",
       "QUALCOM1= '                                                                    '\n",
       "QUALCOM2= '                                                                    '\n",
       "QUALCOM3= '                                                                    '\n",
       "QUALITY = '                                                                    '\n",
       "                                                                                \n",
       "                                                                                \n",
       "              / POINTING INFORMATION                                            \n",
       "                                                                                \n",
       "PA_V3   =            56.999378 / position angle of V3-axis of HST (deg)         \n",
       "                                                                                \n",
       "              / TARGET OFFSETS (POSTARGS)                                       \n",
       "                                                                                \n",
       "POSTARG1=            -0.210000 / POSTARG in axis 1 direction                    \n",
       "POSTARG2=            -0.359250 / POSTARG in axis 2 direction                    \n",
       "                                                                                \n",
       "              / DIAGNOSTIC KEYWORDS                                             \n",
       "                                                                                \n",
       "PROCTIME=   5.968265254630E+04 / pipeline processing time (MJD)                 \n",
       "OPUS_VER= 'HSTDP 2022_1                ' / data processing software system versi\n",
       "AWSYSVER= 'v0.4.35 '           / cloud infrastructure package version           \n",
       "AWSDPVER= 'v0.2.18 '           / cloud docker image version                     \n",
       "CSYS_VER= 'caldp_20220406'     / calibration software system version id         \n",
       "CAL_VER = '10.3.5 (08-Feb-2022)' / CALACS code version                          \n",
       "                                                                                \n",
       "              / SCIENCE INSTRUMENT CONFIGURATION                                \n",
       "                                                                                \n",
       "OBSTYPE = 'IMAGING       '     / observation type - imaging or spectroscopic    \n",
       "OBSMODE = 'ACCUM     '         / operating mode                                 \n",
       "CTEIMAGE= 'NONE'               / type of Charge Transfer Image, if applicable   \n",
       "SCLAMP  = 'NONE          '     / lamp status, NONE or name of lamp which is on  \n",
       "NRPTEXP =                    1 / number of repeat exposures in set: default 1   \n",
       "SUBARRAY=                    F / data from a subarray (T) or full frame (F)     \n",
       "DETECTOR= 'SBC'                / detector in use: WFC, HRC, or SBC              \n",
       "FILTER1 = 'F150LP            ' / element selected from filter wheel 1           \n",
       "FILTER2 = 'N/A               ' / element selected from filter wheel 2           \n",
       "FW1OFFST=                    0 / computed filter wheel offset                   \n",
       "FW1ERROR=                    F / filter wheel position error flag               \n",
       "FW2OFFST=                    0 / computed filter wheel offset                   \n",
       "FW2ERROR=                    F / filter wheel position error flag               \n",
       "FWSOFFST=                    0 / computed filter wheel offset                   \n",
       "FWSERROR=                    F / filter wheel position error flag               \n",
       "LRFWAVE =             0.000000 / proposed linear ramp filter wavelength         \n",
       "APERTURE= 'SBC             '   / aperture name                                  \n",
       "PROPAPER= 'SBC             '   / proposed aperture name                         \n",
       "DIRIMAGE= 'NONE     '          / direct image for grism or prism exposure       \n",
       "                                                                                \n",
       "              / MAMA OFFSETS                                                    \n",
       "                                                                                \n",
       "MOFFSET1=                    0 / axis 1 MAMA offset (low-res pixels)            \n",
       "MOFFSET2=                    0 / axis 2 MAMA offset (low-res pixels)            \n",
       "                                                                                \n",
       "              / LOCAL RATE CHECK IMAGE                                          \n",
       "                                                                                \n",
       "LRC_XSTS=                    F / Local Rate check image exists (T/F)            \n",
       "LRC_FAIL=                    F / Local Rate Check Failed (T/F)                  \n",
       "                                                                                \n",
       "              / CALIBRATION SWITCHES: PERFORM, OMIT, COMPLETE                   \n",
       "                                                                                \n",
       "STATFLAG=                    F / Calculate statistics?                          \n",
       "WRTERR  =                    T / write out error array extension                \n",
       "DQICORR = 'COMPLETE'           / data quality initialization                    \n",
       "GLINCORR= 'COMPLETE'           / correct for global detector non-linearities    \n",
       "LFLGCORR= 'COMPLETE'           / flag pixels for local and global nonlinearities\n",
       "PCTECORR= 'OMIT    '           / cte correction                                 \n",
       "DARKCORR= 'OMIT    '           / Subtract dark image                            \n",
       "FLATCORR= 'COMPLETE'           / flat field data                                \n",
       "PHOTCORR= 'COMPLETE'           / populate photometric header keywords           \n",
       "RPTCORR = 'OMIT    '           / add individual repeat observations             \n",
       "DRIZCORR= 'PERFORM '           / drizzle processing                             \n",
       "                                                                                \n",
       "              / CALIBRATION REFERENCE FILES                                     \n",
       "                                                                                \n",
       "BPIXTAB = 'jref$u451251ej_bpx.fits' / bad pixel table                           \n",
       "MLINTAB = 'jref$k9c13374j_lin.fits' / MAMA linearity correction table           \n",
       "PCTETAB = 'N/A                    ' / CTE Correction Table                      \n",
       "DRKCFILE= 'N/A                    ' / De-trailed Dark Reference File            \n",
       "DARKFILE= 'N/A                    ' / dark image file name                      \n",
       "PFLTFILE= 'jref$36h2201jj_pfl.fits' / pixel to pixel flat field file name       \n",
       "DFLTFILE= 'N/A                    ' / delta flat field file name                \n",
       "LFLTFILE= 'N/A                    ' / low order flat                            \n",
       "PHOTTAB = 'N/A                    ' / Photometric throughput table              \n",
       "GRAPHTAB= 'N/A                    ' / the HST graph table                       \n",
       "COMPTAB = 'N/A                    ' / the HST components table                  \n",
       "IDCTAB  = 'jref$v6m2008mj_idc.fits' / image distortion correction table         \n",
       "DGEOFILE= 'jref$s5f20000j_dxy.fits' / Distortion correction image               \n",
       "MDRIZTAB= 'jref$ub215379j_mdz.fits' / MultiDrizzle parameter table              \n",
       "CFLTFILE= 'N/A                    ' / Coronagraphic spot image                  \n",
       "SPOTTAB = 'N/A                    ' / Coronagraphic spot offset table           \n",
       "IMPHTTAB= 'jref$64614292j_imp.fits' / Image Photometry Table                    \n",
       "D2IMFILE= 'N/A                    ' / Column Correction Reference File          \n",
       "NPOLFILE= 'jref$xc215013j_npl.fits' / Non-polynomial Offsets Reference File     \n",
       "                                                                                \n",
       "              / OTFR KEYWORDS                                                   \n",
       "                                                                                \n",
       "T_SGSTAR= '                  ' / OMS calculated guide star control              \n",
       "                                                                                \n",
       "              / PATTERN KEYWORDS                                                \n",
       "                                                                                \n",
       "PATTERN1= 'ACS-SBC-DITHER-BOX      ' / primary pattern type                     \n",
       "P1_SHAPE= 'PARALLELOGRAM     ' / primary pattern shape                          \n",
       "P1_PURPS= 'DITHER    '         / primary pattern purpose                        \n",
       "P1_NPTS =                    4 / number of points in primary pattern            \n",
       "P1_PSPAC=             0.894773 / point spacing for primary pattern (arc-sec)    \n",
       "P1_LSPAC=             0.587116 / line spacing for primary pattern (arc-sec)     \n",
       "P1_ANGLE=            64.478514 / angle between sides of parallelogram patt (deg)\n",
       "P1_FRAME= 'POS-TARG '          / coordinate frame of primary pattern            \n",
       "P1_ORINT=            20.151333 / orientation of pattern to coordinate frame (deg\n",
       "P1_CENTR= 'YES'                / center pattern relative to pointing (yes/no)   \n",
       "PATTSTEP=                    1 / position number of this point in the pattern   \n",
       "                                                                                \n",
       "              / ASSOCIATION KEYWORDS                                            \n",
       "                                                                                \n",
       "ASN_ID  = 'JEC401010 '         / unique identifier assigned to association      \n",
       "ASN_TAB = 'jec401010_asn.fits     ' / name of the association table             \n",
       "ASN_MTYP= 'EXP-DTH     '       / Role of the Member in the Association          \n",
       "CRDS_CTX= 'hst_1004.pmap'                                                       \n",
       "CRDS_VER= '11.9.0, b11.4.0, 64d96076d89b32a5687a6b77bb910ab93b3a99b3'           \n",
       "ATODTAB = 'N/A     '                                                            \n",
       "BIASFILE= 'N/A     '                                                            \n",
       "CCDTAB  = 'N/A     '                                                            \n",
       "CRREJTAB= 'N/A     '                                                            \n",
       "FLSHFILE= 'N/A     '                                                            \n",
       "OSCNTAB = 'N/A     '                                                            \n",
       "SATUFILE= 'N/A     '                                                            \n",
       "SHADFILE= 'N/A     '                                                            \n",
       "SNKCFILE= 'N/A     '                                                            \n",
       "DISTNAME= 'jec401noq_v6m2008mj-xc215013j-NOMODEL'                               \n",
       "SIPNAME = 'jec401noq_v6m2008mj'                                                 \n",
       "UPWCSVER= '1.7.2   '           / Version of STWCS used to updated the WCS       \n",
       "PYWCSVER= '5.0.2   '           / Version of PYWCS used to updated the WCS       \n",
       "HISTORY DQICORR complete ...                                                    \n",
       "HISTORY   DQ array initialized ...                                              \n",
       "HISTORY   reference table jref$u451251ej_bpx.fits                               \n",
       "HISTORY GLINCORR complete ...                                                   \n",
       "HISTORY LFLGCORR complete ...                                                   \n",
       "HISTORY   reference table jref$k9c13374j_lin.fits                               \n",
       "HISTORY     GROUND                                                              \n",
       "HISTORY     prepared by G. Meurer following STIS parameters of T. Danks         \n",
       "HISTORY Uncertainty array initialized.                                          \n",
       "HISTORY FLATCORR complete ...                                                   \n",
       "HISTORY   reference image jref$36h2201jj_pfl.fits                               \n",
       "HISTORY     INFLIGHT 27/05/2002 02/04/2019                                      \n",
       "HISTORY     Inflight SBC LP-Flat                                                \n",
       "HISTORY PHOTCORR complete ...                                                   \n",
       "HISTORY   reference table jref$64614292j_imp.fits                               "
      ]
     },
     "execution_count": 19,
     "metadata": {},
     "output_type": "execute_result"
    }
   ],
   "source": [
    "file1[0].header"
   ]
  },
  {
   "cell_type": "code",
   "execution_count": null,
   "id": "691de5bc",
   "metadata": {},
   "outputs": [],
   "source": []
  }
 ],
 "metadata": {
  "kernelspec": {
   "display_name": "Python 3 (ipykernel)",
   "language": "python",
   "name": "python3"
  },
  "language_info": {
   "codemirror_mode": {
    "name": "ipython",
    "version": 3
   },
   "file_extension": ".py",
   "mimetype": "text/x-python",
   "name": "python",
   "nbconvert_exporter": "python",
   "pygments_lexer": "ipython3",
   "version": "3.7.13"
  }
 },
 "nbformat": 4,
 "nbformat_minor": 5
}
