{
 "cells": [
  {
   "cell_type": "code",
   "execution_count": 1,
   "id": "a8e0a36f",
   "metadata": {},
   "outputs": [
    {
     "ename": "ModuleNotFoundError",
     "evalue": "No module named 'astroquery'",
     "output_type": "error",
     "traceback": [
      "\u001b[0;31m---------------------------------------------------------------------------\u001b[0m",
      "\u001b[0;31mModuleNotFoundError\u001b[0m                       Traceback (most recent call last)",
      "Input \u001b[0;32mIn [1]\u001b[0m, in \u001b[0;36m<cell line: 1>\u001b[0;34m()\u001b[0m\n\u001b[0;32m----> 1\u001b[0m \u001b[38;5;28;01mfrom\u001b[39;00m \u001b[38;5;21;01mastroquery\u001b[39;00m\u001b[38;5;21;01m.\u001b[39;00m\u001b[38;5;21;01mmast\u001b[39;00m \u001b[38;5;28;01mimport\u001b[39;00m Observations\n\u001b[1;32m      2\u001b[0m \u001b[38;5;28;01mfrom\u001b[39;00m \u001b[38;5;21;01mccdproc\u001b[39;00m \u001b[38;5;28;01mimport\u001b[39;00m ImageFileCollection\n\u001b[1;32m      3\u001b[0m \u001b[38;5;28;01mfrom\u001b[39;00m \u001b[38;5;21;01mastropy\u001b[39;00m\u001b[38;5;21;01m.\u001b[39;00m\u001b[38;5;21;01mtable\u001b[39;00m \u001b[38;5;28;01mimport\u001b[39;00m Table\n",
      "\u001b[0;31mModuleNotFoundError\u001b[0m: No module named 'astroquery'"
     ]
    }
   ],
   "source": [
    "from astroquery.mast import Observations\n",
    "from ccdproc import ImageFileCollection\n",
    "from astropy.table import Table\n",
    "from astropy.io import fits\n",
    "from astropy.io import ascii\n",
    "from astropy.visualization import ZScaleInterval\n",
    "from IPython.display import Image\n",
    "import glob\n",
    "import matplotlib.pyplot as plt\n",
    "import numpy as np\n",
    "import os\n",
    "import shutil\n",
    "from drizzlepac import tweakreg\n",
    "from drizzlepac import astrodrizzle"
   ]
  },
  {
   "cell_type": "code",
   "execution_count": 2,
   "id": "2efa0bf1",
   "metadata": {},
   "outputs": [
    {
     "ename": "NameError",
     "evalue": "name 'Observations' is not defined",
     "output_type": "error",
     "traceback": [
      "\u001b[0;31m---------------------------------------------------------------------------\u001b[0m",
      "\u001b[0;31mNameError\u001b[0m                                 Traceback (most recent call last)",
      "Input \u001b[0;32mIn [2]\u001b[0m, in \u001b[0;36m<cell line: 1>\u001b[0;34m()\u001b[0m\n\u001b[0;32m----> 1\u001b[0m science_list \u001b[38;5;241m=\u001b[39m \u001b[43mObservations\u001b[49m\u001b[38;5;241m.\u001b[39mquery_criteria(proposal_id\u001b[38;5;241m=\u001b[39m\u001b[38;5;124m'\u001b[39m\u001b[38;5;124m16231\u001b[39m\u001b[38;5;124m'\u001b[39m, filters\u001b[38;5;241m=\u001b[39m\u001b[38;5;124m'\u001b[39m\u001b[38;5;124mF150LP\u001b[39m\u001b[38;5;124m'\u001b[39m,obs_id\u001b[38;5;241m=\u001b[39m\u001b[38;5;124m'\u001b[39m\u001b[38;5;124mjec401*\u001b[39m\u001b[38;5;124m'\u001b[39m)\n\u001b[1;32m      2\u001b[0m Observations\u001b[38;5;241m.\u001b[39mdownload_products(science_list[\u001b[38;5;124m'\u001b[39m\u001b[38;5;124mobsid\u001b[39m\u001b[38;5;124m'\u001b[39m], mrp_only\u001b[38;5;241m=\u001b[39m\u001b[38;5;28;01mFalse\u001b[39;00m, download_dir\u001b[38;5;241m=\u001b[39m\u001b[38;5;124m'\u001b[39m\u001b[38;5;124m./science\u001b[39m\u001b[38;5;124m'\u001b[39m,\\\n\u001b[1;32m      3\u001b[0m                                productSubGroupDescription\u001b[38;5;241m=\u001b[39m[\u001b[38;5;124m'\u001b[39m\u001b[38;5;124mFLT\u001b[39m\u001b[38;5;124m'\u001b[39m])\n\u001b[1;32m      5\u001b[0m science_files \u001b[38;5;241m=\u001b[39m glob\u001b[38;5;241m.\u001b[39mglob(os\u001b[38;5;241m.\u001b[39mpath\u001b[38;5;241m.\u001b[39mjoin(os\u001b[38;5;241m.\u001b[39mcurdir, \u001b[38;5;124m'\u001b[39m\u001b[38;5;124mscience\u001b[39m\u001b[38;5;124m'\u001b[39m, \u001b[38;5;124m'\u001b[39m\u001b[38;5;124mmastDownload\u001b[39m\u001b[38;5;124m'\u001b[39m, \u001b[38;5;124m'\u001b[39m\u001b[38;5;124mHST\u001b[39m\u001b[38;5;124m'\u001b[39m, \u001b[38;5;124m'\u001b[39m\u001b[38;5;124m*\u001b[39m\u001b[38;5;124m'\u001b[39m, \u001b[38;5;124m'\u001b[39m\u001b[38;5;124m*fits\u001b[39m\u001b[38;5;124m'\u001b[39m))\n",
      "\u001b[0;31mNameError\u001b[0m: name 'Observations' is not defined"
     ]
    }
   ],
   "source": [
    "science_list = Observations.query_criteria(proposal_id='16231', filters='F150LP',obs_id='jec401*')\n",
    "Observations.download_products(science_list['obsid'], mrp_only=False, download_dir='./science',\\\n",
    "                               productSubGroupDescription=['FLT'])\n",
    "\n",
    "science_files = glob.glob(os.path.join(os.curdir, 'science', 'mastDownload', 'HST', '*', '*fits'))\n",
    "for im in science_files:\n",
    "    root = im.split('/')[-1]\n",
    "    os.rename(im, './' + root)\n",
    "shutil.rmtree('science/')"
   ]
  },
  {
   "cell_type": "code",
   "execution_count": null,
   "id": "08e75d39",
   "metadata": {},
   "outputs": [],
   "source": [
    "collect = ImageFileCollection('./', glob_include=\"*flt.fits\", ext=0,\n",
    "                                 keywords=[\"asn_id\", \"detector\", \"filter\", \"nsamp\",\n",
    "                                           \"exptime\", \"postarg1\", \"postarg2\"])\n",
    "\n",
    "table = collect.summary\n",
    "table['exptime'].format = '7.1f'\n",
    "table['postarg1'].format = '7.2f'\n",
    "table['postarg2'].format = '7.2f'\n",
    "table"
   ]
  }
 ],
 "metadata": {
  "kernelspec": {
   "display_name": "Python 3 (ipykernel)",
   "language": "python",
   "name": "python3"
  },
  "language_info": {
   "codemirror_mode": {
    "name": "ipython",
    "version": 3
   },
   "file_extension": ".py",
   "mimetype": "text/x-python",
   "name": "python",
   "nbconvert_exporter": "python",
   "pygments_lexer": "ipython3",
   "version": "3.9.12"
  }
 },
 "nbformat": 4,
 "nbformat_minor": 5
}
